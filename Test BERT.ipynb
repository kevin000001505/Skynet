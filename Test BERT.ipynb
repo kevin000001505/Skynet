{
 "cells": [
  {
   "cell_type": "code",
   "execution_count": 1,
   "id": "8648d378",
   "metadata": {},
   "outputs": [],
   "source": [
    "import pandas as pd\n",
    "from transformers import AutoTokenizer, AutoModelForSequenceClassification, Trainer, TrainingArguments\n",
    "from datasets import Dataset\n",
    "from sklearn.metrics import accuracy_score\n",
    "from sklearn.model_selection import train_test_split\n",
    "from peft import get_peft_model, LoraConfig, TaskType"
   ]
  },
  {
   "cell_type": "code",
   "execution_count": 2,
   "id": "ee5848c7",
   "metadata": {},
   "outputs": [
    {
     "data": {
      "application/vnd.microsoft.datawrangler.viewer.v0+json": {
       "columns": [
        {
         "name": "index",
         "rawType": "int64",
         "type": "integer"
        },
        {
         "name": "Unnamed: 0",
         "rawType": "int64",
         "type": "integer"
        },
        {
         "name": "text",
         "rawType": "object",
         "type": "string"
        },
        {
         "name": "label",
         "rawType": "int64",
         "type": "integer"
        },
        {
         "name": "preprocess_text",
         "rawType": "object",
         "type": "string"
        }
       ],
       "conversionMethod": "pd.DataFrame",
       "ref": "eeb13596-4773-45ef-9fff-15865ae983a3",
       "rows": [
        [
         "0",
         "6",
         "I sure would like to see a resurrection of a up dated Seahunt series with the tech they have today it would bring back the kid excitement in me.I grew up on black and white TV and Seahunt with Gunsmoke were my hero's every week.You have my vote for a comeback of a new sea hunt.We need a change of pace in TV and this would work for a world of under water adventure.Oh by the way thank you for an outlet like this to view many viewpoints about TV and the many movies.So any ole way I believe I've got what I wanna say.Would be nice to read some more plus points about sea hunt.If my rhymes would be 10 lines would you let me submit,or leave me out to be in doubt and have me to quit,If this is so then I must go so lets do it.",
         "2",
         "sure like resurrection date seahunt series tech today bring kid excitement grow black white tv seahunt gunsmoke hero week vote comeback new sea hunt need change pace tv work world water adventure oh way thank outlet like view viewpoint tv movie ole way believe get wanna nice read plus point sea hunt rhyme 10 line let submit leave doubt quit let"
        ],
        [
         "1",
         "7",
         "This show was an amazing, fresh & innovative idea in the 70's when it first aired. The first 7 or 8 years were brilliant, but things dropped off after that. By 1990, the show was not really funny anymore, and it's continued its decline further to the complete waste of time it is today.<br /><br />It's truly disgraceful how far this show has fallen. The writing is painfully bad, the performances are almost as bad - if not for the mildly entertaining respite of the guest-hosts, this show probably wouldn't still be on the air. I find it so hard to believe that the same creator that hand-selected the original cast also chose the band of hacks that followed. How can one recognize such brilliance and then see fit to replace it with such mediocrity? I felt I must give 2 stars out of respect for the original cast that made this show such a huge success. As it is now, the show is just awful. I can't believe it's still on the air.",
         "0",
         "amazing fresh innovative idea 70 air 7 8 year brilliant thing drop 1990 funny anymore continue decline complete waste time today.<br /><br />it truly disgraceful far fall writing painfully bad performance bad mildly entertaining respite guest host probably air find hard believe creator hand select original cast choose band hack follow recognize brilliance fit replace mediocrity feel 2 star respect original cast huge success awful believe air"
        ],
        [
         "2",
         "14",
         "This a fantastic movie of three prisoners who become famous. One of the actors is george clooney and I'm not a fan but this roll is not bad. Another good thing about the movie is the soundtrack (The man of constant sorrow). I recommand this movie to everybody. Greetings Bart",
         "2",
         "fantastic movie prisoner famous actor george clooney fan roll bad good thing movie soundtrack man constant sorrow recommand movie everybody greeting bart"
        ],
        [
         "3",
         "32",
         "My first exposure to the Templarios & not a good one. I was excited to find this title among the offerings from Anchor Bay Video, which has brought us other cult classics such as \"Spider Baby\". The print quality is excellent, but this alone can't hide the fact that the film is deadly dull. There's a thrilling opening sequence in which the villagers exact a terrible revenge on the Templars (& set the whole thing in motion), but everything else in the movie is slow, ponderous &, ultimately, unfulfilling. Adding insult to injury: the movie was dubbed, not subtitled, as promised on the video jacket.",
         "0",
         "exposure templarios good excited find title offering anchor bay video bring cult classic spider baby print quality excellent hide fact film deadly dull thrilling opening sequence villager exact terrible revenge templars set thing motion movie slow ponderous ultimately unfulfilling add insult injury movie dub subtitle promise video jacket"
        ],
        [
         "4",
         "43",
         "I had heard good things about \"States of Grace\" and came in with an open mind. I thought that \"God's Army\" was okay, and I thought that maybe Dutcher had improved and matured as a filmmaker. The film began with some shaky acting, and I thought, \"well, maybe it will get better.\" Unfortunately, it never did. The picture starts out by introducing two elders -- Mormon missionaries -- and it seems that the audience will get to know them and grow to care about them. Instead, the story degenerates into a highly improbable series of unfortunate events highlighting blatant disobedience by the missionaries (something that undeniably exists, but rarely on the level that Dutcher portrays) and it becomes almost laughable.<br /><br />Dutcher's only success in this movie is his successful alienation of his target audience. By unrealistically and inaccurately portraying the lives of Mormon missionaries, Dutcher accomplishes nothing more than angering his predominantly Mormon audience. The film in no way reflects reality. Missions are nothing like what Dutcher shows (having served a Mormon mission myself I can attest to this fact) and gang life in California certainly contains much more explicit language than the occasional mild vulgarity.<br /><br />The conclusion, which I'm assuming was supposed to touch the audience and inspire them to believe that forgiveness is available to all, was both unbelievable (c'mon, the entire mission gathers to see this elder sent home -- and the mom and the girl are standing right next to each other!) and cheesy. Next time, Dutcher, try making a movie that SOMEONE can identify with.",
         "0",
         "hear good thing states grace come open mind think god army okay think maybe dutcher improve mature filmmaker film begin shaky acting think maybe well unfortunately picture start introduce elder -- mormon missionary -- audience know grow care instead story degenerate highly improbable series unfortunate event highlight blatant disobedience missionary undeniably exist rarely level dutcher portray laughable.<br /><br />dutcher success movie successful alienation target audience unrealistically inaccurately portray life mormon missionary dutcher accomplish anger predominantly mormon audience film way reflect reality mission like dutcher show have serve mormon mission attest fact gang life california certainly contain explicit language occasional mild vulgarity.<br /><br />the conclusion assume suppose touch audience inspire believe forgiveness available unbelievable come entire mission gather elder send home -- mom girl stand right cheesy time dutcher try make movie identify"
        ],
        [
         "5",
         "52",
         "Bela Lugosi appeared in several of these low budget chillers for Monogram Studios in the 1940's and The Corpse Vanishes is one of the better ones.<br /><br />Bela plays a mad scientist who kidnaps young brides and kills them and then extracts fluid from their bodies so he can keep his ageing wife looking young. After a reporter and a doctor stay the night at his home and discover he is responsible for the brides' deaths, the following morning they report these murders to the police and the mad scientist is shot and drops dead shortly afterwards.<br /><br />You have got almost everything in this movie: the scientist's assistants consist of an old hag, a hunchback and dwarf (her sons), a thunderstorm and spooky passages in Bela's house. Bela and his wife find they sleep better in coffins rather than beds in the movie.<br /><br />The Corpse Vanishes is worth a look, especially for Bela Lugosi fans. Great fun.<br /><br />Rating: 3 stars out of 5.",
         "2",
         "bela lugosi appear low budget chiller monogram studios 1940 corpse vanishes well ones.<br /><br />bela play mad scientist kidnap young bride kill extract fluid body age wife look young reporter doctor stay night home discover responsible bride death follow morning report murder police mad scientist shoot drop dead shortly afterwards.<br /><br />you get movie scientist assistant consist old hag hunchback dwarf son thunderstorm spooky passage bela house bela wife find sleep well coffin bed movie.<br /><br />the corpse vanishes worth look especially bela lugosi fan great fun.<br /><br />rating 3 star 5"
        ],
        [
         "6",
         "53",
         "I cannot believe I enjoyed this as much as I did. The anthology stories were better than par, but the linking story and its surprise ending hooked me. Alot of familiar faces will keep you asking yourself \"where I have I seen them before?\" Forget the running time listed on New Line's tape, this ain't no 103 minutes, according to my VCR timer and IMDB. Space Maggot douses the campfire in his own special way and hikes this an 8.",
         "2",
         "believe enjoy anthology story well par link story surprise end hook alot familiar face ask see forget running time list new line tape be 103 minute accord vcr timer imdb space maggot douse campfire special way hike 8"
        ],
        [
         "7",
         "54",
         "The 33 percent of the nations nitwits that still support W. Bush would do well to see this movie, which shows the aftermath of the French revolution and the terror of 1794 as strikingly similar to the post 9/11 socio-political landscape. Maybe then they could stop worrying about saving face and take the a**-whupping they deserve. It's really a shame that when a politician ruins the country, those who voted for him can't be denied the right to ever vote again. They've clearly shown they have no sense of character.<br /><br />What really stands out in this movie is the ambiguity of a character as hopelessly doctrinaire as Robespierre; a haunted empty man who simplistic reductive ideology can't help him elucidate the boundaries between safety and totalitarianism. Execution and murder. Self-defense and patriotism. His legalistic litmus tests aggravate the hopeless situation he's helped create. Sound like any belligerent, overprivileged, retarded Yale cheerleaders you know of? <br /><br />Wojciech Pszoniak blows the slovenly Deparidieu off the screen. As sympathetic as Robespierres plight is, it's comforting to know that shortly after the film ends he'll have his jaw shot off and be sent to the guillotine.",
         "0",
         "33 percent nation nitwit support w. bush movie show aftermath french revolution terror 1794 strikingly similar post 9/11 socio political landscape maybe stop worry save face a**-whupping deserve shame politician ruin country vote deny right vote clearly show sense character.<br /><br />what stand movie ambiguity character hopelessly doctrinaire robespierre haunted man simplistic reductive ideology help elucidate boundary safety totalitarianism execution murder self defense patriotism legalistic litmus test aggravate hopeless situation help create sound like belligerent overprivilege retarded yale cheerleader know br /><br />wojciech pszoniak blow slovenly deparidieu screen sympathetic robespierres plight comfort know shortly film end jaw shot send guillotine"
        ],
        [
         "8",
         "58",
         "NO SPOILERS!!<br /><br />After Hitchcock's successful first American film, Rebecca based upon Daphne DuMarier's lush novel of gothic romance and intrigue, he returned to some of the more familiar themes of his early British period - mistaken identity and espionage. As the U.S. settled into World War II and the large scale 'war effort' of civilians building planes, weaponry and other necessary militia, the booming film entertainment business began turning out paranoid and often jingoistic thrillers with war time themes. These thrillers often involved networks of deceptive and skilled operators at work in the shadows among the good, law abiding citizens. Knowing the director was at home in this espionage genre, producer Jack Skirball approached Hitchcock about directing a property he owned that dealt with corruption, war-time sabotage and a helpless hero thrust into a vortex of coincidence and mistaken identity. The darker elements of the narrative and the sharp wit of literary maven Dorothy Parker (during her brief stint in Hollywood before returning to her bohemian roots in NYC) who co-authored the script were a perfect match for Hitchcock's sensibilities.<br /><br />This often neglected film tells the story of the unfortunate 25 year old Barry Kane (Robert Cummings) who, while at work at a Los Angeles Airplane Factory, meets new employee Frank Frye (Norman Lloydd) and moments later is framed for committing sabotage. Fleeing the authorities who don't believe his far-fetched story he meets several characters on his way to Soda City Utah and finally New York City. These memorable characters include a circus caravan with a car full of helpful 'freaks' and a popular billboard model Patricia Martin (Priscilla Lane) who, during the worst crisis of his life as well as national security, he falls madly in love with! Of course in the land of Hitchcock, Patricia, kidnapped by the supposed saboteur Barry, falls for her captor thus adding romantic tension to the mix.<br /><br />In good form for this outing, Hitchcock brews a national network of demure old ladies, average Joes, and respectable businessmen who double as secret agent terrorists that harbor criminals, pull guns and detonate bombs to keep things moving. It's a terrific plot that takes its time moving forward and once ignited, culminates in one of Hitchcock's more memorable finales. Look for incredibly life like NYC tourist attractions (all of which were recreated by art directors in Hollywood due to the war-time 'shooting ban' on public attractions). While Saboteur may not be one of Hitchcock's most well known films, it's a popular b-movie that is certainly solid and engaging with plenty of clever plot twists and as usual - terrific Hitchcock villains. Remember to look for Hitchcock's cameo appearance outside a drug store in the second half of the film. Hitchcock's original cameo idea that was shot (him fighting in sign language with his 'deaf' wife) was axed by the Bureau of Standards and Practices who were afraid of offending the deaf!",
         "2",
         "spoilers!!<br /><br />after hitchcock successful american film rebecca base daphne dumarier lush novel gothic romance intrigue return familiar theme early british period mistaken identity espionage u.s. settle world war ii large scale war effort civilian build plane weaponry necessary militia booming film entertainment business begin turn paranoid jingoistic thriller war time theme thriller involve network deceptive skilled operator work shadow good law abide citizen know director home espionage genre producer jack skirball approach hitchcock direct property own deal corruption war time sabotage helpless hero thrust vortex coincidence mistaken identity dark element narrative sharp wit literary maven dorothy parker brief stint hollywood return bohemian root nyc co author script perfect match hitchcock sensibilities.<br /><br />this neglect film tell story unfortunate 25 year old barry kane robert cummings work los angeles airplane factory meet new employee frank frye norman lloydd moment later frame commit sabotage flee authority believe far fetched story meet character way soda city utah finally new york city memorable character include circus caravan car helpful freak popular billboard model patricia martin priscilla lane bad crisis life national security fall madly love course land hitchcock patricia kidnap suppose saboteur barry fall captor add romantic tension mix.<br /><br />in good form outing hitchcock brew national network demure old lady average joes respectable businessman double secret agent terrorist harbor criminal pull gun detonate bomb thing move terrific plot take time move forward ignite culminate hitchcock memorable finale look incredibly life like nyc tourist attraction recreate art director hollywood war time shooting ban public attraction saboteur hitchcock know film popular b movie certainly solid engage plenty clever plot twist usual terrific hitchcock villain remember look hitchcock cameo appearance outside drug store second half film hitchcock original cameo idea shoot fight sign language deaf wife axe bureau standards practices afraid offend deaf"
        ],
        [
         "9",
         "63",
         "Besides being boring, the scenes were oppressive and dark. The movie tried to portray some kind of moral, but fell flat with its message. What were the redeeming qualities?? On top of that, I don't think it could make librarians look any more unglamorous than it did.",
         "0",
         "boring scene oppressive dark movie try portray kind moral fall flat message redeem quality think librarian look unglamorous"
        ],
        [
         "10",
         "76",
         "The Last Hard Men finds James Coburn an outlaw doing a long sentence breaking free from a chain gang. Do he and his friends head for the Mexican border from jail and safety. No they don't because Coburn has a mission of revenge. To kill the peace officer who brought him in and in the process killed his woman.<br /><br />That peace officer is Charlton Heston who is now retired and he knows what Coburn is after. As he explains it to his daughter, Barbara Hershey, Coburn was holed up in a shack and was involved in a Waco like standoff. His Indian woman was killed in the hail of bullets fired. It's not something he's proud of, she was a collateral casualty in a manhunt.<br /><br />Lest we feel sorry for Coburn he lets us know full well what an evil man he truly is. Heston is his usual stalwart hero, but the acting honors in The Last Hard Men go to James Coburn. He blows everyone else off the screen when he's on. <br /><br />Coburn gets the bright idea of making sure Heston trails him by kidnapping Hershey and taking her to an Indian reservation where the white authorities can't touch him. He knows that Heston has to make it personal then.<br /><br />Coburn's gang includes, Morgan Paull, Thalmus Rasulala, John Quade, Larry Wilcox, and Jorge Rivero. Heston has Chris Mitchum along who is his son-in-law to be.<br /><br />The Last Hard Men is one nasty and brutal western. Andrew McLaglen directed it and I'm thinking it may have been a project originally intended for Sam Peckinpaugh. It sure shows a lot of his influence with the liberal use of slow motion to accentuate the violence. Of which there is a lot. <br /><br />For a little Peckinpaugh lite, The Last Hard Men is your film.",
         "2",
         "hard men find james coburn outlaw long sentence break free chain gang friend head mexican border jail safety coburn mission revenge kill peace officer bring process kill woman.<br /><br />that peace officer charlton heston retire know coburn explain daughter barbara hershey coburn hole shack involve waco like standoff indian woman kill hail bullet fire proud collateral casualty manhunt.<br /><br />lest feel sorry coburn let know evil man truly heston usual stalwart hero act honor hard men james coburn blow screen br /><br />coburn get bright idea make sure heston trail kidnap hershey take indian reservation white authority touch know heston personal then.<br /><br />coburn gang include morgan paull thalmus rasulala john quade larry wilcox jorge rivero heston chris mitchum son law be.<br /><br />the hard men nasty brutal western andrew mclaglen direct think project originally intend sam peckinpaugh sure show lot influence liberal use slow motion accentuate violence lot br /><br />for little peckinpaugh lite hard men film"
        ],
        [
         "11",
         "94",
         "I watched this series out of curiosity,wanting to see if they could possibly and with ALL this modern technology,out do Cecil B. DeMille's classic epic of 1956, starring Charleton Heston,Yul Brenner and Sir Cedric Hardwicke. Of course, I was let down. Yes, they had all the Biblical characters correct, but they didn't give us any of the spectacular theatrical scenes, that held your interest throughout the first movie. If you going to have a mini-series, you have to have some \"rivoting\" scenes, the \"Burning bush\", Parting the \"RED Sea\",drowning \"Pharohs Armies\", \"building Sethi's Pyramids\", could have been done with todays' technology on the scale of blockbuster movies such as \"Lord of the Rings\" or the Matrix. Obviously, they didn't want to leave a LASTING impression of \"faith and sacrifice\", which is much needed in these trouble times.",
         "0",
         "watch series curiosity want possibly modern technology cecil b. demille classic epic 1956 star charleton heston yul brenner sir cedric hardwicke course let yes biblical character correct spectacular theatrical scene hold interest movie go mini series rivote scene burn bush part red sea\",drowne pharohs armies build sethi pyramid today technology scale blockbuster movie lord rings matrix obviously want leave lasting impression faith sacrifice need trouble time"
        ],
        [
         "12",
         "100",
         "This short film that inspired the soon-to-be full length feature - Spatula Madness - is a hilarious piece that contends against similar cartoons yielding multiple writers. The short film stars Edward the Spatula who after being fired from his job, joins in the fight against the evil spoons. This premise allows for some funny content near the beginning, but is barely present for the remainder of the feature. This film's 15-minute running time is absorbed by some odd-ball comedy and a small musical number. Unfortunately not much else lies below it. The plot that is set up doesn't really have time to show. But it's surely follows it plot better than many high-budget Hollywood films. This film is worth watching at least a few times. Take it for what it is, and don't expect a deep story.",
         "2",
         "short film inspire soon length feature spatula madness hilarious piece contend similar cartoon yield multiple writer short film star edward spatula fire job join fight evil spoon premise allow funny content near beginning barely present remainder feature film 15 minute running time absorb odd ball comedy small musical number unfortunately lie plot set time surely follow plot well high budget hollywood film film worth watch time expect deep story"
        ],
        [
         "13",
         "111",
         "I liked Boyle's performance, but that's about the only positive thing I can say. Everything was overdone to the point of absurdity. Most of the actors spoke like you would expect your 9-year-old nephew to speak if he were pretending to be a jaded, stone-hearted cop, or an ultra-evil villain. The raspy voice-overs seemed amateurish to me. I could go buy a cheap synthesizer and crank out better opening music. And what's with the whole 1984ish police torture stuff? It was totally superfluous and had nothing to do with the actual events of the story. Cox added a lot of things, in fact, that he apparently thought would be really cool, but had nothing to do with the story. That's a big disappointment because one of the things that makes Borges' stories so good is his minimalism -- they are tightly bound, with no superfluous details. This movie is just the opposite. I stopped watching after the scene where Lonnrot is questioning the guy from the Yidische Zaitung, or thereabouts. I wasted $4 renting this, but at least I can get some satisfaction from writing this review and hopefully saving others from making the same mistake.",
         "0",
         "like boyle performance positive thing overdone point absurdity actor speak like expect 9 year old nephew speak pretend jade stone hearted cop ultra evil villain raspy voice over amateurish buy cheap synthesizer crank well opening music 1984ish police torture stuff totally superfluous actual event story cox add lot thing fact apparently think cool story big disappointment thing make borge story good minimalism -- tightly bind superfluous detail movie opposite stop watch scene lonnrot question guy yidische zaitung thereabout waste 4 rent satisfaction write review hopefully save make mistake"
        ],
        [
         "14",
         "112",
         "It's terrific when a funny movie doesn't make smile you. What a pity!! This film is very boring and so long. It's simply painfull. The story is staggering without goal and no fun.<br /><br />You feel better when it's finished.",
         "0",
         "terrific funny movie smile pity film boring long simply painfull story staggering goal fun.<br /><br />you feel well finish"
        ],
        [
         "15",
         "117",
         "Usually I'm a bit of a fan of the bad eighties & early nineties film featuring now has beens...but this film is so incredibly terrible that it was a real endurance test to sit through. Guys dressing up as girls has been done to death - but never so pathetically. Corey Haim's performance was abysmal as usual, Nicole Eggert was not much better. This has no redeeming qualities, even if you are a number #1 fan of an actor/actress in this piece of trash - stay away!",
         "0",
         "usually bit fan bad eighty early ninety film feature been ... film incredibly terrible real endurance test sit guy dress girl death pathetically corey haim performance abysmal usual nicole eggert well redeem quality number 1 fan actor actress piece trash stay away"
        ],
        [
         "16",
         "122",
         "\"A bored television director is introduced to the black arts and astral projection by his girlfriend. Learning the ability to separate his spirit from his body, the man finds a renewed interest in his life and a sense of wellbeing. Unfortunately, the man discovers while he is sleeping, his spirit leaves his body and his uncontrolled body roams the streets in a murderous rampage,\" according to the DVD sleeve's synopsis.<br /><br />The synopsis isn't entirely correct, as it turns out.<br /><br />Anyway, the movie opens with a dizzying \"out-of-body\" example of handsome director Winston Rekert (as Paul Sharpe)'s newly discovered \"astral body\" experience; it also foreshadows an upcoming dogfight. Young Andrew Bednarski (as Matthew Sharpe), being a kid, draws pictures of \"The Blue Man\", as his murder spree begins. Handsome detective John Novak (as Stewart Kaufman) discovers the victims are connected to Mr. Rekert. Mr. Novak's investigation leads to the supernatural; a prime example of which is Karen Black (as Janus), with whom Rekert fears he is falling in love.<br /><br />Several in the cast perform well; but, \"The Blue Man\" winds up tying itself up in a knot. Aka \"Eternal Evil\", its unsatisfying story tries to be far too clever for its own good.",
         "0",
         "bored television director introduce black art astral projection girlfriend learn ability separate spirit body man find renew interest life sense wellbee unfortunately man discover sleep spirit leave body uncontrolled body roam street murderous rampage accord dvd sleeve synopsis.<br /><br />the synopsis entirely correct turn out.<br /><br />anyway movie open dizzying body example handsome director winston rekert paul sharpe newly discover astral body experience foreshadow upcoming dogfight young andrew bednarski matthew sharpe kid draw picture blue man murder spree begin handsome detective john novak stewart kaufman discover victim connect mr. rekert mr. novak investigation lead supernatural prime example karen black janus rekert fear fall love.<br /><br />several cast perform blue man wind tie knot aka eternal evil unsatisfying story try far clever good"
        ],
        [
         "17",
         "123",
         "Ah yes the 1980s , a time of Reaganomics and Sly , Chuck and a host of other action stars hiding in a remote jungle blowing away commies . At the time I couldn`t believe how movies like RAMBO , MISSING IN ACTION and UNCOMMON VALOR ( And who can forget the ridiculous RED DAWN ? ) made money at the box office , they`re turgid action crap fests with a rather off putting right wing agenda and they have dated very badly . TROMA`S WAR is a tongue in cheek take on these type of movies but you`ve got to ask yourself did they need spoofing in the first place ? Of course not . TROMA`S WAR lacks any sort of sophistication - though it does make the point that there`s no real difference between right wing tyrants and left wing ones - and sometimes feels more like a grade z movie than a send up . Maybe it is ?",
         "0",
         "ah yes 1980 time reaganomics sly chuck host action star hide remote jungle blow away commie time couldn`t believe movie like rambo miss action uncommon valor forget ridiculous red dawn money box office they`re turgid action crap fest put right wing agenda date badly troma`s war tongue cheek type movie you`ve get ask need spoof place course troma`s war lack sort sophistication point there` real difference right wing tyrant leave wing one feel like grade z movie send maybe"
        ],
        [
         "18",
         "127",
         "The complaints are valid, to me the biggest problem is that this soap opera is too aimed for women. I am okay with these night time soaps, like Grey's Anatomy, or Ugly Betty, or West Wing, because there are stories that are interesting even with the given that they will never end. However, when the idea parallels the daytime soaps aimed at just putting hunky men (Taye Diggs, Tim Daly, and Chris Lowell) into sexual tension and romps, and numerous ridiculous difficult situations in a so-called little hospital, it seems like General Hospital...or a female counterpart to Baywatch. That was what men wanted and they had it, so if this is what women want so be it, but the idea that this is a high brow show (or something men will watch) is unrealistic.",
         "0",
         "complaint valid big problem soap opera aim woman okay night time soap like grey anatomy ugly betty west wing story interesting give end idea parallel daytime soap aim put hunky man taye diggs tim daly chris lowell sexual tension romp numerous ridiculous difficult situation call little hospital like general hospital ... female counterpart baywatch man want woman want idea high brow man watch unrealistic"
        ],
        [
         "19",
         "143",
         "This cute animated short features two comic icons - Betty Boop and Henry.<br /><br />Henry is the bald, slightly portly boy from the comics who never speaks.<br /><br />Well here he does speak!<br /><br />He wants to get a puppy from Betty Boop's pet store, and when he is left to mind the store - some hilarious hijinks ensue.<br /><br />Betty sings a song about pets, Henry gets in a battle with birds and a monkey, but everything works out in the end.",
         "2",
         "cute animate short feature comic icon betty boop henry.<br /><br />henry bald slightly portly boy comic_strip speaks.<br /><br />well speak!<br /><br />he want puppy betty boop pet store leave mind store hilarious hijink ensue.<br /><br />betty sing song pet henry get battle bird monkey work end"
        ],
        [
         "20",
         "148",
         "This movie was not very well directed. they almost totally disregarded the book.I guess they were trying 2 save time. the only upside 2 me was that the actor who played finny was cute. Some of the dialog between the main characters appeared a little gay which was not the case in the book. Major parts of the book were once again chopped out.You lost the over all effect it was not as haunting as the book and left me lacking severely. Also the strong language although it was brief was very unnecessary. Also i was surprised ( not pleasantly) by a new character that was no where in the book.One of my favorite characters (leper) was poorly interpreted and portrayed. He seemed more sinister in the movie than the real leper was in the book. Over all disappointing.",
         "0",
         "movie direct totally disregard book guess try 2 save time upside 2 actor play finny cute dialog main character appear little gay case book major part book chop lose effect haunt book leave lack severely strong language brief unnecessary surprised pleasantly new character book favorite character leper poorly interpret portray sinister movie real leper book disappointing"
        ],
        [
         "21",
         "151",
         "This movie is a perfect adaptation of the English Flick Unfaithful. Ashmit plays the role of Richard Gere, Emran that of Olivier and Malikka the perfect cheating wife role of Lane.They have changed the second half of the film to adapt for the Indian masses. <br /><br />Even then the movie has got the full traces of Unfaithful, though it couldn't catch up with the original. It was a cheap soft porn of the Bollywood lovers, where Mallika showed a lot more skin than anyone dared to show. Emran did more roles like this and was even nicknamed the serial killer. In the future if the Indian Directors plan to remake a English movie then they have to look into the feasibility of the plot with the Indian Censors. Though the film bombed at the box office, the actors got the undue recognition. In future the directors should be a little more careful in remaking a Oscar nominated film. <br /><br />All said, this is not a family film, so take the extra caution while watching it at home with family.",
         "0",
         "movie perfect adaptation english flick unfaithful ashmit play role richard gere emran olivier malikka perfect cheat wife role lane change second half film adapt indian masse br /><br />even movie get trace unfaithful catch original cheap soft porn bollywood lover mallika show lot skin dare emran role like nickname serial killer future indian directors plan remake english movie look feasibility plot indian censors film bomb box office actor get undue recognition future director little careful remake oscar nominate film br /><br />all say family film extra caution watch home family"
        ],
        [
         "22",
         "155",
         "In the standard view, this is a purely awful movie. However, it rates a near perfect score on the unintentional comedy scale. I can think of few actual comedies that make me laugh as hard as I did watching this movie. Andy Griffith's ghost dressed in Native American garb dancing sends me into hysterics everytime. I wouldn't waste the gas or energy driving to the video store to rent it, but if you happen to be laying on the couch at 3 in the morning and it comes on TV, check it out.",
         "0",
         "standard view purely awful movie rate near perfect score unintentional comedy scale think actual comedy laugh hard watch movie andy griffith ghost dress native american garb dancing send hysteric everytime waste gas energy drive video store rent happen lay couch 3 morning come tv check"
        ],
        [
         "23",
         "158",
         "The story is very trustworthy and powerful. The technical side of the movie is quite fine.. even the directing of it. The main problem is with the castings, that turned that movie into almost another local and regular cliché with a great lack of impact and even greater lack of impression. Beside the small role of the father, Rafael (played impressively by Asi Dayan), all other actors were unfortunately not in their best. The role of the elder Blind girl, played by Taly Sharon, was fresh but without any intensity as the leading role. therefore the figure she acted had become mild and low profile. There were moments and episodes that looked more like a rehearsal then a real movie. But after all it's a good point to begin from and to make big improvements in the future.",
         "0",
         "story trustworthy powerful technical movie fine .. directing main problem casting turn movie local regular cliché great lack impact great lack impression small role father rafael play impressively asi dayan actor unfortunately good role eld blind girl play taly sharon fresh intensity lead role figure act mild low profile moment episode look like rehearsal real movie good point begin big improvement future"
        ],
        [
         "24",
         "166",
         "Originally I was a Tenacious D fan of their first album and naturally listened to a few tracks off The P.O.D. and was rather disappointed. After watching the movie, my view was changed. The movie is pretty funny from beginning to the end and found my self engaged in it even though it was really was a stupid storyline because of the attitudes that KG and Jaybles portray in the movie. <br /><br />Much more entertaining and enjoyable than movies I have seen in the theaters lately. ex. Saw III (dull and dragging), Casino Royale (way to homo-erotic) which in prior installments I have really enjoyed <br /><br />If you enjoyed Borat, you will enjoy the tale of The Greatest Band on Earth",
         "2",
         "originally tenacious d fan album naturally listen track p.o.d. disappointed watch movie view change movie pretty funny begin end find self engage stupid storyline attitude kg jaybles portray movie br /><br />much entertaining enjoyable movie see theater lately ex see iii dull dragging casino royale way homo erotic prior installment enjoy br /><br />if enjoy borat enjoy tale greatest band earth"
        ],
        [
         "25",
         "167",
         "This is just one more of those hideous films that you find on Lifetime TV which portray the abhorrent behavior of some disgusting woman in an empathetic manner. Along with other such nasty films as \"The Burning Bed,\" \"Enough,\" or \"Monster,\" this film takes a disgusting criminal and attempts to show the viewer why she's not such a bad person after all. Give us a break! Here's my question to the filmmakers: If LeTourneau were a man, and Vili were a 12 year old girl, would you have made a picture sympathizing and empathizing with this person? Answer: Hell no.<br /><br />Imagine switching the genders in this film, and then you'll see just why myself and others here consider this a worthless piece of garbage. Were the genders switched, there would be no attempt to empathize with the criminal. Instead, we'd likely be treated to a portrayal of a monstrous and hideous man preying upon a young girl, his lascivious behavior landing him in prison, and his brainwashed victim suffering from Stockholm Syndrome. The only reason LeTourneau does not receive the same treatment in this film is by virtue of her sex.<br /><br />Let's call a spade a spade. LeTourneau is a pedophile. Plain and simple. No ifs, ands or buts. She's a criminal who belongs in prison, and deserves our derision and contempt, but certainly not our pity or empathy.",
         "0",
         "hideous film find lifetime tv portray abhorrent behavior disgusting woman empathetic manner nasty film burning bed monster film take disgusting criminal attempt viewer bad person break question filmmaker letourneau man vili 12 year old girl picture sympathize empathize person answer hell no.<br /><br />imagine switch gender film consider worthless piece garbage gender switch attempt empathize criminal instead likely treat portrayal monstrous hideous man preying young girl lascivious behavior land prison brainwash victim suffer stockholm syndrome reason letourneau receive treatment film virtue sex.<br /><br />let spade spade letourneau pedophile plain simple ifs and but criminal belong prison deserve derision contempt certainly pity empathy"
        ],
        [
         "26",
         "170",
         "I can't emphasize it enough, do *NOT* get this movie for the kids.<br /><br />For that matter, you'd best spare the adults from it as well.<br /><br />All right, perhaps I'm overexaggerating a little. This isn't the worst kids' movie... no, let me rephrase that. This isn't the worst movie made by dissilusioned adults FOR dissilusioned adults and somehow marketed towards kids (that would be \"Jack\", which I've been meaning to review / gut like a fish).<br /><br />Adults won't learn anything surprising (well, if you must, fast-forward to just before the end credits for a Educational Bit about an Interesting Cosmic Phenominon). We don't usually end up doing as adults what we wanted to do as kids as reality tends to get in the way. Well, duh, I could have told you that (so can four years of college at an art school, but I degress).<br /><br />I have no idea what the heck kids could possibly get out of this movie. Most likely it will only upset them (we get to watch the moment when Russ was traumatized at eight years old). There's a better movie, \"Kiki's Delivery Service\", that has essentially the same message but handles it litely instead of drilling it into your head. And the adults will like it too!<br /><br />By the way, there is a moment in the movie made with amature MST3K-ers in mind, if they think of that OTHER Bruce Willis movie with a sad little kid in it.",
         "0",
         "emphasize movie kids.<br /><br />for matter well spare adult well.<br /><br />all right overexaggerate little bad kid movie ... let rephrase bad movie dissilusioned adult dissilusione adult market kid jack mean review gut like fish).<br /><br />adult will learn surprising fast forward end credit educational bit interesting cosmic phenominon usually end adult want kid reality tend way duh tell year college art school degress).<br /><br />i idea heck kid possibly movie likely upset watch moment russ traumatize year old well movie kiki delivery service essentially message handle litely instead drill head adult like too!<br /><br />by way moment movie amature mst3k ers mind think bruce willis movie sad little kid"
        ],
        [
         "27",
         "175",
         "Why can't a movie be rated a zero? Or even a negative number? Some movies such as \"Plan Nine From Outer Space\" are so bad they're fun to watch. THIS IS NOT ONE. \"The Dungeon of Horror\" might be the worst movie I've ever seen (some of anyway. I HAD to fast forward through a lot of it!). Fortunately for the indiscretions of my youth and senility of my advancing age, there may be worse movies I've seen, but thankfully, I can't remember them. The sets appeared to be made with cardboard and finished with cans of spray paint. The special effects looked like a fifth grader's C+ diorama set in a shoebox. The movie contained unforgivable gaffs such as when the Marquis shoots and kills his servant. He then immediately gets into a scuffle with his escaping victim, who takes his flintlock and shoots him with it, without the gun having been reloaded! This movie was so bad my DVD copy only had name credits. I guess no company or studio wanted to be incriminated. Though I guess when you film in your garage and make sets out of cardboard boxes a studio isn't needed. This movie definitely ranks in my cellar of all time worst movies with such horrible sacrileges as \"The Manipulator\", the worst movie I have ever seen with an actual (one time) Hollywood leading man-Mickey Rooney. The only time I would recommend watching \"The Dungeon of Harrow\" (or \"The Manipulator\" for that matter) would be if someone were to pay you. (I'm kind of cheap) I'd have to have $7 or $8 bucks for \"Dungeon\" and at least ten for \"Manipulator\". phil-the never out of the can cinematographer",
         "0",
         "movie rate zero negative number movie plan outer space bad fun watch dungeon horror bad movie see fast forward lot fortunately indiscretion youth senility advance age bad movie see thankfully remember set appear cardboard finish can spray paint special effect look like fifth grader c+ diorama set shoebox movie contain unforgivable gaff marquis shoot kill servant immediately get scuffle escape victim take flintlock shoot gun have reload movie bad dvd copy credit guess company studio want incriminate guess film garage set cardboard box studio need movie definitely rank cellar time bad movie horrible sacrilege manipulator bad movie see actual time hollywood lead man mickey rooney time recommend watch dungeon harrow manipulator matter pay kind cheap 7 8 buck dungeon manipulator phil cinematographer"
        ],
        [
         "28",
         "184",
         "A very ordinary made-for-tv product, \"Tyson\" attempts to be a serious biopic while stretching the moments of angst for effect, fast forwarding through the esoterics of the corrupt sport of boxing, and muddling the sensationalistic stuff which is the only thing which makes Tyson even remotely interesting. A lukewarm watch at best which more likely to appeal to the general public than to boxing fans.",
         "0",
         "ordinary tv product tyson attempt biopic stretch moment angst effect fast forwarding esoteric corrupt sport boxing muddle sensationalistic stuff thing make tyson remotely interesting lukewarm watch well likely appeal general public box fan"
        ],
        [
         "29",
         "195",
         "Phantasm ....Class. Phantasm II.....awesome. Phantasm III.....erm.....terrible.<br /><br />Even though i would love to stick up for this film, i quite simply can't. The movie seems to have \"sold out\". First bad signs come when the video has trailers for other films at the start (something the others did not). Also too many pointless characters, prime examples the kid (who is a crack shot, funny initially but soon you want him dead), the woman who uses karate to fight off the balls (erm not gonna work, or rather shouldn't) and the blooming zombies (what the hell are they doing there, there no link to them in the other Phatasms). Also there is a severe lack of midgets running about.<br /><br />The only good bits are the cracking start and, of course, Reggie B.<br /><br />(Possible SPOILER coming Up)<br /><br />To me this film seems like a filler between II and IV as extra characters just leave at the end so can continue with main 4 in IV.<br /><br />Overall very, VERY disappointing. 3 / 10",
         "0",
         "phantasm .... class phantasm ii ..... awesome phantasm iii ..... erm ..... terrible.<br /><br />even love stick film simply movie sell bad sign come video trailer film start pointless character prime example kid crack shot funny initially soon want dead woman use karate fight ball erm go to work bloom zombie hell link phatasms severe lack midget run about.<br /><br />the good bit crack start course reggie b.<br /><br />(possible spoiler come up)<br /><br />to film like filler ii iv extra character leave end continue main 4 iv.<br /><br />overall disappointing 3 10"
        ],
        [
         "30",
         "196",
         "Ludicrous. Angelic 9-year-old Annakin turns into whiny brat 19-year-old Annakin, who somehow seems appealing to Amidala, 5 years his senior. Now 22-year-old Jedi warrior hero Annakin has a couple of bad dreams, and so takes to slaughtering children, his friends, and the entire framework of his existence because a crazy old man convinced him a) his precious wife might really die, and b) only he can prevent this. Ludicrosity squared.<br /><br />I think the people who like this movie are not paying attention. The story is ridiculous. The characters are unbelievable (literally, not the perverted sense of \"fantastic\", \"wonderful\", etc.).<br /><br />Obi-wan Kenobi was the wise and kind anchor for the entire series, but in the climax, he hacks off Annakin's legs, lets him burn in the lava, and leaves him to suffer. Doesn't anyone think that's a little out of character? Not to mention it was pretty stupid to take a chance on him living, as it turns out.<br /><br />I was expecting at least a story that showed consistent characters with plausible motivations. None of that here. The story could have been written by a 10 year old.<br /><br />Oh yeah, the CGI is pretty cool.",
         "0",
         "ludicrous angelic 9 year old annakin turn whiny brat 19 year old annakin appeal amidala 5 year senior 22 year old jedi warrior hero annakin couple bad dream take slaughter child friend entire framework existence crazy old man convince precious wife die b prevent ludicrosity squared.<br /><br />i think people like movie pay attention story ridiculous character unbelievable literally perverted sense fantastic wonderful etc.).<br /><br />obi wan kenobi wise kind anchor entire series climax hack annakin leg let burn lava leave suffer think little character mention pretty stupid chance live turn out.<br /><br />i expect story show consistent character plausible motivation story write 10 year old.<br /><br />oh yeah cgi pretty cool"
        ],
        [
         "31",
         "212",
         "I strongly dislike this show. I mean, like, basically everyone at that school is perfect, and rich, and I doubt a boarding school would look as cool as that. And why do they suddenly allow girls into the school? Isn't that just a little weird? anyways, Jamie Lynn spears CANNOT act. She always has the same facial expression, which really annoys me. She is basically emotionless, and all the guys seem to like her.<br /><br />and shouldn't chase tell her he likes her? its not that hard! really! None of this show is real life, and she isn't \"a girl like me\" because majority of the regular girls do NOT go to boarding school, do not have designer clothes, and do NOT live by the beach.<br /><br />fake fake fake.",
         "0",
         "strongly dislike mean like basically school perfect rich doubt boarding school look cool suddenly allow girl school little weird anyways jamie lynn spear act facial expression annoy basically emotionless guy like her.<br /><br />and chase tell like hard real life girl like majority regular girl boarding school designer clothe live beach.<br /><br />fake fake fake"
        ],
        [
         "32",
         "213",
         "Normally I don't like series at all. They're all to predictable and they tend to become boring and dull very fast.<br /><br />These series however, are well played, the story follows through all episodes and even if you miss one, the story will still be catching your mind.<br /><br />The episodes are all filmed on a hospital and takes you further and further in to the mysteries of dark and old secrets that lies just beneath the surface of the mighty hospital.",
         "2",
         "normally like series predictable tend boring dull fast.<br /><br />these series play story follow episode miss story catch mind.<br /><br />the episode film hospital take mystery dark old secret lie beneath surface mighty hospital"
        ],
        [
         "33",
         "221",
         "I think this movie has got it all. It has really cool music that I can never get out of my head. It has cool looking characters. IS REALLY funny(you know, the kind that you'll crack up on the ground and you'll keep saying the funny parts over every day for three weeks).Despite the bad acting, bad cgi, and bad story(about cops going after a robot), its really cool. Its one of those movies you and all of your family can watch, get together, eat pizza, laugh like crazy, and watch it two more times.<br /><br />There are so many funny parts, like when Kurt was trying to get Edison's attention and gave him the finger, and then threw a paint ball gun at him so they could play paint ball. On that part, I kept saying \"Remember, Remember?\"to my cousins who saw it and showed them what happened. There was also a really funny part when Edision ran into the room and Kurt was there(just before they fought) and Kurt was talking about his \"Strange dream\" and how he was \"Superman\". I LOVED that part, although it has been a while since I saw it, so I don't remember that part. Everything the actors said were funny, like how Kurt says, \"I worship you, like a GOD!\" to the robot.<br /><br />Although there was some bad things, in all it was a GREAT movie. Man, I can't stop laughing. I wish I had that movie. );",
         "2",
         "think movie get cool music head cool look character funny(you know kind crack ground say funny part day weeks).despite bad acting bad cgi bad story(about cop go robot cool movie family watch eat pizza laugh like crazy watch times.<br /><br />there funny part like kurt try edison attention give finger throw paint ball gun play paint ball keep say remember remember?\"to cousin see show happen funny edision run room kurt there(just fight kurt talk strange dream superman love see remember actor say funny like kurt say worship like god robot.<br /><br />although bad thing great movie man stop laugh wish movie"
        ],
        [
         "34",
         "226",
         "One of Starewicz's longest and strangest short films follows a toy dog in search of an orange after becoming animated by the tear of the mother of a girl who longs for an orange. The dog comes upon an orange after falling out of the back of a car on his way to be sold, but at night must protect the orange when he comes enters a devilish nightclub featuring many bizarre and scary characters. With the help of a stuffed cat, the dog gets the orange back to the little girl and she is saved from a terrible scurvy death. The Mascot features new techniques I have not yet seen in Starewicz's films. The addition of sync sound and a mixture of live action with the stop-motion animation makes for a new twist on Starewicz's old style of puppetry. Live scenes of moving cars and people's feet walking by as a puppet sits on the concrete sidewalk is impressive and fresh. The honking of cars and cries of street vendors is noteworthy due to the fact that small studio shifts to sound were costly and Starewicz's utilization of the new technology seems like old hat. New puppet characters in this film are frightening contributions to the devil's club scene. Twigss and newspaper shreds come to life. Skeletons of dead birds lay eggs which hatch skeleton chicks. Characters come flying in from all over on pats and pans and rocking horses. A new editing technique uses quick zooms which are accomplished through editing to speed up the pace of what before might have been a slow scene. Overall, Starewicz is able to update his style of film-making to meet the demands of a new audience making this film one of the best examples of his work.",
         "2",
         "starewicz long strange short film follow toy dog search orange animate tear mother girl long orange dog come orange fall car way sell night protect orange come enter devilish nightclub feature bizarre scary character help stuff cat dog get orange little girl save terrible scurvy death mascot feature new technique see starewicz film addition sync sound mixture live action stop motion animation make new twist starewicz old style puppetry live scene move car people foot walk puppet sit concrete sidewalk impressive fresh honking car cry street vendor noteworthy fact small studio shift sound costly starewicz utilization new technology like old hat new puppet character film frightening contribution devil club scene twigss newspaper shred come life skeleton dead bird lie egg hatch skeleton chick character come fly pat pan rock horse new editing technique use quick zoom accomplish edit speed pace slow scene overall starewicz able update style film making meet demand new audience make film good example work"
        ],
        [
         "35",
         "234",
         "The three main characters are all hopeless, and yet you only feel sorry for one of them: Ernesto, hopelessly devoted to Mercedes. This was part of the frustration: screaming at Mercedes to get a clue and ditch the no-good Harry, to no avail.<br /><br />Then there's the satisfaction: Steve Buscemi has a great part as a transvestite, and Harvey Keitel's moving story of his indignity playing a gorilla for a cheap TV movie is incredible. When you least expect it, Quentin Tarintino is doing half a monologue, and Anthony Quinn turns Ernesto into a wealthy man.<br /><br />Time and again great moments appear in the story, but in the end it's hard to know what to feel about this movie. It doesn't have a happy ending, or even a complete one, but it somehow feels right.<br /><br />This movie is strange, but then so am I; no wonder I liked it.",
         "2",
         "main character hopeless feel sorry ernesto hopelessly devoted mercedes frustration scream mercedes clue ditch good harry avail.<br /><br />then satisfaction steve buscemi great transvestite harvey keitel moving story indignity play gorilla cheap tv movie incredible expect quentin tarintino half monologue anthony quinn turn ernesto wealthy man.<br /><br />time great moment appear story end hard know feel movie happy ending complete feel right.<br /><br />this movie strange wonder like"
        ],
        [
         "36",
         "244",
         "Based on a Edgar Rice Burroughs novel, AT THE EARTH'S CORE provides little more than means to escape and give your brain a rest. A Victorian scientist Dr. Abner Perry(Peter Cushing)invents a giant burrowing machine, which he and his American partner(Doug McClure)use to corkscrew their way deep into the earth to explore what mysteries it may hold. They soon discover a lost world of subhuman creatures having conflict with prehistoric monsters.<br /><br />Cushing comes across as an absent minded professor to the point of being annoying. Instead of being a bold adventurer, he comes across effeminate. On the other hand McClure overacted enough to make himself also laughable. Caroline Munro plays the pretty Princess Dia that refuses to leave her world near the center of the earth. Also in the cast are: Godfrey James, Cy Grant and Michael Crane.",
         "0",
         "base edgar rice burroughs novel earth core provide little mean escape brain rest victorian scientist dr. abner perry(peter cushing)invents giant burrowing machine american partner(doug mcclure)use corkscrew way deep earth explore mystery hold soon discover lost world subhuman creature have conflict prehistoric monsters.<br /><br />cushing come absent minded professor point annoying instead bold adventurer come effeminate hand mcclure overact laughable caroline munro play pretty princess dia refuse leave world near center earth cast godfrey james cy grant michael crane"
        ],
        [
         "37",
         "246",
         "This show makes absolutely no sense. Every week, two ladies go to an estate to do some gardening, and every week without fail, they somehow stumble upon a murder. Because everyone who owns a big house with a large garden is involved in a murder, right? But even if they did somehow happen to stumble upon murder after murder, wouldn't the smart thing to do be to tell the police? You know, the people who can actually do something about it... But every week, these two fools go around, polluting evidence, committing crimes of their own, and, in some cases, causing more murders. Once they do miraculously solve the murders, there is no way the murderer could ever be convicted. All the evidence has been sabotaged. And you'd think people who are covering up murders would think not to hire these two, wouldn't you? Yay! We've solved the murder! Now like every other week, let's go and confront the murderer ourselves and, with no back-up, tell them that we know about it. There is no way we could get ourselves into any danger, is there? Rosemary and Thyme is one of the worst shows on television, and certainly the most ridiculous.",
         "0",
         "make absolutely sense week lady estate gardening week fail stumble murder own big house large garden involve murder right happen stumble murder murder smart thing tell police know people actually ... week fool pollute evidence commit crime case cause murder miraculously solve murder way murderer convict evidence sabotage think people cover murder think hire yay solve murder like week let confront murderer tell know way danger rosemary thyme bad show television certainly ridiculous"
        ],
        [
         "38",
         "256",
         "I saw this movie in the middle of the night, when I was flipping through the channels and there was nothing else on to watch. It's one of those films where you stop to see what it is - just for a moment! - but realize after twenty minutes or so that you just can't turn it off, no matter how bad it is. One of those movies that is somewhere in between being so bad it's good and so bad it's, well, just plain BAD, it's worth seeing just to experience the confusion of realizing that it's both! Great middle-of-the-night fare, if only for the fabulous tennis drag. Don't even bother asking yourself why nobody can tell that Chad Lowe is so obviously male, because logic does not apply.",
         "0",
         "see movie middle night flip channel watch film stop moment realize minute turn matter bad movie bad good bad plain bad worth see experience confusion realize great middle night fare fabulous tennis drag bother ask tell chad lowe obviously male logic apply"
        ],
        [
         "39",
         "261",
         "I accept that most 50's horror aren't scary by today's standards, but what the hell is this? When you see a title like this you expect to see blood and a blood thirsty beast. Instead we get no blood at all and a beast who either wants to take over the world or live in peace on Earth....yeah which is what the people wanted.<br /><br />The overall story is fine with the astronaut coming back to life and being one with the beast....but the title really kills the movie. Night of the Beast would have made the fans more happy because there really isn't any blood to speak of.<br /><br />I like how the 50's movies had endings that left room for a sequel but wisely never made one. This movie isn't the worst i've ever seen but its almost up there.<br /><br />2 out of 10",
         "0",
         "accept 50 horror scary today standard hell title like expect blood blood thirsty beast instead blood beast want world live peace earth .... yeah people wanted.<br /><br />the overall story fine astronaut come life beast .... title kill movie night beast fan happy blood speak of.<br /><br />i like 50 movie ending leave room sequel wisely movie bad see there.<br /><br />2 10"
        ],
        [
         "40",
         "267",
         "Tainted look at kibbutz life<br /><br />This film is less a cultural story about a boy's life in a kibbutz, but the deliberate demonization of kibbutz life in general. In the first two minutes of the movie, the milk man in charge of the cows rapes one of his calves. And it's all downhill from there in terms of the characters representing typical \"kibbutznikim.\" Besides the two main characters, a clinically depressed woman and her young son, every one else in the kibbutz is a gross caricature of wellevil. <br /><br />The story centers on how the kibbutz, like some sort of cult, slowly drags the mother and son deeper into despair and what inevitably follows. There is no happiness, no joy, no laughter in this kibbutz. Every character/situation represents a different horrific human vice like misogyny, hypocrisy, violence, cultism, repression etc. For example, while the protagonist is a strikingly handsome European looking 12 year old boy  his older brother is a typical kibbutz youth complete with his \"jewish\" physical appearance and brutish personality. He cares more about screwing foreign volunteers than the health of his dying mother. He treats these volunteers like trash. After his little brother pleads of him to visit his dying mother whom he hasn't seen in a long time due to his military service, he orders, Quote  \"Linda, go take shower and I cum in two minutes.\" <br /><br />There is one other \"good\" character in this movie  a European foreigner who plays the mother's boyfriend. When the animal rapist tries to hit the mother's son, the boyfriend defends him by breaking the rapist's arm. He is summarily kicked out of the kibbutz then for \"violent\" behavior against one of the kibbutz members. More hypocrisy: The indescribably annoying French woman who plays the school teacher preaches that sex cannot happen before age 18, or without love and gives an account of the actual act that's supposed to be humorous for the audience, but is really just stupid. She of course is screwing the head of the kibbutz in the fields who then in turn screws the little boy's mom when her mental health takes a turn for the worse. <br /><br />The film portrays the kibbutz like some sort of cult. Children get yanked out of their beds in the middle of the night and taken to some ritual where they swear allegiance in the fields overseen by the kibbutz elders. The mother apparently can't \"escape\" the kibbutz, although in reality, anyone was/is always free to come and go as they choose. It's a mystery how the boy's father died, but you can rest assured, the kibbutz \"drove him to it\" and his surviving parents are another pair of heartless, wretched characters that weigh down on the mother and her son. <br /><br />That's the gist of this movie. One dimensional characters, over dramatization, dry performances, and an insidious message that keeps trying to hammer itself into the audience's head  that kibbutz life was degrading, miserable and even deadly for those who didn't \"fit in.\" I feel sorry for the guy who made this film  obviously he had a bad experience growing up in a kibbutz. But I feel as though he took a few kernels of truth regarding kibbutz life and turned them into huge atomic stereotyped bombs.",
         "0",
         "taint look kibbutz life br /><br />this film cultural story boy life kibbutz deliberate demonization kibbutz life general minute movie milk man charge cow rape calf downhill term character represent typical kibbutznikim main character clinically depressed woman young son kibbutz gross caricature  evil br /><br />the story center kibbutz like sort cult slowly drag mother son deep despair inevitably follow happiness joy laughter kibbutz character situation represent different horrific human vice like misogyny hypocrisy violence cultism repression etc example protagonist strikingly handsome european look 12 year old boy  old brother typical kibbutz youth complete jewish physical appearance brutish personality care screw foreign volunteer health die mother treat volunteer like trash little brother plead visit die mother see long time military service order quote  linda shower cum minute br /><br />there good character movie  european foreigner play mother boyfriend animal rapist try hit mother son boyfriend defend break rapist arm summarily kick kibbutz violent behavior kibbutz member hypocrisy indescribably annoying french woman play school teacher preach sex happen age 18 love give account actual act suppose humorous audience stupid course screw head kibbutz field turn screw little boy mom mental health take turn bad br /><br />the film portray kibbutz like sort cult child yank bed middle night take ritual swear allegiance field oversee kibbutz elder mother apparently escape kibbutz reality free come choose mystery boy father die rest assure kibbutz drive survive parent pair heartless wretche character weigh mother son br /><br />that gist movie dimensional character dramatization dry performance insidious message keep try hammer audience head  kibbutz life degrading miserable deadly fit feel sorry guy film  obviously bad experience grow kibbutz feel take kernel truth kibbutz life turn huge atomic stereotyped bomb"
        ],
        [
         "41",
         "274",
         "What an incomprehensible mess of a movie. Something about a cop who extracts bullets from himself after he gets shot and keeps them in a glass jar in his bathroom (and from the size of the jar he's been shot about fifty times by now) and a top secret tank guarded by five or six incompetent soldiers who for some reason drive it into Mexico. Whether they were sent there intentionally or just got really really lost is never made clear. And you'll never hear another screenplay feature the word \"butthorn\" either. Gary Busey tries out the Mel Gibson role from \"Lethal Weapon\" and while Busey is a serviceable actor the screenplay damns the whole movie to mediocrity. William Smith does another turn as a Russian soldier, the same character he played in \"Red Dawn\" a few years earlier. After playing biker heavies for most of the 70s it was sort of nice to see him expand his range playing Communist heavies. Sadly he'll probably always be remembered best as the guy who Clint Eastwood whupped in \"Every Which Way You Can.\"",
         "0",
         "incomprehensible mess movie cop extract bullet get shoot keep glass jar bathroom size jar shoot time secret tank guard incompetent soldier reason drive mexico send intentionally get lose clear hear screenplay feature word butthorn gary busey try mel gibson role lethal weapon busey serviceable actor screenplay damn movie mediocrity william smith turn russian soldier character play red dawn year early play biker heavy 70 sort nice expand range play communist heavy sadly probably remember well guy clint eastwood whuppe way"
        ],
        [
         "42",
         "286",
         "There have been many documentaries that I have seen in which it appeared that the law was on the wrong side of the fence - The Thin Blue Line and Paradise Lost come to mind first and foremost. But this is the first film that had me seething with anger after I saw it. It seems blatantly clear to me from the evidence presented in this film that what happened at Waco was at the very least an unprofessional and sloppy mess on the part of the FBI and AFI, and at the very worst an act of murder. Like most people, when the siege at Waco was occurring I assumed that David Koresh was a completely evil madman who was leading a violent cult. After seeing this, I think that Koresh was more likely a slightly unbalanced and confused guy who inadvertently caught the attention of the U.S. government through his eccentric actions. Sure, there were lots of weapons at the Branch Davidian compound. But none of it was illegal. It was absolutely heartbreaking to see the video footage of the people inside the compound, all of them seeming to be very nice and harmless. And it was angering to see the callous testimony of the men in charge of the government forces on the Waco site, the clueless testimony of Janet Reno, and the partisan defense of the attack on Waco, a defense led by a few of the committee Democrats. Standing out most in my mind was NY representative and current U.S. senator from NY Charles Schumer. I voted for the man when I lived in NY state - I'm a Democrat, pretty left-leaning too. After seeing his actions on this committee, I wish I could go back in time and vote for D'Amato instead! For anyone remotely interested in the government, this is a very crucial film, a must see. I even think this should be shown in classes - it's that important.",
         "2",
         "documentary see appear law wrong fence thin blue line paradise lost come mind foremost film seethe anger see blatantly clear evidence present film happen waco unprofessional sloppy mess fbi afi bad act murder like people siege waco occur assume david koresh completely evil madman lead violent cult see think koresh likely slightly unbalanced confused guy inadvertently catch attention u.s. government eccentric action sure lot weapon branch davidian compound illegal absolutely heartbreaking video footage people inside compound nice harmless anger callous testimony man charge government force waco site clueless testimony janet reno partisan defense attack waco defense lead committee democrats stand mind ny representative current u.s. senator ny charles schumer vote man live ny state democrat pretty left lean see action committee wish time vote d'amato instead remotely interested government crucial film think show class important"
        ],
        [
         "43",
         "291",
         "I had some reservations about this movie, I figured it would be the usual bill of fare --- a formula movie about Christmas. Being in the middle of a heat wave in late June, we decided to give it a shot anyway, maybe we would see some snow.<br /><br />This movie turned out to be one laugh after another. Ben Affleck was believable in his character, but the real star of this one is James Gandofini. He delivered his lines with a real wit about him and made a great \"dad\".<br /><br />If you want to have an enjoyable couple of hours, definitely check this one out.",
         "2",
         "reservation movie figure usual bill fare --- formula movie christmas middle heat wave late june decide shot maybe snow.<br /><br />this movie turn laugh ben affleck believable character real star james gandofini deliver line real wit great dad\".<br /><br />if want enjoyable couple hour definitely check"
        ],
        [
         "44",
         "307",
         "That this movie has been stapled to the wall of a chapel as proof that God is truly dead. Am I the only one that really saw (rather sleptwalked) through this \"film\"? This is the only movie I've ever seen in the theater that I regret not walking out on and demanding my money back -- it was just that dull. And I even saw \"Highlander 2: The Quickening\" at the local cinema. From beginning to end, Gibson and Downey have absolutely no chemistry as two unlikelies, cast together by circumstance, who eventually work together as best buddies. The action (what little there is) is goofy and as dull as the skullbone of the writer. Thank whatever deity is chortling down at us as it observes our \"cinema\" that there's no chance for an \"Air America 2.\"",
         "0",
         "movie staple wall chapel proof god truly dead see sleptwalke film movie see theater regret walk demand money -- dull see highlander 2 quickening local cinema beginning end gibson downey absolutely chemistry unlikelie cast circumstance eventually work good buddy action little goofy dull skullbone writer thank deity chortle observe cinema chance air america 2"
        ],
        [
         "45",
         "308",
         "Well, there's no real plot to speak of, it's just an excuse to show some scenes of extreme violence and gratuitous sex (which can sometimes be fun, too, but it's not in this case). What else can I say about this...? The action, when happening, is inventive and there's a cool scene where two characters are falling from a skyscraper (one that has to be several miles high), but overall there's not much to recommend \"Kite\". Watch it if you want, but you're not missing much if you skip this one...",
         "0",
         "real plot speak excuse scene extreme violence gratuitous sex fun case ... action happen inventive cool scene character fall skyscraper mile high overall recommend kite watch want miss skip ..."
        ],
        [
         "46",
         "311",
         "Ho-hum. An inventor's(Horst Buchholz)deadly biological weapon is in danger of falling into the wrong hands. Unknowingly his son(Luke Perry)has been working on the antedote all along. Enter CIA agent Olivia d'Abo and the cat-and-mouse car chases and gunfire begins. Also in the cast are:Tom Conti, Hendrick Haese and an aging Roger Moore. Moore seems to haggardly move through this mess definitely not one of his better efforts. Perry fans will be accepting. d'Abo is wrong for the role, but nice to look at.",
         "0",
         "ho hum inventor's(horst buchholz)deadly biological weapon danger fall wrong hand unknowingly son(luke perry)has work antedote enter cia agent olivia d'abo cat mouse car chase gunfire begin cast tom conti hendrick haese age roger moore moore haggardly mess definitely well effort perry fan accept d'abo wrong role nice look"
        ],
        [
         "47",
         "312",
         "Note to self. Never ever ever again watch a serious movie with Charlie Sheen in it. Great comedian, horrible seal. This movie makes Navy SEALS look like a reckless group of rangers when, in fact, they are the most elite form of military in the world. Charlie Sheen helps destroy the Navy SEAL reputation. Thank you for making such an incredibly select group of individuals look awful in one of the worst action movies I have ever seen. This is a great story which could be made into an amazing action movie, but why Charlie Sheen? There are possibilities for a very passionate story here, but Sheen decides to wreck them with \"funny\" comments.",
         "0",
         "note self watch movie charlie sheen great comedian horrible seal movie make navy seal look like reckless group ranger fact elite form military world charlie sheen help destroy navy seal reputation thank make incredibly select group individual look awful bad action movie see great story amazing action movie charlie sheen possibility passionate story sheen decide wreck funny comment"
        ],
        [
         "48",
         "313",
         "This movie is stupid. There's no getting around it. But so is Dumb and Dumber. Mind you, Dumb and Dumber is significantly more funny than this. However, I for one love seeing stupid movies (Tail Sting) and laughing with a group of good friends over how bad it is. Call me callous, but see this movie, and you'll find that the only way you can laugh at it is if you laugh at it instead of with it.",
         "0",
         "movie stupid getting dumb dumber mind dumb dumber significantly funny love see stupid movie tail sting laugh group good friend bad callous movie find way laugh laugh instead"
        ],
        [
         "49",
         "315",
         "as always this is an inaccurate picture of the homeless. TV told a lot of lies about panhandlers in the early 1990s and made everyone look bad, and claimed we all made over $100 a day when $20-40 a day was much closer to reality. when someone drove by where i held up a sign offering to work, and offered me work, i actually went and took the work if i was physically able.and if i would been offered the $100,000 id damned sure invested in in apt prepaid for at least 2 years, and kept most in the bank and still left myself $10-20000 for NL $1-2 and $2-5 cash games at the casinos. i usually always win and could win decent if i just had a bankroll. instead i win about $1000 a month is all playing in always minimum buying in due to not wanting to risk losing it all. i was only homeless cause i didn't wanna risk spending all my money and going broke, sometimes i had over $1000-2000 in my sock while i slept outside. anyone wanting to talk contact sevencard2003 on yahoo messenger.i admit i was different than most homeless people though, due to the fact i never drank smoke or took drugs. im no longer homeless, am now in govt housing for $177 a month and getting SSI and spend most of my time winning at online poker. mom and sunflower diversified worked hard to get me SSI. glad my days of hiding in under the stage in the convention center of the casino at night sleeping, worrying about getting caught by security are finally over. had this TV crew picked me theyd been over a lot sooner. its a shame how they don't better select who they pick.",
         "0",
         "inaccurate picture homeless tv tell lot lie panhandler early 1990 look bad claim 100 day 20 40 day close reality drive hold sign offer work offer work actually go take work physically able.and offer 100,000 d damned sure invest apt prepaid 2 year keep bank leave 10 20000 nl 1 2 2 5 cash game casino usually win win decent bankroll instead win 1000 month play minimum buying want risk lose homeless cause wanna risk spend money go break 1000 2000 sock sleep outside want talk contact sevencard2003 yahoo messenger.i admit different homeless people fact drink smoke take drug m long homeless govt housing 177 month get ssi spend time win online poker mom sunflower diversify work hard ssi glad day hide stage convention center casino night sleep worry get catch security finally tv crew pick d lot soon shame well select pick"
        ]
       ],
       "shape": {
        "columns": 4,
        "rows": 62500
       }
      },
      "text/html": [
       "<div>\n",
       "<style scoped>\n",
       "    .dataframe tbody tr th:only-of-type {\n",
       "        vertical-align: middle;\n",
       "    }\n",
       "\n",
       "    .dataframe tbody tr th {\n",
       "        vertical-align: top;\n",
       "    }\n",
       "\n",
       "    .dataframe thead th {\n",
       "        text-align: right;\n",
       "    }\n",
       "</style>\n",
       "<table border=\"1\" class=\"dataframe\">\n",
       "  <thead>\n",
       "    <tr style=\"text-align: right;\">\n",
       "      <th></th>\n",
       "      <th>Unnamed: 0</th>\n",
       "      <th>text</th>\n",
       "      <th>label</th>\n",
       "      <th>preprocess_text</th>\n",
       "    </tr>\n",
       "  </thead>\n",
       "  <tbody>\n",
       "    <tr>\n",
       "      <th>0</th>\n",
       "      <td>6</td>\n",
       "      <td>I sure would like to see a resurrection of a u...</td>\n",
       "      <td>2</td>\n",
       "      <td>sure like resurrection date seahunt series tec...</td>\n",
       "    </tr>\n",
       "    <tr>\n",
       "      <th>1</th>\n",
       "      <td>7</td>\n",
       "      <td>This show was an amazing, fresh &amp; innovative i...</td>\n",
       "      <td>0</td>\n",
       "      <td>amazing fresh innovative idea 70 air 7 8 year ...</td>\n",
       "    </tr>\n",
       "    <tr>\n",
       "      <th>2</th>\n",
       "      <td>14</td>\n",
       "      <td>This a fantastic movie of three prisoners who ...</td>\n",
       "      <td>2</td>\n",
       "      <td>fantastic movie prisoner famous actor george c...</td>\n",
       "    </tr>\n",
       "    <tr>\n",
       "      <th>3</th>\n",
       "      <td>32</td>\n",
       "      <td>My first exposure to the Templarios &amp; not a go...</td>\n",
       "      <td>0</td>\n",
       "      <td>exposure templarios good excited find title of...</td>\n",
       "    </tr>\n",
       "    <tr>\n",
       "      <th>4</th>\n",
       "      <td>43</td>\n",
       "      <td>I had heard good things about \"States of Grace...</td>\n",
       "      <td>0</td>\n",
       "      <td>hear good thing states grace come open mind th...</td>\n",
       "    </tr>\n",
       "    <tr>\n",
       "      <th>...</th>\n",
       "      <td>...</td>\n",
       "      <td>...</td>\n",
       "      <td>...</td>\n",
       "      <td>...</td>\n",
       "    </tr>\n",
       "    <tr>\n",
       "      <th>62495</th>\n",
       "      <td>678949</td>\n",
       "      <td>Don't. Just don't. Every horrible thing people...</td>\n",
       "      <td>1</td>\n",
       "      <td>horrible thing people say 100 true read review...</td>\n",
       "    </tr>\n",
       "    <tr>\n",
       "      <th>62496</th>\n",
       "      <td>678966</td>\n",
       "      <td>As you walk in the order Kiosks are too close ...</td>\n",
       "      <td>1</td>\n",
       "      <td>walk order kiosk close door walk right people ...</td>\n",
       "    </tr>\n",
       "    <tr>\n",
       "      <th>62497</th>\n",
       "      <td>678981</td>\n",
       "      <td>This used be Cathy House. . Now The Jade. . It...</td>\n",
       "      <td>2</td>\n",
       "      <td>cathy house jade improvement dim sum way well ...</td>\n",
       "    </tr>\n",
       "    <tr>\n",
       "      <th>62498</th>\n",
       "      <td>679006</td>\n",
       "      <td>Long line, inefficient staff. Maybe my expecta...</td>\n",
       "      <td>1</td>\n",
       "      <td>long line inefficient staff maybe expectation ...</td>\n",
       "    </tr>\n",
       "    <tr>\n",
       "      <th>62499</th>\n",
       "      <td>679008</td>\n",
       "      <td>I'm shocked everyone time I go to a Bouchon Ba...</td>\n",
       "      <td>1</td>\n",
       "      <td>shocked time bouchon bakery outside yountville...</td>\n",
       "    </tr>\n",
       "  </tbody>\n",
       "</table>\n",
       "<p>62500 rows × 4 columns</p>\n",
       "</div>"
      ],
      "text/plain": [
       "       Unnamed: 0                                               text  label  \\\n",
       "0               6  I sure would like to see a resurrection of a u...      2   \n",
       "1               7  This show was an amazing, fresh & innovative i...      0   \n",
       "2              14  This a fantastic movie of three prisoners who ...      2   \n",
       "3              32  My first exposure to the Templarios & not a go...      0   \n",
       "4              43  I had heard good things about \"States of Grace...      0   \n",
       "...           ...                                                ...    ...   \n",
       "62495      678949  Don't. Just don't. Every horrible thing people...      1   \n",
       "62496      678966  As you walk in the order Kiosks are too close ...      1   \n",
       "62497      678981  This used be Cathy House. . Now The Jade. . It...      2   \n",
       "62498      679006  Long line, inefficient staff. Maybe my expecta...      1   \n",
       "62499      679008  I'm shocked everyone time I go to a Bouchon Ba...      1   \n",
       "\n",
       "                                         preprocess_text  \n",
       "0      sure like resurrection date seahunt series tec...  \n",
       "1      amazing fresh innovative idea 70 air 7 8 year ...  \n",
       "2      fantastic movie prisoner famous actor george c...  \n",
       "3      exposure templarios good excited find title of...  \n",
       "4      hear good thing states grace come open mind th...  \n",
       "...                                                  ...  \n",
       "62495  horrible thing people say 100 true read review...  \n",
       "62496  walk order kiosk close door walk right people ...  \n",
       "62497  cathy house jade improvement dim sum way well ...  \n",
       "62498  long line inefficient staff maybe expectation ...  \n",
       "62499  shocked time bouchon bakery outside yountville...  \n",
       "\n",
       "[62500 rows x 4 columns]"
      ]
     },
     "execution_count": 2,
     "metadata": {},
     "output_type": "execute_result"
    }
   ],
   "source": [
    "df = pd.read_csv(\"./low_confidence_samples/big_data.csv\")\n",
    "df"
   ]
  },
  {
   "cell_type": "code",
   "execution_count": null,
   "id": "e7c1a82d",
   "metadata": {},
   "outputs": [
    {
     "data": {
      "text/plain": [
       "array([2, 0, 1])"
      ]
     },
     "execution_count": 3,
     "metadata": {},
     "output_type": "execute_result"
    }
   ],
   "source": [
    "df['label'].unique()\n",
    "df['label'].value_counts()"
   ]
  },
  {
   "cell_type": "code",
   "execution_count": 4,
   "id": "2411eb17",
   "metadata": {},
   "outputs": [],
   "source": [
    "df_train, df_test = train_test_split(df, test_size=0.3, shuffle=True)\n",
    "\n",
    "# Ensure text data is a list of strings and drop missing values\n",
    "df_train['text'] = df_train['preprocess_text'].astype(str)\n",
    "df_test['text'] = df_test['preprocess_text'].astype(str)\n",
    "\n",
    "# Ensure text is lowercase\n",
    "df_train['text'] = df_train['text'].str.lower()\n",
    "df_test['text'] = df_test['text'].str.lower()\n",
    "\n",
    "df_train['label'] = df_train['label'].astype(int)\n",
    "df_test['label'] = df_test['label'].astype(int)"
   ]
  },
  {
   "cell_type": "code",
   "execution_count": 5,
   "id": "e999af19",
   "metadata": {},
   "outputs": [
    {
     "data": {
      "application/vnd.microsoft.datawrangler.viewer.v0+json": {
       "columns": [
        {
         "name": "index",
         "rawType": "int64",
         "type": "integer"
        },
        {
         "name": "Unnamed: 0",
         "rawType": "int64",
         "type": "integer"
        },
        {
         "name": "text",
         "rawType": "object",
         "type": "string"
        },
        {
         "name": "label",
         "rawType": "int64",
         "type": "integer"
        },
        {
         "name": "preprocess_text",
         "rawType": "object",
         "type": "string"
        }
       ],
       "conversionMethod": "pd.DataFrame",
       "ref": "5a3e40cb-4d54-4d49-a6d6-646a600885fe",
       "rows": [
        [
         "43002",
         "416044",
         "welcome nogales hotdogs hot dog attraction \\n\\ni order refreshing coke glass bottle hot dog wrap bacon cram bean tomato especially add topping course ask hot dog bread hold food fall apart use hot dog bun use type bread think \\\"bolillo\\ type bread \\n\\n\\\"whoa whoa!!!\\ \\\"a hot dog classic type hot dog bread?\\ world go crazy believe sonoran dog fit classic hot dog bun belong classic hot dog bun \\n\\nthere secrete formula animal possibility special \\\"i home.\\ type thought fancy critic thing sure atmosphere like home sit street corner night common thing fact kinda add risky edge see kind gypsy look people walk immediately imagine self eat hot dog dangerous city mexico hear hint hint nogale attraction aspect it.\\n\\nso eat pay tab gladly pay need friendly people like run business dove vehicle bail mexican drug cartels",
         "2",
         "welcome nogales hotdogs hot dog attraction \\n\\ni order refreshing coke glass bottle hot dog wrap bacon cram bean tomato especially add topping course ask hot dog bread hold food fall apart use hot dog bun use type bread think \\\"bolillo\\ type bread \\n\\n\\\"whoa whoa!!!\\ \\\"a hot dog classic type hot dog bread?\\ world go crazy believe sonoran dog fit classic hot dog bun belong classic hot dog bun \\n\\nthere secrete formula animal possibility special \\\"i home.\\ type thought fancy critic thing sure atmosphere like home sit street corner night common thing fact kinda add risky edge see kind gypsy look people walk immediately imagine self eat hot dog dangerous city mexico hear hint hint nogale attraction aspect it.\\n\\nso eat pay tab gladly pay need friendly people like run business dove vehicle bail mexican drug cartels"
        ],
        [
         "56726",
         "595718",
         "wrong love tj maxx homegoods marshall like love designer brand find bargain product selection location impress see lot \\\"juniors\\ clothing name recognize crowded rack take majority floor instead simply supplement organize fixture hard time find go hope find definitely check store time",
         "1",
         "wrong love tj maxx homegoods marshall like love designer brand find bargain product selection location impress see lot \\\"juniors\\ clothing name recognize crowded rack take majority floor instead simply supplement organize fixture hard time find go hope find definitely check store time"
        ],
        [
         "6566",
         "41377",
         "funniest movie recent year good characterization plot exceptional chemistry classic",
         "2",
         "funniest movie recent year good characterization plot exceptional chemistry classic"
        ],
        [
         "55029",
         "573098",
         "hard find dj talente punctual quick reply call email find dj hart break dj hart break couple time event time time responsive friendly oh spin great music probably pretty important look dj \\n\\ndj hart break spin pretty ask great job spinning lively setting large scale party bar scene good job keep music level party goer hear speak music play background \\n\\nlike say dj hart break great job communicating important plan event important dj event event organizer ask minute event begin dj hart break get point yelp book time actually early \\n\\nso need dj event definitely suggest dj hart break",
         "2",
         "hard find dj talente punctual quick reply call email find dj hart break dj hart break couple time event time time responsive friendly oh spin great music probably pretty important look dj \\n\\ndj hart break spin pretty ask great job spinning lively setting large scale party bar scene good job keep music level party goer hear speak music play background \\n\\nlike say dj hart break great job communicating important plan event important dj event event organizer ask minute event begin dj hart break get point yelp book time actually early \\n\\nso need dj event definitely suggest dj hart break"
        ],
        [
         "55201",
         "575571",
         "time clt starve   come huge ass parking deck sign say market ... well believe take illegal turn deck   dirty look course outta state plate?\\n\\ni excited excited elevator 4 floor check market look like take city block   \\n\\nand sis walk ... \\n\\nit look like trespass like close suppose   people wonder come   f'in market hungry- why!\\n\\ni admit space nice lot glass keep bright way open market   place sell specialty place middle   spend 2- 3 minute place offer interesting person think butcher ask need help respectfully decline power house fully set cook bonfire question).\\n\\nfor 6:00 friday evening awkward experience   \\n\\na pluses- food looked good god forbid ass    space clean foodie have reception problem   like location bar street trolley right outside well.\\n\\nmaybe friday day market clt hell know ... \\n\\noh yea pay 2 parking 18 minute read yelper review say parking validation ... nice tom nice ... \\n\\ni see big well city great fit city power",
         "1",
         "time clt starve   come huge ass parking deck sign say market ... well believe take illegal turn deck   dirty look course outta state plate?\\n\\ni excited excited elevator 4 floor check market look like take city block   \\n\\nand sis walk ... \\n\\nit look like trespass like close suppose   people wonder come   f'in market hungry- why!\\n\\ni admit space nice lot glass keep bright way open market   place sell specialty place middle   spend 2- 3 minute place offer interesting person think butcher ask need help respectfully decline power house fully set cook bonfire question).\\n\\nfor 6:00 friday evening awkward experience   \\n\\na pluses- food looked good god forbid ass    space clean foodie have reception problem   like location bar street trolley right outside well.\\n\\nmaybe friday day market clt hell know ... \\n\\noh yea pay 2 parking 18 minute read yelper review say parking validation ... nice tom nice ... \\n\\ni see big well city great fit city power"
        ],
        [
         "26136",
         "209651",
         "zipps 3 time time fun second time order wing end food poisening time go overcharge bill force deal asshole gm ... \\n\\nthe food great zipps goldies location.\\n\\nand management idiot condisending asshole recommend location",
         "1",
         "zipps 3 time time fun second time order wing end food poisening time go overcharge bill force deal asshole gm ... \\n\\nthe food great zipps goldies location.\\n\\nand management idiot condisending asshole recommend location"
        ],
        [
         "9737",
         "56851",
         "love creditcard sized memory stick microsoft keep send",
         "2",
         "love creditcard sized memory stick microsoft keep send"
        ],
        [
         "47156",
         "467947",
         "boyfriend try fran time lunch today pass time way ru san sunset grille.\\n\\nwe cheerfully greet come tell table clean shortly   pretty busy take good sign   quartet woman table near door finish lunch split slice cake chocolate carrot look pretty delish.\\n\\nour waitress somewhat soft spoken mention special asked.\\n\\nboth order 6 french dip esque sammie   order pickle slaw order fry 1 extra   food come long momentarily confused appearance pile fry platter   bring attention waitress apologize say kitchen mix thing lot today   start plate away say okay   ask sure want sandwich cold replate correct slaw   probably well service offer slaw addition wrong fry send shrug   fry serve ketchup ask bring small plastic single serve cup ketchup fiend probably need ask extra.\\n\\nthe good sandwich omg yum beef tender juicy flavorful   roll butter crisply toast stand weight filling sweet pepper jalapeno slaw boyfriend get like spicy sammie add nice crunch ze bite   au jus positively dreamy good beef dippin juice had.\\n\\nthe meh fry   mention boyfriend vote good fry charlotte figure base serve   bit overcooked dark barely lukewarm fresh taste   kind flabby floppy   people like fry impressed.\\n\\nno room try cake maybe time.\\n\\nwe definitely sandwich major nom see option keen try time think skip fry   hope sample pickle slaw",
         "1",
         "boyfriend try fran time lunch today pass time way ru san sunset grille.\\n\\nwe cheerfully greet come tell table clean shortly   pretty busy take good sign   quartet woman table near door finish lunch split slice cake chocolate carrot look pretty delish.\\n\\nour waitress somewhat soft spoken mention special asked.\\n\\nboth order 6 french dip esque sammie   order pickle slaw order fry 1 extra   food come long momentarily confused appearance pile fry platter   bring attention waitress apologize say kitchen mix thing lot today   start plate away say okay   ask sure want sandwich cold replate correct slaw   probably well service offer slaw addition wrong fry send shrug   fry serve ketchup ask bring small plastic single serve cup ketchup fiend probably need ask extra.\\n\\nthe good sandwich omg yum beef tender juicy flavorful   roll butter crisply toast stand weight filling sweet pepper jalapeno slaw boyfriend get like spicy sammie add nice crunch ze bite   au jus positively dreamy good beef dippin juice had.\\n\\nthe meh fry   mention boyfriend vote good fry charlotte figure base serve   bit overcooked dark barely lukewarm fresh taste   kind flabby floppy   people like fry impressed.\\n\\nno room try cake maybe time.\\n\\nwe definitely sandwich major nom see option keen try time think skip fry   hope sample pickle slaw"
        ],
        [
         "49389",
         "498934",
         "seare tuna sake bomb .. amazing .. lobster roll awesome .and u try dirty chips .. crey crey good",
         "2",
         "seare tuna sake bomb .. amazing .. lobster roll awesome .and u try dirty chips .. crey crey good"
        ],
        [
         "61499",
         "663047",
         "see people place mention good decide try family.\\n\\nkorean own japanese restaurant locate eh area town nice area lol ... \\n\\ndecor get to overall think look pretty nice lot wooden fencing accent wall \\n\\nayce eat sushi 20.95 lunch 1130a 300p 25.95 dinner 300p 200a mention have \\\"ordering time limit 45 minute lunch 1 hour dinner dining time limited\\ sense enforce \\n\\nas order sample nigiri test order good order xd time course dinner \\n\\na mention rice picky m kind person good favorite place term rice sushi rice compliment fish pair good quality good experience good \\n\\nthis rice flavor break apart mushy rate rice 1 5 \\n\\ntuna maguro dark red mushy little flavor fresh not sense metallic taste fish \\n\\nyellowtail hamachi nice pinkish color sweet \\n\\nred snapper izumidai nice color good texture \\n\\nhalibut hirame fresh \\\"bite\\ \\n\\nsalmon sake probably well item nigiri list taste fatty fresh bad rice bad good \\n\\nsmoke salmon awkward order cousin like usual smoke salmon thick slice slightly light firm normal salmon piece smell smoked aroma fairly quickly taste bit salty expect smoked salmon \\n\\nfresh water eel unagi bad eel little cold sure sit table eel texture mid mushy mid firm sauce normal sweet \\n\\nsalmon egg ikura \\\"fishy pop boba\\ cousin call usual salty flavor fresh \\\"fishy\\ taste \\n\\negg tamago surprisingly nicely thick cut piece presentation bit non traditional imagine size fish nigiri cut fold half cut mid way pyramid small ball rice hold rice bit weird presentation wise taste wise good nice sweet \\n\\nsweet shrimp amaebi sweet small shrimp exactly sure real amaebi tip mention real amaebi like regular shrimp marinate sweet sauce \\n\\nbeef tataki bad say way bad quality beef bad beef fairly big chewy piece like eat piece beef chew gum beef not season plain taste overall \\n\\nkake udon small bowl udon kake light broth laver bonito flake soy sauce udon cook pretty good good \\\"bite\\ overcooked good way stuff cuz not item catch attention \\n\\nappetizers \\n\\nbake green mussel sure sauce sweet sauce mix japanese mayo .... mussel warm well mussel piece cut half \\n\\nshrimp tempura well item meal nicely bread fry nice light golden color crispy hot \\n\\ngolden scallop deep fry light brown color overcook preference term scallop center fully cook real scallop \\n\\ngrille mackerel rec michael k overgrille meat bit dry expect mackerel lot small bone skilled eat fast xd \\n\\nsalmon skin handroll w/ fresh salmon rec michael k well item meal fairly stuff hand roll crispy fry salmon skin cut fresh salmon piece good recommendation \\n\\nspider soft shell crab crab avocado cucumber gobo w/ eel sauce soft shell crab bit cold sure crab fry hand notice gobo roll \\n\\nburne ass spicy soft shell crab tuna cucumber crab spicy tuna spicy kiss sauce mustard sauce jalapeno sriracha honest notice soft shell crab yeah sriracha jalepeno spicy tuna eh ... near burn ass xd \\n\\noverall experience eh service good tea 1 food people say likely will come",
         "1",
         "see people place mention good decide try family.\\n\\nkorean own japanese restaurant locate eh area town nice area lol ... \\n\\ndecor get to overall think look pretty nice lot wooden fencing accent wall \\n\\nayce eat sushi 20.95 lunch 1130a 300p 25.95 dinner 300p 200a mention have \\\"ordering time limit 45 minute lunch 1 hour dinner dining time limited\\ sense enforce \\n\\nas order sample nigiri test order good order xd time course dinner \\n\\na mention rice picky m kind person good favorite place term rice sushi rice compliment fish pair good quality good experience good \\n\\nthis rice flavor break apart mushy rate rice 1 5 \\n\\ntuna maguro dark red mushy little flavor fresh not sense metallic taste fish \\n\\nyellowtail hamachi nice pinkish color sweet \\n\\nred snapper izumidai nice color good texture \\n\\nhalibut hirame fresh \\\"bite\\ \\n\\nsalmon sake probably well item nigiri list taste fatty fresh bad rice bad good \\n\\nsmoke salmon awkward order cousin like usual smoke salmon thick slice slightly light firm normal salmon piece smell smoked aroma fairly quickly taste bit salty expect smoked salmon \\n\\nfresh water eel unagi bad eel little cold sure sit table eel texture mid mushy mid firm sauce normal sweet \\n\\nsalmon egg ikura \\\"fishy pop boba\\ cousin call usual salty flavor fresh \\\"fishy\\ taste \\n\\negg tamago surprisingly nicely thick cut piece presentation bit non traditional imagine size fish nigiri cut fold half cut mid way pyramid small ball rice hold rice bit weird presentation wise taste wise good nice sweet \\n\\nsweet shrimp amaebi sweet small shrimp exactly sure real amaebi tip mention real amaebi like regular shrimp marinate sweet sauce \\n\\nbeef tataki bad say way bad quality beef bad beef fairly big chewy piece like eat piece beef chew gum beef not season plain taste overall \\n\\nkake udon small bowl udon kake light broth laver bonito flake soy sauce udon cook pretty good good \\\"bite\\ overcooked good way stuff cuz not item catch attention \\n\\nappetizers \\n\\nbake green mussel sure sauce sweet sauce mix japanese mayo .... mussel warm well mussel piece cut half \\n\\nshrimp tempura well item meal nicely bread fry nice light golden color crispy hot \\n\\ngolden scallop deep fry light brown color overcook preference term scallop center fully cook real scallop \\n\\ngrille mackerel rec michael k overgrille meat bit dry expect mackerel lot small bone skilled eat fast xd \\n\\nsalmon skin handroll w/ fresh salmon rec michael k well item meal fairly stuff hand roll crispy fry salmon skin cut fresh salmon piece good recommendation \\n\\nspider soft shell crab crab avocado cucumber gobo w/ eel sauce soft shell crab bit cold sure crab fry hand notice gobo roll \\n\\nburne ass spicy soft shell crab tuna cucumber crab spicy tuna spicy kiss sauce mustard sauce jalapeno sriracha honest notice soft shell crab yeah sriracha jalepeno spicy tuna eh ... near burn ass xd \\n\\noverall experience eh service good tea 1 food people say likely will come"
        ],
        [
         "53761",
         "555728",
         "start super warm place   little cashier sweating.\\n\\nthe price outrageous go street fausto probably good coctel de camerones town   hungry little lazy today heck   15.99 later okay hot sauce   restaurant warm hot sauce sweat twice haha   \\n\\ndon't think go dine pinch",
         "1",
         "start super warm place   little cashier sweating.\\n\\nthe price outrageous go street fausto probably good coctel de camerones town   hungry little lazy today heck   15.99 later okay hot sauce   restaurant warm hot sauce sweat twice haha   \\n\\ndon't think go dine pinch"
        ],
        [
         "20806",
         "140125",
         "impressed food average opinion chip extra greasy salsa water meal taste yes patio pretty cool imagine busy night place impressed.\\n\\ncould 13 hour workday food poisoning want home instead business mood change well guess booze fun place fun booze",
         "1",
         "impressed food average opinion chip extra greasy salsa water meal taste yes patio pretty cool imagine busy night place impressed.\\n\\ncould 13 hour workday food poisoning want home instead business mood change well guess booze fun place fun booze"
        ],
        [
         "29684",
         "252833",
         "positively sublime burger eat experience   town weekend place want sure stop disappointed   buddy order kobe beef burger happy   meat prepare perfectly list available topping extensive.\\n\\ni love topping go mild wild cheap expensive   probably place burger shave truffle slice velveeta   go carmelize onion gorgonzola delicious!\\n\\nas say try sweet potato fry   worth extra expense scrumptious.\\n\\none piece advice ahead seating   restaurant reservation ahead half hour   buddy able walk right arrival   place pack relatively huge line form care   end price reasonable give prepared customizable meal   well burger certainly find",
         "2",
         "positively sublime burger eat experience   town weekend place want sure stop disappointed   buddy order kobe beef burger happy   meat prepare perfectly list available topping extensive.\\n\\ni love topping go mild wild cheap expensive   probably place burger shave truffle slice velveeta   go carmelize onion gorgonzola delicious!\\n\\nas say try sweet potato fry   worth extra expense scrumptious.\\n\\none piece advice ahead seating   restaurant reservation ahead half hour   buddy able walk right arrival   place pack relatively huge line form care   end price reasonable give prepared customizable meal   well burger certainly find"
        ],
        [
         "53511",
         "552421",
         "go happy place   phone number actually connect person   voicemail box   mailbox get connect law firm   clearly need work phone answering skill ...",
         "1",
         "go happy place   phone number actually connect person   voicemail box   mailbox get connect law firm   clearly need work phone answering skill ..."
        ],
        [
         "12359",
         "66751",
         "  she`s hot      w/ unknown follower i`ve get few- clue they`re follow",
         "2",
         "  she`s hot      w/ unknown follower i`ve get few- clue they`re follow"
        ],
        [
         "29750",
         "253579",
         "wow totally well expect   like wolfgang puck place actually influence chef   menu surprise heavy fish get good",
         "2",
         "wow totally well expect   like wolfgang puck place actually influence chef   menu surprise heavy fish get good"
        ],
        [
         "55503",
         "579131",
         "like location host hostess soo unorganized pleasant customer service time waiter annoy short sweet .. definitely enjoy sewlyn location well soon leave mention ppl go .. come location",
         "1",
         "like location host hostess soo unorganized pleasant customer service time waiter annoy short sweet .. definitely enjoy sewlyn location well soon leave mention ppl go .. come location"
        ],
        [
         "61350",
         "660743",
         "o'shea give bad experience vegas!!!\\n\\nwe past weekend family decide play black jack   husband bit intoxicated coherent   thousand year old lady dealer husband uncle end shift   leave husband go tell goodbye go   ask   drunk annoying     tip   go 5 minute tirade day tip   husband tip tip deserve   obviously display lovliness deserve tip   believe casino ... place business matter ... allow employee conduct manner   \\n\\nin addition place old drunk college kid   wrong drunk college kid college 10 year patience little thin now!!!\\n\\nthe positive place nice psychic   psychic figure vegas probably perfect place pop cherry   great fee deserve",
         "1",
         "o'shea give bad experience vegas!!!\\n\\nwe past weekend family decide play black jack   husband bit intoxicated coherent   thousand year old lady dealer husband uncle end shift   leave husband go tell goodbye go   ask   drunk annoying     tip   go 5 minute tirade day tip   husband tip tip deserve   obviously display lovliness deserve tip   believe casino ... place business matter ... allow employee conduct manner   \\n\\nin addition place old drunk college kid   wrong drunk college kid college 10 year patience little thin now!!!\\n\\nthe positive place nice psychic   psychic figure vegas probably perfect place pop cherry   great fee deserve"
        ],
        [
         "12571",
         "67544",
         "  happen who`s jerk",
         "0",
         "  happen who`s jerk"
        ],
        [
         "56655",
         "594610",
         "paul young ambitious entrepreneur know meaning great service   pool service outstanding go extra mile focus good way prevent address costly repair   fact complete overhaul pump fraction cost big guy charge addition big repair paul weekly pool service outstanding value give attention detail demonstrate cleaning maintain pool   today paul fix adjust gate simply see break   home leave report outline issue time add chemical   way know safe child swim later day paul real pro recommend",
         "2",
         "paul young ambitious entrepreneur know meaning great service   pool service outstanding go extra mile focus good way prevent address costly repair   fact complete overhaul pump fraction cost big guy charge addition big repair paul weekly pool service outstanding value give attention detail demonstrate cleaning maintain pool   today paul fix adjust gate simply see break   home leave report outline issue time add chemical   way know safe child swim later day paul real pro recommend"
        ],
        [
         "16700",
         "88080",
         "place excellent beginning call appointment 9 schedule 3 pm tell pain bump 11:15 waiting room small nice relaxing woman counter decently friendly look busy woman escort room nice dentist alex song dentist voice calm sleep ... normally bad thing consider profession probably good quality oh nice flat screen play iron man hot seat hurt nice place great aesthetic nice staff get 5 star cheap place find good discount promotion run",
         "2",
         "place excellent beginning call appointment 9 schedule 3 pm tell pain bump 11:15 waiting room small nice relaxing woman counter decently friendly look busy woman escort room nice dentist alex song dentist voice calm sleep ... normally bad thing consider profession probably good quality oh nice flat screen play iron man hot seat hurt nice place great aesthetic nice staff get 5 star cheap place find good discount promotion run"
        ],
        [
         "30753",
         "265166",
         "love stay flamingo visit satisfactory room 11050 need attention bed horrific 2 night bed experience pain n ache bathroom super small little round mirror bathroom ... hard 2 people ready time   love update decor decor comfortable ... update bed",
         "1",
         "love stay flamingo visit satisfactory room 11050 need attention bed horrific 2 night bed experience pain n ache bathroom super small little round mirror bathroom ... hard 2 people ready time   love update decor decor comfortable ... update bed"
        ],
        [
         "58999",
         "626439",
         "love food disappointed charge 1.50 refill time wich .50   understand away charge different price   price nationwide ... different location nationwide ... charge .50   definitely affect decision come",
         "1",
         "love food disappointed charge 1.50 refill time wich .50   understand away charge different price   price nationwide ... different location nationwide ... charge .50   definitely affect decision come"
        ],
        [
         "34506",
         "309624",
         "go happy hour sit bar take forever service flamboyant expedient kitchen slow place need dust badly \\ncalimari limp pizza doughy zucchini excellent",
         "1",
         "go happy hour sit bar take forever service flamboyant expedient kitchen slow place need dust badly \\ncalimari limp pizza doughy zucchini excellent"
        ],
        [
         "54130",
         "560745",
         "glad finally cave check place go today stacey waxer sweet make feel completely comfortable time get brazilian little apprehensive not hurt bad think go recommend purchase product sell good stuff :) definitely visit",
         "2",
         "glad finally cave check place go today stacey waxer sweet make feel completely comfortable time get brazilian little apprehensive not hurt bad think go recommend purchase product sell good stuff :) definitely visit"
        ],
        [
         "8605",
         "52675",
         "start twitter",
         "1",
         "start twitter"
        ],
        [
         "29139",
         "246608",
         "wow remember place sooo busy barely parking spot people comin door place noisy crowd especially game area   time hand game controller test kid play forever   \\n\\nwell allllll changed.\\n\\nthe parking lot store quiet course price high place day   go look set computer speaker soundbar add small t.v    clearly remember 3 aisle computer speaker sort brand model type brand today shelf think 5 6 model 2 brand   selection   t.v dept sound bar hook test shelf price   \\n\\nb buy stuff hook test listen etc   definitely thing past now.\\n\\ni expect retail store aspect company last long   probably convert online business soon   \\n\\nwhat shame great lot bad business choice change time",
         "1",
         "wow remember place sooo busy barely parking spot people comin door place noisy crowd especially game area   time hand game controller test kid play forever   \\n\\nwell allllll changed.\\n\\nthe parking lot store quiet course price high place day   go look set computer speaker soundbar add small t.v    clearly remember 3 aisle computer speaker sort brand model type brand today shelf think 5 6 model 2 brand   selection   t.v dept sound bar hook test shelf price   \\n\\nb buy stuff hook test listen etc   definitely thing past now.\\n\\ni expect retail store aspect company last long   probably convert online business soon   \\n\\nwhat shame great lot bad business choice change time"
        ],
        [
         "39872",
         "376955",
         "place order time day scammer order food actually tasty product process way painful place order incredible task people answer phone speak know english   dare tag racist far reality need convey order correctly basic exacerbate line menu conveniently number wrong add confusion hot mess order get home order wrong ... errrrr topper time try scam coupon line get draw lack integrity customers.\\n\\n watch?v al4amj0f2pk&feature g upl&context g2f125afauaaaaaaalaa",
         "1",
         "place order time day scammer order food actually tasty product process way painful place order incredible task people answer phone speak know english   dare tag racist far reality need convey order correctly basic exacerbate line menu conveniently number wrong add confusion hot mess order get home order wrong ... errrrr topper time try scam coupon line get draw lack integrity customers.\\n\\n watch?v al4amj0f2pk&feature g upl&context g2f125afauaaaaaaalaa"
        ],
        [
         "23084",
         "170890",
         "recently attend funeral close friend family member church   wish visit well circumstance life   church new sure permanent location ..... floor concrete chair look permanent   decor nice priest church staff conduct service professional help family tough time   friend pleased go .... allow family grieve peace.\\n\\nwould like come normal mass service someday   plenty parking parking space wide .... bad traffic jam sunday service church town .... like people forget happen drive like maniacs parking lot.\\n\\nreturn factor 50",
         "2",
         "recently attend funeral close friend family member church   wish visit well circumstance life   church new sure permanent location ..... floor concrete chair look permanent   decor nice priest church staff conduct service professional help family tough time   friend pleased go .... allow family grieve peace.\\n\\nwould like come normal mass service someday   plenty parking parking space wide .... bad traffic jam sunday service church town .... like people forget happen drive like maniacs parking lot.\\n\\nreturn factor 50"
        ],
        [
         "31899",
         "277662",
         "ok arrive room dirty nice dirty look round stain floor find cutip bathroom bed pull bed know bed push look like closet staff like ther new room service ok good thing menu griffin club need hotel good cigar",
         "2",
         "ok arrive room dirty nice dirty look round stain floor find cutip bathroom bed pull bed know bed push look like closet staff like ther new room service ok good thing menu griffin club need hotel good cigar"
        ],
        [
         "12378",
         "66836",
         "   not get u",
         "1",
         "   not get u"
        ],
        [
         "28764",
         "241953",
         "like consider sushi aficionado tell favorite sushi place las vegas everytime seat staff greet ... loudly say welcome japaneese extensive creative sushi roll list well request roll brown rice wrap cucumber lieu seaweed atmosphere trendy staff friendly locate town square love sadly service consistently mediocre price willing pay great sushi",
         "2",
         "like consider sushi aficionado tell favorite sushi place las vegas everytime seat staff greet ... loudly say welcome japaneese extensive creative sushi roll list well request roll brown rice wrap cucumber lieu seaweed atmosphere trendy staff friendly locate town square love sadly service consistently mediocre price willing pay great sushi"
        ],
        [
         "54555",
         "566563",
         "hate impressed   outside restaurant big sign say \\\"fusion food\\   place describe typical japanese cafe   japan time indicate typical cafe tiny place osaka curry 5 thing menu   \\n\\ni recommend remove banner   food fusion detract try   service decent struggle typical cafe thing   menu mix izakaya style dish ... japanese curry japanese version hanbaga korean pork kim chee highlight dessert cafe coffee shop   well parfait dessert   \\n\\nheard chef owner sushi roku wish good   focus food forget fusion   japanese hamburger curry great start concept   creative dessert aspect extra mile   impression settle little that.\\n\\ni probably twice year food improve   rid metal chopstick   wooden preferable japanese establishment   consider share plate chopstick holder customer place directly table",
         "1",
         "hate impressed   outside restaurant big sign say \\\"fusion food\\   place describe typical japanese cafe   japan time indicate typical cafe tiny place osaka curry 5 thing menu   \\n\\ni recommend remove banner   food fusion detract try   service decent struggle typical cafe thing   menu mix izakaya style dish ... japanese curry japanese version hanbaga korean pork kim chee highlight dessert cafe coffee shop   well parfait dessert   \\n\\nheard chef owner sushi roku wish good   focus food forget fusion   japanese hamburger curry great start concept   creative dessert aspect extra mile   impression settle little that.\\n\\ni probably twice year food improve   rid metal chopstick   wooden preferable japanese establishment   consider share plate chopstick holder customer place directly table"
        ],
        [
         "25484",
         "200791",
         "find bedbug go desk remove bug offer change linen party travel large group double area surround \\\"inn\\ offer streetwalker drug deal homeless camp 50 foot \\nsometime trust brand",
         "1",
         "find bedbug go desk remove bug offer change linen party travel large group double area surround \\\"inn\\ offer streetwalker drug deal homeless camp 50 foot \\nsometime trust brand"
        ],
        [
         "21763",
         "153238",
         "try friends family pass yesterday free temporary pass think crazy buy bunch stuff bulk find amazing deal   good deal toilet paper 36 roll 19   certainly worth 45 membership fee mention inconvenient shop location   lot stuff cost sliiightly wal mart grocery store   main reason come   want buy bulk school supply crayon scissor glue sell   office supply aisle stuff like clipboard highlighter",
         "1",
         "try friends family pass yesterday free temporary pass think crazy buy bunch stuff bulk find amazing deal   good deal toilet paper 36 roll 19   certainly worth 45 membership fee mention inconvenient shop location   lot stuff cost sliiightly wal mart grocery store   main reason come   want buy bulk school supply crayon scissor glue sell   office supply aisle stuff like clipboard highlighter"
        ],
        [
         "20257",
         "133156",
         "nice grocery store organized messy fruit definately decent quality well cost grocery store sure",
         "2",
         "nice grocery store organized messy fruit definately decent quality well cost grocery store sure"
        ],
        [
         "24859",
         "193526",
         "maybe expectation little high morning hangover food little disappointing note service slow get table right away take long time food order bomblet omelet come toast hash brown table receive toast suppose come meal ask waiter add \\\"an additional order\\ toast omelet pretty plain look forward melt swiss cheese inside turn process swiss cheese terrible melted rubber texture tomato mealy fresh omelet undercooked runny hash brown dry overcooked coffee awesome hard mess coffee.\\n\\noverall probably return late night food breakfast willy street time kill breakfast street lazy jane fast delicious food open 30 minute later brunch",
         "1",
         "maybe expectation little high morning hangover food little disappointing note service slow get table right away take long time food order bomblet omelet come toast hash brown table receive toast suppose come meal ask waiter add \\\"an additional order\\ toast omelet pretty plain look forward melt swiss cheese inside turn process swiss cheese terrible melted rubber texture tomato mealy fresh omelet undercooked runny hash brown dry overcooked coffee awesome hard mess coffee.\\n\\noverall probably return late night food breakfast willy street time kill breakfast street lazy jane fast delicious food open 30 minute later brunch"
        ],
        [
         "1120",
         "7382",
         "cull real life exploit chuck connors steve brodie 1890s new york bowery high energy good natured.<br /><br />but warn casual racial epithet flow tongue wallace beery little jackie cooper shot startling true time set time speak diversity population neck wood certainly add gritty flavor atmosphere.<br /><br />beery connors bluster thunder center action loud mouth saloon keeper fire brigade soft spot ornery orphan cooper raft brodie connors slicker well look rival endeavor brodie turn dare love attention lead jump brooklyn bridge debate actually jump dummy).<br /><br />beery bombastic irish american accent gruff sort character draw child cat lady distress possibly boisterous character raft play get throw little dancing leg mistake lead lady lovely fay wray prostitute cooper tough get chance turn tears.<br /><br />the highlight jump bridge hold bar fistfight connor brodie closeup look like real brawl principal sure bruise ego",
         "2",
         "cull real life exploit chuck connors steve brodie 1890s new york bowery high energy good natured.<br /><br />but warn casual racial epithet flow tongue wallace beery little jackie cooper shot startling true time set time speak diversity population neck wood certainly add gritty flavor atmosphere.<br /><br />beery connors bluster thunder center action loud mouth saloon keeper fire brigade soft spot ornery orphan cooper raft brodie connors slicker well look rival endeavor brodie turn dare love attention lead jump brooklyn bridge debate actually jump dummy).<br /><br />beery bombastic irish american accent gruff sort character draw child cat lady distress possibly boisterous character raft play get throw little dancing leg mistake lead lady lovely fay wray prostitute cooper tough get chance turn tears.<br /><br />the highlight jump bridge hold bar fistfight connor brodie closeup look like real brawl principal sure bruise ego"
        ],
        [
         "6495",
         "40986",
         "jarl moodysson die breed political film maker swedish population appreciate try uncover truth government medium actively distort cover event surround eu meeting gothenburg absolutely heartbreaking innocent kid abuse drug swedish police convict prison political trial send text message revenge action unfortunate thing movie reach broad masse sweden show theater release video air television.<br /><br />the political film important bring new perspective insight complex issue role play educator masse",
         "2",
         "jarl moodysson die breed political film maker swedish population appreciate try uncover truth government medium actively distort cover event surround eu meeting gothenburg absolutely heartbreaking innocent kid abuse drug swedish police convict prison political trial send text message revenge action unfortunate thing movie reach broad masse sweden show theater release video air television.<br /><br />the political film important bring new perspective insight complex issue role play educator masse"
        ],
        [
         "25051",
         "195701",
         "wal mart ... compare wal mart wal mart location definitely lack surprisingly normally busy   lead have popular item stock include grocery item healthcare item need renovation inside look outdate friendliness staff hit miss   experience staff go expectation help like hate job want \\n\\nfor extensive shopping choose supercenter wal mart target need thing redbox movie bite bullet location",
         "1",
         "wal mart ... compare wal mart wal mart location definitely lack surprisingly normally busy   lead have popular item stock include grocery item healthcare item need renovation inside look outdate friendliness staff hit miss   experience staff go expectation help like hate job want \\n\\nfor extensive shopping choose supercenter wal mart target need thing redbox movie bite bullet location"
        ],
        [
         "24700",
         "191720",
         "lunch june 11\\n   yep 4 star wing joint!\\n   why:\\n1 awesome variety flavors flavor list unique creative!\\n2 try 6 flavor wing awesome!\\n     favorite mesquite teriyaki\\n     wing come hot juicy\\n3 king sampler 19.95 great value \\n4 homemade ranch dress salad dipping sauce tasty!\\n5 waiter suggest \\\"re fired\\ honey hot wings get -- wow!\\n      tip --   waiter say wing well order \\\"re fired\\ \\n6 menu price reasonable\\n\\n++ drawback coleslaw awful   want meal order \\\"platter\\ dont order fry side!\\n\\ni definitely try flavor option",
         "2",
         "lunch june 11\\n   yep 4 star wing joint!\\n   why:\\n1 awesome variety flavors flavor list unique creative!\\n2 try 6 flavor wing awesome!\\n     favorite mesquite teriyaki\\n     wing come hot juicy\\n3 king sampler 19.95 great value \\n4 homemade ranch dress salad dipping sauce tasty!\\n5 waiter suggest \\\"re fired\\ honey hot wings get -- wow!\\n      tip --   waiter say wing well order \\\"re fired\\ \\n6 menu price reasonable\\n\\n++ drawback coleslaw awful   want meal order \\\"platter\\ dont order fry side!\\n\\ni definitely try flavor option"
        ],
        [
         "21654",
         "151875",
         "taco street style mean muy tiny   4 5 time overload cilantro   customer service good",
         "1",
         "taco street style mean muy tiny   4 5 time overload cilantro   customer service good"
        ],
        [
         "13720",
         "71839",
         "  bahaha bof you`ve get to life ... can`t obsession miley cyrus .. i`ve get to life",
         "2",
         "  bahaha bof you`ve get to life ... can`t obsession miley cyrus .. i`ve get to life"
        ],
        [
         "34716",
         "311988",
         "come new year eve want gluten free menu m newly diagnose celiac disease ve hunt place eat.\\n\\ni try gf grill artichoke holy crap delicious season yummy aioli sauce seriously trip way hell north eat again.\\n\\nfor entree gf burger unfortunately burger bun kind hope wrap lettuce gf bread good french fry potential shoestre cook perfectly seasoning need throw little seasoning puppy fantastic \\n\\nservice management great give free dessert gf souffle little incident patron apologize give dessert think nice fact remember gf thing cool \\n\\ni definitely fairly decent size gluten free menu need :) \\ntvs bar area",
         "2",
         "come new year eve want gluten free menu m newly diagnose celiac disease ve hunt place eat.\\n\\ni try gf grill artichoke holy crap delicious season yummy aioli sauce seriously trip way hell north eat again.\\n\\nfor entree gf burger unfortunately burger bun kind hope wrap lettuce gf bread good french fry potential shoestre cook perfectly seasoning need throw little seasoning puppy fantastic \\n\\nservice management great give free dessert gf souffle little incident patron apologize give dessert think nice fact remember gf thing cool \\n\\ni definitely fairly decent size gluten free menu need :) \\ntvs bar area"
        ],
        [
         "19162",
         "119975",
         "collection extensive cover style period bind grab setting worth trip clear day way skyline ocean garden delight",
         "2",
         "collection extensive cover style period bind grab setting worth trip clear day way skyline ocean garden delight"
        ],
        [
         "30132",
         "257617",
         "285 2 night 3 day hubby stay suite.\\n\\nwe stay spa suite love damn   sad stay week go summer time blaze hot luckily decent size spa tub fit year old room big look roller coaster strip night lounge spa tub warm water hot turn bubble daughter love vegas mean gamble drink party heck 21 time vegas truly blast think suite thing feel relax wait new york new york again!\\n\\nbtw special deal hotel room purchase receive free buffet 2 participate hotel :d",
         "2",
         "285 2 night 3 day hubby stay suite.\\n\\nwe stay spa suite love damn   sad stay week go summer time blaze hot luckily decent size spa tub fit year old room big look roller coaster strip night lounge spa tub warm water hot turn bubble daughter love vegas mean gamble drink party heck 21 time vegas truly blast think suite thing feel relax wait new york new york again!\\n\\nbtw special deal hotel room purchase receive free buffet 2 participate hotel :d"
        ],
        [
         "18106",
         "106139",
         "location great tasting pizza consistant fresh   issue bad customer service phone carry time want hang walk pizza shop friendly location make pizza right bypass negative thing offer 4.99 carry special medium pizza beat cheap frozen pizza grocery store \\n\\ni pat eat location year clean",
         "2",
         "location great tasting pizza consistant fresh   issue bad customer service phone carry time want hang walk pizza shop friendly location make pizza right bypass negative thing offer 4.99 carry special medium pizza beat cheap frozen pizza grocery store \\n\\ni pat eat location year clean"
        ],
        [
         "47407",
         "471078",
         "pleasantly surprised find place situate right paradise tower elevator   actually pull italian caf\\u00e9 feel pretty consider vegas hotel   great selection sandwich dessert coffee bar gelato boot   price bad consider close place purchase food roll bed coffee 2 sbux hall small gelato 3",
         "2",
         "pleasantly surprised find place situate right paradise tower elevator   actually pull italian caf\\u00e9 feel pretty consider vegas hotel   great selection sandwich dessert coffee bar gelato boot   price bad consider close place purchase food roll bed coffee 2 sbux hall small gelato 3"
        ],
        [
         "59017",
         "626639",
         "ok great barely good ok.\\n\\nmaybe expect know potato bad omelette average service adequate ask twice water get oh finish slice bacon border sacrilege \\n\\nwith big line think good job clean table ready group big reason endorse restaurant huh",
         "1",
         "ok great barely good ok.\\n\\nmaybe expect know potato bad omelette average service adequate ask twice water get oh finish slice bacon border sacrilege \\n\\nwith big line think good job clean table ready group big reason endorse restaurant huh"
        ],
        [
         "14835",
         "76082",
         "  suppose visit austin sun thurs .. feel vaca   would`ve say hello sure",
         "0",
         "  suppose visit austin sun thurs .. feel vaca   would`ve say hello sure"
        ]
       ],
       "shape": {
        "columns": 4,
        "rows": 43750
       }
      },
      "text/html": [
       "<div>\n",
       "<style scoped>\n",
       "    .dataframe tbody tr th:only-of-type {\n",
       "        vertical-align: middle;\n",
       "    }\n",
       "\n",
       "    .dataframe tbody tr th {\n",
       "        vertical-align: top;\n",
       "    }\n",
       "\n",
       "    .dataframe thead th {\n",
       "        text-align: right;\n",
       "    }\n",
       "</style>\n",
       "<table border=\"1\" class=\"dataframe\">\n",
       "  <thead>\n",
       "    <tr style=\"text-align: right;\">\n",
       "      <th></th>\n",
       "      <th>Unnamed: 0</th>\n",
       "      <th>text</th>\n",
       "      <th>label</th>\n",
       "      <th>preprocess_text</th>\n",
       "    </tr>\n",
       "  </thead>\n",
       "  <tbody>\n",
       "    <tr>\n",
       "      <th>43002</th>\n",
       "      <td>416044</td>\n",
       "      <td>welcome nogales hotdogs hot dog attraction \\n\\...</td>\n",
       "      <td>2</td>\n",
       "      <td>welcome nogales hotdogs hot dog attraction \\n\\...</td>\n",
       "    </tr>\n",
       "    <tr>\n",
       "      <th>56726</th>\n",
       "      <td>595718</td>\n",
       "      <td>wrong love tj maxx homegoods marshall like lov...</td>\n",
       "      <td>1</td>\n",
       "      <td>wrong love tj maxx homegoods marshall like lov...</td>\n",
       "    </tr>\n",
       "    <tr>\n",
       "      <th>6566</th>\n",
       "      <td>41377</td>\n",
       "      <td>funniest movie recent year good characterizati...</td>\n",
       "      <td>2</td>\n",
       "      <td>funniest movie recent year good characterizati...</td>\n",
       "    </tr>\n",
       "    <tr>\n",
       "      <th>55029</th>\n",
       "      <td>573098</td>\n",
       "      <td>hard find dj talente punctual quick reply call...</td>\n",
       "      <td>2</td>\n",
       "      <td>hard find dj talente punctual quick reply call...</td>\n",
       "    </tr>\n",
       "    <tr>\n",
       "      <th>55201</th>\n",
       "      <td>575571</td>\n",
       "      <td>time clt starve   come huge ass parking deck s...</td>\n",
       "      <td>1</td>\n",
       "      <td>time clt starve   come huge ass parking deck s...</td>\n",
       "    </tr>\n",
       "    <tr>\n",
       "      <th>...</th>\n",
       "      <td>...</td>\n",
       "      <td>...</td>\n",
       "      <td>...</td>\n",
       "      <td>...</td>\n",
       "    </tr>\n",
       "    <tr>\n",
       "      <th>52893</th>\n",
       "      <td>543772</td>\n",
       "      <td>4 star 3 story prada store salesperson way nic...</td>\n",
       "      <td>2</td>\n",
       "      <td>4 star 3 story prada store salesperson way nic...</td>\n",
       "    </tr>\n",
       "    <tr>\n",
       "      <th>6561</th>\n",
       "      <td>41349</td>\n",
       "      <td>guinea pig series infamous film collection.&lt;br...</td>\n",
       "      <td>2</td>\n",
       "      <td>guinea pig series infamous film collection.&lt;br...</td>\n",
       "    </tr>\n",
       "    <tr>\n",
       "      <th>6278</th>\n",
       "      <td>39760</td>\n",
       "      <td>watch dvd version born bad find tense gritty n...</td>\n",
       "      <td>2</td>\n",
       "      <td>watch dvd version born bad find tense gritty n...</td>\n",
       "    </tr>\n",
       "    <tr>\n",
       "      <th>23993</th>\n",
       "      <td>183509</td>\n",
       "      <td>tell tire works need new brake rotor total 400...</td>\n",
       "      <td>2</td>\n",
       "      <td>tell tire works need new brake rotor total 400...</td>\n",
       "    </tr>\n",
       "    <tr>\n",
       "      <th>39616</th>\n",
       "      <td>373831</td>\n",
       "      <td>ordered cadillac margaritas think margarita mi...</td>\n",
       "      <td>1</td>\n",
       "      <td>ordered cadillac margaritas think margarita mi...</td>\n",
       "    </tr>\n",
       "  </tbody>\n",
       "</table>\n",
       "<p>43750 rows × 4 columns</p>\n",
       "</div>"
      ],
      "text/plain": [
       "       Unnamed: 0                                               text  label  \\\n",
       "43002      416044  welcome nogales hotdogs hot dog attraction \\n\\...      2   \n",
       "56726      595718  wrong love tj maxx homegoods marshall like lov...      1   \n",
       "6566        41377  funniest movie recent year good characterizati...      2   \n",
       "55029      573098  hard find dj talente punctual quick reply call...      2   \n",
       "55201      575571  time clt starve   come huge ass parking deck s...      1   \n",
       "...           ...                                                ...    ...   \n",
       "52893      543772  4 star 3 story prada store salesperson way nic...      2   \n",
       "6561        41349  guinea pig series infamous film collection.<br...      2   \n",
       "6278        39760  watch dvd version born bad find tense gritty n...      2   \n",
       "23993      183509  tell tire works need new brake rotor total 400...      2   \n",
       "39616      373831  ordered cadillac margaritas think margarita mi...      1   \n",
       "\n",
       "                                         preprocess_text  \n",
       "43002  welcome nogales hotdogs hot dog attraction \\n\\...  \n",
       "56726  wrong love tj maxx homegoods marshall like lov...  \n",
       "6566   funniest movie recent year good characterizati...  \n",
       "55029  hard find dj talente punctual quick reply call...  \n",
       "55201  time clt starve   come huge ass parking deck s...  \n",
       "...                                                  ...  \n",
       "52893  4 star 3 story prada store salesperson way nic...  \n",
       "6561   guinea pig series infamous film collection.<br...  \n",
       "6278   watch dvd version born bad find tense gritty n...  \n",
       "23993  tell tire works need new brake rotor total 400...  \n",
       "39616  ordered cadillac margaritas think margarita mi...  \n",
       "\n",
       "[43750 rows x 4 columns]"
      ]
     },
     "execution_count": 5,
     "metadata": {},
     "output_type": "execute_result"
    }
   ],
   "source": [
    "df_train"
   ]
  },
  {
   "cell_type": "code",
   "execution_count": 6,
   "id": "10091f20",
   "metadata": {},
   "outputs": [
    {
     "data": {
      "application/vnd.microsoft.datawrangler.viewer.v0+json": {
       "columns": [
        {
         "name": "index",
         "rawType": "int64",
         "type": "integer"
        },
        {
         "name": "Unnamed: 0",
         "rawType": "int64",
         "type": "integer"
        },
        {
         "name": "text",
         "rawType": "object",
         "type": "string"
        },
        {
         "name": "label",
         "rawType": "int64",
         "type": "integer"
        },
        {
         "name": "preprocess_text",
         "rawType": "object",
         "type": "string"
        }
       ],
       "conversionMethod": "pd.DataFrame",
       "ref": "4e51b514-2cfe-4a9f-8acf-f8a2b76c7b60",
       "rows": [
        [
         "22210",
         "159174",
         "truely well mexican restaurant north scottsdale   love tostadas load topping   family eat time month leave satisfied   complaint service slow food worth wait",
         "2",
         "truely well mexican restaurant north scottsdale   love tostadas load topping   family eat time month leave satisfied   complaint service slow food worth wait"
        ],
        [
         "48279",
         "482985",
         "ummmm ...... bad burger time    hey like salty buttery oily burger    stick fudrucker blu burger red robin fast food joint .... hehe     want try great burger firebirds",
         "1",
         "ummmm ...... bad burger time    hey like salty buttery oily burger    stick fudrucker blu burger red robin fast food joint .... hehe     want try great burger firebirds"
        ],
        [
         "33655",
         "299098",
         "review restaurant \\n\\nwell wait 40 minute saturday night expect luckily pager shop kill time plus s room couch wait small bar cocktail waitress happy bring 700 bottle \\n\\nthe food pretty good lot \\\"fancy food idea is\\ type stuff menu fancy stuff like it.\\n\\nour waiter super awesome expect douche baggery place staff pretty nice security door pretty nice guy waiter hook drink helpful menu question unfortunately \\\"group drink\\ bowl alcohol fun perfect place \\n\\nthe theme pretty cool get buddhist stuff go dark s giant statue wall get loud music go time like club loud certainly quiet conversation \\n\\nwould maybe regret go eat free entrance club get to stamp",
         "2",
         "review restaurant \\n\\nwell wait 40 minute saturday night expect luckily pager shop kill time plus s room couch wait small bar cocktail waitress happy bring 700 bottle \\n\\nthe food pretty good lot \\\"fancy food idea is\\ type stuff menu fancy stuff like it.\\n\\nour waiter super awesome expect douche baggery place staff pretty nice security door pretty nice guy waiter hook drink helpful menu question unfortunately \\\"group drink\\ bowl alcohol fun perfect place \\n\\nthe theme pretty cool get buddhist stuff go dark s giant statue wall get loud music go time like club loud certainly quiet conversation \\n\\nwould maybe regret go eat free entrance club get to stamp"
        ],
        [
         "2087",
         "13241",
         "see movie primarily brooke burke jill meet briefly la modeling trade feature film hope think act role beautiful poised tv host model surprising leave wonder kill happen result maybe miss it.<br /><br />i sure genre movie like actor feel like college audience try open mind consider horror favorite genre feel like outgrow gag drag place leave guess place power evil professor like lot film unsatisfying ending.<br /><br />having write couple script know lot difficult come personal opinion movie see study relate point time.<br /><br />in nutshell find interesting satisfying plot end jill brooke burke return portal end kick ass satisfying ending earn high rating",
         "0",
         "see movie primarily brooke burke jill meet briefly la modeling trade feature film hope think act role beautiful poised tv host model surprising leave wonder kill happen result maybe miss it.<br /><br />i sure genre movie like actor feel like college audience try open mind consider horror favorite genre feel like outgrow gag drag place leave guess place power evil professor like lot film unsatisfying ending.<br /><br />having write couple script know lot difficult come personal opinion movie see study relate point time.<br /><br />in nutshell find interesting satisfying plot end jill brooke burke return portal end kick ass satisfying ending earn high rating"
        ],
        [
         "56837",
         "597292",
         "recommend go apart poor service food great thing good plate fry lady serve forget couple drink order finally bring float",
         "1",
         "recommend go apart poor service food great thing good plate fry lady serve forget couple drink order finally bring float"
        ],
        [
         "1381",
         "9017",
         "mild spoiler second paragraph.<br /><br />anna christie garbo lackluster 1st talkie dressler look like people know movie old guy play garbo dad george f. marion film soooo ah noye stumble drunkenly totally fake way yell dat old dah veel sea blame garbo past life sea come stupid x 10 charles bickford matt rough n tumble sailor garbo fall love fine role outstanding.<br /><br />the good garbo unleash terrible secret bickford dad finally marion stop talk evil sea beat head fist table perfect time bickford soon go tirade sea.<br /><br />i practically force finish anna christie melodramatic part creaky good early talkie see garbo try anna christie like camille grand hotel",
         "0",
         "mild spoiler second paragraph.<br /><br />anna christie garbo lackluster 1st talkie dressler look like people know movie old guy play garbo dad george f. marion film soooo ah noye stumble drunkenly totally fake way yell dat old dah veel sea blame garbo past life sea come stupid x 10 charles bickford matt rough n tumble sailor garbo fall love fine role outstanding.<br /><br />the good garbo unleash terrible secret bickford dad finally marion stop talk evil sea beat head fist table perfect time bickford soon go tirade sea.<br /><br />i practically force finish anna christie melodramatic part creaky good early talkie see garbo try anna christie like camille grand hotel"
        ],
        [
         "24853",
         "193453",
         "frida price inspire \\\"mexican\\ food   cuisine authentic unique tasty   love salsa night girl eat casa de lara walking distance el pastor drive distance   seriously matter interpretation mexican food prefer well frida \\n\\nas seek employment urge avoid place work close friend check shawn s. review brief illustration mean",
         "1",
         "frida price inspire \\\"mexican\\ food   cuisine authentic unique tasty   love salsa night girl eat casa de lara walking distance el pastor drive distance   seriously matter interpretation mexican food prefer well frida \\n\\nas seek employment urge avoid place work close friend check shawn s. review brief illustration mean"
        ],
        [
         "27068",
         "221937",
         "decor 1980s trailer trash food surprisingly good.\\n\\na standard omelet 6 egg -- friend agree -- kitchen happily split order plate cost 0.75 end order spid plate ... totally worth find omelete want ot split \\\"baby\\ omelet 3 egg slighly expensive size one.\\n\\nwe opt chile verde omelet tasty spud like thick soft ish potato chip hashbrown   addictive",
         "2",
         "decor 1980s trailer trash food surprisingly good.\\n\\na standard omelet 6 egg -- friend agree -- kitchen happily split order plate cost 0.75 end order spid plate ... totally worth find omelete want ot split \\\"baby\\ omelet 3 egg slighly expensive size one.\\n\\nwe opt chile verde omelet tasty spud like thick soft ish potato chip hashbrown   addictive"
        ],
        [
         "7266",
         "46059",
         "wonderful family film staple christmas time mystery true lose film encounter flicker away old 19 black white rca million dollar movie vogue channel 9 new york city rudolph mate direct fantasy nestle christmas tree release home video bad believe see amc year ago cut old film rotation tcm slack play easter christmas eve movie santa aunt bee hostess cupcake lady actor king bad ann blyth sally bundle energy school year rush chapel pray st. ann help guidance mix financially strapped family work graduate place statue st. ann bedroom point entire o'moyne residence move address think end neighbor dispute o'moynes dastardly fellow door blyth cute button edmund gwen play reclusive grandfather sleep satisfying movie experience",
         "2",
         "wonderful family film staple christmas time mystery true lose film encounter flicker away old 19 black white rca million dollar movie vogue channel 9 new york city rudolph mate direct fantasy nestle christmas tree release home video bad believe see amc year ago cut old film rotation tcm slack play easter christmas eve movie santa aunt bee hostess cupcake lady actor king bad ann blyth sally bundle energy school year rush chapel pray st. ann help guidance mix financially strapped family work graduate place statue st. ann bedroom point entire o'moyne residence move address think end neighbor dispute o'moynes dastardly fellow door blyth cute button edmund gwen play reclusive grandfather sleep satisfying movie experience"
        ],
        [
         "4939",
         "31266",
         "gerald mcraney,(dave morgan),\"war crimes\",'01 tv series like father tiffani thiessen,(jennifer gallagher),\"a kiss lying\",'03 experience bad situation life cause jennifer withdraw people young man dave morgan try desperately house manage introduce jennifer chris gallagher fall madly love meeting date later chris ask jennifer marry agree long wedding thing start happen chris navy like work submarine thing start happen young gal neighborhood excellent tv film make wonder guy gal want soul mate perfect person",
         "2",
         "gerald mcraney,(dave morgan),\"war crimes\",'01 tv series like father tiffani thiessen,(jennifer gallagher),\"a kiss lying\",'03 experience bad situation life cause jennifer withdraw people young man dave morgan try desperately house manage introduce jennifer chris gallagher fall madly love meeting date later chris ask jennifer marry agree long wedding thing start happen chris navy like work submarine thing start happen young gal neighborhood excellent tv film make wonder guy gal want soul mate perfect person"
        ],
        [
         "46709",
         "461962",
         "love idea build salad mood burger want healthy dice chicken option salad dry tasteless   draw restaurant way loud hard surface open ceiling cause problem",
         "1",
         "love idea build salad mood burger want healthy dice chicken option salad dry tasteless   draw restaurant way loud hard surface open ceiling cause problem"
        ],
        [
         "31677",
         "274973",
         "great service fresh seafood downer rice nigiri sushi day old hard unseasoned awful think short grain sticky rice order sashimi instead enjoy fresh fish",
         "2",
         "great service fresh seafood downer rice nigiri sushi day old hard unseasoned awful think short grain sticky rice order sashimi instead enjoy fresh fish"
        ],
        [
         "51135",
         "520801",
         "good place meet friend   girlfriend come drink dinner evening habs game 6 ny rangers   soon get seat reservation   give drink order order charcuterie plate   settle start chat keep try clean drink plate time finish   finish exchange story pop try clear table   friendly soooo annoying settle bill leave \\n\\n\\nit nice place charcuterie plate tasty place leave bad taste mouth   return time soon",
         "1",
         "good place meet friend   girlfriend come drink dinner evening habs game 6 ny rangers   soon get seat reservation   give drink order order charcuterie plate   settle start chat keep try clean drink plate time finish   finish exchange story pop try clear table   friendly soooo annoying settle bill leave \\n\\n\\nit nice place charcuterie plate tasty place leave bad taste mouth   return time soon"
        ],
        [
         "41204",
         "394524",
         "atmosphere sell french cozy hand boring white cup lid boring plastic plate wall neat lamp chandelier curtain art look chair match dig boring cup.\\n\\noh \\nguess look forward bulky weird special cup girl \\n\\nthe chai chocolate croissant good",
         "2",
         "atmosphere sell french cozy hand boring white cup lid boring plastic plate wall neat lamp chandelier curtain art look chair match dig boring cup.\\n\\noh \\nguess look forward bulky weird special cup girl \\n\\nthe chai chocolate croissant good"
        ],
        [
         "32789",
         "288091",
         "stop brunch dinner sit drink love able review food think go happen \\n\\ni guess need 5 morning good service",
         "1",
         "stop brunch dinner sit drink love able review food think go happen \\n\\ni guess need 5 morning good service"
        ],
        [
         "33616",
         "298688",
         "fantastic view know   food incredibly average way overpriced   taste truffle shave capon chicken   enjoy marinate pencil shaving shake n bake     appetizer sampler include foie de gras yes ravioli 25.00 person 50 appetizer maaay zing     \\non upside sommelier knowledgeable wine turn great chateau nuf du pape sp   wine view good thing place   save 300 buy good bottle head rooftop observation deck    eat",
         "1",
         "fantastic view know   food incredibly average way overpriced   taste truffle shave capon chicken   enjoy marinate pencil shaving shake n bake     appetizer sampler include foie de gras yes ravioli 25.00 person 50 appetizer maaay zing     \\non upside sommelier knowledgeable wine turn great chateau nuf du pape sp   wine view good thing place   save 300 buy good bottle head rooftop observation deck    eat"
        ],
        [
         "55315",
         "576897",
         "rating 2.5 star \\n\\ncome know expect hear place area expect fast food joint?\\n\\ni come lunch friend order love bacon burger \\\"signature\\ burger signature burger honestly expect well order drink combo soda machine grab drink grab table number condiment stand wait order serve \\n\\nfor quality food worth price \\nwhen see excited look delicious look fancy imprint \\\"i love burgers\\ bun place see imprint bun unami burgers snapshot beauty expect taste mouth grease matter take bite grease immediately squirt burger continue feast oil grease dripping burger hand messy burger taste okay feel cooked taste good burger bacon want bacon :( order consist fry remember correctly 3 option reg fry truffle fry think sweet potato fry \\n\\ni come come vegas high expectation place plan come",
         "1",
         "rating 2.5 star \\n\\ncome know expect hear place area expect fast food joint?\\n\\ni come lunch friend order love bacon burger \\\"signature\\ burger signature burger honestly expect well order drink combo soda machine grab drink grab table number condiment stand wait order serve \\n\\nfor quality food worth price \\nwhen see excited look delicious look fancy imprint \\\"i love burgers\\ bun place see imprint bun unami burgers snapshot beauty expect taste mouth grease matter take bite grease immediately squirt burger continue feast oil grease dripping burger hand messy burger taste okay feel cooked taste good burger bacon want bacon :( order consist fry remember correctly 3 option reg fry truffle fry think sweet potato fry \\n\\ni come come vegas high expectation place plan come"
        ],
        [
         "62250",
         "674674",
         "guy corner advertising breakfast love place lunch disappointed walk person work 4 people i. line people wait food needless turn leave try build business staff",
         "1",
         "guy corner advertising breakfast love place lunch disappointed walk person work 4 people i. line people wait food needless turn leave try build business staff"
        ],
        [
         "2977",
         "18989",
         "delightful movie tell story bud incredible laugh smile laugh laugh jon bon jovi funny movie heck movie enough say watch",
         "2",
         "delightful movie tell story bud incredible laugh smile laugh laugh jon bon jovi funny movie heck movie enough say watch"
        ],
        [
         "14502",
         "74821",
         "ouchhhhhh burn frkn tongue",
         "0",
         "ouchhhhhh burn frkn tongue"
        ],
        [
         "24794",
         "192820",
         "great vinyl selection   decent cd selection   new cd selection use work ... maybe picky prog rock fan see stuff pick best buy   \\n\\nthe \\\"music\\ play store system day annoying ass avant garde experimental crap give immediate headache   \\n\\nwent hope find stuff find ... leave disappointed   exclusive company well cd selection   look vinyl",
         "1",
         "great vinyl selection   decent cd selection   new cd selection use work ... maybe picky prog rock fan see stuff pick best buy   \\n\\nthe \\\"music\\ play store system day annoying ass avant garde experimental crap give immediate headache   \\n\\nwent hope find stuff find ... leave disappointed   exclusive company well cd selection   look vinyl"
        ],
        [
         "57203",
         "602074",
         "let start say picky customer good thing bad thing good bad specialist suppose lol like thing right course realistic find right stick like glue anyway move 4 year ago look tattoo eyebrow like retouch year move get happy 3 year ago find joanna see work impressed book appt come find tattoo normal tattoo gun like pen needle sure call free hand talent finally look mirror eyebrow look amazing happy :d time need touch work incredible refer look permanent listen eyebrow perfectly like like say picky nice patient happy staff amazing polite courteous feel welcome soon walk door happy delight day spa definitely recommend spa thank joanna staff :d",
         "2",
         "let start say picky customer good thing bad thing good bad specialist suppose lol like thing right course realistic find right stick like glue anyway move 4 year ago look tattoo eyebrow like retouch year move get happy 3 year ago find joanna see work impressed book appt come find tattoo normal tattoo gun like pen needle sure call free hand talent finally look mirror eyebrow look amazing happy :d time need touch work incredible refer look permanent listen eyebrow perfectly like like say picky nice patient happy staff amazing polite courteous feel welcome soon walk door happy delight day spa definitely recommend spa thank joanna staff :d"
        ],
        [
         "29186",
         "247257",
         "ok know boyd place high flaluttin snotty joint strip man oh man place low rent   consider town neighborhood think local joint like suncoast tad market is.\\n\\nfirst player club promotion 7.11 steak lobster dinner risk head town   alright like think 7.11 go 5 star cuisine pittance   expect yuck thing nasty   believe player card menu 13 cheap gross   wait staff agree pretty nasty food   rubberize lobster badly season steak yum yum ... not!\\n\\nok super cheap meal go casino play bit   man smoke fill stink hole place   like absolutely ventilation happen   play lot place low end joint downtown well job ventilation casino suncoast \\n\\nplus machine tight expect local place   expect win hit   jackpot time sure nice spend money let play awhile arm bandit steal blind 20 minutes.\\n\\nthen use man room ewww dirty   dust urinal trash like highway pit stop unkempt.\\n\\nusually like boyd joint   like fremont main street   know expect place tell truth far superior opinion suncoast   good thing place local joint",
         "1",
         "ok know boyd place high flaluttin snotty joint strip man oh man place low rent   consider town neighborhood think local joint like suncoast tad market is.\\n\\nfirst player club promotion 7.11 steak lobster dinner risk head town   alright like think 7.11 go 5 star cuisine pittance   expect yuck thing nasty   believe player card menu 13 cheap gross   wait staff agree pretty nasty food   rubberize lobster badly season steak yum yum ... not!\\n\\nok super cheap meal go casino play bit   man smoke fill stink hole place   like absolutely ventilation happen   play lot place low end joint downtown well job ventilation casino suncoast \\n\\nplus machine tight expect local place   expect win hit   jackpot time sure nice spend money let play awhile arm bandit steal blind 20 minutes.\\n\\nthen use man room ewww dirty   dust urinal trash like highway pit stop unkempt.\\n\\nusually like boyd joint   like fremont main street   know expect place tell truth far superior opinion suncoast   good thing place local joint"
        ],
        [
         "16036",
         "80504",
         "  realllllllly want llike m start hate pa btw message great know dylan",
         "0",
         "  realllllllly want llike m start hate pa btw message great know dylan"
        ],
        [
         "59730",
         "636904",
         "auch dieser italiener hat es nicht lange auf dem markt \\u00fcberlebt.\\nla romantica gibt es nicht mehr",
         "1",
         "auch dieser italiener hat es nicht lange auf dem markt \\u00fcberlebt.\\nla romantica gibt es nicht mehr"
        ],
        [
         "11021",
         "61799",
         "  yes yes nuts ... like ... rich   tut x",
         "0",
         "  yes yes nuts ... like ... rich   tut x"
        ],
        [
         "12577",
         "67560",
         "pass wreck car   hope get ok finally pick speed b`mpre",
         "2",
         "pass wreck car   hope get ok finally pick speed b`mpre"
        ],
        [
         "17633",
         "99729",
         "review mireille m. talk service   \\n\\ndon't wrong food excellent   chef cook house 4 star   think atmosphere cozy enjoyable   \\n\\nbut path great restaurant great restauranteur hire train smart knowledgeable staff talk food read verbatim special card know wine list   point contact dining experience   guy nice answer question food wine current event basic math   \\n\\nbecause price point relative service experience well pittsburgh",
         "1",
         "review mireille m. talk service   \\n\\ndon't wrong food excellent   chef cook house 4 star   think atmosphere cozy enjoyable   \\n\\nbut path great restaurant great restauranteur hire train smart knowledgeable staff talk food read verbatim special card know wine list   point contact dining experience   guy nice answer question food wine current event basic math   \\n\\nbecause price point relative service experience well pittsburgh"
        ],
        [
         "4803",
         "30528",
         "q gather irish guy want movie particular movie night party hear ex roadie tell classic bit rock n roll lore gram parsons corpse steal lax loyal roadie honor parsons wish cremate joshuatree wow!<br /><br />what great idea movie rock n roll country grave robbing escape friendship 70 guess johnny knoxville jackass cause kind prank right knoxville want movie think snatch hand!<br /><br />but story exciting ... need knoxville struggle against.like psychotic girlfirend money parsons marry time o.k. know christina applegate audience like idea steal corpse.well dad join chase permission end parsons dad kill 10 fact orphan status tragic childhood key part parsons mythology mythology make movie creative problem solving.<br /><br />it uncomfortable experience anybody vaguely knowledgeable interested subject applegate presence double jarring invent character beverly hills bitch time -she walk movie cell phone hand secondly kind man parson associate kind harpy fact distort leave reversed easily find villain want parsons stepfather attempt whisk body home state law favor divide considerable inheritance.<br /><br />and music oh music love music hack bridge song chorus force background end horribly cover hippest new indie band starsailor girlfriend ask unnecessary irresistable question movie --wa writer producer director actually gram parson fan actually hear gram parsons course blah blah blah learn love factoid read bio online guy vouch parsons coolness say keith richards trip acid write wild horse mix bunch fact base movie person ask morally questionable rewrite history people know film real roadie permission set parsons estate give permission people get paycheck say great.<br /><br />but wonder ask embarassingly tremble voice truly impassioned parsons geek movie cheaply million consider original gram parsons fanbase audience director writer think figure fanbase doubt mojo magazine reading country rock 70 music fan agree bunch brits guess care cosmic american music know exist truthful parsons flick right spirit -it fit legend sentimentality song plenty people love told.<br /><br />i mention movie receive bunch stoned college kid slope johnny knoxville parsons fan ignore title movie jackass fan",
         "0",
         "q gather irish guy want movie particular movie night party hear ex roadie tell classic bit rock n roll lore gram parsons corpse steal lax loyal roadie honor parsons wish cremate joshuatree wow!<br /><br />what great idea movie rock n roll country grave robbing escape friendship 70 guess johnny knoxville jackass cause kind prank right knoxville want movie think snatch hand!<br /><br />but story exciting ... need knoxville struggle against.like psychotic girlfirend money parsons marry time o.k. know christina applegate audience like idea steal corpse.well dad join chase permission end parsons dad kill 10 fact orphan status tragic childhood key part parsons mythology mythology make movie creative problem solving.<br /><br />it uncomfortable experience anybody vaguely knowledgeable interested subject applegate presence double jarring invent character beverly hills bitch time -she walk movie cell phone hand secondly kind man parson associate kind harpy fact distort leave reversed easily find villain want parsons stepfather attempt whisk body home state law favor divide considerable inheritance.<br /><br />and music oh music love music hack bridge song chorus force background end horribly cover hippest new indie band starsailor girlfriend ask unnecessary irresistable question movie --wa writer producer director actually gram parson fan actually hear gram parsons course blah blah blah learn love factoid read bio online guy vouch parsons coolness say keith richards trip acid write wild horse mix bunch fact base movie person ask morally questionable rewrite history people know film real roadie permission set parsons estate give permission people get paycheck say great.<br /><br />but wonder ask embarassingly tremble voice truly impassioned parsons geek movie cheaply million consider original gram parsons fanbase audience director writer think figure fanbase doubt mojo magazine reading country rock 70 music fan agree bunch brits guess care cosmic american music know exist truthful parsons flick right spirit -it fit legend sentimentality song plenty people love told.<br /><br />i mention movie receive bunch stoned college kid slope johnny knoxville parsons fan ignore title movie jackass fan"
        ],
        [
         "61394",
         "661187",
         "hubby meet friend grit grace dinner jim gaffigan late march select restaurant reservation feel lot pressure great food great time good news great experience here!\\n\\ni arrive 15 minute reservation little nervous hostess caution party arrive hour late amazing job seat 5 10 minute late have backup plan case previous party promptly leave.\\n\\ni start mai tai wait table generally pretty disappointed mixed drink order .... drink pretty tasty come cool glass second drink arsenal fighting elleck cider follow table wigle whiskey ginever shot drink delicious love support local businesses.\\n\\nlet food husband want try variety thing definitely achieve goal get pork belly bites dim sum menu descent recently eat similar dish butcher rye dish come close restaurant incredible creation feel similarly dayboat scallops nice dish overpriced small portion food received.\\n\\nhowever dish expect deliver small plate short ribs cream cheese biscuits surprise dish like eat bite home cook heaven order sandwich restaurant panera husband want try crispy pig face roulade crispy pig face portion dish disappointing sandwich pack incredible flavor.\\n\\noutside drink food service descent interior decorate look forward return order favorite dish try new item",
         "2",
         "hubby meet friend grit grace dinner jim gaffigan late march select restaurant reservation feel lot pressure great food great time good news great experience here!\\n\\ni arrive 15 minute reservation little nervous hostess caution party arrive hour late amazing job seat 5 10 minute late have backup plan case previous party promptly leave.\\n\\ni start mai tai wait table generally pretty disappointed mixed drink order .... drink pretty tasty come cool glass second drink arsenal fighting elleck cider follow table wigle whiskey ginever shot drink delicious love support local businesses.\\n\\nlet food husband want try variety thing definitely achieve goal get pork belly bites dim sum menu descent recently eat similar dish butcher rye dish come close restaurant incredible creation feel similarly dayboat scallops nice dish overpriced small portion food received.\\n\\nhowever dish expect deliver small plate short ribs cream cheese biscuits surprise dish like eat bite home cook heaven order sandwich restaurant panera husband want try crispy pig face roulade crispy pig face portion dish disappointing sandwich pack incredible flavor.\\n\\noutside drink food service descent interior decorate look forward return order favorite dish try new item"
        ],
        [
         "61759",
         "667140",
         "go tempe dodge oil change   arizona pest squad work vehicle 2013 ram 2500 twin cummings 2013 ram 1500 5.7 way confuse tell leave truck night price 250 people rude ..... uhhh bounce outta quickness price way line staff snotty \\\"dog pony\\   \\\"ordeal\\ \\\"ideal!\\ drive away mad house 2 block away see sign \\\"oil depot.\\ drive truck owner introduce quickly price close half truck feel appreciated take work vehicle oil depot quality professional quick responsive experienced clean shop attention detail owner arizona pest squad imagine go oil change 5 star hand great job",
         "2",
         "go tempe dodge oil change   arizona pest squad work vehicle 2013 ram 2500 twin cummings 2013 ram 1500 5.7 way confuse tell leave truck night price 250 people rude ..... uhhh bounce outta quickness price way line staff snotty \\\"dog pony\\   \\\"ordeal\\ \\\"ideal!\\ drive away mad house 2 block away see sign \\\"oil depot.\\ drive truck owner introduce quickly price close half truck feel appreciated take work vehicle oil depot quality professional quick responsive experienced clean shop attention detail owner arizona pest squad imagine go oil change 5 star hand great job"
        ],
        [
         "56229",
         "589071",
         "tranquil spa experience las vegas strip place \\n\\nthe facility clean invite offer array spa product purchase staff welcoming take time amenity   steam room function feature \\ni like arrive early relax unwind quiet lounge offer bottled water hot tea apple bowl sure decoration little surprised spa water lemon cucumber snack typically find spa caliber \\n\\ni indulge aromatherapy massage therapist incredible talk treatment let know norm- glad choose good treatment experience \\n\\nif local sure ask local 30 discount \\n\\nenjoy",
         "2",
         "tranquil spa experience las vegas strip place \\n\\nthe facility clean invite offer array spa product purchase staff welcoming take time amenity   steam room function feature \\ni like arrive early relax unwind quiet lounge offer bottled water hot tea apple bowl sure decoration little surprised spa water lemon cucumber snack typically find spa caliber \\n\\ni indulge aromatherapy massage therapist incredible talk treatment let know norm- glad choose good treatment experience \\n\\nif local sure ask local 30 discount \\n\\nenjoy"
        ],
        [
         "5857",
         "37013",
         "agree movie sex seduction love fact make sex boring make wonder bother actually think remotely speak canadian indian second generation feel sex rate know hotel drunk idea copy korean movie yopgijogin gunyo 2001 thereabout korean film actually brilliant comedy time compel audience reflect complexity man woman relationship man woman difference experience thinking mean neal n nikki hotel drunk segment emulate bollywood movie maker try original seriously enjoy hindi flick copycat one enjoy speak indian feeling indian cultural mean",
         "0",
         "agree movie sex seduction love fact make sex boring make wonder bother actually think remotely speak canadian indian second generation feel sex rate know hotel drunk idea copy korean movie yopgijogin gunyo 2001 thereabout korean film actually brilliant comedy time compel audience reflect complexity man woman relationship man woman difference experience thinking mean neal n nikki hotel drunk segment emulate bollywood movie maker try original seriously enjoy hindi flick copycat one enjoy speak indian feeling indian cultural mean"
        ],
        [
         "5673",
         "35840",
         "movie beautiful set albert finney great job ruthless father movie fail jennifer jason leigh jumpy daughter match olivia de havilland far nuanced mature rendering heiress 1949 film feminist lean conclusion go austere conclusion novel washington square author henry james savagely parody feminism novel fan old hollywood great literature find movie disappointing",
         "0",
         "movie beautiful set albert finney great job ruthless father movie fail jennifer jason leigh jumpy daughter match olivia de havilland far nuanced mature rendering heiress 1949 film feminist lean conclusion go austere conclusion novel washington square author henry james savagely parody feminism novel fan old hollywood great literature find movie disappointing"
        ],
        [
         "6386",
         "40453",
         "absolutely 10 good music film totally essential educational experience music fanatic -- especially young rock punk fan today ... understand beginning particular artistic movement absolutely require understand root music mindset musical environment time .... mention political social factor involve time documentary flat rock n roll f u n miss say tell decline western civilization\" ... 1 2,the metal version available .. hopefully dvd",
         "2",
         "absolutely 10 good music film totally essential educational experience music fanatic -- especially young rock punk fan today ... understand beginning particular artistic movement absolutely require understand root music mindset musical environment time .... mention political social factor involve time documentary flat rock n roll f u n miss say tell decline western civilization\" ... 1 2,the metal version available .. hopefully dvd"
        ],
        [
         "58557",
         "620237",
         "ugh   together.\\nlong drive town address give incorrect   \\nsome new furniture   \\nit okay nicely latex worth drive offer usual goodwill discount",
         "1",
         "ugh   together.\\nlong drive town address give incorrect   \\nsome new furniture   \\nit okay nicely latex worth drive offer usual goodwill discount"
        ],
        [
         "15119",
         "77177",
         "knew idiot ..",
         "0",
         "knew idiot .."
        ],
        [
         "33007",
         "290498",
         "ehh write home good service food average veggie love hipster place worth 2 hr wait save trouble disappointment cross butler st franktuary",
         "1",
         "ehh write home good service food average veggie love hipster place worth 2 hr wait save trouble disappointment cross butler st franktuary"
        ],
        [
         "61103",
         "657246",
         "want fan tupelo honey ... firstly good replacement pewter rose great reputation tupelo asheville instead leave want \\n\\nin book tupelo 3.5 4 3 line staff issue feel properly train meet demand new kid block high expectation great job build excitement facebook think charlotte resident hope great brunch spot sunday afternoon \\n\\nhere issue customer point interaction \\n\\nparke continue challenge location \\n\\ncustomer service warm greeting enter ... lucky seat relatively quickly \\n\\nwait staff friendly little forgetful long period time receive food receive service \\n\\nfood food good expect term flavor bad great ... memorable \\n\\ni want love tupelo ... want fan adjustment order return customer recommend \\n\\ni'll give try asheville soon",
         "2",
         "want fan tupelo honey ... firstly good replacement pewter rose great reputation tupelo asheville instead leave want \\n\\nin book tupelo 3.5 4 3 line staff issue feel properly train meet demand new kid block high expectation great job build excitement facebook think charlotte resident hope great brunch spot sunday afternoon \\n\\nhere issue customer point interaction \\n\\nparke continue challenge location \\n\\ncustomer service warm greeting enter ... lucky seat relatively quickly \\n\\nwait staff friendly little forgetful long period time receive food receive service \\n\\nfood food good expect term flavor bad great ... memorable \\n\\ni want love tupelo ... want fan adjustment order return customer recommend \\n\\ni'll give try asheville soon"
        ],
        [
         "13706",
         "71782",
         "  cat",
         "1",
         "  cat"
        ],
        [
         "34035",
         "303740",
         "not busy take 10 minute iced carmel latte friendly mark strip sad",
         "1",
         "not busy take 10 minute iced carmel latte friendly mark strip sad"
        ],
        [
         "29427",
         "250207",
         "lux bar coffee bar study spot allude review usually pack order drink counter barista unique beautiful personable busy like lux lot typically want talk sit outside coffee pretty good bad round fairly certain soy milk little rank ... ... real roasted coffee bean delish muffin ... worth trip",
         "2",
         "lux bar coffee bar study spot allude review usually pack order drink counter barista unique beautiful personable busy like lux lot typically want talk sit outside coffee pretty good bad round fairly certain soy milk little rank ... ... real roasted coffee bean delish muffin ... worth trip"
        ],
        [
         "51210",
         "521679",
         "slot machine arrival airport large life variety buffet guess visit lifetime amazed totally disgusted :) \\n\\nthe hotel setup mimic little piece italy france new york egypt pirate classy ghetto fabulous btw elvis marilyn vegas \\n\\nwhat happen vegas stay vegas ka che",
         "2",
         "slot machine arrival airport large life variety buffet guess visit lifetime amazed totally disgusted :) \\n\\nthe hotel setup mimic little piece italy france new york egypt pirate classy ghetto fabulous btw elvis marilyn vegas \\n\\nwhat happen vegas stay vegas ka che"
        ],
        [
         "13103",
         "69559",
         "   right",
         "2",
         "   right"
        ],
        [
         "47465",
         "471954",
         "eat often- visit get angel hair pasta tomato sauce veggie like zucchini carrot broccoli mushroom ohh good ... bf get usual penne arrabiata daughter get usual alfredo love .... tell try different to!!!\\nfor appetizer order fried calamari say carrot zucchini feel little bit fool finely cut extra thin carrot zucchini sliver throw fried calamari big veggie chuck fry calamari order dish assume like good .... \\nthis yummy satisfy place eat hope roma grill stay long time",
         "2",
         "eat often- visit get angel hair pasta tomato sauce veggie like zucchini carrot broccoli mushroom ohh good ... bf get usual penne arrabiata daughter get usual alfredo love .... tell try different to!!!\\nfor appetizer order fried calamari say carrot zucchini feel little bit fool finely cut extra thin carrot zucchini sliver throw fried calamari big veggie chuck fry calamari order dish assume like good .... \\nthis yummy satisfy place eat hope roma grill stay long time"
        ],
        [
         "62218",
         "673934",
         "key lime maple bacon bar good great 4 choice coffee 3 choice sunday afternoon try morning",
         "1",
         "key lime maple bacon bar good great 4 choice coffee 3 choice sunday afternoon try morning"
        ],
        [
         "50840",
         "517456",
         "watch imperial palace like 5 time great today good specially lady gag performer tha face expression mask mask get cover wig performer look like huge purple caterpillar eye brow original video hole mask lady gaga sorry true",
         "1",
         "watch imperial palace like 5 time great today good specially lady gag performer tha face expression mask mask get cover wig performer look like huge purple caterpillar eye brow original video hole mask lady gaga sorry true"
        ],
        [
         "49202",
         "496450",
         "receive 30 minute gift card place christmas foot massage rex best foot spa experience memory figure 30 minute possibly pay extra 20 hour.\\n\\nthe lady give massage jenny well well rex strength literally think overall like rex routine well area thoroughly methodically jenny kind spend lot time area others.\\n\\non positive able good pressure get knee think actually fall asleep jenny work foot think snore wake doze reach level relaxation rex.\\n\\nstill slight edge best foot spa slightly cheap matter far east close house travel difference trivial case far east definitely bad choice foot massage",
         "2",
         "receive 30 minute gift card place christmas foot massage rex best foot spa experience memory figure 30 minute possibly pay extra 20 hour.\\n\\nthe lady give massage jenny well well rex strength literally think overall like rex routine well area thoroughly methodically jenny kind spend lot time area others.\\n\\non positive able good pressure get knee think actually fall asleep jenny work foot think snore wake doze reach level relaxation rex.\\n\\nstill slight edge best foot spa slightly cheap matter far east close house travel difference trivial case far east definitely bad choice foot massage"
        ],
        [
         "40705",
         "387789",
         "agree   shoppes lack personality   compare place shoppes venetian like compare night day   bunch high end shop store available place forum shops bellagio wynn   store pretty small barneys location stuff   nice walk look purchase head casino",
         "1",
         "agree   shoppes lack personality   compare place shoppes venetian like compare night day   bunch high end shop store available place forum shops bellagio wynn   store pretty small barneys location stuff   nice walk look purchase head casino"
        ],
        [
         "52015",
         "532775",
         "tasty burger   like well n   get little cheese bacon add lettuce tomato bbq sauce green pepper   shoulda add onion   pretty good!\\n\\nthe fry impress   steak fry skinny lil mcd fry   right middle skin   ok exciting.\\n\\ni'm sure guys come   see 8 people counter   :-)",
         "2",
         "tasty burger   like well n   get little cheese bacon add lettuce tomato bbq sauce green pepper   shoulda add onion   pretty good!\\n\\nthe fry impress   steak fry skinny lil mcd fry   right middle skin   ok exciting.\\n\\ni'm sure guys come   see 8 people counter   :-)"
        ]
       ],
       "shape": {
        "columns": 4,
        "rows": 18750
       }
      },
      "text/html": [
       "<div>\n",
       "<style scoped>\n",
       "    .dataframe tbody tr th:only-of-type {\n",
       "        vertical-align: middle;\n",
       "    }\n",
       "\n",
       "    .dataframe tbody tr th {\n",
       "        vertical-align: top;\n",
       "    }\n",
       "\n",
       "    .dataframe thead th {\n",
       "        text-align: right;\n",
       "    }\n",
       "</style>\n",
       "<table border=\"1\" class=\"dataframe\">\n",
       "  <thead>\n",
       "    <tr style=\"text-align: right;\">\n",
       "      <th></th>\n",
       "      <th>Unnamed: 0</th>\n",
       "      <th>text</th>\n",
       "      <th>label</th>\n",
       "      <th>preprocess_text</th>\n",
       "    </tr>\n",
       "  </thead>\n",
       "  <tbody>\n",
       "    <tr>\n",
       "      <th>22210</th>\n",
       "      <td>159174</td>\n",
       "      <td>truely well mexican restaurant north scottsdal...</td>\n",
       "      <td>2</td>\n",
       "      <td>truely well mexican restaurant north scottsdal...</td>\n",
       "    </tr>\n",
       "    <tr>\n",
       "      <th>48279</th>\n",
       "      <td>482985</td>\n",
       "      <td>ummmm ...... bad burger time    hey like salty...</td>\n",
       "      <td>1</td>\n",
       "      <td>ummmm ...... bad burger time    hey like salty...</td>\n",
       "    </tr>\n",
       "    <tr>\n",
       "      <th>33655</th>\n",
       "      <td>299098</td>\n",
       "      <td>review restaurant \\n\\nwell wait 40 minute satu...</td>\n",
       "      <td>2</td>\n",
       "      <td>review restaurant \\n\\nwell wait 40 minute satu...</td>\n",
       "    </tr>\n",
       "    <tr>\n",
       "      <th>2087</th>\n",
       "      <td>13241</td>\n",
       "      <td>see movie primarily brooke burke jill meet bri...</td>\n",
       "      <td>0</td>\n",
       "      <td>see movie primarily brooke burke jill meet bri...</td>\n",
       "    </tr>\n",
       "    <tr>\n",
       "      <th>56837</th>\n",
       "      <td>597292</td>\n",
       "      <td>recommend go apart poor service food great thi...</td>\n",
       "      <td>1</td>\n",
       "      <td>recommend go apart poor service food great thi...</td>\n",
       "    </tr>\n",
       "    <tr>\n",
       "      <th>...</th>\n",
       "      <td>...</td>\n",
       "      <td>...</td>\n",
       "      <td>...</td>\n",
       "      <td>...</td>\n",
       "    </tr>\n",
       "    <tr>\n",
       "      <th>57831</th>\n",
       "      <td>610257</td>\n",
       "      <td>usually love place tonight ... sign door sugge...</td>\n",
       "      <td>1</td>\n",
       "      <td>usually love place tonight ... sign door sugge...</td>\n",
       "    </tr>\n",
       "    <tr>\n",
       "      <th>3504</th>\n",
       "      <td>22303</td>\n",
       "      <td>anemic comedy drama unhappy seemingly rush aff...</td>\n",
       "      <td>0</td>\n",
       "      <td>anemic comedy drama unhappy seemingly rush aff...</td>\n",
       "    </tr>\n",
       "    <tr>\n",
       "      <th>7860</th>\n",
       "      <td>49843</td>\n",
       "      <td>shocked hate rating six seven average case emp...</td>\n",
       "      <td>0</td>\n",
       "      <td>shocked hate rating six seven average case emp...</td>\n",
       "    </tr>\n",
       "    <tr>\n",
       "      <th>49808</th>\n",
       "      <td>504416</td>\n",
       "      <td>go colleague fringe society!\\n\\ni go shop shor...</td>\n",
       "      <td>2</td>\n",
       "      <td>go colleague fringe society!\\n\\ni go shop shor...</td>\n",
       "    </tr>\n",
       "    <tr>\n",
       "      <th>42379</th>\n",
       "      <td>408024</td>\n",
       "      <td>mouai</td>\n",
       "      <td>1</td>\n",
       "      <td>mouai</td>\n",
       "    </tr>\n",
       "  </tbody>\n",
       "</table>\n",
       "<p>18750 rows × 4 columns</p>\n",
       "</div>"
      ],
      "text/plain": [
       "       Unnamed: 0                                               text  label  \\\n",
       "22210      159174  truely well mexican restaurant north scottsdal...      2   \n",
       "48279      482985  ummmm ...... bad burger time    hey like salty...      1   \n",
       "33655      299098  review restaurant \\n\\nwell wait 40 minute satu...      2   \n",
       "2087        13241  see movie primarily brooke burke jill meet bri...      0   \n",
       "56837      597292  recommend go apart poor service food great thi...      1   \n",
       "...           ...                                                ...    ...   \n",
       "57831      610257  usually love place tonight ... sign door sugge...      1   \n",
       "3504        22303  anemic comedy drama unhappy seemingly rush aff...      0   \n",
       "7860        49843  shocked hate rating six seven average case emp...      0   \n",
       "49808      504416  go colleague fringe society!\\n\\ni go shop shor...      2   \n",
       "42379      408024                                              mouai      1   \n",
       "\n",
       "                                         preprocess_text  \n",
       "22210  truely well mexican restaurant north scottsdal...  \n",
       "48279  ummmm ...... bad burger time    hey like salty...  \n",
       "33655  review restaurant \\n\\nwell wait 40 minute satu...  \n",
       "2087   see movie primarily brooke burke jill meet bri...  \n",
       "56837  recommend go apart poor service food great thi...  \n",
       "...                                                  ...  \n",
       "57831  usually love place tonight ... sign door sugge...  \n",
       "3504   anemic comedy drama unhappy seemingly rush aff...  \n",
       "7860   shocked hate rating six seven average case emp...  \n",
       "49808  go colleague fringe society!\\n\\ni go shop shor...  \n",
       "42379                                              mouai  \n",
       "\n",
       "[18750 rows x 4 columns]"
      ]
     },
     "execution_count": 6,
     "metadata": {},
     "output_type": "execute_result"
    }
   ],
   "source": [
    "df_test"
   ]
  },
  {
   "cell_type": "code",
   "execution_count": 7,
   "id": "6edf9ef1",
   "metadata": {},
   "outputs": [],
   "source": [
    "model_name = 'google-bert/bert-base-uncased'\n",
    "tokenizer = AutoTokenizer.from_pretrained(model_name)"
   ]
  },
  {
   "cell_type": "code",
   "execution_count": 8,
   "id": "6061d937",
   "metadata": {},
   "outputs": [
    {
     "data": {
      "application/vnd.jupyter.widget-view+json": {
       "model_id": "2e30d0fc7bb7421194c9db58e379e8f1",
       "version_major": 2,
       "version_minor": 0
      },
      "text/plain": [
       "Map:   0%|          | 0/43750 [00:00<?, ? examples/s]"
      ]
     },
     "metadata": {},
     "output_type": "display_data"
    },
    {
     "data": {
      "application/vnd.jupyter.widget-view+json": {
       "model_id": "ad7bf5429c0143fa817a74b2c7100719",
       "version_major": 2,
       "version_minor": 0
      },
      "text/plain": [
       "Map:   0%|          | 0/18750 [00:00<?, ? examples/s]"
      ]
     },
     "metadata": {},
     "output_type": "display_data"
    }
   ],
   "source": [
    "# Convert DataFrames to Hugging Face Datasets\n",
    "train_dataset = Dataset.from_pandas(df_train[['text', 'label']])\n",
    "test_dataset = Dataset.from_pandas(df_test[['text', 'label']])\n",
    "\n",
    "# Adding short max length to lower training time\n",
    "def tokenize_function(examples):\n",
    "    return tokenizer(examples['text'], padding='max_length', truncation=True, max_length=512)\n",
    "\n",
    "tokenized_train_dataset = train_dataset.map(tokenize_function, batched=True)\n",
    "tokenized_test_dataset = test_dataset.map(tokenize_function, batched=True)"
   ]
  },
  {
   "cell_type": "code",
   "execution_count": 9,
   "id": "d01cf5b1",
   "metadata": {},
   "outputs": [
    {
     "name": "stdout",
     "output_type": "stream",
     "text": [
      "Using device: cuda\n"
     ]
    }
   ],
   "source": [
    "import torch\n",
    "if torch.cuda.is_available():\n",
    "    device = \"cuda\"\n",
    "elif torch.backends.mps.is_available():\n",
    "    device = \"mps\"\n",
    "else:\n",
    "    device = \"cpu\"\n",
    "print(\"Using device:\", device)"
   ]
  },
  {
   "cell_type": "code",
   "execution_count": 10,
   "id": "218554ae",
   "metadata": {},
   "outputs": [
    {
     "name": "stderr",
     "output_type": "stream",
     "text": [
      "Some weights of BertForSequenceClassification were not initialized from the model checkpoint at google-bert/bert-base-uncased and are newly initialized: ['classifier.bias', 'classifier.weight']\n",
      "You should probably TRAIN this model on a down-stream task to be able to use it for predictions and inference.\n"
     ]
    }
   ],
   "source": [
    "model = AutoModelForSequenceClassification.from_pretrained(model_name, num_labels=3)\n",
    "\n",
    "lora_config = LoraConfig(\n",
    "    r=16,\n",
    "    lora_alpha=32,\n",
    "    target_modules=[\"query\", \"value\"],  # BERT uses query, key, value in attention\n",
    "    lora_dropout=0.1,\n",
    "    bias=\"all\",\n",
    "    task_type=TaskType.SEQ_CLS\n",
    ")\n",
    "\n",
    "training_args = TrainingArguments(\n",
    "    output_dir=\"./results/\" + model_name,\n",
    "    learning_rate=5e-5,\n",
    "    per_device_train_batch_size=32,\n",
    "    per_device_eval_batch_size=32,\n",
    "    gradient_accumulation_steps=1,\n",
    "    # gradient_checkpointing=True,\n",
    "    num_train_epochs=3,\n",
    "    dataloader_num_workers=5,\n",
    "    logging_steps=100,\n",
    "    optim=\"adamw_torch\",\n",
    "    # weight_decay=0.01,\n",
    "    adam_beta1=0.9,\n",
    "    adam_beta2=0.999,\n",
    "    adam_epsilon=1e-8,\n",
    ")\n",
    "\n",
    "model = get_peft_model(model, lora_config)\n",
    "model = model.to(device)\n",
    "\n",
    "for name, param in model.named_parameters():\n",
    "    if \"classifier\" in name:\n",
    "        param.requires_grad = True"
   ]
  },
  {
   "cell_type": "code",
   "execution_count": 11,
   "id": "c04d8ffe",
   "metadata": {},
   "outputs": [],
   "source": [
    "# Define a compute metrics function\n",
    "def compute_metrics(p):\n",
    "    preds = p.predictions.argmax(-1)\n",
    "    accuracy = accuracy_score(p.label_ids, preds)\n",
    "    return {'accuracy': accuracy}"
   ]
  },
  {
   "cell_type": "code",
   "execution_count": 12,
   "id": "32a4c332",
   "metadata": {},
   "outputs": [],
   "source": [
    "from transformers import TrainerCallback\n",
    "\n",
    "class LossAccuracyLogger(TrainerCallback):\n",
    "    def __init__(self):\n",
    "        self.train_loss = []\n",
    "        self.eval_accuracy = []\n",
    "\n",
    "    def on_log(self, args, state, control, logs=None, **kwargs):\n",
    "        if logs is not None:\n",
    "            if \"loss\" in logs:\n",
    "                self.train_loss.append((state.epoch, logs[\"loss\"]))\n",
    "            if \"eval_accuracy\" in logs:\n",
    "                self.eval_accuracy.append((state.epoch, logs[\"eval_accuracy\"]))\n"
   ]
  },
  {
   "cell_type": "code",
   "execution_count": 13,
   "id": "2b3af93c",
   "metadata": {},
   "outputs": [
    {
     "name": "stderr",
     "output_type": "stream",
     "text": [
      "No label_names provided for model class `PeftModelForSequenceClassification`. Since `PeftModel` hides base models input arguments, if label_names is not given, label_names can't be set automatically within `Trainer`. Note that empty label_names list will be used instead.\n"
     ]
    }
   ],
   "source": [
    "logger_callback = LossAccuracyLogger()\n",
    "\n",
    "trainer = Trainer(\n",
    "    model=model,\n",
    "    args=training_args,\n",
    "    train_dataset=tokenized_train_dataset,\n",
    "    eval_dataset=tokenized_test_dataset,\n",
    "    compute_metrics=compute_metrics,\n",
    "    callbacks=[logger_callback]\n",
    ")"
   ]
  },
  {
   "cell_type": "code",
   "execution_count": 14,
   "id": "08c68391",
   "metadata": {},
   "outputs": [
    {
     "ename": "KeyboardInterrupt",
     "evalue": "",
     "output_type": "error",
     "traceback": [
      "\u001b[31m---------------------------------------------------------------------------\u001b[39m",
      "\u001b[31mKeyboardInterrupt\u001b[39m                         Traceback (most recent call last)",
      "\u001b[36mCell\u001b[39m\u001b[36m \u001b[39m\u001b[32mIn[14]\u001b[39m\u001b[32m, line 2\u001b[39m\n\u001b[32m      1\u001b[39m \u001b[38;5;66;03m# Train the model\u001b[39;00m\n\u001b[32m----> \u001b[39m\u001b[32m2\u001b[39m \u001b[43mtrainer\u001b[49m\u001b[43m.\u001b[49m\u001b[43mtrain\u001b[49m\u001b[43m(\u001b[49m\u001b[43m)\u001b[49m\n",
      "\u001b[36mFile \u001b[39m\u001b[32md:\\526_term_project\\Skynet\\.venv\\Lib\\site-packages\\transformers\\trainer.py:2245\u001b[39m, in \u001b[36mTrainer.train\u001b[39m\u001b[34m(self, resume_from_checkpoint, trial, ignore_keys_for_eval, **kwargs)\u001b[39m\n\u001b[32m   2243\u001b[39m         hf_hub_utils.enable_progress_bars()\n\u001b[32m   2244\u001b[39m \u001b[38;5;28;01melse\u001b[39;00m:\n\u001b[32m-> \u001b[39m\u001b[32m2245\u001b[39m     \u001b[38;5;28;01mreturn\u001b[39;00m \u001b[43minner_training_loop\u001b[49m\u001b[43m(\u001b[49m\n\u001b[32m   2246\u001b[39m \u001b[43m        \u001b[49m\u001b[43margs\u001b[49m\u001b[43m=\u001b[49m\u001b[43margs\u001b[49m\u001b[43m,\u001b[49m\n\u001b[32m   2247\u001b[39m \u001b[43m        \u001b[49m\u001b[43mresume_from_checkpoint\u001b[49m\u001b[43m=\u001b[49m\u001b[43mresume_from_checkpoint\u001b[49m\u001b[43m,\u001b[49m\n\u001b[32m   2248\u001b[39m \u001b[43m        \u001b[49m\u001b[43mtrial\u001b[49m\u001b[43m=\u001b[49m\u001b[43mtrial\u001b[49m\u001b[43m,\u001b[49m\n\u001b[32m   2249\u001b[39m \u001b[43m        \u001b[49m\u001b[43mignore_keys_for_eval\u001b[49m\u001b[43m=\u001b[49m\u001b[43mignore_keys_for_eval\u001b[49m\u001b[43m,\u001b[49m\n\u001b[32m   2250\u001b[39m \u001b[43m    \u001b[49m\u001b[43m)\u001b[49m\n",
      "\u001b[36mFile \u001b[39m\u001b[32md:\\526_term_project\\Skynet\\.venv\\Lib\\site-packages\\transformers\\trainer.py:2514\u001b[39m, in \u001b[36mTrainer._inner_training_loop\u001b[39m\u001b[34m(self, batch_size, args, resume_from_checkpoint, trial, ignore_keys_for_eval)\u001b[39m\n\u001b[32m   2512\u001b[39m update_step += \u001b[32m1\u001b[39m\n\u001b[32m   2513\u001b[39m num_batches = args.gradient_accumulation_steps \u001b[38;5;28;01mif\u001b[39;00m update_step != (total_updates - \u001b[32m1\u001b[39m) \u001b[38;5;28;01melse\u001b[39;00m remainder\n\u001b[32m-> \u001b[39m\u001b[32m2514\u001b[39m batch_samples, num_items_in_batch = \u001b[38;5;28;43mself\u001b[39;49m\u001b[43m.\u001b[49m\u001b[43mget_batch_samples\u001b[49m\u001b[43m(\u001b[49m\u001b[43mepoch_iterator\u001b[49m\u001b[43m,\u001b[49m\u001b[43m \u001b[49m\u001b[43mnum_batches\u001b[49m\u001b[43m,\u001b[49m\u001b[43m \u001b[49m\u001b[43margs\u001b[49m\u001b[43m.\u001b[49m\u001b[43mdevice\u001b[49m\u001b[43m)\u001b[49m\n\u001b[32m   2515\u001b[39m \u001b[38;5;28;01mfor\u001b[39;00m i, inputs \u001b[38;5;129;01min\u001b[39;00m \u001b[38;5;28menumerate\u001b[39m(batch_samples):\n\u001b[32m   2516\u001b[39m     step += \u001b[32m1\u001b[39m\n",
      "\u001b[36mFile \u001b[39m\u001b[32md:\\526_term_project\\Skynet\\.venv\\Lib\\site-packages\\transformers\\trainer.py:5243\u001b[39m, in \u001b[36mTrainer.get_batch_samples\u001b[39m\u001b[34m(self, epoch_iterator, num_batches, device)\u001b[39m\n\u001b[32m   5241\u001b[39m \u001b[38;5;28;01mfor\u001b[39;00m _ \u001b[38;5;129;01min\u001b[39;00m \u001b[38;5;28mrange\u001b[39m(num_batches):\n\u001b[32m   5242\u001b[39m     \u001b[38;5;28;01mtry\u001b[39;00m:\n\u001b[32m-> \u001b[39m\u001b[32m5243\u001b[39m         batch_samples.append(\u001b[38;5;28;43mnext\u001b[39;49m\u001b[43m(\u001b[49m\u001b[43mepoch_iterator\u001b[49m\u001b[43m)\u001b[49m)\n\u001b[32m   5244\u001b[39m     \u001b[38;5;28;01mexcept\u001b[39;00m \u001b[38;5;167;01mStopIteration\u001b[39;00m:\n\u001b[32m   5245\u001b[39m         \u001b[38;5;28;01mbreak\u001b[39;00m\n",
      "\u001b[36mFile \u001b[39m\u001b[32md:\\526_term_project\\Skynet\\.venv\\Lib\\site-packages\\accelerate\\data_loader.py:563\u001b[39m, in \u001b[36mDataLoaderShard.__iter__\u001b[39m\u001b[34m(self)\u001b[39m\n\u001b[32m    560\u001b[39m \u001b[38;5;28mself\u001b[39m.begin()\n\u001b[32m    562\u001b[39m \u001b[38;5;28mself\u001b[39m.set_epoch(\u001b[38;5;28mself\u001b[39m.iteration)\n\u001b[32m--> \u001b[39m\u001b[32m563\u001b[39m dataloader_iter = \u001b[38;5;28;43mself\u001b[39;49m\u001b[43m.\u001b[49m\u001b[43mbase_dataloader\u001b[49m\u001b[43m.\u001b[49m\u001b[34;43m__iter__\u001b[39;49m\u001b[43m(\u001b[49m\u001b[43m)\u001b[49m\n\u001b[32m    564\u001b[39m \u001b[38;5;66;03m# We iterate one batch ahead to check when we are at the end\u001b[39;00m\n\u001b[32m    565\u001b[39m \u001b[38;5;28;01mtry\u001b[39;00m:\n",
      "\u001b[36mFile \u001b[39m\u001b[32md:\\526_term_project\\Skynet\\.venv\\Lib\\site-packages\\torch\\utils\\data\\dataloader.py:493\u001b[39m, in \u001b[36mDataLoader.__iter__\u001b[39m\u001b[34m(self)\u001b[39m\n\u001b[32m    491\u001b[39m     \u001b[38;5;28;01mreturn\u001b[39;00m \u001b[38;5;28mself\u001b[39m._iterator\n\u001b[32m    492\u001b[39m \u001b[38;5;28;01melse\u001b[39;00m:\n\u001b[32m--> \u001b[39m\u001b[32m493\u001b[39m     \u001b[38;5;28;01mreturn\u001b[39;00m \u001b[38;5;28;43mself\u001b[39;49m\u001b[43m.\u001b[49m\u001b[43m_get_iterator\u001b[49m\u001b[43m(\u001b[49m\u001b[43m)\u001b[49m\n",
      "\u001b[36mFile \u001b[39m\u001b[32md:\\526_term_project\\Skynet\\.venv\\Lib\\site-packages\\torch\\utils\\data\\dataloader.py:424\u001b[39m, in \u001b[36mDataLoader._get_iterator\u001b[39m\u001b[34m(self)\u001b[39m\n\u001b[32m    422\u001b[39m \u001b[38;5;28;01melse\u001b[39;00m:\n\u001b[32m    423\u001b[39m     \u001b[38;5;28mself\u001b[39m.check_worker_number_rationality()\n\u001b[32m--> \u001b[39m\u001b[32m424\u001b[39m     \u001b[38;5;28;01mreturn\u001b[39;00m \u001b[43m_MultiProcessingDataLoaderIter\u001b[49m\u001b[43m(\u001b[49m\u001b[38;5;28;43mself\u001b[39;49m\u001b[43m)\u001b[49m\n",
      "\u001b[36mFile \u001b[39m\u001b[32md:\\526_term_project\\Skynet\\.venv\\Lib\\site-packages\\torch\\utils\\data\\dataloader.py:1171\u001b[39m, in \u001b[36m_MultiProcessingDataLoaderIter.__init__\u001b[39m\u001b[34m(self, loader)\u001b[39m\n\u001b[32m   1164\u001b[39m w.daemon = \u001b[38;5;28;01mTrue\u001b[39;00m\n\u001b[32m   1165\u001b[39m \u001b[38;5;66;03m# NB: Process.start() actually take some time as it needs to\u001b[39;00m\n\u001b[32m   1166\u001b[39m \u001b[38;5;66;03m#     start a process and pass the arguments over via a pipe.\u001b[39;00m\n\u001b[32m   1167\u001b[39m \u001b[38;5;66;03m#     Therefore, we only add a worker to self._workers list after\u001b[39;00m\n\u001b[32m   1168\u001b[39m \u001b[38;5;66;03m#     it started, so that we do not call .join() if program dies\u001b[39;00m\n\u001b[32m   1169\u001b[39m \u001b[38;5;66;03m#     before it starts, and __del__ tries to join but will get:\u001b[39;00m\n\u001b[32m   1170\u001b[39m \u001b[38;5;66;03m#     AssertionError: can only join a started process.\u001b[39;00m\n\u001b[32m-> \u001b[39m\u001b[32m1171\u001b[39m \u001b[43mw\u001b[49m\u001b[43m.\u001b[49m\u001b[43mstart\u001b[49m\u001b[43m(\u001b[49m\u001b[43m)\u001b[49m\n\u001b[32m   1172\u001b[39m \u001b[38;5;28mself\u001b[39m._index_queues.append(index_queue)\n\u001b[32m   1173\u001b[39m \u001b[38;5;28mself\u001b[39m._workers.append(w)\n",
      "\u001b[36mFile \u001b[39m\u001b[32m~\\AppData\\Local\\Programs\\Python\\Python312\\Lib\\multiprocessing\\process.py:121\u001b[39m, in \u001b[36mBaseProcess.start\u001b[39m\u001b[34m(self)\u001b[39m\n\u001b[32m    118\u001b[39m \u001b[38;5;28;01massert\u001b[39;00m \u001b[38;5;129;01mnot\u001b[39;00m _current_process._config.get(\u001b[33m'\u001b[39m\u001b[33mdaemon\u001b[39m\u001b[33m'\u001b[39m), \\\n\u001b[32m    119\u001b[39m        \u001b[33m'\u001b[39m\u001b[33mdaemonic processes are not allowed to have children\u001b[39m\u001b[33m'\u001b[39m\n\u001b[32m    120\u001b[39m _cleanup()\n\u001b[32m--> \u001b[39m\u001b[32m121\u001b[39m \u001b[38;5;28mself\u001b[39m._popen = \u001b[38;5;28;43mself\u001b[39;49m\u001b[43m.\u001b[49m\u001b[43m_Popen\u001b[49m\u001b[43m(\u001b[49m\u001b[38;5;28;43mself\u001b[39;49m\u001b[43m)\u001b[49m\n\u001b[32m    122\u001b[39m \u001b[38;5;28mself\u001b[39m._sentinel = \u001b[38;5;28mself\u001b[39m._popen.sentinel\n\u001b[32m    123\u001b[39m \u001b[38;5;66;03m# Avoid a refcycle if the target function holds an indirect\u001b[39;00m\n\u001b[32m    124\u001b[39m \u001b[38;5;66;03m# reference to the process object (see bpo-30775)\u001b[39;00m\n",
      "\u001b[36mFile \u001b[39m\u001b[32m~\\AppData\\Local\\Programs\\Python\\Python312\\Lib\\multiprocessing\\context.py:224\u001b[39m, in \u001b[36mProcess._Popen\u001b[39m\u001b[34m(process_obj)\u001b[39m\n\u001b[32m    222\u001b[39m \u001b[38;5;129m@staticmethod\u001b[39m\n\u001b[32m    223\u001b[39m \u001b[38;5;28;01mdef\u001b[39;00m\u001b[38;5;250m \u001b[39m\u001b[34m_Popen\u001b[39m(process_obj):\n\u001b[32m--> \u001b[39m\u001b[32m224\u001b[39m     \u001b[38;5;28;01mreturn\u001b[39;00m \u001b[43m_default_context\u001b[49m\u001b[43m.\u001b[49m\u001b[43mget_context\u001b[49m\u001b[43m(\u001b[49m\u001b[43m)\u001b[49m\u001b[43m.\u001b[49m\u001b[43mProcess\u001b[49m\u001b[43m.\u001b[49m\u001b[43m_Popen\u001b[49m\u001b[43m(\u001b[49m\u001b[43mprocess_obj\u001b[49m\u001b[43m)\u001b[49m\n",
      "\u001b[36mFile \u001b[39m\u001b[32m~\\AppData\\Local\\Programs\\Python\\Python312\\Lib\\multiprocessing\\context.py:337\u001b[39m, in \u001b[36mSpawnProcess._Popen\u001b[39m\u001b[34m(process_obj)\u001b[39m\n\u001b[32m    334\u001b[39m \u001b[38;5;129m@staticmethod\u001b[39m\n\u001b[32m    335\u001b[39m \u001b[38;5;28;01mdef\u001b[39;00m\u001b[38;5;250m \u001b[39m\u001b[34m_Popen\u001b[39m(process_obj):\n\u001b[32m    336\u001b[39m     \u001b[38;5;28;01mfrom\u001b[39;00m\u001b[38;5;250m \u001b[39m\u001b[34;01m.\u001b[39;00m\u001b[34;01mpopen_spawn_win32\u001b[39;00m\u001b[38;5;250m \u001b[39m\u001b[38;5;28;01mimport\u001b[39;00m Popen\n\u001b[32m--> \u001b[39m\u001b[32m337\u001b[39m     \u001b[38;5;28;01mreturn\u001b[39;00m \u001b[43mPopen\u001b[49m\u001b[43m(\u001b[49m\u001b[43mprocess_obj\u001b[49m\u001b[43m)\u001b[49m\n",
      "\u001b[36mFile \u001b[39m\u001b[32m~\\AppData\\Local\\Programs\\Python\\Python312\\Lib\\multiprocessing\\popen_spawn_win32.py:95\u001b[39m, in \u001b[36mPopen.__init__\u001b[39m\u001b[34m(self, process_obj)\u001b[39m\n\u001b[32m     93\u001b[39m \u001b[38;5;28;01mtry\u001b[39;00m:\n\u001b[32m     94\u001b[39m     reduction.dump(prep_data, to_child)\n\u001b[32m---> \u001b[39m\u001b[32m95\u001b[39m     \u001b[43mreduction\u001b[49m\u001b[43m.\u001b[49m\u001b[43mdump\u001b[49m\u001b[43m(\u001b[49m\u001b[43mprocess_obj\u001b[49m\u001b[43m,\u001b[49m\u001b[43m \u001b[49m\u001b[43mto_child\u001b[49m\u001b[43m)\u001b[49m\n\u001b[32m     96\u001b[39m \u001b[38;5;28;01mfinally\u001b[39;00m:\n\u001b[32m     97\u001b[39m     set_spawning_popen(\u001b[38;5;28;01mNone\u001b[39;00m)\n",
      "\u001b[36mFile \u001b[39m\u001b[32m~\\AppData\\Local\\Programs\\Python\\Python312\\Lib\\multiprocessing\\reduction.py:60\u001b[39m, in \u001b[36mdump\u001b[39m\u001b[34m(obj, file, protocol)\u001b[39m\n\u001b[32m     58\u001b[39m \u001b[38;5;28;01mdef\u001b[39;00m\u001b[38;5;250m \u001b[39m\u001b[34mdump\u001b[39m(obj, file, protocol=\u001b[38;5;28;01mNone\u001b[39;00m):\n\u001b[32m     59\u001b[39m \u001b[38;5;250m    \u001b[39m\u001b[33;03m'''Replacement for pickle.dump() using ForkingPickler.'''\u001b[39;00m\n\u001b[32m---> \u001b[39m\u001b[32m60\u001b[39m     \u001b[43mForkingPickler\u001b[49m\u001b[43m(\u001b[49m\u001b[43mfile\u001b[49m\u001b[43m,\u001b[49m\u001b[43m \u001b[49m\u001b[43mprotocol\u001b[49m\u001b[43m)\u001b[49m\u001b[43m.\u001b[49m\u001b[43mdump\u001b[49m\u001b[43m(\u001b[49m\u001b[43mobj\u001b[49m\u001b[43m)\u001b[49m\n",
      "\u001b[31mKeyboardInterrupt\u001b[39m: "
     ]
    }
   ],
   "source": [
    "# Train the model\n",
    "trainer.train()"
   ]
  },
  {
   "cell_type": "code",
   "execution_count": null,
   "id": "61fb12e9",
   "metadata": {},
   "outputs": [],
   "source": [
    "trainer.save_model(\"./results/\" + model_name + \"v1\")"
   ]
  },
  {
   "cell_type": "code",
   "execution_count": null,
   "id": "16584683",
   "metadata": {},
   "outputs": [
    {
     "data": {
      "text/html": [
       "\n",
       "    <div>\n",
       "      \n",
       "      <progress value='239' max='239' style='width:300px; height:20px; vertical-align: middle;'></progress>\n",
       "      [239/239 00:56]\n",
       "    </div>\n",
       "    "
      ],
      "text/plain": [
       "<IPython.core.display.HTML object>"
      ]
     },
     "metadata": {},
     "output_type": "display_data"
    },
    {
     "name": "stdout",
     "output_type": "stream",
     "text": [
      "{'eval_loss': 0.7240390181541443, 'eval_accuracy': 0.5895620246525046, 'eval_runtime': 73.5016, 'eval_samples_per_second': 103.753, 'eval_steps_per_second': 3.252, 'epoch': 3.0}\n"
     ]
    },
    {
     "data": {
      "image/png": "[encoded data removed]",
      "text/plain": [
       "<Figure size 1000x500 with 2 Axes>"
      ]
     },
     "metadata": {},
     "output_type": "display_data"
    }
   ],
   "source": [
    "# Evaluate the model\n",
    "results = trainer.evaluate()\n",
    "print(results)\n",
    "\n",
    "import matplotlib.pyplot as plt\n",
    "\n",
    "# Unpack the epoch and values\n",
    "train_epochs, train_losses = zip(*logger_callback.train_loss)\n",
    "eval_epochs, eval_accuracies = zip(*logger_callback.eval_accuracy)\n",
    "\n",
    "# Plot training loss\n",
    "plt.figure(figsize=(10, 5))\n",
    "plt.plot(train_epochs, train_losses, marker='o')\n",
    "plt.title(\"Training Loss per Epoch\")\n",
    "plt.xlabel(\"Epoch\")\n",
    "plt.ylabel(\"Loss\")\n",
    "\n",
    "plt.tight_layout()\n",
    "plt.show()"
   ]
  },
  {
   "cell_type": "code",
   "execution_count": null,
   "id": "2c912383",
   "metadata": {},
   "outputs": [
    {
     "data": {
      "application/vnd.microsoft.datawrangler.viewer.v0+json": {
       "columns": [
        {
         "name": "index",
         "rawType": "int64",
         "type": "integer"
        },
        {
         "name": "Unnamed: 0",
         "rawType": "int64",
         "type": "integer"
        },
        {
         "name": "text",
         "rawType": "object",
         "type": "string"
        },
        {
         "name": "label",
         "rawType": "int64",
         "type": "integer"
        },
        {
         "name": "preprocess_text",
         "rawType": "object",
         "type": "string"
        }
       ],
       "conversionMethod": "pd.DataFrame",
       "ref": "a43f2d1a-d249-413a-bf60-bbbe5f01073f",
       "rows": [
        [
         "0",
         "0",
         "reviewer mention watch 1 oz episode hook right exactly happen me.<br /><br />the thing strike oz brutality unflinche scene violence set right word trust faint hearted timid pull punch regard drug sex violence hardcore classic use word.<br /><br />it call oz nickname give oswald maximum security state penitentary focus mainly emerald city experimental section prison cell glass front face inward privacy high agenda em city home .. aryans muslims gangsta latinos christians italians irish .... scuffle death stare dodgy dealing shady agreement far away.<br /><br />i main appeal fact go show dare forget pretty picture paint mainstream audience forget charm forget romance ... oz mess episode see strike nasty surreal ready watch develop taste oz get accustom high level graphic violence violence injustice crooked guard sell nickel inmate kill order away mannered middle class inmate turn prison bitch lack street skill prison experience watch oz comfortable uncomfortable view .... that touch dark",
         "2",
         "reviewer mention watch 1 oz episode hook right exactly happen me.<br /><br />the thing strike oz brutality unflinche scene violence set right word trust faint hearted timid pull punch regard drug sex violence hardcore classic use word.<br /><br />it call oz nickname give oswald maximum security state penitentary focus mainly emerald city experimental section prison cell glass front face inward privacy high agenda em city home .. aryans muslims gangsta latinos christians italians irish .... scuffle death stare dodgy dealing shady agreement far away.<br /><br />i main appeal fact go show dare forget pretty picture paint mainstream audience forget charm forget romance ... oz mess episode see strike nasty surreal ready watch develop taste oz get accustom high level graphic violence violence injustice crooked guard sell nickel inmate kill order away mannered middle class inmate turn prison bitch lack street skill prison experience watch oz comfortable uncomfortable view .... that touch dark"
        ],
        [
         "1",
         "1",
         "wonderful little production br /><br />the filming technique unassuming- old time bbc fashion give comforting discomforte sense realism entire piece br /><br />the actor extremely chosen- michael sheen get polari voice pat truly seamless editing guide reference williams diary entry worth watching terrificly write perform piece masterful production great master comedy life br /><br />the realism come home little thing fantasy guard use traditional dream technique remain solid disappear play knowledge sense particularly scene concern orton halliwell set particularly flat halliwell mural decorate surface terribly",
         "2",
         "wonderful little production br /><br />the filming technique unassuming- old time bbc fashion give comforting discomforte sense realism entire piece br /><br />the actor extremely chosen- michael sheen get polari voice pat truly seamless editing guide reference williams diary entry worth watching terrificly write perform piece masterful production great master comedy life br /><br />the realism come home little thing fantasy guard use traditional dream technique remain solid disappear play knowledge sense particularly scene concern orton halliwell set particularly flat halliwell mural decorate surface terribly"
        ],
        [
         "2",
         "2",
         "think wonderful way spend time hot summer weekend sit air condition theater watch light hearted comedy plot simplistic dialogue witty character likable bread suspect serial killer disappoint realize match point 2 risk addiction think proof woody allen fully control style grow love.<br /><br />this laugh woody comedy year dare decade impress scarlet johanson manage tone sexy image jump right average spirited young woman.<br /><br />this crown jewel career witty devil wears prada interesting superman great comedy friend",
         "2",
         "think wonderful way spend time hot summer weekend sit air condition theater watch light hearted comedy plot simplistic dialogue witty character likable bread suspect serial killer disappoint realize match point 2 risk addiction think proof woody allen fully control style grow love.<br /><br />this laugh woody comedy year dare decade impress scarlet johanson manage tone sexy image jump right average spirited young woman.<br /><br />this crown jewel career witty devil wears prada interesting superman great comedy friend"
        ],
        [
         "3",
         "3",
         "basically family little boy jake think zombie closet parent fight time.<br /><br />this movie slow soap opera ... suddenly jake decide rambo kill zombie.<br /><br />ok go film decide thriller drama drama movie watchable parent divorce argue like real life jake closet totally ruin film expect boogeyman similar movie instead watch drama meaningless thriller spots.<br /><br />3 10 play parent descent dialog shot jake ignore",
         "0",
         "basically family little boy jake think zombie closet parent fight time.<br /><br />this movie slow soap opera ... suddenly jake decide rambo kill zombie.<br /><br />ok go film decide thriller drama drama movie watchable parent divorce argue like real life jake closet totally ruin film expect boogeyman similar movie instead watch drama meaningless thriller spots.<br /><br />3 10 play parent descent dialog shot jake ignore"
        ],
        [
         "4",
         "4",
         "petter mattei love time money visually stunning film watch mr. mattei offer vivid portrait human relation movie tell money power success people different situation encounter br /><br />this variation arthur schnitzler play theme director transfer action present time new york different character meet connect connect way person know previous point contact stylishly film sophisticated luxurious look take people live world live habitat.<br /><br />the thing get soul picture different stage loneliness inhabit big city exactly good place human relation find sincere fulfillment discern case people encounter.<br /><br />the act good mr. mattei direction steve buscemi rosario dawson carol kane michael imperioli adrian grenier rest talented cast character come alive.<br /><br />we wish mr. mattei good luck await anxiously work",
         "2",
         "petter mattei love time money visually stunning film watch mr. mattei offer vivid portrait human relation movie tell money power success people different situation encounter br /><br />this variation arthur schnitzler play theme director transfer action present time new york different character meet connect connect way person know previous point contact stylishly film sophisticated luxurious look take people live world live habitat.<br /><br />the thing get soul picture different stage loneliness inhabit big city exactly good place human relation find sincere fulfillment discern case people encounter.<br /><br />the act good mr. mattei direction steve buscemi rosario dawson carol kane michael imperioli adrian grenier rest talented cast character come alive.<br /><br />we wish mr. mattei good luck await anxiously work"
        ],
        [
         "5",
         "5",
         "probably time favorite movie story selflessness sacrifice dedication noble cause preachy boring get old despite have see 15 time 25 year paul lukas performance bring tear eye bette davis truly sympathetic role delight kid grandma say like dress midget child make fun watch mother slow awakening happen world roof believable startling dozen thumb movie",
         "2",
         "probably time favorite movie story selflessness sacrifice dedication noble cause preachy boring get old despite have see 15 time 25 year paul lukas performance bring tear eye bette davis truly sympathetic role delight kid grandma say like dress midget child make fun watch mother slow awakening happen world roof believable startling dozen thumb movie"
        ],
        [
         "6",
         "6",
         "sure like resurrection date seahunt series tech today bring kid excitement grow black white tv seahunt gunsmoke hero week vote comeback new sea hunt need change pace tv work world water adventure oh way thank outlet like view viewpoint tv movie ole way believe get wanna nice read plus point sea hunt rhyme 10 line let submit leave doubt quit let",
         "2",
         "sure like resurrection date seahunt series tech today bring kid excitement grow black white tv seahunt gunsmoke hero week vote comeback new sea hunt need change pace tv work world water adventure oh way thank outlet like view viewpoint tv movie ole way believe get wanna nice read plus point sea hunt rhyme 10 line let submit leave doubt quit let"
        ],
        [
         "7",
         "7",
         "amazing fresh innovative idea 70 air 7 8 year brilliant thing drop 1990 funny anymore continue decline complete waste time today.<br /><br />it truly disgraceful far fall writing painfully bad performance bad mildly entertaining respite guest host probably air find hard believe creator hand select original cast choose band hack follow recognize brilliance fit replace mediocrity feel 2 star respect original cast huge success awful believe air",
         "0",
         "amazing fresh innovative idea 70 air 7 8 year brilliant thing drop 1990 funny anymore continue decline complete waste time today.<br /><br />it truly disgraceful far fall writing painfully bad performance bad mildly entertaining respite guest host probably air find hard believe creator hand select original cast choose band hack follow recognize brilliance fit replace mediocrity feel 2 star respect original cast huge success awful believe air"
        ],
        [
         "8",
         "8",
         "encourage positive comment film look forward watch film bad mistake see 950 film truly bad awful way editing pacing storyline act soundtrack film song lame country tune play time film look cheap nasty boring extreme rarely happy end credit film br /><br />the thing prevent give 1 score harvey keitel far good performance make bit effort keitel obsessive",
         "0",
         "encourage positive comment film look forward watch film bad mistake see 950 film truly bad awful way editing pacing storyline act soundtrack film song lame country tune play time film look cheap nasty boring extreme rarely happy end credit film br /><br />the thing prevent give 1 score harvey keitel far good performance make bit effort keitel obsessive"
        ],
        [
         "9",
         "9",
         "like original gut wrench laughter like movie young old love movie hell mom like it.<br /><br />great camp",
         "2",
         "like original gut wrench laughter like movie young old love movie hell mom like it.<br /><br />great camp"
        ],
        [
         "10",
         "10",
         "phil alien quirky film humour base oddness actual punchlines.<br /><br />at odd pretty funny movie progress find joke oddness funny anymore.<br /><br />its low budget film s problem pretty interesting character eventually lose interest.<br /><br />i imagine film appeal stoner currently partaking.<br /><br />for similar well try brother planet",
         "0",
         "phil alien quirky film humour base oddness actual punchlines.<br /><br />at odd pretty funny movie progress find joke oddness funny anymore.<br /><br />its low budget film s problem pretty interesting character eventually lose interest.<br /><br />i imagine film appeal stoner currently partaking.<br /><br />for similar well try brother planet"
        ],
        [
         "11",
         "11",
         "see movie 12 come recall scary scene big bird eat man dangle helplessly parachute right air horror horror.<br /><br />as young kid go cheesy b film saturday afternoon tired formula monster type movie usually include hero beautiful woman daughter professor happy resolution monster die end care romantic angle 12 year old predictable plot love unintentional humor.<br /><br />but year later see psycho come love star janet leigh bump early film sit take notice point screenwriter make story scary possible wear formula rule",
         "0",
         "see movie 12 come recall scary scene big bird eat man dangle helplessly parachute right air horror horror.<br /><br />as young kid go cheesy b film saturday afternoon tired formula monster type movie usually include hero beautiful woman daughter professor happy resolution monster die end care romantic angle 12 year old predictable plot love unintentional humor.<br /><br />but year later see psycho come love star janet leigh bump early film sit take notice point screenwriter make story scary possible wear formula rule"
        ],
        [
         "12",
         "12",
         "m big fan boll work enjoy movie postal maybe m boll apparently buy right use far cry long ago game finsishe br /><br />people enjoy kill merc infiltrate secret research lab locate tropical island warn far cry ... mr boll scheme legion schmuck .. feel loneley set mr boll invite countryman play player name til schweiger udo kier ralf moeller.<br /><br />three name actually selfs pretty big movie biz tale go like jack carver play til schweiger yes carver german hail bratwurst eat dude find til act movie pretty badass .. people complain stay true carver agenda see carver person perspective know look like kick .. br /><br />however storyline film demented evil mad scientist dr. krieger play udo kier make genetically mutate soldier gms call perform secret research island remind spoiler vancouver reason s right palm tree instead get nice rich lumberjack wood go far start cry mehehe .. wanna stay true bolls shenanigan movie disappoint deliver true boll experience mean suck.<br /><br />there thing worth mention imply boll good work area film nice boat fight scene crome albino gms squad enter scene make laugh .. movie far cry reek scheisse poop simpleton fa r wanna wiff ahead .. btw carver get annoying sidekick make wanna shoot minute screen",
         "0",
         "m big fan boll work enjoy movie postal maybe m boll apparently buy right use far cry long ago game finsishe br /><br />people enjoy kill merc infiltrate secret research lab locate tropical island warn far cry ... mr boll scheme legion schmuck .. feel loneley set mr boll invite countryman play player name til schweiger udo kier ralf moeller.<br /><br />three name actually selfs pretty big movie biz tale go like jack carver play til schweiger yes carver german hail bratwurst eat dude find til act movie pretty badass .. people complain stay true carver agenda see carver person perspective know look like kick .. br /><br />however storyline film demented evil mad scientist dr. krieger play udo kier make genetically mutate soldier gms call perform secret research island remind spoiler vancouver reason s right palm tree instead get nice rich lumberjack wood go far start cry mehehe .. wanna stay true bolls shenanigan movie disappoint deliver true boll experience mean suck.<br /><br />there thing worth mention imply boll good work area film nice boat fight scene crome albino gms squad enter scene make laugh .. movie far cry reek scheisse poop simpleton fa r wanna wiff ahead .. btw carver get annoying sidekick make wanna shoot minute screen"
        ],
        [
         "13",
         "13",
         "cast play shakespeare.<br /><br />shakespeare lost.<br /><br />i appreciate try bring shakespeare masse ruin good.<br /><br />is scottish play favorite shakespeare know know certain rev bowdler bowdlerization try similar victorian era.<br /><br />in word improve perfection.<br /><br />i write write line text english composition forte go movie saying go cut",
         "0",
         "cast play shakespeare.<br /><br />shakespeare lost.<br /><br />i appreciate try bring shakespeare masse ruin good.<br /><br />is scottish play favorite shakespeare know know certain rev bowdler bowdlerization try similar victorian era.<br /><br />in word improve perfection.<br /><br />i write write line text english composition forte go movie saying go cut"
        ],
        [
         "14",
         "14",
         "fantastic movie prisoner famous actor george clooney fan roll bad good thing movie soundtrack man constant sorrow recommand movie everybody greeting bart",
         "2",
         "fantastic movie prisoner famous actor george clooney fan roll bad good thing movie soundtrack man constant sorrow recommand movie everybody greeting bart"
        ],
        [
         "15",
         "15",
         "kind draw erotic scene realize amateurish unbelievable bit film see sort like high school film project rosanna arquette thinking stock character bizarre suppose midwest town pretty hard involve lesson learn brilliant insight stilte ridiculous lot skin intrigue videotape nonsense .... bisexual relationship heterosexual encounter absurd dance everybody play stereotyped role pass like million mile bad waste film money spend starve child aids africa .....",
         "0",
         "kind draw erotic scene realize amateurish unbelievable bit film see sort like high school film project rosanna arquette thinking stock character bizarre suppose midwest town pretty hard involve lesson learn brilliant insight stilte ridiculous lot skin intrigue videotape nonsense .... bisexual relationship heterosexual encounter absurd dance everybody play stereotyped role pass like million mile bad waste film money spend starve child aids africa ....."
        ],
        [
         "16",
         "16",
         "film simply remade bad film fail capture flavor terror 1963 film title liam neeson excellent cast hold exception owen wilson bring right feel character luke major fault version stray far shirley jackson story attempt grandiose lose thrill early film trade snazzy special effect bad film enjoy friction terror old version",
         "2",
         "film simply remade bad film fail capture flavor terror 1963 film title liam neeson excellent cast hold exception owen wilson bring right feel character luke major fault version stray far shirley jackson story attempt grandiose lose thrill early film trade snazzy special effect bad film enjoy friction terror old version"
        ],
        [
         "17",
         "17",
         "movie 10 awful movie horrible br /><br />there continuous minute fight monster chance character development busy run sword fight emotional attachment big bad machine want destroy br /><br />scenes blatantly steal movie lotr star wars matrix br /><br />examples br /><br />>the ghost scene end steal final scene old star wars yoda obee vader br /><br />>the spider machine beginning exactly like frodo attack spider return king elijah wood victim film wait ...... hypnotize stings victim wrap ..... uh hello????<br /><br />>and machine vs. human theme matrix .. terminator ..... <br /><br />there example waste time tell nazi nazi br /><br />there juvenile story line rush juvenile conclusion movie decide child movie adult movie br /><br />just awful real disappointment save money",
         "0",
         "movie 10 awful movie horrible br /><br />there continuous minute fight monster chance character development busy run sword fight emotional attachment big bad machine want destroy br /><br />scenes blatantly steal movie lotr star wars matrix br /><br />examples br /><br />>the ghost scene end steal final scene old star wars yoda obee vader br /><br />>the spider machine beginning exactly like frodo attack spider return king elijah wood victim film wait ...... hypnotize stings victim wrap ..... uh hello????<br /><br />>and machine vs. human theme matrix .. terminator ..... <br /><br />there example waste time tell nazi nazi br /><br />there juvenile story line rush juvenile conclusion movie decide child movie adult movie br /><br />just awful real disappointment save money"
        ],
        [
         "18",
         "18",
         "remember film film watch cinema picture dark place nervous 74/75 dad take brother sister newbury cinema newbury berkshire england recall tiger lot snow film appearance grizzly adams actor dan haggery think tiger get shoot die know find dvd etc let know cinema turn fitness club big shame near cinema 20 mile away love hear see film like",
         "2",
         "remember film film watch cinema picture dark place nervous 74/75 dad take brother sister newbury cinema newbury berkshire england recall tiger lot snow film appearance grizzly adams actor dan haggery think tiger get shoot die know find dvd etc let know cinema turn fitness club big shame near cinema 20 mile away love hear see film like"
        ],
        [
         "19",
         "19",
         "awful film real stinker nominate golden globe take story famous female renaissance painter mangle recognition complaint take liberty fact story good perfectly fine simply bizarre -- account true story artist far well film come dishwater dull script suppose naked people factual version hurriedly cap end summary artist life -- save couple hour favor rest film brevity",
         "0",
         "awful film real stinker nominate golden globe take story famous female renaissance painter mangle recognition complaint take liberty fact story good perfectly fine simply bizarre -- account true story artist far well film come dishwater dull script suppose naked people factual version hurriedly cap end summary artist life -- save couple hour favor rest film brevity"
        ],
        [
         "20",
         "20",
         "success die hard sequel surprise 1990 glut die hard ..... movie cash wrong guy wrong place wrong time concept cliffhanger die hard mountain time rescue sly stop mom shoot stallone career.<br /><br />cliffhanger big nit picker dream especially expert mountain climbing base jumping aviation facial expression acting skill excuse dismiss film overblown pile junk stallone manage act horse forget nonsense actually lovable undeniably entertaining romp deliver plenty thrill unintentionally plenty laughs.<br /><br />you've get love john lithgows sneery evilness tick box band baddie good permanently harassed hapless turncoat agent rex linn travers.<br /><br />he henry portrait serial killer michael rooker noteworthy cringe worthy performance hal insist constantly shriek painful disbelief captor man hurt anybody whilst surely look like ralph waite frank character grin girl plummet death.<br /><br />mention london burning actor craig fairbrass brit bad guy come cropper whilst hal human football yes help enjoy bit hal need good kicking.<br /><br />so forget well judgement care happen lower act expectation turn volume enjoy look qaulen wear helicopter",
         "2",
         "success die hard sequel surprise 1990 glut die hard ..... movie cash wrong guy wrong place wrong time concept cliffhanger die hard mountain time rescue sly stop mom shoot stallone career.<br /><br />cliffhanger big nit picker dream especially expert mountain climbing base jumping aviation facial expression acting skill excuse dismiss film overblown pile junk stallone manage act horse forget nonsense actually lovable undeniably entertaining romp deliver plenty thrill unintentionally plenty laughs.<br /><br />you've get love john lithgows sneery evilness tick box band baddie good permanently harassed hapless turncoat agent rex linn travers.<br /><br />he henry portrait serial killer michael rooker noteworthy cringe worthy performance hal insist constantly shriek painful disbelief captor man hurt anybody whilst surely look like ralph waite frank character grin girl plummet death.<br /><br />mention london burning actor craig fairbrass brit bad guy come cropper whilst hal human football yes help enjoy bit hal need good kicking.<br /><br />so forget well judgement care happen lower act expectation turn volume enjoy look qaulen wear helicopter"
        ],
        [
         "21",
         "21",
         "terrible misfortune have view b movie entirety.<br /><br />all is--- save time money get bad b movie time call b movie like f movie fail aspect good movie story interesting actor paper thin believable bad direction action sequence fake funny ....... almost.<br /><br />the movie pack crappy liner respectable person find amusing little bit.<br /><br />this movie suppose gear man woman utterly unattractive especially old wrinkle thing come end try appear sexy weird horrible costume fail miserably!!!<br /><br />even ridiculous b movie laugh painful watch",
         "0",
         "terrible misfortune have view b movie entirety.<br /><br />all is--- save time money get bad b movie time call b movie like f movie fail aspect good movie story interesting actor paper thin believable bad direction action sequence fake funny ....... almost.<br /><br />the movie pack crappy liner respectable person find amusing little bit.<br /><br />this movie suppose gear man woman utterly unattractive especially old wrinkle thing come end try appear sexy weird horrible costume fail miserably!!!<br /><br />even ridiculous b movie laugh painful watch"
        ],
        [
         "22",
         "22",
         "absolutely stunning movie 2.5 hrs kill watch will regret fun rajnikanth carry movie shoulder like music a.r.rehman take time grow hear time start like",
         "2",
         "absolutely stunning movie 2.5 hrs kill watch will regret fun rajnikanth carry movie shoulder like music a.r.rehman take time grow hear time start like"
        ],
        [
         "23",
         "23",
         "let thing straight anime fan- matter fact watch speed racer time preschool b like b movies hilarious c like godzilla movies- lot.<br /><br />move movie come like go usual b movie crappy fx sudden- boom anime come movie go wwwaaaaayyyyy downhill.<br /><br />the animation bad cheap bad remember speed racer crissake fact cheap scene movie vividly remember bunch kid run school ... kid fx terrible dinosaur look bad godzilla addition transition live action animation unorganized dialogue voices(especially english dub view horrid beg dad tape dvd/ vhs player thing keep survive crack joke comment like robot joel mike mst3 k pick season honestly way barely enjoy movie survive time.<br /><br />heck plan fellow otaku pal halloween b movie night stupid pretty painful watch unintentionally hilarious time give movie 3/10 improvement 0.5/10 originally go it.<br /><br />(accorde grading scale 3/10 mean pretty boring bad fun count find way fun fun count 15",
         "0",
         "let thing straight anime fan- matter fact watch speed racer time preschool b like b movies hilarious c like godzilla movies- lot.<br /><br />move movie come like go usual b movie crappy fx sudden- boom anime come movie go wwwaaaaayyyyy downhill.<br /><br />the animation bad cheap bad remember speed racer crissake fact cheap scene movie vividly remember bunch kid run school ... kid fx terrible dinosaur look bad godzilla addition transition live action animation unorganized dialogue voices(especially english dub view horrid beg dad tape dvd/ vhs player thing keep survive crack joke comment like robot joel mike mst3 k pick season honestly way barely enjoy movie survive time.<br /><br />heck plan fellow otaku pal halloween b movie night stupid pretty painful watch unintentionally hilarious time give movie 3/10 improvement 0.5/10 originally go it.<br /><br />(accorde grading scale 3/10 mean pretty boring bad fun count find way fun fun count 15"
        ],
        [
         "24",
         "24",
         "bad movie see worldfest receive applause think receive recognition base know actor film great j.beal movie minute m.parker well actress allow rest acting hard judge movie ridiculous predictable main character totally unsympathetic bore watch real emotional depth story movie revolve actor work feel original development cop feel like straight video movie see 90 ... good standards.<br /><br",
         "0",
         "bad movie see worldfest receive applause think receive recognition base know actor film great j.beal movie minute m.parker well actress allow rest acting hard judge movie ridiculous predictable main character totally unsympathetic bore watch real emotional depth story movie revolve actor work feel original development cop feel like straight video movie see 90 ... good standards.<br /><br"
        ],
        [
         "25",
         "25",
         "karen carpenter story show little singer karen carpenter complex life fail give accurate fact details.<br /><br />cynthia gibb portray karen fine election good actress play naive sort dumb karen carpenter think role need strong character strong personality.<br /><br />louise fletcher role agnes carpenter terrific great job karen mother.<br /><br />it great song include soundtrack album unfortunately movie rating usa country",
         "2",
         "karen carpenter story show little singer karen carpenter complex life fail give accurate fact details.<br /><br />cynthia gibb portray karen fine election good actress play naive sort dumb karen carpenter think role need strong character strong personality.<br /><br />louise fletcher role agnes carpenter terrific great job karen mother.<br /><br />it great song include soundtrack album unfortunately movie rating usa country"
        ],
        [
         "26",
         "26",
         "cell exotic masterpiece dizzying trip vast mind serial killer talented director conclusive evidence achieve human being unleash uninhibited imagination boldness work push aside thought fall formula cliche create truly magnificent good movie year date.<br /><br />i've read numerous complaint film style substance poorly cast character bad acting negatively criticize film miss point movie landmark tradition future movie hopefully follow cell open door world imagination slam door face tell director tarsem singh want personally welcome movie tarsem love try challenge him.<br /><br />we've hear talk go inside mind serial killer yes agree genre bit overwork 90 movie try depict make serial killer tick work fail cell blaze trail give new twist physically transport mind present fascinating journey mysterious subject matter studied.<br /><br />i like movie bog scientific jargon try explain jennifer lopez actually get enter brain instead lie laboratory table wrap look like long twizzlers jaunt entity cell want let guess people like true like explanation movie movie venture new ground let desire simply in.<br /><br />i notice film dark show reality maybe contrast bright visual inside brain nonetheless set design simply astonishing surprised film take home oscars cinematography good costume good director like nominate good picture.<br /><br />i've notice kind repeat stress fantastic think cell walk movie open mind take wonder eye pop feast assure good time guess film little people write weird crazy psychology imagination human mind right alley leave theater hear audience member movie sure lot good drug want smoking.<br /><br 4",
         "2",
         "cell exotic masterpiece dizzying trip vast mind serial killer talented director conclusive evidence achieve human being unleash uninhibited imagination boldness work push aside thought fall formula cliche create truly magnificent good movie year date.<br /><br />i've read numerous complaint film style substance poorly cast character bad acting negatively criticize film miss point movie landmark tradition future movie hopefully follow cell open door world imagination slam door face tell director tarsem singh want personally welcome movie tarsem love try challenge him.<br /><br />we've hear talk go inside mind serial killer yes agree genre bit overwork 90 movie try depict make serial killer tick work fail cell blaze trail give new twist physically transport mind present fascinating journey mysterious subject matter studied.<br /><br />i like movie bog scientific jargon try explain jennifer lopez actually get enter brain instead lie laboratory table wrap look like long twizzlers jaunt entity cell want let guess people like true like explanation movie movie venture new ground let desire simply in.<br /><br />i notice film dark show reality maybe contrast bright visual inside brain nonetheless set design simply astonishing surprised film take home oscars cinematography good costume good director like nominate good picture.<br /><br />i've notice kind repeat stress fantastic think cell walk movie open mind take wonder eye pop feast assure good time guess film little people write weird crazy psychology imagination human mind right alley leave theater hear audience member movie sure lot good drug want smoking.<br /><br 4"
        ],
        [
         "27",
         "27",
         "film try thing sting political satire hollywood blockbuster sappy romantic comedy family value promo ... list go fail miserably interest turn end.<br /><br />although appreciate spirit war inc depress clumsy effort especially take target reflect lack existence critique simply poor writing direction production particular film.<br /><br />there critique corporatization war poke fun way diminish true atrocity happen remind bit king similarly trivialize genuine cause concern",
         "0",
         "film try thing sting political satire hollywood blockbuster sappy romantic comedy family value promo ... list go fail miserably interest turn end.<br /><br />although appreciate spirit war inc depress clumsy effort especially take target reflect lack existence critique simply poor writing direction production particular film.<br /><br />there critique corporatization war poke fun way diminish true atrocity happen remind bit king similarly trivialize genuine cause concern"
        ],
        [
         "28",
         "28",
         "movie frustrating energetic totally prepared good time think able stand wrong weird looping like watch america funniest home videos damn parent hate stereo typical latino family need speak person responsible need talk little girl hang hate mention final scene transcend gloriously bad badness movie crappy dancing horrible beautiful",
         "0",
         "movie frustrating energetic totally prepared good time think able stand wrong weird looping like watch america funniest home videos damn parent hate stereo typical latino family need speak person responsible need talk little girl hang hate mention final scene transcend gloriously bad badness movie crappy dancing horrible beautiful"
        ],
        [
         "29",
         "29",
         "war movie hollywood genre redone time clichéd dialogue rehash plot action sequence unavoidable conflict deal large scale combat war movie come go grain bring truly original compelling story life silver screen civil war era cold mountain star jude law nicole kidman renée zellweger film.<br /><br />then call cold mountain war movie entirely accurate true film open literally quick dirty battle sequence put glory director edward zwick shame cold mountain civil war period people time story center disgruntle confederate soldier inman play jude law disgusted gruesome war homesick beautiful hamlet cold mountain north carolina equally beautiful southern belle leave ada monroe play nicole kidman glance setup appear formulaic romantic interest home give audience sympathy root reluctant soldier tribulation battlefield early segment film relatively unimpressive somewhat contrived.<br /><br />\"cold mountain soon take drastic turn intrepid hero inman turn deserter incidentally save audience potentially confusing scenario want root confederates begin long odyssey homeward farm ada cultured way prove little use field soon transform wilderbeast come ada rescue course tough nail ruby thewes play renée zellweger help ada farm importantly cope loneliness isolation war bring ada.<br /><br />within setting vivid compelling time disturbing portrait war tear south unfold character inman ada interact surprisingly complex enhance wonderful performance brendan gleeson ruby deadbeat father ray winstone unrepentant southern lawman natalie portman deeply troubled isolated young mother greatly affect change war northern aggression bad dark pervade anti war message accent effective haunt score chillingly beautiful shot virginia north carolina communicate audience gruesome battle scene scarred land traumatize people war fight weapon tactic war change past century hellish effect land timelessly relevant.<br /><br />director anthony minghella manage maintain gloomy mood film atmosphere unfortunately denigrate tepid climax little justice wonderfully form character love story inman ada awkwardly tack beginning end film inherently distant abstracted absurd nature relationship way fit dismal nature rest plot.<br /><br />make mistake cold mountain trait feel good romance inspire war drama unique vision era sure entertain truly absorb audience life people tear apart war entirely desperate rid terrible repercussion altogether",
         "2",
         "war movie hollywood genre redone time clichéd dialogue rehash plot action sequence unavoidable conflict deal large scale combat war movie come go grain bring truly original compelling story life silver screen civil war era cold mountain star jude law nicole kidman renée zellweger film.<br /><br />then call cold mountain war movie entirely accurate true film open literally quick dirty battle sequence put glory director edward zwick shame cold mountain civil war period people time story center disgruntle confederate soldier inman play jude law disgusted gruesome war homesick beautiful hamlet cold mountain north carolina equally beautiful southern belle leave ada monroe play nicole kidman glance setup appear formulaic romantic interest home give audience sympathy root reluctant soldier tribulation battlefield early segment film relatively unimpressive somewhat contrived.<br /><br />\"cold mountain soon take drastic turn intrepid hero inman turn deserter incidentally save audience potentially confusing scenario want root confederates begin long odyssey homeward farm ada cultured way prove little use field soon transform wilderbeast come ada rescue course tough nail ruby thewes play renée zellweger help ada farm importantly cope loneliness isolation war bring ada.<br /><br />within setting vivid compelling time disturbing portrait war tear south unfold character inman ada interact surprisingly complex enhance wonderful performance brendan gleeson ruby deadbeat father ray winstone unrepentant southern lawman natalie portman deeply troubled isolated young mother greatly affect change war northern aggression bad dark pervade anti war message accent effective haunt score chillingly beautiful shot virginia north carolina communicate audience gruesome battle scene scarred land traumatize people war fight weapon tactic war change past century hellish effect land timelessly relevant.<br /><br />director anthony minghella manage maintain gloomy mood film atmosphere unfortunately denigrate tepid climax little justice wonderfully form character love story inman ada awkwardly tack beginning end film inherently distant abstracted absurd nature relationship way fit dismal nature rest plot.<br /><br />make mistake cold mountain trait feel good romance inspire war drama unique vision era sure entertain truly absorb audience life people tear apart war entirely desperate rid terrible repercussion altogether"
        ],
        [
         "30",
         "30",
         "taut organically grip edward dmytryk crossfire distinctive suspense thriller unlikely message movie look device noir cycle.<br /><br />bivouacke washington dc company soldier cope restlessness hang bar end stranger apartment robert ryan drunk belligerent beat host sam levene death happen jewish police detective robert young investigate help robert mitchum assign ryan outfit suspicion fall second george cooper vanish ryan slay buddy steve brodie insure silence young close in.<br /><br />abette superior script john paxton dmytryk draw precise performance star bobs ryan naturally prototypical angry white male hilt mitchum underplay characteristic alert nonchalance role central young well gloria grahame give fully fledge rendition smart mouthed vulnerable tramp sad sack leech life paul kelly haunt small peripheral role make memorable.<br /><br />the politically engage dmytryk inevitably succumb sermonize pretty confine young reminiscence irish grandfather die hand bigot century early incidentally stretch chronology limit attempt render explanation glib ryan hate jews hillbilly ... ).<br /><br />curiously crossfire survive major change work -- novel base richard brooks brick foxhole deal gay bash murder homosexuality 1947 pale news holocaust begin emerge ashe europe hollywood feel embolden register protest anti semitism studio quake prospect offend potential ticket buyer).<br /><br />but change homophobia anti semitism work general specific fit smoothly victim chat lonesome drunk young soldier invite home look odd especially girlfriend tow raise question scenario retain inadvertently leave discreet tip original engine generate ryan murderous rage",
         "2",
         "taut organically grip edward dmytryk crossfire distinctive suspense thriller unlikely message movie look device noir cycle.<br /><br />bivouacke washington dc company soldier cope restlessness hang bar end stranger apartment robert ryan drunk belligerent beat host sam levene death happen jewish police detective robert young investigate help robert mitchum assign ryan outfit suspicion fall second george cooper vanish ryan slay buddy steve brodie insure silence young close in.<br /><br />abette superior script john paxton dmytryk draw precise performance star bobs ryan naturally prototypical angry white male hilt mitchum underplay characteristic alert nonchalance role central young well gloria grahame give fully fledge rendition smart mouthed vulnerable tramp sad sack leech life paul kelly haunt small peripheral role make memorable.<br /><br />the politically engage dmytryk inevitably succumb sermonize pretty confine young reminiscence irish grandfather die hand bigot century early incidentally stretch chronology limit attempt render explanation glib ryan hate jews hillbilly ... ).<br /><br />curiously crossfire survive major change work -- novel base richard brooks brick foxhole deal gay bash murder homosexuality 1947 pale news holocaust begin emerge ashe europe hollywood feel embolden register protest anti semitism studio quake prospect offend potential ticket buyer).<br /><br />but change homophobia anti semitism work general specific fit smoothly victim chat lonesome drunk young soldier invite home look odd especially girlfriend tow raise question scenario retain inadvertently leave discreet tip original engine generate ryan murderous rage"
        ],
        [
         "31",
         "31",
         "ardh satya fine film indian cinema direct great director govind nihalani successful hard hitting parallel cinema turn commercial success today ardh satya inspiration lead director india.<br /><br />the film tell real life scenario mumbai police 70 unlike police city india mumbai police encompass different system altogether govind nihalani create practical outlay real life approach mumbai police environment.<br /><br />amongst police officer colleague film describe story anand velankar young hot blooded cop come poor family father harsh police constable anand suffer father ideology incidence father atrocity mother anand approach immediate action crime inert craving job satisfaction film revolve plot anand constant effort crime trample senior lead frustration achieve desire job satisfaction result frustration anger express excessive violence remand room bar turn alcoholic.<br /><br />the spirit alive constantly fight system aware system metro police politicians inertly associate far end compromise unethical practice negative finally get suspended.<br /><br />the direction master piece thoroughly hard core well memorable scene anand break underworld gangster rama shetty house arrest follow short conversation fantastic scene film hair raise moments.<br /><br />the practical approach script major punch alcoholism corruption political influence courage deception integral mumbai police today aspect deal brilliantly.<br /><br />finally film belong man om puri portray anand velankar traverse emotion absolutely brilliantly",
         "2",
         "ardh satya fine film indian cinema direct great director govind nihalani successful hard hitting parallel cinema turn commercial success today ardh satya inspiration lead director india.<br /><br />the film tell real life scenario mumbai police 70 unlike police city india mumbai police encompass different system altogether govind nihalani create practical outlay real life approach mumbai police environment.<br /><br />amongst police officer colleague film describe story anand velankar young hot blooded cop come poor family father harsh police constable anand suffer father ideology incidence father atrocity mother anand approach immediate action crime inert craving job satisfaction film revolve plot anand constant effort crime trample senior lead frustration achieve desire job satisfaction result frustration anger express excessive violence remand room bar turn alcoholic.<br /><br />the spirit alive constantly fight system aware system metro police politicians inertly associate far end compromise unethical practice negative finally get suspended.<br /><br />the direction master piece thoroughly hard core well memorable scene anand break underworld gangster rama shetty house arrest follow short conversation fantastic scene film hair raise moments.<br /><br />the practical approach script major punch alcoholism corruption political influence courage deception integral mumbai police today aspect deal brilliantly.<br /><br />finally film belong man om puri portray anand velankar traverse emotion absolutely brilliantly"
        ],
        [
         "32",
         "32",
         "exposure templarios good excited find title offering anchor bay video bring cult classic spider baby print quality excellent hide fact film deadly dull thrilling opening sequence villager exact terrible revenge templars set thing motion movie slow ponderous ultimately unfulfilling add insult injury movie dub subtitle promise video jacket",
         "0",
         "exposure templarios good excited find title offering anchor bay video bring cult classic spider baby print quality excellent hide fact film deadly dull thrilling opening sequence villager exact terrible revenge templars set thing motion movie slow ponderous ultimately unfulfilling add insult injury movie dub subtitle promise video jacket"
        ],
        [
         "33",
         "33",
         "significant quote entire film pronounce halfway protagonist mafia middle man titta di girolamo physically non descript middle aged man originally salerno southern italy introduce start film live non life elegant sterile hotel italian speak canton switzerland year conduct business gradually introduce pivotal apparently unremarkable scene take place employee swiss bank normally count di girolamo cash tell 10,000 dollar miss usual suitcase tightly stack banknote news quietly icily threaten coax bank manager want close account tell spectator bluff bluff right end fear catch appear ridiculous say bluff halfway tell truth have eventually bluff halfway tell truth have accept consequence life ultimately love exactly reason beginning titta di girolamo trouble br /><br />this initially unsympathetic character scowling taciturn curt man verge 50 man will reply kind chambermaid waitress hello goodbye point spectator care deeply point non life titta decide feel concern appear ridiculous half film describe slow reveal di girolamo day night hotel oddly disjoin deliberate pace reveal seemingly mundane irrelevant detail scene unnecessary reveal essential masterfully construct innovative film unfold eye existence titta di girolamo man imagination identity life unsympathetic character unexpectedly end love feel think convey elegantly edit sequence interesting use music theme scottish band boards canada especially stand br /><br />never contrast way hollywood italy treat mobster odd release film le conseguenze dell'amore l'imbalsamatore interesting element way film use protagonist insomnia unlike machinist far explicit way al pacino film insomnia le conseguenze dell'amore use condition symbolise deep emotional malaise ram deep obscurity unconscious impossible pin point cause br /><br />the young sympathetic hotel waitress sofia play olivia magnani grand daughter legendary anna memory titta good friend man see 20 year unexpectedly provide tiny window life titta eventually tentatively accept look explicitly spell spectator knows man like titta accept consequences love unimaginable consequence film single scene sex violence film unfold time concede spectator expectation le conseguenze dell'amore fine representative small quiet discreet renaissance take place italian cinema decline cinecittà second half 70 world wait italy produce il postino like fare la vita è bella style film ... neglect explore fine creation like le conseguenze dell'amore l'imbalsamatore loss world",
         "2",
         "significant quote entire film pronounce halfway protagonist mafia middle man titta di girolamo physically non descript middle aged man originally salerno southern italy introduce start film live non life elegant sterile hotel italian speak canton switzerland year conduct business gradually introduce pivotal apparently unremarkable scene take place employee swiss bank normally count di girolamo cash tell 10,000 dollar miss usual suitcase tightly stack banknote news quietly icily threaten coax bank manager want close account tell spectator bluff bluff right end fear catch appear ridiculous say bluff halfway tell truth have eventually bluff halfway tell truth have accept consequence life ultimately love exactly reason beginning titta di girolamo trouble br /><br />this initially unsympathetic character scowling taciturn curt man verge 50 man will reply kind chambermaid waitress hello goodbye point spectator care deeply point non life titta decide feel concern appear ridiculous half film describe slow reveal di girolamo day night hotel oddly disjoin deliberate pace reveal seemingly mundane irrelevant detail scene unnecessary reveal essential masterfully construct innovative film unfold eye existence titta di girolamo man imagination identity life unsympathetic character unexpectedly end love feel think convey elegantly edit sequence interesting use music theme scottish band boards canada especially stand br /><br />never contrast way hollywood italy treat mobster odd release film le conseguenze dell'amore l'imbalsamatore interesting element way film use protagonist insomnia unlike machinist far explicit way al pacino film insomnia le conseguenze dell'amore use condition symbolise deep emotional malaise ram deep obscurity unconscious impossible pin point cause br /><br />the young sympathetic hotel waitress sofia play olivia magnani grand daughter legendary anna memory titta good friend man see 20 year unexpectedly provide tiny window life titta eventually tentatively accept look explicitly spell spectator knows man like titta accept consequences love unimaginable consequence film single scene sex violence film unfold time concede spectator expectation le conseguenze dell'amore fine representative small quiet discreet renaissance take place italian cinema decline cinecittà second half 70 world wait italy produce il postino like fare la vita è bella style film ... neglect explore fine creation like le conseguenze dell'amore l'imbalsamatore loss world"
        ],
        [
         "34",
         "34",
         "watch film expect get pack 5 film pretty terrible way fiver expect know right terrible movie stretch interesting point occasional camcorder view nice touch drummer like drummer i.e damned annoying s actually problem boring assume attempt build tension lot happen utterly tedious thumb fast forward button ready press movie give seriously lead singer band great looking coz half mention beautiful hell lot think look bit like meercat mention killer go to worth explain far concerned star london reason watch exception london actually funny act talent certainly see lot bad see lot well well avoid bored watch paint dry",
         "0",
         "watch film expect get pack 5 film pretty terrible way fiver expect know right terrible movie stretch interesting point occasional camcorder view nice touch drummer like drummer i.e damned annoying s actually problem boring assume attempt build tension lot happen utterly tedious thumb fast forward button ready press movie give seriously lead singer band great looking coz half mention beautiful hell lot think look bit like meercat mention killer go to worth explain far concerned star london reason watch exception london actually funny act talent certainly see lot bad see lot well well avoid bored watch paint dry"
        ],
        [
         "35",
         "35",
         "buy film blockbuster 3.00 sound interesting bit ranma esque idea drag skeleton cute girl mini skirt restricted view sticker think go sweet sincere come age story weird indie edge 100 wrong.<br /><br />having watch wonder get restricted sticker hardly foul language little violence close thing nudity honestly usually hope girl nightgown pantie pantie lot movie matter wear miniskirt sort anti religious humor tame lame caricature insincere derivative unoriginal bad funny slight -- well listen ray stevens jesus wear rolex television barely qualify pg-13 rate blockbuster refuse let age 17 rent -- pornographic little kid rent edit version requiem dream insist zack reba worse.<br /><br />it way.<br /><br />in way worry -- thing leave offend people idea suicide beginning anybody need movie honestly portray suicide well one like virgin suicides teenager movie rate r purely suicide aspect little chance turn story write pg-13 movie main character half suicide lead cause death teenager think number 2 chance teen affect it.<br /><br />just movie 2/10",
         "0",
         "buy film blockbuster 3.00 sound interesting bit ranma esque idea drag skeleton cute girl mini skirt restricted view sticker think go sweet sincere come age story weird indie edge 100 wrong.<br /><br />having watch wonder get restricted sticker hardly foul language little violence close thing nudity honestly usually hope girl nightgown pantie pantie lot movie matter wear miniskirt sort anti religious humor tame lame caricature insincere derivative unoriginal bad funny slight -- well listen ray stevens jesus wear rolex television barely qualify pg-13 rate blockbuster refuse let age 17 rent -- pornographic little kid rent edit version requiem dream insist zack reba worse.<br /><br />it way.<br /><br />in way worry -- thing leave offend people idea suicide beginning anybody need movie honestly portray suicide well one like virgin suicides teenager movie rate r purely suicide aspect little chance turn story write pg-13 movie main character half suicide lead cause death teenager think number 2 chance teen affect it.<br /><br />just movie 2/10"
        ],
        [
         "36",
         "36",
         "plot death little child hopper investigate killing movie appear trouble daughter end serial killer catch find dunnit terrible act actor unbelievable bad actor include hopper like waste time watch movie warn",
         "0",
         "plot death little child hopper investigate killing movie appear trouble daughter end serial killer catch find dunnit terrible act actor unbelievable bad actor include hopper like waste time watch movie warn"
        ],
        [
         "37",
         "37",
         "watch movie lose plot begin with.<br /><br />where begin achingly tedious scene heroine sit house actually sense menace forebode create apparently constant thunderstorm strangely actually hear house great double glazing house apparently mile town hour walk away girl serve purpose plot provide surprisingly quick gory murder tedium unbearable beginning suggest spate 20 killing area apparent killer venture far house bizarre ritual salt pepper pretty sum film inherent lack direction.<br /><br />add lead actress act willing completely irrelevant nude shower scene video truly nasty way hope.<br /><br />given following simply ban uk 80 final surprisingly extended murder offer curiosity value- classic daft murder worry telegraph minute before).<br /><br />after walk wood victim come steep upward slope obviously struggle halfway figure dress black brandish large scythe slide run like rest course not- struggle stand conveniently nice upright murder weapon.<br /><br />it movie ..",
         "0",
         "watch movie lose plot begin with.<br /><br />where begin achingly tedious scene heroine sit house actually sense menace forebode create apparently constant thunderstorm strangely actually hear house great double glazing house apparently mile town hour walk away girl serve purpose plot provide surprisingly quick gory murder tedium unbearable beginning suggest spate 20 killing area apparent killer venture far house bizarre ritual salt pepper pretty sum film inherent lack direction.<br /><br />add lead actress act willing completely irrelevant nude shower scene video truly nasty way hope.<br /><br />given following simply ban uk 80 final surprisingly extended murder offer curiosity value- classic daft murder worry telegraph minute before).<br /><br />after walk wood victim come steep upward slope obviously struggle halfway figure dress black brandish large scythe slide run like rest course not- struggle stand conveniently nice upright murder weapon.<br /><br />it movie .."
        ],
        [
         "38",
         "38",
         "okay series kind take route week week david morse character help ride bit pickle wrong david morse great character actor certainly cool series create david koepp great writer heaven!!<br /><br />due lack love go season series know rubbish baffle let hope good past series",
         "2",
         "okay series kind take route week week david morse character help ride bit pickle wrong david morse great character actor certainly cool series create david koepp great writer heaven!!<br /><br />due lack love go season series know rubbish baffle let hope good past series"
        ],
        [
         "39",
         "39",
         "sit pile dung husband wonder actually product experiment computer program produce movie listless formulaic u.s. propaganda throw face film prove -- disappointingly -- work human conspiracy theorist quote like steal declaration independence protect like way justify action like invasion iraq etc fact nicholas cage spew line like use declaration independence bargaining chip straight face husband wonder entire cast take valium shoot scene reasoning plot turn new clue truly ridiculous impossible follow bonus plot misogyny dr. chide involve shut clearly movie look feel need slap dr. title character gravity point cage character say shut camera pan look poutily hand like child truly grotesque benefit movie astonishingly bad laugh scary thing majority people watch movie enjoy creepy ....",
         "0",
         "sit pile dung husband wonder actually product experiment computer program produce movie listless formulaic u.s. propaganda throw face film prove -- disappointingly -- work human conspiracy theorist quote like steal declaration independence protect like way justify action like invasion iraq etc fact nicholas cage spew line like use declaration independence bargaining chip straight face husband wonder entire cast take valium shoot scene reasoning plot turn new clue truly ridiculous impossible follow bonus plot misogyny dr. chide involve shut clearly movie look feel need slap dr. title character gravity point cage character say shut camera pan look poutily hand like child truly grotesque benefit movie astonishingly bad laugh scary thing majority people watch movie enjoy creepy ...."
        ],
        [
         "40",
         "40",
         "clichés movie type substance plot go end movie feel like sucker watch production good script acting b movie quality casting poor good actor mix crumby actor good actor hold lift br /><br />this movie worthy word meet minimum requirement line james wood cuba gooding jr. play caricature movie br /><br />if look mindless entertainment recommend movie",
         "0",
         "clichés movie type substance plot go end movie feel like sucker watch production good script acting b movie quality casting poor good actor mix crumby actor good actor hold lift br /><br />this movie worthy word meet minimum requirement line james wood cuba gooding jr. play caricature movie br /><br />if look mindless entertainment recommend movie"
        ],
        [
         "41",
         "41",
         "movie base book splendored thing han suyin tackle issue race relation asians whites topic come han personal experience eurasian grow china background beautiful hong kong setting give love story unique dare atmosphere time.<br /><br />other story stereotypical romance memorable song remember movie beautiful jennifer jones look give wonderful oscar nominate performance doctor mixed breed advent communism mainland china william holden look well play romantic lead journalist cover war tear region world acting notch chemistry lover provide genuine moment silver screen affection sure melt heart romantically inclined.<br /><br />the cinematography bring hong kong especially hilltop overlook harbor lover spend intimate moment ending real tear jerker consider sentimental romance passé enjoy classic hollywood love story shine example",
         "2",
         "movie base book splendored thing han suyin tackle issue race relation asians whites topic come han personal experience eurasian grow china background beautiful hong kong setting give love story unique dare atmosphere time.<br /><br />other story stereotypical romance memorable song remember movie beautiful jennifer jones look give wonderful oscar nominate performance doctor mixed breed advent communism mainland china william holden look well play romantic lead journalist cover war tear region world acting notch chemistry lover provide genuine moment silver screen affection sure melt heart romantically inclined.<br /><br />the cinematography bring hong kong especially hilltop overlook harbor lover spend intimate moment ending real tear jerker consider sentimental romance passé enjoy classic hollywood love story shine example"
        ],
        [
         "42",
         "42",
         "film see rage get bad direction logic continuity change plot script dialog cry pain come crappy gary busey know b movie sure w movie w waste).<br /><br />take example dozen fbi local law officer surround trailer house jeep wagoneer inside jeep ma confused cop second huge gun battle ensue ma kill straight cop blast away jeep gary company blast away cop fall like domino jeep gary drive circle hit single bullet pellet ma kill gary notice damn guy tough truly miracle shooter hold 300 bullet miracle",
         "0",
         "film see rage get bad direction logic continuity change plot script dialog cry pain come crappy gary busey know b movie sure w movie w waste).<br /><br />take example dozen fbi local law officer surround trailer house jeep wagoneer inside jeep ma confused cop second huge gun battle ensue ma kill straight cop blast away jeep gary company blast away cop fall like domino jeep gary drive circle hit single bullet pellet ma kill gary notice damn guy tough truly miracle shooter hold 300 bullet miracle"
        ],
        [
         "43",
         "43",
         "hear good thing states grace come open mind think god army okay think maybe dutcher improve mature filmmaker film begin shaky acting think maybe well unfortunately picture start introduce elder -- mormon missionary -- audience know grow care instead story degenerate highly improbable series unfortunate event highlight blatant disobedience missionary undeniably exist rarely level dutcher portray laughable.<br /><br />dutcher success movie successful alienation target audience unrealistically inaccurately portray life mormon missionary dutcher accomplish anger predominantly mormon audience film way reflect reality mission like dutcher show have serve mormon mission attest fact gang life california certainly contain explicit language occasional mild vulgarity.<br /><br />the conclusion assume suppose touch audience inspire believe forgiveness available unbelievable come entire mission gather elder send home -- mom girl stand right cheesy time dutcher try make movie identify",
         "0",
         "hear good thing states grace come open mind think god army okay think maybe dutcher improve mature filmmaker film begin shaky acting think maybe well unfortunately picture start introduce elder -- mormon missionary -- audience know grow care instead story degenerate highly improbable series unfortunate event highlight blatant disobedience missionary undeniably exist rarely level dutcher portray laughable.<br /><br />dutcher success movie successful alienation target audience unrealistically inaccurately portray life mormon missionary dutcher accomplish anger predominantly mormon audience film way reflect reality mission like dutcher show have serve mormon mission attest fact gang life california certainly contain explicit language occasional mild vulgarity.<br /><br />the conclusion assume suppose touch audience inspire believe forgiveness available unbelievable come entire mission gather elder send home -- mom girl stand right cheesy time dutcher try make movie identify"
        ],
        [
         "44",
         "44",
         "movie strike home 29 remember 80 father work factory figure work hard pride give american dream house kid car note degree unlike father quit ninth grade keen sense greed laziness anywhere.<br /><br />i like know movie dvd vhs tv see hour ago ic an't find love friend pseudo friend family relative think remind time americans work sake feel honor pride accomplish think feeling heavy downward spiral thing overseas ...",
         "2",
         "movie strike home 29 remember 80 father work factory figure work hard pride give american dream house kid car note degree unlike father quit ninth grade keen sense greed laziness anywhere.<br /><br />i like know movie dvd vhs tv see hour ago ic an't find love friend pseudo friend family relative think remind time americans work sake feel honor pride accomplish think feeling heavy downward spiral thing overseas ..."
        ],
        [
         "45",
         "45",
         "disclaimer see movie 5 6 time 15 year see musical week allow judge movie taint musical taint watch musical :) br /><br />i actually believe michael douglas work role kasey think let dance scene good part movie worthwhile addition compare musical dancer singing movie superior musical cast 10 time big easy movie course decor lighting dancing singing superior movie expect deliver br /><br />the song common musical well movie new one good one movie deliver musical opinion especially compare musical decor bad point movie obvious cut actor talk dub singer singing portion character dancing impeccable end product enjoyable musical",
         "2",
         "disclaimer see movie 5 6 time 15 year see musical week allow judge movie taint musical taint watch musical :) br /><br />i actually believe michael douglas work role kasey think let dance scene good part movie worthwhile addition compare musical dancer singing movie superior musical cast 10 time big easy movie course decor lighting dancing singing superior movie expect deliver br /><br />the song common musical well movie new one good one movie deliver musical opinion especially compare musical decor bad point movie obvious cut actor talk dub singer singing portion character dancing impeccable end product enjoyable musical"
        ],
        [
         "46",
         "46",
         "protocol implausible movie save grace star goldie hawn good cast support actor story revolve ditzy cocktail waitress famous inadvertently save life arab dignitary story go downhill halfway movie goldie charm save movie goldie hawn fan way film",
         "0",
         "protocol implausible movie save grace star goldie hawn good cast support actor story revolve ditzy cocktail waitress famous inadvertently save life arab dignitary story go downhill halfway movie goldie charm save movie goldie hawn fan way film"
        ],
        [
         "47",
         "47",
         "film classify drama idea john voight mary steenburgen try erase cv historically accurate xena hercules abraham moses get meld noah lot abraham nephew lot turn thousand year bear canaanite wander earth ... scriptwriter think ignorance remember noah animal lot canaanites stuff sunday school try offend maximum number people planet possible- christians jews muslims historian archaeologist geologist psychologist linguist ... matter fact offend modicum taste wince",
         "0",
         "film classify drama idea john voight mary steenburgen try erase cv historically accurate xena hercules abraham moses get meld noah lot abraham nephew lot turn thousand year bear canaanite wander earth ... scriptwriter think ignorance remember noah animal lot canaanites stuff sunday school try offend maximum number people planet possible- christians jews muslims historian archaeologist geologist psychologist linguist ... matter fact offend modicum taste wince"
        ],
        [
         "48",
         "48",
         "preston sturgis power glory unseen public nearly thirty year late 1990 resurface show television meantime gain notoriety pauline kael citizen kane book suggest herman mankiewicz orson welles screenplay kane base sturgis screenplay mention beginning thread film imdb web site kael overstate case.<br /><br />there narrator turn deal life charles foster kane newsreel represent ralston henry luce clone thatcher memoir bernstein jed leland susan alexander kane raymond butler different slant kane reflect faith disappointment hatred man course reveal failing tell version kane story method lead frequent overlapping telling incident.<br /><br />this situation power glory yes like kane legendary business leader tom garner spencer tracy man rise head successful railroad system country narrator garner right hand man henry ralph morgan wife sarah padden restrict nearly dimensional view time kane garner henry narrate talk boss friend respect love wife like voice skeptical public see flaw henry.<br /><br />typical example work way tom anti labor later year union troublemaker care slow shenanigan henry describe tom confrontation union major walk preoccupy detriment home life henry wife remind tom scab violence end strike apparently blow union headquarters kill people view man pure white pure black.<br /><br />i'm knock power glory duplicate kane success film include orson welles film aware story present hold interest end thank performance tracy colleen moore wife sally tragedy worldly success pair fully bring home.<br /><br />when marry tom want wife family benefit america great business success come cost tom get deeply involve run railroad empire expand improve constantly take away home lose touch sally notice eve helen vinson young woman mistress sally learn unfaithful behavior destroy her.<br /><br />similarly tom get shock make martyr eye henry eve marry tom present son turn eve son tom son tom jr. philip trent discovery incestuous cuckolding cause tom shoot himself.<br /><br />the film total success action jump time unconvincingly business real note scene tom tell board directors plan purchase small rival train line discuss use debenture finance plan sturgis come wealthy background bring type detail rate film citizen kane interest movie lover attempt business realism social commentary depression america",
         "2",
         "preston sturgis power glory unseen public nearly thirty year late 1990 resurface show television meantime gain notoriety pauline kael citizen kane book suggest herman mankiewicz orson welles screenplay kane base sturgis screenplay mention beginning thread film imdb web site kael overstate case.<br /><br />there narrator turn deal life charles foster kane newsreel represent ralston henry luce clone thatcher memoir bernstein jed leland susan alexander kane raymond butler different slant kane reflect faith disappointment hatred man course reveal failing tell version kane story method lead frequent overlapping telling incident.<br /><br />this situation power glory yes like kane legendary business leader tom garner spencer tracy man rise head successful railroad system country narrator garner right hand man henry ralph morgan wife sarah padden restrict nearly dimensional view time kane garner henry narrate talk boss friend respect love wife like voice skeptical public see flaw henry.<br /><br />typical example work way tom anti labor later year union troublemaker care slow shenanigan henry describe tom confrontation union major walk preoccupy detriment home life henry wife remind tom scab violence end strike apparently blow union headquarters kill people view man pure white pure black.<br /><br />i'm knock power glory duplicate kane success film include orson welles film aware story present hold interest end thank performance tracy colleen moore wife sally tragedy worldly success pair fully bring home.<br /><br />when marry tom want wife family benefit america great business success come cost tom get deeply involve run railroad empire expand improve constantly take away home lose touch sally notice eve helen vinson young woman mistress sally learn unfaithful behavior destroy her.<br /><br />similarly tom get shock make martyr eye henry eve marry tom present son turn eve son tom son tom jr. philip trent discovery incestuous cuckolding cause tom shoot himself.<br /><br />the film total success action jump time unconvincingly business real note scene tom tell board directors plan purchase small rival train line discuss use debenture finance plan sturgis come wealthy background bring type detail rate film citizen kane interest movie lover attempt business realism social commentary depression america"
        ],
        [
         "49",
         "49",
         "average surprisingly tame fulci giallo mean bad normal standard redeem solid build nice touch neat time twist issue vision clairvoyance.<br /><br />the genre know weakness gear banal dialogue wooden acting illogical plot point finale go long denouement prove lame shall limp affair.<br /><br />fulci ironic handling giallo norm amusing yellow clue look.<br /><br />3 10 limping killer",
         "0",
         "average surprisingly tame fulci giallo mean bad normal standard redeem solid build nice touch neat time twist issue vision clairvoyance.<br /><br />the genre know weakness gear banal dialogue wooden acting illogical plot point finale go long denouement prove lame shall limp affair.<br /><br />fulci ironic handling giallo norm amusing yellow clue look.<br /><br />3 10 limping killer"
        ]
       ],
       "shape": {
        "columns": 4,
        "rows": 678511
       }
      },
      "text/html": [
       "<div>\n",
       "<style scoped>\n",
       "    .dataframe tbody tr th:only-of-type {\n",
       "        vertical-align: middle;\n",
       "    }\n",
       "\n",
       "    .dataframe tbody tr th {\n",
       "        vertical-align: top;\n",
       "    }\n",
       "\n",
       "    .dataframe thead th {\n",
       "        text-align: right;\n",
       "    }\n",
       "</style>\n",
       "<table border=\"1\" class=\"dataframe\">\n",
       "  <thead>\n",
       "    <tr style=\"text-align: right;\">\n",
       "      <th></th>\n",
       "      <th>Unnamed: 0</th>\n",
       "      <th>text</th>\n",
       "      <th>label</th>\n",
       "      <th>preprocess_text</th>\n",
       "    </tr>\n",
       "  </thead>\n",
       "  <tbody>\n",
       "    <tr>\n",
       "      <th>0</th>\n",
       "      <td>0</td>\n",
       "      <td>reviewer mention watch 1 oz episode hook right...</td>\n",
       "      <td>2</td>\n",
       "      <td>reviewer mention watch 1 oz episode hook right...</td>\n",
       "    </tr>\n",
       "    <tr>\n",
       "      <th>1</th>\n",
       "      <td>1</td>\n",
       "      <td>wonderful little production br /&gt;&lt;br /&gt;the fil...</td>\n",
       "      <td>2</td>\n",
       "      <td>wonderful little production br /&gt;&lt;br /&gt;the fil...</td>\n",
       "    </tr>\n",
       "    <tr>\n",
       "      <th>2</th>\n",
       "      <td>2</td>\n",
       "      <td>think wonderful way spend time hot summer week...</td>\n",
       "      <td>2</td>\n",
       "      <td>think wonderful way spend time hot summer week...</td>\n",
       "    </tr>\n",
       "    <tr>\n",
       "      <th>3</th>\n",
       "      <td>3</td>\n",
       "      <td>basically family little boy jake think zombie ...</td>\n",
       "      <td>0</td>\n",
       "      <td>basically family little boy jake think zombie ...</td>\n",
       "    </tr>\n",
       "    <tr>\n",
       "      <th>4</th>\n",
       "      <td>4</td>\n",
       "      <td>petter mattei love time money visually stunnin...</td>\n",
       "      <td>2</td>\n",
       "      <td>petter mattei love time money visually stunnin...</td>\n",
       "    </tr>\n",
       "    <tr>\n",
       "      <th>...</th>\n",
       "      <td>...</td>\n",
       "      <td>...</td>\n",
       "      <td>...</td>\n",
       "      <td>...</td>\n",
       "    </tr>\n",
       "    <tr>\n",
       "      <th>678506</th>\n",
       "      <td>679009</td>\n",
       "      <td>ryan good yelp claim courteous knowledgable he...</td>\n",
       "      <td>2</td>\n",
       "      <td>ryan good yelp claim courteous knowledgable he...</td>\n",
       "    </tr>\n",
       "    <tr>\n",
       "      <th>678507</th>\n",
       "      <td>679010</td>\n",
       "      <td>professional \\nfriendly\\non time affordable!\\n...</td>\n",
       "      <td>2</td>\n",
       "      <td>professional \\nfriendly\\non time affordable!\\n...</td>\n",
       "    </tr>\n",
       "    <tr>\n",
       "      <th>678508</th>\n",
       "      <td>679011</td>\n",
       "      <td>phone call voicemail message return   stupid w...</td>\n",
       "      <td>1</td>\n",
       "      <td>phone call voicemail message return   stupid w...</td>\n",
       "    </tr>\n",
       "    <tr>\n",
       "      <th>678509</th>\n",
       "      <td>679012</td>\n",
       "      <td>look like good review go head place   jason ry...</td>\n",
       "      <td>1</td>\n",
       "      <td>look like good review go head place   jason ry...</td>\n",
       "    </tr>\n",
       "    <tr>\n",
       "      <th>678510</th>\n",
       "      <td>679013</td>\n",
       "      <td>ryan rocks call morning sprinkler help potenti...</td>\n",
       "      <td>2</td>\n",
       "      <td>ryan rocks call morning sprinkler help potenti...</td>\n",
       "    </tr>\n",
       "  </tbody>\n",
       "</table>\n",
       "<p>678511 rows × 4 columns</p>\n",
       "</div>"
      ],
      "text/plain": [
       "        Unnamed: 0                                               text  label  \\\n",
       "0                0  reviewer mention watch 1 oz episode hook right...      2   \n",
       "1                1  wonderful little production br /><br />the fil...      2   \n",
       "2                2  think wonderful way spend time hot summer week...      2   \n",
       "3                3  basically family little boy jake think zombie ...      0   \n",
       "4                4  petter mattei love time money visually stunnin...      2   \n",
       "...            ...                                                ...    ...   \n",
       "678506      679009  ryan good yelp claim courteous knowledgable he...      2   \n",
       "678507      679010  professional \\nfriendly\\non time affordable!\\n...      2   \n",
       "678508      679011  phone call voicemail message return   stupid w...      1   \n",
       "678509      679012  look like good review go head place   jason ry...      1   \n",
       "678510      679013  ryan rocks call morning sprinkler help potenti...      2   \n",
       "\n",
       "                                          preprocess_text  \n",
       "0       reviewer mention watch 1 oz episode hook right...  \n",
       "1       wonderful little production br /><br />the fil...  \n",
       "2       think wonderful way spend time hot summer week...  \n",
       "3       basically family little boy jake think zombie ...  \n",
       "4       petter mattei love time money visually stunnin...  \n",
       "...                                                   ...  \n",
       "678506  ryan good yelp claim courteous knowledgable he...  \n",
       "678507  professional \\nfriendly\\non time affordable!\\n...  \n",
       "678508  phone call voicemail message return   stupid w...  \n",
       "678509  look like good review go head place   jason ry...  \n",
       "678510  ryan rocks call morning sprinkler help potenti...  \n",
       "\n",
       "[678511 rows x 4 columns]"
      ]
     },
     "execution_count": 16,
     "metadata": {},
     "output_type": "execute_result"
    }
   ],
   "source": [
    "# Evaluate fine-tuned model on all samples, including non low confidence ones\n",
    "df_test = pd.read_csv('./data/SA_cleaned.csv')\n",
    "df_test['text'] = df_test['preprocess_text'].astype(str)\n",
    "df_test['label'] = df_test['label'].astype(int)\n",
    "df_test"
   ]
  },
  {
   "cell_type": "code",
   "execution_count": null,
   "id": "9ba05b5e",
   "metadata": {},
   "outputs": [
    {
     "data": {
      "application/vnd.jupyter.widget-view+json": {
       "model_id": "6b62f16b1db6483893bc62782704a4e0",
       "version_major": 2,
       "version_minor": 0
      },
      "text/plain": [
       "Map:   0%|          | 0/678511 [00:00<?, ? examples/s]"
      ]
     },
     "metadata": {},
     "output_type": "display_data"
    },
    {
     "name": "stderr",
     "output_type": "stream",
     "text": [
      "No label_names provided for model class `PeftModelForSequenceClassification`. Since `PeftModel` hides base models input arguments, if label_names is not given, label_names can't be set automatically within `Trainer`. Note that empty label_names list will be used instead.\n"
     ]
    }
   ],
   "source": [
    "test_dataset = Dataset.from_pandas(df_test[['text', 'label']])\n",
    "tokenized_test_dataset = test_dataset.map(tokenize_function, batched=True)\n",
    "\n",
    "trainer = Trainer(\n",
    "    model=model,\n",
    "    args=training_args,\n",
    "    train_dataset=tokenized_train_dataset,\n",
    "    eval_dataset=tokenized_test_dataset,\n",
    "    compute_metrics=compute_metrics,\n",
    "    callbacks=[logger_callback]\n",
    ")\n",
    "\n",
    "results_all = trainer.evaluate()\n",
    "print(results_all)"
   ]
  }
 ],
 "metadata": {
  "kernelspec": {
   "display_name": ".venv",
   "language": "python",
   "name": "python3"
  },
  "language_info": {
   "codemirror_mode": {
    "name": "ipython",
    "version": 3
   },
   "file_extension": ".py",
   "mimetype": "text/x-python",
   "name": "python",
   "nbconvert_exporter": "python",
   "pygments_lexer": "ipython3",
   "version": "3.12.4"
  }
 },
 "nbformat": 4,
 "nbformat_minor": 5
}
