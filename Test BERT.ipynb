{
 "cells": [
  {
   "cell_type": "code",
   "execution_count": 1,
   "id": "8648d378",
   "metadata": {},
   "outputs": [],
   "source": [
    "import pandas as pd\n",
    "from transformers import AutoTokenizer, AutoModelForSequenceClassification, Trainer, TrainingArguments\n",
    "from datasets import Dataset\n",
    "from sklearn.metrics import accuracy_score\n",
    "from sklearn.model_selection import train_test_split\n",
    "from peft import get_peft_model, LoraConfig, TaskType"
   ]
  },
  {
   "cell_type": "code",
   "execution_count": 2,
   "id": "ee5848c7",
   "metadata": {},
   "outputs": [
    {
     "data": {
      "application/vnd.microsoft.datawrangler.viewer.v0+json": {
       "columns": [
        {
         "name": "index",
         "rawType": "int64",
         "type": "integer"
        },
        {
         "name": "text",
         "rawType": "object",
         "type": "string"
        },
        {
         "name": "label",
         "rawType": "int64",
         "type": "integer"
        },
        {
         "name": "preprocess_text",
         "rawType": "object",
         "type": "string"
        }
       ],
       "conversionMethod": "pd.DataFrame",
       "ref": "a8d8eb19-2d95-476f-ba58-52168ecbcf67",
       "rows": [
        [
         "0",
         "One of the other reviewers has mentioned that after watching just 1 Oz episode you'll be hooked. They are right, as this is exactly what happened with me.The first thing that struck me about Oz was its brutality and unflinching scenes of violence, which set in right from the word GO. Trust me, this is not a show for the faint hearted or timid. This show pulls no punches with regards to drugs, sex or violence. Its is hardcore, in the classic use of the word.It is called OZ as that is the nickname given to the Oswald Maximum Security State Penitentary. It focuses mainly on Emerald City, an experimental section of the prison where all the cells have glass fronts and face inwards, so privacy is not high on the agenda. Em City is home to many..Aryans, Muslims, gangstas, Latinos, Christians, Italians, Irish and more....so scuffles, death stares, dodgy dealings and shady agreements are never far away.I would say the main appeal of the show is due to the fact that it goes where other shows wouldn't dare. Forget pretty pictures painted for mainstream audiences, forget charm, forget romance...OZ doesn't mess around. The first episode I ever saw struck me as so nasty it was surreal, I couldn't say I was ready for it, but as I watched more, I developed a taste for Oz, and got accustomed to the high levels of graphic violence. Not just violence, but injustice (crooked guards who'll be sold out for a nickel, inmates who'll kill on order and get away with it, well mannered, middle class inmates being turned into prison bitches due to their lack of street skills or prison experience) Watching Oz, you may become comfortable with what is uncomfortable viewing....thats if you can get in touch with your darker side.",
         "1",
         "reviewer mention watch 1 oz episode hook right exactly happen thing strike oz brutality unflinche scene violence set right word trust faint hearted timid pull punch regard drug sex violence hardcore classic use word call oz nickname give oswald maximum security state penitentary focus mainly emerald city experimental section prison cell glass front face inward privacy high agenda em city home .. aryans muslims gangsta latinos christians italians irish .... scuffle death stare dodgy dealing shady agreement far away main appeal fact go show dare forget pretty picture paint mainstream audience forget charm forget romance ... oz mess episode see strike nasty surreal ready watch develop taste oz get accustom high level graphic violence violence injustice crooked guard sell nickel inmate kill order away mannered middle class inmate turn prison bitch lack street skill prison experience watch oz comfortable uncomfortable view .... that touch dark"
        ],
        [
         "1",
         "I sure would like to see a resurrection of a up dated Seahunt series with the tech they have today it would bring back the kid excitement in me.I grew up on black and white TV and Seahunt with Gunsmoke were my hero's every week.You have my vote for a comeback of a new sea hunt.We need a change of pace in TV and this would work for a world of under water adventure.Oh by the way thank you for an outlet like this to view many viewpoints about TV and the many movies.So any ole way I believe I've got what I wanna say.Would be nice to read some more plus points about sea hunt.If my rhymes would be 10 lines would you let me submit,or leave me out to be in doubt and have me to quit,If this is so then I must go so lets do it.",
         "1",
         "sure like resurrection date seahunt series tech today bring kid excitement grow black white tv seahunt gunsmoke hero week vote comeback new sea hunt need change pace tv work world water adventure oh way thank outlet like view viewpoint tv movie ole way believe get wanna nice read plus point sea hunt rhyme 10 line let submit leave doubt quit let"
        ],
        [
         "2",
         "I saw this movie when I was about 12 when it came out. I recall the scariest scene was the big bird eating men dangling helplessly from parachutes right out of the air. The horror. The horror.As a young kid going to these cheesy B films on Saturday afternoons, I still was tired of the formula for these monster type movies that usually included the hero, a beautiful woman who might be the daughter of a professor and a happy resolution when the monster died in the end. I didn't care much for the romantic angle as a 12 year old and the predictable plots. I love them now for the unintentional humor.But, about a year or so later, I saw Psycho when it came out and I loved that the star, Janet Leigh, was bumped off early in the film. I sat up and took notice at that point. Since screenwriters are making up the story, make it up to be as scary as possible and not from a well-worn formula. There are no rules.",
         "0",
         "see movie 12 come recall scary scene big bird eat man dangle helplessly parachute right air horror horror young kid go cheesy b film saturday afternoon tired formula monster type movie usually include hero beautiful woman daughter professor happy resolution monster die end care romantic angle 12 year old predictable plot love unintentional humor year later see psycho come love star janet leigh bump early film sit take notice point screenwriter make story scary possible wear formula rule"
        ],
        [
         "3",
         "This a fantastic movie of three prisoners who become famous. One of the actors is george clooney and I'm not a fan but this roll is not bad. Another good thing about the movie is the soundtrack (The man of constant sorrow). I recommand this movie to everybody. Greetings Bart",
         "1",
         "fantastic movie prisoner famous actor george clooney fan roll bad good thing movie soundtrack man constant sorrow recommand movie everybody greeting bart"
        ],
        [
         "4",
         "\"Ardh Satya\" is one of the finest film ever made in Indian Cinema. Directed by the great director Govind Nihalani, this one is the most successful Hard Hitting Parallel Cinema which also turned out to be a Commercial Success. Even today, Ardh Satya is an inspiration for all leading directors of India.The film tells the Real-life Scenario of Mumbai Police of the 70s. Unlike any Police of other cities in India, Mumbai Police encompasses a Different system altogether. Govind Nihalani creates a very practical Outlay with real life approach of Mumbai Police Environment.Amongst various Police officers & colleagues, the film describes the story of Anand Velankar, a young hot-blooded Cop coming from a poor family. His father is a harsh Police Constable. Anand himself suffers from his father's ideologies & incidences of his father's Atrocities on his mother. Anand's approach towards immediate action against crime, is an inert craving for his own Job satisfaction. The film is here revolved in a Plot wherein Anand's constant efforts against crime are trampled by his seniors.This leads to frustrations, as he cannot achieve the desired Job-satisfaction. Resulting from the frustrations, his anger is expressed in excessive violence in the remand rooms & bars, also turning him to an alcoholic.The Spirit within him is still alive, as he constantly fights the system. He is aware of the system of the Metro, where the Police & Politicians are a inertly associated by far end. His compromise towards unethical practice is negative. Finally he gets suspended.The Direction is a master piece & thoroughly hard core. One of the best memorable scenes is when Anand breaks in the Underworld gangster Rama Shetty's house to arrest him, followed by short conversation which is fantastic. At many scenes, the film has Hair-raising moments.The Practical approach of Script is a major Punch. Alcoholism, Corruption, Political Influence, Courage, Deceptions all are integral part of Mumbai police even today. Those aspects are dealt brilliantly.Finally, the films belongs to the One man show, Om Puri portraying Anand Velankar traversing through all his emotions absolutely brilliantly.",
         "1",
         "ardh satya fine film indian cinema direct great director govind nihalani successful hard hitting parallel cinema turn commercial success today ardh satya inspiration lead director india film tell real life scenario mumbai police 70 unlike police city india mumbai police encompass different system altogether govind nihalani create practical outlay real life approach mumbai police environment police officer colleague film describe story anand velankar young hot blooded cop come poor family father harsh police constable anand suffer father ideology incidence father atrocity mother anand approach immediate action crime inert craving job satisfaction film revolve plot anand constant effort crime trample senior lead frustration achieve desire job satisfaction result frustration anger express excessive violence remand room bar turn alcoholic spirit alive constantly fight system aware system metro police politicians inertly associate far end compromise unethical practice negative finally get suspend direction master piece thoroughly hard core well memorable scene anand break underworld gangster rama shetty house arrest follow short conversation fantastic scene film hair raise moment practical approach script major punch alcoholism corruption political influence courage deception integral mumbai police today aspect deal brilliantly finally film belong man om puri portray anand velankar traverse emotion absolutely brilliantly"
        ],
        [
         "5",
         "My first exposure to the Templarios & not a good one. I was excited to find this title among the offerings from Anchor Bay Video, which has brought us other cult classics such as \"Spider Baby\". The print quality is excellent, but this alone can't hide the fact that the film is deadly dull. There's a thrilling opening sequence in which the villagers exact a terrible revenge on the Templars (& set the whole thing in motion), but everything else in the movie is slow, ponderous &, ultimately, unfulfilling. Adding insult to injury: the movie was dubbed, not subtitled, as promised on the video jacket.",
         "0",
         "exposure templarios good excited find title offering anchor bay video bring cult classic spider baby print quality excellent hide fact film deadly dull thrilling opening sequence villager exact terrible revenge templars set thing motion movie slow ponderous ultimately unfulfilling add insult injury movie dub subtitle promise video jacket"
        ],
        [
         "6",
         "I had heard good things about \"States of Grace\" and came in with an open mind. I thought that \"God's Army\" was okay, and I thought that maybe Dutcher had improved and matured as a filmmaker. The film began with some shaky acting, and I thought, \"well, maybe it will get better.\" Unfortunately, it never did. The picture starts out by introducing two elders -- Mormon missionaries -- and it seems that the audience will get to know them and grow to care about them. Instead, the story degenerates into a highly improbable series of unfortunate events highlighting blatant disobedience by the missionaries (something that undeniably exists, but rarely on the level that Dutcher portrays) and it becomes almost laughable.Dutcher's only success in this movie is his successful alienation of his target audience. By unrealistically and inaccurately portraying the lives of Mormon missionaries, Dutcher accomplishes nothing more than angering his predominantly Mormon audience. The film in no way reflects reality. Missions are nothing like what Dutcher shows (having served a Mormon mission myself I can attest to this fact) and gang life in California certainly contains much more explicit language than the occasional mild vulgarity.The conclusion, which I'm assuming was supposed to touch the audience and inspire them to believe that forgiveness is available to all, was both unbelievable (c'mon, the entire mission gathers to see this elder sent home -- and the mom and the girl are standing right next to each other!) and cheesy. Next time, Dutcher, try making a movie that SOMEONE can identify with.",
         "0",
         "hear good thing states grace come open mind think god army okay think maybe dutcher improve mature filmmaker film begin shaky acting think maybe well unfortunately picture start introduce elder -- mormon missionary -- audience know grow care instead story degenerate highly improbable series unfortunate event highlight blatant disobedience missionary undeniably exist rarely level dutcher portray laughable dutcher success movie successful alienation target audience unrealistically inaccurately portray life mormon missionary dutcher accomplish anger predominantly mormon audience film way reflect reality mission like dutcher show have serve mormon mission attest fact gang life california certainly contain explicit language occasional mild vulgarity conclusion assume suppose touch audience inspire believe forgiveness available unbelievable come entire mission gather elder send home -- mom girl stand right cheesy time dutcher try make movie identify"
        ],
        [
         "7",
         "Bela Lugosi appeared in several of these low budget chillers for Monogram Studios in the 1940's and The Corpse Vanishes is one of the better ones.Bela plays a mad scientist who kidnaps young brides and kills them and then extracts fluid from their bodies so he can keep his ageing wife looking young. After a reporter and a doctor stay the night at his home and discover he is responsible for the brides' deaths, the following morning they report these murders to the police and the mad scientist is shot and drops dead shortly afterwards.You have got almost everything in this movie: the scientist's assistants consist of an old hag, a hunchback and dwarf (her sons), a thunderstorm and spooky passages in Bela's house. Bela and his wife find they sleep better in coffins rather than beds in the movie.The Corpse Vanishes is worth a look, especially for Bela Lugosi fans. Great fun.Rating: 3 stars out of 5.",
         "1",
         "bela lugosi appear low budget chiller monogram studios 1940 corpse vanishes well one bela play mad scientist kidnap young bride kill extract fluid body age wife look young reporter doctor stay night home discover responsible bride death follow morning report murder police mad scientist shoot drop dead shortly get movie scientist assistant consist old hag hunchback dwarf son thunderstorm spooky passage bela house bela wife find sleep well coffin bed movie corpse vanishes worth look especially bela lugosi fan great fun rating 3 star 5"
        ],
        [
         "8",
         "I cannot believe I enjoyed this as much as I did. The anthology stories were better than par, but the linking story and its surprise ending hooked me. Alot of familiar faces will keep you asking yourself \"where I have I seen them before?\" Forget the running time listed on New Line's tape, this ain't no 103 minutes, according to my VCR timer and IMDB. Space Maggot douses the campfire in his own special way and hikes this an 8.",
         "1",
         "believe enjoy anthology story well par link story surprise end hook alot familiar face ask see forget running time list new line tape be 103 minute accord vcr timer imdb space maggot douse campfire special way hike 8"
        ],
        [
         "9",
         "The 33 percent of the nations nitwits that still support W. Bush would do well to see this movie, which shows the aftermath of the French revolution and the terror of 1794 as strikingly similar to the post 9/11 socio-political landscape. Maybe then they could stop worrying about saving face and take the a**-whupping they deserve. It's really a shame that when a politician ruins the country, those who voted for him can't be denied the right to ever vote again. They've clearly shown they have no sense of character.What really stands out in this movie is the ambiguity of a character as hopelessly doctrinaire as Robespierre; a haunted empty man who simplistic reductive ideology can't help him elucidate the boundaries between safety and totalitarianism. Execution and murder. Self-defense and patriotism. His legalistic litmus tests aggravate the hopeless situation he's helped create. Sound like any belligerent, overprivileged, retarded Yale cheerleaders you know of? Wojciech Pszoniak blows the slovenly Deparidieu off the screen. As sympathetic as Robespierres plight is, it's comforting to know that shortly after the film ends he'll have his jaw shot off and be sent to the guillotine.",
         "0",
         "33 percent nation nitwit support w. bush movie show aftermath french revolution terror 1794 strikingly similar post 9/11 socio political landscape maybe stop worry save face a**-whupping deserve shame politician ruin country vote deny right vote clearly show sense character stand movie ambiguity character hopelessly doctrinaire robespierre haunted man simplistic reductive ideology help elucidate boundary safety totalitarianism execution murder self defense patriotism legalistic litmus test aggravate hopeless situation help create sound like belligerent overprivilege retarded yale cheerleader know wojciech pszoniak blow slovenly deparidieu screen sympathetic robespierres plight comfort know shortly film end jaw shot send guillotine"
        ],
        [
         "10",
         "NO SPOILERS!!After Hitchcock's successful first American film, Rebecca based upon Daphne DuMarier's lush novel of gothic romance and intrigue, he returned to some of the more familiar themes of his early British period - mistaken identity and espionage. As the U.S. settled into World War II and the large scale 'war effort' of civilians building planes, weaponry and other necessary militia, the booming film entertainment business began turning out paranoid and often jingoistic thrillers with war time themes. These thrillers often involved networks of deceptive and skilled operators at work in the shadows among the good, law abiding citizens. Knowing the director was at home in this espionage genre, producer Jack Skirball approached Hitchcock about directing a property he owned that dealt with corruption, war-time sabotage and a helpless hero thrust into a vortex of coincidence and mistaken identity. The darker elements of the narrative and the sharp wit of literary maven Dorothy Parker (during her brief stint in Hollywood before returning to her bohemian roots in NYC) who co-authored the script were a perfect match for Hitchcock's sensibilities.This often neglected film tells the story of the unfortunate 25 year old Barry Kane (Robert Cummings) who, while at work at a Los Angeles Airplane Factory, meets new employee Frank Frye (Norman Lloydd) and moments later is framed for committing sabotage. Fleeing the authorities who don't believe his far-fetched story he meets several characters on his way to Soda City Utah and finally New York City. These memorable characters include a circus caravan with a car full of helpful 'freaks' and a popular billboard model Patricia Martin (Priscilla Lane) who, during the worst crisis of his life as well as national security, he falls madly in love with! Of course in the land of Hitchcock, Patricia, kidnapped by the supposed saboteur Barry, falls for her captor thus adding romantic tension to the mix.In good form for this outing, Hitchcock brews a national network of demure old ladies, average Joes, and respectable businessmen who double as secret agent terrorists that harbor criminals, pull guns and detonate bombs to keep things moving. It's a terrific plot that takes its time moving forward and once ignited, culminates in one of Hitchcock's more memorable finales. Look for incredibly life like NYC tourist attractions (all of which were recreated by art directors in Hollywood due to the war-time 'shooting ban' on public attractions). While Saboteur may not be one of Hitchcock's most well known films, it's a popular b-movie that is certainly solid and engaging with plenty of clever plot twists and as usual - terrific Hitchcock villains. Remember to look for Hitchcock's cameo appearance outside a drug store in the second half of the film. Hitchcock's original cameo idea that was shot (him fighting in sign language with his 'deaf' wife) was axed by the Bureau of Standards and Practices who were afraid of offending the deaf!",
         "1",
         "spoilers!!after hitchcock successful american film rebecca base daphne dumarier lush novel gothic romance intrigue return familiar theme early british period mistaken identity espionage u.s. settle world war ii large scale war effort civilian build plane weaponry necessary militia booming film entertainment business begin turn paranoid jingoistic thriller war time theme thriller involve network deceptive skilled operator work shadow good law abide citizen know director home espionage genre producer jack skirball approach hitchcock direct property own deal corruption war time sabotage helpless hero thrust vortex coincidence mistaken identity dark element narrative sharp wit literary maven dorothy parker brief stint hollywood return bohemian root nyc co author script perfect match hitchcock sensibility neglect film tell story unfortunate 25 year old barry kane robert cummings work los angeles airplane factory meet new employee frank frye norman lloydd moment later frame commit sabotage flee authority believe far fetched story meet character way soda city utah finally new york city memorable character include circus caravan car helpful freak popular billboard model patricia martin priscilla lane bad crisis life national security fall madly love course land hitchcock patricia kidnap suppose saboteur barry fall captor add romantic tension mix good form outing hitchcock brew national network demure old lady average joes respectable businessman double secret agent terrorist harbor criminal pull gun detonate bomb thing move terrific plot take time move forward ignite culminate hitchcock memorable finale look incredibly life like nyc tourist attraction recreate art director hollywood war time shooting ban public attraction saboteur hitchcock know film popular b movie certainly solid engage plenty clever plot twist usual terrific hitchcock villain remember look hitchcock cameo appearance outside drug store second half film hitchcock original cameo idea shoot fight sign language deaf wife axe bureau standards practices afraid offend deaf"
        ],
        [
         "11",
         "The Last Hard Men finds James Coburn an outlaw doing a long sentence breaking free from a chain gang. Do he and his friends head for the Mexican border from jail and safety. No they don't because Coburn has a mission of revenge. To kill the peace officer who brought him in and in the process killed his woman.That peace officer is Charlton Heston who is now retired and he knows what Coburn is after. As he explains it to his daughter, Barbara Hershey, Coburn was holed up in a shack and was involved in a Waco like standoff. His Indian woman was killed in the hail of bullets fired. It's not something he's proud of, she was a collateral casualty in a manhunt.Lest we feel sorry for Coburn he lets us know full well what an evil man he truly is. Heston is his usual stalwart hero, but the acting honors in The Last Hard Men go to James Coburn. He blows everyone else off the screen when he's on. Coburn gets the bright idea of making sure Heston trails him by kidnapping Hershey and taking her to an Indian reservation where the white authorities can't touch him. He knows that Heston has to make it personal then.Coburn's gang includes, Morgan Paull, Thalmus Rasulala, John Quade, Larry Wilcox, and Jorge Rivero. Heston has Chris Mitchum along who is his son-in-law to be.The Last Hard Men is one nasty and brutal western. Andrew McLaglen directed it and I'm thinking it may have been a project originally intended for Sam Peckinpaugh. It sure shows a lot of his influence with the liberal use of slow motion to accentuate the violence. Of which there is a lot. For a little Peckinpaugh lite, The Last Hard Men is your film.",
         "1",
         "hard men find james coburn outlaw long sentence break free chain gang friend head mexican border jail safety coburn mission revenge kill peace officer bring process kill woman peace officer charlton heston retire know coburn explain daughter barbara hershey coburn hole shack involve waco like standoff indian woman kill hail bullet fire proud collateral casualty manhunt lest feel sorry coburn let know evil man truly heston usual stalwart hero act honor hard men james coburn blow screen coburn get bright idea make sure heston trail kidnap hershey take indian reservation white authority touch know heston personal coburn gang include morgan paull thalmus rasulala john quade larry wilcox jorge rivero heston chris mitchum son law hard men nasty brutal western andrew mclaglen direct think project originally intend sam peckinpaugh sure show lot influence liberal use slow motion accentuate violence lot little peckinpaugh lite hard men film"
        ],
        [
         "12",
         "This short film that inspired the soon-to-be full length feature - Spatula Madness - is a hilarious piece that contends against similar cartoons yielding multiple writers. The short film stars Edward the Spatula who after being fired from his job, joins in the fight against the evil spoons. This premise allows for some funny content near the beginning, but is barely present for the remainder of the feature. This film's 15-minute running time is absorbed by some odd-ball comedy and a small musical number. Unfortunately not much else lies below it. The plot that is set up doesn't really have time to show. But it's surely follows it plot better than many high-budget Hollywood films. This film is worth watching at least a few times. Take it for what it is, and don't expect a deep story.",
         "1",
         "short film inspire soon length feature spatula madness hilarious piece contend similar cartoon yield multiple writer short film star edward spatula fire job join fight evil spoon premise allow funny content near beginning barely present remainder feature film 15 minute running time absorb odd ball comedy small musical number unfortunately lie plot set time surely follow plot well high budget hollywood film film worth watch time expect deep story"
        ],
        [
         "13",
         "It's terrific when a funny movie doesn't make smile you. What a pity!! This film is very boring and so long. It's simply painfull. The story is staggering without goal and no fun.You feel better when it's finished.",
         "0",
         "terrific funny movie smile pity film boring long simply painfull story staggering goal fun feel well finish"
        ],
        [
         "14",
         "\"A bored television director is introduced to the black arts and astral projection by his girlfriend. Learning the ability to separate his spirit from his body, the man finds a renewed interest in his life and a sense of wellbeing. Unfortunately, the man discovers while he is sleeping, his spirit leaves his body and his uncontrolled body roams the streets in a murderous rampage,\" according to the DVD sleeve's synopsis.The synopsis isn't entirely correct, as it turns out.Anyway, the movie opens with a dizzying \"out-of-body\" example of handsome director Winston Rekert (as Paul Sharpe)'s newly discovered \"astral body\" experience; it also foreshadows an upcoming dogfight. Young Andrew Bednarski (as Matthew Sharpe), being a kid, draws pictures of \"The Blue Man\", as his murder spree begins. Handsome detective John Novak (as Stewart Kaufman) discovers the victims are connected to Mr. Rekert. Mr. Novak's investigation leads to the supernatural; a prime example of which is Karen Black (as Janus), with whom Rekert fears he is falling in love.Several in the cast perform well; but, \"The Blue Man\" winds up tying itself up in a knot. Aka \"Eternal Evil\", its unsatisfying story tries to be far too clever for its own good.",
         "0",
         "bored television director introduce black art astral projection girlfriend learn ability separate spirit body man find renew interest life sense wellbee unfortunately man discover sleep spirit leave body uncontrolled body roam street murderous rampage accord dvd sleeve synopsis synopsis entirely correct turn movie open dizzying body example handsome director winston rekert paul sharpe newly discover astral body experience foreshadow upcoming dogfight young andrew bednarski matthew sharpe kid draw picture blue man murder spree begin handsome detective john novak stewart kaufman discover victim connect mr. rekert mr. novak investigation lead supernatural prime example karen black janus rekert fear fall love cast perform blue man wind tie knot aka eternal evil unsatisfying story try far clever good"
        ],
        [
         "15",
         "This movie was not very well directed. they almost totally disregarded the book.I guess they were trying 2 save time. the only upside 2 me was that the actor who played finny was cute. Some of the dialog between the main characters appeared a little gay which was not the case in the book. Major parts of the book were once again chopped out.You lost the over all effect it was not as haunting as the book and left me lacking severely. Also the strong language although it was brief was very unnecessary. Also i was surprised ( not pleasantly) by a new character that was no where in the book.One of my favorite characters (leper) was poorly interpreted and portrayed. He seemed more sinister in the movie than the real leper was in the book. Over all disappointing.",
         "0",
         "movie direct totally disregard book guess try 2 save time upside 2 actor play finny cute dialog main character appear little gay case book major part book chop lose effect haunt book leave lack severely strong language brief unnecessary surprised pleasantly new character book favorite character leper poorly interpret portray sinister movie real leper book disappointing"
        ],
        [
         "16",
         "The story is very trustworthy and powerful. The technical side of the movie is quite fine.. even the directing of it. The main problem is with the castings, that turned that movie into almost another local and regular cliché with a great lack of impact and even greater lack of impression. Beside the small role of the father, Rafael (played impressively by Asi Dayan), all other actors were unfortunately not in their best. The role of the elder Blind girl, played by Taly Sharon, was fresh but without any intensity as the leading role. therefore the figure she acted had become mild and low profile. There were moments and episodes that looked more like a rehearsal then a real movie. But after all it's a good point to begin from and to make big improvements in the future.",
         "0",
         "story trustworthy powerful technical movie fine .. directing main problem casting turn movie local regular cliché great lack impact great lack impression small role father rafael play impressively asi dayan actor unfortunately good role eld blind girl play taly sharon fresh intensity lead role figure act mild low profile moment episode look like rehearsal real movie good point begin big improvement future"
        ],
        [
         "17",
         "Originally I was a Tenacious D fan of their first album and naturally listened to a few tracks off The P.O.D. and was rather disappointed. After watching the movie, my view was changed. The movie is pretty funny from beginning to the end and found my self engaged in it even though it was really was a stupid storyline because of the attitudes that KG and Jaybles portray in the movie. Much more entertaining and enjoyable than movies I have seen in the theaters lately. ex. Saw III (dull and dragging), Casino Royale (way to homo-erotic) which in prior installments I have really enjoyed If you enjoyed Borat, you will enjoy the tale of The Greatest Band on Earth",
         "1",
         "originally tenacious d fan album naturally listen track p.o.d. disappointed watch movie view change movie pretty funny begin end find self engage stupid storyline attitude kg jaybles portray movie entertaining enjoyable movie see theater lately ex see iii dull dragging casino royale way homo erotic prior installment enjoy enjoy borat enjoy tale greatest band earth"
        ],
        [
         "18",
         "Phantasm ....Class. Phantasm II.....awesome. Phantasm III.....erm.....terrible.Even though i would love to stick up for this film, i quite simply can't. The movie seems to have \"sold out\". First bad signs come when the video has trailers for other films at the start (something the others did not). Also too many pointless characters, prime examples the kid (who is a crack shot, funny initially but soon you want him dead), the woman who uses karate to fight off the balls (erm not gonna work, or rather shouldn't) and the blooming zombies (what the hell are they doing there, there no link to them in the other Phatasms). Also there is a severe lack of midgets running about.The only good bits are the cracking start and, of course, Reggie B.(Possible SPOILER coming Up)To me this film seems like a filler between II and IV as extra characters just leave at the end so can continue with main 4 in IV.Overall very, VERY disappointing. 3 / 10",
         "0",
         "phantasm .... class phantasm ii ..... awesome phantasm iii ..... erm ..... terrible love stick film simply movie sell bad sign come video trailer film start pointless character prime example kid crack shot funny initially soon want dead woman use karate fight ball erm go to work bloom zombie hell link phatasms severe lack midget run good bit crack start course reggie b.(possible spoiler come up)to film like filler ii iv extra character leave end continue main 4 iv.overall disappointing 3 10"
        ],
        [
         "19",
         "Ludicrous. Angelic 9-year-old Annakin turns into whiny brat 19-year-old Annakin, who somehow seems appealing to Amidala, 5 years his senior. Now 22-year-old Jedi warrior hero Annakin has a couple of bad dreams, and so takes to slaughtering children, his friends, and the entire framework of his existence because a crazy old man convinced him a) his precious wife might really die, and b) only he can prevent this. Ludicrosity squared.I think the people who like this movie are not paying attention. The story is ridiculous. The characters are unbelievable (literally, not the perverted sense of \"fantastic\", \"wonderful\", etc.).Obi-wan Kenobi was the wise and kind anchor for the entire series, but in the climax, he hacks off Annakin's legs, lets him burn in the lava, and leaves him to suffer. Doesn't anyone think that's a little out of character? Not to mention it was pretty stupid to take a chance on him living, as it turns out.I was expecting at least a story that showed consistent characters with plausible motivations. None of that here. The story could have been written by a 10 year old.Oh yeah, the CGI is pretty cool.",
         "0",
         "ludicrous angelic 9 year old annakin turn whiny brat 19 year old annakin appeal amidala 5 year senior 22 year old jedi warrior hero annakin couple bad dream take slaughter child friend entire framework existence crazy old man convince precious wife die b prevent ludicrosity square think people like movie pay attention story ridiculous character unbelievable literally perverted sense fantastic wonderful etc.).obi wan kenobi wise kind anchor entire series climax hack annakin leg let burn lava leave suffer think little character mention pretty stupid chance live turn expect story show consistent character plausible motivation story write 10 year old oh yeah cgi pretty cool"
        ],
        [
         "20",
         "I strongly dislike this show. I mean, like, basically everyone at that school is perfect, and rich, and I doubt a boarding school would look as cool as that. And why do they suddenly allow girls into the school? Isn't that just a little weird? anyways, Jamie Lynn spears CANNOT act. She always has the same facial expression, which really annoys me. She is basically emotionless, and all the guys seem to like her.and shouldn't chase tell her he likes her? its not that hard! really! None of this show is real life, and she isn't \"a girl like me\" because majority of the regular girls do NOT go to boarding school, do not have designer clothes, and do NOT live by the beach.fake fake fake.",
         "0",
         "strongly dislike mean like basically school perfect rich doubt boarding school look cool suddenly allow girl school little weird anyways jamie lynn spear act facial expression annoy basically emotionless guy like her.and chase tell like hard real life girl like majority regular girl boarding school designer clothe live beach.fake fake fake"
        ],
        [
         "21",
         "I think this movie has got it all. It has really cool music that I can never get out of my head. It has cool looking characters. IS REALLY funny(you know, the kind that you'll crack up on the ground and you'll keep saying the funny parts over every day for three weeks).Despite the bad acting, bad cgi, and bad story(about cops going after a robot), its really cool. Its one of those movies you and all of your family can watch, get together, eat pizza, laugh like crazy, and watch it two more times.There are so many funny parts, like when Kurt was trying to get Edison's attention and gave him the finger, and then threw a paint ball gun at him so they could play paint ball. On that part, I kept saying \"Remember, Remember?\"to my cousins who saw it and showed them what happened. There was also a really funny part when Edision ran into the room and Kurt was there(just before they fought) and Kurt was talking about his \"Strange dream\" and how he was \"Superman\". I LOVED that part, although it has been a while since I saw it, so I don't remember that part. Everything the actors said were funny, like how Kurt says, \"I worship you, like a GOD!\" to the robot.Although there was some bad things, in all it was a GREAT movie. Man, I can't stop laughing. I wish I had that movie. );",
         "1",
         "think movie get cool music head cool look character funny(you know kind crack ground say funny part day weeks).despite bad acting bad cgi bad story(about cop go robot cool movie family watch eat pizza laugh like crazy watch time funny part like kurt try edison attention give finger throw paint ball gun play paint ball keep say remember remember?\"to cousin see show happen funny edision run room kurt there(just fight kurt talk strange dream superman love see remember actor say funny like kurt say worship like god robot bad thing great movie man stop laugh wish movie"
        ],
        [
         "22",
         "One of Starewicz's longest and strangest short films follows a toy dog in search of an orange after becoming animated by the tear of the mother of a girl who longs for an orange. The dog comes upon an orange after falling out of the back of a car on his way to be sold, but at night must protect the orange when he comes enters a devilish nightclub featuring many bizarre and scary characters. With the help of a stuffed cat, the dog gets the orange back to the little girl and she is saved from a terrible scurvy death. The Mascot features new techniques I have not yet seen in Starewicz's films. The addition of sync sound and a mixture of live action with the stop-motion animation makes for a new twist on Starewicz's old style of puppetry. Live scenes of moving cars and people's feet walking by as a puppet sits on the concrete sidewalk is impressive and fresh. The honking of cars and cries of street vendors is noteworthy due to the fact that small studio shifts to sound were costly and Starewicz's utilization of the new technology seems like old hat. New puppet characters in this film are frightening contributions to the devil's club scene. Twigss and newspaper shreds come to life. Skeletons of dead birds lay eggs which hatch skeleton chicks. Characters come flying in from all over on pats and pans and rocking horses. A new editing technique uses quick zooms which are accomplished through editing to speed up the pace of what before might have been a slow scene. Overall, Starewicz is able to update his style of film-making to meet the demands of a new audience making this film one of the best examples of his work.",
         "1",
         "starewicz long strange short film follow toy dog search orange animate tear mother girl long orange dog come orange fall car way sell night protect orange come enter devilish nightclub feature bizarre scary character help stuff cat dog get orange little girl save terrible scurvy death mascot feature new technique see starewicz film addition sync sound mixture live action stop motion animation make new twist starewicz old style puppetry live scene move car people foot walk puppet sit concrete sidewalk impressive fresh honking car cry street vendor noteworthy fact small studio shift sound costly starewicz utilization new technology like old hat new puppet character film frightening contribution devil club scene twigss newspaper shred come life skeleton dead bird lie egg hatch skeleton chick character come fly pat pan rock horse new editing technique use quick zoom accomplish edit speed pace slow scene overall starewicz able update style film making meet demand new audience make film good example work"
        ],
        [
         "23",
         "The three main characters are all hopeless, and yet you only feel sorry for one of them: Ernesto, hopelessly devoted to Mercedes. This was part of the frustration: screaming at Mercedes to get a clue and ditch the no-good Harry, to no avail.Then there's the satisfaction: Steve Buscemi has a great part as a transvestite, and Harvey Keitel's moving story of his indignity playing a gorilla for a cheap TV movie is incredible. When you least expect it, Quentin Tarintino is doing half a monologue, and Anthony Quinn turns Ernesto into a wealthy man.Time and again great moments appear in the story, but in the end it's hard to know what to feel about this movie. It doesn't have a happy ending, or even a complete one, but it somehow feels right.This movie is strange, but then so am I; no wonder I liked it.",
         "1",
         "main character hopeless feel sorry ernesto hopelessly devoted mercedes frustration scream mercedes clue ditch good harry avail satisfaction steve buscemi great transvestite harvey keitel moving story indignity play gorilla cheap tv movie incredible expect quentin tarintino half monologue anthony quinn turn ernesto wealthy man time great moment appear story end hard know feel movie happy ending complete feel right movie strange wonder like"
        ],
        [
         "24",
         "Based on a Edgar Rice Burroughs novel, AT THE EARTH'S CORE provides little more than means to escape and give your brain a rest. A Victorian scientist Dr. Abner Perry(Peter Cushing)invents a giant burrowing machine, which he and his American partner(Doug McClure)use to corkscrew their way deep into the earth to explore what mysteries it may hold. They soon discover a lost world of subhuman creatures having conflict with prehistoric monsters.Cushing comes across as an absent minded professor to the point of being annoying. Instead of being a bold adventurer, he comes across effeminate. On the other hand McClure overacted enough to make himself also laughable. Caroline Munro plays the pretty Princess Dia that refuses to leave her world near the center of the earth. Also in the cast are: Godfrey James, Cy Grant and Michael Crane.",
         "0",
         "base edgar rice burroughs novel earth core provide little mean escape brain rest victorian scientist dr. abner perry(peter cushing)invents giant burrowing machine american partner(doug mcclure)use corkscrew way deep earth explore mystery hold soon discover lost world subhuman creature have conflict prehistoric monster cushing come absent minded professor point annoying instead bold adventurer come effeminate hand mcclure overact laughable caroline munro play pretty princess dia refuse leave world near center earth cast godfrey james cy grant michael crane"
        ],
        [
         "25",
         "Paul Verhoeven's predecessor to his breakout hit 'Basic Instinct' is a stylish and shocking neo-noir thriller. Verhoeven has become known for making somewhat sleazy trash films, both in his native Holland and in America and this film is one of the reasons why. The Fourth Man follows the strange story of Gerard Reve (played by Jeroen Krabbé); a gay, alcoholic and slightly mad writer who goes to Vlissingen to give a talk on the stories he writes. While there, he meets the seductive Christine Halsslag (Renée Soutendijk) who takes him back to her house where he discovers a handsome picture of one of her lovers and proclaims that he will meet him, even if it kills him.Paul Verhoeven twists the truth many times in this film, and that ensures that you never quite know where you are with it. Many of the occurrences in The Fourth Man could be what they appear to be, but they could easily be interpreted as something else entirely and this keeps the audience on the edge of their seats for the duration, and also makes the film work as this narrative is what it thrives on. Paul Verhoeven is not a filmmaker that feels he has to restrain himself, and that is one of things I like best about him. This film features a very shocking scene that made me feel ill for hours afterwards (and that doesn't happen very often!). I wont spoil it because it needs the surprise element to work...but you'll see what I mean when you see the film (make sure you get the uncut version!). There is also a number of other macabre scenes that are less shocking than the one I've mentioned, but are lovely nonetheless; a man gets eaten by lions, another one has a pipe sent through his skull, a boat is smashed in half...lovely.The acting in The Fourth Man isn't anything to write home about, but it's solid throughout. Jeroen Krabbé holds the audience's attention and looks the part as the drunken writer. It is Renée Soutendijk that impresses the most, though, as the femme fatale at the centre of the tale. Her performance is what Sharon Stone would imitate nine years later with Basic Instinct, but the original fatale did it best. Paul Verhoeven's direction is solid throughout as he directs our attention through numerous points of view, all of which help to create the mystery of the story. Verhoeven has gone on to make some rubbish, but he obviously has talent and it's a shame that he doesn't put it to better use. Of all the Verhoeven films I've seen, this is the best and although it might be difficult to come across; trust me, it's worth the effort.",
         "1",
         "paul verhoeven predecessor breakout hit basic instinct stylish shocking neo noir thriller verhoeven know make somewhat sleazy trash film native holland america film reason fourth man follow strange story gerard reve play jeroen krabbé gay alcoholic slightly mad writer go vlissingen talk story write meet seductive christine halsslag renée soutendijk take house discover handsome picture lover proclaim meet kill paul verhoeven twist truth time film ensure know occurrence fourth man appear easily interpret entirely keep audience edge seat duration make film work narrative thrive paul verhoeven filmmaker feel restrain thing like well film feature shocking scene feel ill hour happen will not spoil need surprise element work ... mean film sure uncut version number macabre scene shocking mention lovely nonetheless man get eat lion pipe send skull boat smash half ... lovely act fourth man write home solid jeroen krabbé hold audience attention look drunken writer renée soutendijk impress femme fatale centre tale performance sharon stone imitate year later basic instinct original fatale well paul verhoeven direction solid direct attention numerous point view help create mystery story verhoeven go rubbish obviously talent shame well use verhoeven film see good difficult come trust worth effort"
        ],
        [
         "26",
         "What an incomprehensible mess of a movie. Something about a cop who extracts bullets from himself after he gets shot and keeps them in a glass jar in his bathroom (and from the size of the jar he's been shot about fifty times by now) and a top secret tank guarded by five or six incompetent soldiers who for some reason drive it into Mexico. Whether they were sent there intentionally or just got really really lost is never made clear. And you'll never hear another screenplay feature the word \"butthorn\" either. Gary Busey tries out the Mel Gibson role from \"Lethal Weapon\" and while Busey is a serviceable actor the screenplay damns the whole movie to mediocrity. William Smith does another turn as a Russian soldier, the same character he played in \"Red Dawn\" a few years earlier. After playing biker heavies for most of the 70s it was sort of nice to see him expand his range playing Communist heavies. Sadly he'll probably always be remembered best as the guy who Clint Eastwood whupped in \"Every Which Way You Can.\"",
         "0",
         "incomprehensible mess movie cop extract bullet get shoot keep glass jar bathroom size jar shoot time secret tank guard incompetent soldier reason drive mexico send intentionally get lose clear hear screenplay feature word butthorn gary busey try mel gibson role lethal weapon busey serviceable actor screenplay damn movie mediocrity william smith turn russian soldier character play red dawn year early play biker heavy 70 sort nice expand range play communist heavy sadly probably remember well guy clint eastwood whuppe way"
        ],
        [
         "27",
         "There have been many documentaries that I have seen in which it appeared that the law was on the wrong side of the fence - The Thin Blue Line and Paradise Lost come to mind first and foremost. But this is the first film that had me seething with anger after I saw it. It seems blatantly clear to me from the evidence presented in this film that what happened at Waco was at the very least an unprofessional and sloppy mess on the part of the FBI and AFI, and at the very worst an act of murder. Like most people, when the siege at Waco was occurring I assumed that David Koresh was a completely evil madman who was leading a violent cult. After seeing this, I think that Koresh was more likely a slightly unbalanced and confused guy who inadvertently caught the attention of the U.S. government through his eccentric actions. Sure, there were lots of weapons at the Branch Davidian compound. But none of it was illegal. It was absolutely heartbreaking to see the video footage of the people inside the compound, all of them seeming to be very nice and harmless. And it was angering to see the callous testimony of the men in charge of the government forces on the Waco site, the clueless testimony of Janet Reno, and the partisan defense of the attack on Waco, a defense led by a few of the committee Democrats. Standing out most in my mind was NY representative and current U.S. senator from NY Charles Schumer. I voted for the man when I lived in NY state - I'm a Democrat, pretty left-leaning too. After seeing his actions on this committee, I wish I could go back in time and vote for D'Amato instead! For anyone remotely interested in the government, this is a very crucial film, a must see. I even think this should be shown in classes - it's that important.",
         "1",
         "documentary see appear law wrong fence thin blue line paradise lost come mind foremost film seethe anger see blatantly clear evidence present film happen waco unprofessional sloppy mess fbi afi bad act murder like people siege waco occur assume david koresh completely evil madman lead violent cult see think koresh likely slightly unbalanced confused guy inadvertently catch attention u.s. government eccentric action sure lot weapon branch davidian compound illegal absolutely heartbreaking video footage people inside compound nice harmless anger callous testimony man charge government force waco site clueless testimony janet reno partisan defense attack waco defense lead committee democrats stand mind ny representative current u.s. senator ny charles schumer vote man live ny state democrat pretty left lean see action committee wish time vote d'amato instead remotely interested government crucial film think show class important"
        ],
        [
         "28",
         "Well, there's no real plot to speak of, it's just an excuse to show some scenes of extreme violence and gratuitous sex (which can sometimes be fun, too, but it's not in this case). What else can I say about this...? The action, when happening, is inventive and there's a cool scene where two characters are falling from a skyscraper (one that has to be several miles high), but overall there's not much to recommend \"Kite\". Watch it if you want, but you're not missing much if you skip this one...",
         "0",
         "real plot speak excuse scene extreme violence gratuitous sex fun case ... action happen inventive cool scene character fall skyscraper mile high overall recommend kite watch want miss skip ..."
        ],
        [
         "29",
         "Note to self. Never ever ever again watch a serious movie with Charlie Sheen in it. Great comedian, horrible seal. This movie makes Navy SEALS look like a reckless group of rangers when, in fact, they are the most elite form of military in the world. Charlie Sheen helps destroy the Navy SEAL reputation. Thank you for making such an incredibly select group of individuals look awful in one of the worst action movies I have ever seen. This is a great story which could be made into an amazing action movie, but why Charlie Sheen? There are possibilities for a very passionate story here, but Sheen decides to wreck them with \"funny\" comments.",
         "0",
         "note self watch movie charlie sheen great comedian horrible seal movie make navy seal look like reckless group ranger fact elite form military world charlie sheen help destroy navy seal reputation thank make incredibly select group individual look awful bad action movie see great story amazing action movie charlie sheen possibility passionate story sheen decide wreck funny comment"
        ],
        [
         "30",
         "Often laugh out loud funny play on sex, family, and the classes in Beverly Hills milks more laughs out of the zip code than it's seen since the days of Granny and Jed Clampett. Plot centers on two chauffers who've bet on which one of them can bed his employer (both single or soon to be single ladies, quite sexy -- Bisset and Woronov) first. If Manuel wins, his friend will pay off his debt to a violent asian street gang -- if he loses, he must play bottom man to his friend! Lots of raunchy dialogue, fairly sick physical humour, etc. But a lot of the comedy is just beneath the surface. Bartel is memorable as a very sensual oder member of the family who ends up taking his sexy, teenaged niece on a year long \"missionary trip\" to Africa.Hilarious fun.",
         "1",
         "laugh loud funny play sex family class beverly hills milk laugh zip code see day granny jed clampett plot center chauffer bet bed employer single soon single lady sexy -- bisset woronov manuel win friend pay debt violent asian street gang -- lose play man friend lot raunchy dialogue fairly sick physical humour etc lot comedy beneath surface bartel memorable sensual oder member family end take sexy teenaged niece year long missionary trip africa hilarious fun"
        ],
        [
         "31",
         "Or anyone else have noticed the fact that first bunch of episodes are inspired too much by 90's flicks?I mean seriously wife who is trying get someone else to murder his rich husband so she can claim his assets. Med students who are temporarily stopping their hearts to reach memories that are lost; Flatliners. Bunch of college bodies getting together again to reminisce on the old days but are not fully comfortable because they did something in the past, Very Bad Things? Groundhog day is one of my all time favorite movies. Sadly enough the writing staff behind his turd is bunch of lazy bastards who can not come up with their original scripts.Noble idea totally fubarred in it's execution.",
         "0",
         "notice fact bunch episode inspire 90 flicks?i mean seriously wife try murder rich husband claim asset med student temporarily stop heart reach memory lose flatliner bunch college body get reminisce old day fully comfortable past bad thing groundhog day time favorite movie sadly write staff turd bunch lazy bastard come original script noble idea totally fubarre execution"
        ],
        [
         "32",
         "Like the previous poster, I am from northern Vermont, and I was inclined to like this film. However, not since \"Red Zone Cuba\" have I seen such a confusing plot. The things the people to bootleg make no sense. Two of the gang paddle across the border send a second party across in a car. Uhm, why? Then they meet two others, and drive up at night in to the bad guy's hideout in a luxury Packard. --Wouldn't just two people in a flatbed truck make more sense? Then, parked outside the garage that holds the targeted hooch, the four fall asleep! When they waken in the morning and and start hauling the whiskey out, of course they're spotted and shot at, losing some of their precious cargo in the process. Then two of the smugglers put the whiskey in a boat and float it over the border. Again, why? I am told by someone whose great uncle really did smuggle in the area, all one needed was to drive a vehicle that could outrun than the U.S. Canada Border Patrol, which back then had a fraction of the resources it has now. And don't get me started on the last half hour, which made no sense whatsoever.The only good thing I can say about the film is that Kris Kristopherson has actually grown some charisma with the years.",
         "0",
         "like previous poster northern vermont inclined like film red zone cuba see confusing plot thing people bootleg sense gang paddle border send second party car uhm meet drive night bad guy hideout luxury packard --wouldn't people flatbe truck sense park outside garage hold target hooch fall asleep waken morning start haul whiskey course spot shoot lose precious cargo process smuggler whiskey boat float border tell great uncle smuggle area need drive vehicle outrun u.s. canada border patrol fraction resource start half hour sense whatsoever good thing film kris kristopherson actually grow charisma year"
        ],
        [
         "33",
         "The endless bounds of our inhumanity to our own kind never fails to stun me. This truly astonishing story of a horrifically abused and largely unheard-of population is compelling, well-documented and enraging. As an American, I am constantly humiliated by my country's behaviour and this is just another in our long catalogue of international debasement. We suck. This is probably the first John Pilger documentary I've seen, but it immediately made me want to see what else he's done. My only complaint, and the reason I gave this film only 8 out of 10, is that Pilger shows us this travesty and the appalling collaboration of the US and UK governments, demands that we viewers/citizens are complicit in our own inaction...but makes no suggestion of how to help. I don't know about Britain, but America's made it nearly impossible for the citizenry to take part in their government's doings. A gesture in the right direction might help these islanders' cause.",
         "1",
         "endless bound inhumanity kind fail stun truly astonishing story horrifically abuse largely unheard population compelling document enrage american constantly humiliate country behaviour long catalogue international debasement suck probably john pilger documentary see immediately want complaint reason give film 8 10 pilger show travesty appalling collaboration uk government demand viewer citizen complicit inaction ... make suggestion help know britain america nearly impossible citizenry government doing gesture right direction help islander cause"
        ],
        [
         "34",
         "This is a very memorable spaghetti western. It has a great storyline, interesting characters, and some very good acting, especially from Rosalba Neri. Her role as the evil villainess in this film is truly classic. She steals every scene she is in, and expresses so much with her face and eyes, even when she's not speaking. Her performance is very believable. She manages to be quite mesmerizing without being over the top (not that there's anything wrong with being over the top). Mark Damon is surprisingly good in this movie too.The music score is excellent, and the theme song is the kind that will be playing in your head constantly for days after seeing the movie, whether you want it to or not. There are a couple of parts that are very amusing. I especially like the part where Rosalba Neri undresses in front of the parrot. There's also lots of slick gun-play that's very well done.I would probably have given this movie 8 or 9 stars if it wasn't for two things. The first being a silly bar room brawl that occurs about 25 minutes into the film. This is one of the most ridiculous looking fights I have ever seen in a movie. It is very poorly choreographed, and looks more like a dance number from a bad musical than any kind of a real fight. One might be able to overlook this if it were a Terence Hill/Bud Spencer comedy, but this is a more serious western, and the brawl really needed to be more realistic. The other thing that annoyed me about this movie was Yuma's cowardly Mexican sidekick. I guess he was supposed to be comic relief or something, but the character was just plain stupid and unnecessary in a movie like this, and he wasn't at all funny. All I can say is where is Tuco when you need him? All that having been said, let me assure everyone reading this that Johnny Yuma is a classic spaghetti western despite the faults I have mentioned, and all fans of the genre need to see this movie.",
         "1",
         "memorable spaghetti western great storyline interesting character good acting especially rosalba neri role evil villainess film truly classic steal scene express face eye speak performance believable manage mesmerize wrong mark damon surprisingly good movie music score excellent theme song kind play head constantly day see movie want couple part amusing especially like rosalba neri undress parrot lot slick gun play probably give movie 8 9 star thing silly bar room brawl occur 25 minute film ridiculous look fight see movie poorly choreographed look like dance number bad musical kind real fight able overlook terence hill bud spencer comedy western brawl need realistic thing annoy movie yuma cowardly mexican sidekick guess suppose comic relief character plain stupid unnecessary movie like funny tuco need have say let assure read johnny yuma classic spaghetti western despite fault mention fan genre need movie"
        ],
        [
         "35",
         "It got to be a running joke around Bonanza about how fatal it was for any women to get involved with any Cartwright men. After all Ben Cartwright was three times a widower with a son by each marriage. And any woman who got involved with Adam, Hoss, and Little Joe were going to end up dying because we couldn't get rid of the formula of the widower and the three sons that started this classic TV western.Perhaps if Bonanza were being done today the writers would have had revolving women characters who came in and out of the lives of the Cartwrights. People have relationships, some go good, some not so good, it's just life. And we're less demanding of our heroes today so if a relationship with one of them goes south we don't have to kill the character off to keep the survivor's nobility intact. But that's if Bonanza were done today.But we were still expecting a lot from our western heroes and Bonanza though it took a while to take hold and a change of viewing time from NBC certainly helped, the secret of Bonanza's success was the noble patriarch Ben Cartwright and his stalwart sons. Ben Cartwright was THE ideal TV Dad in any genre you want to name. His whole life was spent in the hard work of building that immense Ponderosa spread for his three children. The kids were all different in personality, but all came together in a pinch.The Cartwrights became and still are an American institution. I daresay more people cared about this family than the Kennedys. Just the popularity that Bonanza has in syndication testifies to that. Pernell Roberts as oldest son Adam was written out of the show. Rumor has it he didn't care for the noble Cartwright characters which he felt bordered on sanctimonious. Perhaps if it were done now, he'd have liked it better in the way I describe.This was just the beginning for Michael Landon, how many people get three hit TV shows to their credit. Landon also has Highway to Heaven and Little House On the Prarie where he had creative control. Little Joe was the youngest, most hot headed, but the most romantic of the Cartwrights. When Roberts left. the show kept going with the two younger sons, but when big Dan Blocker left, the heart went out of Bonanza. Other characters had been added on by that time, David Canary, Tim Matheson, and Ben Cartwright adopted young Mitch Vogel. But big, loyal, but a little thick Hoss was easily the most lovable of the Cartwrights. His sudden demise after surgery left too big a hole in that family.So the Cartwrights of the Ponderosa have passed into history. I got a real taste of how America took the Cartwrights to heart when I visited the real Virginia City. It doesn't look anything like what you see in Bonanza. But near Lake Tahoe, just about where you see the Ponderosa on the map at the opening credits, is the Cartwright home, the set maintained and open as a tourist attraction. Like 21 Baker Street for Sherlock Holmes fans, the ranchhouse and the Cartwrights are real.And if they weren't real, they should have been.",
         "1",
         "get running joke bonanza fatal woman involve cartwright man ben cartwright time widower son marriage woman get involve adam hoss little joe go end die rid formula widower son start classic tv western bonanza today writer revolve woman character come life cartwrights people relationship good good life demanding hero today relationship go south kill character survivor nobility intact bonanza today expect lot western hero bonanza take hold change view time nbc certainly help secret bonanza success noble patriarch ben cartwright stalwart son ben cartwright ideal tv dad genre want life spend hard work build immense ponderosa spread child kid different personality come pinch cartwrights american institution daresay people care family kennedys popularity bonanza syndication testifie pernell roberts old son adam write rumor care noble cartwright character feel border sanctimonious like well way describe beginning michael landon people hit tv show credit landon highway heaven little house prarie creative control little joe young hot head romantic cartwrights roberts leave keep go young son big dan blocker leave heart go bonanza character add time david canary tim matheson ben cartwright adopt young mitch vogel big loyal little thick hoss easily lovable cartwrights sudden demise surgery leave big hole family cartwrights ponderosa pass history get real taste america take cartwrights heart visit real virginia city look like bonanza near lake tahoe ponderosa map opening credit cartwright home set maintain open tourist attraction like 21 baker street sherlock holmes fan ranchhouse cartwrights real real"
        ],
        [
         "36",
         "A truly muddled incomprehensible mess. Most things in the film look more or less like 1987, but then there are futuristic things just thrown in, like the policeman's ray gun. And that car! The director seemed to be in love with colored lights. The only really notable performance was the girl who played Valerie, but since there was no cast listing, I don't know which actress that was. This one is worth missing. Grade: F",
         "0",
         "truly muddle incomprehensible mess thing film look like 1987 futuristic thing throw like policeman ray gun car director love colored light notable performance girl play valerie cast listing know actress worth miss grade f"
        ],
        [
         "37",
         "It doesn't happen very often, but occasionally one man can make a difference -- a big difference.George Crile's 2003 best seller, CHARLIE WILSON'S WAR, is a fascinating and eye-opening account of the most unlikely \"difference maker\" imaginable. A relatively obscure Congressman from the Second District of Texas, \"Good Time Charlie\" was known more for his libertine lifestyle than his libertarian legislation. Likable and licentious (even for a politician), Charlie Wilson served his constituency well since the good folks of Lufkin only really wanted two things, their guns and to be left alone. It's Easy Street replete with his bevy of beltway beauties known, appropriately enough, as Charlie's Angels.When asked why his entire office staff was composed of attractive, young aides his response is a classic, \"You can teach 'em to type, but you can't teach 'em to grow tits.\" No argument there.But even the most rakish rapscallion has a conscience lurking somewhere underneath, and for Charlie Wilson the unimaginable atrocities being committed in Afghanistan moved him to muster his entire political savvy toward funding the utter, humiliating defeat of the Russian military and, possibly, to even help hasten the end of the Cold War as a result. Fat chance, huh?Under the skillful direction of Mike Nichols and a smart, snappy screenplay by Adam Sorkin, CHARLIE WILSON'S WAR is a sparkling, sophisticated satire that chronicles the behind-the- scene machinations of three colorful characters comprising \"Charlie's Team.\"The on-screen \"Team,\" is composed of three marvelous actors with four (4) Academy Awards and nine (9) nominations between them. Charlie is beautifully portrayed by Tom Hanks in a solid, slightly understated fashion that is among his best work in years. He's aided, abetted and abedded by Joanne Herring, a wealthy Houston socialite played by the still-slinky Julia Roberts. Hey, why else have the bikini scene than to let the world know this? By all accounts Ms. Roberts looks good and holds her own, but the screenplay never gives us even a hint why Kabul and country is so important to her character. Maybe the two Afghan hounds usually by her side know -- but we as an audience never do. As for the third member of the \"Team,\" Philip Seymour Hoffman steals every scene he appears in as Gust Aurakotos, a smart, street- wise (i.e. non Ivy League graduate) CIA malcontent who knows the score -- both in the Agency's boardroom and in Wilson's bedroom.For the Mujahideen to succeed, the most important assistance the U.S. can provide is the ability to shoot down the dreaded MI-21 helicopter gunships which rule the skies. This takes money, lots of money, and eventually \"Charlie's Team\" covertly coerces those in Congress to fund the effort to the tune of $1 billion dollars for advanced weaponry to arm the Afghan rebels. This includes top-of-the-line, state-of-the-art anti-aircraft and anti-tank rockets as well as other highly sophisticated killing devices. Nasty, nasty stuff.That this kind of multi-billion dollar illicit activity can and does take place behind Congressional doors is truly alarming. Every American should see this movie or read this book because it reveals a truly frightening aspect of the business-as-usual political scene rarely seen outside the walls of our very own government. Oh momma, I wish it weren't so...Even though the initial outcome for \"Team Charlie\" was an unqualified success, the unimaginable, unanticipated final result is that these sophisticated weapons are now used against our troops by the Taliban and others. Since the funding was entirely \"covert,\" the young generation in this part of the world has no idea the fall of Soviet oppression and the end to Russian barbarity was the direct result of American intervention. Yes, once the Russkies left, so did our aid -- zip for schools, zip for infrastructure, zip on maintaining meaningful relationships with the Afghan people. As a result, the overall consequence is an unmitigated disaster -- it's like the forerunner to \"Mission Accomplished.\"As Nichol's film so pointedly points out, \"The ball you've set in motion can keep bouncing even after you've lost interest in it.\" Mike Krzyzewski knows this, Eva Longoria Parker knows this, little Lateesha in Lafayette knows this, but the typical American politician doesn't. So we go from good guys to bad guys because we couldn't let the world know we were the good guys. Talk about a Catch-22 (another Mike Nichols film).Perhaps Charlie Wilson said it best, \"We f&%ked up the end game.\"Again.",
         "1",
         "happen occasionally man difference -- big difference george crile 2003 good seller charlie wilson war fascinating eye open account unlikely difference maker imaginable relatively obscure congressman second district texas good time charlie know libertine lifestyle libertarian legislation likable licentious politician charlie wilson serve constituency good folk lufkin want thing gun leave easy street replete bevy beltway beauty know appropriately charlie angels ask entire office staff compose attractive young aide response classic teach them type teach them grow tit argument rakish rapscallion conscience lurk underneath charlie wilson unimaginable atrocity commit afghanistan move muster entire political savvy fund utter humiliating defeat russian military possibly help hasten end cold war result fat chance huh?under skillful direction mike nichols smart snappy screenplay adam sorkin charlie wilson war sparkling sophisticated satire chronicle the- scene machination colorful character comprise charlie team \"the screen team compose marvelous actor 4 academy awards 9 nomination charlie beautifully portray tom hanks solid slightly understate fashion good work year aid abet abedde joanne herring wealthy houston socialite play slinky julia roberts hey bikini scene let world know account ms. roberts look good hold screenplay give hint kabul country important character maybe afghan hound usually know -- audience member team philip seymour hoffman steal scene appear gust aurakotos smart street- wise i.e. non ivy league graduate cia malcontent know score -- agency boardroom wilson bedroom mujahideen succeed important assistance u.s. provide ability shoot dread mi-21 helicopter gunship rule sky take money lot money eventually charlie team covertly coerce congress fund effort tune 1 billion dollar advanced weaponry arm afghan rebel include line state art anti aircraft anti tank rocket highly sophisticated killing device nasty nasty stuff kind multi billion dollar illicit activity place congressional door truly alarming american movie read book reveal truly frightening aspect business usual political scene rarely see outside wall government oh momma wish ... initial outcome team charlie unqualified success unimaginable unanticipated final result sophisticated weapon troop taliban funding entirely covert young generation world idea fall soviet oppression end russian barbarity direct result american intervention yes russkies leave aid -- zip school zip infrastructure zip maintain meaningful relationship afghan people result overall consequence unmitigated disaster -- like forerunner mission accomplished \"as nichol film pointedly point ball set motion bounce lose interest mike krzyzewski know eva longoria parker know little lateesha lafayette know typical american politician good guy bad guy let world know good guy talk catch-22 mike nichols film).perhap charlie wilson say well f&%ke end game \"again"
        ],
        [
         "38",
         "This ludicrous film offers the standard 1970's \"hippie mentality\" in a nut shell and bores us in the process. Its an attempt to rationalize absurd marriages of young, innocent women with old age sex fiends and wash ups. A naive young hippy played by the waif-like ( Kay Lenz ) hitch hikes and sleeps with all the wrong guys, and then one day she meets the ridiculous (Holden), already in old age, hard liquor drinking and washed up as an actor, and she decides that she is in \"love\" with him. If you think that is superficial, the whole film encapsulates such scenes. She keeps saying how much she \"loves\" him and she only met him, it wears thin and really quick. I couldn't help but laugh throughout the film. Its obvious she's just using him as a meal ticket but the director is immature enough to think we are going to buy that there is actually any love taking place. A disgusting scene is where the two are naked and having sex, I had to fast forward it because it almost inspired me to vomit. A corny offering of music from the 70's is also spread through the film. Avoid this if you can. Grade D.",
         "0",
         "ludicrous film offer standard 1970 hippie mentality nut shell bore process attempt rationalize absurd marriage young innocent woman old age sex fiend wash up naive young hippy play waif like kay lenz hitch hike sleep wrong guy day meet ridiculous holden old age hard liquor drink wash actor decide love think superficial film encapsulate scene keep say love meet wear thin quick help laugh film obvious meal ticket director immature think go buy actually love take place disgusting scene naked have sex fast forward inspire vomit corny offering music 70 spread film avoid grade d."
        ],
        [
         "39",
         "Skippy from \"Family Ties\" plays Eddie, a wussy 'metal' nerd who gets picked on. When his favorite wussy 'metal' singer, Sammi Curr, dies, he throws a hissy fit tearing down all the posters on his bedroom wall. But when he later gets an unreleased record that holds the spirit of his dead 'metal' idol. He first gets sucked into ideas of revenge, but then he doesn't want to take it as far as Sammi does. Which isn't really that far as his main victims only seem to go to the hospital. This movie is utterly laughable and has about as much to do with real metal as say, \"Rock Star\". OK, maybe a tad more than that piece of junk, but you get my point. And how ANYone can root for a guy played by Skippy from \"Family Ties\" I haven't a clue. The cameo by Gene Simmons is OK, and Ozzy Osbourne reaches coherency, I applaud him for that, but otherwise skip this one.My Grade: D Eye Candy:Elise Richards gets topless, an a topless extra at a pool party",
         "0",
         "skippy family ties play eddie wussy metal nerd get pick favorite wussy metal singer sammi curr die throw hissy fit tear poster bedroom wall later get unreleased record hold spirit dead metal idol get suck idea revenge want far sammi far main victim hospital movie utterly laughable real metal rock star ok maybe tad piece junk point root guy play skippy family ties clue cameo gene simmons ok ozzy osbourne reach coherency applaud skip grade d eye candy elise richards get topless topless extra pool party"
        ],
        [
         "40",
         "If you are interested in learning more about this sort of thing happening in modern civilization, there is an excellent book called \"Outlaw Seas\" or \"The Outlaw Sea\", and it describes, in story after story, how these things do happen. The lawlessness of the high seas is a reality for a number of reasons. One, many of the world's freighters are of questionable registry (nationality) and it's difficult to impossible to enforce international laws when the ships owners don't have an office in a real country. Two, many ship lines employ crews from dirt poor third world countries. The crews are often (like illegal immigrant workers) threatened and bullied into complying with questionable or illegal practices. Three, there is often a language barrier, not only between the officers and the crew, but also between the crew members themselves. The crew are rewarded for their compliance and their silence. Four, once committing an illegal act, the ships are able to hide in plain sight with little more than a fresh coat of paint. Anyway, it's fascinating reading.Horrifying story, excellent movie. Does anyone else notice how HBO seems to make the best and most important movies? Hollywood has trouble releasing enough Oscar worthy movies in any given year, so that several of the top 5 contenders usually come from Britain. Jerry Bruckheimer = the end of quality cinema.I loved the thoroughly evil performance by Sean Pertwee. I also, as usual, loved Omar Epps.",
         "1",
         "interested learn sort thing happen modern civilization excellent book call outlaw seas outlaw sea describe story story thing happen lawlessness high sea reality number reason world freighter questionable registry nationality difficult impossible enforce international law ship owner office real country ship line employ crew dirt poor world country crew like illegal immigrant worker threaten bully comply questionable illegal practice language barrier officer crew crew member crew reward compliance silence commit illegal act ship able hide plain sight little fresh coat paint fascinating reading horrify story excellent movie notice hbo good important movie hollywood trouble release oscar worthy movie give year 5 contender usually come britain jerry bruckheimer end quality cinema love thoroughly evil performance sean pertwee usual love omar epps"
        ],
        [
         "41",
         "I feel dumber after watching the first 20 min,luckily i walked out and saved the rest of my brain, people should watch better films and take notes on why they are rated highly,not because of the budget of the film or the special effects, just simply good acting and getting simple things right,and MOst importantly--not being LAME--, but i guess this was produced for those Sheeple without taste and not a clue of what is ''A good Movie''don't be scared of rating films low,save your under-appreciated high scores for ''once in a life time movies''. Keep in mind that many use IMDb for trusted reviews and opinions,don't spoil the broth by sugarcoating turds Peace & love",
         "0",
         "feel dumber watch 20 min luckily walk save rest brain people watch well film note rate highly budget film special effect simply good act get simple thing right importantly -- lame-- guess produce sheeple taste clue '' good movie''don't scared rating film low save appreciated high score '' life time movie '' mind use imdb trust review opinion don't spoil broth sugarcoat turd peace love"
        ],
        [
         "42",
         "Imagine this: a high school. Except it's boarding school, and the kids don't have parents around. Oh, and it's in Malibu. And the kids are all thin, white, and gorgeous, with the exceptional token minority or fat kid to play the \"weird\" outcast. And there aren't any reasonable rules, like how they have co-habitation, nuclear weapons in their dorms, coffee stands, a sushi bar, and a complimentary laptop per student.Here's the story: A girl, Zoey Brooks, attends PCA, a formerly all-boys school. Absolutely perfect in every possible way, she is smart, pretty, thin, athletic, creative, and everything a perfectionist wants to be. Almost all the boys in school want her, and every girl wants to be her friend. She's the one everyone comes to for advice, the one who saves the day with a simplistic plan, and is just wonderful. Too bad none of this makes her likable.Are we supposed to believe that if we don't even come close to Zoey's perfection, we're bad people? In the show, nothing's her fault, and if anyone contradicts her, they're portrayed as the bad guy(Logan). He may be a jerk, but at least he has some kind of brain that thinks for himself instead of simply agreeing with the princess every time.Her loyal group of blind followers are: Chase, the average dumb ass that has a secret crush on her, Michael, the token black guy (and the only decent actor on the set), Lola, a wannabe actress and anorexic, snobby airhead, Quinn, the smart but clueless girl when it comes to teen stuff, and Logan, the rich jerk who has a soft side. Yeah, this show basically spews out stereotypes.What ticks me off, though, is that they all try to pretend they're normal kids. They complain that Logan gets too much money while they have to work themselves, even though they already go to a too-good-to-be-true boarding school and have relatively nice things that many teenagers can't afford. They drink coffee and eat sushi on a regular basis, hardly have homework, and suntan almost every day. Wow, they have it hard! Any other problems? I'm too good-looking, rich, and stress-free! I guess Zoey 101 (what's the 101 for, anyway?) is Nick's attempt at trying to portray teens realistically. Except they caught a glimpse of reality, didn't like it, and decided to give the kids lives like the asses on The Hills.But hey, at least the set's pretty.",
         "0",
         "imagine high school boarding school kid parent oh malibu kid thin white gorgeous exceptional token minority fat kid play weird outcast reasonable rule like co habitation nuclear weapon dorm coffee stand sushi bar complimentary laptop student story girl zoey brooks attend pca boy school absolutely perfect possible way smart pretty thin athletic creative perfectionist want boy school want girl want friend come advice save day simplistic plan wonderful bad make likable suppose believe come close zoey perfection bad people fault contradict portray bad guy(logan jerk kind brain think instead simply agree princess time loyal group blind follower chase average dumb ass secret crush michael token black guy decent actor set lola wannabe actress anorexic snobby airhead quinn smart clueless girl come teen stuff logan rich jerk soft yeah basically spew stereotype tick try pretend normal kid complain logan get money work good true boarding school relatively nice thing teenager afford drink coffee eat sushi regular basis hardly homework suntan day wow hard problem good look rich stress free guess zoey 101 101 nick attempt try portray teen realistically catch glimpse reality like decide kid live like ass hills hey set pretty"
        ],
        [
         "43",
         "I thrive on cinema....but there is a limit. A NAME isn't enough to make A MOVIE!. The beginning of the movie puts us in a mood to expect the unseen yet. But we remain hungry ( or angry..) till the end . Things are getting so confused that I admit that I DID NOT UNDERSTAND THE END or was there an end to this nonesense. The opportunity to make an outstanding movie was there but the target was totally missed. Next...",
         "0",
         "thrive cinema .... limit movie beginning movie put mood expect unseen remain hungry angry .. till end thing get confused admit understand end end nonesense opportunity outstanding movie target totally miss ..."
        ],
        [
         "44",
         "During the Clete Roberts preface, I was beginning to think this was an Ed Wood production, however, what rolls out here is some pretty hard hitting stuff. The story of crime and corruption in a Southern town is told using a cast culled from Hollywood's Poverty Row, and this makes the movie all the more realistic. There are no punches pulled here, and at times the film is reminiscent of \"The Well\"(1951). The Black and White texture gives a newsreel-like quality. For certain, younger viewers will be reminded of \"The Blair Witch Project\" but this one IS based on REAL events!",
         "1",
         "clete roberts preface begin think ed wood production roll pretty hard hit stuff story crime corruption southern town tell cast cull hollywood poverty row make movie realistic punch pull time film reminiscent well\"(1951 black white texture give newsreel like quality certain young viewer remind blair witch project base real event"
        ],
        [
         "45",
         "This film was basically set up for failure by the studio. One, Anne Rice (author of the book) offered to write the screen play but was refused by the studio. Two, they tried to stuff 2 in depth novels in to a 2hour movie.I maintain the only way for these two books -Vampire Lestat and Queen of the Damned- to work in a live action form would be through a mini-series. First off the the Vampire Lestat alone takes place from the 1700's to the 1980's and has a plethora of character vital to the plot understanding of the main character, Lestat. The entire book Vampire Lestat sets up the events of the second part Queen of the Damned. Without that full understanding the premise of a movie is destroyed.Lestat was not cruel and vicious to all, he was not wanting to go along with Akasha's plans, Marius did not make Lestat, Lestat did not love Jesse or make her, Lestat could not go remain unscathed by the light, Marius was not after David nor the other way around, every character was completely represented wrong, BASICALLY same names different story.If they wanted to make a vampire movie, fine. Even if you wanted to be inspired by these novels, fine. But don't piggie back into the theaters off the success of Rice's great novels and characters just to destroy what her loyal readers have come to love.If you haven't read the books you won't understand the film really, if you have read the books you will be insulted. That being said, I am such a huge fan I had to see the movie knowing full well this was going to be the case and still went for it. Catch 22, must see it, will hate it.",
         "0",
         "film basically set failure studio anne rice author book offer write screen play refuse studio try stuff 2 depth novel 2hour movie maintain way book -vampire lestat queen damned- work live action form mini series vampire lestat take place 1700 1980 plethora character vital plot understanding main character lestat entire book vampire lestat set event second queen damned understanding premise movie destroy lestat cruel vicious want akasha plan marius lestat lestat love jesse lestat remain unscathed light marius david way character completely represent wrong basically name different story want vampire movie fine want inspire novel fine piggie theater success rice great novel character destroy loyal reader come love read book will understand film read book insult say huge fan movie know go case go catch 22 hate"
        ],
        [
         "46",
         "This is a bad film, as its central message is very muddled and the plot seems like it was the result of merging several disparate scripts. As a result, it often makes absolutely no sense at all and certainly is not a film Miss Dunne or Mr. Huston should have been proud of making. However, the film IS worth watching if you are a fan of \"Pre-Code\" films because it features an amazingly sleazy plot that strongly says that nice girls DO put out--even if they aren't married and even if their partner IS!! The film begins with Miss Dunne as a social worker assisting troops heading to Europe for WWI. In the process, she meets a scalawag (Bruce Cabot) who eventually convinces her to sleep with him. She becomes pregnant and he then goes on to the next unsuspecting woman. However, Miss Dunne does NOT want him back, as she realizes he's not worth it, but later her baby dies at child birth. While all these very controversial plot elements are used, they are always alluded to--almost like they wanted the adults in the audience to know but hoped that if they phrase it or film it in just the right way, kids in the audience will be clueless (after all, films were not rated and kids might attend any film at this time).Surprisingly, this entire plot involving a stillborn baby and Cabot ends about 1/4 of the way through the film and is never mentioned again or alluded to. It was as if they filmed part of a movie and abandoned it--tacking it on to still another film. In this second phase of the film, Miss Dunne unexpectedly begins working at a women's prison (though we actually never really get to see her doing anything there). What we do see are countless horrible scenes of severe abuse and torture that were probably designed to titillate. And, as a result of all this violence, Miss Dunne goes on a crusade to clean up the prison and becomes a reformer and famous writer.But then, out of the blue, another type of film emerges and the women's prison reform business goes by the wayside. Dunne meets a judge (Walter Huston) who is married but he desperately wants her. Now throughout the film, Dunne is portrayed as a very good girl--even though she did have unmarried sex with Cabot (she was more or less tricked into it). But now, single Irene, who is a tireless reformer and good lady begins sleeping with a married man. He tells her that he and his wife are estranged and are married in name only, but she never thinks to investigate if this is true, and with his assurance, off flies her clothes and they are in the baby making business! BUT, while she's pregnant with his love child, he's indicted for being a crooked judge. He assures her he's innocent, but he's convicted and it sure sounds like he's a scoundrel--using inside information from people that have come before his bench in order to amass a fortune. Then, in the final moments of the film, Miss Dunne tries in vain to get him freed and vows to wait with the child until Huston is released. The film then ends.So, we basically have three separate films AND a bizarre early 30s idea of what a nice girl should be like. I gathered that she should be a strong-minded working girl who instantly becomes an idiot in her personal relationships! This really undoes all the positives about Dunne's character and it's really hard to imagine anyone liking the film. A strong women's rights advocate might easily be offended at how weak-minded and needy she was and religious people might see her as totally amoral or at least morally suspect! With a decent re-write, this could have been a good film or at least interesting as a lewd and salacious film, but it couldn't make up its mind WHAT it wanted to be and was just another dull Pre-Code film.",
         "0",
         "bad film central message muddled plot like result merge disparate script result make absolutely sense certainly film miss dunne mr. huston proud make film worth watch fan pre code film feature amazingly sleazy plot strongly say nice girl -- married partner film begin miss dunne social worker assist troop head europe wwi process meet scalawag bruce cabot eventually convince sleep pregnant go unsuspecting woman miss dunne want realize worth later baby die child birth controversial plot element allude -- like want adult audience know hope phrase film right way kid audience clueless film rate kid attend film time).surprisingly entire plot involve stillborn baby cabot end 1/4 way film mention allude film movie abandon -- tack film second phase film miss dunne unexpectedly begin work woman prison actually countless horrible scene severe abuse torture probably design titillate result violence miss dunne go crusade clean prison reformer famous writer blue type film emerge woman prison reform business go wayside dunne meet judge walter huston marry desperately want film dunne portray good girl -- unmarried sex cabot trick single irene tireless reformer good lady begin sleep married man tell wife estranged marry think investigate true assurance fly clothe baby make business pregnant love child indict crooked judge assure innocent convict sure sound like scoundrel -- inside information people come bench order amass fortune final moment film miss dunne try vain free vow wait child huston release film end basically separate film bizarre early 30 idea nice girl like gather strong minded work girl instantly idiot personal relationship undo positive dunne character hard imagine like film strong woman right advocate easily offend weak minded needy religious people totally amoral morally suspect decent write good film interesting lewd salacious film mind want dull pre code film"
        ],
        [
         "47",
         "(Very mild spoilers; a basic plot outline, no real details) IF you go into this movie with sufficiently low expectations. I saw this film at a free screening a few days ago in Maryland, and the only reason I agreed to go...was because it was free. I expected a few chuckles, but as I have never been a huge fan of Tenacious D, not much more then that.The first ten minutes of the film are hilarious, as we are given a look at Jack Black's humble Christian origins in a Midwest American town. The film then takes us years into the future, to the first meeting between JB and Kyle Gass, the second half of Tenacious D. We see the formation of the band and the genesis of its name. Finally, as the title suggests, the second half of the film details their quest to obtain the fabled \"Pick of Destiny.\" Again, the beginning of the film was laugh out loud funny, and most of the movie at least kept a smile on my face. That said, there were times it felt a bit long; it's only 100 minutes, but it still felt like it should have been a bit shorter. The story is every bit as absurd as it sounds, and this is not a film you see if you want a real plot. Which is fine, except it means that many of the jokes are very hit or miss...and when they miss, they miss bad. Same thing with the songs; it is a musical, but many of the songs lost their appeal after the first minute or so...then kept going anyway.I will say that the R-rating really saved this movie from bombing; The D's humor simply couldn't work without cussing, sex, and drug references. But unless you're a real fan of the band, or at the very least know you appreciate their style of comedy, I would recommend you save yourself some money and rent. \"Pick\" will make you giggle a bit...but is it worth 9 bucks? I don't think so. I was tempted to rate it a 6, but since I do think that many would enjoy it enough to justify seeing it in theatres, a 7 seems more appropriate. Just be sure it's your style.",
         "1",
         "mild spoiler basic plot outline real detail movie sufficiently low expectation see film free screening day ago maryland reason agree ... free expect chuckle huge fan tenacious d minute film hilarious give look jack black humble christian origin midwest american town film take year future meeting jb kyle gass second half tenacious d. formation band genesis finally title suggest second half film detail quest obtain fabled pick destiny beginning film laugh loud funny movie keep smile face say time feel bit long 100 minute feel like bit short story bit absurd sound film want real plot fine mean joke hit miss ... miss miss bad thing song musical song lose appeal minute ... keep go r rating save movie bombing d humor simply work cuss sex drug reference real fan band know appreciate style comedy recommend save money rent pick giggle bit ... worth 9 buck think tempt rate 6 think enjoy justify see theatre 7 appropriate sure style"
        ],
        [
         "48",
         "One word can describe this movie and that is weird. I recorded this movie one day because it was a Japanese animation and it was old so I thought it would be interesting. Well it was, the movie is about a young boy who travels the universe to get a metal body so he can seek revenge. On the way he meets very colorful characters and must ultimately decide if he wants the body or not. Very strange, if you are a fan of animation/science-fiction you might want to check this out.",
         "1",
         "word describe movie weird record movie day japanese animation old think interesting movie young boy travel universe metal body seek revenge way meet colorful character ultimately decide want body strange fan animation science fiction want check"
        ],
        [
         "49",
         "I know that you've already entered this in film festivals (or at least I think you have, I may just be making that up) but I think this should get \"best animated short film\" in every one. Bravo. I can't wait for the full film. I realize that you may not hear this often enough because of the bizarre nature of your animations, but hear it now and accept it as the truth. Kudos, my friend. Okay, now I'm just trying to get ten lines of text... Though I still mean it. And here comes yet another -SHOE!- and I cannot stop here yet. This is extremely annoying and yet at the same time I have nothing better to do. In fact, I'll probably watch all of your movies in yet another spasmodic \"Jason Steele Marathon.\" I do have a lot of those.-R",
         "1",
         "know enter film festival think make think well animate short film bravo wait film realize hear bizarre nature animation hear accept truth kudos friend okay try line text ... mean come -shoe!- stop extremely annoying time well fact probably watch movie spasmodic jason steele marathon lot those.-r"
        ]
       ],
       "shape": {
        "columns": 3,
        "rows": 51036
       }
      },
      "text/html": [
       "<div>\n",
       "<style scoped>\n",
       "    .dataframe tbody tr th:only-of-type {\n",
       "        vertical-align: middle;\n",
       "    }\n",
       "\n",
       "    .dataframe tbody tr th {\n",
       "        vertical-align: top;\n",
       "    }\n",
       "\n",
       "    .dataframe thead th {\n",
       "        text-align: right;\n",
       "    }\n",
       "</style>\n",
       "<table border=\"1\" class=\"dataframe\">\n",
       "  <thead>\n",
       "    <tr style=\"text-align: right;\">\n",
       "      <th></th>\n",
       "      <th>text</th>\n",
       "      <th>label</th>\n",
       "      <th>preprocess_text</th>\n",
       "    </tr>\n",
       "  </thead>\n",
       "  <tbody>\n",
       "    <tr>\n",
       "      <th>0</th>\n",
       "      <td>One of the other reviewers has mentioned that ...</td>\n",
       "      <td>1</td>\n",
       "      <td>reviewer mention watch 1 oz episode hook right...</td>\n",
       "    </tr>\n",
       "    <tr>\n",
       "      <th>1</th>\n",
       "      <td>I sure would like to see a resurrection of a u...</td>\n",
       "      <td>1</td>\n",
       "      <td>sure like resurrection date seahunt series tec...</td>\n",
       "    </tr>\n",
       "    <tr>\n",
       "      <th>2</th>\n",
       "      <td>I saw this movie when I was about 12 when it c...</td>\n",
       "      <td>0</td>\n",
       "      <td>see movie 12 come recall scary scene big bird ...</td>\n",
       "    </tr>\n",
       "    <tr>\n",
       "      <th>3</th>\n",
       "      <td>This a fantastic movie of three prisoners who ...</td>\n",
       "      <td>1</td>\n",
       "      <td>fantastic movie prisoner famous actor george c...</td>\n",
       "    </tr>\n",
       "    <tr>\n",
       "      <th>4</th>\n",
       "      <td>\"Ardh Satya\" is one of the finest film ever ma...</td>\n",
       "      <td>1</td>\n",
       "      <td>ardh satya fine film indian cinema direct grea...</td>\n",
       "    </tr>\n",
       "    <tr>\n",
       "      <th>...</th>\n",
       "      <td>...</td>\n",
       "      <td>...</td>\n",
       "      <td>...</td>\n",
       "    </tr>\n",
       "    <tr>\n",
       "      <th>51031</th>\n",
       "      <td>A man came to the house to estimate. He gave m...</td>\n",
       "      <td>0</td>\n",
       "      <td>man come house estimate give card person say r...</td>\n",
       "    </tr>\n",
       "    <tr>\n",
       "      <th>51032</th>\n",
       "      <td>When Corey sent the email about tickets being ...</td>\n",
       "      <td>1</td>\n",
       "      <td>corey send email ticket available jump opportu...</td>\n",
       "    </tr>\n",
       "    <tr>\n",
       "      <th>51033</th>\n",
       "      <td>I'm shocked everyone time I go to a Bouchon Ba...</td>\n",
       "      <td>0</td>\n",
       "      <td>shocked time bouchon bakery outside yountville...</td>\n",
       "    </tr>\n",
       "    <tr>\n",
       "      <th>51034</th>\n",
       "      <td>Looks like all of the good reviews have gone t...</td>\n",
       "      <td>0</td>\n",
       "      <td>look like good review go head place   jason ry...</td>\n",
       "    </tr>\n",
       "    <tr>\n",
       "      <th>51035</th>\n",
       "      <td>Ryan Rocks! I called him this morning for some...</td>\n",
       "      <td>1</td>\n",
       "      <td>ryan rocks call morning sprinkler help potenti...</td>\n",
       "    </tr>\n",
       "  </tbody>\n",
       "</table>\n",
       "<p>51036 rows × 3 columns</p>\n",
       "</div>"
      ],
      "text/plain": [
       "                                                    text  label  \\\n",
       "0      One of the other reviewers has mentioned that ...      1   \n",
       "1      I sure would like to see a resurrection of a u...      1   \n",
       "2      I saw this movie when I was about 12 when it c...      0   \n",
       "3      This a fantastic movie of three prisoners who ...      1   \n",
       "4      \"Ardh Satya\" is one of the finest film ever ma...      1   \n",
       "...                                                  ...    ...   \n",
       "51031  A man came to the house to estimate. He gave m...      0   \n",
       "51032  When Corey sent the email about tickets being ...      1   \n",
       "51033  I'm shocked everyone time I go to a Bouchon Ba...      0   \n",
       "51034  Looks like all of the good reviews have gone t...      0   \n",
       "51035  Ryan Rocks! I called him this morning for some...      1   \n",
       "\n",
       "                                         preprocess_text  \n",
       "0      reviewer mention watch 1 oz episode hook right...  \n",
       "1      sure like resurrection date seahunt series tec...  \n",
       "2      see movie 12 come recall scary scene big bird ...  \n",
       "3      fantastic movie prisoner famous actor george c...  \n",
       "4      ardh satya fine film indian cinema direct grea...  \n",
       "...                                                  ...  \n",
       "51031  man come house estimate give card person say r...  \n",
       "51032  corey send email ticket available jump opportu...  \n",
       "51033  shocked time bouchon bakery outside yountville...  \n",
       "51034  look like good review go head place   jason ry...  \n",
       "51035  ryan rocks call morning sprinkler help potenti...  \n",
       "\n",
       "[51036 rows x 3 columns]"
      ]
     },
     "execution_count": 2,
     "metadata": {},
     "output_type": "execute_result"
    }
   ],
   "source": [
    "df = pd.read_csv(\"./low_confidence_samples/big_data.csv\")\n",
    "df"
   ]
  },
  {
   "cell_type": "code",
   "execution_count": 16,
   "id": "e7c1a82d",
   "metadata": {},
   "outputs": [
    {
     "data": {
      "text/plain": [
       "label\n",
       "1    25679\n",
       "0    25410\n",
       "Name: count, dtype: int64"
      ]
     },
     "execution_count": 16,
     "metadata": {},
     "output_type": "execute_result"
    }
   ],
   "source": [
    "df['label'].unique()\n",
    "df['label'].value_counts()"
   ]
  },
  {
   "cell_type": "code",
   "execution_count": 17,
   "id": "2411eb17",
   "metadata": {},
   "outputs": [],
   "source": [
    "df_train, df_test = train_test_split(df, test_size=0.3, shuffle=True)\n",
    "\n",
    "# Ensure text data is a list of strings and drop missing values\n",
    "df_train['text'] = df_train['preprocess_text'].astype(str)\n",
    "df_test['text'] = df_test['preprocess_text'].astype(str)\n",
    "\n",
    "# Ensure text is lowercase\n",
    "df_train['text'] = df_train['text'].str.lower()\n",
    "df_test['text'] = df_test['text'].str.lower()\n",
    "\n",
    "df_train['label'] = df_train['label'].astype(int)\n",
    "df_test['label'] = df_test['label'].astype(int)"
   ]
  },
  {
   "cell_type": "code",
   "execution_count": 18,
   "id": "e999af19",
   "metadata": {},
   "outputs": [
    {
     "data": {
      "application/vnd.microsoft.datawrangler.viewer.v0+json": {
       "columns": [
        {
         "name": "index",
         "rawType": "int64",
         "type": "integer"
        },
        {
         "name": "text",
         "rawType": "object",
         "type": "string"
        },
        {
         "name": "label",
         "rawType": "int64",
         "type": "integer"
        },
        {
         "name": "preprocess_text",
         "rawType": "object",
         "type": "string"
        }
       ],
       "conversionMethod": "pd.DataFrame",
       "ref": "c9651d36-9544-4d41-b3a8-3f5f7f604e9e",
       "rows": [
        [
         "40326",
         "place yummy taste burger try spot town 5 guy fatburger johnny rocket etc good burger long time ... create burger pickle lettuce mustard mayo pepper jack cheese fried egg delicious fry bad ... bf get 18 :) bad .... definitely go",
         "1",
         "place yummy taste burger try spot town 5 guy fatburger johnny rocket etc good burger long time ... create burger pickle lettuce mustard mayo pepper jack cheese fried egg delicious fry bad ... bf get 18 :) bad .... definitely go"
        ],
        [
         "49451",
         "good caf\\u00e9 neighborhood know way far definitely good caf\\u00e9 tasted.\\n\\nlike say hit spot right perfect vector baked good know overpower let taste eating.\\n\\nvery beautiful place feel like step designer shop room like house ikea ad spread popular place seat available outdoor benches.\\n\\nservice bad bit disorganized use paper pen track order underwhelming amateurish .. look improve know tablet spreadsheet simply nitpicking detract great cup caffeine beverage get get cappuccino enjoy greatly list smoothie sound interesting intriguing choose ingredient",
         "1",
         "good caf\\u00e9 neighborhood know way far definitely good caf\\u00e9 tasted.\\n\\nlike say hit spot right perfect vector baked good know overpower let taste eating.\\n\\nvery beautiful place feel like step designer shop room like house ikea ad spread popular place seat available outdoor benches.\\n\\nservice bad bit disorganized use paper pen track order underwhelming amateurish .. look improve know tablet spreadsheet simply nitpicking detract great cup caffeine beverage get get cappuccino enjoy greatly list smoothie sound interesting intriguing choose ingredient"
        ],
        [
         "38042",
         "love place small big price serving reduce   daily special go taco tuesday cost taco",
         "0",
         "love place small big price serving reduce   daily special go taco tuesday cost taco"
        ],
        [
         "28778",
         "read fellow yelper seth y review immediately ok see fear miss good cirque show vegas point 100 time entertaining bit   ear muff kid recreation drug use ok good::\\n\\ncoincidentally sober see think fuck amazing beatles music surround sound fantastic acrobatic light add overall enjoyment hell wait",
         "1",
         "read fellow yelper seth y review immediately ok see fear miss good cirque show vegas point 100 time entertaining bit   ear muff kid recreation drug use ok good::\\n\\ncoincidentally sober see think fuck amazing beatles music surround sound fantastic acrobatic light add overall enjoyment hell wait"
        ],
        [
         "29574",
         "way sub 5 buck   choice kind meat topping plus killer shake   need quick fix want sneek food movie stop disappoint   turkey pastrimi buffalo chicken gyro meat die   grab sharpe write bag check thing want sub ..   simple ...   hard pick want",
         "1",
         "way sub 5 buck   choice kind meat topping plus killer shake   need quick fix want sneek food movie stop disappoint   turkey pastrimi buffalo chicken gyro meat die   grab sharpe write bag check thing want sub ..   simple ...   hard pick want"
        ],
        [
         "7369",
         "  resistance futile need prettie knit",
         "0",
         "  resistance futile need prettie knit"
        ],
        [
         "14625",
         "gym good representation gold gym brand.\\n\\n bathroom filthy toilet order drinking fountain order week owner absent imagine broken machine daily occurrence \\n\\nthe staff like want time find option true",
         "0",
         "gym good representation gold gym brand.\\n\\n bathroom filthy toilet order drinking fountain order week owner absent imagine broken machine daily occurrence \\n\\nthe staff like want time find option true"
        ],
        [
         "41500",
         "burger good crazy price talk 15 burger want cheese extra fry extra 8 milkshake seriously worth consider mosey buffet eat shrimp braise short rib plus place try way hard hip",
         "0",
         "burger good crazy price talk 15 burger want cheese extra fry extra 8 milkshake seriously worth consider mosey buffet eat shrimp braise short rib plus place try way hard hip"
        ],
        [
         "19714",
         "pizza quiet good garlic knot okay taste well pizza place craig rd   cannolis extremely good bit pricey home ranch dressing bomb omgosh garlic garlicky flavor ooooh good",
         "1",
         "pizza quiet good garlic knot okay taste well pizza place craig rd   cannolis extremely good bit pricey home ranch dressing bomb omgosh garlic garlicky flavor ooooh good"
        ],
        [
         "47640",
         "rarely conflicted place huxley.\\n\\nthe place nice feel light decorate ..... lot interesting furnishing notice long spend \\u00a315 bottle prosecco go win me.\\n\\ntheir food read interesting little \\\"fryer centric\\ sunday frioend mum go prosecco order heap small plate share.\\n\\nfish goujon dry seasoned\\npanko olive liiiiiiiike\\nwedge liiiiiiiike\\nbeef taco weirdly napkin stick food\\nmeat platter tasty\\nchicken wing raw yep raw chicken actually good professional kitchen ...... unforgivable yep m suffer consequences!\\n\\nsort huxley come",
         "0",
         "rarely conflicted place huxley.\\n\\nthe place nice feel light decorate ..... lot interesting furnishing notice long spend \\u00a315 bottle prosecco go win me.\\n\\ntheir food read interesting little \\\"fryer centric\\ sunday frioend mum go prosecco order heap small plate share.\\n\\nfish goujon dry seasoned\\npanko olive liiiiiiiike\\nwedge liiiiiiiike\\nbeef taco weirdly napkin stick food\\nmeat platter tasty\\nchicken wing raw yep raw chicken actually good professional kitchen ...... unforgivable yep m suffer consequences!\\n\\nsort huxley come"
        ],
        [
         "25288",
         "pros\\nportion size large\\nhad fish chip w coleslaw tomato basil soup\\nfrie fish good\\nfrie unseasone like\\nplace clean\\nnice waitresses\\n\\ncon \\nice tea strong\\ntb soup little heavy maybe milk?\\ncoleslaw way creamy yuck",
         "1",
         "pros\\nportion size large\\nhad fish chip w coleslaw tomato basil soup\\nfrie fish good\\nfrie unseasone like\\nplace clean\\nnice waitresses\\n\\ncon \\nice tea strong\\ntb soup little heavy maybe milk?\\ncoleslaw way creamy yuck"
        ],
        [
         "16540",
         "good   want biscuit gravy half order   menu come meat egg   point ... lot food way.\\n\\ni've finish machca egg ... ever.\\n\\nbeside go give opportunity old town square chandler   phx tempe mesa matter note ... handler old downtown area",
         "1",
         "good   want biscuit gravy half order   menu come meat egg   point ... lot food way.\\n\\ni've finish machca egg ... ever.\\n\\nbeside go give opportunity old town square chandler   phx tempe mesa matter note ... handler old downtown area"
        ],
        [
         "7809",
         "get white chocolate mocha yesterday happy hour pretty busy expect special know barista drink freaking wizard swear good white chocolate mocha taste usually starbucks kind \\\"okay\\ plus butt ton sugar make good drink taste like heaven.\\n\\nthe thing like bathroom nightmare know see mud az mud floor maybe poop idk care kind stuff business respectful customer",
         "1",
         "get white chocolate mocha yesterday happy hour pretty busy expect special know barista drink freaking wizard swear good white chocolate mocha taste usually starbucks kind \\\"okay\\ plus butt ton sugar make good drink taste like heaven.\\n\\nthe thing like bathroom nightmare know see mud az mud floor maybe poop idk care kind stuff business respectful customer"
        ],
        [
         "8295",
         "great 30 30 find locale.\\n\\nby way 30 madison option   yes leave find large fabulous city.\\n\\nmy recommendation invisible",
         "0",
         "great 30 30 find locale.\\n\\nby way 30 madison option   yes leave find large fabulous city.\\n\\nmy recommendation invisible"
        ],
        [
         "28655",
         "server unfriendly unwelcoming feel like apologize there.\\n\\nthe food sweet ... soup spring roll garden delight ... sweet spicy!\\n\\noverprice quality food service \\n\\ni highly recommend thai rama camelback want good thai food friendly service",
         "0",
         "server unfriendly unwelcoming feel like apologize there.\\n\\nthe food sweet ... soup spring roll garden delight ... sweet spicy!\\n\\noverprice quality food service \\n\\ni highly recommend thai rama camelback want good thai food friendly service"
        ],
        [
         "20506",
         "stay time go vegas minute find room cheap travel search upgrade check reasonable cost get access private lounge free food alcohol plus room hotel huge get lose look elevator couple time speak elevator wait crazy long big clean room nicely decorate comfortable bed downside strip tram have maintenance",
         "1",
         "stay time go vegas minute find room cheap travel search upgrade check reasonable cost get access private lounge free food alcohol plus room hotel huge get lose look elevator couple time speak elevator wait crazy long big clean room nicely decorate comfortable bed downside strip tram have maintenance"
        ],
        [
         "2254",
         "kon ichikawa live world war see effect people japan novelist shohei ooka book inspiration ichikawa film fire plain film man war universally war general lose humanity soldier trudge field jungle philippenes story completely hope make stone platoon look like picnic certain thing like food all.<br /><br />they little reserve supply ammunition sense go way combat thrust proper hospital care long walk lose limb example tb way prism soldier private tamura sense futility war bleak scene nothingness boredom decay flash intense brutal violence.<br /><br />in film tamura want medical care right start tell superior officer- eye stare expression drain year battle- die find hospital end soldier platoon sort act lead power hungry brute want tamura stash salt later stray soldier group previously ambush cross road night.<br /><br />the story entirely straight line need tamura path fire plain tell vignette little story like come seemingly deserted enemy village populous come supply tamura sneak excruciating scene far tamura see outright wrong scene evil fear desperation spoil get stash salt little scene build brilliantly devastation like simple task find pair walkable shoe tamura later film discover tooth tear apart fall lack total hygiene food goes.<br /><br />it mention hauntingly realize film ichikawa shoot stark black white view field wood cinematography fill black black white hot white ichikawa make sure authentic actor simply emotionally emaciated look look desperation right ichikawa survive film character survive wild wild way mean cannibalism shock fold way soldier say half jokingly early eat soldier tamaura ask true response get ask word caution second depiction cannibalism crazy starve man hill pull gut lap say straight face hero eat die br /><br />this make thing especially brutal come director film brief action scene argue brutal private ryan depiction violence battle carnage completely random scene point contain shot excruciating watch high angle group soldier walk slowly hail gunfire come kill happen fast soldier walk crawl shot horrible carnage show need bloody splash screen like completely macabre drive point completely.<br /><br />all acting staggering funakoshi especially look peace horrified see subtle look time major set piece provide gruesome experience amount ultimate question anti war film people fight war like depressing word ichikawa push nose right muck filth blood demand maybe day happen hope end bleak great film",
         "1",
         "kon ichikawa live world war see effect people japan novelist shohei ooka book inspiration ichikawa film fire plain film man war universally war general lose humanity soldier trudge field jungle philippenes story completely hope make stone platoon look like picnic certain thing like food all.<br /><br />they little reserve supply ammunition sense go way combat thrust proper hospital care long walk lose limb example tb way prism soldier private tamura sense futility war bleak scene nothingness boredom decay flash intense brutal violence.<br /><br />in film tamura want medical care right start tell superior officer- eye stare expression drain year battle- die find hospital end soldier platoon sort act lead power hungry brute want tamura stash salt later stray soldier group previously ambush cross road night.<br /><br />the story entirely straight line need tamura path fire plain tell vignette little story like come seemingly deserted enemy village populous come supply tamura sneak excruciating scene far tamura see outright wrong scene evil fear desperation spoil get stash salt little scene build brilliantly devastation like simple task find pair walkable shoe tamura later film discover tooth tear apart fall lack total hygiene food goes.<br /><br />it mention hauntingly realize film ichikawa shoot stark black white view field wood cinematography fill black black white hot white ichikawa make sure authentic actor simply emotionally emaciated look look desperation right ichikawa survive film character survive wild wild way mean cannibalism shock fold way soldier say half jokingly early eat soldier tamaura ask true response get ask word caution second depiction cannibalism crazy starve man hill pull gut lap say straight face hero eat die br /><br />this make thing especially brutal come director film brief action scene argue brutal private ryan depiction violence battle carnage completely random scene point contain shot excruciating watch high angle group soldier walk slowly hail gunfire come kill happen fast soldier walk crawl shot horrible carnage show need bloody splash screen like completely macabre drive point completely.<br /><br />all acting staggering funakoshi especially look peace horrified see subtle look time major set piece provide gruesome experience amount ultimate question anti war film people fight war like depressing word ichikawa push nose right muck filth blood demand maybe day happen hope end bleak great film"
        ],
        [
         "3403",
         "cat soup random animate film good way able explain acidic totally random story nyatta young cat boy sister nyaako nyaako ill die nyatta see soul take away death able retrieve half story quest bring nyaako fully life.<br /><br />though lot content movie completely random symbolism life death rebirth reference tale hansel gretal strangely cute short film interesting story pack deep meaning surface screen",
         "1",
         "cat soup random animate film good way able explain acidic totally random story nyatta young cat boy sister nyaako nyaako ill die nyatta see soul take away death able retrieve half story quest bring nyaako fully life.<br /><br />though lot content movie completely random symbolism life death rebirth reference tale hansel gretal strangely cute short film interesting story pack deep meaning surface screen"
        ],
        [
         "14972",
         "price high food great afford",
         "0",
         "price high food great afford"
        ],
        [
         "14509",
         "charge 110 tell gas cap screw tightly furious husband tell obviously manager tell fine proceed flip husband drive nice customer service \\n\\njust record go year prior service new brake spend 400 team completely different great customer service go place \\n\\ndon't",
         "0",
         "charge 110 tell gas cap screw tightly furious husband tell obviously manager tell fine proceed flip husband drive nice customer service \\n\\njust record go year prior service new brake spend 400 team completely different great customer service go place \\n\\ndon't"
        ],
        [
         "16133",
         "fry bread green chili good sure try fry bread worth",
         "1",
         "fry bread green chili good sure try fry bread worth"
        ],
        [
         "47615",
         "positive experience adopt dog check website ahead time bring current dog go potential pick let walk pick dog bring outside interact choose dog impartial ask policy work reassure switch dog settle potty train mannered dog",
         "1",
         "positive experience adopt dog check website ahead time bring current dog go potential pick let walk pick dog bring outside interact choose dog impartial ask policy work reassure switch dog settle potty train mannered dog"
        ],
        [
         "44319",
         "good pizza las vegas overall good restaurant state nevada food fresh chef unpredictable new recipe get luck draw try gio darren artist welcome faithful customer return slice rare taste think exist east coast like apart family new york live 14 year old school pizzeria close feel home",
         "1",
         "good pizza las vegas overall good restaurant state nevada food fresh chef unpredictable new recipe get luck draw try gio darren artist welcome faithful customer return slice rare taste think exist east coast like apart family new york live 14 year old school pizzeria close feel home"
        ],
        [
         "554",
         "like poster mention ch 56 local boston tv station show multiple time year saturday afternoon pair sequel return ginat majin\".<br /><br />now see ... leave aside atrocious dubbing fade color pretty good fantasy technically horror ... statue come life end village rule evil man giant stone statue villager pray help ... avail thing far statute come life destroy bad guy ... start go good guy cool special effect end love get rid main bad guy enchanted forest work kind interesting too.<br /><br />no masterpiece unusual combo fantasy horror film worth catch -- dub print",
         "1",
         "like poster mention ch 56 local boston tv station show multiple time year saturday afternoon pair sequel return ginat majin\".<br /><br />now see ... leave aside atrocious dubbing fade color pretty good fantasy technically horror ... statue come life end village rule evil man giant stone statue villager pray help ... avail thing far statute come life destroy bad guy ... start go good guy cool special effect end love get rid main bad guy enchanted forest work kind interesting too.<br /><br />no masterpiece unusual combo fantasy horror film worth catch -- dub print"
        ],
        [
         "19985",
         "say place ... quick update wine cellar construction ... current wine list fraction ... list see online available cellar finished.\\n\\nalso order specific menu ... trust waiter waitress let order   wrong",
         "1",
         "say place ... quick update wine cellar construction ... current wine list fraction ... list see online available cellar finished.\\n\\nalso order specific menu ... trust waiter waitress let order   wrong"
        ],
        [
         "49313",
         "5:30pm saturday large space bustle activity fill quickly buffet isle light tray steam hot food glistening colorful sushi area clean \\n\\nwe start sushi surprisingly good piece small fishiness -- score giddiness increase spot steam half crab bad ammonia taste later google \\\"what eat ammonia crab.\\ good laugh response come green bean favorite hot dish fresh stir fry garlic pickled radish mac cheese comfort unfortunately dining companion die hard general tso chicken fan eat gtc condition enjoy general tso chicken salad bar virtually untouched tray fill limp spinach leave brown iceberg variety fresh fruit selection dessert jello soft serve find necessary staple epic suburban asian buffet   \\n\\nif like volume variety place lot effort keep price low example fried scallop scallop sort imitation meat know seafood eat sea probably good combination think shrimp real \\n\\ntl;dr good thing place sushi good come",
         "0",
         "5:30pm saturday large space bustle activity fill quickly buffet isle light tray steam hot food glistening colorful sushi area clean \\n\\nwe start sushi surprisingly good piece small fishiness -- score giddiness increase spot steam half crab bad ammonia taste later google \\\"what eat ammonia crab.\\ good laugh response come green bean favorite hot dish fresh stir fry garlic pickled radish mac cheese comfort unfortunately dining companion die hard general tso chicken fan eat gtc condition enjoy general tso chicken salad bar virtually untouched tray fill limp spinach leave brown iceberg variety fresh fruit selection dessert jello soft serve find necessary staple epic suburban asian buffet   \\n\\nif like volume variety place lot effort keep price low example fried scallop scallop sort imitation meat know seafood eat sea probably good combination think shrimp real \\n\\ntl;dr good thing place sushi good come"
        ],
        [
         "19085",
         "yelper crew peep laugh tell go yelp place know come experience friday night amazed find review write read review true service friendly slow food deep fry bar food dessert get brownie sundae cheat day lol brownie freezer burn charge lol \\n\\nwhen karaoke karaoke bar ... wait ... karaoke duh slow service junk food tolerable expect karaoke suppose way patron come regular basis create following review expect calico jacks successful easy change \\nfirst let setup pimp separate room designate permanent karaoke facility stage dance floor dj area setup require reason nightly event 3 night week start time ... get suggestion \\n\\n1 start karaoke time friday one promptly 9 pm karaoke start 10 1 sing twice second time count duet submit handful people regular maybe go multiple time sense punish comer make wait hour start \\n\\n2 tip get fast pass know time give guy 5 wait hour review think secret brotherhood bribe simply misunderstanding shame make money hawaii standard pay dj song sing let know ahead time \\n\\n3 play favorite well way piss karaoke goer pick favorite sing time business private party friend 9 pm 1 sing song submit sing time count 40 50 people place \\n\\n4 skip dance party 10 minute hour guy dance party karaoke hold totally confused table 10 people come sing wait watch drunk f dance party karaoke dj need break stay dj booth dj e dance party suggestion choose dance song karaoke signer submit dance portion \\n\\nall say calico jack chance regular party 10 come friday spend 500 pt change karaoke schedule need find new place land friday night afraid thing change will partake karaoke calico jack",
         "0",
         "yelper crew peep laugh tell go yelp place know come experience friday night amazed find review write read review true service friendly slow food deep fry bar food dessert get brownie sundae cheat day lol brownie freezer burn charge lol \\n\\nwhen karaoke karaoke bar ... wait ... karaoke duh slow service junk food tolerable expect karaoke suppose way patron come regular basis create following review expect calico jacks successful easy change \\nfirst let setup pimp separate room designate permanent karaoke facility stage dance floor dj area setup require reason nightly event 3 night week start time ... get suggestion \\n\\n1 start karaoke time friday one promptly 9 pm karaoke start 10 1 sing twice second time count duet submit handful people regular maybe go multiple time sense punish comer make wait hour start \\n\\n2 tip get fast pass know time give guy 5 wait hour review think secret brotherhood bribe simply misunderstanding shame make money hawaii standard pay dj song sing let know ahead time \\n\\n3 play favorite well way piss karaoke goer pick favorite sing time business private party friend 9 pm 1 sing song submit sing time count 40 50 people place \\n\\n4 skip dance party 10 minute hour guy dance party karaoke hold totally confused table 10 people come sing wait watch drunk f dance party karaoke dj need break stay dj booth dj e dance party suggestion choose dance song karaoke signer submit dance portion \\n\\nall say calico jack chance regular party 10 come friday spend 500 pt change karaoke schedule need find new place land friday night afraid thing change will partake karaoke calico jack"
        ],
        [
         "44328",
         "amazing coffee serve miserable people",
         "0",
         "amazing coffee serve miserable people"
        ],
        [
         "40947",
         "vegas short time   go late breakfast friend hit place   hear red velvet pancake order   ok far good pancake   come cream cheese syrup   amazing order short stack bacon   bacon wonderfully smoke bacon   taste like smoke like good brisket   good   bit wait restaurant kind small worth wait   waitress cashier delightful attentive   try biscuit gravy",
         "1",
         "vegas short time   go late breakfast friend hit place   hear red velvet pancake order   ok far good pancake   come cream cheese syrup   amazing order short stack bacon   bacon wonderfully smoke bacon   taste like smoke like good brisket   good   bit wait restaurant kind small worth wait   waitress cashier delightful attentive   try biscuit gravy"
        ],
        [
         "48727",
         "food great \\n\\nnice little clean place.\\nthe menu lack description able ask waiter sound interesting \\n\\ni",
         "1",
         "food great \\n\\nnice little clean place.\\nthe menu lack description able ask waiter sound interesting \\n\\ni"
        ],
        [
         "44839",
         "twice love time order office agree delicious true ny pizza garlic knot die sure kind expectation people pizza terrible par place valley definitely well one east valley",
         "1",
         "twice love time order office agree delicious true ny pizza garlic knot die sure kind expectation people pizza terrible par place valley definitely well one east valley"
        ],
        [
         "24505",
         "ghettoish mall store store nice food court ghettoish ......",
         "0",
         "ghettoish mall store store nice food court ghettoish ......"
        ],
        [
         "37073",
         "wonderful place hard describe word have awful experience office west valley women care accept care open arm take care get record previous place deal aggravation.\\n\\ndure pregnancy daughter environment west vally woman care provide helpful comforting doctor amazing time know patient feel completely comfortable duration pregnancy continue answer question have.\\n\\ni continue recommend office place wonderful",
         "1",
         "wonderful place hard describe word have awful experience office west valley women care accept care open arm take care get record previous place deal aggravation.\\n\\ndure pregnancy daughter environment west vally woman care provide helpful comforting doctor amazing time know patient feel completely comfortable duration pregnancy continue answer question have.\\n\\ni continue recommend office place wonderful"
        ],
        [
         "10428",
         "get lunch today   9.63 get soup salad vegetable tempura 6 avocado roll steamed rice pickle   ton food fill eat salad stuff   agree wasabi pretty weak add ton add spice flavor   bit pricy expect menu outdate say lunch 6.95   oops filling worth treat",
         "1",
         "get lunch today   9.63 get soup salad vegetable tempura 6 avocado roll steamed rice pickle   ton food fill eat salad stuff   agree wasabi pretty weak add ton add spice flavor   bit pricy expect menu outdate say lunch 6.95   oops filling worth treat"
        ],
        [
         "34309",
         "modern slightly cold love vegas .. miss character gimicky showy vegas exude room gorgeous open feel casino like pool well encore",
         "0",
         "modern slightly cold love vegas .. miss character gimicky showy vegas exude room gorgeous open feel casino like pool well encore"
        ],
        [
         "7759",
         "indian food.\\n\\nlunch buffet.\\n\\nrice pudding.\\n\\nnuff say",
         "1",
         "indian food.\\n\\nlunch buffet.\\n\\nrice pudding.\\n\\nnuff say"
        ],
        [
         "33605",
         "want well rating great topping service great cute little restaurant beer flight wine flight pizza dough ok   expect dough \\\"doughy\\ look crisp dough wood fire oven place   \\ni've search long hard pizza place egg pizza remind pizza italy   \\njust great topping work dough",
         "0",
         "want well rating great topping service great cute little restaurant beer flight wine flight pizza dough ok   expect dough \\\"doughy\\ look crisp dough wood fire oven place   \\ni've search long hard pizza place egg pizza remind pizza italy   \\njust great topping work dough"
        ],
        [
         "6870",
         "want perfect thatã¯â¿â½ hard cause know itã¯â¿â½s impossible ...",
         "0",
         "want perfect thatã¯â¿â½ hard cause know itã¯â¿â½s impossible ..."
        ],
        [
         "47018",
         "impression great 6 minute wait coffee second person .. \\n\\nto long coffee!!\\n\\ncool\\natmosphere staff maybe early stoic",
         "0",
         "impression great 6 minute wait coffee second person .. \\n\\nto long coffee!!\\n\\ncool\\natmosphere staff maybe early stoic"
        ],
        [
         "5041",
         "aware largo winch comic book graphic novel actually know admit hear agent hero movie expect different actually got.<br /><br />while startling watch nice watch tell twist foreseeable general end go stellar performance lead actor good support cast enjoyable watch action pack hope expect movie like good mixture",
         "1",
         "aware largo winch comic book graphic novel actually know admit hear agent hero movie expect different actually got.<br /><br />while startling watch nice watch tell twist foreseeable general end go stellar performance lead actor good support cast enjoyable watch action pack hope expect movie like good mixture"
        ],
        [
         "49543",
         "zero star ask ice puppy buy gazillion value drink tell pay \\namazing ... \\ni think 1 star starbuck get great service take stingy different level \\nno thank u.",
         "0",
         "zero star ask ice puppy buy gazillion value drink tell pay \\namazing ... \\ni think 1 star starbuck get great service take stingy different level \\nno thank u."
        ],
        [
         "41716",
         "vegas hit buffet usually 40 wristband unlimited buffet paris hotel decide branch \\\"buffet group\\ rio paris planet hollywood yelp brunch buffet wicked spoon high rating \\n\\nwe get 11:30 saturday wait 20 minute mean dog lunch rush service excellent get 10 unlimited mimosa deal kyle server attentive time glass kyle come mimosa \\n\\nthe price buffet 36 absolutely worth food come individual portion fresh food run low oh desert bar die \\n\\ni sure place get bad review meet expectation come definitely thank cosmopolitan kyle",
         "1",
         "vegas hit buffet usually 40 wristband unlimited buffet paris hotel decide branch \\\"buffet group\\ rio paris planet hollywood yelp brunch buffet wicked spoon high rating \\n\\nwe get 11:30 saturday wait 20 minute mean dog lunch rush service excellent get 10 unlimited mimosa deal kyle server attentive time glass kyle come mimosa \\n\\nthe price buffet 36 absolutely worth food come individual portion fresh food run low oh desert bar die \\n\\ni sure place get bad review meet expectation come definitely thank cosmopolitan kyle"
        ],
        [
         "5882",
         "hope not rain tonight tomorrow fam come visit swimming pool carne asada   rain pool go dirty",
         "1",
         "hope not rain tonight tomorrow fam come visit swimming pool carne asada   rain pool go dirty"
        ],
        [
         "8735",
         "feel like different   confused find thing hard maneuver disorganization long line run aisle   like location convenient lunch break   allow plenty line wait line ...",
         "0",
         "feel like different   confused find thing hard maneuver disorganization long line run aisle   like location convenient lunch break   allow plenty line wait line ..."
        ],
        [
         "12354",
         "store huge lot lot product   happy shop search sale item check   falsely advertise sale item   today go purchase \\\"camp kids\\ product sale 50   check claim paintable bobble head include   claim \\\"camp kids\\ product include   product choose sale rack sale sign   specifically sure read \\\"sale sign\\ correctly refuse honor     trust advertise   choose shop .... well check receipt",
         "0",
         "store huge lot lot product   happy shop search sale item check   falsely advertise sale item   today go purchase \\\"camp kids\\ product sale 50   check claim paintable bobble head include   claim \\\"camp kids\\ product include   product choose sale rack sale sign   specifically sure read \\\"sale sign\\ correctly refuse honor     trust advertise   choose shop .... well check receipt"
        ],
        [
         "5173",
         "watch episode series poor vhs tape record series glad though.<br /><br />ramona base child book beverly cleary follow adventure title year old sarah polley fun friend family get trouble like year old episode pretty good mystery meal kind gross vegan funny see parent try kid eat cow tongue episode mention godzilla versus smog monster twice bad like ramona bad day dishearten ramona go rough day imagine get revenge friend howie uncle pre psi factor barclay hope tease perfect day good.<br /><br />lori chodo play beezus ramona sister swear see imdb list unfortunately series dvd crappy day dvd actually like buy injustice",
         "1",
         "watch episode series poor vhs tape record series glad though.<br /><br />ramona base child book beverly cleary follow adventure title year old sarah polley fun friend family get trouble like year old episode pretty good mystery meal kind gross vegan funny see parent try kid eat cow tongue episode mention godzilla versus smog monster twice bad like ramona bad day dishearten ramona go rough day imagine get revenge friend howie uncle pre psi factor barclay hope tease perfect day good.<br /><br />lori chodo play beezus ramona sister swear see imdb list unfortunately series dvd crappy day dvd actually like buy injustice"
        ],
        [
         "20227",
         "coworker take newbie charlotte like place ... lunch buffet 9.99 pretty cheap sashimi selection bad ... aware buffet table near buffet table area ... lunch time service fast definitely",
         "1",
         "coworker take newbie charlotte like place ... lunch buffet 9.99 pretty cheap sashimi selection bad ... aware buffet table near buffet table area ... lunch time service fast definitely"
        ],
        [
         "6423",
         "  hahahahaha u look good ur picture",
         "1",
         "  hahahahaha u look good ur picture"
        ],
        [
         "33127",
         "wander round flat count print wall come red door gallery good return gallery shop small cosy regularly change attraction fit treat victoria street shop nearby stock sort stuff head time.\\n\\ni know particular policy source work maybe local artist definitely local feel round corner candlemaker row frame firm year suit fine day space occupy shop specialise polish poster art sad red door make loss",
         "1",
         "wander round flat count print wall come red door gallery good return gallery shop small cosy regularly change attraction fit treat victoria street shop nearby stock sort stuff head time.\\n\\ni know particular policy source work maybe local artist definitely local feel round corner candlemaker row frame firm year suit fine day space occupy shop specialise polish poster art sad red door make loss"
        ],
        [
         "30993",
         "twice week plan return sushi good value see present beautifully good reasonably price miso soup thick edamame boil perfection place relatively close work plan go lunch often.\\n\\nit busy time go happy quick seating service hope customer stay open owner incredibly nice throw free fruit plate dessert time go highly recommend place maybe",
         "1",
         "twice week plan return sushi good value see present beautifully good reasonably price miso soup thick edamame boil perfection place relatively close work plan go lunch often.\\n\\nit busy time go happy quick seating service hope customer stay open owner incredibly nice throw free fruit plate dessert time go highly recommend place maybe"
        ]
       ],
       "shape": {
        "columns": 3,
        "rows": 35762
       }
      },
      "text/html": [
       "<div>\n",
       "<style scoped>\n",
       "    .dataframe tbody tr th:only-of-type {\n",
       "        vertical-align: middle;\n",
       "    }\n",
       "\n",
       "    .dataframe tbody tr th {\n",
       "        vertical-align: top;\n",
       "    }\n",
       "\n",
       "    .dataframe thead th {\n",
       "        text-align: right;\n",
       "    }\n",
       "</style>\n",
       "<table border=\"1\" class=\"dataframe\">\n",
       "  <thead>\n",
       "    <tr style=\"text-align: right;\">\n",
       "      <th></th>\n",
       "      <th>text</th>\n",
       "      <th>label</th>\n",
       "      <th>preprocess_text</th>\n",
       "    </tr>\n",
       "  </thead>\n",
       "  <tbody>\n",
       "    <tr>\n",
       "      <th>40326</th>\n",
       "      <td>place yummy taste burger try spot town 5 guy f...</td>\n",
       "      <td>1</td>\n",
       "      <td>place yummy taste burger try spot town 5 guy f...</td>\n",
       "    </tr>\n",
       "    <tr>\n",
       "      <th>49451</th>\n",
       "      <td>good caf\\u00e9 neighborhood know way far defin...</td>\n",
       "      <td>1</td>\n",
       "      <td>good caf\\u00e9 neighborhood know way far defin...</td>\n",
       "    </tr>\n",
       "    <tr>\n",
       "      <th>38042</th>\n",
       "      <td>love place small big price serving reduce   da...</td>\n",
       "      <td>0</td>\n",
       "      <td>love place small big price serving reduce   da...</td>\n",
       "    </tr>\n",
       "    <tr>\n",
       "      <th>28778</th>\n",
       "      <td>read fellow yelper seth y review immediately o...</td>\n",
       "      <td>1</td>\n",
       "      <td>read fellow yelper seth y review immediately o...</td>\n",
       "    </tr>\n",
       "    <tr>\n",
       "      <th>29574</th>\n",
       "      <td>way sub 5 buck   choice kind meat topping plus...</td>\n",
       "      <td>1</td>\n",
       "      <td>way sub 5 buck   choice kind meat topping plus...</td>\n",
       "    </tr>\n",
       "    <tr>\n",
       "      <th>...</th>\n",
       "      <td>...</td>\n",
       "      <td>...</td>\n",
       "      <td>...</td>\n",
       "    </tr>\n",
       "    <tr>\n",
       "      <th>11284</th>\n",
       "      <td>go yelp review new car car wash want hand wash...</td>\n",
       "      <td>1</td>\n",
       "      <td>go yelp review new car car wash want hand wash...</td>\n",
       "    </tr>\n",
       "    <tr>\n",
       "      <th>44732</th>\n",
       "      <td>montreal long safely good dim sum montreal \\n\\...</td>\n",
       "      <td>1</td>\n",
       "      <td>montreal long safely good dim sum montreal \\n\\...</td>\n",
       "    </tr>\n",
       "    <tr>\n",
       "      <th>38158</th>\n",
       "      <td>\\\"i positive reviews\\ kind review \\n\\nthis hot...</td>\n",
       "      <td>0</td>\n",
       "      <td>\\\"i positive reviews\\ kind review \\n\\nthis hot...</td>\n",
       "    </tr>\n",
       "    <tr>\n",
       "      <th>860</th>\n",
       "      <td>die 2003 br /&gt;&lt;br /&gt;i'll admit mistake realize...</td>\n",
       "      <td>0</td>\n",
       "      <td>die 2003 br /&gt;&lt;br /&gt;i'll admit mistake realize...</td>\n",
       "    </tr>\n",
       "    <tr>\n",
       "      <th>15795</th>\n",
       "      <td>go month   see mary massage monthly basis love...</td>\n",
       "      <td>1</td>\n",
       "      <td>go month   see mary massage monthly basis love...</td>\n",
       "    </tr>\n",
       "  </tbody>\n",
       "</table>\n",
       "<p>35762 rows × 3 columns</p>\n",
       "</div>"
      ],
      "text/plain": [
       "                                                    text  label  \\\n",
       "40326  place yummy taste burger try spot town 5 guy f...      1   \n",
       "49451  good caf\\u00e9 neighborhood know way far defin...      1   \n",
       "38042  love place small big price serving reduce   da...      0   \n",
       "28778  read fellow yelper seth y review immediately o...      1   \n",
       "29574  way sub 5 buck   choice kind meat topping plus...      1   \n",
       "...                                                  ...    ...   \n",
       "11284  go yelp review new car car wash want hand wash...      1   \n",
       "44732  montreal long safely good dim sum montreal \\n\\...      1   \n",
       "38158  \\\"i positive reviews\\ kind review \\n\\nthis hot...      0   \n",
       "860    die 2003 br /><br />i'll admit mistake realize...      0   \n",
       "15795  go month   see mary massage monthly basis love...      1   \n",
       "\n",
       "                                         preprocess_text  \n",
       "40326  place yummy taste burger try spot town 5 guy f...  \n",
       "49451  good caf\\u00e9 neighborhood know way far defin...  \n",
       "38042  love place small big price serving reduce   da...  \n",
       "28778  read fellow yelper seth y review immediately o...  \n",
       "29574  way sub 5 buck   choice kind meat topping plus...  \n",
       "...                                                  ...  \n",
       "11284  go yelp review new car car wash want hand wash...  \n",
       "44732  montreal long safely good dim sum montreal \\n\\...  \n",
       "38158  \\\"i positive reviews\\ kind review \\n\\nthis hot...  \n",
       "860    die 2003 br /><br />i'll admit mistake realize...  \n",
       "15795  go month   see mary massage monthly basis love...  \n",
       "\n",
       "[35762 rows x 3 columns]"
      ]
     },
     "execution_count": 18,
     "metadata": {},
     "output_type": "execute_result"
    }
   ],
   "source": [
    "df_train"
   ]
  },
  {
   "cell_type": "code",
   "execution_count": 19,
   "id": "10091f20",
   "metadata": {},
   "outputs": [
    {
     "data": {
      "application/vnd.microsoft.datawrangler.viewer.v0+json": {
       "columns": [
        {
         "name": "index",
         "rawType": "int64",
         "type": "integer"
        },
        {
         "name": "text",
         "rawType": "object",
         "type": "string"
        },
        {
         "name": "label",
         "rawType": "int64",
         "type": "integer"
        },
        {
         "name": "preprocess_text",
         "rawType": "object",
         "type": "string"
        }
       ],
       "conversionMethod": "pd.DataFrame",
       "ref": "8c12f5cd-da55-40e8-9dde-a90f9a356600",
       "rows": [
        [
         "2982",
         "anne reid toots peter vaughan pay apparently infrequent visit son bobby steven mackintosh family london visit begin toot suffer fatal heart attack leave adrift unsure question life future find attract daughter boyfriend darren daniel craig action lead inevitable consequences.<br /><br />beautifully film herald realism acclaim mother offer collection unpleasant repellent character ask viewer engage reid shine skill commitment wonderfully understate actor salvage film completely depressing mire michell kureishi allow craig mackintosh cathryn bradshaw create utterly obnoxious character increasingly difficult care happen write character play mackintosh bradshaw fact utterly selfish cold hearted begin wonder exactly kureishi try direct unwilling unable lift bobby paula dimensional ghastly selfishness br /><br />worth see reid performance little cry shame ...",
         "0",
         "anne reid toots peter vaughan pay apparently infrequent visit son bobby steven mackintosh family london visit begin toot suffer fatal heart attack leave adrift unsure question life future find attract daughter boyfriend darren daniel craig action lead inevitable consequences.<br /><br />beautifully film herald realism acclaim mother offer collection unpleasant repellent character ask viewer engage reid shine skill commitment wonderfully understate actor salvage film completely depressing mire michell kureishi allow craig mackintosh cathryn bradshaw create utterly obnoxious character increasingly difficult care happen write character play mackintosh bradshaw fact utterly selfish cold hearted begin wonder exactly kureishi try direct unwilling unable lift bobby paula dimensional ghastly selfishness br /><br />worth see reid performance little cry shame ..."
        ],
        [
         "20938",
         "early breakfast strip nice locate good town will not bother drunk tool drink huge gold bottle red bull vodka not well nice french style bistro locate paris \\n\\nthe price brunch item 14 buck real good deal caliber restaurant right strip will not food hundred spill bean request outside patio section people watch elevated platform people shuffle hear make fun partition separate sidewalk parkour champion safe stare laugh away",
         "1",
         "early breakfast strip nice locate good town will not bother drunk tool drink huge gold bottle red bull vodka not well nice french style bistro locate paris \\n\\nthe price brunch item 14 buck real good deal caliber restaurant right strip will not food hundred spill bean request outside patio section people watch elevated platform people shuffle hear make fun partition separate sidewalk parkour champion safe stare laugh away"
        ],
        [
         "9936",
         "come 4 day 3 night package deal incredibly affordable mandatory timeshare presentation\\n\\nsix get bang bedroom suite equip jacuzzi washer dryer projector sized kitchen king sized bed decent view 14th floor face parking lot hotel room trip.\\n\\npro \\n best deal   room inexpensive spacious overall comfortable\\n large pool downstairs\\n awesome housekeeping ask bunch stuff readily oblige extra towel blanket etc \\n short timeshare presentation exactly finance sale lady wendi let leave enjoy early yay~)\\n early check extended check hour\\n\\ntips:\\n want little extra remember little extra vacation sure afford away change money\\n early check available come serve basis\\n free luggage storage available early arrival late flight real add convenience!\\n\\nthank pleasant wonderful stay",
         "1",
         "come 4 day 3 night package deal incredibly affordable mandatory timeshare presentation\\n\\nsix get bang bedroom suite equip jacuzzi washer dryer projector sized kitchen king sized bed decent view 14th floor face parking lot hotel room trip.\\n\\npro \\n best deal   room inexpensive spacious overall comfortable\\n large pool downstairs\\n awesome housekeeping ask bunch stuff readily oblige extra towel blanket etc \\n short timeshare presentation exactly finance sale lady wendi let leave enjoy early yay~)\\n early check extended check hour\\n\\ntips:\\n want little extra remember little extra vacation sure afford away change money\\n early check available come serve basis\\n free luggage storage available early arrival late flight real add convenience!\\n\\nthank pleasant wonderful stay"
        ],
        [
         "43887",
         "disappointed location deserve 2 star look review experience anomaly service slow need people work employee friendly fine dickey location service well friendly professional fast family get 6 pm sunday wait line lucky -- line door entire time move slowly completely waffle fry low standard bbq sauce spicy run ice cream finish hear employee tell customer macaroni cheese location small table cram hard time get like drink eat chicken pork beef appreciate cut chicken right mess meats.\\n\\ni food fine chicken tender bbq sauce good kid enjoy nugget like stuff bake potato mac cheese awful like cheese soup son love caesar salad take bite declare like young daughter love caesar salad hear son express distaste take bite declare opt find myself.\\n\\nfinally unfair couple groupon \\\"kid eat free sunday\\ deal spend 12 groupon good 24 family pack get 2 adult meal 2 free kid meal buy drink oh large cup groupon good deal end separately buy potato bbq chicken sandwich great deal 5.50 kid meal free take family pack home kid want nugget way that.)\\n\\nthere dickey location far joe real bbq record tom bbq mesa ok favorite phil san diego",
         "0",
         "disappointed location deserve 2 star look review experience anomaly service slow need people work employee friendly fine dickey location service well friendly professional fast family get 6 pm sunday wait line lucky -- line door entire time move slowly completely waffle fry low standard bbq sauce spicy run ice cream finish hear employee tell customer macaroni cheese location small table cram hard time get like drink eat chicken pork beef appreciate cut chicken right mess meats.\\n\\ni food fine chicken tender bbq sauce good kid enjoy nugget like stuff bake potato mac cheese awful like cheese soup son love caesar salad take bite declare like young daughter love caesar salad hear son express distaste take bite declare opt find myself.\\n\\nfinally unfair couple groupon \\\"kid eat free sunday\\ deal spend 12 groupon good 24 family pack get 2 adult meal 2 free kid meal buy drink oh large cup groupon good deal end separately buy potato bbq chicken sandwich great deal 5.50 kid meal free take family pack home kid want nugget way that.)\\n\\nthere dickey location far joe real bbq record tom bbq mesa ok favorite phil san diego"
        ],
        [
         "9413",
         "overall enjoy visit living room sister law \\n\\natmosphere 4 star \\ni like place place neat ... garage door let cool night air little detail place cool \\nthe thing well soft lighting dark dark inside 8 pm read drink menu \\n\\nservice 1 star \\ni think place hire people look actual skill service waitress scarce come time pay bill \\n\\ndrinks 4 star pricey good red sangria blah special peach martini martini delicious strong good thing pay 8 think time probably drink happy hour 8 small sangria bit expensive \\n\\nfood 4 star \\nwe start bruschetta steak gorgonzola apple fig delicious time probably stick bruschetta good dinner get 1/2 prosciutto brie sandwich cup butternut squash soup sandwich slice fatty prosciutto thin layer brie disappointing soup excellent like butternut squash soup recommend try \\n\\ni'll go ... probably happy hour time",
         "1",
         "overall enjoy visit living room sister law \\n\\natmosphere 4 star \\ni like place place neat ... garage door let cool night air little detail place cool \\nthe thing well soft lighting dark dark inside 8 pm read drink menu \\n\\nservice 1 star \\ni think place hire people look actual skill service waitress scarce come time pay bill \\n\\ndrinks 4 star pricey good red sangria blah special peach martini martini delicious strong good thing pay 8 think time probably drink happy hour 8 small sangria bit expensive \\n\\nfood 4 star \\nwe start bruschetta steak gorgonzola apple fig delicious time probably stick bruschetta good dinner get 1/2 prosciutto brie sandwich cup butternut squash soup sandwich slice fatty prosciutto thin layer brie disappointing soup excellent like butternut squash soup recommend try \\n\\ni'll go ... probably happy hour time"
        ],
        [
         "7096",
         "peep get game site",
         "0",
         "peep get game site"
        ],
        [
         "12859",
         "ahhh el pollo loco tell coworker go lunch stare like crazy person obviously there.\\nfirst let offer disclaimer thing 2 piece combo breast wing side coleslaw rice flour tortillas thing menu vouch wonderful order load spicy avocado salsa amazing seriously drink stuff mouth water think \\nanyway little taco rice coleslaw broiled chicken avocado salsa disappoint \\nthe staff kind quickly make nice lunch stop.\\ni give star wish restaurant little ... new bathroom close repair time maybe time replace way come",
         "1",
         "ahhh el pollo loco tell coworker go lunch stare like crazy person obviously there.\\nfirst let offer disclaimer thing 2 piece combo breast wing side coleslaw rice flour tortillas thing menu vouch wonderful order load spicy avocado salsa amazing seriously drink stuff mouth water think \\nanyway little taco rice coleslaw broiled chicken avocado salsa disappoint \\nthe staff kind quickly make nice lunch stop.\\ni give star wish restaurant little ... new bathroom close repair time maybe time replace way come"
        ],
        [
         "4995",
         "american film maker decide film think japanese character badly represent actor japanese set cheap unreal definitely represent kyoto early 20tie 30tie read book understand script writer add extra value differentiate movie script bad change original plot line goof rob marshall main character know chinese actor join crouch tiger hide dragon marshall probably see chinese movie tho represent japanese culture see actor make movie ridiculous quentine tarantino scene kill bill 1 time japanese movie",
         "0",
         "american film maker decide film think japanese character badly represent actor japanese set cheap unreal definitely represent kyoto early 20tie 30tie read book understand script writer add extra value differentiate movie script bad change original plot line goof rob marshall main character know chinese actor join crouch tiger hide dragon marshall probably see chinese movie tho represent japanese culture see actor make movie ridiculous quentine tarantino scene kill bill 1 time japanese movie"
        ],
        [
         "23294",
         "boo hoo hear place pretty good impressed food service nice warrant go frozen patty burger soggy fry \\n\\nit kinda campy kinda place hula stuff miracle mile cross way eat establishment grub \\n\\nbut cheeseburger las vegas good cheeseburger .... 8 oz 1/4 lbs",
         "0",
         "boo hoo hear place pretty good impressed food service nice warrant go frozen patty burger soggy fry \\n\\nit kinda campy kinda place hula stuff miracle mile cross way eat establishment grub \\n\\nbut cheeseburger las vegas good cheeseburger .... 8 oz 1/4 lbs"
        ],
        [
         "13911",
         "lack availability product customer service   associate go occasion accommodate happy   simply way loyal big 5 especially store",
         "1",
         "lack availability product customer service   associate go occasion accommodate happy   simply way loyal big 5 especially store"
        ],
        [
         "45371",
         "let love pizza buffets.\\n\\ni go al friday lunch   bit confused arrive desk   soon seat   interior nice modern looking unfortunately nice thing end.\\n\\nmy idea pizza buffet unlimited supply pizza stand own.\\nal idea pizza buffet choice unlimited slice pizza order 3 time order form waitress.\\n\\nto start order slice silcilian pizza slice pepperoni slice buffalo chicken   like buffalo chicken dust carrot slice carrot slice buffalo chicken pizza silcillian good like sauce pepperoni pizza   time order pizza flag waitress ask order form order pizza wait deliver   odd concept   think return   luisa pizza buffet style",
         "0",
         "let love pizza buffets.\\n\\ni go al friday lunch   bit confused arrive desk   soon seat   interior nice modern looking unfortunately nice thing end.\\n\\nmy idea pizza buffet unlimited supply pizza stand own.\\nal idea pizza buffet choice unlimited slice pizza order 3 time order form waitress.\\n\\nto start order slice silcilian pizza slice pepperoni slice buffalo chicken   like buffalo chicken dust carrot slice carrot slice buffalo chicken pizza silcillian good like sauce pepperoni pizza   time order pizza flag waitress ask order form order pizza wait deliver   odd concept   think return   luisa pizza buffet style"
        ],
        [
         "14350",
         "breakfast 20 nice lady clue save 5 sign stratosphere ace play card player counter     10 min later save 10   wait player counter buffet line   mean something.\\n\\nthis place ordinary serve snow crab leg breakfast   serve purpose day   ride roller coaster stratosphere stop shopping place   reason eat",
         "0",
         "breakfast 20 nice lady clue save 5 sign stratosphere ace play card player counter     10 min later save 10   wait player counter buffet line   mean something.\\n\\nthis place ordinary serve snow crab leg breakfast   serve purpose day   ride roller coaster stratosphere stop shopping place   reason eat"
        ],
        [
         "48807",
         "excited try new restaurant try chicken pot pie nugget nice thin crisp inside half meh.\\n\\nthe inside french onion grilled cheese cheese sandwich tasty onion soup lace wine good.\\n\\nthe slow cooked egg jumbo asparagus undercooked slightly\\nraw white slightly undercooked runny yolk velvety sure chef intend asparagus nice fresh crisp enjoy undercooked egg asparagus pool liquid coat asparagus eat slow cooked egg miss velvety consistency \\n\\nthe best outstanding thing try fish taco delicious layer flavor spice clever thin crisp taro root shell problem tiny tiny street taco maybe little inch long 4.00 spend 12.00 super great tacos slightly large amuse bouche sized taco receive small 12.00 feel meh.\\n\\ncheese plate ok uninspired grape rotten spot fully rotten far fresh plate   little concern observation kitchen catch this.\\n\\nwe bring grape issue attention nice way ask return tell come speak wait wait get check pay check come out.\\n\\ni give star come speak price point factor too.\\n\\nwine selection glass limit 14 25 glass \\n\\ncocktails look run 14.00 17.00 glass",
         "0",
         "excited try new restaurant try chicken pot pie nugget nice thin crisp inside half meh.\\n\\nthe inside french onion grilled cheese cheese sandwich tasty onion soup lace wine good.\\n\\nthe slow cooked egg jumbo asparagus undercooked slightly\\nraw white slightly undercooked runny yolk velvety sure chef intend asparagus nice fresh crisp enjoy undercooked egg asparagus pool liquid coat asparagus eat slow cooked egg miss velvety consistency \\n\\nthe best outstanding thing try fish taco delicious layer flavor spice clever thin crisp taro root shell problem tiny tiny street taco maybe little inch long 4.00 spend 12.00 super great tacos slightly large amuse bouche sized taco receive small 12.00 feel meh.\\n\\ncheese plate ok uninspired grape rotten spot fully rotten far fresh plate   little concern observation kitchen catch this.\\n\\nwe bring grape issue attention nice way ask return tell come speak wait wait get check pay check come out.\\n\\ni give star come speak price point factor too.\\n\\nwine selection glass limit 14 25 glass \\n\\ncocktails look run 14.00 17.00 glass"
        ],
        [
         "29972",
         "groupon come place   25 50 worth wine bar boutique store   valid food   yada yada yada ... typical groupon rule   oenophile buy maximum allow 3 groupon   \\n\\nfinally trudge strip husband discover shocker wine overpriced   bottle wine get costco 17 go 28   basically buy wine groupon get price summerlin costco   boo.\\n\\nbut husband discover glassware actually reasonably price   think work viola take groupon glassware   take second groupon wine flight bar groupon piece glassware   trip   add strangeness nice gentleman help glassware time wine flight slow saturday night.\\n\\nso point   nice folk   good wine albeit overpriced   nice atmosphere crowd   check",
         "1",
         "groupon come place   25 50 worth wine bar boutique store   valid food   yada yada yada ... typical groupon rule   oenophile buy maximum allow 3 groupon   \\n\\nfinally trudge strip husband discover shocker wine overpriced   bottle wine get costco 17 go 28   basically buy wine groupon get price summerlin costco   boo.\\n\\nbut husband discover glassware actually reasonably price   think work viola take groupon glassware   take second groupon wine flight bar groupon piece glassware   trip   add strangeness nice gentleman help glassware time wine flight slow saturday night.\\n\\nso point   nice folk   good wine albeit overpriced   nice atmosphere crowd   check"
        ],
        [
         "39344",
         "reviewer mention cat miaou bit mish mash inch tiny shop fill ware essentially gift shop mix item varied find gift gran here.\\n\\nthey have;\\n\\n baby clothes\\n kid toys\\n ornaments\\n key rings\\n stickers\\n stationery\\n jewellery\\n scarves\\n bags\\n cards\\n\\n ... list endless lose mountain knick knack definitely worth browse need gift cute",
         "1",
         "reviewer mention cat miaou bit mish mash inch tiny shop fill ware essentially gift shop mix item varied find gift gran here.\\n\\nthey have;\\n\\n baby clothes\\n kid toys\\n ornaments\\n key rings\\n stickers\\n stationery\\n jewellery\\n scarves\\n bags\\n cards\\n\\n ... list endless lose mountain knick knack definitely worth browse need gift cute"
        ],
        [
         "34544",
         "twice compare vietnamese nail salon far superior compare   technician julie pedicure time   far talk go talk relish chance relax care say   answer question ask impolite   excellent job time   eye brow wax lady excellent job   recommend nail salon",
         "1",
         "twice compare vietnamese nail salon far superior compare   technician julie pedicure time   far talk go talk relish chance relax care say   answer question ask impolite   excellent job time   eye brow wax lady excellent job   recommend nail salon"
        ],
        [
         "29676",
         "blech poisonous taste mouth ... \\n\\ntheir chai tea original chai style disgusting cause say spicy tea mean capsaicin spice blech!!\\n\\ni laugh guy say \\\"this starbuck real coffee here\\ friend walk in.\\n\\nthe reason laugh starbucks sugary coffee place place massive sugar overload central place .. \\n\\nsoo yes starbuck sugar drink ....",
         "0",
         "blech poisonous taste mouth ... \\n\\ntheir chai tea original chai style disgusting cause say spicy tea mean capsaicin spice blech!!\\n\\ni laugh guy say \\\"this starbuck real coffee here\\ friend walk in.\\n\\nthe reason laugh starbucks sugary coffee place place massive sugar overload central place .. \\n\\nsoo yes starbuck sugar drink ...."
        ],
        [
         "41249",
         "drink great food great diet plan   scream toilet time ...",
         "0",
         "drink great food great diet plan   scream toilet time ..."
        ],
        [
         "29645",
         "indian food minimize attempt exact palatable culture   cost allow original beauty cuisine savour fact visit indian paradise sarcasm pessimism give place area wrong come genre   \\nboy wrong   let fascade place fool   enter take second smell fact go genuine article   lunch time experience buffet   go sunday afternoon place perfectly poise sunset dining experience.\\nall food ... nan lamb curry tea samosa califlower .... good   add certain family like atmosphere create staff service unassuming intuitive   find want leave   want stay talk snack little   kind hard achieve strip mall restaurant feel like that.\\nyou way nostalgic good indian worth 4 star",
         "1",
         "indian food minimize attempt exact palatable culture   cost allow original beauty cuisine savour fact visit indian paradise sarcasm pessimism give place area wrong come genre   \\nboy wrong   let fascade place fool   enter take second smell fact go genuine article   lunch time experience buffet   go sunday afternoon place perfectly poise sunset dining experience.\\nall food ... nan lamb curry tea samosa califlower .... good   add certain family like atmosphere create staff service unassuming intuitive   find want leave   want stay talk snack little   kind hard achieve strip mall restaurant feel like that.\\nyou way nostalgic good indian worth 4 star"
        ],
        [
         "24526",
         "fun place friday night   \\n\\n1 cover charge\\n2 3 rooms- different d.j's- music good!\\n3 half naked man dance stage \\n4 importantly spend practically drinks.\\n5 dance floor small room mingle.\\n\\noverall good time good energy air definitely go",
         "1",
         "fun place friday night   \\n\\n1 cover charge\\n2 3 rooms- different d.j's- music good!\\n3 half naked man dance stage \\n4 importantly spend practically drinks.\\n5 dance floor small room mingle.\\n\\noverall good time good energy air definitely go"
        ],
        [
         "7456",
         "i`m fan day training novi i`m sleepy girl",
         "0",
         "i`m fan day training novi i`m sleepy girl"
        ],
        [
         "27225",
         "picture yelp look amazing go person experience service bad fish fresh",
         "0",
         "picture yelp look amazing go person experience service bad fish fresh"
        ],
        [
         "48421",
         "yuck scared go sick eat thank god not health dep look pretty",
         "0",
         "yuck scared go sick eat thank god not health dep look pretty"
        ],
        [
         "17049",
         "couple day ago fire car start drive downtown attend yelp eat uye nobuo problem 104 outside ac working.\\n\\nluckily savvy dude pretty good idea wrong call lightning lube thing car recommend ray class.\\n\\ni take tell recharge ac 30 minute door honest fast reliable kind guy want work car.\\n\\nhis price reasonable staff kind work certainly come \\n\\nhe conversation explain go option thing key will start work car tell help figure check engine light random advice car ask it.\\n\\ni originally go whitey old town whitey close weekend glad meet ray good thing happen car \\n\\nbring car",
         "1",
         "couple day ago fire car start drive downtown attend yelp eat uye nobuo problem 104 outside ac working.\\n\\nluckily savvy dude pretty good idea wrong call lightning lube thing car recommend ray class.\\n\\ni take tell recharge ac 30 minute door honest fast reliable kind guy want work car.\\n\\nhis price reasonable staff kind work certainly come \\n\\nhe conversation explain go option thing key will start work car tell help figure check engine light random advice car ask it.\\n\\ni originally go whitey old town whitey close weekend glad meet ray good thing happen car \\n\\nbring car"
        ],
        [
         "14279",
         "spicy chicken bite definitely worth money ... probably get 10 piece chicken overly fry basil stem fry really?) ... dry hard swallow flavoring impress \\n\\ni order lychee ice green tea pearl lady forget pearl ... customer drink okay ... probably time",
         "0",
         "spicy chicken bite definitely worth money ... probably get 10 piece chicken overly fry basil stem fry really?) ... dry hard swallow flavoring impress \\n\\ni order lychee ice green tea pearl lady forget pearl ... customer drink okay ... probably time"
        ],
        [
         "3862",
         "david h. steinberg script initially have real smart point good romantic comedy oh dear happen way br /><br />i'll tell happen originally animal house 1978 porky 1982 long time ago pioneer godfather new genre crude teen comedy 1990 come important instance smash hit repulsive one add problem child 1990 dumb dumber 1994 nutty professor 1996 mary 1998 think slacker affect era prophet era american pie 1999 undoubtedly incomparably genre icon think comedy kind get highly filthy cum laude nasty admire youth fashion br /><br />i believe slacker smart plot script maker get add real big rudeness filthiness strangely shameless sex day easy pie like fill scene freely element masturbation oral sex urination .. etc look la mode wholly unnecessary element story surely necessary profit catch late vogue make teen comedy problem replace possible comedy it.<br /><br />some moment look literally horrible point jason schwartzman look performance memorably disgust utmost ambition transform romantic comedy make pure skinning image like horror ask time nasty happen vomit fart .. etc easy combination create comedy nowadays.<br /><br />though hate get love bold gina gershon cameo scene design achieve outrage outrageousness like adolescent naughty dream majority near anybody nightmare.<br /><br />what sad core real potential work cheap stupid comedy eventually manage remember detail steal exam 2 minute movie main plot weirdo try reach girl blackmail cool guy pattern boy love girl girl love boy save candidly schlock deal material tacky way bunch dirty college boy get make mawkish quip end sorry smile sh*t br /><br />at end say imagine time place impostor slack win totally like comedy sound good end totally well movie assure opinion smart .. need understand movie maker real slacker maybe stupid way smart hollywood .. final result witty sense word br /><br />p.s scriptwriter david h. steinberg write story american pie 2 main page imdb find additional details usual plot keyword sex vulgarity crude humor ... forget write urineing shower baring 70 year old women",
         "0",
         "david h. steinberg script initially have real smart point good romantic comedy oh dear happen way br /><br />i'll tell happen originally animal house 1978 porky 1982 long time ago pioneer godfather new genre crude teen comedy 1990 come important instance smash hit repulsive one add problem child 1990 dumb dumber 1994 nutty professor 1996 mary 1998 think slacker affect era prophet era american pie 1999 undoubtedly incomparably genre icon think comedy kind get highly filthy cum laude nasty admire youth fashion br /><br />i believe slacker smart plot script maker get add real big rudeness filthiness strangely shameless sex day easy pie like fill scene freely element masturbation oral sex urination .. etc look la mode wholly unnecessary element story surely necessary profit catch late vogue make teen comedy problem replace possible comedy it.<br /><br />some moment look literally horrible point jason schwartzman look performance memorably disgust utmost ambition transform romantic comedy make pure skinning image like horror ask time nasty happen vomit fart .. etc easy combination create comedy nowadays.<br /><br />though hate get love bold gina gershon cameo scene design achieve outrage outrageousness like adolescent naughty dream majority near anybody nightmare.<br /><br />what sad core real potential work cheap stupid comedy eventually manage remember detail steal exam 2 minute movie main plot weirdo try reach girl blackmail cool guy pattern boy love girl girl love boy save candidly schlock deal material tacky way bunch dirty college boy get make mawkish quip end sorry smile sh*t br /><br />at end say imagine time place impostor slack win totally like comedy sound good end totally well movie assure opinion smart .. need understand movie maker real slacker maybe stupid way smart hollywood .. final result witty sense word br /><br />p.s scriptwriter david h. steinberg write story american pie 2 main page imdb find additional details usual plot keyword sex vulgarity crude humor ... forget write urineing shower baring 70 year old women"
        ],
        [
         "23204",
         "give place try time good meal alfredo pasta absolutely flavor lack flavor order feel like go kitchen add little seasoning plenty little greek place serve good home food alot bother place",
         "0",
         "give place try time good meal alfredo pasta absolutely flavor lack flavor order feel like go kitchen add little seasoning plenty little greek place serve good home food alot bother place"
        ],
        [
         "8960",
         "counter close call cowfish sushi burger bar   wtf   love counter   sad   thank god big daddy close ballantyne ... lose favorite lunch spot south park mall",
         "0",
         "counter close call cowfish sushi burger bar   wtf   love counter   sad   thank god big daddy close ballantyne ... lose favorite lunch spot south park mall"
        ],
        [
         "24164",
         "fan kashman place unfortunately live neighborhood anymore probably daily stop   swear good bagel valley- jalapeno bagel hit spot bagel sandwich quick run meal big fan recommend thanksgiving cranberry turkey sonoran chicken sandwich location notch ... cenpho location",
         "1",
         "fan kashman place unfortunately live neighborhood anymore probably daily stop   swear good bagel valley- jalapeno bagel hit spot bagel sandwich quick run meal big fan recommend thanksgiving cranberry turkey sonoran chicken sandwich location notch ... cenpho location"
        ],
        [
         "32710",
         "took visit family villa antonio special occasion dinner excited try highly recommend restaurant disappointment service slow food average recommend va",
         "0",
         "took visit family villa antonio special occasion dinner excited try highly recommend restaurant disappointment service slow food average recommend va"
        ],
        [
         "31733",
         "3 amigo okay joint personally right office offer affordable 10 taxis inc lunch menu great alternative fast food sandwich place hand fancy authentic definitely good restaurant town quality pretty good consider pay e.g. chilli platter 5.95 lunch time \\n\\nnot place family town good remedy forget pack lunch",
         "0",
         "3 amigo okay joint personally right office offer affordable 10 taxis inc lunch menu great alternative fast food sandwich place hand fancy authentic definitely good restaurant town quality pretty good consider pay e.g. chilli platter 5.95 lunch time \\n\\nnot place family town good remedy forget pack lunch"
        ],
        [
         "49092",
         "refuge website facebook page vague association own catholic charities usa notoriously homophobic organization repeatedly fight gay lesbian adopt child fact locate heavily lgbtq area phoenix like slap face apparently refuge lgbtq couple want adopt",
         "0",
         "refuge website facebook page vague association own catholic charities usa notoriously homophobic organization repeatedly fight gay lesbian adopt child fact locate heavily lgbtq area phoenix like slap face apparently refuge lgbtq couple want adopt"
        ],
        [
         "22329",
         "good ayce sushi place west side\\nsushi mon myriad eat ayce sushi restaurant las vegas favorable experience ayce place vegas old day ayce mean buffet style like makino makino fine sushi lover know price pay ayce good order year ago ayce trend catch good sushi place set order ayce sushi take ayce order place vegas know place ayce stay business.\\n\\nin november 2009 ayce order sushi las vegas go 24 28 year old son tristan eat 28 sushi 15 minute way ahead dollar wise normally 150-$200 bill end 100 people drink tax).\\n\\nin henderson favorite place ka warm springs green valley sushi notch ayce atmosphere actually good sushi place sushi place effort atmosphere tend charge sushi place ka additionally sushi chef ka bit personality make challenge english ... hey barely speak japanese speak well bilingual thing.)\\n\\nnow live \\\"w side\\ find place sushi fix girlfriend live recently anyways sushi mon \\\"her place.\\ actually go sushi mon date pay attention go mouth restaurant day.\\n\\nthe quality selection sushi good like gage sushi place quality salmon aka \\\"sake\\ disappointed soft smooth tasty girlfriend like use yellowtail gage certainly pass muster variety typical roll vegas good great.\\n\\nthe atmosphere typical las vegas sushi restaurant non casino place busy able fill table room decoration disconcert important clean sushi chef good surprisingly fast spite pack place wish little personality probably need time start kind rapport probably fine.\\n\\nhere kicker stamp card 10th ayce free like get 2.80 meal place las vegas look new \\\"favorite place,\\ certainly help tip thing favor place stamp card.\\n\\nif look eat order sushi west las vegas recommend check place sure good place area good",
         "1",
         "good ayce sushi place west side\\nsushi mon myriad eat ayce sushi restaurant las vegas favorable experience ayce place vegas old day ayce mean buffet style like makino makino fine sushi lover know price pay ayce good order year ago ayce trend catch good sushi place set order ayce sushi take ayce order place vegas know place ayce stay business.\\n\\nin november 2009 ayce order sushi las vegas go 24 28 year old son tristan eat 28 sushi 15 minute way ahead dollar wise normally 150-$200 bill end 100 people drink tax).\\n\\nin henderson favorite place ka warm springs green valley sushi notch ayce atmosphere actually good sushi place sushi place effort atmosphere tend charge sushi place ka additionally sushi chef ka bit personality make challenge english ... hey barely speak japanese speak well bilingual thing.)\\n\\nnow live \\\"w side\\ find place sushi fix girlfriend live recently anyways sushi mon \\\"her place.\\ actually go sushi mon date pay attention go mouth restaurant day.\\n\\nthe quality selection sushi good like gage sushi place quality salmon aka \\\"sake\\ disappointed soft smooth tasty girlfriend like use yellowtail gage certainly pass muster variety typical roll vegas good great.\\n\\nthe atmosphere typical las vegas sushi restaurant non casino place busy able fill table room decoration disconcert important clean sushi chef good surprisingly fast spite pack place wish little personality probably need time start kind rapport probably fine.\\n\\nhere kicker stamp card 10th ayce free like get 2.80 meal place las vegas look new \\\"favorite place,\\ certainly help tip thing favor place stamp card.\\n\\nif look eat order sushi west las vegas recommend check place sure good place area good"
        ],
        [
         "38769",
         "good food absolutely destroy constant wait   drive turn car wait 20 minute window   sweet stuff kind helpful tell want pay money stuff appropriately make choose need fast service unfortunately",
         "0",
         "good food absolutely destroy constant wait   drive turn car wait 20 minute window   sweet stuff kind helpful tell want pay money stuff appropriately make choose need fast service unfortunately"
        ],
        [
         "15159",
         "know sandwich shoppe pepper town start p   cough splutta cough peppi let corner office chain yea hit lunch partner crime \\n\\nthe philly cheese steak let fry portion huge pretty split sandwich large fry drink people 14 bad wallet bad \\n\\nplus poster john lee hooker wall plus celebrity pic eat year \\n\\nservice zippy cash joint .... atm 1986 sit corner look like will work take confusing 30 second spit money work peppi take credit card 5 stars.\\n\\nprobably great spot vegetarian know veg option menu definitely pittsburgh classic lunch spot sandwich tummyache like p sandwich shop sandwich",
         "1",
         "know sandwich shoppe pepper town start p   cough splutta cough peppi let corner office chain yea hit lunch partner crime \\n\\nthe philly cheese steak let fry portion huge pretty split sandwich large fry drink people 14 bad wallet bad \\n\\nplus poster john lee hooker wall plus celebrity pic eat year \\n\\nservice zippy cash joint .... atm 1986 sit corner look like will work take confusing 30 second spit money work peppi take credit card 5 stars.\\n\\nprobably great spot vegetarian know veg option menu definitely pittsburgh classic lunch spot sandwich tummyache like p sandwich shop sandwich"
        ],
        [
         "46712",
         "come lunch buffet 2 pm seat wait   selection pretty good d\\u00e9cor nice modern   tv dimly light ceiling light neon bar literal darkness   female host nice apparent bat end lead   sit table setup placemat phone order etc   \\n\\nthe guy black shirt gray slack sure bollywood play screen time   buss table lunch dance sequence   finally get attention soda bring quickly refill 45 minute   certainly table plate neighboring table plate clear glass remain   \\n\\n1 adult buffet soda come little 15   unreasonable equally good low price indian lunch buffet there.\\n\\nunfortunately food d\\u00e9cor fantastic warrant overlook service \\n\\n2.5 star",
         "0",
         "come lunch buffet 2 pm seat wait   selection pretty good d\\u00e9cor nice modern   tv dimly light ceiling light neon bar literal darkness   female host nice apparent bat end lead   sit table setup placemat phone order etc   \\n\\nthe guy black shirt gray slack sure bollywood play screen time   buss table lunch dance sequence   finally get attention soda bring quickly refill 45 minute   certainly table plate neighboring table plate clear glass remain   \\n\\n1 adult buffet soda come little 15   unreasonable equally good low price indian lunch buffet there.\\n\\nunfortunately food d\\u00e9cor fantastic warrant overlook service \\n\\n2.5 star"
        ],
        [
         "585",
         "saturday night live national lampoon sctv alumnu funny sketch film.<br /><br />however interesting watch start 2005 year movie suppose place look gag absolutely true mock movie trailer probably clever time call pregnant man come true arnold schwarzenegger dumb movie junior commercial spoof probably clever time feature sammy davis jr. jackie onasis call celebrity wrestling come true popular call celebrity boxing mock movie trailer probably clever time feature john candy movie sever head watch trailer look similar shot plot frank hellenlotter basket case finally ad late late documentary dead dream leave ... documentary ... hippie lol.<br /><br />four prophecy come true",
         "0",
         "saturday night live national lampoon sctv alumnu funny sketch film.<br /><br />however interesting watch start 2005 year movie suppose place look gag absolutely true mock movie trailer probably clever time call pregnant man come true arnold schwarzenegger dumb movie junior commercial spoof probably clever time feature sammy davis jr. jackie onasis call celebrity wrestling come true popular call celebrity boxing mock movie trailer probably clever time feature john candy movie sever head watch trailer look similar shot plot frank hellenlotter basket case finally ad late late documentary dead dream leave ... documentary ... hippie lol.<br /><br />four prophecy come true"
        ],
        [
         "36381",
         "review treatment receive february year sorry tardiness.\\ni firesky conference hear number conference attendee rave treatment receive jurlique look forward get massage schedule end day bit apprehensive quality like know end workday silly worried!\\njurlique tuck building corner firesky lot get small wait area stock typical spa good seat okay place short wait enna office clerk welcoming.\\nwhen kayleen come introduce therapist bit nervous get work sturdy samoan gal tall willowy blonde nerve soothe instant kayleen massage ninja ply trade finger relax loosen ask kayleen technique combine massage acupressure work wonder \\nbase experience conference attendee jurlique   deliver great massage base experience jurlique kayleen staff",
         "1",
         "review treatment receive february year sorry tardiness.\\ni firesky conference hear number conference attendee rave treatment receive jurlique look forward get massage schedule end day bit apprehensive quality like know end workday silly worried!\\njurlique tuck building corner firesky lot get small wait area stock typical spa good seat okay place short wait enna office clerk welcoming.\\nwhen kayleen come introduce therapist bit nervous get work sturdy samoan gal tall willowy blonde nerve soothe instant kayleen massage ninja ply trade finger relax loosen ask kayleen technique combine massage acupressure work wonder \\nbase experience conference attendee jurlique   deliver great massage base experience jurlique kayleen staff"
        ],
        [
         "40199",
         "sehr leckere subsandwiches die r\\u00e4umlichkeiten sind sehr ansehnlich sch\\u00f6ne einrichtung die bedienungen sind sehr freundlich und nett",
         "1",
         "sehr leckere subsandwiches die r\\u00e4umlichkeiten sind sehr ansehnlich sch\\u00f6ne einrichtung die bedienungen sind sehr freundlich und nett"
        ],
        [
         "12345",
         "update owner send message yelp post review ... regardless pay service change fact state review true \\n\\ni come groupon living social deal \\n\\ni drop dog thing morning open board 5 day feel like stick hidden charge opt groom service pup fresh clean pick \\n\\nwell pick trim nail like know come call day confirm figure nail time grooming services.\\n\\ni like vibe place go to pass place base experience.\\n\\noh realize till get car personal collar miss go take good 5 min find questionable",
         "0",
         "update owner send message yelp post review ... regardless pay service change fact state review true \\n\\ni come groupon living social deal \\n\\ni drop dog thing morning open board 5 day feel like stick hidden charge opt groom service pup fresh clean pick \\n\\nwell pick trim nail like know come call day confirm figure nail time grooming services.\\n\\ni like vibe place go to pass place base experience.\\n\\noh realize till get car personal collar miss go take good 5 min find questionable"
        ],
        [
         "19696",
         "big fan ayce sushi joint take mom dinner like good asian mom ... love asian ayce buffets!\\n\\nwe actually find service good   layout restaurant weird   apparently teppan steakhouse seat set teppan griddle u shape lend conversation small group   meal look folk eat u shaped table directly   kinda awkward.\\n\\nnote include 18 grat party 4   see lot 6 8 ... auto grat party 4?\\n\\ni know trouble beginning   server recommend start dozen fresh oyster   wow ... fresh oyster ayce joint   ask type oyster kumamotos favorite japanese restaurant think serve   blank look face answer \\\"uhh .. order see.\\   come quickly huge   huge flavorless   bite oyster obscene gross ... especially flavor \\n\\ni prefer japanese own sushi joint bcuz rice real sushi rice ... nigiri sashimi cut precision teach 1000 year   sashimi come odd shape ... cube rectangular trapezoidal   sushi time inedible   cut grain ... grain   uni shade dark brown   shrimp temp gummy ... probably frozen tempura   tofu salad chinese tofu ... soft japanese tofu.\\n\\ni people yelper rate restaurant 5 star rate wallet   mom say come",
         "0",
         "big fan ayce sushi joint take mom dinner like good asian mom ... love asian ayce buffets!\\n\\nwe actually find service good   layout restaurant weird   apparently teppan steakhouse seat set teppan griddle u shape lend conversation small group   meal look folk eat u shaped table directly   kinda awkward.\\n\\nnote include 18 grat party 4   see lot 6 8 ... auto grat party 4?\\n\\ni know trouble beginning   server recommend start dozen fresh oyster   wow ... fresh oyster ayce joint   ask type oyster kumamotos favorite japanese restaurant think serve   blank look face answer \\\"uhh .. order see.\\   come quickly huge   huge flavorless   bite oyster obscene gross ... especially flavor \\n\\ni prefer japanese own sushi joint bcuz rice real sushi rice ... nigiri sashimi cut precision teach 1000 year   sashimi come odd shape ... cube rectangular trapezoidal   sushi time inedible   cut grain ... grain   uni shade dark brown   shrimp temp gummy ... probably frozen tempura   tofu salad chinese tofu ... soft japanese tofu.\\n\\ni people yelper rate restaurant 5 star rate wallet   mom say come"
        ],
        [
         "19235",
         "white tuna good spicy seafood salad hamachi salmon stringy ... -(\\n\\nservice prompt waitress cold impatient def worth 20 tip vacay wth ... \\n\\nlunch total 2 tax tip include 55 \\n\\nprolly try ayce sushi instead time want such.\\n\\n9/14 13\\nwas yesterday decide try umiya today ... soooo glad   umiya far sooooo well yama   seating way comfy   decor nice   food   def well   service well yama step game goodbye yama real soon",
         "0",
         "white tuna good spicy seafood salad hamachi salmon stringy ... -(\\n\\nservice prompt waitress cold impatient def worth 20 tip vacay wth ... \\n\\nlunch total 2 tax tip include 55 \\n\\nprolly try ayce sushi instead time want such.\\n\\n9/14 13\\nwas yesterday decide try umiya today ... soooo glad   umiya far sooooo well yama   seating way comfy   decor nice   food   def well   service well yama step game goodbye yama real soon"
        ],
        [
         "46365",
         "beer spam let goo!\\n\\ni want happen walk friend know look different beer cool patio interesting menu finally tell come cool spot fairly unassuming outside ton craft brew country town friend decent alcohol percentage watch yourself.\\n\\nthere good assortment interesting item menu include spam dish pretty creative add mystique place   able spend time wait",
         "1",
         "beer spam let goo!\\n\\ni want happen walk friend know look different beer cool patio interesting menu finally tell come cool spot fairly unassuming outside ton craft brew country town friend decent alcohol percentage watch yourself.\\n\\nthere good assortment interesting item menu include spam dish pretty creative add mystique place   able spend time wait"
        ],
        [
         "35808",
         "stop dinner special reasonable 20 sushi drink salad miso overall nearly good sushi la salad good leave",
         "0",
         "stop dinner special reasonable 20 sushi drink salad miso overall nearly good sushi la salad good leave"
        ],
        [
         "11751",
         "idea people rave place extremely price well restaurant area expensive.\\n\\nlet start beginning shall croissant people rave croissant yes tasty amazing buy pilsbury croissant tube grocery store throw oven taste same.\\n\\nnext meal order rack lamb ask medium rare come hint pink want send uncook meat want chance spit food think figure oh maybe medium eat knife cut meat literally saw meat tough sauce good eat lot rack lamb fall way average.\\n\\nmy date hand ask chef create special surprised dish come simple garden salad filet steak chef special creation \\n\\ni'm give place 2 star atmosphere romantic service great wine delish sure dirty restaurant 1 2 star fair know think 2 star right vincent",
         "0",
         "idea people rave place extremely price well restaurant area expensive.\\n\\nlet start beginning shall croissant people rave croissant yes tasty amazing buy pilsbury croissant tube grocery store throw oven taste same.\\n\\nnext meal order rack lamb ask medium rare come hint pink want send uncook meat want chance spit food think figure oh maybe medium eat knife cut meat literally saw meat tough sauce good eat lot rack lamb fall way average.\\n\\nmy date hand ask chef create special surprised dish come simple garden salad filet steak chef special creation \\n\\ni'm give place 2 star atmosphere romantic service great wine delish sure dirty restaurant 1 2 star fair know think 2 star right vincent"
        ],
        [
         "8909",
         "good thing place portion size ... they're huge wide menu variety admit like taste breakfast menu item well lunch dinner menu item",
         "1",
         "good thing place portion size ... they're huge wide menu variety admit like taste breakfast menu item well lunch dinner menu item"
        ],
        [
         "21764",
         "tao awesome decor food service vegas cousin bachelor party past weekend blast tao month ago actually reservation open table week trip follow tao plan accordingly.\\n\\nthis second time tao vegas good experience like time time kung pao chicken chicken pad thai pad thai list pad thais lol time kobe beef delish def wanna crazy loot 88 buck know club free eat restaurant ask server \\\"line pass\\ 6 guy vegas great idea eat order entree section appetizer expect free good thing server tell that!\\n\\nthe nightclub open 10 pm line wrap damn place worry get line pass skip way got pretty open get room second floor rooftop bad rooftop close day go stay main room freak crazzzzzzy pack great music dance floor get little crazy time blast \\n\\nif guest list reservation dinner pass party club awesome time",
         "1",
         "tao awesome decor food service vegas cousin bachelor party past weekend blast tao month ago actually reservation open table week trip follow tao plan accordingly.\\n\\nthis second time tao vegas good experience like time time kung pao chicken chicken pad thai pad thai list pad thais lol time kobe beef delish def wanna crazy loot 88 buck know club free eat restaurant ask server \\\"line pass\\ 6 guy vegas great idea eat order entree section appetizer expect free good thing server tell that!\\n\\nthe nightclub open 10 pm line wrap damn place worry get line pass skip way got pretty open get room second floor rooftop bad rooftop close day go stay main room freak crazzzzzzy pack great music dance floor get little crazy time blast \\n\\nif guest list reservation dinner pass party club awesome time"
        ],
        [
         "33112",
         "stuggsy pretty get bang slate want wh smith pretty place town find comprehensive selection mag go usual tv guide girly fashion offering \\\"awight guv'nor\\ lad mags.\\n\\npractical beekeeping fortean times barely legal hermaphrodite amputees railway enthusiast specialist publication find wall will else.\\n\\nstay away food realise wh smith serve purpose",
         "1",
         "stuggsy pretty get bang slate want wh smith pretty place town find comprehensive selection mag go usual tv guide girly fashion offering \\\"awight guv'nor\\ lad mags.\\n\\npractical beekeeping fortean times barely legal hermaphrodite amputees railway enthusiast specialist publication find wall will else.\\n\\nstay away food realise wh smith serve purpose"
        ],
        [
         "39690",
         "beware restaurant charge 3.5 \\\"concession fee\\ show cnf bill tell advance   staff manager try tell resort fee relate hotel paris las vegas pretty clear fact charge resort fee   way restaurant bilk unsuspecting customer money inflate strip prices.\\n\\nas food deserve star cost item denny   burger oversalte mac cheese \\\"burger\\ include burger fry embarrassing mcdonald   strip pricing expect 16 mediocre good food unacceptable strip.\\n\\nthe \\\"high\\ point -- reason restaurant deserve star give -- drink   36 pricey 36 oz goblet lot drink outrageous   garnish fun candy presentation dry ice make drink bubble smoke fun   come happy hour bogo special bar area actually good deal   unfortunately non goblet martini cocktail overpriced -- strip -- stick goblet split need \\n\\nsadly sugar factory fall category tourist trap strip fantastic similarly price offering nearby avoid.\\n\\n(it worth note f better business bureau   take exception cnf charge apparently",
         "0",
         "beware restaurant charge 3.5 \\\"concession fee\\ show cnf bill tell advance   staff manager try tell resort fee relate hotel paris las vegas pretty clear fact charge resort fee   way restaurant bilk unsuspecting customer money inflate strip prices.\\n\\nas food deserve star cost item denny   burger oversalte mac cheese \\\"burger\\ include burger fry embarrassing mcdonald   strip pricing expect 16 mediocre good food unacceptable strip.\\n\\nthe \\\"high\\ point -- reason restaurant deserve star give -- drink   36 pricey 36 oz goblet lot drink outrageous   garnish fun candy presentation dry ice make drink bubble smoke fun   come happy hour bogo special bar area actually good deal   unfortunately non goblet martini cocktail overpriced -- strip -- stick goblet split need \\n\\nsadly sugar factory fall category tourist trap strip fantastic similarly price offering nearby avoid.\\n\\n(it worth note f better business bureau   take exception cnf charge apparently"
        ],
        [
         "34909",
         "great restaurant serve organic gluten free   wait   sat bar order organic salad   come mixed green small cucumber shred carrot \\\"add on\\ minuscule   dressing suppose olive oil garlic lemon juice   lemon taste   garlic   like \\\"burn mouth\\ garlic   mixed green \\\"old bad\\ section pull   cook serve green fresh   line expensive 15 tax tip huge portion organic veggie   buy bag organic green trader joes 3 buck thing",
         "0",
         "great restaurant serve organic gluten free   wait   sat bar order organic salad   come mixed green small cucumber shred carrot \\\"add on\\ minuscule   dressing suppose olive oil garlic lemon juice   lemon taste   garlic   like \\\"burn mouth\\ garlic   mixed green \\\"old bad\\ section pull   cook serve green fresh   line expensive 15 tax tip huge portion organic veggie   buy bag organic green trader joes 3 buck thing"
        ]
       ],
       "shape": {
        "columns": 3,
        "rows": 15327
       }
      },
      "text/html": [
       "<div>\n",
       "<style scoped>\n",
       "    .dataframe tbody tr th:only-of-type {\n",
       "        vertical-align: middle;\n",
       "    }\n",
       "\n",
       "    .dataframe tbody tr th {\n",
       "        vertical-align: top;\n",
       "    }\n",
       "\n",
       "    .dataframe thead th {\n",
       "        text-align: right;\n",
       "    }\n",
       "</style>\n",
       "<table border=\"1\" class=\"dataframe\">\n",
       "  <thead>\n",
       "    <tr style=\"text-align: right;\">\n",
       "      <th></th>\n",
       "      <th>text</th>\n",
       "      <th>label</th>\n",
       "      <th>preprocess_text</th>\n",
       "    </tr>\n",
       "  </thead>\n",
       "  <tbody>\n",
       "    <tr>\n",
       "      <th>2982</th>\n",
       "      <td>anne reid toots peter vaughan pay apparently i...</td>\n",
       "      <td>0</td>\n",
       "      <td>anne reid toots peter vaughan pay apparently i...</td>\n",
       "    </tr>\n",
       "    <tr>\n",
       "      <th>20938</th>\n",
       "      <td>early breakfast strip nice locate good town wi...</td>\n",
       "      <td>1</td>\n",
       "      <td>early breakfast strip nice locate good town wi...</td>\n",
       "    </tr>\n",
       "    <tr>\n",
       "      <th>9936</th>\n",
       "      <td>come 4 day 3 night package deal incredibly aff...</td>\n",
       "      <td>1</td>\n",
       "      <td>come 4 day 3 night package deal incredibly aff...</td>\n",
       "    </tr>\n",
       "    <tr>\n",
       "      <th>43887</th>\n",
       "      <td>disappointed location deserve 2 star look revi...</td>\n",
       "      <td>0</td>\n",
       "      <td>disappointed location deserve 2 star look revi...</td>\n",
       "    </tr>\n",
       "    <tr>\n",
       "      <th>9413</th>\n",
       "      <td>overall enjoy visit living room sister law \\n\\...</td>\n",
       "      <td>1</td>\n",
       "      <td>overall enjoy visit living room sister law \\n\\...</td>\n",
       "    </tr>\n",
       "    <tr>\n",
       "      <th>...</th>\n",
       "      <td>...</td>\n",
       "      <td>...</td>\n",
       "      <td>...</td>\n",
       "    </tr>\n",
       "    <tr>\n",
       "      <th>31827</th>\n",
       "      <td>hear reuben place smoked meat.\\ni high expecta...</td>\n",
       "      <td>0</td>\n",
       "      <td>hear reuben place smoked meat.\\ni high expecta...</td>\n",
       "    </tr>\n",
       "    <tr>\n",
       "      <th>35058</th>\n",
       "      <td>food great order delivery establishment think ...</td>\n",
       "      <td>0</td>\n",
       "      <td>food great order delivery establishment think ...</td>\n",
       "    </tr>\n",
       "    <tr>\n",
       "      <th>17825</th>\n",
       "      <td>guest 8/20 8/22.\\nwill start say staff hate jo...</td>\n",
       "      <td>0</td>\n",
       "      <td>guest 8/20 8/22.\\nwill start say staff hate jo...</td>\n",
       "    </tr>\n",
       "    <tr>\n",
       "      <th>42176</th>\n",
       "      <td>make reservations:\\nit ambiguous challenge tak...</td>\n",
       "      <td>1</td>\n",
       "      <td>make reservations:\\nit ambiguous challenge tak...</td>\n",
       "    </tr>\n",
       "    <tr>\n",
       "      <th>45931</th>\n",
       "      <td>know airport strive friendly .... need share p...</td>\n",
       "      <td>0</td>\n",
       "      <td>know airport strive friendly .... need share p...</td>\n",
       "    </tr>\n",
       "  </tbody>\n",
       "</table>\n",
       "<p>15327 rows × 3 columns</p>\n",
       "</div>"
      ],
      "text/plain": [
       "                                                    text  label  \\\n",
       "2982   anne reid toots peter vaughan pay apparently i...      0   \n",
       "20938  early breakfast strip nice locate good town wi...      1   \n",
       "9936   come 4 day 3 night package deal incredibly aff...      1   \n",
       "43887  disappointed location deserve 2 star look revi...      0   \n",
       "9413   overall enjoy visit living room sister law \\n\\...      1   \n",
       "...                                                  ...    ...   \n",
       "31827  hear reuben place smoked meat.\\ni high expecta...      0   \n",
       "35058  food great order delivery establishment think ...      0   \n",
       "17825  guest 8/20 8/22.\\nwill start say staff hate jo...      0   \n",
       "42176  make reservations:\\nit ambiguous challenge tak...      1   \n",
       "45931  know airport strive friendly .... need share p...      0   \n",
       "\n",
       "                                         preprocess_text  \n",
       "2982   anne reid toots peter vaughan pay apparently i...  \n",
       "20938  early breakfast strip nice locate good town wi...  \n",
       "9936   come 4 day 3 night package deal incredibly aff...  \n",
       "43887  disappointed location deserve 2 star look revi...  \n",
       "9413   overall enjoy visit living room sister law \\n\\...  \n",
       "...                                                  ...  \n",
       "31827  hear reuben place smoked meat.\\ni high expecta...  \n",
       "35058  food great order delivery establishment think ...  \n",
       "17825  guest 8/20 8/22.\\nwill start say staff hate jo...  \n",
       "42176  make reservations:\\nit ambiguous challenge tak...  \n",
       "45931  know airport strive friendly .... need share p...  \n",
       "\n",
       "[15327 rows x 3 columns]"
      ]
     },
     "execution_count": 19,
     "metadata": {},
     "output_type": "execute_result"
    }
   ],
   "source": [
    "df_test"
   ]
  },
  {
   "cell_type": "code",
   "execution_count": null,
   "id": "6edf9ef1",
   "metadata": {},
   "outputs": [],
   "source": [
    "model_name = 'distilbert/distilbert-base-uncased'\n",
    "tokenizer = AutoTokenizer.from_pretrained(model_name)"
   ]
  },
  {
   "cell_type": "code",
   "execution_count": 21,
   "id": "6061d937",
   "metadata": {},
   "outputs": [
    {
     "data": {
      "application/vnd.jupyter.widget-view+json": {
       "model_id": "96daefa0616c49f1816e0cfed1803ce7",
       "version_major": 2,
       "version_minor": 0
      },
      "text/plain": [
       "Map:   0%|          | 0/35762 [00:00<?, ? examples/s]"
      ]
     },
     "metadata": {},
     "output_type": "display_data"
    },
    {
     "data": {
      "application/vnd.jupyter.widget-view+json": {
       "model_id": "38b788dd6fe040ddb296169f6f26297c",
       "version_major": 2,
       "version_minor": 0
      },
      "text/plain": [
       "Map:   0%|          | 0/15327 [00:00<?, ? examples/s]"
      ]
     },
     "metadata": {},
     "output_type": "display_data"
    }
   ],
   "source": [
    "# Convert DataFrames to Hugging Face Datasets\n",
    "train_dataset = Dataset.from_pandas(df_train[['text', 'label']])\n",
    "test_dataset = Dataset.from_pandas(df_test[['text', 'label']])\n",
    "\n",
    "# Adding short max length to lower training time\n",
    "def tokenize_function(examples):\n",
    "    return tokenizer(examples['text'], padding='max_length', truncation=True, max_length=512)\n",
    "\n",
    "tokenized_train_dataset = train_dataset.map(tokenize_function, batched=True)\n",
    "tokenized_test_dataset = test_dataset.map(tokenize_function, batched=True)"
   ]
  },
  {
   "cell_type": "code",
   "execution_count": 22,
   "id": "d01cf5b1",
   "metadata": {},
   "outputs": [
    {
     "name": "stdout",
     "output_type": "stream",
     "text": [
      "Using device: cuda\n"
     ]
    }
   ],
   "source": [
    "import torch\n",
    "if torch.cuda.is_available():\n",
    "    device = \"cuda\"\n",
    "elif torch.backends.mps.is_available():\n",
    "    device = \"mps\"\n",
    "else:\n",
    "    device = \"cpu\"\n",
    "print(\"Using device:\", device)"
   ]
  },
  {
   "cell_type": "code",
   "execution_count": null,
   "id": "218554ae",
   "metadata": {},
   "outputs": [
    {
     "name": "stderr",
     "output_type": "stream",
     "text": [
      "Some weights of BertForSequenceClassification were not initialized from the model checkpoint at google-bert/bert-base-uncased and are newly initialized: ['classifier.bias', 'classifier.weight']\n",
      "You should probably TRAIN this model on a down-stream task to be able to use it for predictions and inference.\n"
     ]
    }
   ],
   "source": [
    "model = AutoModelForSequenceClassification.from_pretrained(model_name, num_labels=2)\n",
    "\n",
    "lora_config = LoraConfig(\n",
    "    r=16,\n",
    "    lora_alpha=32,\n",
    "    target_modules=[\"query\", \"value\"],  # BERT uses query, key, value in attention\n",
    "    lora_dropout=0.1,\n",
    "    bias=\"all\",\n",
    "    task_type=TaskType.SEQ_CLS\n",
    ")\n",
    "\n",
    "training_args = TrainingArguments(\n",
    "    output_dir=\"./results/\" + model_name,\n",
    "    learning_rate=5e-5,\n",
    "    per_device_train_batch_size=32,\n",
    "    per_device_eval_batch_size=32,\n",
    "    gradient_accumulation_steps=1,\n",
    "    # gradient_checkpointing=True,\n",
    "    num_train_epochs=3,\n",
    "    dataloader_num_workers=5,\n",
    "    logging_steps=100,\n",
    "    optim=\"adamw_torch\",\n",
    "    # weight_decay=0.01,\n",
    "    adam_beta1=0.9,\n",
    "    adam_beta2=0.999,\n",
    "    adam_epsilon=1e-8,\n",
    ")\n",
    "\"\"\"\n",
    "model = get_peft_model(model, lora_config)\n",
    "model = model.to(device)\n",
    "\n",
    "for name, param in model.named_parameters():\n",
    "    if \"classifier\" in name:\n",
    "        param.requires_grad = True\n",
    "\"\"\""
   ]
  },
  {
   "cell_type": "code",
   "execution_count": 24,
   "id": "c04d8ffe",
   "metadata": {},
   "outputs": [],
   "source": [
    "# Define a compute metrics function\n",
    "def compute_metrics(p):\n",
    "    preds = p.predictions.argmax(-1)\n",
    "    accuracy = accuracy_score(p.label_ids, preds)\n",
    "    return {'accuracy': accuracy}"
   ]
  },
  {
   "cell_type": "code",
   "execution_count": 25,
   "id": "32a4c332",
   "metadata": {},
   "outputs": [],
   "source": [
    "from transformers import TrainerCallback\n",
    "\n",
    "class LossAccuracyLogger(TrainerCallback):\n",
    "    def __init__(self):\n",
    "        self.train_loss = []\n",
    "        self.eval_accuracy = []\n",
    "\n",
    "    def on_log(self, args, state, control, logs=None, **kwargs):\n",
    "        if logs is not None:\n",
    "            if \"loss\" in logs:\n",
    "                self.train_loss.append((state.epoch, logs[\"loss\"]))\n",
    "            if \"eval_accuracy\" in logs:\n",
    "                self.eval_accuracy.append((state.epoch, logs[\"eval_accuracy\"]))\n"
   ]
  },
  {
   "cell_type": "code",
   "execution_count": 26,
   "id": "2b3af93c",
   "metadata": {},
   "outputs": [
    {
     "name": "stderr",
     "output_type": "stream",
     "text": [
      "No label_names provided for model class `PeftModelForSequenceClassification`. Since `PeftModel` hides base models input arguments, if label_names is not given, label_names can't be set automatically within `Trainer`. Note that empty label_names list will be used instead.\n"
     ]
    }
   ],
   "source": [
    "logger_callback = LossAccuracyLogger()\n",
    "\n",
    "trainer = Trainer(\n",
    "    model=model,\n",
    "    args=training_args,\n",
    "    train_dataset=tokenized_train_dataset,\n",
    "    eval_dataset=tokenized_test_dataset,\n",
    "    compute_metrics=compute_metrics,\n",
    "    callbacks=[logger_callback]\n",
    ")"
   ]
  },
  {
   "cell_type": "code",
   "execution_count": 27,
   "id": "08c68391",
   "metadata": {},
   "outputs": [
    {
     "data": {
      "text/html": [
       "\n",
       "    <div>\n",
       "      \n",
       "      <progress value='3354' max='3354' style='width:300px; height:20px; vertical-align: middle;'></progress>\n",
       "      [3354/3354 33:03, Epoch 3/3]\n",
       "    </div>\n",
       "    <table border=\"1\" class=\"dataframe\">\n",
       "  <thead>\n",
       " <tr style=\"text-align: left;\">\n",
       "      <th>Step</th>\n",
       "      <th>Training Loss</th>\n",
       "    </tr>\n",
       "  </thead>\n",
       "  <tbody>\n",
       "    <tr>\n",
       "      <td>100</td>\n",
       "      <td>0.846900</td>\n",
       "    </tr>\n",
       "    <tr>\n",
       "      <td>200</td>\n",
       "      <td>0.704600</td>\n",
       "    </tr>\n",
       "    <tr>\n",
       "      <td>300</td>\n",
       "      <td>0.699100</td>\n",
       "    </tr>\n",
       "    <tr>\n",
       "      <td>400</td>\n",
       "      <td>0.698100</td>\n",
       "    </tr>\n",
       "    <tr>\n",
       "      <td>500</td>\n",
       "      <td>0.700700</td>\n",
       "    </tr>\n",
       "    <tr>\n",
       "      <td>600</td>\n",
       "      <td>0.688800</td>\n",
       "    </tr>\n",
       "    <tr>\n",
       "      <td>700</td>\n",
       "      <td>0.687400</td>\n",
       "    </tr>\n",
       "    <tr>\n",
       "      <td>800</td>\n",
       "      <td>0.671500</td>\n",
       "    </tr>\n",
       "    <tr>\n",
       "      <td>900</td>\n",
       "      <td>0.666400</td>\n",
       "    </tr>\n",
       "    <tr>\n",
       "      <td>1000</td>\n",
       "      <td>0.647600</td>\n",
       "    </tr>\n",
       "    <tr>\n",
       "      <td>1100</td>\n",
       "      <td>0.640300</td>\n",
       "    </tr>\n",
       "    <tr>\n",
       "      <td>1200</td>\n",
       "      <td>0.640700</td>\n",
       "    </tr>\n",
       "    <tr>\n",
       "      <td>1300</td>\n",
       "      <td>0.626200</td>\n",
       "    </tr>\n",
       "    <tr>\n",
       "      <td>1400</td>\n",
       "      <td>0.618700</td>\n",
       "    </tr>\n",
       "    <tr>\n",
       "      <td>1500</td>\n",
       "      <td>0.620300</td>\n",
       "    </tr>\n",
       "    <tr>\n",
       "      <td>1600</td>\n",
       "      <td>0.613200</td>\n",
       "    </tr>\n",
       "    <tr>\n",
       "      <td>1700</td>\n",
       "      <td>0.608100</td>\n",
       "    </tr>\n",
       "    <tr>\n",
       "      <td>1800</td>\n",
       "      <td>0.615000</td>\n",
       "    </tr>\n",
       "    <tr>\n",
       "      <td>1900</td>\n",
       "      <td>0.602300</td>\n",
       "    </tr>\n",
       "    <tr>\n",
       "      <td>2000</td>\n",
       "      <td>0.620100</td>\n",
       "    </tr>\n",
       "    <tr>\n",
       "      <td>2100</td>\n",
       "      <td>0.613700</td>\n",
       "    </tr>\n",
       "    <tr>\n",
       "      <td>2200</td>\n",
       "      <td>0.598500</td>\n",
       "    </tr>\n",
       "    <tr>\n",
       "      <td>2300</td>\n",
       "      <td>0.601500</td>\n",
       "    </tr>\n",
       "    <tr>\n",
       "      <td>2400</td>\n",
       "      <td>0.592400</td>\n",
       "    </tr>\n",
       "    <tr>\n",
       "      <td>2500</td>\n",
       "      <td>0.596200</td>\n",
       "    </tr>\n",
       "    <tr>\n",
       "      <td>2600</td>\n",
       "      <td>0.603500</td>\n",
       "    </tr>\n",
       "    <tr>\n",
       "      <td>2700</td>\n",
       "      <td>0.599300</td>\n",
       "    </tr>\n",
       "    <tr>\n",
       "      <td>2800</td>\n",
       "      <td>0.584000</td>\n",
       "    </tr>\n",
       "    <tr>\n",
       "      <td>2900</td>\n",
       "      <td>0.590500</td>\n",
       "    </tr>\n",
       "    <tr>\n",
       "      <td>3000</td>\n",
       "      <td>0.576200</td>\n",
       "    </tr>\n",
       "    <tr>\n",
       "      <td>3100</td>\n",
       "      <td>0.584200</td>\n",
       "    </tr>\n",
       "    <tr>\n",
       "      <td>3200</td>\n",
       "      <td>0.598600</td>\n",
       "    </tr>\n",
       "    <tr>\n",
       "      <td>3300</td>\n",
       "      <td>0.582700</td>\n",
       "    </tr>\n",
       "  </tbody>\n",
       "</table><p>"
      ],
      "text/plain": [
       "<IPython.core.display.HTML object>"
      ]
     },
     "metadata": {},
     "output_type": "display_data"
    },
    {
     "data": {
      "text/plain": [
       "TrainOutput(global_step=3354, training_loss=0.6335549306215527, metrics={'train_runtime': 1998.5125, 'train_samples_per_second': 53.683, 'train_steps_per_second': 1.678, 'total_flos': 2.842354220414976e+16, 'train_loss': 0.6335549306215527, 'epoch': 3.0})"
      ]
     },
     "execution_count": 27,
     "metadata": {},
     "output_type": "execute_result"
    }
   ],
   "source": [
    "# Train the model\n",
    "trainer.train()"
   ]
  },
  {
   "cell_type": "code",
   "execution_count": 28,
   "id": "61fb12e9",
   "metadata": {},
   "outputs": [],
   "source": [
    "trainer.save_model(\"./results/\" + model_name + \"v1\")"
   ]
  },
  {
   "cell_type": "code",
   "execution_count": 29,
   "id": "16584683",
   "metadata": {},
   "outputs": [
    {
     "data": {
      "text/html": [
       "\n",
       "    <div>\n",
       "      \n",
       "      <progress value='479' max='479' style='width:300px; height:20px; vertical-align: middle;'></progress>\n",
       "      [479/479 01:52]\n",
       "    </div>\n",
       "    "
      ],
      "text/plain": [
       "<IPython.core.display.HTML object>"
      ]
     },
     "metadata": {},
     "output_type": "display_data"
    },
    {
     "name": "stdout",
     "output_type": "stream",
     "text": [
      "{'eval_loss': 0.575351357460022, 'eval_accuracy': 0.6996150583936843, 'eval_runtime': 126.321, 'eval_samples_per_second': 121.334, 'eval_steps_per_second': 3.792, 'epoch': 3.0}\n"
     ]
    },
    {
     "data": {
      "image/png": "[encoded data removed]",
      "text/plain": [
       "<Figure size 1000x500 with 1 Axes>"
      ]
     },
     "metadata": {},
     "output_type": "display_data"
    }
   ],
   "source": [
    "# Evaluate the model\n",
    "results = trainer.evaluate()\n",
    "print(results)\n",
    "\n",
    "import matplotlib.pyplot as plt\n",
    "\n",
    "# Unpack the epoch and values\n",
    "train_epochs, train_losses = zip(*logger_callback.train_loss)\n",
    "eval_epochs, eval_accuracies = zip(*logger_callback.eval_accuracy)\n",
    "\n",
    "# Plot training loss\n",
    "plt.figure(figsize=(10, 5))\n",
    "plt.plot(train_epochs, train_losses, marker='o')\n",
    "plt.title(\"Training Loss per Epoch\")\n",
    "plt.xlabel(\"Epoch\")\n",
    "plt.ylabel(\"Loss\")\n",
    "\n",
    "plt.tight_layout()\n",
    "plt.show()"
   ]
  },
  {
   "cell_type": "code",
   "execution_count": null,
   "id": "1bf2eae8",
   "metadata": {},
   "outputs": [
    {
     "name": "stderr",
     "output_type": "stream",
     "text": [
      "Device set to use cuda:0\n"
     ]
    },
    {
     "data": {
      "text/plain": [
       "[{'label': 1, 'score': 0.7482501864433289}]"
      ]
     },
     "execution_count": 1,
     "metadata": {},
     "output_type": "execute_result"
    }
   ],
   "source": [
    "from transformer.BERT import BertPrediction\n",
    "\n",
    "model = BertPrediction(version=\"0.2\")\n",
    "model.predict(\"I didn't like the service especially the food. I hate it so much\")\n"
   ]
  }
 ],
 "metadata": {
  "kernelspec": {
   "display_name": ".venv",
   "language": "python",
   "name": "python3"
  },
  "language_info": {
   "codemirror_mode": {
    "name": "ipython",
    "version": 3
   },
   "file_extension": ".py",
   "mimetype": "text/x-python",
   "name": "python",
   "nbconvert_exporter": "python",
   "pygments_lexer": "ipython3",
   "version": "3.12.4"
  }
 },
 "nbformat": 4,
 "nbformat_minor": 5
}
