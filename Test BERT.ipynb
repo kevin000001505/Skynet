{
 "cells": [
  {
   "cell_type": "code",
   "execution_count": 1,
   "id": "8648d378",
   "metadata": {},
   "outputs": [],
   "source": [
    "import pandas as pd\n",
    "from transformers import AutoTokenizer, AutoModelForSequenceClassification, Trainer, TrainingArguments\n",
    "from datasets import Dataset\n",
    "from sklearn.metrics import accuracy_score\n",
    "from sklearn.model_selection import train_test_split\n",
    "from peft import get_peft_model, LoraConfig, TaskType"
   ]
  },
  {
   "cell_type": "code",
   "execution_count": 15,
   "id": "ee5848c7",
   "metadata": {},
   "outputs": [
    {
     "data": {
      "application/vnd.microsoft.datawrangler.viewer.v0+json": {
       "columns": [
        {
         "name": "index",
         "rawType": "int64",
         "type": "integer"
        },
        {
         "name": "text",
         "rawType": "object",
         "type": "string"
        },
        {
         "name": "label",
         "rawType": "int64",
         "type": "integer"
        },
        {
         "name": "preprocess_text",
         "rawType": "object",
         "type": "string"
        }
       ],
       "conversionMethod": "pd.DataFrame",
       "ref": "58b76b4e-4964-47cd-b0fc-86b1963c5021",
       "rows": [
        [
         "0",
         "One of the other reviewers has mentioned that after watching just 1 Oz episode you'll be hooked. They are right, as this is exactly what happened with me.<br /><br />The first thing that struck me about Oz was its brutality and unflinching scenes of violence, which set in right from the word GO. Trust me, this is not a show for the faint hearted or timid. This show pulls no punches with regards to drugs, sex or violence. Its is hardcore, in the classic use of the word.<br /><br />It is called OZ as that is the nickname given to the Oswald Maximum Security State Penitentary. It focuses mainly on Emerald City, an experimental section of the prison where all the cells have glass fronts and face inwards, so privacy is not high on the agenda. Em City is home to many..Aryans, Muslims, gangstas, Latinos, Christians, Italians, Irish and more....so scuffles, death stares, dodgy dealings and shady agreements are never far away.<br /><br />I would say the main appeal of the show is due to the fact that it goes where other shows wouldn't dare. Forget pretty pictures painted for mainstream audiences, forget charm, forget romance...OZ doesn't mess around. The first episode I ever saw struck me as so nasty it was surreal, I couldn't say I was ready for it, but as I watched more, I developed a taste for Oz, and got accustomed to the high levels of graphic violence. Not just violence, but injustice (crooked guards who'll be sold out for a nickel, inmates who'll kill on order and get away with it, well mannered, middle class inmates being turned into prison bitches due to their lack of street skills or prison experience) Watching Oz, you may become comfortable with what is uncomfortable viewing....thats if you can get in touch with your darker side.",
         "1",
         "reviewer mention watch 1 oz episode hook right exactly happen me.<br /><br />the thing strike oz brutality unflinche scene violence set right word trust faint hearted timid pull punch regard drug sex violence hardcore classic use word.<br /><br />it call oz nickname give oswald maximum security state penitentary focus mainly emerald city experimental section prison cell glass front face inward privacy high agenda em city home .. aryans muslims gangsta latinos christians italians irish .... scuffle death stare dodgy dealing shady agreement far away.<br /><br />i main appeal fact go show dare forget pretty picture paint mainstream audience forget charm forget romance ... oz mess episode see strike nasty surreal ready watch develop taste oz get accustom high level graphic violence violence injustice crooked guard sell nickel inmate kill order away mannered middle class inmate turn prison bitch lack street skill prison experience watch oz comfortable uncomfortable view .... that touch dark"
        ],
        [
         "1",
         "I sure would like to see a resurrection of a up dated Seahunt series with the tech they have today it would bring back the kid excitement in me.I grew up on black and white TV and Seahunt with Gunsmoke were my hero's every week.You have my vote for a comeback of a new sea hunt.We need a change of pace in TV and this would work for a world of under water adventure.Oh by the way thank you for an outlet like this to view many viewpoints about TV and the many movies.So any ole way I believe I've got what I wanna say.Would be nice to read some more plus points about sea hunt.If my rhymes would be 10 lines would you let me submit,or leave me out to be in doubt and have me to quit,If this is so then I must go so lets do it.",
         "1",
         "sure like resurrection date seahunt series tech today bring kid excitement grow black white tv seahunt gunsmoke hero week vote comeback new sea hunt need change pace tv work world water adventure oh way thank outlet like view viewpoint tv movie ole way believe get wanna nice read plus point sea hunt rhyme 10 line let submit leave doubt quit let"
        ],
        [
         "2",
         "This show was an amazing, fresh & innovative idea in the 70's when it first aired. The first 7 or 8 years were brilliant, but things dropped off after that. By 1990, the show was not really funny anymore, and it's continued its decline further to the complete waste of time it is today.<br /><br />It's truly disgraceful how far this show has fallen. The writing is painfully bad, the performances are almost as bad - if not for the mildly entertaining respite of the guest-hosts, this show probably wouldn't still be on the air. I find it so hard to believe that the same creator that hand-selected the original cast also chose the band of hacks that followed. How can one recognize such brilliance and then see fit to replace it with such mediocrity? I felt I must give 2 stars out of respect for the original cast that made this show such a huge success. As it is now, the show is just awful. I can't believe it's still on the air.",
         "0",
         "amazing fresh innovative idea 70 air 7 8 year brilliant thing drop 1990 funny anymore continue decline complete waste time today.<br /><br />it truly disgraceful far fall writing painfully bad performance bad mildly entertaining respite guest host probably air find hard believe creator hand select original cast choose band hack follow recognize brilliance fit replace mediocrity feel 2 star respect original cast huge success awful believe air"
        ],
        [
         "3",
         "This a fantastic movie of three prisoners who become famous. One of the actors is george clooney and I'm not a fan but this roll is not bad. Another good thing about the movie is the soundtrack (The man of constant sorrow). I recommand this movie to everybody. Greetings Bart",
         "1",
         "fantastic movie prisoner famous actor george clooney fan roll bad good thing movie soundtrack man constant sorrow recommand movie everybody greeting bart"
        ],
        [
         "4",
         "\"Ardh Satya\" is one of the finest film ever made in Indian Cinema. Directed by the great director Govind Nihalani, this one is the most successful Hard Hitting Parallel Cinema which also turned out to be a Commercial Success. Even today, Ardh Satya is an inspiration for all leading directors of India.<br /><br />The film tells the Real-life Scenario of Mumbai Police of the 70s. Unlike any Police of other cities in India, Mumbai Police encompasses a Different system altogether. Govind Nihalani creates a very practical Outlay with real life approach of Mumbai Police Environment.<br /><br />Amongst various Police officers & colleagues, the film describes the story of Anand Velankar, a young hot-blooded Cop coming from a poor family. His father is a harsh Police Constable. Anand himself suffers from his father's ideologies & incidences of his father's Atrocities on his mother. Anand's approach towards immediate action against crime, is an inert craving for his own Job satisfaction. The film is here revolved in a Plot wherein Anand's constant efforts against crime are trampled by his seniors.This leads to frustrations, as he cannot achieve the desired Job-satisfaction. Resulting from the frustrations, his anger is expressed in excessive violence in the remand rooms & bars, also turning him to an alcoholic.<br /><br />The Spirit within him is still alive, as he constantly fights the system. He is aware of the system of the Metro, where the Police & Politicians are a inertly associated by far end. His compromise towards unethical practice is negative. Finally he gets suspended.<br /><br />The Direction is a master piece & thoroughly hard core. One of the best memorable scenes is when Anand breaks in the Underworld gangster Rama Shetty's house to arrest him, followed by short conversation which is fantastic. At many scenes, the film has Hair-raising moments.<br /><br />The Practical approach of Script is a major Punch. Alcoholism, Corruption, Political Influence, Courage, Deceptions all are integral part of Mumbai police even today. Those aspects are dealt brilliantly.<br /><br />Finally, the films belongs to the One man show, Om Puri portraying Anand Velankar traversing through all his emotions absolutely brilliantly.",
         "1",
         "ardh satya fine film indian cinema direct great director govind nihalani successful hard hitting parallel cinema turn commercial success today ardh satya inspiration lead director india.<br /><br />the film tell real life scenario mumbai police 70 unlike police city india mumbai police encompass different system altogether govind nihalani create practical outlay real life approach mumbai police environment.<br /><br />amongst police officer colleague film describe story anand velankar young hot blooded cop come poor family father harsh police constable anand suffer father ideology incidence father atrocity mother anand approach immediate action crime inert craving job satisfaction film revolve plot anand constant effort crime trample senior lead frustration achieve desire job satisfaction result frustration anger express excessive violence remand room bar turn alcoholic.<br /><br />the spirit alive constantly fight system aware system metro police politicians inertly associate far end compromise unethical practice negative finally get suspended.<br /><br />the direction master piece thoroughly hard core well memorable scene anand break underworld gangster rama shetty house arrest follow short conversation fantastic scene film hair raise moments.<br /><br />the practical approach script major punch alcoholism corruption political influence courage deception integral mumbai police today aspect deal brilliantly.<br /><br />finally film belong man om puri portray anand velankar traverse emotion absolutely brilliantly"
        ],
        [
         "5",
         "My first exposure to the Templarios & not a good one. I was excited to find this title among the offerings from Anchor Bay Video, which has brought us other cult classics such as \"Spider Baby\". The print quality is excellent, but this alone can't hide the fact that the film is deadly dull. There's a thrilling opening sequence in which the villagers exact a terrible revenge on the Templars (& set the whole thing in motion), but everything else in the movie is slow, ponderous &, ultimately, unfulfilling. Adding insult to injury: the movie was dubbed, not subtitled, as promised on the video jacket.",
         "0",
         "exposure templarios good excited find title offering anchor bay video bring cult classic spider baby print quality excellent hide fact film deadly dull thrilling opening sequence villager exact terrible revenge templars set thing motion movie slow ponderous ultimately unfulfilling add insult injury movie dub subtitle promise video jacket"
        ],
        [
         "6",
         "Bela Lugosi appeared in several of these low budget chillers for Monogram Studios in the 1940's and The Corpse Vanishes is one of the better ones.<br /><br />Bela plays a mad scientist who kidnaps young brides and kills them and then extracts fluid from their bodies so he can keep his ageing wife looking young. After a reporter and a doctor stay the night at his home and discover he is responsible for the brides' deaths, the following morning they report these murders to the police and the mad scientist is shot and drops dead shortly afterwards.<br /><br />You have got almost everything in this movie: the scientist's assistants consist of an old hag, a hunchback and dwarf (her sons), a thunderstorm and spooky passages in Bela's house. Bela and his wife find they sleep better in coffins rather than beds in the movie.<br /><br />The Corpse Vanishes is worth a look, especially for Bela Lugosi fans. Great fun.<br /><br />Rating: 3 stars out of 5.",
         "1",
         "bela lugosi appear low budget chiller monogram studios 1940 corpse vanishes well ones.<br /><br />bela play mad scientist kidnap young bride kill extract fluid body age wife look young reporter doctor stay night home discover responsible bride death follow morning report murder police mad scientist shoot drop dead shortly afterwards.<br /><br />you get movie scientist assistant consist old hag hunchback dwarf son thunderstorm spooky passage bela house bela wife find sleep well coffin bed movie.<br /><br />the corpse vanishes worth look especially bela lugosi fan great fun.<br /><br />rating 3 star 5"
        ],
        [
         "7",
         "I cannot believe I enjoyed this as much as I did. The anthology stories were better than par, but the linking story and its surprise ending hooked me. Alot of familiar faces will keep you asking yourself \"where I have I seen them before?\" Forget the running time listed on New Line's tape, this ain't no 103 minutes, according to my VCR timer and IMDB. Space Maggot douses the campfire in his own special way and hikes this an 8.",
         "1",
         "believe enjoy anthology story well par link story surprise end hook alot familiar face ask see forget running time list new line tape be 103 minute accord vcr timer imdb space maggot douse campfire special way hike 8"
        ],
        [
         "8",
         "The 33 percent of the nations nitwits that still support W. Bush would do well to see this movie, which shows the aftermath of the French revolution and the terror of 1794 as strikingly similar to the post 9/11 socio-political landscape. Maybe then they could stop worrying about saving face and take the a**-whupping they deserve. It's really a shame that when a politician ruins the country, those who voted for him can't be denied the right to ever vote again. They've clearly shown they have no sense of character.<br /><br />What really stands out in this movie is the ambiguity of a character as hopelessly doctrinaire as Robespierre; a haunted empty man who simplistic reductive ideology can't help him elucidate the boundaries between safety and totalitarianism. Execution and murder. Self-defense and patriotism. His legalistic litmus tests aggravate the hopeless situation he's helped create. Sound like any belligerent, overprivileged, retarded Yale cheerleaders you know of? <br /><br />Wojciech Pszoniak blows the slovenly Deparidieu off the screen. As sympathetic as Robespierres plight is, it's comforting to know that shortly after the film ends he'll have his jaw shot off and be sent to the guillotine.",
         "0",
         "33 percent nation nitwit support w. bush movie show aftermath french revolution terror 1794 strikingly similar post 9/11 socio political landscape maybe stop worry save face a**-whupping deserve shame politician ruin country vote deny right vote clearly show sense character.<br /><br />what stand movie ambiguity character hopelessly doctrinaire robespierre haunted man simplistic reductive ideology help elucidate boundary safety totalitarianism execution murder self defense patriotism legalistic litmus test aggravate hopeless situation help create sound like belligerent overprivilege retarded yale cheerleader know br /><br />wojciech pszoniak blow slovenly deparidieu screen sympathetic robespierres plight comfort know shortly film end jaw shot send guillotine"
        ],
        [
         "9",
         "NO SPOILERS!!<br /><br />After Hitchcock's successful first American film, Rebecca based upon Daphne DuMarier's lush novel of gothic romance and intrigue, he returned to some of the more familiar themes of his early British period - mistaken identity and espionage. As the U.S. settled into World War II and the large scale 'war effort' of civilians building planes, weaponry and other necessary militia, the booming film entertainment business began turning out paranoid and often jingoistic thrillers with war time themes. These thrillers often involved networks of deceptive and skilled operators at work in the shadows among the good, law abiding citizens. Knowing the director was at home in this espionage genre, producer Jack Skirball approached Hitchcock about directing a property he owned that dealt with corruption, war-time sabotage and a helpless hero thrust into a vortex of coincidence and mistaken identity. The darker elements of the narrative and the sharp wit of literary maven Dorothy Parker (during her brief stint in Hollywood before returning to her bohemian roots in NYC) who co-authored the script were a perfect match for Hitchcock's sensibilities.<br /><br />This often neglected film tells the story of the unfortunate 25 year old Barry Kane (Robert Cummings) who, while at work at a Los Angeles Airplane Factory, meets new employee Frank Frye (Norman Lloydd) and moments later is framed for committing sabotage. Fleeing the authorities who don't believe his far-fetched story he meets several characters on his way to Soda City Utah and finally New York City. These memorable characters include a circus caravan with a car full of helpful 'freaks' and a popular billboard model Patricia Martin (Priscilla Lane) who, during the worst crisis of his life as well as national security, he falls madly in love with! Of course in the land of Hitchcock, Patricia, kidnapped by the supposed saboteur Barry, falls for her captor thus adding romantic tension to the mix.<br /><br />In good form for this outing, Hitchcock brews a national network of demure old ladies, average Joes, and respectable businessmen who double as secret agent terrorists that harbor criminals, pull guns and detonate bombs to keep things moving. It's a terrific plot that takes its time moving forward and once ignited, culminates in one of Hitchcock's more memorable finales. Look for incredibly life like NYC tourist attractions (all of which were recreated by art directors in Hollywood due to the war-time 'shooting ban' on public attractions). While Saboteur may not be one of Hitchcock's most well known films, it's a popular b-movie that is certainly solid and engaging with plenty of clever plot twists and as usual - terrific Hitchcock villains. Remember to look for Hitchcock's cameo appearance outside a drug store in the second half of the film. Hitchcock's original cameo idea that was shot (him fighting in sign language with his 'deaf' wife) was axed by the Bureau of Standards and Practices who were afraid of offending the deaf!",
         "1",
         "spoilers!!<br /><br />after hitchcock successful american film rebecca base daphne dumarier lush novel gothic romance intrigue return familiar theme early british period mistaken identity espionage u.s. settle world war ii large scale war effort civilian build plane weaponry necessary militia booming film entertainment business begin turn paranoid jingoistic thriller war time theme thriller involve network deceptive skilled operator work shadow good law abide citizen know director home espionage genre producer jack skirball approach hitchcock direct property own deal corruption war time sabotage helpless hero thrust vortex coincidence mistaken identity dark element narrative sharp wit literary maven dorothy parker brief stint hollywood return bohemian root nyc co author script perfect match hitchcock sensibilities.<br /><br />this neglect film tell story unfortunate 25 year old barry kane robert cummings work los angeles airplane factory meet new employee frank frye norman lloydd moment later frame commit sabotage flee authority believe far fetched story meet character way soda city utah finally new york city memorable character include circus caravan car helpful freak popular billboard model patricia martin priscilla lane bad crisis life national security fall madly love course land hitchcock patricia kidnap suppose saboteur barry fall captor add romantic tension mix.<br /><br />in good form outing hitchcock brew national network demure old lady average joes respectable businessman double secret agent terrorist harbor criminal pull gun detonate bomb thing move terrific plot take time move forward ignite culminate hitchcock memorable finale look incredibly life like nyc tourist attraction recreate art director hollywood war time shooting ban public attraction saboteur hitchcock know film popular b movie certainly solid engage plenty clever plot twist usual terrific hitchcock villain remember look hitchcock cameo appearance outside drug store second half film hitchcock original cameo idea shoot fight sign language deaf wife axe bureau standards practices afraid offend deaf"
        ],
        [
         "10",
         "This short film that inspired the soon-to-be full length feature - Spatula Madness - is a hilarious piece that contends against similar cartoons yielding multiple writers. The short film stars Edward the Spatula who after being fired from his job, joins in the fight against the evil spoons. This premise allows for some funny content near the beginning, but is barely present for the remainder of the feature. This film's 15-minute running time is absorbed by some odd-ball comedy and a small musical number. Unfortunately not much else lies below it. The plot that is set up doesn't really have time to show. But it's surely follows it plot better than many high-budget Hollywood films. This film is worth watching at least a few times. Take it for what it is, and don't expect a deep story.",
         "1",
         "short film inspire soon length feature spatula madness hilarious piece contend similar cartoon yield multiple writer short film star edward spatula fire job join fight evil spoon premise allow funny content near beginning barely present remainder feature film 15 minute running time absorb odd ball comedy small musical number unfortunately lie plot set time surely follow plot well high budget hollywood film film worth watch time expect deep story"
        ],
        [
         "11",
         "It's terrific when a funny movie doesn't make smile you. What a pity!! This film is very boring and so long. It's simply painfull. The story is staggering without goal and no fun.<br /><br />You feel better when it's finished.",
         "0",
         "terrific funny movie smile pity film boring long simply painfull story staggering goal fun.<br /><br />you feel well finish"
        ],
        [
         "12",
         "\"A bored television director is introduced to the black arts and astral projection by his girlfriend. Learning the ability to separate his spirit from his body, the man finds a renewed interest in his life and a sense of wellbeing. Unfortunately, the man discovers while he is sleeping, his spirit leaves his body and his uncontrolled body roams the streets in a murderous rampage,\" according to the DVD sleeve's synopsis.<br /><br />The synopsis isn't entirely correct, as it turns out.<br /><br />Anyway, the movie opens with a dizzying \"out-of-body\" example of handsome director Winston Rekert (as Paul Sharpe)'s newly discovered \"astral body\" experience; it also foreshadows an upcoming dogfight. Young Andrew Bednarski (as Matthew Sharpe), being a kid, draws pictures of \"The Blue Man\", as his murder spree begins. Handsome detective John Novak (as Stewart Kaufman) discovers the victims are connected to Mr. Rekert. Mr. Novak's investigation leads to the supernatural; a prime example of which is Karen Black (as Janus), with whom Rekert fears he is falling in love.<br /><br />Several in the cast perform well; but, \"The Blue Man\" winds up tying itself up in a knot. Aka \"Eternal Evil\", its unsatisfying story tries to be far too clever for its own good.",
         "0",
         "bored television director introduce black art astral projection girlfriend learn ability separate spirit body man find renew interest life sense wellbee unfortunately man discover sleep spirit leave body uncontrolled body roam street murderous rampage accord dvd sleeve synopsis.<br /><br />the synopsis entirely correct turn out.<br /><br />anyway movie open dizzying body example handsome director winston rekert paul sharpe newly discover astral body experience foreshadow upcoming dogfight young andrew bednarski matthew sharpe kid draw picture blue man murder spree begin handsome detective john novak stewart kaufman discover victim connect mr. rekert mr. novak investigation lead supernatural prime example karen black janus rekert fear fall love.<br /><br />several cast perform blue man wind tie knot aka eternal evil unsatisfying story try far clever good"
        ],
        [
         "13",
         "I remember seeing this film in the mid 80's thought it a well paced and well acted piece. I now work quite often in Berkeley Square and the had to get a copy of DVD to remind myself how little the area has changed, although my office is newish it just 30 seconds away from \"the bank\". Even Jack Barclays car dealership is still there selling Bentleys and Rolls Royces.<br /><br />It's look like the DVD is due a Region 2 release soon. The region 1 copy I is very poor quality. Let's hope they've cleaned it up.<br /><br />Only the slightly dodgy escape sequence from the court spoils what would otherwise be a great film but I guess is in line with the caper tag the film goes with.",
         "1",
         "remember see film mid 80 think paced act piece work berkeley square copy dvd remind little area change office newish 30 second away bank jack barclays car dealership sell bentleys rolls royces.<br /><br />it look like dvd region 2 release soon region 1 copy poor quality let hope clean up.<br /><br />only slightly dodgy escape sequence court spoil great film guess line caper tag film go"
        ],
        [
         "14",
         "This cute animated short features two comic icons - Betty Boop and Henry.<br /><br />Henry is the bald, slightly portly boy from the comics who never speaks.<br /><br />Well here he does speak!<br /><br />He wants to get a puppy from Betty Boop's pet store, and when he is left to mind the store - some hilarious hijinks ensue.<br /><br />Betty sings a song about pets, Henry gets in a battle with birds and a monkey, but everything works out in the end.",
         "1",
         "cute animate short feature comic icon betty boop henry.<br /><br />henry bald slightly portly boy comic_strip speaks.<br /><br />well speak!<br /><br />he want puppy betty boop pet store leave mind store hilarious hijink ensue.<br /><br />betty sing song pet henry get battle bird monkey work end"
        ],
        [
         "15",
         "This movie was not very well directed. they almost totally disregarded the book.I guess they were trying 2 save time. the only upside 2 me was that the actor who played finny was cute. Some of the dialog between the main characters appeared a little gay which was not the case in the book. Major parts of the book were once again chopped out.You lost the over all effect it was not as haunting as the book and left me lacking severely. Also the strong language although it was brief was very unnecessary. Also i was surprised ( not pleasantly) by a new character that was no where in the book.One of my favorite characters (leper) was poorly interpreted and portrayed. He seemed more sinister in the movie than the real leper was in the book. Over all disappointing.",
         "0",
         "movie direct totally disregard book guess try 2 save time upside 2 actor play finny cute dialog main character appear little gay case book major part book chop lose effect haunt book leave lack severely strong language brief unnecessary surprised pleasantly new character book favorite character leper poorly interpret portray sinister movie real leper book disappointing"
        ],
        [
         "16",
         "The story is very trustworthy and powerful. The technical side of the movie is quite fine.. even the directing of it. The main problem is with the castings, that turned that movie into almost another local and regular cliché with a great lack of impact and even greater lack of impression. Beside the small role of the father, Rafael (played impressively by Asi Dayan), all other actors were unfortunately not in their best. The role of the elder Blind girl, played by Taly Sharon, was fresh but without any intensity as the leading role. therefore the figure she acted had become mild and low profile. There were moments and episodes that looked more like a rehearsal then a real movie. But after all it's a good point to begin from and to make big improvements in the future.",
         "0",
         "story trustworthy powerful technical movie fine .. directing main problem casting turn movie local regular cliché great lack impact great lack impression small role father rafael play impressively asi dayan actor unfortunately good role eld blind girl play taly sharon fresh intensity lead role figure act mild low profile moment episode look like rehearsal real movie good point begin big improvement future"
        ],
        [
         "17",
         "Originally I was a Tenacious D fan of their first album and naturally listened to a few tracks off The P.O.D. and was rather disappointed. After watching the movie, my view was changed. The movie is pretty funny from beginning to the end and found my self engaged in it even though it was really was a stupid storyline because of the attitudes that KG and Jaybles portray in the movie. <br /><br />Much more entertaining and enjoyable than movies I have seen in the theaters lately. ex. Saw III (dull and dragging), Casino Royale (way to homo-erotic) which in prior installments I have really enjoyed <br /><br />If you enjoyed Borat, you will enjoy the tale of The Greatest Band on Earth",
         "1",
         "originally tenacious d fan album naturally listen track p.o.d. disappointed watch movie view change movie pretty funny begin end find self engage stupid storyline attitude kg jaybles portray movie br /><br />much entertaining enjoyable movie see theater lately ex see iii dull dragging casino royale way homo erotic prior installment enjoy br /><br />if enjoy borat enjoy tale greatest band earth"
        ],
        [
         "18",
         "I haven't read the Anne Rice novel that this movie was based on, but who knows, maybe reading the book is cheaper than renting QUEEN OF THE DAMNED and is probably better for your health. It isn't that this movie is necessarily bad for your health, but a book can be very relaxing and certainly exercises the active part of your brain more so than this movie. You can count the number of pages by Anne Rice that I've read on one hand, but after seeing this movie and Interview with a Vampire, I get the feeling that she writes really good novels. The plots for both movies hint at a whole sea of deep and interwoven vampire history.<br /><br />Still, Stuart Townsend's voice-over narration gets a heck of a lot more annoying than Brad Pitt's vampire narrative ever did, and you can tell that QUEEN OF THE DAMNED's limited production resources barely give enough flesh to the Anne Rice storyline. While Interview decided to go with lace and elegance, QUEEN relies on low budget special effects that try really hard to be taken seriously. One can see that the original novel had potential as a movie and that the production team focused its attention in the wrong places. The costumes and rock & roll stage could have been replaced with more blood and an eerier soundtrack.<br /><br />However, I'll give credit where credit is due. The soundtrack is excellent. Korn and Disturbed had me down with the sickness bobbing my noggin like Butthead.<br /><br />The film opens with a very cool Goth-rock zoom & splice montage, but after the first ten minutes or so, the directing degenerates quickly. It's as if the movie was so long that the director realized that there wasn't enough time and enough money to do an Anne Rice novel justice. What results are some mediocre vampire scenes and plenty of cheesy special effects. Unfortunately, QUEEN OF THE DAMNED fails to do the genre justice just as its John Carpenter counterparts fail to impress. Where are the yellow contacts? Where's the pale blue make-up? Scene after scene, I shook my head reminiscing about the days of Salem's Lot and Fright Night when low budget was done right.<br /><br />There are redeeming qualities though that save this movie from being garbage. Props to Aaliyah, and may her soul forever rest in peace. She might have become a renowned actress, had her life not been taken from us so prematurely, for she did give this movie a decent performance with plenty of nice belly dancing. Did I mention that the soundtrack was good? Let's see, what else can I say? It wasn't too long. The Anne Rice novel could have easily been a three hour movie if an ambitious director like Francis Ford Coppola got his hands on it. There are a few twists and turns here and there in the plot. But all in all it was a legitimate rock and roll addition to the slew of second-rate vampire movies out there. The director of this movie went on to direct a new Battlestar Galactica mini series if that tells you anything.<br /><br />JY<br /><br />Jimboduck-dot-com",
         "1",
         "read anne rice novel movie base know maybe read book cheap rent queen damned probably well health movie necessarily bad health book relaxing certainly exercise active brain movie count number page anne rice read hand see movie interview vampire feeling write good novel plot movie hint sea deep interwoven vampire history.<br /><br />still stuart townsend voice narration get heck lot annoying brad pitt vampire narrative tell queen damned limited production resource barely flesh anne rice storyline interview decide lace elegance queen rely low budget special effect try hard take seriously original novel potential movie production team focus attention wrong place costume rock roll stage replace blood eerie soundtrack.<br /><br />however credit credit soundtrack excellent korn disturbed sickness bob noggin like butthead.<br /><br />the film open cool goth rock zoom splice montage minute direct degenerate quickly movie long director realize time money anne rice novel justice result mediocre vampire scene plenty cheesy special effect unfortunately queen damned fail genre justice john carpenter counterpart fail impress yellow contact pale blue scene scene shake head reminisce day salem lot fright night low budget right.<br /><br />there redeem quality save movie garbage prop aaliyah soul forever rest peace renowned actress life take prematurely movie decent performance plenty nice belly dancing mention soundtrack good let long anne rice novel easily hour movie ambitious director like francis ford coppola get hand twist turn plot legitimate rock roll addition slew second rate vampire movie director movie go direct new battlestar galactica mini series tell anything.<br /><br />jy br /><br />jimboduck dot com"
        ],
        [
         "19",
         "Ludicrous. Angelic 9-year-old Annakin turns into whiny brat 19-year-old Annakin, who somehow seems appealing to Amidala, 5 years his senior. Now 22-year-old Jedi warrior hero Annakin has a couple of bad dreams, and so takes to slaughtering children, his friends, and the entire framework of his existence because a crazy old man convinced him a) his precious wife might really die, and b) only he can prevent this. Ludicrosity squared.<br /><br />I think the people who like this movie are not paying attention. The story is ridiculous. The characters are unbelievable (literally, not the perverted sense of \"fantastic\", \"wonderful\", etc.).<br /><br />Obi-wan Kenobi was the wise and kind anchor for the entire series, but in the climax, he hacks off Annakin's legs, lets him burn in the lava, and leaves him to suffer. Doesn't anyone think that's a little out of character? Not to mention it was pretty stupid to take a chance on him living, as it turns out.<br /><br />I was expecting at least a story that showed consistent characters with plausible motivations. None of that here. The story could have been written by a 10 year old.<br /><br />Oh yeah, the CGI is pretty cool.",
         "0",
         "ludicrous angelic 9 year old annakin turn whiny brat 19 year old annakin appeal amidala 5 year senior 22 year old jedi warrior hero annakin couple bad dream take slaughter child friend entire framework existence crazy old man convince precious wife die b prevent ludicrosity squared.<br /><br />i think people like movie pay attention story ridiculous character unbelievable literally perverted sense fantastic wonderful etc.).<br /><br />obi wan kenobi wise kind anchor entire series climax hack annakin leg let burn lava leave suffer think little character mention pretty stupid chance live turn out.<br /><br />i expect story show consistent character plausible motivation story write 10 year old.<br /><br />oh yeah cgi pretty cool"
        ],
        [
         "20",
         "Normally I don't like series at all. They're all to predictable and they tend to become boring and dull very fast.<br /><br />These series however, are well played, the story follows through all episodes and even if you miss one, the story will still be catching your mind.<br /><br />The episodes are all filmed on a hospital and takes you further and further in to the mysteries of dark and old secrets that lies just beneath the surface of the mighty hospital.",
         "1",
         "normally like series predictable tend boring dull fast.<br /><br />these series play story follow episode miss story catch mind.<br /><br />the episode film hospital take mystery dark old secret lie beneath surface mighty hospital"
        ],
        [
         "21",
         "This movie is without a doubt a perfect 10/10.. for all you people out there who are rating this film low grades because it has no \"good plot\" or anything like that, thats ridiculous, saying that a Jackie Chan movie is bad because of its plot is like saying a porn movie is bad because it has no plot! you watch Jackie Chan FOR THE FIGHT SCENES, for the action its not so much concentrated on a good story or anything like that, if you look at how he makes movies and compare it to other American films from that era and even later you will realize that Jackie Chan's movies had over the top fights scenes and not really good plots while American movies had good plots but shitty action scenes compared to what Jackie Chan was doing at the time. Porn is watched for the porn, Jackie Chan is watched for the ACTION, i think you people are rating it bad because there's no plot because you think thats how a smart movie critic would rate a good movie but the way i see it is a good movie is a movie that can keep me entertained. Sure the middle of the movie was boring, VERY BORING, but put it this way the rest which is all action scenes and stunts very much do pay for all of that. This did change the way how American action movies were created, they have even stollen scenes from this movie. If you want a true man, a true entertainer then watch this movie and many more of Jackie Chan's, hes pure in everyway. He literally makes American movies look like a walk in the park, and even in TODAYS movies. American movies rely so much on special effects and safety wires and stunt doubles and so much more. Police Story and many other Jackie Chan films are pieces of work of a true entertainer who just goes all out and is very talented in what he can do. a masterpiece",
         "1",
         "movie doubt perfect 10/10 .. people rate film low grade good plot like s ridiculous say jackie chan movie bad plot like say porn movie bad plot watch jackie chan fight scenes action concentrated good story like look make movie compare american film era later realize jackie chan movie fight scene good plot american movie good plot shitty action scene compare jackie chan time porn watch porn jackie chan watch action think people rate bad plot think s smart movie critic rate good movie way good movie movie entertain sure middle movie boring boring way rest action scene stunt pay change way american action movie create stollen scene movie want true man true entertainer watch movie jackie chan s pure everyway literally make american movie look like walk park todays movie american movie rely special effect safety wire stunt double police story jackie chan film piece work true entertainer go talented masterpiece"
        ],
        [
         "22",
         "One of Starewicz's longest and strangest short films follows a toy dog in search of an orange after becoming animated by the tear of the mother of a girl who longs for an orange. The dog comes upon an orange after falling out of the back of a car on his way to be sold, but at night must protect the orange when he comes enters a devilish nightclub featuring many bizarre and scary characters. With the help of a stuffed cat, the dog gets the orange back to the little girl and she is saved from a terrible scurvy death. The Mascot features new techniques I have not yet seen in Starewicz's films. The addition of sync sound and a mixture of live action with the stop-motion animation makes for a new twist on Starewicz's old style of puppetry. Live scenes of moving cars and people's feet walking by as a puppet sits on the concrete sidewalk is impressive and fresh. The honking of cars and cries of street vendors is noteworthy due to the fact that small studio shifts to sound were costly and Starewicz's utilization of the new technology seems like old hat. New puppet characters in this film are frightening contributions to the devil's club scene. Twigss and newspaper shreds come to life. Skeletons of dead birds lay eggs which hatch skeleton chicks. Characters come flying in from all over on pats and pans and rocking horses. A new editing technique uses quick zooms which are accomplished through editing to speed up the pace of what before might have been a slow scene. Overall, Starewicz is able to update his style of film-making to meet the demands of a new audience making this film one of the best examples of his work.",
         "1",
         "starewicz long strange short film follow toy dog search orange animate tear mother girl long orange dog come orange fall car way sell night protect orange come enter devilish nightclub feature bizarre scary character help stuff cat dog get orange little girl save terrible scurvy death mascot feature new technique see starewicz film addition sync sound mixture live action stop motion animation make new twist starewicz old style puppetry live scene move car people foot walk puppet sit concrete sidewalk impressive fresh honking car cry street vendor noteworthy fact small studio shift sound costly starewicz utilization new technology like old hat new puppet character film frightening contribution devil club scene twigss newspaper shred come life skeleton dead bird lie egg hatch skeleton chick character come fly pat pan rock horse new editing technique use quick zoom accomplish edit speed pace slow scene overall starewicz able update style film making meet demand new audience make film good example work"
        ],
        [
         "23",
         "The three main characters are all hopeless, and yet you only feel sorry for one of them: Ernesto, hopelessly devoted to Mercedes. This was part of the frustration: screaming at Mercedes to get a clue and ditch the no-good Harry, to no avail.<br /><br />Then there's the satisfaction: Steve Buscemi has a great part as a transvestite, and Harvey Keitel's moving story of his indignity playing a gorilla for a cheap TV movie is incredible. When you least expect it, Quentin Tarintino is doing half a monologue, and Anthony Quinn turns Ernesto into a wealthy man.<br /><br />Time and again great moments appear in the story, but in the end it's hard to know what to feel about this movie. It doesn't have a happy ending, or even a complete one, but it somehow feels right.<br /><br />This movie is strange, but then so am I; no wonder I liked it.",
         "1",
         "main character hopeless feel sorry ernesto hopelessly devoted mercedes frustration scream mercedes clue ditch good harry avail.<br /><br />then satisfaction steve buscemi great transvestite harvey keitel moving story indignity play gorilla cheap tv movie incredible expect quentin tarintino half monologue anthony quinn turn ernesto wealthy man.<br /><br />time great moment appear story end hard know feel movie happy ending complete feel right.<br /><br />this movie strange wonder like"
        ],
        [
         "24",
         "Based on a Edgar Rice Burroughs novel, AT THE EARTH'S CORE provides little more than means to escape and give your brain a rest. A Victorian scientist Dr. Abner Perry(Peter Cushing)invents a giant burrowing machine, which he and his American partner(Doug McClure)use to corkscrew their way deep into the earth to explore what mysteries it may hold. They soon discover a lost world of subhuman creatures having conflict with prehistoric monsters.<br /><br />Cushing comes across as an absent minded professor to the point of being annoying. Instead of being a bold adventurer, he comes across effeminate. On the other hand McClure overacted enough to make himself also laughable. Caroline Munro plays the pretty Princess Dia that refuses to leave her world near the center of the earth. Also in the cast are: Godfrey James, Cy Grant and Michael Crane.",
         "0",
         "base edgar rice burroughs novel earth core provide little mean escape brain rest victorian scientist dr. abner perry(peter cushing)invents giant burrowing machine american partner(doug mcclure)use corkscrew way deep earth explore mystery hold soon discover lost world subhuman creature have conflict prehistoric monsters.<br /><br />cushing come absent minded professor point annoying instead bold adventurer come effeminate hand mcclure overact laughable caroline munro play pretty princess dia refuse leave world near center earth cast godfrey james cy grant michael crane"
        ],
        [
         "25",
         "Paul Verhoeven's predecessor to his breakout hit 'Basic Instinct' is a stylish and shocking neo-noir thriller. Verhoeven has become known for making somewhat sleazy trash films, both in his native Holland and in America and this film is one of the reasons why. The Fourth Man follows the strange story of Gerard Reve (played by Jeroen Krabbé); a gay, alcoholic and slightly mad writer who goes to Vlissingen to give a talk on the stories he writes. While there, he meets the seductive Christine Halsslag (Renée Soutendijk) who takes him back to her house where he discovers a handsome picture of one of her lovers and proclaims that he will meet him, even if it kills him.<br /><br />Paul Verhoeven twists the truth many times in this film, and that ensures that you never quite know where you are with it. Many of the occurrences in The Fourth Man could be what they appear to be, but they could easily be interpreted as something else entirely and this keeps the audience on the edge of their seats for the duration, and also makes the film work as this narrative is what it thrives on. Paul Verhoeven is not a filmmaker that feels he has to restrain himself, and that is one of things I like best about him. This film features a very shocking scene that made me feel ill for hours afterwards (and that doesn't happen very often!). I wont spoil it because it needs the surprise element to work...but you'll see what I mean when you see the film (make sure you get the uncut version!). There is also a number of other macabre scenes that are less shocking than the one I've mentioned, but are lovely nonetheless; a man gets eaten by lions, another one has a pipe sent through his skull, a boat is smashed in half...lovely.<br /><br />The acting in The Fourth Man isn't anything to write home about, but it's solid throughout. Jeroen Krabbé holds the audience's attention and looks the part as the drunken writer. It is Renée Soutendijk that impresses the most, though, as the femme fatale at the centre of the tale. Her performance is what Sharon Stone would imitate nine years later with Basic Instinct, but the original fatale did it best. Paul Verhoeven's direction is solid throughout as he directs our attention through numerous points of view, all of which help to create the mystery of the story. Verhoeven has gone on to make some rubbish, but he obviously has talent and it's a shame that he doesn't put it to better use. Of all the Verhoeven films I've seen, this is the best and although it might be difficult to come across; trust me, it's worth the effort.",
         "1",
         "paul verhoeven predecessor breakout hit basic instinct stylish shocking neo noir thriller verhoeven know make somewhat sleazy trash film native holland america film reason fourth man follow strange story gerard reve play jeroen krabbé gay alcoholic slightly mad writer go vlissingen talk story write meet seductive christine halsslag renée soutendijk take house discover handsome picture lover proclaim meet kill him.<br /><br />paul verhoeven twist truth time film ensure know occurrence fourth man appear easily interpret entirely keep audience edge seat duration make film work narrative thrive paul verhoeven filmmaker feel restrain thing like well film feature shocking scene feel ill hour happen will not spoil need surprise element work ... mean film sure uncut version number macabre scene shocking mention lovely nonetheless man get eat lion pipe send skull boat smash half ... lovely.<br /><br />the act fourth man write home solid jeroen krabbé hold audience attention look drunken writer renée soutendijk impress femme fatale centre tale performance sharon stone imitate year later basic instinct original fatale well paul verhoeven direction solid direct attention numerous point view help create mystery story verhoeven go rubbish obviously talent shame well use verhoeven film see good difficult come trust worth effort"
        ],
        [
         "26",
         "What an incomprehensible mess of a movie. Something about a cop who extracts bullets from himself after he gets shot and keeps them in a glass jar in his bathroom (and from the size of the jar he's been shot about fifty times by now) and a top secret tank guarded by five or six incompetent soldiers who for some reason drive it into Mexico. Whether they were sent there intentionally or just got really really lost is never made clear. And you'll never hear another screenplay feature the word \"butthorn\" either. Gary Busey tries out the Mel Gibson role from \"Lethal Weapon\" and while Busey is a serviceable actor the screenplay damns the whole movie to mediocrity. William Smith does another turn as a Russian soldier, the same character he played in \"Red Dawn\" a few years earlier. After playing biker heavies for most of the 70s it was sort of nice to see him expand his range playing Communist heavies. Sadly he'll probably always be remembered best as the guy who Clint Eastwood whupped in \"Every Which Way You Can.\"",
         "0",
         "incomprehensible mess movie cop extract bullet get shoot keep glass jar bathroom size jar shoot time secret tank guard incompetent soldier reason drive mexico send intentionally get lose clear hear screenplay feature word butthorn gary busey try mel gibson role lethal weapon busey serviceable actor screenplay damn movie mediocrity william smith turn russian soldier character play red dawn year early play biker heavy 70 sort nice expand range play communist heavy sadly probably remember well guy clint eastwood whuppe way"
        ],
        [
         "27",
         "There have been many documentaries that I have seen in which it appeared that the law was on the wrong side of the fence - The Thin Blue Line and Paradise Lost come to mind first and foremost. But this is the first film that had me seething with anger after I saw it. It seems blatantly clear to me from the evidence presented in this film that what happened at Waco was at the very least an unprofessional and sloppy mess on the part of the FBI and AFI, and at the very worst an act of murder. Like most people, when the siege at Waco was occurring I assumed that David Koresh was a completely evil madman who was leading a violent cult. After seeing this, I think that Koresh was more likely a slightly unbalanced and confused guy who inadvertently caught the attention of the U.S. government through his eccentric actions. Sure, there were lots of weapons at the Branch Davidian compound. But none of it was illegal. It was absolutely heartbreaking to see the video footage of the people inside the compound, all of them seeming to be very nice and harmless. And it was angering to see the callous testimony of the men in charge of the government forces on the Waco site, the clueless testimony of Janet Reno, and the partisan defense of the attack on Waco, a defense led by a few of the committee Democrats. Standing out most in my mind was NY representative and current U.S. senator from NY Charles Schumer. I voted for the man when I lived in NY state - I'm a Democrat, pretty left-leaning too. After seeing his actions on this committee, I wish I could go back in time and vote for D'Amato instead! For anyone remotely interested in the government, this is a very crucial film, a must see. I even think this should be shown in classes - it's that important.",
         "1",
         "documentary see appear law wrong fence thin blue line paradise lost come mind foremost film seethe anger see blatantly clear evidence present film happen waco unprofessional sloppy mess fbi afi bad act murder like people siege waco occur assume david koresh completely evil madman lead violent cult see think koresh likely slightly unbalanced confused guy inadvertently catch attention u.s. government eccentric action sure lot weapon branch davidian compound illegal absolutely heartbreaking video footage people inside compound nice harmless anger callous testimony man charge government force waco site clueless testimony janet reno partisan defense attack waco defense lead committee democrats stand mind ny representative current u.s. senator ny charles schumer vote man live ny state democrat pretty left lean see action committee wish time vote d'amato instead remotely interested government crucial film think show class important"
        ],
        [
         "28",
         "Well, there's no real plot to speak of, it's just an excuse to show some scenes of extreme violence and gratuitous sex (which can sometimes be fun, too, but it's not in this case). What else can I say about this...? The action, when happening, is inventive and there's a cool scene where two characters are falling from a skyscraper (one that has to be several miles high), but overall there's not much to recommend \"Kite\". Watch it if you want, but you're not missing much if you skip this one...",
         "0",
         "real plot speak excuse scene extreme violence gratuitous sex fun case ... action happen inventive cool scene character fall skyscraper mile high overall recommend kite watch want miss skip ..."
        ],
        [
         "29",
         "Note to self. Never ever ever again watch a serious movie with Charlie Sheen in it. Great comedian, horrible seal. This movie makes Navy SEALS look like a reckless group of rangers when, in fact, they are the most elite form of military in the world. Charlie Sheen helps destroy the Navy SEAL reputation. Thank you for making such an incredibly select group of individuals look awful in one of the worst action movies I have ever seen. This is a great story which could be made into an amazing action movie, but why Charlie Sheen? There are possibilities for a very passionate story here, but Sheen decides to wreck them with \"funny\" comments.",
         "0",
         "note self watch movie charlie sheen great comedian horrible seal movie make navy seal look like reckless group ranger fact elite form military world charlie sheen help destroy navy seal reputation thank make incredibly select group individual look awful bad action movie see great story amazing action movie charlie sheen possibility passionate story sheen decide wreck funny comment"
        ],
        [
         "30",
         "Often laugh out loud funny play on sex, family, and the classes in Beverly Hills milks more laughs out of the zip code than it's seen since the days of Granny and Jed Clampett. Plot centers on two chauffers who've bet on which one of them can bed his employer (both single or soon to be single ladies, quite sexy -- Bisset and Woronov) first. If Manuel wins, his friend will pay off his debt to a violent asian street gang -- if he loses, he must play bottom man to his friend! <br /><br />Lots of raunchy dialogue, fairly sick physical humour, etc. But a lot of the comedy is just beneath the surface. Bartel is memorable as a very sensual oder member of the family who ends up taking his sexy, teenaged niece on a year long \"missionary trip\" to Africa.<br /><br />Hilarious fun.",
         "1",
         "laugh loud funny play sex family class beverly hills milk laugh zip code see day granny jed clampett plot center chauffer bet bed employer single soon single lady sexy -- bisset woronov manuel win friend pay debt violent asian street gang -- lose play man friend br /><br />lots raunchy dialogue fairly sick physical humour etc lot comedy beneath surface bartel memorable sensual oder member family end take sexy teenaged niece year long missionary trip africa.<br /><br />hilarious fun"
        ],
        [
         "31",
         "Or anyone else have noticed the fact that first bunch of episodes are inspired too much by 90's flicks?<br /><br />I mean seriously wife who is trying get someone else to murder his rich husband so she can claim his assets. Med students who are temporarily stopping their hearts to reach memories that are lost; Flatliners. Bunch of college bodies getting together again to reminisce on the old days but are not fully comfortable because they did something in the past, Very Bad Things? Groundhog day is one of my all time favorite movies. Sadly enough the writing staff behind his turd is bunch of lazy bastards who can not come up with their original scripts.<br /><br />Noble idea totally fubarred in it's execution.",
         "0",
         "notice fact bunch episode inspire 90 flicks?<br /><br />i mean seriously wife try murder rich husband claim asset med student temporarily stop heart reach memory lose flatliner bunch college body get reminisce old day fully comfortable past bad thing groundhog day time favorite movie sadly write staff turd bunch lazy bastard come original scripts.<br /><br />noble idea totally fubarre execution"
        ],
        [
         "32",
         "Like the previous poster, I am from northern Vermont, and I was inclined to like this film. However, not since \"Red Zone Cuba\" have I seen such a confusing plot. The things the people to bootleg make no sense. Two of the gang paddle across the border send a second party across in a car. Uhm, why? Then they meet two others, and drive up at night in to the bad guy's hideout in a luxury Packard. --Wouldn't just two people in a flatbed truck make more sense? Then, parked outside the garage that holds the targeted hooch, the four fall asleep! When they waken in the morning and and start hauling the whiskey out, of course they're spotted and shot at, losing some of their precious cargo in the process. Then two of the smugglers put the whiskey in a boat and float it over the border. Again, why? I am told by someone whose great uncle really did smuggle in the area, all one needed was to drive a vehicle that could outrun than the U.S. Canada Border Patrol, which back then had a fraction of the resources it has now. <br /><br />And don't get me started on the last half hour, which made no sense whatsoever.<br /><br />The only good thing I can say about the film is that Kris Kristopherson has actually grown some charisma with the years.",
         "0",
         "like previous poster northern vermont inclined like film red zone cuba see confusing plot thing people bootleg sense gang paddle border send second party car uhm meet drive night bad guy hideout luxury packard --wouldn't people flatbe truck sense park outside garage hold target hooch fall asleep waken morning start haul whiskey course spot shoot lose precious cargo process smuggler whiskey boat float border tell great uncle smuggle area need drive vehicle outrun u.s. canada border patrol fraction resource br /><br />and start half hour sense whatsoever.<br /><br />the good thing film kris kristopherson actually grow charisma year"
        ],
        [
         "33",
         "This is a very memorable spaghetti western. It has a great storyline, interesting characters, and some very good acting, especially from Rosalba Neri. Her role as the evil villainess in this film is truly classic. She steals every scene she is in, and expresses so much with her face and eyes, even when she's not speaking. Her performance is very believable. She manages to be quite mesmerizing without being over the top (not that there's anything wrong with being over the top). Mark Damon is surprisingly good in this movie too.<br /><br />The music score is excellent, and the theme song is the kind that will be playing in your head constantly for days after seeing the movie, whether you want it to or not. There are a couple of parts that are very amusing. I especially like the part where Rosalba Neri undresses in front of the parrot. There's also lots of slick gun-play that's very well done.<br /><br />I would probably have given this movie 8 or 9 stars if it wasn't for two things. The first being a silly bar room brawl that occurs about 25 minutes into the film. This is one of the most ridiculous looking fights I have ever seen in a movie. It is very poorly choreographed, and looks more like a dance number from a bad musical than any kind of a real fight. One might be able to overlook this if it were a Terence Hill/Bud Spencer comedy, but this is a more serious western, and the brawl really needed to be more realistic. The other thing that annoyed me about this movie was Yuma's cowardly Mexican sidekick. I guess he was supposed to be comic relief or something, but the character was just plain stupid and unnecessary in a movie like this, and he wasn't at all funny. All I can say is where is Tuco when you need him? <br /><br />All that having been said, let me assure everyone reading this that Johnny Yuma is a classic spaghetti western despite the faults I have mentioned, and all fans of the genre need to see this movie.",
         "1",
         "memorable spaghetti western great storyline interesting character good acting especially rosalba neri role evil villainess film truly classic steal scene express face eye speak performance believable manage mesmerize wrong mark damon surprisingly good movie too.<br /><br />the music score excellent theme song kind play head constantly day see movie want couple part amusing especially like rosalba neri undress parrot lot slick gun play done.<br /><br />i probably give movie 8 9 star thing silly bar room brawl occur 25 minute film ridiculous look fight see movie poorly choreographed look like dance number bad musical kind real fight able overlook terence hill bud spencer comedy western brawl need realistic thing annoy movie yuma cowardly mexican sidekick guess suppose comic relief character plain stupid unnecessary movie like funny tuco need br /><br />all have say let assure read johnny yuma classic spaghetti western despite fault mention fan genre need movie"
        ],
        [
         "34",
         "It got to be a running joke around Bonanza about how fatal it was for any women to get involved with any Cartwright men. After all Ben Cartwright was three times a widower with a son by each marriage. And any woman who got involved with Adam, Hoss, and Little Joe were going to end up dying because we couldn't get rid of the formula of the widower and the three sons that started this classic TV western.<br /><br />Perhaps if Bonanza were being done today the writers would have had revolving women characters who came in and out of the lives of the Cartwrights. People have relationships, some go good, some not so good, it's just life. And we're less demanding of our heroes today so if a relationship with one of them goes south we don't have to kill the character off to keep the survivor's nobility intact. But that's if Bonanza were done today.<br /><br />But we were still expecting a lot from our western heroes and Bonanza though it took a while to take hold and a change of viewing time from NBC certainly helped, the secret of Bonanza's success was the noble patriarch Ben Cartwright and his stalwart sons. Ben Cartwright was THE ideal TV Dad in any genre you want to name. His whole life was spent in the hard work of building that immense Ponderosa spread for his three children. The kids were all different in personality, but all came together in a pinch.<br /><br />The Cartwrights became and still are an American institution. I daresay more people cared about this family than the Kennedys. Just the popularity that Bonanza has in syndication testifies to that. <br /><br />Pernell Roberts as oldest son Adam was written out of the show. Rumor has it he didn't care for the noble Cartwright characters which he felt bordered on sanctimonious. Perhaps if it were done now, he'd have liked it better in the way I describe.<br /><br />This was just the beginning for Michael Landon, how many people get three hit TV shows to their credit. Landon also has Highway to Heaven and Little House On the Prarie where he had creative control. Little Joe was the youngest, most hot headed, but the most romantic of the Cartwrights. <br /><br />When Roberts left. the show kept going with the two younger sons, but when big Dan Blocker left, the heart went out of Bonanza. Other characters had been added on by that time, David Canary, Tim Matheson, and Ben Cartwright adopted young Mitch Vogel. But big, loyal, but a little thick Hoss was easily the most lovable of the Cartwrights. His sudden demise after surgery left too big a hole in that family.<br /><br />So the Cartwrights of the Ponderosa have passed into history. I got a real taste of how America took the Cartwrights to heart when I visited the real Virginia City. It doesn't look anything like what you see in Bonanza. But near Lake Tahoe, just about where you see the Ponderosa on the map at the opening credits, is the Cartwright home, the set maintained and open as a tourist attraction. Like 21 Baker Street for Sherlock Holmes fans, the ranchhouse and the Cartwrights are real.<br /><br />And if they weren't real, they should have been.",
         "1",
         "get running joke bonanza fatal woman involve cartwright man ben cartwright time widower son marriage woman get involve adam hoss little joe go end die rid formula widower son start classic tv western.<br /><br />perhap bonanza today writer revolve woman character come life cartwrights people relationship good good life demanding hero today relationship go south kill character survivor nobility intact bonanza today.<br /><br />but expect lot western hero bonanza take hold change view time nbc certainly help secret bonanza success noble patriarch ben cartwright stalwart son ben cartwright ideal tv dad genre want life spend hard work build immense ponderosa spread child kid different personality come pinch.<br /><br />the cartwrights american institution daresay people care family kennedys popularity bonanza syndication testifie br /><br />pernell roberts old son adam write rumor care noble cartwright character feel border sanctimonious like well way describe.<br /><br />this beginning michael landon people hit tv show credit landon highway heaven little house prarie creative control little joe young hot head romantic cartwrights br /><br />when roberts leave keep go young son big dan blocker leave heart go bonanza character add time david canary tim matheson ben cartwright adopt young mitch vogel big loyal little thick hoss easily lovable cartwrights sudden demise surgery leave big hole family.<br /><br />so cartwrights ponderosa pass history get real taste america take cartwrights heart visit real virginia city look like bonanza near lake tahoe ponderosa map opening credit cartwright home set maintain open tourist attraction like 21 baker street sherlock holmes fan ranchhouse cartwrights real.<br /><br />and real"
        ],
        [
         "35",
         "A truly muddled incomprehensible mess. Most things in the film look more or less like 1987, but then there are futuristic things just thrown in, like the policeman's ray gun. And that car! The director seemed to be in love with colored lights. The only really notable performance was the girl who played Valerie, but since there was no cast listing, I don't know which actress that was. This one is worth missing. Grade: F",
         "0",
         "truly muddle incomprehensible mess thing film look like 1987 futuristic thing throw like policeman ray gun car director love colored light notable performance girl play valerie cast listing know actress worth miss grade f"
        ],
        [
         "36",
         "It doesn't happen very often, but occasionally one man can make a difference -- a big difference.<br /><br />George Crile's 2003 best seller, CHARLIE WILSON'S WAR, is a fascinating and eye-opening account of the most unlikely \"difference maker\" imaginable. A relatively obscure Congressman from the Second District of Texas, \"Good Time Charlie\" was known more for his libertine lifestyle than his libertarian legislation. Likable and licentious (even for a politician), Charlie Wilson served his constituency well since the good folks of Lufkin only really wanted two things, their guns and to be left alone. It's Easy Street replete with his bevy of beltway beauties known, appropriately enough, as Charlie's Angels.<br /><br />When asked why his entire office staff was composed of attractive, young aides his response is a classic, \"You can teach 'em to type, but you can't teach 'em to grow tits.\" No argument there.<br /><br />But even the most rakish rapscallion has a conscience lurking somewhere underneath, and for Charlie Wilson the unimaginable atrocities being committed in Afghanistan moved him to muster his entire political savvy toward funding the utter, humiliating defeat of the Russian military and, possibly, to even help hasten the end of the Cold War as a result. Fat chance, huh?<br /><br />Under the skillful direction of Mike Nichols and a smart, snappy screenplay by Adam Sorkin, CHARLIE WILSON'S WAR is a sparkling, sophisticated satire that chronicles the behind-the- scene machinations of three colorful characters comprising \"Charlie's Team.\"<br /><br />The on-screen \"Team,\" is composed of three marvelous actors with four (4) Academy Awards and nine (9) nominations between them. Charlie is beautifully portrayed by Tom Hanks in a solid, slightly understated fashion that is among his best work in years. He's aided, abetted and abedded by Joanne Herring, a wealthy Houston socialite played by the still-slinky Julia Roberts. Hey, why else have the bikini scene than to let the world know this? By all accounts Ms. Roberts looks good and holds her own, but the screenplay never gives us even a hint why Kabul and country is so important to her character. Maybe the two Afghan hounds usually by her side know -- but we as an audience never do. As for the third member of the \"Team,\" Philip Seymour Hoffman steals every scene he appears in as Gust Aurakotos, a smart, street- wise (i.e. non Ivy League graduate) CIA malcontent who knows the score -- both in the Agency's boardroom and in Wilson's bedroom.<br /><br />For the Mujahideen to succeed, the most important assistance the U.S. can provide is the ability to shoot down the dreaded MI-21 helicopter gunships which rule the skies. This takes money, lots of money, and eventually \"Charlie's Team\" covertly coerces those in Congress to fund the effort to the tune of $1 billion dollars for advanced weaponry to arm the Afghan rebels. This includes top-of-the-line, state-of-the-art anti-aircraft and anti-tank rockets as well as other highly sophisticated killing devices. Nasty, nasty stuff.<br /><br />That this kind of multi-billion dollar illicit activity can and does take place behind Congressional doors is truly alarming. Every American should see this movie or read this book because it reveals a truly frightening aspect of the business-as-usual political scene rarely seen outside the walls of our very own government. Oh momma, I wish it weren't so...<br /><br />Even though the initial outcome for \"Team Charlie\" was an unqualified success, the unimaginable, unanticipated final result is that these sophisticated weapons are now used against our troops by the Taliban and others. Since the funding was entirely \"covert,\" the young generation in this part of the world has no idea the fall of Soviet oppression and the end to Russian barbarity was the direct result of American intervention. Yes, once the Russkies left, so did our aid -- zip for schools, zip for infrastructure, zip on maintaining meaningful relationships with the Afghan people. As a result, the overall consequence is an unmitigated disaster -- it's like the forerunner to \"Mission Accomplished.\"<br /><br />As Nichol's film so pointedly points out, \"The ball you've set in motion can keep bouncing even after you've lost interest in it.\" Mike Krzyzewski knows this, Eva Longoria Parker knows this, little Lateesha in Lafayette knows this, but the typical American politician doesn't. So we go from good guys to bad guys because we couldn't let the world know we were the good guys. Talk about a Catch-22 (another Mike Nichols film).<br /><br />Perhaps Charlie Wilson said it best, \"We f&%ked up the end game.\"<br /><br />Again.",
         "1",
         "happen occasionally man difference -- big difference.<br /><br />george crile 2003 good seller charlie wilson war fascinating eye open account unlikely difference maker imaginable relatively obscure congressman second district texas good time charlie know libertine lifestyle libertarian legislation likable licentious politician charlie wilson serve constituency good folk lufkin want thing gun leave easy street replete bevy beltway beauty know appropriately charlie angels.<br /><br />when ask entire office staff compose attractive young aide response classic teach them type teach them grow tit argument there.<br /><br />but rakish rapscallion conscience lurk underneath charlie wilson unimaginable atrocity commit afghanistan move muster entire political savvy fund utter humiliating defeat russian military possibly help hasten end cold war result fat chance huh?<br /><br />under skillful direction mike nichols smart snappy screenplay adam sorkin charlie wilson war sparkling sophisticated satire chronicle the- scene machination colorful character comprise charlie team \"<br /><br />the screen team compose marvelous actor 4 academy awards 9 nomination charlie beautifully portray tom hanks solid slightly understate fashion good work year aid abet abedde joanne herring wealthy houston socialite play slinky julia roberts hey bikini scene let world know account ms. roberts look good hold screenplay give hint kabul country important character maybe afghan hound usually know -- audience member team philip seymour hoffman steal scene appear gust aurakotos smart street- wise i.e. non ivy league graduate cia malcontent know score -- agency boardroom wilson bedroom.<br /><br />for mujahideen succeed important assistance u.s. provide ability shoot dread mi-21 helicopter gunship rule sky take money lot money eventually charlie team covertly coerce congress fund effort tune 1 billion dollar advanced weaponry arm afghan rebel include line state art anti aircraft anti tank rocket highly sophisticated killing device nasty nasty stuff.<br /><br />that kind multi billion dollar illicit activity place congressional door truly alarming american movie read book reveal truly frightening aspect business usual political scene rarely see outside wall government oh momma wish ... <br /><br />even initial outcome team charlie unqualified success unimaginable unanticipated final result sophisticated weapon troop taliban funding entirely covert young generation world idea fall soviet oppression end russian barbarity direct result american intervention yes russkies leave aid -- zip school zip infrastructure zip maintain meaningful relationship afghan people result overall consequence unmitigated disaster -- like forerunner mission accomplished \"<br /><br />as nichol film pointedly point ball set motion bounce lose interest mike krzyzewski know eva longoria parker know little lateesha lafayette know typical american politician good guy bad guy let world know good guy talk catch-22 mike nichols film).<br /><br />perhaps charlie wilson say well f&%ke end game \"<br /><br />again"
        ],
        [
         "37",
         "This ludicrous film offers the standard 1970's \"hippie mentality\" in a nut shell and bores us in the process. Its an attempt to rationalize absurd marriages of young, innocent women with old age sex fiends and wash ups. A naive young hippy played by the waif-like ( Kay Lenz ) hitch hikes and sleeps with all the wrong guys, and then one day she meets the ridiculous (Holden), already in old age, hard liquor drinking and washed up as an actor, and she decides that she is in \"love\" with him. If you think that is superficial, the whole film encapsulates such scenes. She keeps saying how much she \"loves\" him and she only met him, it wears thin and really quick. I couldn't help but laugh throughout the film. Its obvious she's just using him as a meal ticket but the director is immature enough to think we are going to buy that there is actually any love taking place. A disgusting scene is where the two are naked and having sex, I had to fast forward it because it almost inspired me to vomit. A corny offering of music from the 70's is also spread through the film. Avoid this if you can. Grade D.",
         "0",
         "ludicrous film offer standard 1970 hippie mentality nut shell bore process attempt rationalize absurd marriage young innocent woman old age sex fiend wash up naive young hippy play waif like kay lenz hitch hike sleep wrong guy day meet ridiculous holden old age hard liquor drink wash actor decide love think superficial film encapsulate scene keep say love meet wear thin quick help laugh film obvious meal ticket director immature think go buy actually love take place disgusting scene naked have sex fast forward inspire vomit corny offering music 70 spread film avoid grade d."
        ],
        [
         "38",
         "Skippy from \"Family Ties\" plays Eddie, a wussy 'metal' nerd who gets picked on. When his favorite wussy 'metal' singer, Sammi Curr, dies, he throws a hissy fit tearing down all the posters on his bedroom wall. But when he later gets an unreleased record that holds the spirit of his dead 'metal' idol. He first gets sucked into ideas of revenge, but then he doesn't want to take it as far as Sammi does. Which isn't really that far as his main victims only seem to go to the hospital. This movie is utterly laughable and has about as much to do with real metal as say, \"Rock Star\". OK, maybe a tad more than that piece of junk, but you get my point. And how ANYone can root for a guy played by Skippy from \"Family Ties\" I haven't a clue. The cameo by Gene Simmons is OK, and Ozzy Osbourne reaches coherency, I applaud him for that, but otherwise skip this one.<br /><br />My Grade: D <br /><br />Eye Candy:Elise Richards gets topless, an a topless extra at a pool party",
         "0",
         "skippy family ties play eddie wussy metal nerd get pick favorite wussy metal singer sammi curr die throw hissy fit tear poster bedroom wall later get unreleased record hold spirit dead metal idol get suck idea revenge want far sammi far main victim hospital movie utterly laughable real metal rock star ok maybe tad piece junk point root guy play skippy family ties clue cameo gene simmons ok ozzy osbourne reach coherency applaud skip one.<br /><br />my grade d br /><br />eye candy elise richards get topless topless extra pool party"
        ],
        [
         "39",
         "If you are interested in learning more about this sort of thing happening in modern civilization, there is an excellent book called \"Outlaw Seas\" or \"The Outlaw Sea\", and it describes, in story after story, how these things do happen. The lawlessness of the high seas is a reality for a number of reasons. One, many of the world's freighters are of questionable registry (nationality) and it's difficult to impossible to enforce international laws when the ships owners don't have an office in a real country. Two, many ship lines employ crews from dirt poor third world countries. The crews are often (like illegal immigrant workers) threatened and bullied into complying with questionable or illegal practices. Three, there is often a language barrier, not only between the officers and the crew, but also between the crew members themselves. The crew are rewarded for their compliance and their silence. Four, once committing an illegal act, the ships are able to hide in plain sight with little more than a fresh coat of paint. Anyway, it's fascinating reading.<br /><br />Horrifying story, excellent movie. Does anyone else notice how HBO seems to make the best and most important movies? Hollywood has trouble releasing enough Oscar worthy movies in any given year, so that several of the top 5 contenders usually come from Britain. Jerry Bruckheimer = the end of quality cinema.<br /><br />I loved the thoroughly evil performance by Sean Pertwee. I also, as usual, loved Omar Epps.",
         "1",
         "interested learn sort thing happen modern civilization excellent book call outlaw seas outlaw sea describe story story thing happen lawlessness high sea reality number reason world freighter questionable registry nationality difficult impossible enforce international law ship owner office real country ship line employ crew dirt poor world country crew like illegal immigrant worker threaten bully comply questionable illegal practice language barrier officer crew crew member crew reward compliance silence commit illegal act ship able hide plain sight little fresh coat paint fascinating reading.<br /><br />horrifying story excellent movie notice hbo good important movie hollywood trouble release oscar worthy movie give year 5 contender usually come britain jerry bruckheimer end quality cinema.<br /><br />i love thoroughly evil performance sean pertwee usual love omar epps"
        ],
        [
         "40",
         "I feel dumber after watching the first 20 min,luckily i walked out and saved the rest of my brain, people should watch better films and take notes on why they are rated highly,not because of the budget of the film or the special effects, just simply good acting and getting simple things right,and MOst importantly--not being LAME--, but i guess this was produced for those Sheeple without taste and not a clue of what is ''A good Movie''don't be scared of rating films low,save your under-appreciated high scores for ''once in a life time movies''. Keep in mind that many use IMDb for trusted reviews and opinions,don't spoil the broth by sugarcoating turds Peace & love",
         "0",
         "feel dumber watch 20 min luckily walk save rest brain people watch well film note rate highly budget film special effect simply good act get simple thing right importantly -- lame-- guess produce sheeple taste clue '' good movie''don't scared rating film low save appreciated high score '' life time movie '' mind use imdb trust review opinion don't spoil broth sugarcoat turd peace love"
        ],
        [
         "41",
         "This would've been a *great* silent film. The acting really is good, at least in a Look Ma, I'm Doing Really Big Acting! sort of way.<br /><br />Everything is HUGE. Every line is PROFOUND! Every scene is SHATTERED BY HUMAN TRAGEDY!<br /><br />Mostly, I felt like gagging. Yet, like any train wreck, I couldn't tear my eyes away. This dialogue might've worked on the stage, although I doubt it. On the screen, it was cluttered, haphazard, hackneyed and pretty much every other stereotypical negative adjective you can come up with to describe a really bad dramatic work.<br /><br />If you enjoy your melodrama in huge, heaping doses, you *might* enjoy the movie. Be prepared to wait, however. For all that melodrama, this thing sure plods along at its own pace.<br /><br />This script must've sounded a lot different when the actors involved were reading it to themselves. It simply doesn't work once they get around to delivering it in front of the camera.<br /><br />IMDB does us a great disservice, at times, when it uses its goofy computer-controlled \"weighted score\". Curse of the Starving Class deserves less than a 1.<br /><br />Character-driven fiction is great, but when you develop your characters by simply pushing them through hoops with no plausible explanation for their maturation or evolution, it isn't character development! Your characters must have a motivation. Being drunk for a while and waking up in a field is *not* character development. That's a plot contrivance.<br /><br />Stay away from this movie. Or at the very least, watch it muted. Perhaps you'll get some amusement from all the arm-waving the characters do.<br /><br />Oh, and word to the wise -- to prove that this is truly an artsy film, you see James Woods in all his dangly male \"look-at-me, I'm-the-figurative-and-literal-representation-of-the-naked-vulnerability-of- man\" glory.<br /><br />Don't say you weren't warned.",
         "0",
         "great silent film act good look ma big acting sort way.<br /><br />everything huge line profound scene shatter human tragedy!<br /><br />mostly feel like gag like train wreck tear eye away dialogue work stage doubt screen cluttered haphazard hackneyed pretty stereotypical negative adjective come describe bad dramatic work.<br /><br />if enjoy melodrama huge heap dose enjoy movie prepared wait melodrama thing sure plod pace.<br /><br />this script sound lot different actor involve read simply work deliver camera.<br /><br />imdb great disservice time use goofy computer control weighted score curse starving class deserve 1.<br /><br />character drive fiction great develop character simply push hoop plausible explanation maturation evolution character development character motivation drunk wake field character development plot contrivance.<br /><br />stay away movie watch mute amusement arm wave character do.<br /><br />oh word wise -- prove truly artsy film james woods dangly male look i'm figurative literal representation naked vulnerability of- man glory.<br /><br />don't warn"
        ],
        [
         "42",
         "I watched Six of a Kind for W.C. Fields - he's only in it for around 10 minutes and has one long scene, the infamous pool sequence he made famous in vaudeville, and several other great moments. The reamaining 55 minutes are also delightful, thankfully, mostly due to the hilarious Charlie Ruggles as the bumbling banker J. Pinkham Whinney. He is everyone's foil. He stutters and stumbles about to our pleasure. Also, his comedy partner, Mary Boland plays his wife, Flora. Joining in the proceedings are George Burns and Gracie Allen. Boland is particularly funny near the beginning and near the end, but Gracie and Ruggles use up most of the picture. Gracie's funny, quite, but she can also get tiring. And poor George Burns has absolutely nothing to do except repeat Gracie all the time. I don't remember laughing at him once (although he has one great scene with Ruggles, where Ruggles tries desperately to get George to take Gracie and leave him and his wife alone for a while, and one with Fields, where he asks Fields to sell him a sweater; that bit is exclusively Fields', though). The situation is constantly funny: the Whinneys are going to drive to California, but to help them with expenses, George and Gracie are recruited. 8/10.",
         "1",
         "watch kind w.c. fields 10 minute long scene infamous pool sequence famous vaudeville great moment reamaine 55 minute delightful thankfully hilarious charlie ruggles bumble banker j. pinkham whinney foil stutter stumble pleasure comedy partner mary boland play wife flora join proceeding george burns gracie allen boland particularly funny near beginning near end gracie ruggles use picture gracie funny tiring poor george burns absolutely repeat gracie time remember laugh great scene ruggles ruggles try desperately george gracie leave wife fields ask fields sell sweater bit exclusively fields situation constantly funny whinneys go drive california help expense george gracie recruit 8/10"
        ],
        [
         "43",
         "This movie is lame and not funny at all. The plot doesn't even make sense. Some scientist who works on the fringes of science opens a doorway to another dimension (maybe hell???) and his daughter gets sucked through it or something, then one day for no apparent reason she comes back and now she has big breasts and wears a skimpy outfit (I guess the demons in the other dimension made it for her?) The main character is a guy who wants to marry his girlfriend but she is gay so obviously she's more interested in her new girlfriend, and they stumble upon this witch spell book (they want to be witches or something???) and the evil spell ends up getting read again which is how the evil demon comes to earth which only the bikini top girl and the spurned guy in love can stop apparently. There is topless scenes for no reason and a guy in it who my boyfriend says is a well known wrestler but his part is completely unnecessary, obviously they made something up just to put him in it because then maybe wrestling fans will actually watch this pointless movie. I'm sure the topless girls doesn't hurt there either. The extra features on the DVD were even more confusing than the rest of the movie, I thought it might help explain what was going on but it actually just made things more confusing. Who are these people and what are they doing? Basically this is a go-camping-to-make-out-then-fight-a-monster movie but there are a bunch of things (like the other dimension and book seller) than make it confusing. I didn't like the movie but it was only like five bucks so big deal. I don't recommend watching it though it was just too stupid, I can't think of any part of the movie that was good.",
         "0",
         "movie lame funny plot sense scientist work fringe science open doorway dimension maybe hell daughter get suck day apparent reason come big breast wear skimpy outfit guess demon dimension main character guy want marry girlfriend gay obviously interested new girlfriend stumble witch spell book want witch evil spell end get read evil demon come earth bikini girl spurned guy love stop apparently topless scene reason guy boyfriend say know wrestler completely unnecessary obviously maybe wrestle fan actually watch pointless movie sure topless girl hurt extra feature dvd confusing rest movie think help explain go actually thing confusing people basically camping fight monster movie bunch thing like dimension book seller confusing like movie like buck big deal recommend watch stupid think movie good"
        ],
        [
         "44",
         "Imagine this: a high school. Except it's boarding school, and the kids don't have parents around. Oh, and it's in Malibu. And the kids are all thin, white, and gorgeous, with the exceptional token minority or fat kid to play the \"weird\" outcast. And there aren't any reasonable rules, like how they have co-habitation, nuclear weapons in their dorms, coffee stands, a sushi bar, and a complimentary laptop per student.<br /><br />Here's the story: A girl, Zoey Brooks, attends PCA, a formerly all-boys school. Absolutely perfect in every possible way, she is smart, pretty, thin, athletic, creative, and everything a perfectionist wants to be. Almost all the boys in school want her, and every girl wants to be her friend. She's the one everyone comes to for advice, the one who saves the day with a simplistic plan, and is just wonderful. Too bad none of this makes her likable.<br /><br />Are we supposed to believe that if we don't even come close to Zoey's perfection, we're bad people? In the show, nothing's her fault, and if anyone contradicts her, they're portrayed as the bad guy(Logan). He may be a jerk, but at least he has some kind of brain that thinks for himself instead of simply agreeing with the princess every time.<br /><br />Her loyal group of blind followers are: Chase, the average dumb ass that has a secret crush on her, Michael, the token black guy (and the only decent actor on the set), Lola, a wannabe actress and anorexic, snobby airhead, Quinn, the smart but clueless girl when it comes to teen stuff, and Logan, the rich jerk who has a soft side. Yeah, this show basically spews out stereotypes.<br /><br />What ticks me off, though, is that they all try to pretend they're normal kids. They complain that Logan gets too much money while they have to work themselves, even though they already go to a too-good-to-be-true boarding school and have relatively nice things that many teenagers can't afford. They drink coffee and eat sushi on a regular basis, hardly have homework, and suntan almost every day. Wow, they have it hard! Any other problems? I'm too good-looking, rich, and stress-free! I guess Zoey 101 (what's the 101 for, anyway?) is Nick's attempt at trying to portray teens realistically. Except they caught a glimpse of reality, didn't like it, and decided to give the kids lives like the asses on The Hills.<br /><br />But hey, at least the set's pretty.",
         "0",
         "imagine high school boarding school kid parent oh malibu kid thin white gorgeous exceptional token minority fat kid play weird outcast reasonable rule like co habitation nuclear weapon dorm coffee stand sushi bar complimentary laptop student.<br /><br />here story girl zoey brooks attend pca boy school absolutely perfect possible way smart pretty thin athletic creative perfectionist want boy school want girl want friend come advice save day simplistic plan wonderful bad make likable.<br /><br />are suppose believe come close zoey perfection bad people fault contradict portray bad guy(logan jerk kind brain think instead simply agree princess time.<br /><br />her loyal group blind follower chase average dumb ass secret crush michael token black guy decent actor set lola wannabe actress anorexic snobby airhead quinn smart clueless girl come teen stuff logan rich jerk soft yeah basically spew stereotypes.<br /><br />what tick try pretend normal kid complain logan get money work good true boarding school relatively nice thing teenager afford drink coffee eat sushi regular basis hardly homework suntan day wow hard problem good look rich stress free guess zoey 101 101 nick attempt try portray teen realistically catch glimpse reality like decide kid live like ass hills.<br /><br />but hey set pretty"
        ],
        [
         "45",
         "I thrive on cinema....but there is a limit. A NAME isn't enough to make A MOVIE!. The beginning of the movie puts us in a mood to expect the unseen yet. But we remain hungry ( or angry..) till the end . Things are getting so confused that I admit that I DID NOT UNDERSTAND THE END or was there an end to this nonesense. The opportunity to make an outstanding movie was there but the target was totally missed. Next...",
         "0",
         "thrive cinema .... limit movie beginning movie put mood expect unseen remain hungry angry .. till end thing get confused admit understand end end nonesense opportunity outstanding movie target totally miss ..."
        ],
        [
         "46",
         "Michael Callan plays a smarmy photographer who seems, nonetheless, to be regarded as a perfect \"catch\" by any woman that runs across him; could this have anything to do with the fact that he also co-produced the film? He's a \"hero\" whom it's very difficult to empathize with, so the movie is in trouble right from the start. However, it's troubles don't end there. It has the production values of a TV-movie (check out that head made of clay or something, near the end), and the ending cheats in a way that I can't reveal, in case anyone wants to see the movie (highly unlikely). Let's just say that the killer knows more than we were let to know he knows. (*1/2)",
         "0",
         "michael callan play smarmy photographer nonetheless regard perfect catch woman run fact co produce film hero difficult empathize movie trouble right start trouble end production value tv movie check head clay near end end cheat way reveal case want movie highly unlikely let killer know let know know 1/2"
        ],
        [
         "47",
         "During the Clete Roberts preface, I was beginning to think this was an Ed Wood production, however, what rolls out here is some pretty hard hitting stuff. The story of crime and corruption in a Southern town is told using a cast culled from Hollywood's Poverty Row, and this makes the movie all the more realistic. There are no punches pulled here, and at times the film is reminiscent of \"The Well\"(1951). The Black and White texture gives a newsreel-like quality. For certain, younger viewers will be reminded of \"The Blair Witch Project\" but this one IS based on REAL events!",
         "1",
         "clete roberts preface begin think ed wood production roll pretty hard hit stuff story crime corruption southern town tell cast cull hollywood poverty row make movie realistic punch pull time film reminiscent well\"(1951 black white texture give newsreel like quality certain young viewer remind blair witch project base real event"
        ],
        [
         "48",
         "This film was basically set up for failure by the studio. One, Anne Rice (author of the book) offered to write the screen play but was refused by the studio. Two, they tried to stuff 2 in depth novels in to a 2hour movie.<br /><br />I maintain the only way for these two books -Vampire Lestat and Queen of the Damned- to work in a live action form would be through a mini-series. First off the the Vampire Lestat alone takes place from the 1700's to the 1980's and has a plethora of character vital to the plot understanding of the main character, Lestat. The entire book Vampire Lestat sets up the events of the second part Queen of the Damned. Without that full understanding the premise of a movie is destroyed.<br /><br />Lestat was not cruel and vicious to all, he was not wanting to go along with Akasha's plans, Marius did not make Lestat, Lestat did not love Jesse or make her, Lestat could not go remain unscathed by the light, Marius was not after David nor the other way around, every character was completely represented wrong, BASICALLY same names different story.<br /><br />If they wanted to make a vampire movie, fine. Even if you wanted to be inspired by these novels, fine. But don't piggie back into the theaters off the success of Rice's great novels and characters just to destroy what her loyal readers have come to love.<br /><br />If you haven't read the books you won't understand the film really, if you have read the books you will be insulted. That being said, I am such a huge fan I had to see the movie knowing full well this was going to be the case and still went for it. Catch 22, must see it, will hate it.",
         "0",
         "film basically set failure studio anne rice author book offer write screen play refuse studio try stuff 2 depth novel 2hour movie.<br /><br />i maintain way book -vampire lestat queen damned- work live action form mini series vampire lestat take place 1700 1980 plethora character vital plot understanding main character lestat entire book vampire lestat set event second queen damned understanding premise movie destroyed.<br /><br />lestat cruel vicious want akasha plan marius lestat lestat love jesse lestat remain unscathed light marius david way character completely represent wrong basically name different story.<br /><br />if want vampire movie fine want inspire novel fine piggie theater success rice great novel character destroy loyal reader come love.<br /><br />if read book will understand film read book insult say huge fan movie know go case go catch 22 hate"
        ],
        [
         "49",
         "I like this movie because it is a fine work of cinema, made by people who care enough to make it art and not just home movies. It is filled with Super-surfer Greg Noll's home movies, and a boatload of amateur video from others who align themselves with his 50-year passion. Nevertheless, it has been expanded to the degree that it approaches aesthetic glory. It is filled with artistic talent, and athletic talent, however trivial you might think surfing to be athletic. Surfers are not astronauts nor test-pilots. Nor are they surgeons(perhaps) or Ph.d's(again, perhaps). It believes in the quest of the surfer. It believes in the beauty of human goofiness. It believes in the great gift of peace, which comes from the cessation of war. Surfers celebrate the cessation of war on the north beach of an Hawaiian island attacked by Japanese zeroes fifteen years before. It celebrates the down-time of a country which fought a cold war-instead of a hot-war - with the Russian socialists. Surfing is the ultimate narcissism. It is dangerous, but only slightly historical. I suspect Alexander the Great would not be celebrated for his surfing technique. He had to go out and conquer a few dozen countries to get the favorable press he has received. This movie has no military heroes. It has no guns. The only beach-head surfers conquer has a beer-stand and and a surfboard shop. This is not a problem. Peace is not desperate. It is the joy of exhalation.",
         "1",
         "like movie fine work cinema people care art home movie fill super surfer greg noll home movie boatload amateur video align 50 year passion expand degree approach aesthetic glory fill artistic talent athletic talent trivial think surf athletic surfer astronaut test pilot surgeons(perhaps ph.d's(again believe quest surfer believe beauty human goofiness believe great gift peace come cessation war surfer celebrate cessation war north beach hawaiian island attack japanese zero year celebrate time country fight cold war instead hot war russian socialist surfing ultimate narcissism dangerous slightly historical suspect alexander great celebrate surfing technique conquer dozen country favorable press receive movie military hero gun beach head surfer conquer beer stand surfboard shop problem peace desperate joy exhalation"
        ]
       ],
       "shape": {
        "columns": 3,
        "rows": 51089
       }
      },
      "text/html": [
       "<div>\n",
       "<style scoped>\n",
       "    .dataframe tbody tr th:only-of-type {\n",
       "        vertical-align: middle;\n",
       "    }\n",
       "\n",
       "    .dataframe tbody tr th {\n",
       "        vertical-align: top;\n",
       "    }\n",
       "\n",
       "    .dataframe thead th {\n",
       "        text-align: right;\n",
       "    }\n",
       "</style>\n",
       "<table border=\"1\" class=\"dataframe\">\n",
       "  <thead>\n",
       "    <tr style=\"text-align: right;\">\n",
       "      <th></th>\n",
       "      <th>text</th>\n",
       "      <th>label</th>\n",
       "      <th>preprocess_text</th>\n",
       "    </tr>\n",
       "  </thead>\n",
       "  <tbody>\n",
       "    <tr>\n",
       "      <th>0</th>\n",
       "      <td>One of the other reviewers has mentioned that ...</td>\n",
       "      <td>1</td>\n",
       "      <td>reviewer mention watch 1 oz episode hook right...</td>\n",
       "    </tr>\n",
       "    <tr>\n",
       "      <th>1</th>\n",
       "      <td>I sure would like to see a resurrection of a u...</td>\n",
       "      <td>1</td>\n",
       "      <td>sure like resurrection date seahunt series tec...</td>\n",
       "    </tr>\n",
       "    <tr>\n",
       "      <th>2</th>\n",
       "      <td>This show was an amazing, fresh &amp; innovative i...</td>\n",
       "      <td>0</td>\n",
       "      <td>amazing fresh innovative idea 70 air 7 8 year ...</td>\n",
       "    </tr>\n",
       "    <tr>\n",
       "      <th>3</th>\n",
       "      <td>This a fantastic movie of three prisoners who ...</td>\n",
       "      <td>1</td>\n",
       "      <td>fantastic movie prisoner famous actor george c...</td>\n",
       "    </tr>\n",
       "    <tr>\n",
       "      <th>4</th>\n",
       "      <td>\"Ardh Satya\" is one of the finest film ever ma...</td>\n",
       "      <td>1</td>\n",
       "      <td>ardh satya fine film indian cinema direct grea...</td>\n",
       "    </tr>\n",
       "    <tr>\n",
       "      <th>...</th>\n",
       "      <td>...</td>\n",
       "      <td>...</td>\n",
       "      <td>...</td>\n",
       "    </tr>\n",
       "    <tr>\n",
       "      <th>51084</th>\n",
       "      <td>Pizza is great but service is crap. waited 10-...</td>\n",
       "      <td>0</td>\n",
       "      <td>pizza great service crap wait 10 15 min 4 ppl ...</td>\n",
       "    </tr>\n",
       "    <tr>\n",
       "      <th>51085</th>\n",
       "      <td>A man came to the house to estimate. He gave m...</td>\n",
       "      <td>0</td>\n",
       "      <td>man come house estimate give card person say r...</td>\n",
       "    </tr>\n",
       "    <tr>\n",
       "      <th>51086</th>\n",
       "      <td>I'm shocked everyone time I go to a Bouchon Ba...</td>\n",
       "      <td>0</td>\n",
       "      <td>shocked time bouchon bakery outside yountville...</td>\n",
       "    </tr>\n",
       "    <tr>\n",
       "      <th>51087</th>\n",
       "      <td>Looks like all of the good reviews have gone t...</td>\n",
       "      <td>0</td>\n",
       "      <td>look like good review go head place   jason ry...</td>\n",
       "    </tr>\n",
       "    <tr>\n",
       "      <th>51088</th>\n",
       "      <td>Ryan Rocks! I called him this morning for some...</td>\n",
       "      <td>1</td>\n",
       "      <td>ryan rocks call morning sprinkler help potenti...</td>\n",
       "    </tr>\n",
       "  </tbody>\n",
       "</table>\n",
       "<p>51089 rows × 3 columns</p>\n",
       "</div>"
      ],
      "text/plain": [
       "                                                    text  label  \\\n",
       "0      One of the other reviewers has mentioned that ...      1   \n",
       "1      I sure would like to see a resurrection of a u...      1   \n",
       "2      This show was an amazing, fresh & innovative i...      0   \n",
       "3      This a fantastic movie of three prisoners who ...      1   \n",
       "4      \"Ardh Satya\" is one of the finest film ever ma...      1   \n",
       "...                                                  ...    ...   \n",
       "51084  Pizza is great but service is crap. waited 10-...      0   \n",
       "51085  A man came to the house to estimate. He gave m...      0   \n",
       "51086  I'm shocked everyone time I go to a Bouchon Ba...      0   \n",
       "51087  Looks like all of the good reviews have gone t...      0   \n",
       "51088  Ryan Rocks! I called him this morning for some...      1   \n",
       "\n",
       "                                         preprocess_text  \n",
       "0      reviewer mention watch 1 oz episode hook right...  \n",
       "1      sure like resurrection date seahunt series tec...  \n",
       "2      amazing fresh innovative idea 70 air 7 8 year ...  \n",
       "3      fantastic movie prisoner famous actor george c...  \n",
       "4      ardh satya fine film indian cinema direct grea...  \n",
       "...                                                  ...  \n",
       "51084  pizza great service crap wait 10 15 min 4 ppl ...  \n",
       "51085  man come house estimate give card person say r...  \n",
       "51086  shocked time bouchon bakery outside yountville...  \n",
       "51087  look like good review go head place   jason ry...  \n",
       "51088  ryan rocks call morning sprinkler help potenti...  \n",
       "\n",
       "[51089 rows x 3 columns]"
      ]
     },
     "execution_count": 15,
     "metadata": {},
     "output_type": "execute_result"
    }
   ],
   "source": [
    "df = pd.read_csv(\"./low_confidence_samples/big_data.csv\")\n",
    "df"
   ]
  },
  {
   "cell_type": "code",
   "execution_count": null,
   "execution_count": 16,
   "id": "e7c1a82d",
   "metadata": {},
   "outputs": [
    {
     "data": {
      "text/plain": [
       "label\n",
       "1    25679\n",
       "0    25410\n",
       "Name: count, dtype: int64"
      ]
     },
     "execution_count": 16,
     "metadata": {},
     "output_type": "execute_result"
    }
   ],
   "source": [
    "df['label'].unique()\n",
    "df['label'].value_counts()"
   ]
  },
  {
   "cell_type": "code",
   "execution_count": 17,
   "id": "2411eb17",
   "metadata": {},
   "outputs": [],
   "source": [
    "df_train, df_test = train_test_split(df, test_size=0.3, shuffle=True)\n",
    "\n",
    "# Ensure text data is a list of strings and drop missing values\n",
    "df_train['text'] = df_train['preprocess_text'].astype(str)\n",
    "df_test['text'] = df_test['preprocess_text'].astype(str)\n",
    "\n",
    "# Ensure text is lowercase\n",
    "df_train['text'] = df_train['text'].str.lower()\n",
    "df_test['text'] = df_test['text'].str.lower()\n",
    "\n",
    "df_train['label'] = df_train['label'].astype(int)\n",
    "df_test['label'] = df_test['label'].astype(int)"
   ]
  },
  {
   "cell_type": "code",
   "execution_count": 18,
   "id": "e999af19",
   "metadata": {},
   "outputs": [
    {
     "data": {
      "application/vnd.microsoft.datawrangler.viewer.v0+json": {
       "columns": [
        {
         "name": "index",
         "rawType": "int64",
         "type": "integer"
        },
        {
         "name": "text",
         "rawType": "object",
         "type": "string"
        },
        {
         "name": "label",
         "rawType": "int64",
         "type": "integer"
        },
        {
         "name": "preprocess_text",
         "rawType": "object",
         "type": "string"
        }
       ],
       "conversionMethod": "pd.DataFrame",
       "ref": "c9651d36-9544-4d41-b3a8-3f5f7f604e9e",
       "rows": [
        [
         "40326",
         "place yummy taste burger try spot town 5 guy fatburger johnny rocket etc good burger long time ... create burger pickle lettuce mustard mayo pepper jack cheese fried egg delicious fry bad ... bf get 18 :) bad .... definitely go",
         "1",
         "place yummy taste burger try spot town 5 guy fatburger johnny rocket etc good burger long time ... create burger pickle lettuce mustard mayo pepper jack cheese fried egg delicious fry bad ... bf get 18 :) bad .... definitely go"
        ],
        [
         "49451",
         "good caf\\u00e9 neighborhood know way far definitely good caf\\u00e9 tasted.\\n\\nlike say hit spot right perfect vector baked good know overpower let taste eating.\\n\\nvery beautiful place feel like step designer shop room like house ikea ad spread popular place seat available outdoor benches.\\n\\nservice bad bit disorganized use paper pen track order underwhelming amateurish .. look improve know tablet spreadsheet simply nitpicking detract great cup caffeine beverage get get cappuccino enjoy greatly list smoothie sound interesting intriguing choose ingredient",
         "1",
         "good caf\\u00e9 neighborhood know way far definitely good caf\\u00e9 tasted.\\n\\nlike say hit spot right perfect vector baked good know overpower let taste eating.\\n\\nvery beautiful place feel like step designer shop room like house ikea ad spread popular place seat available outdoor benches.\\n\\nservice bad bit disorganized use paper pen track order underwhelming amateurish .. look improve know tablet spreadsheet simply nitpicking detract great cup caffeine beverage get get cappuccino enjoy greatly list smoothie sound interesting intriguing choose ingredient"
        ],
        [
         "38042",
         "love place small big price serving reduce   daily special go taco tuesday cost taco",
         "0",
         "love place small big price serving reduce   daily special go taco tuesday cost taco"
        ],
        [
         "28778",
         "read fellow yelper seth y review immediately ok see fear miss good cirque show vegas point 100 time entertaining bit   ear muff kid recreation drug use ok good::\\n\\ncoincidentally sober see think fuck amazing beatles music surround sound fantastic acrobatic light add overall enjoyment hell wait",
         "1",
         "read fellow yelper seth y review immediately ok see fear miss good cirque show vegas point 100 time entertaining bit   ear muff kid recreation drug use ok good::\\n\\ncoincidentally sober see think fuck amazing beatles music surround sound fantastic acrobatic light add overall enjoyment hell wait"
        ],
        [
         "29574",
         "way sub 5 buck   choice kind meat topping plus killer shake   need quick fix want sneek food movie stop disappoint   turkey pastrimi buffalo chicken gyro meat die   grab sharpe write bag check thing want sub ..   simple ...   hard pick want",
         "1",
         "way sub 5 buck   choice kind meat topping plus killer shake   need quick fix want sneek food movie stop disappoint   turkey pastrimi buffalo chicken gyro meat die   grab sharpe write bag check thing want sub ..   simple ...   hard pick want"
        ],
        [
         "7369",
         "  resistance futile need prettie knit",
         "0",
         "  resistance futile need prettie knit"
        ],
        [
         "14625",
         "gym good representation gold gym brand.\\n\\n bathroom filthy toilet order drinking fountain order week owner absent imagine broken machine daily occurrence \\n\\nthe staff like want time find option true",
         "0",
         "gym good representation gold gym brand.\\n\\n bathroom filthy toilet order drinking fountain order week owner absent imagine broken machine daily occurrence \\n\\nthe staff like want time find option true"
        ],
        [
         "41500",
         "burger good crazy price talk 15 burger want cheese extra fry extra 8 milkshake seriously worth consider mosey buffet eat shrimp braise short rib plus place try way hard hip",
         "0",
         "burger good crazy price talk 15 burger want cheese extra fry extra 8 milkshake seriously worth consider mosey buffet eat shrimp braise short rib plus place try way hard hip"
        ],
        [
         "19714",
         "pizza quiet good garlic knot okay taste well pizza place craig rd   cannolis extremely good bit pricey home ranch dressing bomb omgosh garlic garlicky flavor ooooh good",
         "1",
         "pizza quiet good garlic knot okay taste well pizza place craig rd   cannolis extremely good bit pricey home ranch dressing bomb omgosh garlic garlicky flavor ooooh good"
        ],
        [
         "47640",
         "rarely conflicted place huxley.\\n\\nthe place nice feel light decorate ..... lot interesting furnishing notice long spend \\u00a315 bottle prosecco go win me.\\n\\ntheir food read interesting little \\\"fryer centric\\ sunday frioend mum go prosecco order heap small plate share.\\n\\nfish goujon dry seasoned\\npanko olive liiiiiiiike\\nwedge liiiiiiiike\\nbeef taco weirdly napkin stick food\\nmeat platter tasty\\nchicken wing raw yep raw chicken actually good professional kitchen ...... unforgivable yep m suffer consequences!\\n\\nsort huxley come",
         "0",
         "rarely conflicted place huxley.\\n\\nthe place nice feel light decorate ..... lot interesting furnishing notice long spend \\u00a315 bottle prosecco go win me.\\n\\ntheir food read interesting little \\\"fryer centric\\ sunday frioend mum go prosecco order heap small plate share.\\n\\nfish goujon dry seasoned\\npanko olive liiiiiiiike\\nwedge liiiiiiiike\\nbeef taco weirdly napkin stick food\\nmeat platter tasty\\nchicken wing raw yep raw chicken actually good professional kitchen ...... unforgivable yep m suffer consequences!\\n\\nsort huxley come"
        ],
        [
         "25288",
         "pros\\nportion size large\\nhad fish chip w coleslaw tomato basil soup\\nfrie fish good\\nfrie unseasone like\\nplace clean\\nnice waitresses\\n\\ncon \\nice tea strong\\ntb soup little heavy maybe milk?\\ncoleslaw way creamy yuck",
         "1",
         "pros\\nportion size large\\nhad fish chip w coleslaw tomato basil soup\\nfrie fish good\\nfrie unseasone like\\nplace clean\\nnice waitresses\\n\\ncon \\nice tea strong\\ntb soup little heavy maybe milk?\\ncoleslaw way creamy yuck"
        ],
        [
         "16540",
         "good   want biscuit gravy half order   menu come meat egg   point ... lot food way.\\n\\ni've finish machca egg ... ever.\\n\\nbeside go give opportunity old town square chandler   phx tempe mesa matter note ... handler old downtown area",
         "1",
         "good   want biscuit gravy half order   menu come meat egg   point ... lot food way.\\n\\ni've finish machca egg ... ever.\\n\\nbeside go give opportunity old town square chandler   phx tempe mesa matter note ... handler old downtown area"
        ],
        [
         "7809",
         "get white chocolate mocha yesterday happy hour pretty busy expect special know barista drink freaking wizard swear good white chocolate mocha taste usually starbucks kind \\\"okay\\ plus butt ton sugar make good drink taste like heaven.\\n\\nthe thing like bathroom nightmare know see mud az mud floor maybe poop idk care kind stuff business respectful customer",
         "1",
         "get white chocolate mocha yesterday happy hour pretty busy expect special know barista drink freaking wizard swear good white chocolate mocha taste usually starbucks kind \\\"okay\\ plus butt ton sugar make good drink taste like heaven.\\n\\nthe thing like bathroom nightmare know see mud az mud floor maybe poop idk care kind stuff business respectful customer"
        ],
        [
         "8295",
         "great 30 30 find locale.\\n\\nby way 30 madison option   yes leave find large fabulous city.\\n\\nmy recommendation invisible",
         "0",
         "great 30 30 find locale.\\n\\nby way 30 madison option   yes leave find large fabulous city.\\n\\nmy recommendation invisible"
        ],
        [
         "28655",
         "server unfriendly unwelcoming feel like apologize there.\\n\\nthe food sweet ... soup spring roll garden delight ... sweet spicy!\\n\\noverprice quality food service \\n\\ni highly recommend thai rama camelback want good thai food friendly service",
         "0",
         "server unfriendly unwelcoming feel like apologize there.\\n\\nthe food sweet ... soup spring roll garden delight ... sweet spicy!\\n\\noverprice quality food service \\n\\ni highly recommend thai rama camelback want good thai food friendly service"
        ],
        [
         "20506",
         "stay time go vegas minute find room cheap travel search upgrade check reasonable cost get access private lounge free food alcohol plus room hotel huge get lose look elevator couple time speak elevator wait crazy long big clean room nicely decorate comfortable bed downside strip tram have maintenance",
         "1",
         "stay time go vegas minute find room cheap travel search upgrade check reasonable cost get access private lounge free food alcohol plus room hotel huge get lose look elevator couple time speak elevator wait crazy long big clean room nicely decorate comfortable bed downside strip tram have maintenance"
        ],
        [
         "2254",
         "kon ichikawa live world war see effect people japan novelist shohei ooka book inspiration ichikawa film fire plain film man war universally war general lose humanity soldier trudge field jungle philippenes story completely hope make stone platoon look like picnic certain thing like food all.<br /><br />they little reserve supply ammunition sense go way combat thrust proper hospital care long walk lose limb example tb way prism soldier private tamura sense futility war bleak scene nothingness boredom decay flash intense brutal violence.<br /><br />in film tamura want medical care right start tell superior officer- eye stare expression drain year battle- die find hospital end soldier platoon sort act lead power hungry brute want tamura stash salt later stray soldier group previously ambush cross road night.<br /><br />the story entirely straight line need tamura path fire plain tell vignette little story like come seemingly deserted enemy village populous come supply tamura sneak excruciating scene far tamura see outright wrong scene evil fear desperation spoil get stash salt little scene build brilliantly devastation like simple task find pair walkable shoe tamura later film discover tooth tear apart fall lack total hygiene food goes.<br /><br />it mention hauntingly realize film ichikawa shoot stark black white view field wood cinematography fill black black white hot white ichikawa make sure authentic actor simply emotionally emaciated look look desperation right ichikawa survive film character survive wild wild way mean cannibalism shock fold way soldier say half jokingly early eat soldier tamaura ask true response get ask word caution second depiction cannibalism crazy starve man hill pull gut lap say straight face hero eat die br /><br />this make thing especially brutal come director film brief action scene argue brutal private ryan depiction violence battle carnage completely random scene point contain shot excruciating watch high angle group soldier walk slowly hail gunfire come kill happen fast soldier walk crawl shot horrible carnage show need bloody splash screen like completely macabre drive point completely.<br /><br />all acting staggering funakoshi especially look peace horrified see subtle look time major set piece provide gruesome experience amount ultimate question anti war film people fight war like depressing word ichikawa push nose right muck filth blood demand maybe day happen hope end bleak great film",
         "1",
         "kon ichikawa live world war see effect people japan novelist shohei ooka book inspiration ichikawa film fire plain film man war universally war general lose humanity soldier trudge field jungle philippenes story completely hope make stone platoon look like picnic certain thing like food all.<br /><br />they little reserve supply ammunition sense go way combat thrust proper hospital care long walk lose limb example tb way prism soldier private tamura sense futility war bleak scene nothingness boredom decay flash intense brutal violence.<br /><br />in film tamura want medical care right start tell superior officer- eye stare expression drain year battle- die find hospital end soldier platoon sort act lead power hungry brute want tamura stash salt later stray soldier group previously ambush cross road night.<br /><br />the story entirely straight line need tamura path fire plain tell vignette little story like come seemingly deserted enemy village populous come supply tamura sneak excruciating scene far tamura see outright wrong scene evil fear desperation spoil get stash salt little scene build brilliantly devastation like simple task find pair walkable shoe tamura later film discover tooth tear apart fall lack total hygiene food goes.<br /><br />it mention hauntingly realize film ichikawa shoot stark black white view field wood cinematography fill black black white hot white ichikawa make sure authentic actor simply emotionally emaciated look look desperation right ichikawa survive film character survive wild wild way mean cannibalism shock fold way soldier say half jokingly early eat soldier tamaura ask true response get ask word caution second depiction cannibalism crazy starve man hill pull gut lap say straight face hero eat die br /><br />this make thing especially brutal come director film brief action scene argue brutal private ryan depiction violence battle carnage completely random scene point contain shot excruciating watch high angle group soldier walk slowly hail gunfire come kill happen fast soldier walk crawl shot horrible carnage show need bloody splash screen like completely macabre drive point completely.<br /><br />all acting staggering funakoshi especially look peace horrified see subtle look time major set piece provide gruesome experience amount ultimate question anti war film people fight war like depressing word ichikawa push nose right muck filth blood demand maybe day happen hope end bleak great film"
        ],
        [
         "3403",
         "cat soup random animate film good way able explain acidic totally random story nyatta young cat boy sister nyaako nyaako ill die nyatta see soul take away death able retrieve half story quest bring nyaako fully life.<br /><br />though lot content movie completely random symbolism life death rebirth reference tale hansel gretal strangely cute short film interesting story pack deep meaning surface screen",
         "1",
         "cat soup random animate film good way able explain acidic totally random story nyatta young cat boy sister nyaako nyaako ill die nyatta see soul take away death able retrieve half story quest bring nyaako fully life.<br /><br />though lot content movie completely random symbolism life death rebirth reference tale hansel gretal strangely cute short film interesting story pack deep meaning surface screen"
        ],
        [
         "14972",
         "price high food great afford",
         "0",
         "price high food great afford"
        ],
        [
         "14509",
         "charge 110 tell gas cap screw tightly furious husband tell obviously manager tell fine proceed flip husband drive nice customer service \\n\\njust record go year prior service new brake spend 400 team completely different great customer service go place \\n\\ndon't",
         "0",
         "charge 110 tell gas cap screw tightly furious husband tell obviously manager tell fine proceed flip husband drive nice customer service \\n\\njust record go year prior service new brake spend 400 team completely different great customer service go place \\n\\ndon't"
        ],
        [
         "16133",
         "fry bread green chili good sure try fry bread worth",
         "1",
         "fry bread green chili good sure try fry bread worth"
        ],
        [
         "47615",
         "positive experience adopt dog check website ahead time bring current dog go potential pick let walk pick dog bring outside interact choose dog impartial ask policy work reassure switch dog settle potty train mannered dog",
         "1",
         "positive experience adopt dog check website ahead time bring current dog go potential pick let walk pick dog bring outside interact choose dog impartial ask policy work reassure switch dog settle potty train mannered dog"
        ],
        [
         "44319",
         "good pizza las vegas overall good restaurant state nevada food fresh chef unpredictable new recipe get luck draw try gio darren artist welcome faithful customer return slice rare taste think exist east coast like apart family new york live 14 year old school pizzeria close feel home",
         "1",
         "good pizza las vegas overall good restaurant state nevada food fresh chef unpredictable new recipe get luck draw try gio darren artist welcome faithful customer return slice rare taste think exist east coast like apart family new york live 14 year old school pizzeria close feel home"
        ],
        [
         "554",
         "like poster mention ch 56 local boston tv station show multiple time year saturday afternoon pair sequel return ginat majin\".<br /><br />now see ... leave aside atrocious dubbing fade color pretty good fantasy technically horror ... statue come life end village rule evil man giant stone statue villager pray help ... avail thing far statute come life destroy bad guy ... start go good guy cool special effect end love get rid main bad guy enchanted forest work kind interesting too.<br /><br />no masterpiece unusual combo fantasy horror film worth catch -- dub print",
         "1",
         "like poster mention ch 56 local boston tv station show multiple time year saturday afternoon pair sequel return ginat majin\".<br /><br />now see ... leave aside atrocious dubbing fade color pretty good fantasy technically horror ... statue come life end village rule evil man giant stone statue villager pray help ... avail thing far statute come life destroy bad guy ... start go good guy cool special effect end love get rid main bad guy enchanted forest work kind interesting too.<br /><br />no masterpiece unusual combo fantasy horror film worth catch -- dub print"
        ],
        [
         "19985",
         "say place ... quick update wine cellar construction ... current wine list fraction ... list see online available cellar finished.\\n\\nalso order specific menu ... trust waiter waitress let order   wrong",
         "1",
         "say place ... quick update wine cellar construction ... current wine list fraction ... list see online available cellar finished.\\n\\nalso order specific menu ... trust waiter waitress let order   wrong"
        ],
        [
         "49313",
         "5:30pm saturday large space bustle activity fill quickly buffet isle light tray steam hot food glistening colorful sushi area clean \\n\\nwe start sushi surprisingly good piece small fishiness -- score giddiness increase spot steam half crab bad ammonia taste later google \\\"what eat ammonia crab.\\ good laugh response come green bean favorite hot dish fresh stir fry garlic pickled radish mac cheese comfort unfortunately dining companion die hard general tso chicken fan eat gtc condition enjoy general tso chicken salad bar virtually untouched tray fill limp spinach leave brown iceberg variety fresh fruit selection dessert jello soft serve find necessary staple epic suburban asian buffet   \\n\\nif like volume variety place lot effort keep price low example fried scallop scallop sort imitation meat know seafood eat sea probably good combination think shrimp real \\n\\ntl;dr good thing place sushi good come",
         "0",
         "5:30pm saturday large space bustle activity fill quickly buffet isle light tray steam hot food glistening colorful sushi area clean \\n\\nwe start sushi surprisingly good piece small fishiness -- score giddiness increase spot steam half crab bad ammonia taste later google \\\"what eat ammonia crab.\\ good laugh response come green bean favorite hot dish fresh stir fry garlic pickled radish mac cheese comfort unfortunately dining companion die hard general tso chicken fan eat gtc condition enjoy general tso chicken salad bar virtually untouched tray fill limp spinach leave brown iceberg variety fresh fruit selection dessert jello soft serve find necessary staple epic suburban asian buffet   \\n\\nif like volume variety place lot effort keep price low example fried scallop scallop sort imitation meat know seafood eat sea probably good combination think shrimp real \\n\\ntl;dr good thing place sushi good come"
        ],
        [
         "19085",
         "yelper crew peep laugh tell go yelp place know come experience friday night amazed find review write read review true service friendly slow food deep fry bar food dessert get brownie sundae cheat day lol brownie freezer burn charge lol \\n\\nwhen karaoke karaoke bar ... wait ... karaoke duh slow service junk food tolerable expect karaoke suppose way patron come regular basis create following review expect calico jacks successful easy change \\nfirst let setup pimp separate room designate permanent karaoke facility stage dance floor dj area setup require reason nightly event 3 night week start time ... get suggestion \\n\\n1 start karaoke time friday one promptly 9 pm karaoke start 10 1 sing twice second time count duet submit handful people regular maybe go multiple time sense punish comer make wait hour start \\n\\n2 tip get fast pass know time give guy 5 wait hour review think secret brotherhood bribe simply misunderstanding shame make money hawaii standard pay dj song sing let know ahead time \\n\\n3 play favorite well way piss karaoke goer pick favorite sing time business private party friend 9 pm 1 sing song submit sing time count 40 50 people place \\n\\n4 skip dance party 10 minute hour guy dance party karaoke hold totally confused table 10 people come sing wait watch drunk f dance party karaoke dj need break stay dj booth dj e dance party suggestion choose dance song karaoke signer submit dance portion \\n\\nall say calico jack chance regular party 10 come friday spend 500 pt change karaoke schedule need find new place land friday night afraid thing change will partake karaoke calico jack",
         "0",
         "yelper crew peep laugh tell go yelp place know come experience friday night amazed find review write read review true service friendly slow food deep fry bar food dessert get brownie sundae cheat day lol brownie freezer burn charge lol \\n\\nwhen karaoke karaoke bar ... wait ... karaoke duh slow service junk food tolerable expect karaoke suppose way patron come regular basis create following review expect calico jacks successful easy change \\nfirst let setup pimp separate room designate permanent karaoke facility stage dance floor dj area setup require reason nightly event 3 night week start time ... get suggestion \\n\\n1 start karaoke time friday one promptly 9 pm karaoke start 10 1 sing twice second time count duet submit handful people regular maybe go multiple time sense punish comer make wait hour start \\n\\n2 tip get fast pass know time give guy 5 wait hour review think secret brotherhood bribe simply misunderstanding shame make money hawaii standard pay dj song sing let know ahead time \\n\\n3 play favorite well way piss karaoke goer pick favorite sing time business private party friend 9 pm 1 sing song submit sing time count 40 50 people place \\n\\n4 skip dance party 10 minute hour guy dance party karaoke hold totally confused table 10 people come sing wait watch drunk f dance party karaoke dj need break stay dj booth dj e dance party suggestion choose dance song karaoke signer submit dance portion \\n\\nall say calico jack chance regular party 10 come friday spend 500 pt change karaoke schedule need find new place land friday night afraid thing change will partake karaoke calico jack"
        ],
        [
         "44328",
         "amazing coffee serve miserable people",
         "0",
         "amazing coffee serve miserable people"
        ],
        [
         "40947",
         "vegas short time   go late breakfast friend hit place   hear red velvet pancake order   ok far good pancake   come cream cheese syrup   amazing order short stack bacon   bacon wonderfully smoke bacon   taste like smoke like good brisket   good   bit wait restaurant kind small worth wait   waitress cashier delightful attentive   try biscuit gravy",
         "1",
         "vegas short time   go late breakfast friend hit place   hear red velvet pancake order   ok far good pancake   come cream cheese syrup   amazing order short stack bacon   bacon wonderfully smoke bacon   taste like smoke like good brisket   good   bit wait restaurant kind small worth wait   waitress cashier delightful attentive   try biscuit gravy"
        ],
        [
         "48727",
         "food great \\n\\nnice little clean place.\\nthe menu lack description able ask waiter sound interesting \\n\\ni",
         "1",
         "food great \\n\\nnice little clean place.\\nthe menu lack description able ask waiter sound interesting \\n\\ni"
        ],
        [
         "44839",
         "twice love time order office agree delicious true ny pizza garlic knot die sure kind expectation people pizza terrible par place valley definitely well one east valley",
         "1",
         "twice love time order office agree delicious true ny pizza garlic knot die sure kind expectation people pizza terrible par place valley definitely well one east valley"
        ],
        [
         "24505",
         "ghettoish mall store store nice food court ghettoish ......",
         "0",
         "ghettoish mall store store nice food court ghettoish ......"
        ],
        [
         "37073",
         "wonderful place hard describe word have awful experience office west valley women care accept care open arm take care get record previous place deal aggravation.\\n\\ndure pregnancy daughter environment west vally woman care provide helpful comforting doctor amazing time know patient feel completely comfortable duration pregnancy continue answer question have.\\n\\ni continue recommend office place wonderful",
         "1",
         "wonderful place hard describe word have awful experience office west valley women care accept care open arm take care get record previous place deal aggravation.\\n\\ndure pregnancy daughter environment west vally woman care provide helpful comforting doctor amazing time know patient feel completely comfortable duration pregnancy continue answer question have.\\n\\ni continue recommend office place wonderful"
        ],
        [
         "10428",
         "get lunch today   9.63 get soup salad vegetable tempura 6 avocado roll steamed rice pickle   ton food fill eat salad stuff   agree wasabi pretty weak add ton add spice flavor   bit pricy expect menu outdate say lunch 6.95   oops filling worth treat",
         "1",
         "get lunch today   9.63 get soup salad vegetable tempura 6 avocado roll steamed rice pickle   ton food fill eat salad stuff   agree wasabi pretty weak add ton add spice flavor   bit pricy expect menu outdate say lunch 6.95   oops filling worth treat"
        ],
        [
         "34309",
         "modern slightly cold love vegas .. miss character gimicky showy vegas exude room gorgeous open feel casino like pool well encore",
         "0",
         "modern slightly cold love vegas .. miss character gimicky showy vegas exude room gorgeous open feel casino like pool well encore"
        ],
        [
         "7759",
         "indian food.\\n\\nlunch buffet.\\n\\nrice pudding.\\n\\nnuff say",
         "1",
         "indian food.\\n\\nlunch buffet.\\n\\nrice pudding.\\n\\nnuff say"
        ],
        [
         "33605",
         "want well rating great topping service great cute little restaurant beer flight wine flight pizza dough ok   expect dough \\\"doughy\\ look crisp dough wood fire oven place   \\ni've search long hard pizza place egg pizza remind pizza italy   \\njust great topping work dough",
         "0",
         "want well rating great topping service great cute little restaurant beer flight wine flight pizza dough ok   expect dough \\\"doughy\\ look crisp dough wood fire oven place   \\ni've search long hard pizza place egg pizza remind pizza italy   \\njust great topping work dough"
        ],
        [
         "6870",
         "want perfect thatã¯â¿â½ hard cause know itã¯â¿â½s impossible ...",
         "0",
         "want perfect thatã¯â¿â½ hard cause know itã¯â¿â½s impossible ..."
        ],
        [
         "47018",
         "impression great 6 minute wait coffee second person .. \\n\\nto long coffee!!\\n\\ncool\\natmosphere staff maybe early stoic",
         "0",
         "impression great 6 minute wait coffee second person .. \\n\\nto long coffee!!\\n\\ncool\\natmosphere staff maybe early stoic"
        ],
        [
         "5041",
         "aware largo winch comic book graphic novel actually know admit hear agent hero movie expect different actually got.<br /><br />while startling watch nice watch tell twist foreseeable general end go stellar performance lead actor good support cast enjoyable watch action pack hope expect movie like good mixture",
         "1",
         "aware largo winch comic book graphic novel actually know admit hear agent hero movie expect different actually got.<br /><br />while startling watch nice watch tell twist foreseeable general end go stellar performance lead actor good support cast enjoyable watch action pack hope expect movie like good mixture"
        ],
        [
         "49543",
         "zero star ask ice puppy buy gazillion value drink tell pay \\namazing ... \\ni think 1 star starbuck get great service take stingy different level \\nno thank u.",
         "0",
         "zero star ask ice puppy buy gazillion value drink tell pay \\namazing ... \\ni think 1 star starbuck get great service take stingy different level \\nno thank u."
        ],
        [
         "41716",
         "vegas hit buffet usually 40 wristband unlimited buffet paris hotel decide branch \\\"buffet group\\ rio paris planet hollywood yelp brunch buffet wicked spoon high rating \\n\\nwe get 11:30 saturday wait 20 minute mean dog lunch rush service excellent get 10 unlimited mimosa deal kyle server attentive time glass kyle come mimosa \\n\\nthe price buffet 36 absolutely worth food come individual portion fresh food run low oh desert bar die \\n\\ni sure place get bad review meet expectation come definitely thank cosmopolitan kyle",
         "1",
         "vegas hit buffet usually 40 wristband unlimited buffet paris hotel decide branch \\\"buffet group\\ rio paris planet hollywood yelp brunch buffet wicked spoon high rating \\n\\nwe get 11:30 saturday wait 20 minute mean dog lunch rush service excellent get 10 unlimited mimosa deal kyle server attentive time glass kyle come mimosa \\n\\nthe price buffet 36 absolutely worth food come individual portion fresh food run low oh desert bar die \\n\\ni sure place get bad review meet expectation come definitely thank cosmopolitan kyle"
        ],
        [
         "5882",
         "hope not rain tonight tomorrow fam come visit swimming pool carne asada   rain pool go dirty",
         "1",
         "hope not rain tonight tomorrow fam come visit swimming pool carne asada   rain pool go dirty"
        ],
        [
         "8735",
         "feel like different   confused find thing hard maneuver disorganization long line run aisle   like location convenient lunch break   allow plenty line wait line ...",
         "0",
         "feel like different   confused find thing hard maneuver disorganization long line run aisle   like location convenient lunch break   allow plenty line wait line ..."
        ],
        [
         "12354",
         "store huge lot lot product   happy shop search sale item check   falsely advertise sale item   today go purchase \\\"camp kids\\ product sale 50   check claim paintable bobble head include   claim \\\"camp kids\\ product include   product choose sale rack sale sign   specifically sure read \\\"sale sign\\ correctly refuse honor     trust advertise   choose shop .... well check receipt",
         "0",
         "store huge lot lot product   happy shop search sale item check   falsely advertise sale item   today go purchase \\\"camp kids\\ product sale 50   check claim paintable bobble head include   claim \\\"camp kids\\ product include   product choose sale rack sale sign   specifically sure read \\\"sale sign\\ correctly refuse honor     trust advertise   choose shop .... well check receipt"
        ],
        [
         "5173",
         "watch episode series poor vhs tape record series glad though.<br /><br />ramona base child book beverly cleary follow adventure title year old sarah polley fun friend family get trouble like year old episode pretty good mystery meal kind gross vegan funny see parent try kid eat cow tongue episode mention godzilla versus smog monster twice bad like ramona bad day dishearten ramona go rough day imagine get revenge friend howie uncle pre psi factor barclay hope tease perfect day good.<br /><br />lori chodo play beezus ramona sister swear see imdb list unfortunately series dvd crappy day dvd actually like buy injustice",
         "1",
         "watch episode series poor vhs tape record series glad though.<br /><br />ramona base child book beverly cleary follow adventure title year old sarah polley fun friend family get trouble like year old episode pretty good mystery meal kind gross vegan funny see parent try kid eat cow tongue episode mention godzilla versus smog monster twice bad like ramona bad day dishearten ramona go rough day imagine get revenge friend howie uncle pre psi factor barclay hope tease perfect day good.<br /><br />lori chodo play beezus ramona sister swear see imdb list unfortunately series dvd crappy day dvd actually like buy injustice"
        ],
        [
         "20227",
         "coworker take newbie charlotte like place ... lunch buffet 9.99 pretty cheap sashimi selection bad ... aware buffet table near buffet table area ... lunch time service fast definitely",
         "1",
         "coworker take newbie charlotte like place ... lunch buffet 9.99 pretty cheap sashimi selection bad ... aware buffet table near buffet table area ... lunch time service fast definitely"
        ],
        [
         "6423",
         "  hahahahaha u look good ur picture",
         "1",
         "  hahahahaha u look good ur picture"
        ],
        [
         "33127",
         "wander round flat count print wall come red door gallery good return gallery shop small cosy regularly change attraction fit treat victoria street shop nearby stock sort stuff head time.\\n\\ni know particular policy source work maybe local artist definitely local feel round corner candlemaker row frame firm year suit fine day space occupy shop specialise polish poster art sad red door make loss",
         "1",
         "wander round flat count print wall come red door gallery good return gallery shop small cosy regularly change attraction fit treat victoria street shop nearby stock sort stuff head time.\\n\\ni know particular policy source work maybe local artist definitely local feel round corner candlemaker row frame firm year suit fine day space occupy shop specialise polish poster art sad red door make loss"
        ],
        [
         "30993",
         "twice week plan return sushi good value see present beautifully good reasonably price miso soup thick edamame boil perfection place relatively close work plan go lunch often.\\n\\nit busy time go happy quick seating service hope customer stay open owner incredibly nice throw free fruit plate dessert time go highly recommend place maybe",
         "1",
         "twice week plan return sushi good value see present beautifully good reasonably price miso soup thick edamame boil perfection place relatively close work plan go lunch often.\\n\\nit busy time go happy quick seating service hope customer stay open owner incredibly nice throw free fruit plate dessert time go highly recommend place maybe"
        ]
       ],
       "shape": {
        "columns": 3,
        "rows": 35762
       }
      },
      "text/html": [
       "<div>\n",
       "<style scoped>\n",
       "    .dataframe tbody tr th:only-of-type {\n",
       "        vertical-align: middle;\n",
       "    }\n",
       "\n",
       "    .dataframe tbody tr th {\n",
       "        vertical-align: top;\n",
       "    }\n",
       "\n",
       "    .dataframe thead th {\n",
       "        text-align: right;\n",
       "    }\n",
       "</style>\n",
       "<table border=\"1\" class=\"dataframe\">\n",
       "  <thead>\n",
       "    <tr style=\"text-align: right;\">\n",
       "      <th></th>\n",
       "      <th>text</th>\n",
       "      <th>label</th>\n",
       "      <th>preprocess_text</th>\n",
       "    </tr>\n",
       "  </thead>\n",
       "  <tbody>\n",
       "    <tr>\n",
       "      <th>40326</th>\n",
       "      <td>place yummy taste burger try spot town 5 guy f...</td>\n",
       "      <td>1</td>\n",
       "      <td>place yummy taste burger try spot town 5 guy f...</td>\n",
       "    </tr>\n",
       "    <tr>\n",
       "      <th>49451</th>\n",
       "      <td>good caf\\u00e9 neighborhood know way far defin...</td>\n",
       "      <td>1</td>\n",
       "      <td>good caf\\u00e9 neighborhood know way far defin...</td>\n",
       "    </tr>\n",
       "    <tr>\n",
       "      <th>38042</th>\n",
       "      <td>love place small big price serving reduce   da...</td>\n",
       "      <td>0</td>\n",
       "      <td>love place small big price serving reduce   da...</td>\n",
       "    </tr>\n",
       "    <tr>\n",
       "      <th>28778</th>\n",
       "      <td>read fellow yelper seth y review immediately o...</td>\n",
       "      <td>1</td>\n",
       "      <td>read fellow yelper seth y review immediately o...</td>\n",
       "    </tr>\n",
       "    <tr>\n",
       "      <th>29574</th>\n",
       "      <td>way sub 5 buck   choice kind meat topping plus...</td>\n",
       "      <td>1</td>\n",
       "      <td>way sub 5 buck   choice kind meat topping plus...</td>\n",
       "    </tr>\n",
       "    <tr>\n",
       "      <th>...</th>\n",
       "      <td>...</td>\n",
       "      <td>...</td>\n",
       "      <td>...</td>\n",
       "    </tr>\n",
       "    <tr>\n",
       "      <th>11284</th>\n",
       "      <td>go yelp review new car car wash want hand wash...</td>\n",
       "      <td>1</td>\n",
       "      <td>go yelp review new car car wash want hand wash...</td>\n",
       "    </tr>\n",
       "    <tr>\n",
       "      <th>44732</th>\n",
       "      <td>montreal long safely good dim sum montreal \\n\\...</td>\n",
       "      <td>1</td>\n",
       "      <td>montreal long safely good dim sum montreal \\n\\...</td>\n",
       "    </tr>\n",
       "    <tr>\n",
       "      <th>38158</th>\n",
       "      <td>\\\"i positive reviews\\ kind review \\n\\nthis hot...</td>\n",
       "      <td>0</td>\n",
       "      <td>\\\"i positive reviews\\ kind review \\n\\nthis hot...</td>\n",
       "    </tr>\n",
       "    <tr>\n",
       "      <th>860</th>\n",
       "      <td>die 2003 br /&gt;&lt;br /&gt;i'll admit mistake realize...</td>\n",
       "      <td>0</td>\n",
       "      <td>die 2003 br /&gt;&lt;br /&gt;i'll admit mistake realize...</td>\n",
       "    </tr>\n",
       "    <tr>\n",
       "      <th>15795</th>\n",
       "      <td>go month   see mary massage monthly basis love...</td>\n",
       "      <td>1</td>\n",
       "      <td>go month   see mary massage monthly basis love...</td>\n",
       "    </tr>\n",
       "  </tbody>\n",
       "</table>\n",
       "<p>35762 rows × 3 columns</p>\n",
       "</div>"
      ],
      "text/plain": [
       "                                                    text  label  \\\n",
       "40326  place yummy taste burger try spot town 5 guy f...      1   \n",
       "49451  good caf\\u00e9 neighborhood know way far defin...      1   \n",
       "38042  love place small big price serving reduce   da...      0   \n",
       "28778  read fellow yelper seth y review immediately o...      1   \n",
       "29574  way sub 5 buck   choice kind meat topping plus...      1   \n",
       "...                                                  ...    ...   \n",
       "11284  go yelp review new car car wash want hand wash...      1   \n",
       "44732  montreal long safely good dim sum montreal \\n\\...      1   \n",
       "38158  \\\"i positive reviews\\ kind review \\n\\nthis hot...      0   \n",
       "860    die 2003 br /><br />i'll admit mistake realize...      0   \n",
       "15795  go month   see mary massage monthly basis love...      1   \n",
       "\n",
       "                                         preprocess_text  \n",
       "40326  place yummy taste burger try spot town 5 guy f...  \n",
       "49451  good caf\\u00e9 neighborhood know way far defin...  \n",
       "38042  love place small big price serving reduce   da...  \n",
       "28778  read fellow yelper seth y review immediately o...  \n",
       "29574  way sub 5 buck   choice kind meat topping plus...  \n",
       "...                                                  ...  \n",
       "11284  go yelp review new car car wash want hand wash...  \n",
       "44732  montreal long safely good dim sum montreal \\n\\...  \n",
       "38158  \\\"i positive reviews\\ kind review \\n\\nthis hot...  \n",
       "860    die 2003 br /><br />i'll admit mistake realize...  \n",
       "15795  go month   see mary massage monthly basis love...  \n",
       "\n",
       "[35762 rows x 3 columns]"
      ]
     },
     "execution_count": 18,
     "metadata": {},
     "output_type": "execute_result"
    }
   ],
   "source": [
    "df_train"
   ]
  },
  {
   "cell_type": "code",
   "execution_count": 19,
   "id": "10091f20",
   "metadata": {},
   "outputs": [
    {
     "data": {
      "application/vnd.microsoft.datawrangler.viewer.v0+json": {
       "columns": [
        {
         "name": "index",
         "rawType": "int64",
         "type": "integer"
        },
        {
         "name": "text",
         "rawType": "object",
         "type": "string"
        },
        {
         "name": "label",
         "rawType": "int64",
         "type": "integer"
        },
        {
         "name": "preprocess_text",
         "rawType": "object",
         "type": "string"
        }
       ],
       "conversionMethod": "pd.DataFrame",
       "ref": "8c12f5cd-da55-40e8-9dde-a90f9a356600",
       "rows": [
        [
         "2982",
         "anne reid toots peter vaughan pay apparently infrequent visit son bobby steven mackintosh family london visit begin toot suffer fatal heart attack leave adrift unsure question life future find attract daughter boyfriend darren daniel craig action lead inevitable consequences.<br /><br />beautifully film herald realism acclaim mother offer collection unpleasant repellent character ask viewer engage reid shine skill commitment wonderfully understate actor salvage film completely depressing mire michell kureishi allow craig mackintosh cathryn bradshaw create utterly obnoxious character increasingly difficult care happen write character play mackintosh bradshaw fact utterly selfish cold hearted begin wonder exactly kureishi try direct unwilling unable lift bobby paula dimensional ghastly selfishness br /><br />worth see reid performance little cry shame ...",
         "0",
         "anne reid toots peter vaughan pay apparently infrequent visit son bobby steven mackintosh family london visit begin toot suffer fatal heart attack leave adrift unsure question life future find attract daughter boyfriend darren daniel craig action lead inevitable consequences.<br /><br />beautifully film herald realism acclaim mother offer collection unpleasant repellent character ask viewer engage reid shine skill commitment wonderfully understate actor salvage film completely depressing mire michell kureishi allow craig mackintosh cathryn bradshaw create utterly obnoxious character increasingly difficult care happen write character play mackintosh bradshaw fact utterly selfish cold hearted begin wonder exactly kureishi try direct unwilling unable lift bobby paula dimensional ghastly selfishness br /><br />worth see reid performance little cry shame ..."
        ],
        [
         "20938",
         "early breakfast strip nice locate good town will not bother drunk tool drink huge gold bottle red bull vodka not well nice french style bistro locate paris \\n\\nthe price brunch item 14 buck real good deal caliber restaurant right strip will not food hundred spill bean request outside patio section people watch elevated platform people shuffle hear make fun partition separate sidewalk parkour champion safe stare laugh away",
         "1",
         "early breakfast strip nice locate good town will not bother drunk tool drink huge gold bottle red bull vodka not well nice french style bistro locate paris \\n\\nthe price brunch item 14 buck real good deal caliber restaurant right strip will not food hundred spill bean request outside patio section people watch elevated platform people shuffle hear make fun partition separate sidewalk parkour champion safe stare laugh away"
        ],
        [
         "9936",
         "come 4 day 3 night package deal incredibly affordable mandatory timeshare presentation\\n\\nsix get bang bedroom suite equip jacuzzi washer dryer projector sized kitchen king sized bed decent view 14th floor face parking lot hotel room trip.\\n\\npro \\n best deal   room inexpensive spacious overall comfortable\\n large pool downstairs\\n awesome housekeeping ask bunch stuff readily oblige extra towel blanket etc \\n short timeshare presentation exactly finance sale lady wendi let leave enjoy early yay~)\\n early check extended check hour\\n\\ntips:\\n want little extra remember little extra vacation sure afford away change money\\n early check available come serve basis\\n free luggage storage available early arrival late flight real add convenience!\\n\\nthank pleasant wonderful stay",
         "1",
         "come 4 day 3 night package deal incredibly affordable mandatory timeshare presentation\\n\\nsix get bang bedroom suite equip jacuzzi washer dryer projector sized kitchen king sized bed decent view 14th floor face parking lot hotel room trip.\\n\\npro \\n best deal   room inexpensive spacious overall comfortable\\n large pool downstairs\\n awesome housekeeping ask bunch stuff readily oblige extra towel blanket etc \\n short timeshare presentation exactly finance sale lady wendi let leave enjoy early yay~)\\n early check extended check hour\\n\\ntips:\\n want little extra remember little extra vacation sure afford away change money\\n early check available come serve basis\\n free luggage storage available early arrival late flight real add convenience!\\n\\nthank pleasant wonderful stay"
        ],
        [
         "43887",
         "disappointed location deserve 2 star look review experience anomaly service slow need people work employee friendly fine dickey location service well friendly professional fast family get 6 pm sunday wait line lucky -- line door entire time move slowly completely waffle fry low standard bbq sauce spicy run ice cream finish hear employee tell customer macaroni cheese location small table cram hard time get like drink eat chicken pork beef appreciate cut chicken right mess meats.\\n\\ni food fine chicken tender bbq sauce good kid enjoy nugget like stuff bake potato mac cheese awful like cheese soup son love caesar salad take bite declare like young daughter love caesar salad hear son express distaste take bite declare opt find myself.\\n\\nfinally unfair couple groupon \\\"kid eat free sunday\\ deal spend 12 groupon good 24 family pack get 2 adult meal 2 free kid meal buy drink oh large cup groupon good deal end separately buy potato bbq chicken sandwich great deal 5.50 kid meal free take family pack home kid want nugget way that.)\\n\\nthere dickey location far joe real bbq record tom bbq mesa ok favorite phil san diego",
         "0",
         "disappointed location deserve 2 star look review experience anomaly service slow need people work employee friendly fine dickey location service well friendly professional fast family get 6 pm sunday wait line lucky -- line door entire time move slowly completely waffle fry low standard bbq sauce spicy run ice cream finish hear employee tell customer macaroni cheese location small table cram hard time get like drink eat chicken pork beef appreciate cut chicken right mess meats.\\n\\ni food fine chicken tender bbq sauce good kid enjoy nugget like stuff bake potato mac cheese awful like cheese soup son love caesar salad take bite declare like young daughter love caesar salad hear son express distaste take bite declare opt find myself.\\n\\nfinally unfair couple groupon \\\"kid eat free sunday\\ deal spend 12 groupon good 24 family pack get 2 adult meal 2 free kid meal buy drink oh large cup groupon good deal end separately buy potato bbq chicken sandwich great deal 5.50 kid meal free take family pack home kid want nugget way that.)\\n\\nthere dickey location far joe real bbq record tom bbq mesa ok favorite phil san diego"
        ],
        [
         "9413",
         "overall enjoy visit living room sister law \\n\\natmosphere 4 star \\ni like place place neat ... garage door let cool night air little detail place cool \\nthe thing well soft lighting dark dark inside 8 pm read drink menu \\n\\nservice 1 star \\ni think place hire people look actual skill service waitress scarce come time pay bill \\n\\ndrinks 4 star pricey good red sangria blah special peach martini martini delicious strong good thing pay 8 think time probably drink happy hour 8 small sangria bit expensive \\n\\nfood 4 star \\nwe start bruschetta steak gorgonzola apple fig delicious time probably stick bruschetta good dinner get 1/2 prosciutto brie sandwich cup butternut squash soup sandwich slice fatty prosciutto thin layer brie disappointing soup excellent like butternut squash soup recommend try \\n\\ni'll go ... probably happy hour time",
         "1",
         "overall enjoy visit living room sister law \\n\\natmosphere 4 star \\ni like place place neat ... garage door let cool night air little detail place cool \\nthe thing well soft lighting dark dark inside 8 pm read drink menu \\n\\nservice 1 star \\ni think place hire people look actual skill service waitress scarce come time pay bill \\n\\ndrinks 4 star pricey good red sangria blah special peach martini martini delicious strong good thing pay 8 think time probably drink happy hour 8 small sangria bit expensive \\n\\nfood 4 star \\nwe start bruschetta steak gorgonzola apple fig delicious time probably stick bruschetta good dinner get 1/2 prosciutto brie sandwich cup butternut squash soup sandwich slice fatty prosciutto thin layer brie disappointing soup excellent like butternut squash soup recommend try \\n\\ni'll go ... probably happy hour time"
        ],
        [
         "7096",
         "peep get game site",
         "0",
         "peep get game site"
        ],
        [
         "12859",
         "ahhh el pollo loco tell coworker go lunch stare like crazy person obviously there.\\nfirst let offer disclaimer thing 2 piece combo breast wing side coleslaw rice flour tortillas thing menu vouch wonderful order load spicy avocado salsa amazing seriously drink stuff mouth water think \\nanyway little taco rice coleslaw broiled chicken avocado salsa disappoint \\nthe staff kind quickly make nice lunch stop.\\ni give star wish restaurant little ... new bathroom close repair time maybe time replace way come",
         "1",
         "ahhh el pollo loco tell coworker go lunch stare like crazy person obviously there.\\nfirst let offer disclaimer thing 2 piece combo breast wing side coleslaw rice flour tortillas thing menu vouch wonderful order load spicy avocado salsa amazing seriously drink stuff mouth water think \\nanyway little taco rice coleslaw broiled chicken avocado salsa disappoint \\nthe staff kind quickly make nice lunch stop.\\ni give star wish restaurant little ... new bathroom close repair time maybe time replace way come"
        ],
        [
         "4995",
         "american film maker decide film think japanese character badly represent actor japanese set cheap unreal definitely represent kyoto early 20tie 30tie read book understand script writer add extra value differentiate movie script bad change original plot line goof rob marshall main character know chinese actor join crouch tiger hide dragon marshall probably see chinese movie tho represent japanese culture see actor make movie ridiculous quentine tarantino scene kill bill 1 time japanese movie",
         "0",
         "american film maker decide film think japanese character badly represent actor japanese set cheap unreal definitely represent kyoto early 20tie 30tie read book understand script writer add extra value differentiate movie script bad change original plot line goof rob marshall main character know chinese actor join crouch tiger hide dragon marshall probably see chinese movie tho represent japanese culture see actor make movie ridiculous quentine tarantino scene kill bill 1 time japanese movie"
        ],
        [
         "23294",
         "boo hoo hear place pretty good impressed food service nice warrant go frozen patty burger soggy fry \\n\\nit kinda campy kinda place hula stuff miracle mile cross way eat establishment grub \\n\\nbut cheeseburger las vegas good cheeseburger .... 8 oz 1/4 lbs",
         "0",
         "boo hoo hear place pretty good impressed food service nice warrant go frozen patty burger soggy fry \\n\\nit kinda campy kinda place hula stuff miracle mile cross way eat establishment grub \\n\\nbut cheeseburger las vegas good cheeseburger .... 8 oz 1/4 lbs"
        ],
        [
         "13911",
         "lack availability product customer service   associate go occasion accommodate happy   simply way loyal big 5 especially store",
         "1",
         "lack availability product customer service   associate go occasion accommodate happy   simply way loyal big 5 especially store"
        ],
        [
         "45371",
         "let love pizza buffets.\\n\\ni go al friday lunch   bit confused arrive desk   soon seat   interior nice modern looking unfortunately nice thing end.\\n\\nmy idea pizza buffet unlimited supply pizza stand own.\\nal idea pizza buffet choice unlimited slice pizza order 3 time order form waitress.\\n\\nto start order slice silcilian pizza slice pepperoni slice buffalo chicken   like buffalo chicken dust carrot slice carrot slice buffalo chicken pizza silcillian good like sauce pepperoni pizza   time order pizza flag waitress ask order form order pizza wait deliver   odd concept   think return   luisa pizza buffet style",
         "0",
         "let love pizza buffets.\\n\\ni go al friday lunch   bit confused arrive desk   soon seat   interior nice modern looking unfortunately nice thing end.\\n\\nmy idea pizza buffet unlimited supply pizza stand own.\\nal idea pizza buffet choice unlimited slice pizza order 3 time order form waitress.\\n\\nto start order slice silcilian pizza slice pepperoni slice buffalo chicken   like buffalo chicken dust carrot slice carrot slice buffalo chicken pizza silcillian good like sauce pepperoni pizza   time order pizza flag waitress ask order form order pizza wait deliver   odd concept   think return   luisa pizza buffet style"
        ],
        [
         "14350",
         "breakfast 20 nice lady clue save 5 sign stratosphere ace play card player counter     10 min later save 10   wait player counter buffet line   mean something.\\n\\nthis place ordinary serve snow crab leg breakfast   serve purpose day   ride roller coaster stratosphere stop shopping place   reason eat",
         "0",
         "breakfast 20 nice lady clue save 5 sign stratosphere ace play card player counter     10 min later save 10   wait player counter buffet line   mean something.\\n\\nthis place ordinary serve snow crab leg breakfast   serve purpose day   ride roller coaster stratosphere stop shopping place   reason eat"
        ],
        [
         "48807",
         "excited try new restaurant try chicken pot pie nugget nice thin crisp inside half meh.\\n\\nthe inside french onion grilled cheese cheese sandwich tasty onion soup lace wine good.\\n\\nthe slow cooked egg jumbo asparagus undercooked slightly\\nraw white slightly undercooked runny yolk velvety sure chef intend asparagus nice fresh crisp enjoy undercooked egg asparagus pool liquid coat asparagus eat slow cooked egg miss velvety consistency \\n\\nthe best outstanding thing try fish taco delicious layer flavor spice clever thin crisp taro root shell problem tiny tiny street taco maybe little inch long 4.00 spend 12.00 super great tacos slightly large amuse bouche sized taco receive small 12.00 feel meh.\\n\\ncheese plate ok uninspired grape rotten spot fully rotten far fresh plate   little concern observation kitchen catch this.\\n\\nwe bring grape issue attention nice way ask return tell come speak wait wait get check pay check come out.\\n\\ni give star come speak price point factor too.\\n\\nwine selection glass limit 14 25 glass \\n\\ncocktails look run 14.00 17.00 glass",
         "0",
         "excited try new restaurant try chicken pot pie nugget nice thin crisp inside half meh.\\n\\nthe inside french onion grilled cheese cheese sandwich tasty onion soup lace wine good.\\n\\nthe slow cooked egg jumbo asparagus undercooked slightly\\nraw white slightly undercooked runny yolk velvety sure chef intend asparagus nice fresh crisp enjoy undercooked egg asparagus pool liquid coat asparagus eat slow cooked egg miss velvety consistency \\n\\nthe best outstanding thing try fish taco delicious layer flavor spice clever thin crisp taro root shell problem tiny tiny street taco maybe little inch long 4.00 spend 12.00 super great tacos slightly large amuse bouche sized taco receive small 12.00 feel meh.\\n\\ncheese plate ok uninspired grape rotten spot fully rotten far fresh plate   little concern observation kitchen catch this.\\n\\nwe bring grape issue attention nice way ask return tell come speak wait wait get check pay check come out.\\n\\ni give star come speak price point factor too.\\n\\nwine selection glass limit 14 25 glass \\n\\ncocktails look run 14.00 17.00 glass"
        ],
        [
         "29972",
         "groupon come place   25 50 worth wine bar boutique store   valid food   yada yada yada ... typical groupon rule   oenophile buy maximum allow 3 groupon   \\n\\nfinally trudge strip husband discover shocker wine overpriced   bottle wine get costco 17 go 28   basically buy wine groupon get price summerlin costco   boo.\\n\\nbut husband discover glassware actually reasonably price   think work viola take groupon glassware   take second groupon wine flight bar groupon piece glassware   trip   add strangeness nice gentleman help glassware time wine flight slow saturday night.\\n\\nso point   nice folk   good wine albeit overpriced   nice atmosphere crowd   check",
         "1",
         "groupon come place   25 50 worth wine bar boutique store   valid food   yada yada yada ... typical groupon rule   oenophile buy maximum allow 3 groupon   \\n\\nfinally trudge strip husband discover shocker wine overpriced   bottle wine get costco 17 go 28   basically buy wine groupon get price summerlin costco   boo.\\n\\nbut husband discover glassware actually reasonably price   think work viola take groupon glassware   take second groupon wine flight bar groupon piece glassware   trip   add strangeness nice gentleman help glassware time wine flight slow saturday night.\\n\\nso point   nice folk   good wine albeit overpriced   nice atmosphere crowd   check"
        ],
        [
         "39344",
         "reviewer mention cat miaou bit mish mash inch tiny shop fill ware essentially gift shop mix item varied find gift gran here.\\n\\nthey have;\\n\\n baby clothes\\n kid toys\\n ornaments\\n key rings\\n stickers\\n stationery\\n jewellery\\n scarves\\n bags\\n cards\\n\\n ... list endless lose mountain knick knack definitely worth browse need gift cute",
         "1",
         "reviewer mention cat miaou bit mish mash inch tiny shop fill ware essentially gift shop mix item varied find gift gran here.\\n\\nthey have;\\n\\n baby clothes\\n kid toys\\n ornaments\\n key rings\\n stickers\\n stationery\\n jewellery\\n scarves\\n bags\\n cards\\n\\n ... list endless lose mountain knick knack definitely worth browse need gift cute"
        ],
        [
         "34544",
         "twice compare vietnamese nail salon far superior compare   technician julie pedicure time   far talk go talk relish chance relax care say   answer question ask impolite   excellent job time   eye brow wax lady excellent job   recommend nail salon",
         "1",
         "twice compare vietnamese nail salon far superior compare   technician julie pedicure time   far talk go talk relish chance relax care say   answer question ask impolite   excellent job time   eye brow wax lady excellent job   recommend nail salon"
        ],
        [
         "29676",
         "blech poisonous taste mouth ... \\n\\ntheir chai tea original chai style disgusting cause say spicy tea mean capsaicin spice blech!!\\n\\ni laugh guy say \\\"this starbuck real coffee here\\ friend walk in.\\n\\nthe reason laugh starbucks sugary coffee place place massive sugar overload central place .. \\n\\nsoo yes starbuck sugar drink ....",
         "0",
         "blech poisonous taste mouth ... \\n\\ntheir chai tea original chai style disgusting cause say spicy tea mean capsaicin spice blech!!\\n\\ni laugh guy say \\\"this starbuck real coffee here\\ friend walk in.\\n\\nthe reason laugh starbucks sugary coffee place place massive sugar overload central place .. \\n\\nsoo yes starbuck sugar drink ...."
        ],
        [
         "41249",
         "drink great food great diet plan   scream toilet time ...",
         "0",
         "drink great food great diet plan   scream toilet time ..."
        ],
        [
         "29645",
         "indian food minimize attempt exact palatable culture   cost allow original beauty cuisine savour fact visit indian paradise sarcasm pessimism give place area wrong come genre   \\nboy wrong   let fascade place fool   enter take second smell fact go genuine article   lunch time experience buffet   go sunday afternoon place perfectly poise sunset dining experience.\\nall food ... nan lamb curry tea samosa califlower .... good   add certain family like atmosphere create staff service unassuming intuitive   find want leave   want stay talk snack little   kind hard achieve strip mall restaurant feel like that.\\nyou way nostalgic good indian worth 4 star",
         "1",
         "indian food minimize attempt exact palatable culture   cost allow original beauty cuisine savour fact visit indian paradise sarcasm pessimism give place area wrong come genre   \\nboy wrong   let fascade place fool   enter take second smell fact go genuine article   lunch time experience buffet   go sunday afternoon place perfectly poise sunset dining experience.\\nall food ... nan lamb curry tea samosa califlower .... good   add certain family like atmosphere create staff service unassuming intuitive   find want leave   want stay talk snack little   kind hard achieve strip mall restaurant feel like that.\\nyou way nostalgic good indian worth 4 star"
        ],
        [
         "24526",
         "fun place friday night   \\n\\n1 cover charge\\n2 3 rooms- different d.j's- music good!\\n3 half naked man dance stage \\n4 importantly spend practically drinks.\\n5 dance floor small room mingle.\\n\\noverall good time good energy air definitely go",
         "1",
         "fun place friday night   \\n\\n1 cover charge\\n2 3 rooms- different d.j's- music good!\\n3 half naked man dance stage \\n4 importantly spend practically drinks.\\n5 dance floor small room mingle.\\n\\noverall good time good energy air definitely go"
        ],
        [
         "7456",
         "i`m fan day training novi i`m sleepy girl",
         "0",
         "i`m fan day training novi i`m sleepy girl"
        ],
        [
         "27225",
         "picture yelp look amazing go person experience service bad fish fresh",
         "0",
         "picture yelp look amazing go person experience service bad fish fresh"
        ],
        [
         "48421",
         "yuck scared go sick eat thank god not health dep look pretty",
         "0",
         "yuck scared go sick eat thank god not health dep look pretty"
        ],
        [
         "17049",
         "couple day ago fire car start drive downtown attend yelp eat uye nobuo problem 104 outside ac working.\\n\\nluckily savvy dude pretty good idea wrong call lightning lube thing car recommend ray class.\\n\\ni take tell recharge ac 30 minute door honest fast reliable kind guy want work car.\\n\\nhis price reasonable staff kind work certainly come \\n\\nhe conversation explain go option thing key will start work car tell help figure check engine light random advice car ask it.\\n\\ni originally go whitey old town whitey close weekend glad meet ray good thing happen car \\n\\nbring car",
         "1",
         "couple day ago fire car start drive downtown attend yelp eat uye nobuo problem 104 outside ac working.\\n\\nluckily savvy dude pretty good idea wrong call lightning lube thing car recommend ray class.\\n\\ni take tell recharge ac 30 minute door honest fast reliable kind guy want work car.\\n\\nhis price reasonable staff kind work certainly come \\n\\nhe conversation explain go option thing key will start work car tell help figure check engine light random advice car ask it.\\n\\ni originally go whitey old town whitey close weekend glad meet ray good thing happen car \\n\\nbring car"
        ],
        [
         "14279",
         "spicy chicken bite definitely worth money ... probably get 10 piece chicken overly fry basil stem fry really?) ... dry hard swallow flavoring impress \\n\\ni order lychee ice green tea pearl lady forget pearl ... customer drink okay ... probably time",
         "0",
         "spicy chicken bite definitely worth money ... probably get 10 piece chicken overly fry basil stem fry really?) ... dry hard swallow flavoring impress \\n\\ni order lychee ice green tea pearl lady forget pearl ... customer drink okay ... probably time"
        ],
        [
         "3862",
         "david h. steinberg script initially have real smart point good romantic comedy oh dear happen way br /><br />i'll tell happen originally animal house 1978 porky 1982 long time ago pioneer godfather new genre crude teen comedy 1990 come important instance smash hit repulsive one add problem child 1990 dumb dumber 1994 nutty professor 1996 mary 1998 think slacker affect era prophet era american pie 1999 undoubtedly incomparably genre icon think comedy kind get highly filthy cum laude nasty admire youth fashion br /><br />i believe slacker smart plot script maker get add real big rudeness filthiness strangely shameless sex day easy pie like fill scene freely element masturbation oral sex urination .. etc look la mode wholly unnecessary element story surely necessary profit catch late vogue make teen comedy problem replace possible comedy it.<br /><br />some moment look literally horrible point jason schwartzman look performance memorably disgust utmost ambition transform romantic comedy make pure skinning image like horror ask time nasty happen vomit fart .. etc easy combination create comedy nowadays.<br /><br />though hate get love bold gina gershon cameo scene design achieve outrage outrageousness like adolescent naughty dream majority near anybody nightmare.<br /><br />what sad core real potential work cheap stupid comedy eventually manage remember detail steal exam 2 minute movie main plot weirdo try reach girl blackmail cool guy pattern boy love girl girl love boy save candidly schlock deal material tacky way bunch dirty college boy get make mawkish quip end sorry smile sh*t br /><br />at end say imagine time place impostor slack win totally like comedy sound good end totally well movie assure opinion smart .. need understand movie maker real slacker maybe stupid way smart hollywood .. final result witty sense word br /><br />p.s scriptwriter david h. steinberg write story american pie 2 main page imdb find additional details usual plot keyword sex vulgarity crude humor ... forget write urineing shower baring 70 year old women",
         "0",
         "david h. steinberg script initially have real smart point good romantic comedy oh dear happen way br /><br />i'll tell happen originally animal house 1978 porky 1982 long time ago pioneer godfather new genre crude teen comedy 1990 come important instance smash hit repulsive one add problem child 1990 dumb dumber 1994 nutty professor 1996 mary 1998 think slacker affect era prophet era american pie 1999 undoubtedly incomparably genre icon think comedy kind get highly filthy cum laude nasty admire youth fashion br /><br />i believe slacker smart plot script maker get add real big rudeness filthiness strangely shameless sex day easy pie like fill scene freely element masturbation oral sex urination .. etc look la mode wholly unnecessary element story surely necessary profit catch late vogue make teen comedy problem replace possible comedy it.<br /><br />some moment look literally horrible point jason schwartzman look performance memorably disgust utmost ambition transform romantic comedy make pure skinning image like horror ask time nasty happen vomit fart .. etc easy combination create comedy nowadays.<br /><br />though hate get love bold gina gershon cameo scene design achieve outrage outrageousness like adolescent naughty dream majority near anybody nightmare.<br /><br />what sad core real potential work cheap stupid comedy eventually manage remember detail steal exam 2 minute movie main plot weirdo try reach girl blackmail cool guy pattern boy love girl girl love boy save candidly schlock deal material tacky way bunch dirty college boy get make mawkish quip end sorry smile sh*t br /><br />at end say imagine time place impostor slack win totally like comedy sound good end totally well movie assure opinion smart .. need understand movie maker real slacker maybe stupid way smart hollywood .. final result witty sense word br /><br />p.s scriptwriter david h. steinberg write story american pie 2 main page imdb find additional details usual plot keyword sex vulgarity crude humor ... forget write urineing shower baring 70 year old women"
        ],
        [
         "23204",
         "give place try time good meal alfredo pasta absolutely flavor lack flavor order feel like go kitchen add little seasoning plenty little greek place serve good home food alot bother place",
         "0",
         "give place try time good meal alfredo pasta absolutely flavor lack flavor order feel like go kitchen add little seasoning plenty little greek place serve good home food alot bother place"
        ],
        [
         "8960",
         "counter close call cowfish sushi burger bar   wtf   love counter   sad   thank god big daddy close ballantyne ... lose favorite lunch spot south park mall",
         "0",
         "counter close call cowfish sushi burger bar   wtf   love counter   sad   thank god big daddy close ballantyne ... lose favorite lunch spot south park mall"
        ],
        [
         "24164",
         "fan kashman place unfortunately live neighborhood anymore probably daily stop   swear good bagel valley- jalapeno bagel hit spot bagel sandwich quick run meal big fan recommend thanksgiving cranberry turkey sonoran chicken sandwich location notch ... cenpho location",
         "1",
         "fan kashman place unfortunately live neighborhood anymore probably daily stop   swear good bagel valley- jalapeno bagel hit spot bagel sandwich quick run meal big fan recommend thanksgiving cranberry turkey sonoran chicken sandwich location notch ... cenpho location"
        ],
        [
         "32710",
         "took visit family villa antonio special occasion dinner excited try highly recommend restaurant disappointment service slow food average recommend va",
         "0",
         "took visit family villa antonio special occasion dinner excited try highly recommend restaurant disappointment service slow food average recommend va"
        ],
        [
         "31733",
         "3 amigo okay joint personally right office offer affordable 10 taxis inc lunch menu great alternative fast food sandwich place hand fancy authentic definitely good restaurant town quality pretty good consider pay e.g. chilli platter 5.95 lunch time \\n\\nnot place family town good remedy forget pack lunch",
         "0",
         "3 amigo okay joint personally right office offer affordable 10 taxis inc lunch menu great alternative fast food sandwich place hand fancy authentic definitely good restaurant town quality pretty good consider pay e.g. chilli platter 5.95 lunch time \\n\\nnot place family town good remedy forget pack lunch"
        ],
        [
         "49092",
         "refuge website facebook page vague association own catholic charities usa notoriously homophobic organization repeatedly fight gay lesbian adopt child fact locate heavily lgbtq area phoenix like slap face apparently refuge lgbtq couple want adopt",
         "0",
         "refuge website facebook page vague association own catholic charities usa notoriously homophobic organization repeatedly fight gay lesbian adopt child fact locate heavily lgbtq area phoenix like slap face apparently refuge lgbtq couple want adopt"
        ],
        [
         "22329",
         "good ayce sushi place west side\\nsushi mon myriad eat ayce sushi restaurant las vegas favorable experience ayce place vegas old day ayce mean buffet style like makino makino fine sushi lover know price pay ayce good order year ago ayce trend catch good sushi place set order ayce sushi take ayce order place vegas know place ayce stay business.\\n\\nin november 2009 ayce order sushi las vegas go 24 28 year old son tristan eat 28 sushi 15 minute way ahead dollar wise normally 150-$200 bill end 100 people drink tax).\\n\\nin henderson favorite place ka warm springs green valley sushi notch ayce atmosphere actually good sushi place sushi place effort atmosphere tend charge sushi place ka additionally sushi chef ka bit personality make challenge english ... hey barely speak japanese speak well bilingual thing.)\\n\\nnow live \\\"w side\\ find place sushi fix girlfriend live recently anyways sushi mon \\\"her place.\\ actually go sushi mon date pay attention go mouth restaurant day.\\n\\nthe quality selection sushi good like gage sushi place quality salmon aka \\\"sake\\ disappointed soft smooth tasty girlfriend like use yellowtail gage certainly pass muster variety typical roll vegas good great.\\n\\nthe atmosphere typical las vegas sushi restaurant non casino place busy able fill table room decoration disconcert important clean sushi chef good surprisingly fast spite pack place wish little personality probably need time start kind rapport probably fine.\\n\\nhere kicker stamp card 10th ayce free like get 2.80 meal place las vegas look new \\\"favorite place,\\ certainly help tip thing favor place stamp card.\\n\\nif look eat order sushi west las vegas recommend check place sure good place area good",
         "1",
         "good ayce sushi place west side\\nsushi mon myriad eat ayce sushi restaurant las vegas favorable experience ayce place vegas old day ayce mean buffet style like makino makino fine sushi lover know price pay ayce good order year ago ayce trend catch good sushi place set order ayce sushi take ayce order place vegas know place ayce stay business.\\n\\nin november 2009 ayce order sushi las vegas go 24 28 year old son tristan eat 28 sushi 15 minute way ahead dollar wise normally 150-$200 bill end 100 people drink tax).\\n\\nin henderson favorite place ka warm springs green valley sushi notch ayce atmosphere actually good sushi place sushi place effort atmosphere tend charge sushi place ka additionally sushi chef ka bit personality make challenge english ... hey barely speak japanese speak well bilingual thing.)\\n\\nnow live \\\"w side\\ find place sushi fix girlfriend live recently anyways sushi mon \\\"her place.\\ actually go sushi mon date pay attention go mouth restaurant day.\\n\\nthe quality selection sushi good like gage sushi place quality salmon aka \\\"sake\\ disappointed soft smooth tasty girlfriend like use yellowtail gage certainly pass muster variety typical roll vegas good great.\\n\\nthe atmosphere typical las vegas sushi restaurant non casino place busy able fill table room decoration disconcert important clean sushi chef good surprisingly fast spite pack place wish little personality probably need time start kind rapport probably fine.\\n\\nhere kicker stamp card 10th ayce free like get 2.80 meal place las vegas look new \\\"favorite place,\\ certainly help tip thing favor place stamp card.\\n\\nif look eat order sushi west las vegas recommend check place sure good place area good"
        ],
        [
         "38769",
         "good food absolutely destroy constant wait   drive turn car wait 20 minute window   sweet stuff kind helpful tell want pay money stuff appropriately make choose need fast service unfortunately",
         "0",
         "good food absolutely destroy constant wait   drive turn car wait 20 minute window   sweet stuff kind helpful tell want pay money stuff appropriately make choose need fast service unfortunately"
        ],
        [
         "15159",
         "know sandwich shoppe pepper town start p   cough splutta cough peppi let corner office chain yea hit lunch partner crime \\n\\nthe philly cheese steak let fry portion huge pretty split sandwich large fry drink people 14 bad wallet bad \\n\\nplus poster john lee hooker wall plus celebrity pic eat year \\n\\nservice zippy cash joint .... atm 1986 sit corner look like will work take confusing 30 second spit money work peppi take credit card 5 stars.\\n\\nprobably great spot vegetarian know veg option menu definitely pittsburgh classic lunch spot sandwich tummyache like p sandwich shop sandwich",
         "1",
         "know sandwich shoppe pepper town start p   cough splutta cough peppi let corner office chain yea hit lunch partner crime \\n\\nthe philly cheese steak let fry portion huge pretty split sandwich large fry drink people 14 bad wallet bad \\n\\nplus poster john lee hooker wall plus celebrity pic eat year \\n\\nservice zippy cash joint .... atm 1986 sit corner look like will work take confusing 30 second spit money work peppi take credit card 5 stars.\\n\\nprobably great spot vegetarian know veg option menu definitely pittsburgh classic lunch spot sandwich tummyache like p sandwich shop sandwich"
        ],
        [
         "46712",
         "come lunch buffet 2 pm seat wait   selection pretty good d\\u00e9cor nice modern   tv dimly light ceiling light neon bar literal darkness   female host nice apparent bat end lead   sit table setup placemat phone order etc   \\n\\nthe guy black shirt gray slack sure bollywood play screen time   buss table lunch dance sequence   finally get attention soda bring quickly refill 45 minute   certainly table plate neighboring table plate clear glass remain   \\n\\n1 adult buffet soda come little 15   unreasonable equally good low price indian lunch buffet there.\\n\\nunfortunately food d\\u00e9cor fantastic warrant overlook service \\n\\n2.5 star",
         "0",
         "come lunch buffet 2 pm seat wait   selection pretty good d\\u00e9cor nice modern   tv dimly light ceiling light neon bar literal darkness   female host nice apparent bat end lead   sit table setup placemat phone order etc   \\n\\nthe guy black shirt gray slack sure bollywood play screen time   buss table lunch dance sequence   finally get attention soda bring quickly refill 45 minute   certainly table plate neighboring table plate clear glass remain   \\n\\n1 adult buffet soda come little 15   unreasonable equally good low price indian lunch buffet there.\\n\\nunfortunately food d\\u00e9cor fantastic warrant overlook service \\n\\n2.5 star"
        ],
        [
         "585",
         "saturday night live national lampoon sctv alumnu funny sketch film.<br /><br />however interesting watch start 2005 year movie suppose place look gag absolutely true mock movie trailer probably clever time call pregnant man come true arnold schwarzenegger dumb movie junior commercial spoof probably clever time feature sammy davis jr. jackie onasis call celebrity wrestling come true popular call celebrity boxing mock movie trailer probably clever time feature john candy movie sever head watch trailer look similar shot plot frank hellenlotter basket case finally ad late late documentary dead dream leave ... documentary ... hippie lol.<br /><br />four prophecy come true",
         "0",
         "saturday night live national lampoon sctv alumnu funny sketch film.<br /><br />however interesting watch start 2005 year movie suppose place look gag absolutely true mock movie trailer probably clever time call pregnant man come true arnold schwarzenegger dumb movie junior commercial spoof probably clever time feature sammy davis jr. jackie onasis call celebrity wrestling come true popular call celebrity boxing mock movie trailer probably clever time feature john candy movie sever head watch trailer look similar shot plot frank hellenlotter basket case finally ad late late documentary dead dream leave ... documentary ... hippie lol.<br /><br />four prophecy come true"
        ],
        [
         "36381",
         "review treatment receive february year sorry tardiness.\\ni firesky conference hear number conference attendee rave treatment receive jurlique look forward get massage schedule end day bit apprehensive quality like know end workday silly worried!\\njurlique tuck building corner firesky lot get small wait area stock typical spa good seat okay place short wait enna office clerk welcoming.\\nwhen kayleen come introduce therapist bit nervous get work sturdy samoan gal tall willowy blonde nerve soothe instant kayleen massage ninja ply trade finger relax loosen ask kayleen technique combine massage acupressure work wonder \\nbase experience conference attendee jurlique   deliver great massage base experience jurlique kayleen staff",
         "1",
         "review treatment receive february year sorry tardiness.\\ni firesky conference hear number conference attendee rave treatment receive jurlique look forward get massage schedule end day bit apprehensive quality like know end workday silly worried!\\njurlique tuck building corner firesky lot get small wait area stock typical spa good seat okay place short wait enna office clerk welcoming.\\nwhen kayleen come introduce therapist bit nervous get work sturdy samoan gal tall willowy blonde nerve soothe instant kayleen massage ninja ply trade finger relax loosen ask kayleen technique combine massage acupressure work wonder \\nbase experience conference attendee jurlique   deliver great massage base experience jurlique kayleen staff"
        ],
        [
         "40199",
         "sehr leckere subsandwiches die r\\u00e4umlichkeiten sind sehr ansehnlich sch\\u00f6ne einrichtung die bedienungen sind sehr freundlich und nett",
         "1",
         "sehr leckere subsandwiches die r\\u00e4umlichkeiten sind sehr ansehnlich sch\\u00f6ne einrichtung die bedienungen sind sehr freundlich und nett"
        ],
        [
         "12345",
         "update owner send message yelp post review ... regardless pay service change fact state review true \\n\\ni come groupon living social deal \\n\\ni drop dog thing morning open board 5 day feel like stick hidden charge opt groom service pup fresh clean pick \\n\\nwell pick trim nail like know come call day confirm figure nail time grooming services.\\n\\ni like vibe place go to pass place base experience.\\n\\noh realize till get car personal collar miss go take good 5 min find questionable",
         "0",
         "update owner send message yelp post review ... regardless pay service change fact state review true \\n\\ni come groupon living social deal \\n\\ni drop dog thing morning open board 5 day feel like stick hidden charge opt groom service pup fresh clean pick \\n\\nwell pick trim nail like know come call day confirm figure nail time grooming services.\\n\\ni like vibe place go to pass place base experience.\\n\\noh realize till get car personal collar miss go take good 5 min find questionable"
        ],
        [
         "19696",
         "big fan ayce sushi joint take mom dinner like good asian mom ... love asian ayce buffets!\\n\\nwe actually find service good   layout restaurant weird   apparently teppan steakhouse seat set teppan griddle u shape lend conversation small group   meal look folk eat u shaped table directly   kinda awkward.\\n\\nnote include 18 grat party 4   see lot 6 8 ... auto grat party 4?\\n\\ni know trouble beginning   server recommend start dozen fresh oyster   wow ... fresh oyster ayce joint   ask type oyster kumamotos favorite japanese restaurant think serve   blank look face answer \\\"uhh .. order see.\\   come quickly huge   huge flavorless   bite oyster obscene gross ... especially flavor \\n\\ni prefer japanese own sushi joint bcuz rice real sushi rice ... nigiri sashimi cut precision teach 1000 year   sashimi come odd shape ... cube rectangular trapezoidal   sushi time inedible   cut grain ... grain   uni shade dark brown   shrimp temp gummy ... probably frozen tempura   tofu salad chinese tofu ... soft japanese tofu.\\n\\ni people yelper rate restaurant 5 star rate wallet   mom say come",
         "0",
         "big fan ayce sushi joint take mom dinner like good asian mom ... love asian ayce buffets!\\n\\nwe actually find service good   layout restaurant weird   apparently teppan steakhouse seat set teppan griddle u shape lend conversation small group   meal look folk eat u shaped table directly   kinda awkward.\\n\\nnote include 18 grat party 4   see lot 6 8 ... auto grat party 4?\\n\\ni know trouble beginning   server recommend start dozen fresh oyster   wow ... fresh oyster ayce joint   ask type oyster kumamotos favorite japanese restaurant think serve   blank look face answer \\\"uhh .. order see.\\   come quickly huge   huge flavorless   bite oyster obscene gross ... especially flavor \\n\\ni prefer japanese own sushi joint bcuz rice real sushi rice ... nigiri sashimi cut precision teach 1000 year   sashimi come odd shape ... cube rectangular trapezoidal   sushi time inedible   cut grain ... grain   uni shade dark brown   shrimp temp gummy ... probably frozen tempura   tofu salad chinese tofu ... soft japanese tofu.\\n\\ni people yelper rate restaurant 5 star rate wallet   mom say come"
        ],
        [
         "19235",
         "white tuna good spicy seafood salad hamachi salmon stringy ... -(\\n\\nservice prompt waitress cold impatient def worth 20 tip vacay wth ... \\n\\nlunch total 2 tax tip include 55 \\n\\nprolly try ayce sushi instead time want such.\\n\\n9/14 13\\nwas yesterday decide try umiya today ... soooo glad   umiya far sooooo well yama   seating way comfy   decor nice   food   def well   service well yama step game goodbye yama real soon",
         "0",
         "white tuna good spicy seafood salad hamachi salmon stringy ... -(\\n\\nservice prompt waitress cold impatient def worth 20 tip vacay wth ... \\n\\nlunch total 2 tax tip include 55 \\n\\nprolly try ayce sushi instead time want such.\\n\\n9/14 13\\nwas yesterday decide try umiya today ... soooo glad   umiya far sooooo well yama   seating way comfy   decor nice   food   def well   service well yama step game goodbye yama real soon"
        ],
        [
         "46365",
         "beer spam let goo!\\n\\ni want happen walk friend know look different beer cool patio interesting menu finally tell come cool spot fairly unassuming outside ton craft brew country town friend decent alcohol percentage watch yourself.\\n\\nthere good assortment interesting item menu include spam dish pretty creative add mystique place   able spend time wait",
         "1",
         "beer spam let goo!\\n\\ni want happen walk friend know look different beer cool patio interesting menu finally tell come cool spot fairly unassuming outside ton craft brew country town friend decent alcohol percentage watch yourself.\\n\\nthere good assortment interesting item menu include spam dish pretty creative add mystique place   able spend time wait"
        ],
        [
         "35808",
         "stop dinner special reasonable 20 sushi drink salad miso overall nearly good sushi la salad good leave",
         "0",
         "stop dinner special reasonable 20 sushi drink salad miso overall nearly good sushi la salad good leave"
        ],
        [
         "11751",
         "idea people rave place extremely price well restaurant area expensive.\\n\\nlet start beginning shall croissant people rave croissant yes tasty amazing buy pilsbury croissant tube grocery store throw oven taste same.\\n\\nnext meal order rack lamb ask medium rare come hint pink want send uncook meat want chance spit food think figure oh maybe medium eat knife cut meat literally saw meat tough sauce good eat lot rack lamb fall way average.\\n\\nmy date hand ask chef create special surprised dish come simple garden salad filet steak chef special creation \\n\\ni'm give place 2 star atmosphere romantic service great wine delish sure dirty restaurant 1 2 star fair know think 2 star right vincent",
         "0",
         "idea people rave place extremely price well restaurant area expensive.\\n\\nlet start beginning shall croissant people rave croissant yes tasty amazing buy pilsbury croissant tube grocery store throw oven taste same.\\n\\nnext meal order rack lamb ask medium rare come hint pink want send uncook meat want chance spit food think figure oh maybe medium eat knife cut meat literally saw meat tough sauce good eat lot rack lamb fall way average.\\n\\nmy date hand ask chef create special surprised dish come simple garden salad filet steak chef special creation \\n\\ni'm give place 2 star atmosphere romantic service great wine delish sure dirty restaurant 1 2 star fair know think 2 star right vincent"
        ],
        [
         "8909",
         "good thing place portion size ... they're huge wide menu variety admit like taste breakfast menu item well lunch dinner menu item",
         "1",
         "good thing place portion size ... they're huge wide menu variety admit like taste breakfast menu item well lunch dinner menu item"
        ],
        [
         "21764",
         "tao awesome decor food service vegas cousin bachelor party past weekend blast tao month ago actually reservation open table week trip follow tao plan accordingly.\\n\\nthis second time tao vegas good experience like time time kung pao chicken chicken pad thai pad thai list pad thais lol time kobe beef delish def wanna crazy loot 88 buck know club free eat restaurant ask server \\\"line pass\\ 6 guy vegas great idea eat order entree section appetizer expect free good thing server tell that!\\n\\nthe nightclub open 10 pm line wrap damn place worry get line pass skip way got pretty open get room second floor rooftop bad rooftop close day go stay main room freak crazzzzzzy pack great music dance floor get little crazy time blast \\n\\nif guest list reservation dinner pass party club awesome time",
         "1",
         "tao awesome decor food service vegas cousin bachelor party past weekend blast tao month ago actually reservation open table week trip follow tao plan accordingly.\\n\\nthis second time tao vegas good experience like time time kung pao chicken chicken pad thai pad thai list pad thais lol time kobe beef delish def wanna crazy loot 88 buck know club free eat restaurant ask server \\\"line pass\\ 6 guy vegas great idea eat order entree section appetizer expect free good thing server tell that!\\n\\nthe nightclub open 10 pm line wrap damn place worry get line pass skip way got pretty open get room second floor rooftop bad rooftop close day go stay main room freak crazzzzzzy pack great music dance floor get little crazy time blast \\n\\nif guest list reservation dinner pass party club awesome time"
        ],
        [
         "33112",
         "stuggsy pretty get bang slate want wh smith pretty place town find comprehensive selection mag go usual tv guide girly fashion offering \\\"awight guv'nor\\ lad mags.\\n\\npractical beekeeping fortean times barely legal hermaphrodite amputees railway enthusiast specialist publication find wall will else.\\n\\nstay away food realise wh smith serve purpose",
         "1",
         "stuggsy pretty get bang slate want wh smith pretty place town find comprehensive selection mag go usual tv guide girly fashion offering \\\"awight guv'nor\\ lad mags.\\n\\npractical beekeeping fortean times barely legal hermaphrodite amputees railway enthusiast specialist publication find wall will else.\\n\\nstay away food realise wh smith serve purpose"
        ],
        [
         "39690",
         "beware restaurant charge 3.5 \\\"concession fee\\ show cnf bill tell advance   staff manager try tell resort fee relate hotel paris las vegas pretty clear fact charge resort fee   way restaurant bilk unsuspecting customer money inflate strip prices.\\n\\nas food deserve star cost item denny   burger oversalte mac cheese \\\"burger\\ include burger fry embarrassing mcdonald   strip pricing expect 16 mediocre good food unacceptable strip.\\n\\nthe \\\"high\\ point -- reason restaurant deserve star give -- drink   36 pricey 36 oz goblet lot drink outrageous   garnish fun candy presentation dry ice make drink bubble smoke fun   come happy hour bogo special bar area actually good deal   unfortunately non goblet martini cocktail overpriced -- strip -- stick goblet split need \\n\\nsadly sugar factory fall category tourist trap strip fantastic similarly price offering nearby avoid.\\n\\n(it worth note f better business bureau   take exception cnf charge apparently",
         "0",
         "beware restaurant charge 3.5 \\\"concession fee\\ show cnf bill tell advance   staff manager try tell resort fee relate hotel paris las vegas pretty clear fact charge resort fee   way restaurant bilk unsuspecting customer money inflate strip prices.\\n\\nas food deserve star cost item denny   burger oversalte mac cheese \\\"burger\\ include burger fry embarrassing mcdonald   strip pricing expect 16 mediocre good food unacceptable strip.\\n\\nthe \\\"high\\ point -- reason restaurant deserve star give -- drink   36 pricey 36 oz goblet lot drink outrageous   garnish fun candy presentation dry ice make drink bubble smoke fun   come happy hour bogo special bar area actually good deal   unfortunately non goblet martini cocktail overpriced -- strip -- stick goblet split need \\n\\nsadly sugar factory fall category tourist trap strip fantastic similarly price offering nearby avoid.\\n\\n(it worth note f better business bureau   take exception cnf charge apparently"
        ],
        [
         "34909",
         "great restaurant serve organic gluten free   wait   sat bar order organic salad   come mixed green small cucumber shred carrot \\\"add on\\ minuscule   dressing suppose olive oil garlic lemon juice   lemon taste   garlic   like \\\"burn mouth\\ garlic   mixed green \\\"old bad\\ section pull   cook serve green fresh   line expensive 15 tax tip huge portion organic veggie   buy bag organic green trader joes 3 buck thing",
         "0",
         "great restaurant serve organic gluten free   wait   sat bar order organic salad   come mixed green small cucumber shred carrot \\\"add on\\ minuscule   dressing suppose olive oil garlic lemon juice   lemon taste   garlic   like \\\"burn mouth\\ garlic   mixed green \\\"old bad\\ section pull   cook serve green fresh   line expensive 15 tax tip huge portion organic veggie   buy bag organic green trader joes 3 buck thing"
        ]
       ],
       "shape": {
        "columns": 3,
        "rows": 15327
       }
      },
      "text/html": [
       "<div>\n",
       "<style scoped>\n",
       "    .dataframe tbody tr th:only-of-type {\n",
       "        vertical-align: middle;\n",
       "    }\n",
       "\n",
       "    .dataframe tbody tr th {\n",
       "        vertical-align: top;\n",
       "    }\n",
       "\n",
       "    .dataframe thead th {\n",
       "        text-align: right;\n",
       "    }\n",
       "</style>\n",
       "<table border=\"1\" class=\"dataframe\">\n",
       "  <thead>\n",
       "    <tr style=\"text-align: right;\">\n",
       "      <th></th>\n",
       "      <th>text</th>\n",
       "      <th>label</th>\n",
       "      <th>preprocess_text</th>\n",
       "    </tr>\n",
       "  </thead>\n",
       "  <tbody>\n",
       "    <tr>\n",
       "      <th>2982</th>\n",
       "      <td>anne reid toots peter vaughan pay apparently i...</td>\n",
       "      <td>0</td>\n",
       "      <td>anne reid toots peter vaughan pay apparently i...</td>\n",
       "    </tr>\n",
       "    <tr>\n",
       "      <th>20938</th>\n",
       "      <td>early breakfast strip nice locate good town wi...</td>\n",
       "      <td>1</td>\n",
       "      <td>early breakfast strip nice locate good town wi...</td>\n",
       "    </tr>\n",
       "    <tr>\n",
       "      <th>9936</th>\n",
       "      <td>come 4 day 3 night package deal incredibly aff...</td>\n",
       "      <td>1</td>\n",
       "      <td>come 4 day 3 night package deal incredibly aff...</td>\n",
       "    </tr>\n",
       "    <tr>\n",
       "      <th>43887</th>\n",
       "      <td>disappointed location deserve 2 star look revi...</td>\n",
       "      <td>0</td>\n",
       "      <td>disappointed location deserve 2 star look revi...</td>\n",
       "    </tr>\n",
       "    <tr>\n",
       "      <th>9413</th>\n",
       "      <td>overall enjoy visit living room sister law \\n\\...</td>\n",
       "      <td>1</td>\n",
       "      <td>overall enjoy visit living room sister law \\n\\...</td>\n",
       "    </tr>\n",
       "    <tr>\n",
       "      <th>...</th>\n",
       "      <td>...</td>\n",
       "      <td>...</td>\n",
       "      <td>...</td>\n",
       "    </tr>\n",
       "    <tr>\n",
       "      <th>31827</th>\n",
       "      <td>hear reuben place smoked meat.\\ni high expecta...</td>\n",
       "      <td>0</td>\n",
       "      <td>hear reuben place smoked meat.\\ni high expecta...</td>\n",
       "    </tr>\n",
       "    <tr>\n",
       "      <th>35058</th>\n",
       "      <td>food great order delivery establishment think ...</td>\n",
       "      <td>0</td>\n",
       "      <td>food great order delivery establishment think ...</td>\n",
       "    </tr>\n",
       "    <tr>\n",
       "      <th>17825</th>\n",
       "      <td>guest 8/20 8/22.\\nwill start say staff hate jo...</td>\n",
       "      <td>0</td>\n",
       "      <td>guest 8/20 8/22.\\nwill start say staff hate jo...</td>\n",
       "    </tr>\n",
       "    <tr>\n",
       "      <th>42176</th>\n",
       "      <td>make reservations:\\nit ambiguous challenge tak...</td>\n",
       "      <td>1</td>\n",
       "      <td>make reservations:\\nit ambiguous challenge tak...</td>\n",
       "    </tr>\n",
       "    <tr>\n",
       "      <th>45931</th>\n",
       "      <td>know airport strive friendly .... need share p...</td>\n",
       "      <td>0</td>\n",
       "      <td>know airport strive friendly .... need share p...</td>\n",
       "    </tr>\n",
       "  </tbody>\n",
       "</table>\n",
       "<p>15327 rows × 3 columns</p>\n",
       "</div>"
      ],
      "text/plain": [
       "                                                    text  label  \\\n",
       "2982   anne reid toots peter vaughan pay apparently i...      0   \n",
       "20938  early breakfast strip nice locate good town wi...      1   \n",
       "9936   come 4 day 3 night package deal incredibly aff...      1   \n",
       "43887  disappointed location deserve 2 star look revi...      0   \n",
       "9413   overall enjoy visit living room sister law \\n\\...      1   \n",
       "...                                                  ...    ...   \n",
       "31827  hear reuben place smoked meat.\\ni high expecta...      0   \n",
       "35058  food great order delivery establishment think ...      0   \n",
       "17825  guest 8/20 8/22.\\nwill start say staff hate jo...      0   \n",
       "42176  make reservations:\\nit ambiguous challenge tak...      1   \n",
       "45931  know airport strive friendly .... need share p...      0   \n",
       "\n",
       "                                         preprocess_text  \n",
       "2982   anne reid toots peter vaughan pay apparently i...  \n",
       "20938  early breakfast strip nice locate good town wi...  \n",
       "9936   come 4 day 3 night package deal incredibly aff...  \n",
       "43887  disappointed location deserve 2 star look revi...  \n",
       "9413   overall enjoy visit living room sister law \\n\\...  \n",
       "...                                                  ...  \n",
       "31827  hear reuben place smoked meat.\\ni high expecta...  \n",
       "35058  food great order delivery establishment think ...  \n",
       "17825  guest 8/20 8/22.\\nwill start say staff hate jo...  \n",
       "42176  make reservations:\\nit ambiguous challenge tak...  \n",
       "45931  know airport strive friendly .... need share p...  \n",
       "\n",
       "[15327 rows x 3 columns]"
      ]
     },
     "execution_count": 19,
     "metadata": {},
     "output_type": "execute_result"
    }
   ],
   "source": [
    "df_test"
   ]
  },
  {
   "cell_type": "code",
   "execution_count": 20,
   "id": "6edf9ef1",
   "metadata": {},
   "outputs": [],
   "source": [
    "model_name = 'google-bert/bert-base-uncased'\n",
    "tokenizer = AutoTokenizer.from_pretrained(model_name)"
   ]
  },
  {
   "cell_type": "code",
   "execution_count": 21,
   "id": "6061d937",
   "metadata": {},
   "outputs": [
    {
     "data": {
      "application/vnd.jupyter.widget-view+json": {
       "model_id": "96daefa0616c49f1816e0cfed1803ce7",
       "version_major": 2,
       "version_minor": 0
      },
      "text/plain": [
       "Map:   0%|          | 0/35762 [00:00<?, ? examples/s]"
      ]
     },
     "metadata": {},
     "output_type": "display_data"
    },
    {
     "data": {
      "application/vnd.jupyter.widget-view+json": {
       "model_id": "38b788dd6fe040ddb296169f6f26297c",
       "version_major": 2,
       "version_minor": 0
      },
      "text/plain": [
       "Map:   0%|          | 0/15327 [00:00<?, ? examples/s]"
      ]
     },
     "metadata": {},
     "output_type": "display_data"
    }
   ],
   "source": [
    "# Convert DataFrames to Hugging Face Datasets\n",
    "train_dataset = Dataset.from_pandas(df_train[['text', 'label']])\n",
    "test_dataset = Dataset.from_pandas(df_test[['text', 'label']])\n",
    "\n",
    "# Adding short max length to lower training time\n",
    "def tokenize_function(examples):\n",
    "    return tokenizer(examples['text'], padding='max_length', truncation=True, max_length=512)\n",
    "\n",
    "tokenized_train_dataset = train_dataset.map(tokenize_function, batched=True)\n",
    "tokenized_test_dataset = test_dataset.map(tokenize_function, batched=True)"
   ]
  },
  {
   "cell_type": "code",
   "execution_count": 22,
   "id": "d01cf5b1",
   "metadata": {},
   "outputs": [
    {
     "name": "stdout",
     "output_type": "stream",
     "text": [
      "Using device: cuda\n"
     ]
    }
   ],
   "source": [
    "import torch\n",
    "if torch.cuda.is_available():\n",
    "    device = \"cuda\"\n",
    "elif torch.backends.mps.is_available():\n",
    "    device = \"mps\"\n",
    "else:\n",
    "    device = \"cpu\"\n",
    "print(\"Using device:\", device)"
   ]
  },
  {
   "cell_type": "code",
   "execution_count": null,
   "id": "218554ae",
   "metadata": {},
   "outputs": [
    {
     "name": "stderr",
     "output_type": "stream",
     "text": [
      "Some weights of BertForSequenceClassification were not initialized from the model checkpoint at google-bert/bert-base-uncased and are newly initialized: ['classifier.bias', 'classifier.weight']\n",
      "You should probably TRAIN this model on a down-stream task to be able to use it for predictions and inference.\n"
     ]
    }
   ],
   "source": [
    "model = AutoModelForSequenceClassification.from_pretrained(model_name, num_labels=3)\n",
    "\n",
    "lora_config = LoraConfig(\n",
    "    r=16,\n",
    "    lora_alpha=32,\n",
    "    target_modules=[\"query\", \"value\"],  # BERT uses query, key, value in attention\n",
    "    lora_dropout=0.1,\n",
    "    bias=\"all\",\n",
    "    task_type=TaskType.SEQ_CLS\n",
    ")\n",
    "\n",
    "training_args = TrainingArguments(\n",
    "    output_dir=\"./results/\" + model_name,\n",
    "    learning_rate=5e-5,\n",
    "    per_device_train_batch_size=32,\n",
    "    per_device_eval_batch_size=32,\n",
    "    gradient_accumulation_steps=1,\n",
    "    # gradient_checkpointing=True,\n",
    "    num_train_epochs=3,\n",
    "    dataloader_num_workers=5,\n",
    "    logging_steps=100,\n",
    "    optim=\"adamw_torch\",\n",
    "    # weight_decay=0.01,\n",
    "    adam_beta1=0.9,\n",
    "    adam_beta2=0.999,\n",
    "    adam_epsilon=1e-8,\n",
    ")\n",
    "\"\"\"\n",
    "model = get_peft_model(model, lora_config)\n",
    "model = model.to(device)\n",
    "\n",
    "for name, param in model.named_parameters():\n",
    "    if \"classifier\" in name:\n",
    "        param.requires_grad = True\n",
    "\"\"\""
   ]
  },
  {
   "cell_type": "code",
   "execution_count": 24,
   "id": "c04d8ffe",
   "metadata": {},
   "outputs": [],
   "source": [
    "# Define a compute metrics function\n",
    "def compute_metrics(p):\n",
    "    preds = p.predictions.argmax(-1)\n",
    "    accuracy = accuracy_score(p.label_ids, preds)\n",
    "    return {'accuracy': accuracy}"
   ]
  },
  {
   "cell_type": "code",
   "execution_count": 25,
   "id": "32a4c332",
   "metadata": {},
   "outputs": [],
   "source": [
    "from transformers import TrainerCallback\n",
    "\n",
    "class LossAccuracyLogger(TrainerCallback):\n",
    "    def __init__(self):\n",
    "        self.train_loss = []\n",
    "        self.eval_accuracy = []\n",
    "\n",
    "    def on_log(self, args, state, control, logs=None, **kwargs):\n",
    "        if logs is not None:\n",
    "            if \"loss\" in logs:\n",
    "                self.train_loss.append((state.epoch, logs[\"loss\"]))\n",
    "            if \"eval_accuracy\" in logs:\n",
    "                self.eval_accuracy.append((state.epoch, logs[\"eval_accuracy\"]))\n"
   ]
  },
  {
   "cell_type": "code",
   "execution_count": 26,
   "id": "2b3af93c",
   "metadata": {},
   "outputs": [
    {
     "name": "stderr",
     "output_type": "stream",
     "text": [
      "No label_names provided for model class `PeftModelForSequenceClassification`. Since `PeftModel` hides base models input arguments, if label_names is not given, label_names can't be set automatically within `Trainer`. Note that empty label_names list will be used instead.\n"
     ]
    }
   ],
   "source": [
    "logger_callback = LossAccuracyLogger()\n",
    "\n",
    "trainer = Trainer(\n",
    "    model=model,\n",
    "    args=training_args,\n",
    "    train_dataset=tokenized_train_dataset,\n",
    "    eval_dataset=tokenized_test_dataset,\n",
    "    compute_metrics=compute_metrics,\n",
    "    callbacks=[logger_callback]\n",
    ")"
   ]
  },
  {
   "cell_type": "code",
   "execution_count": 27,
   "id": "08c68391",
   "metadata": {},
   "outputs": [
    {
     "data": {
      "text/html": [
       "\n",
       "    <div>\n",
       "      \n",
       "      <progress value='3354' max='3354' style='width:300px; height:20px; vertical-align: middle;'></progress>\n",
       "      [3354/3354 33:03, Epoch 3/3]\n",
       "    </div>\n",
       "    <table border=\"1\" class=\"dataframe\">\n",
       "  <thead>\n",
       " <tr style=\"text-align: left;\">\n",
       "      <th>Step</th>\n",
       "      <th>Training Loss</th>\n",
       "    </tr>\n",
       "  </thead>\n",
       "  <tbody>\n",
       "    <tr>\n",
       "      <td>100</td>\n",
       "      <td>0.846900</td>\n",
       "    </tr>\n",
       "    <tr>\n",
       "      <td>200</td>\n",
       "      <td>0.704600</td>\n",
       "    </tr>\n",
       "    <tr>\n",
       "      <td>300</td>\n",
       "      <td>0.699100</td>\n",
       "    </tr>\n",
       "    <tr>\n",
       "      <td>400</td>\n",
       "      <td>0.698100</td>\n",
       "    </tr>\n",
       "    <tr>\n",
       "      <td>500</td>\n",
       "      <td>0.700700</td>\n",
       "    </tr>\n",
       "    <tr>\n",
       "      <td>600</td>\n",
       "      <td>0.688800</td>\n",
       "    </tr>\n",
       "    <tr>\n",
       "      <td>700</td>\n",
       "      <td>0.687400</td>\n",
       "    </tr>\n",
       "    <tr>\n",
       "      <td>800</td>\n",
       "      <td>0.671500</td>\n",
       "    </tr>\n",
       "    <tr>\n",
       "      <td>900</td>\n",
       "      <td>0.666400</td>\n",
       "    </tr>\n",
       "    <tr>\n",
       "      <td>1000</td>\n",
       "      <td>0.647600</td>\n",
       "    </tr>\n",
       "    <tr>\n",
       "      <td>1100</td>\n",
       "      <td>0.640300</td>\n",
       "    </tr>\n",
       "    <tr>\n",
       "      <td>1200</td>\n",
       "      <td>0.640700</td>\n",
       "    </tr>\n",
       "    <tr>\n",
       "      <td>1300</td>\n",
       "      <td>0.626200</td>\n",
       "    </tr>\n",
       "    <tr>\n",
       "      <td>1400</td>\n",
       "      <td>0.618700</td>\n",
       "    </tr>\n",
       "    <tr>\n",
       "      <td>1500</td>\n",
       "      <td>0.620300</td>\n",
       "    </tr>\n",
       "    <tr>\n",
       "      <td>1600</td>\n",
       "      <td>0.613200</td>\n",
       "    </tr>\n",
       "    <tr>\n",
       "      <td>1700</td>\n",
       "      <td>0.608100</td>\n",
       "    </tr>\n",
       "    <tr>\n",
       "      <td>1800</td>\n",
       "      <td>0.615000</td>\n",
       "    </tr>\n",
       "    <tr>\n",
       "      <td>1900</td>\n",
       "      <td>0.602300</td>\n",
       "    </tr>\n",
       "    <tr>\n",
       "      <td>2000</td>\n",
       "      <td>0.620100</td>\n",
       "    </tr>\n",
       "    <tr>\n",
       "      <td>2100</td>\n",
       "      <td>0.613700</td>\n",
       "    </tr>\n",
       "    <tr>\n",
       "      <td>2200</td>\n",
       "      <td>0.598500</td>\n",
       "    </tr>\n",
       "    <tr>\n",
       "      <td>2300</td>\n",
       "      <td>0.601500</td>\n",
       "    </tr>\n",
       "    <tr>\n",
       "      <td>2400</td>\n",
       "      <td>0.592400</td>\n",
       "    </tr>\n",
       "    <tr>\n",
       "      <td>2500</td>\n",
       "      <td>0.596200</td>\n",
       "    </tr>\n",
       "    <tr>\n",
       "      <td>2600</td>\n",
       "      <td>0.603500</td>\n",
       "    </tr>\n",
       "    <tr>\n",
       "      <td>2700</td>\n",
       "      <td>0.599300</td>\n",
       "    </tr>\n",
       "    <tr>\n",
       "      <td>2800</td>\n",
       "      <td>0.584000</td>\n",
       "    </tr>\n",
       "    <tr>\n",
       "      <td>2900</td>\n",
       "      <td>0.590500</td>\n",
       "    </tr>\n",
       "    <tr>\n",
       "      <td>3000</td>\n",
       "      <td>0.576200</td>\n",
       "    </tr>\n",
       "    <tr>\n",
       "      <td>3100</td>\n",
       "      <td>0.584200</td>\n",
       "    </tr>\n",
       "    <tr>\n",
       "      <td>3200</td>\n",
       "      <td>0.598600</td>\n",
       "    </tr>\n",
       "    <tr>\n",
       "      <td>3300</td>\n",
       "      <td>0.582700</td>\n",
       "    </tr>\n",
       "  </tbody>\n",
       "</table><p>"
      ],
      "text/plain": [
       "<IPython.core.display.HTML object>"
      ]
     },
     "metadata": {},
     "output_type": "display_data"
    },
    {
     "data": {
      "text/plain": [
       "TrainOutput(global_step=3354, training_loss=0.6335549306215527, metrics={'train_runtime': 1998.5125, 'train_samples_per_second': 53.683, 'train_steps_per_second': 1.678, 'total_flos': 2.842354220414976e+16, 'train_loss': 0.6335549306215527, 'epoch': 3.0})"
      ]
     },
     "execution_count": 27,
     "metadata": {},
     "output_type": "execute_result"
    }
   ],
   "source": [
    "# Train the model\n",
    "trainer.train()"
   ]
  },
  {
   "cell_type": "code",
   "execution_count": 28,
   "id": "61fb12e9",
   "metadata": {},
   "outputs": [],
   "source": [
    "trainer.save_model(\"./results/\" + model_name + \"v1\")"
   ]
  },
  {
   "cell_type": "code",
   "execution_count": 29,
   "id": "16584683",
   "metadata": {},
   "outputs": [
    {
     "data": {
      "text/html": [
       "\n",
       "    <div>\n",
       "      \n",
       "      <progress value='479' max='479' style='width:300px; height:20px; vertical-align: middle;'></progress>\n",
       "      [479/479 01:52]\n",
       "    </div>\n",
       "    "
      ],
      "text/plain": [
       "<IPython.core.display.HTML object>"
      ]
     },
     "metadata": {},
     "output_type": "display_data"
    },
    {
     "name": "stdout",
     "output_type": "stream",
     "text": [
      "{'eval_loss': 0.575351357460022, 'eval_accuracy': 0.6996150583936843, 'eval_runtime': 126.321, 'eval_samples_per_second': 121.334, 'eval_steps_per_second': 3.792, 'epoch': 3.0}\n"
     ]
    },
    {
     "data": {
      "image/png": "[encoded data removed]",
      "text/plain": [
       "<Figure size 1000x500 with 1 Axes>"
      ]
     },
     "metadata": {},
     "output_type": "display_data"
    }
   ],
   "source": [
    "# Evaluate the model\n",
    "results = trainer.evaluate()\n",
    "print(results)\n",
    "\n",
    "import matplotlib.pyplot as plt\n",
    "\n",
    "# Unpack the epoch and values\n",
    "train_epochs, train_losses = zip(*logger_callback.train_loss)\n",
    "eval_epochs, eval_accuracies = zip(*logger_callback.eval_accuracy)\n",
    "\n",
    "# Plot training loss\n",
    "plt.figure(figsize=(10, 5))\n",
    "plt.plot(train_epochs, train_losses, marker='o')\n",
    "plt.title(\"Training Loss per Epoch\")\n",
    "plt.xlabel(\"Epoch\")\n",
    "plt.ylabel(\"Loss\")\n",
    "\n",
    "plt.tight_layout()\n",
    "plt.show()"
   ]
  },
  {
   "cell_type": "code",
   "execution_count": 30,
   "id": "2c912383",
   "metadata": {},
   "outputs": [
    {
     "data": {
      "application/vnd.microsoft.datawrangler.viewer.v0+json": {
       "columns": [
        {
         "name": "index",
         "rawType": "int64",
         "type": "integer"
        },
        {
         "name": "Unnamed: 0",
         "rawType": "int64",
         "type": "integer"
        },
        {
         "name": "text",
         "rawType": "object",
         "type": "string"
        },
        {
         "name": "label",
         "rawType": "int64",
         "type": "integer"
        },
        {
         "name": "preprocess_text",
         "rawType": "object",
         "type": "string"
        }
       ],
       "conversionMethod": "pd.DataFrame",
       "ref": "69107a26-2fff-414e-bdfc-0408a2e3b598",
       "rows": [
        [
         "0",
         "0",
         "reviewer mention watch 1 oz episode hook right exactly happen me.<br /><br />the thing strike oz brutality unflinche scene violence set right word trust faint hearted timid pull punch regard drug sex violence hardcore classic use word.<br /><br />it call oz nickname give oswald maximum security state penitentary focus mainly emerald city experimental section prison cell glass front face inward privacy high agenda em city home .. aryans muslims gangsta latinos christians italians irish .... scuffle death stare dodgy dealing shady agreement far away.<br /><br />i main appeal fact go show dare forget pretty picture paint mainstream audience forget charm forget romance ... oz mess episode see strike nasty surreal ready watch develop taste oz get accustom high level graphic violence violence injustice crooked guard sell nickel inmate kill order away mannered middle class inmate turn prison bitch lack street skill prison experience watch oz comfortable uncomfortable view .... that touch dark",
         "1",
         "reviewer mention watch 1 oz episode hook right exactly happen me.<br /><br />the thing strike oz brutality unflinche scene violence set right word trust faint hearted timid pull punch regard drug sex violence hardcore classic use word.<br /><br />it call oz nickname give oswald maximum security state penitentary focus mainly emerald city experimental section prison cell glass front face inward privacy high agenda em city home .. aryans muslims gangsta latinos christians italians irish .... scuffle death stare dodgy dealing shady agreement far away.<br /><br />i main appeal fact go show dare forget pretty picture paint mainstream audience forget charm forget romance ... oz mess episode see strike nasty surreal ready watch develop taste oz get accustom high level graphic violence violence injustice crooked guard sell nickel inmate kill order away mannered middle class inmate turn prison bitch lack street skill prison experience watch oz comfortable uncomfortable view .... that touch dark"
        ],
        [
         "1",
         "1",
         "wonderful little production br /><br />the filming technique unassuming- old time bbc fashion give comforting discomforte sense realism entire piece br /><br />the actor extremely chosen- michael sheen get polari voice pat truly seamless editing guide reference williams diary entry worth watching terrificly write perform piece masterful production great master comedy life br /><br />the realism come home little thing fantasy guard use traditional dream technique remain solid disappear play knowledge sense particularly scene concern orton halliwell set particularly flat halliwell mural decorate surface terribly",
         "1",
         "wonderful little production br /><br />the filming technique unassuming- old time bbc fashion give comforting discomforte sense realism entire piece br /><br />the actor extremely chosen- michael sheen get polari voice pat truly seamless editing guide reference williams diary entry worth watching terrificly write perform piece masterful production great master comedy life br /><br />the realism come home little thing fantasy guard use traditional dream technique remain solid disappear play knowledge sense particularly scene concern orton halliwell set particularly flat halliwell mural decorate surface terribly"
        ],
        [
         "2",
         "2",
         "think wonderful way spend time hot summer weekend sit air condition theater watch light hearted comedy plot simplistic dialogue witty character likable bread suspect serial killer disappoint realize match point 2 risk addiction think proof woody allen fully control style grow love.<br /><br />this laugh woody comedy year dare decade impress scarlet johanson manage tone sexy image jump right average spirited young woman.<br /><br />this crown jewel career witty devil wears prada interesting superman great comedy friend",
         "1",
         "think wonderful way spend time hot summer weekend sit air condition theater watch light hearted comedy plot simplistic dialogue witty character likable bread suspect serial killer disappoint realize match point 2 risk addiction think proof woody allen fully control style grow love.<br /><br />this laugh woody comedy year dare decade impress scarlet johanson manage tone sexy image jump right average spirited young woman.<br /><br />this crown jewel career witty devil wears prada interesting superman great comedy friend"
        ],
        [
         "3",
         "3",
         "basically family little boy jake think zombie closet parent fight time.<br /><br />this movie slow soap opera ... suddenly jake decide rambo kill zombie.<br /><br />ok go film decide thriller drama drama movie watchable parent divorce argue like real life jake closet totally ruin film expect boogeyman similar movie instead watch drama meaningless thriller spots.<br /><br />3 10 play parent descent dialog shot jake ignore",
         "0",
         "basically family little boy jake think zombie closet parent fight time.<br /><br />this movie slow soap opera ... suddenly jake decide rambo kill zombie.<br /><br />ok go film decide thriller drama drama movie watchable parent divorce argue like real life jake closet totally ruin film expect boogeyman similar movie instead watch drama meaningless thriller spots.<br /><br />3 10 play parent descent dialog shot jake ignore"
        ],
        [
         "4",
         "4",
         "petter mattei love time money visually stunning film watch mr. mattei offer vivid portrait human relation movie tell money power success people different situation encounter br /><br />this variation arthur schnitzler play theme director transfer action present time new york different character meet connect connect way person know previous point contact stylishly film sophisticated luxurious look take people live world live habitat.<br /><br />the thing get soul picture different stage loneliness inhabit big city exactly good place human relation find sincere fulfillment discern case people encounter.<br /><br />the act good mr. mattei direction steve buscemi rosario dawson carol kane michael imperioli adrian grenier rest talented cast character come alive.<br /><br />we wish mr. mattei good luck await anxiously work",
         "1",
         "petter mattei love time money visually stunning film watch mr. mattei offer vivid portrait human relation movie tell money power success people different situation encounter br /><br />this variation arthur schnitzler play theme director transfer action present time new york different character meet connect connect way person know previous point contact stylishly film sophisticated luxurious look take people live world live habitat.<br /><br />the thing get soul picture different stage loneliness inhabit big city exactly good place human relation find sincere fulfillment discern case people encounter.<br /><br />the act good mr. mattei direction steve buscemi rosario dawson carol kane michael imperioli adrian grenier rest talented cast character come alive.<br /><br />we wish mr. mattei good luck await anxiously work"
        ],
        [
         "5",
         "5",
         "probably time favorite movie story selflessness sacrifice dedication noble cause preachy boring get old despite have see 15 time 25 year paul lukas performance bring tear eye bette davis truly sympathetic role delight kid grandma say like dress midget child make fun watch mother slow awakening happen world roof believable startling dozen thumb movie",
         "1",
         "probably time favorite movie story selflessness sacrifice dedication noble cause preachy boring get old despite have see 15 time 25 year paul lukas performance bring tear eye bette davis truly sympathetic role delight kid grandma say like dress midget child make fun watch mother slow awakening happen world roof believable startling dozen thumb movie"
        ],
        [
         "6",
         "6",
         "sure like resurrection date seahunt series tech today bring kid excitement grow black white tv seahunt gunsmoke hero week vote comeback new sea hunt need change pace tv work world water adventure oh way thank outlet like view viewpoint tv movie ole way believe get wanna nice read plus point sea hunt rhyme 10 line let submit leave doubt quit let",
         "1",
         "sure like resurrection date seahunt series tech today bring kid excitement grow black white tv seahunt gunsmoke hero week vote comeback new sea hunt need change pace tv work world water adventure oh way thank outlet like view viewpoint tv movie ole way believe get wanna nice read plus point sea hunt rhyme 10 line let submit leave doubt quit let"
        ],
        [
         "7",
         "7",
         "amazing fresh innovative idea 70 air 7 8 year brilliant thing drop 1990 funny anymore continue decline complete waste time today.<br /><br />it truly disgraceful far fall writing painfully bad performance bad mildly entertaining respite guest host probably air find hard believe creator hand select original cast choose band hack follow recognize brilliance fit replace mediocrity feel 2 star respect original cast huge success awful believe air",
         "0",
         "amazing fresh innovative idea 70 air 7 8 year brilliant thing drop 1990 funny anymore continue decline complete waste time today.<br /><br />it truly disgraceful far fall writing painfully bad performance bad mildly entertaining respite guest host probably air find hard believe creator hand select original cast choose band hack follow recognize brilliance fit replace mediocrity feel 2 star respect original cast huge success awful believe air"
        ],
        [
         "8",
         "8",
         "encourage positive comment film look forward watch film bad mistake see 950 film truly bad awful way editing pacing storyline act soundtrack film song lame country tune play time film look cheap nasty boring extreme rarely happy end credit film br /><br />the thing prevent give 1 score harvey keitel far good performance make bit effort keitel obsessive",
         "0",
         "encourage positive comment film look forward watch film bad mistake see 950 film truly bad awful way editing pacing storyline act soundtrack film song lame country tune play time film look cheap nasty boring extreme rarely happy end credit film br /><br />the thing prevent give 1 score harvey keitel far good performance make bit effort keitel obsessive"
        ],
        [
         "9",
         "9",
         "like original gut wrench laughter like movie young old love movie hell mom like it.<br /><br />great camp",
         "1",
         "like original gut wrench laughter like movie young old love movie hell mom like it.<br /><br />great camp"
        ],
        [
         "10",
         "10",
         "phil alien quirky film humour base oddness actual punchlines.<br /><br />at odd pretty funny movie progress find joke oddness funny anymore.<br /><br />its low budget film s problem pretty interesting character eventually lose interest.<br /><br />i imagine film appeal stoner currently partaking.<br /><br />for similar well try brother planet",
         "0",
         "phil alien quirky film humour base oddness actual punchlines.<br /><br />at odd pretty funny movie progress find joke oddness funny anymore.<br /><br />its low budget film s problem pretty interesting character eventually lose interest.<br /><br />i imagine film appeal stoner currently partaking.<br /><br />for similar well try brother planet"
        ],
        [
         "11",
         "11",
         "see movie 12 come recall scary scene big bird eat man dangle helplessly parachute right air horror horror.<br /><br />as young kid go cheesy b film saturday afternoon tired formula monster type movie usually include hero beautiful woman daughter professor happy resolution monster die end care romantic angle 12 year old predictable plot love unintentional humor.<br /><br />but year later see psycho come love star janet leigh bump early film sit take notice point screenwriter make story scary possible wear formula rule",
         "0",
         "see movie 12 come recall scary scene big bird eat man dangle helplessly parachute right air horror horror.<br /><br />as young kid go cheesy b film saturday afternoon tired formula monster type movie usually include hero beautiful woman daughter professor happy resolution monster die end care romantic angle 12 year old predictable plot love unintentional humor.<br /><br />but year later see psycho come love star janet leigh bump early film sit take notice point screenwriter make story scary possible wear formula rule"
        ],
        [
         "12",
         "12",
         "m big fan boll work enjoy movie postal maybe m boll apparently buy right use far cry long ago game finsishe br /><br />people enjoy kill merc infiltrate secret research lab locate tropical island warn far cry ... mr boll scheme legion schmuck .. feel loneley set mr boll invite countryman play player name til schweiger udo kier ralf moeller.<br /><br />three name actually selfs pretty big movie biz tale go like jack carver play til schweiger yes carver german hail bratwurst eat dude find til act movie pretty badass .. people complain stay true carver agenda see carver person perspective know look like kick .. br /><br />however storyline film demented evil mad scientist dr. krieger play udo kier make genetically mutate soldier gms call perform secret research island remind spoiler vancouver reason s right palm tree instead get nice rich lumberjack wood go far start cry mehehe .. wanna stay true bolls shenanigan movie disappoint deliver true boll experience mean suck.<br /><br />there thing worth mention imply boll good work area film nice boat fight scene crome albino gms squad enter scene make laugh .. movie far cry reek scheisse poop simpleton fa r wanna wiff ahead .. btw carver get annoying sidekick make wanna shoot minute screen",
         "0",
         "m big fan boll work enjoy movie postal maybe m boll apparently buy right use far cry long ago game finsishe br /><br />people enjoy kill merc infiltrate secret research lab locate tropical island warn far cry ... mr boll scheme legion schmuck .. feel loneley set mr boll invite countryman play player name til schweiger udo kier ralf moeller.<br /><br />three name actually selfs pretty big movie biz tale go like jack carver play til schweiger yes carver german hail bratwurst eat dude find til act movie pretty badass .. people complain stay true carver agenda see carver person perspective know look like kick .. br /><br />however storyline film demented evil mad scientist dr. krieger play udo kier make genetically mutate soldier gms call perform secret research island remind spoiler vancouver reason s right palm tree instead get nice rich lumberjack wood go far start cry mehehe .. wanna stay true bolls shenanigan movie disappoint deliver true boll experience mean suck.<br /><br />there thing worth mention imply boll good work area film nice boat fight scene crome albino gms squad enter scene make laugh .. movie far cry reek scheisse poop simpleton fa r wanna wiff ahead .. btw carver get annoying sidekick make wanna shoot minute screen"
        ],
        [
         "13",
         "13",
         "cast play shakespeare.<br /><br />shakespeare lost.<br /><br />i appreciate try bring shakespeare masse ruin good.<br /><br />is scottish play favorite shakespeare know know certain rev bowdler bowdlerization try similar victorian era.<br /><br />in word improve perfection.<br /><br />i write write line text english composition forte go movie saying go cut",
         "0",
         "cast play shakespeare.<br /><br />shakespeare lost.<br /><br />i appreciate try bring shakespeare masse ruin good.<br /><br />is scottish play favorite shakespeare know know certain rev bowdler bowdlerization try similar victorian era.<br /><br />in word improve perfection.<br /><br />i write write line text english composition forte go movie saying go cut"
        ],
        [
         "14",
         "14",
         "fantastic movie prisoner famous actor george clooney fan roll bad good thing movie soundtrack man constant sorrow recommand movie everybody greeting bart",
         "1",
         "fantastic movie prisoner famous actor george clooney fan roll bad good thing movie soundtrack man constant sorrow recommand movie everybody greeting bart"
        ],
        [
         "15",
         "15",
         "kind draw erotic scene realize amateurish unbelievable bit film see sort like high school film project rosanna arquette thinking stock character bizarre suppose midwest town pretty hard involve lesson learn brilliant insight stilte ridiculous lot skin intrigue videotape nonsense .... bisexual relationship heterosexual encounter absurd dance everybody play stereotyped role pass like million mile bad waste film money spend starve child aids africa .....",
         "0",
         "kind draw erotic scene realize amateurish unbelievable bit film see sort like high school film project rosanna arquette thinking stock character bizarre suppose midwest town pretty hard involve lesson learn brilliant insight stilte ridiculous lot skin intrigue videotape nonsense .... bisexual relationship heterosexual encounter absurd dance everybody play stereotyped role pass like million mile bad waste film money spend starve child aids africa ....."
        ],
        [
         "16",
         "16",
         "film simply remade bad film fail capture flavor terror 1963 film title liam neeson excellent cast hold exception owen wilson bring right feel character luke major fault version stray far shirley jackson story attempt grandiose lose thrill early film trade snazzy special effect bad film enjoy friction terror old version",
         "1",
         "film simply remade bad film fail capture flavor terror 1963 film title liam neeson excellent cast hold exception owen wilson bring right feel character luke major fault version stray far shirley jackson story attempt grandiose lose thrill early film trade snazzy special effect bad film enjoy friction terror old version"
        ],
        [
         "17",
         "17",
         "movie 10 awful movie horrible br /><br />there continuous minute fight monster chance character development busy run sword fight emotional attachment big bad machine want destroy br /><br />scenes blatantly steal movie lotr star wars matrix br /><br />examples br /><br />>the ghost scene end steal final scene old star wars yoda obee vader br /><br />>the spider machine beginning exactly like frodo attack spider return king elijah wood victim film wait ...... hypnotize stings victim wrap ..... uh hello????<br /><br />>and machine vs. human theme matrix .. terminator ..... <br /><br />there example waste time tell nazi nazi br /><br />there juvenile story line rush juvenile conclusion movie decide child movie adult movie br /><br />just awful real disappointment save money",
         "0",
         "movie 10 awful movie horrible br /><br />there continuous minute fight monster chance character development busy run sword fight emotional attachment big bad machine want destroy br /><br />scenes blatantly steal movie lotr star wars matrix br /><br />examples br /><br />>the ghost scene end steal final scene old star wars yoda obee vader br /><br />>the spider machine beginning exactly like frodo attack spider return king elijah wood victim film wait ...... hypnotize stings victim wrap ..... uh hello????<br /><br />>and machine vs. human theme matrix .. terminator ..... <br /><br />there example waste time tell nazi nazi br /><br />there juvenile story line rush juvenile conclusion movie decide child movie adult movie br /><br />just awful real disappointment save money"
        ],
        [
         "18",
         "18",
         "remember film film watch cinema picture dark place nervous 74/75 dad take brother sister newbury cinema newbury berkshire england recall tiger lot snow film appearance grizzly adams actor dan haggery think tiger get shoot die know find dvd etc let know cinema turn fitness club big shame near cinema 20 mile away love hear see film like",
         "1",
         "remember film film watch cinema picture dark place nervous 74/75 dad take brother sister newbury cinema newbury berkshire england recall tiger lot snow film appearance grizzly adams actor dan haggery think tiger get shoot die know find dvd etc let know cinema turn fitness club big shame near cinema 20 mile away love hear see film like"
        ],
        [
         "19",
         "19",
         "awful film real stinker nominate golden globe take story famous female renaissance painter mangle recognition complaint take liberty fact story good perfectly fine simply bizarre -- account true story artist far well film come dishwater dull script suppose naked people factual version hurriedly cap end summary artist life -- save couple hour favor rest film brevity",
         "0",
         "awful film real stinker nominate golden globe take story famous female renaissance painter mangle recognition complaint take liberty fact story good perfectly fine simply bizarre -- account true story artist far well film come dishwater dull script suppose naked people factual version hurriedly cap end summary artist life -- save couple hour favor rest film brevity"
        ],
        [
         "20",
         "20",
         "success die hard sequel surprise 1990 glut die hard ..... movie cash wrong guy wrong place wrong time concept cliffhanger die hard mountain time rescue sly stop mom shoot stallone career.<br /><br />cliffhanger big nit picker dream especially expert mountain climbing base jumping aviation facial expression acting skill excuse dismiss film overblown pile junk stallone manage act horse forget nonsense actually lovable undeniably entertaining romp deliver plenty thrill unintentionally plenty laughs.<br /><br />you've get love john lithgows sneery evilness tick box band baddie good permanently harassed hapless turncoat agent rex linn travers.<br /><br />he henry portrait serial killer michael rooker noteworthy cringe worthy performance hal insist constantly shriek painful disbelief captor man hurt anybody whilst surely look like ralph waite frank character grin girl plummet death.<br /><br />mention london burning actor craig fairbrass brit bad guy come cropper whilst hal human football yes help enjoy bit hal need good kicking.<br /><br />so forget well judgement care happen lower act expectation turn volume enjoy look qaulen wear helicopter",
         "1",
         "success die hard sequel surprise 1990 glut die hard ..... movie cash wrong guy wrong place wrong time concept cliffhanger die hard mountain time rescue sly stop mom shoot stallone career.<br /><br />cliffhanger big nit picker dream especially expert mountain climbing base jumping aviation facial expression acting skill excuse dismiss film overblown pile junk stallone manage act horse forget nonsense actually lovable undeniably entertaining romp deliver plenty thrill unintentionally plenty laughs.<br /><br />you've get love john lithgows sneery evilness tick box band baddie good permanently harassed hapless turncoat agent rex linn travers.<br /><br />he henry portrait serial killer michael rooker noteworthy cringe worthy performance hal insist constantly shriek painful disbelief captor man hurt anybody whilst surely look like ralph waite frank character grin girl plummet death.<br /><br />mention london burning actor craig fairbrass brit bad guy come cropper whilst hal human football yes help enjoy bit hal need good kicking.<br /><br />so forget well judgement care happen lower act expectation turn volume enjoy look qaulen wear helicopter"
        ],
        [
         "21",
         "21",
         "terrible misfortune have view b movie entirety.<br /><br />all is--- save time money get bad b movie time call b movie like f movie fail aspect good movie story interesting actor paper thin believable bad direction action sequence fake funny ....... almost.<br /><br />the movie pack crappy liner respectable person find amusing little bit.<br /><br />this movie suppose gear man woman utterly unattractive especially old wrinkle thing come end try appear sexy weird horrible costume fail miserably!!!<br /><br />even ridiculous b movie laugh painful watch",
         "0",
         "terrible misfortune have view b movie entirety.<br /><br />all is--- save time money get bad b movie time call b movie like f movie fail aspect good movie story interesting actor paper thin believable bad direction action sequence fake funny ....... almost.<br /><br />the movie pack crappy liner respectable person find amusing little bit.<br /><br />this movie suppose gear man woman utterly unattractive especially old wrinkle thing come end try appear sexy weird horrible costume fail miserably!!!<br /><br />even ridiculous b movie laugh painful watch"
        ],
        [
         "22",
         "22",
         "absolutely stunning movie 2.5 hrs kill watch will regret fun rajnikanth carry movie shoulder like music a.r.rehman take time grow hear time start like",
         "1",
         "absolutely stunning movie 2.5 hrs kill watch will regret fun rajnikanth carry movie shoulder like music a.r.rehman take time grow hear time start like"
        ],
        [
         "23",
         "23",
         "let thing straight anime fan- matter fact watch speed racer time preschool b like b movies hilarious c like godzilla movies- lot.<br /><br />move movie come like go usual b movie crappy fx sudden- boom anime come movie go wwwaaaaayyyyy downhill.<br /><br />the animation bad cheap bad remember speed racer crissake fact cheap scene movie vividly remember bunch kid run school ... kid fx terrible dinosaur look bad godzilla addition transition live action animation unorganized dialogue voices(especially english dub view horrid beg dad tape dvd/ vhs player thing keep survive crack joke comment like robot joel mike mst3 k pick season honestly way barely enjoy movie survive time.<br /><br />heck plan fellow otaku pal halloween b movie night stupid pretty painful watch unintentionally hilarious time give movie 3/10 improvement 0.5/10 originally go it.<br /><br />(accorde grading scale 3/10 mean pretty boring bad fun count find way fun fun count 15",
         "0",
         "let thing straight anime fan- matter fact watch speed racer time preschool b like b movies hilarious c like godzilla movies- lot.<br /><br />move movie come like go usual b movie crappy fx sudden- boom anime come movie go wwwaaaaayyyyy downhill.<br /><br />the animation bad cheap bad remember speed racer crissake fact cheap scene movie vividly remember bunch kid run school ... kid fx terrible dinosaur look bad godzilla addition transition live action animation unorganized dialogue voices(especially english dub view horrid beg dad tape dvd/ vhs player thing keep survive crack joke comment like robot joel mike mst3 k pick season honestly way barely enjoy movie survive time.<br /><br />heck plan fellow otaku pal halloween b movie night stupid pretty painful watch unintentionally hilarious time give movie 3/10 improvement 0.5/10 originally go it.<br /><br />(accorde grading scale 3/10 mean pretty boring bad fun count find way fun fun count 15"
        ],
        [
         "24",
         "24",
         "bad movie see worldfest receive applause think receive recognition base know actor film great j.beal movie minute m.parker well actress allow rest acting hard judge movie ridiculous predictable main character totally unsympathetic bore watch real emotional depth story movie revolve actor work feel original development cop feel like straight video movie see 90 ... good standards.<br /><br",
         "0",
         "bad movie see worldfest receive applause think receive recognition base know actor film great j.beal movie minute m.parker well actress allow rest acting hard judge movie ridiculous predictable main character totally unsympathetic bore watch real emotional depth story movie revolve actor work feel original development cop feel like straight video movie see 90 ... good standards.<br /><br"
        ],
        [
         "25",
         "25",
         "karen carpenter story show little singer karen carpenter complex life fail give accurate fact details.<br /><br />cynthia gibb portray karen fine election good actress play naive sort dumb karen carpenter think role need strong character strong personality.<br /><br />louise fletcher role agnes carpenter terrific great job karen mother.<br /><br />it great song include soundtrack album unfortunately movie rating usa country",
         "1",
         "karen carpenter story show little singer karen carpenter complex life fail give accurate fact details.<br /><br />cynthia gibb portray karen fine election good actress play naive sort dumb karen carpenter think role need strong character strong personality.<br /><br />louise fletcher role agnes carpenter terrific great job karen mother.<br /><br />it great song include soundtrack album unfortunately movie rating usa country"
        ],
        [
         "26",
         "26",
         "cell exotic masterpiece dizzying trip vast mind serial killer talented director conclusive evidence achieve human being unleash uninhibited imagination boldness work push aside thought fall formula cliche create truly magnificent good movie year date.<br /><br />i've read numerous complaint film style substance poorly cast character bad acting negatively criticize film miss point movie landmark tradition future movie hopefully follow cell open door world imagination slam door face tell director tarsem singh want personally welcome movie tarsem love try challenge him.<br /><br />we've hear talk go inside mind serial killer yes agree genre bit overwork 90 movie try depict make serial killer tick work fail cell blaze trail give new twist physically transport mind present fascinating journey mysterious subject matter studied.<br /><br />i like movie bog scientific jargon try explain jennifer lopez actually get enter brain instead lie laboratory table wrap look like long twizzlers jaunt entity cell want let guess people like true like explanation movie movie venture new ground let desire simply in.<br /><br />i notice film dark show reality maybe contrast bright visual inside brain nonetheless set design simply astonishing surprised film take home oscars cinematography good costume good director like nominate good picture.<br /><br />i've notice kind repeat stress fantastic think cell walk movie open mind take wonder eye pop feast assure good time guess film little people write weird crazy psychology imagination human mind right alley leave theater hear audience member movie sure lot good drug want smoking.<br /><br 4",
         "1",
         "cell exotic masterpiece dizzying trip vast mind serial killer talented director conclusive evidence achieve human being unleash uninhibited imagination boldness work push aside thought fall formula cliche create truly magnificent good movie year date.<br /><br />i've read numerous complaint film style substance poorly cast character bad acting negatively criticize film miss point movie landmark tradition future movie hopefully follow cell open door world imagination slam door face tell director tarsem singh want personally welcome movie tarsem love try challenge him.<br /><br />we've hear talk go inside mind serial killer yes agree genre bit overwork 90 movie try depict make serial killer tick work fail cell blaze trail give new twist physically transport mind present fascinating journey mysterious subject matter studied.<br /><br />i like movie bog scientific jargon try explain jennifer lopez actually get enter brain instead lie laboratory table wrap look like long twizzlers jaunt entity cell want let guess people like true like explanation movie movie venture new ground let desire simply in.<br /><br />i notice film dark show reality maybe contrast bright visual inside brain nonetheless set design simply astonishing surprised film take home oscars cinematography good costume good director like nominate good picture.<br /><br />i've notice kind repeat stress fantastic think cell walk movie open mind take wonder eye pop feast assure good time guess film little people write weird crazy psychology imagination human mind right alley leave theater hear audience member movie sure lot good drug want smoking.<br /><br 4"
        ],
        [
         "27",
         "27",
         "film try thing sting political satire hollywood blockbuster sappy romantic comedy family value promo ... list go fail miserably interest turn end.<br /><br />although appreciate spirit war inc depress clumsy effort especially take target reflect lack existence critique simply poor writing direction production particular film.<br /><br />there critique corporatization war poke fun way diminish true atrocity happen remind bit king similarly trivialize genuine cause concern",
         "0",
         "film try thing sting political satire hollywood blockbuster sappy romantic comedy family value promo ... list go fail miserably interest turn end.<br /><br />although appreciate spirit war inc depress clumsy effort especially take target reflect lack existence critique simply poor writing direction production particular film.<br /><br />there critique corporatization war poke fun way diminish true atrocity happen remind bit king similarly trivialize genuine cause concern"
        ],
        [
         "28",
         "28",
         "movie frustrating energetic totally prepared good time think able stand wrong weird looping like watch america funniest home videos damn parent hate stereo typical latino family need speak person responsible need talk little girl hang hate mention final scene transcend gloriously bad badness movie crappy dancing horrible beautiful",
         "0",
         "movie frustrating energetic totally prepared good time think able stand wrong weird looping like watch america funniest home videos damn parent hate stereo typical latino family need speak person responsible need talk little girl hang hate mention final scene transcend gloriously bad badness movie crappy dancing horrible beautiful"
        ],
        [
         "29",
         "29",
         "war movie hollywood genre redone time clichéd dialogue rehash plot action sequence unavoidable conflict deal large scale combat war movie come go grain bring truly original compelling story life silver screen civil war era cold mountain star jude law nicole kidman renée zellweger film.<br /><br />then call cold mountain war movie entirely accurate true film open literally quick dirty battle sequence put glory director edward zwick shame cold mountain civil war period people time story center disgruntle confederate soldier inman play jude law disgusted gruesome war homesick beautiful hamlet cold mountain north carolina equally beautiful southern belle leave ada monroe play nicole kidman glance setup appear formulaic romantic interest home give audience sympathy root reluctant soldier tribulation battlefield early segment film relatively unimpressive somewhat contrived.<br /><br />\"cold mountain soon take drastic turn intrepid hero inman turn deserter incidentally save audience potentially confusing scenario want root confederates begin long odyssey homeward farm ada cultured way prove little use field soon transform wilderbeast come ada rescue course tough nail ruby thewes play renée zellweger help ada farm importantly cope loneliness isolation war bring ada.<br /><br />within setting vivid compelling time disturbing portrait war tear south unfold character inman ada interact surprisingly complex enhance wonderful performance brendan gleeson ruby deadbeat father ray winstone unrepentant southern lawman natalie portman deeply troubled isolated young mother greatly affect change war northern aggression bad dark pervade anti war message accent effective haunt score chillingly beautiful shot virginia north carolina communicate audience gruesome battle scene scarred land traumatize people war fight weapon tactic war change past century hellish effect land timelessly relevant.<br /><br />director anthony minghella manage maintain gloomy mood film atmosphere unfortunately denigrate tepid climax little justice wonderfully form character love story inman ada awkwardly tack beginning end film inherently distant abstracted absurd nature relationship way fit dismal nature rest plot.<br /><br />make mistake cold mountain trait feel good romance inspire war drama unique vision era sure entertain truly absorb audience life people tear apart war entirely desperate rid terrible repercussion altogether",
         "1",
         "war movie hollywood genre redone time clichéd dialogue rehash plot action sequence unavoidable conflict deal large scale combat war movie come go grain bring truly original compelling story life silver screen civil war era cold mountain star jude law nicole kidman renée zellweger film.<br /><br />then call cold mountain war movie entirely accurate true film open literally quick dirty battle sequence put glory director edward zwick shame cold mountain civil war period people time story center disgruntle confederate soldier inman play jude law disgusted gruesome war homesick beautiful hamlet cold mountain north carolina equally beautiful southern belle leave ada monroe play nicole kidman glance setup appear formulaic romantic interest home give audience sympathy root reluctant soldier tribulation battlefield early segment film relatively unimpressive somewhat contrived.<br /><br />\"cold mountain soon take drastic turn intrepid hero inman turn deserter incidentally save audience potentially confusing scenario want root confederates begin long odyssey homeward farm ada cultured way prove little use field soon transform wilderbeast come ada rescue course tough nail ruby thewes play renée zellweger help ada farm importantly cope loneliness isolation war bring ada.<br /><br />within setting vivid compelling time disturbing portrait war tear south unfold character inman ada interact surprisingly complex enhance wonderful performance brendan gleeson ruby deadbeat father ray winstone unrepentant southern lawman natalie portman deeply troubled isolated young mother greatly affect change war northern aggression bad dark pervade anti war message accent effective haunt score chillingly beautiful shot virginia north carolina communicate audience gruesome battle scene scarred land traumatize people war fight weapon tactic war change past century hellish effect land timelessly relevant.<br /><br />director anthony minghella manage maintain gloomy mood film atmosphere unfortunately denigrate tepid climax little justice wonderfully form character love story inman ada awkwardly tack beginning end film inherently distant abstracted absurd nature relationship way fit dismal nature rest plot.<br /><br />make mistake cold mountain trait feel good romance inspire war drama unique vision era sure entertain truly absorb audience life people tear apart war entirely desperate rid terrible repercussion altogether"
        ],
        [
         "30",
         "30",
         "taut organically grip edward dmytryk crossfire distinctive suspense thriller unlikely message movie look device noir cycle.<br /><br />bivouacke washington dc company soldier cope restlessness hang bar end stranger apartment robert ryan drunk belligerent beat host sam levene death happen jewish police detective robert young investigate help robert mitchum assign ryan outfit suspicion fall second george cooper vanish ryan slay buddy steve brodie insure silence young close in.<br /><br />abette superior script john paxton dmytryk draw precise performance star bobs ryan naturally prototypical angry white male hilt mitchum underplay characteristic alert nonchalance role central young well gloria grahame give fully fledge rendition smart mouthed vulnerable tramp sad sack leech life paul kelly haunt small peripheral role make memorable.<br /><br />the politically engage dmytryk inevitably succumb sermonize pretty confine young reminiscence irish grandfather die hand bigot century early incidentally stretch chronology limit attempt render explanation glib ryan hate jews hillbilly ... ).<br /><br />curiously crossfire survive major change work -- novel base richard brooks brick foxhole deal gay bash murder homosexuality 1947 pale news holocaust begin emerge ashe europe hollywood feel embolden register protest anti semitism studio quake prospect offend potential ticket buyer).<br /><br />but change homophobia anti semitism work general specific fit smoothly victim chat lonesome drunk young soldier invite home look odd especially girlfriend tow raise question scenario retain inadvertently leave discreet tip original engine generate ryan murderous rage",
         "1",
         "taut organically grip edward dmytryk crossfire distinctive suspense thriller unlikely message movie look device noir cycle.<br /><br />bivouacke washington dc company soldier cope restlessness hang bar end stranger apartment robert ryan drunk belligerent beat host sam levene death happen jewish police detective robert young investigate help robert mitchum assign ryan outfit suspicion fall second george cooper vanish ryan slay buddy steve brodie insure silence young close in.<br /><br />abette superior script john paxton dmytryk draw precise performance star bobs ryan naturally prototypical angry white male hilt mitchum underplay characteristic alert nonchalance role central young well gloria grahame give fully fledge rendition smart mouthed vulnerable tramp sad sack leech life paul kelly haunt small peripheral role make memorable.<br /><br />the politically engage dmytryk inevitably succumb sermonize pretty confine young reminiscence irish grandfather die hand bigot century early incidentally stretch chronology limit attempt render explanation glib ryan hate jews hillbilly ... ).<br /><br />curiously crossfire survive major change work -- novel base richard brooks brick foxhole deal gay bash murder homosexuality 1947 pale news holocaust begin emerge ashe europe hollywood feel embolden register protest anti semitism studio quake prospect offend potential ticket buyer).<br /><br />but change homophobia anti semitism work general specific fit smoothly victim chat lonesome drunk young soldier invite home look odd especially girlfriend tow raise question scenario retain inadvertently leave discreet tip original engine generate ryan murderous rage"
        ],
        [
         "31",
         "31",
         "ardh satya fine film indian cinema direct great director govind nihalani successful hard hitting parallel cinema turn commercial success today ardh satya inspiration lead director india.<br /><br />the film tell real life scenario mumbai police 70 unlike police city india mumbai police encompass different system altogether govind nihalani create practical outlay real life approach mumbai police environment.<br /><br />amongst police officer colleague film describe story anand velankar young hot blooded cop come poor family father harsh police constable anand suffer father ideology incidence father atrocity mother anand approach immediate action crime inert craving job satisfaction film revolve plot anand constant effort crime trample senior lead frustration achieve desire job satisfaction result frustration anger express excessive violence remand room bar turn alcoholic.<br /><br />the spirit alive constantly fight system aware system metro police politicians inertly associate far end compromise unethical practice negative finally get suspended.<br /><br />the direction master piece thoroughly hard core well memorable scene anand break underworld gangster rama shetty house arrest follow short conversation fantastic scene film hair raise moments.<br /><br />the practical approach script major punch alcoholism corruption political influence courage deception integral mumbai police today aspect deal brilliantly.<br /><br />finally film belong man om puri portray anand velankar traverse emotion absolutely brilliantly",
         "1",
         "ardh satya fine film indian cinema direct great director govind nihalani successful hard hitting parallel cinema turn commercial success today ardh satya inspiration lead director india.<br /><br />the film tell real life scenario mumbai police 70 unlike police city india mumbai police encompass different system altogether govind nihalani create practical outlay real life approach mumbai police environment.<br /><br />amongst police officer colleague film describe story anand velankar young hot blooded cop come poor family father harsh police constable anand suffer father ideology incidence father atrocity mother anand approach immediate action crime inert craving job satisfaction film revolve plot anand constant effort crime trample senior lead frustration achieve desire job satisfaction result frustration anger express excessive violence remand room bar turn alcoholic.<br /><br />the spirit alive constantly fight system aware system metro police politicians inertly associate far end compromise unethical practice negative finally get suspended.<br /><br />the direction master piece thoroughly hard core well memorable scene anand break underworld gangster rama shetty house arrest follow short conversation fantastic scene film hair raise moments.<br /><br />the practical approach script major punch alcoholism corruption political influence courage deception integral mumbai police today aspect deal brilliantly.<br /><br />finally film belong man om puri portray anand velankar traverse emotion absolutely brilliantly"
        ],
        [
         "32",
         "32",
         "exposure templarios good excited find title offering anchor bay video bring cult classic spider baby print quality excellent hide fact film deadly dull thrilling opening sequence villager exact terrible revenge templars set thing motion movie slow ponderous ultimately unfulfilling add insult injury movie dub subtitle promise video jacket",
         "0",
         "exposure templarios good excited find title offering anchor bay video bring cult classic spider baby print quality excellent hide fact film deadly dull thrilling opening sequence villager exact terrible revenge templars set thing motion movie slow ponderous ultimately unfulfilling add insult injury movie dub subtitle promise video jacket"
        ],
        [
         "33",
         "33",
         "significant quote entire film pronounce halfway protagonist mafia middle man titta di girolamo physically non descript middle aged man originally salerno southern italy introduce start film live non life elegant sterile hotel italian speak canton switzerland year conduct business gradually introduce pivotal apparently unremarkable scene take place employee swiss bank normally count di girolamo cash tell 10,000 dollar miss usual suitcase tightly stack banknote news quietly icily threaten coax bank manager want close account tell spectator bluff bluff right end fear catch appear ridiculous say bluff halfway tell truth have eventually bluff halfway tell truth have accept consequence life ultimately love exactly reason beginning titta di girolamo trouble br /><br />this initially unsympathetic character scowling taciturn curt man verge 50 man will reply kind chambermaid waitress hello goodbye point spectator care deeply point non life titta decide feel concern appear ridiculous half film describe slow reveal di girolamo day night hotel oddly disjoin deliberate pace reveal seemingly mundane irrelevant detail scene unnecessary reveal essential masterfully construct innovative film unfold eye existence titta di girolamo man imagination identity life unsympathetic character unexpectedly end love feel think convey elegantly edit sequence interesting use music theme scottish band boards canada especially stand br /><br />never contrast way hollywood italy treat mobster odd release film le conseguenze dell'amore l'imbalsamatore interesting element way film use protagonist insomnia unlike machinist far explicit way al pacino film insomnia le conseguenze dell'amore use condition symbolise deep emotional malaise ram deep obscurity unconscious impossible pin point cause br /><br />the young sympathetic hotel waitress sofia play olivia magnani grand daughter legendary anna memory titta good friend man see 20 year unexpectedly provide tiny window life titta eventually tentatively accept look explicitly spell spectator knows man like titta accept consequences love unimaginable consequence film single scene sex violence film unfold time concede spectator expectation le conseguenze dell'amore fine representative small quiet discreet renaissance take place italian cinema decline cinecittà second half 70 world wait italy produce il postino like fare la vita è bella style film ... neglect explore fine creation like le conseguenze dell'amore l'imbalsamatore loss world",
         "1",
         "significant quote entire film pronounce halfway protagonist mafia middle man titta di girolamo physically non descript middle aged man originally salerno southern italy introduce start film live non life elegant sterile hotel italian speak canton switzerland year conduct business gradually introduce pivotal apparently unremarkable scene take place employee swiss bank normally count di girolamo cash tell 10,000 dollar miss usual suitcase tightly stack banknote news quietly icily threaten coax bank manager want close account tell spectator bluff bluff right end fear catch appear ridiculous say bluff halfway tell truth have eventually bluff halfway tell truth have accept consequence life ultimately love exactly reason beginning titta di girolamo trouble br /><br />this initially unsympathetic character scowling taciturn curt man verge 50 man will reply kind chambermaid waitress hello goodbye point spectator care deeply point non life titta decide feel concern appear ridiculous half film describe slow reveal di girolamo day night hotel oddly disjoin deliberate pace reveal seemingly mundane irrelevant detail scene unnecessary reveal essential masterfully construct innovative film unfold eye existence titta di girolamo man imagination identity life unsympathetic character unexpectedly end love feel think convey elegantly edit sequence interesting use music theme scottish band boards canada especially stand br /><br />never contrast way hollywood italy treat mobster odd release film le conseguenze dell'amore l'imbalsamatore interesting element way film use protagonist insomnia unlike machinist far explicit way al pacino film insomnia le conseguenze dell'amore use condition symbolise deep emotional malaise ram deep obscurity unconscious impossible pin point cause br /><br />the young sympathetic hotel waitress sofia play olivia magnani grand daughter legendary anna memory titta good friend man see 20 year unexpectedly provide tiny window life titta eventually tentatively accept look explicitly spell spectator knows man like titta accept consequences love unimaginable consequence film single scene sex violence film unfold time concede spectator expectation le conseguenze dell'amore fine representative small quiet discreet renaissance take place italian cinema decline cinecittà second half 70 world wait italy produce il postino like fare la vita è bella style film ... neglect explore fine creation like le conseguenze dell'amore l'imbalsamatore loss world"
        ],
        [
         "34",
         "34",
         "watch film expect get pack 5 film pretty terrible way fiver expect know right terrible movie stretch interesting point occasional camcorder view nice touch drummer like drummer i.e damned annoying s actually problem boring assume attempt build tension lot happen utterly tedious thumb fast forward button ready press movie give seriously lead singer band great looking coz half mention beautiful hell lot think look bit like meercat mention killer go to worth explain far concerned star london reason watch exception london actually funny act talent certainly see lot bad see lot well well avoid bored watch paint dry",
         "0",
         "watch film expect get pack 5 film pretty terrible way fiver expect know right terrible movie stretch interesting point occasional camcorder view nice touch drummer like drummer i.e damned annoying s actually problem boring assume attempt build tension lot happen utterly tedious thumb fast forward button ready press movie give seriously lead singer band great looking coz half mention beautiful hell lot think look bit like meercat mention killer go to worth explain far concerned star london reason watch exception london actually funny act talent certainly see lot bad see lot well well avoid bored watch paint dry"
        ],
        [
         "35",
         "35",
         "buy film blockbuster 3.00 sound interesting bit ranma esque idea drag skeleton cute girl mini skirt restricted view sticker think go sweet sincere come age story weird indie edge 100 wrong.<br /><br />having watch wonder get restricted sticker hardly foul language little violence close thing nudity honestly usually hope girl nightgown pantie pantie lot movie matter wear miniskirt sort anti religious humor tame lame caricature insincere derivative unoriginal bad funny slight -- well listen ray stevens jesus wear rolex television barely qualify pg-13 rate blockbuster refuse let age 17 rent -- pornographic little kid rent edit version requiem dream insist zack reba worse.<br /><br />it way.<br /><br />in way worry -- thing leave offend people idea suicide beginning anybody need movie honestly portray suicide well one like virgin suicides teenager movie rate r purely suicide aspect little chance turn story write pg-13 movie main character half suicide lead cause death teenager think number 2 chance teen affect it.<br /><br />just movie 2/10",
         "0",
         "buy film blockbuster 3.00 sound interesting bit ranma esque idea drag skeleton cute girl mini skirt restricted view sticker think go sweet sincere come age story weird indie edge 100 wrong.<br /><br />having watch wonder get restricted sticker hardly foul language little violence close thing nudity honestly usually hope girl nightgown pantie pantie lot movie matter wear miniskirt sort anti religious humor tame lame caricature insincere derivative unoriginal bad funny slight -- well listen ray stevens jesus wear rolex television barely qualify pg-13 rate blockbuster refuse let age 17 rent -- pornographic little kid rent edit version requiem dream insist zack reba worse.<br /><br />it way.<br /><br />in way worry -- thing leave offend people idea suicide beginning anybody need movie honestly portray suicide well one like virgin suicides teenager movie rate r purely suicide aspect little chance turn story write pg-13 movie main character half suicide lead cause death teenager think number 2 chance teen affect it.<br /><br />just movie 2/10"
        ],
        [
         "36",
         "36",
         "plot death little child hopper investigate killing movie appear trouble daughter end serial killer catch find dunnit terrible act actor unbelievable bad actor include hopper like waste time watch movie warn",
         "0",
         "plot death little child hopper investigate killing movie appear trouble daughter end serial killer catch find dunnit terrible act actor unbelievable bad actor include hopper like waste time watch movie warn"
        ],
        [
         "37",
         "37",
         "watch movie lose plot begin with.<br /><br />where begin achingly tedious scene heroine sit house actually sense menace forebode create apparently constant thunderstorm strangely actually hear house great double glazing house apparently mile town hour walk away girl serve purpose plot provide surprisingly quick gory murder tedium unbearable beginning suggest spate 20 killing area apparent killer venture far house bizarre ritual salt pepper pretty sum film inherent lack direction.<br /><br />add lead actress act willing completely irrelevant nude shower scene video truly nasty way hope.<br /><br />given following simply ban uk 80 final surprisingly extended murder offer curiosity value- classic daft murder worry telegraph minute before).<br /><br />after walk wood victim come steep upward slope obviously struggle halfway figure dress black brandish large scythe slide run like rest course not- struggle stand conveniently nice upright murder weapon.<br /><br />it movie ..",
         "0",
         "watch movie lose plot begin with.<br /><br />where begin achingly tedious scene heroine sit house actually sense menace forebode create apparently constant thunderstorm strangely actually hear house great double glazing house apparently mile town hour walk away girl serve purpose plot provide surprisingly quick gory murder tedium unbearable beginning suggest spate 20 killing area apparent killer venture far house bizarre ritual salt pepper pretty sum film inherent lack direction.<br /><br />add lead actress act willing completely irrelevant nude shower scene video truly nasty way hope.<br /><br />given following simply ban uk 80 final surprisingly extended murder offer curiosity value- classic daft murder worry telegraph minute before).<br /><br />after walk wood victim come steep upward slope obviously struggle halfway figure dress black brandish large scythe slide run like rest course not- struggle stand conveniently nice upright murder weapon.<br /><br />it movie .."
        ],
        [
         "38",
         "38",
         "okay series kind take route week week david morse character help ride bit pickle wrong david morse great character actor certainly cool series create david koepp great writer heaven!!<br /><br />due lack love go season series know rubbish baffle let hope good past series",
         "1",
         "okay series kind take route week week david morse character help ride bit pickle wrong david morse great character actor certainly cool series create david koepp great writer heaven!!<br /><br />due lack love go season series know rubbish baffle let hope good past series"
        ],
        [
         "39",
         "39",
         "sit pile dung husband wonder actually product experiment computer program produce movie listless formulaic u.s. propaganda throw face film prove -- disappointingly -- work human conspiracy theorist quote like steal declaration independence protect like way justify action like invasion iraq etc fact nicholas cage spew line like use declaration independence bargaining chip straight face husband wonder entire cast take valium shoot scene reasoning plot turn new clue truly ridiculous impossible follow bonus plot misogyny dr. chide involve shut clearly movie look feel need slap dr. title character gravity point cage character say shut camera pan look poutily hand like child truly grotesque benefit movie astonishingly bad laugh scary thing majority people watch movie enjoy creepy ....",
         "0",
         "sit pile dung husband wonder actually product experiment computer program produce movie listless formulaic u.s. propaganda throw face film prove -- disappointingly -- work human conspiracy theorist quote like steal declaration independence protect like way justify action like invasion iraq etc fact nicholas cage spew line like use declaration independence bargaining chip straight face husband wonder entire cast take valium shoot scene reasoning plot turn new clue truly ridiculous impossible follow bonus plot misogyny dr. chide involve shut clearly movie look feel need slap dr. title character gravity point cage character say shut camera pan look poutily hand like child truly grotesque benefit movie astonishingly bad laugh scary thing majority people watch movie enjoy creepy ...."
        ],
        [
         "40",
         "40",
         "clichés movie type substance plot go end movie feel like sucker watch production good script acting b movie quality casting poor good actor mix crumby actor good actor hold lift br /><br />this movie worthy word meet minimum requirement line james wood cuba gooding jr. play caricature movie br /><br />if look mindless entertainment recommend movie",
         "0",
         "clichés movie type substance plot go end movie feel like sucker watch production good script acting b movie quality casting poor good actor mix crumby actor good actor hold lift br /><br />this movie worthy word meet minimum requirement line james wood cuba gooding jr. play caricature movie br /><br />if look mindless entertainment recommend movie"
        ],
        [
         "41",
         "41",
         "movie base book splendored thing han suyin tackle issue race relation asians whites topic come han personal experience eurasian grow china background beautiful hong kong setting give love story unique dare atmosphere time.<br /><br />other story stereotypical romance memorable song remember movie beautiful jennifer jones look give wonderful oscar nominate performance doctor mixed breed advent communism mainland china william holden look well play romantic lead journalist cover war tear region world acting notch chemistry lover provide genuine moment silver screen affection sure melt heart romantically inclined.<br /><br />the cinematography bring hong kong especially hilltop overlook harbor lover spend intimate moment ending real tear jerker consider sentimental romance passé enjoy classic hollywood love story shine example",
         "1",
         "movie base book splendored thing han suyin tackle issue race relation asians whites topic come han personal experience eurasian grow china background beautiful hong kong setting give love story unique dare atmosphere time.<br /><br />other story stereotypical romance memorable song remember movie beautiful jennifer jones look give wonderful oscar nominate performance doctor mixed breed advent communism mainland china william holden look well play romantic lead journalist cover war tear region world acting notch chemistry lover provide genuine moment silver screen affection sure melt heart romantically inclined.<br /><br />the cinematography bring hong kong especially hilltop overlook harbor lover spend intimate moment ending real tear jerker consider sentimental romance passé enjoy classic hollywood love story shine example"
        ],
        [
         "42",
         "42",
         "film see rage get bad direction logic continuity change plot script dialog cry pain come crappy gary busey know b movie sure w movie w waste).<br /><br />take example dozen fbi local law officer surround trailer house jeep wagoneer inside jeep ma confused cop second huge gun battle ensue ma kill straight cop blast away jeep gary company blast away cop fall like domino jeep gary drive circle hit single bullet pellet ma kill gary notice damn guy tough truly miracle shooter hold 300 bullet miracle",
         "0",
         "film see rage get bad direction logic continuity change plot script dialog cry pain come crappy gary busey know b movie sure w movie w waste).<br /><br />take example dozen fbi local law officer surround trailer house jeep wagoneer inside jeep ma confused cop second huge gun battle ensue ma kill straight cop blast away jeep gary company blast away cop fall like domino jeep gary drive circle hit single bullet pellet ma kill gary notice damn guy tough truly miracle shooter hold 300 bullet miracle"
        ],
        [
         "43",
         "43",
         "hear good thing states grace come open mind think god army okay think maybe dutcher improve mature filmmaker film begin shaky acting think maybe well unfortunately picture start introduce elder -- mormon missionary -- audience know grow care instead story degenerate highly improbable series unfortunate event highlight blatant disobedience missionary undeniably exist rarely level dutcher portray laughable.<br /><br />dutcher success movie successful alienation target audience unrealistically inaccurately portray life mormon missionary dutcher accomplish anger predominantly mormon audience film way reflect reality mission like dutcher show have serve mormon mission attest fact gang life california certainly contain explicit language occasional mild vulgarity.<br /><br />the conclusion assume suppose touch audience inspire believe forgiveness available unbelievable come entire mission gather elder send home -- mom girl stand right cheesy time dutcher try make movie identify",
         "0",
         "hear good thing states grace come open mind think god army okay think maybe dutcher improve mature filmmaker film begin shaky acting think maybe well unfortunately picture start introduce elder -- mormon missionary -- audience know grow care instead story degenerate highly improbable series unfortunate event highlight blatant disobedience missionary undeniably exist rarely level dutcher portray laughable.<br /><br />dutcher success movie successful alienation target audience unrealistically inaccurately portray life mormon missionary dutcher accomplish anger predominantly mormon audience film way reflect reality mission like dutcher show have serve mormon mission attest fact gang life california certainly contain explicit language occasional mild vulgarity.<br /><br />the conclusion assume suppose touch audience inspire believe forgiveness available unbelievable come entire mission gather elder send home -- mom girl stand right cheesy time dutcher try make movie identify"
        ],
        [
         "44",
         "44",
         "movie strike home 29 remember 80 father work factory figure work hard pride give american dream house kid car note degree unlike father quit ninth grade keen sense greed laziness anywhere.<br /><br />i like know movie dvd vhs tv see hour ago ic an't find love friend pseudo friend family relative think remind time americans work sake feel honor pride accomplish think feeling heavy downward spiral thing overseas ...",
         "1",
         "movie strike home 29 remember 80 father work factory figure work hard pride give american dream house kid car note degree unlike father quit ninth grade keen sense greed laziness anywhere.<br /><br />i like know movie dvd vhs tv see hour ago ic an't find love friend pseudo friend family relative think remind time americans work sake feel honor pride accomplish think feeling heavy downward spiral thing overseas ..."
        ],
        [
         "45",
         "45",
         "disclaimer see movie 5 6 time 15 year see musical week allow judge movie taint musical taint watch musical :) br /><br />i actually believe michael douglas work role kasey think let dance scene good part movie worthwhile addition compare musical dancer singing movie superior musical cast 10 time big easy movie course decor lighting dancing singing superior movie expect deliver br /><br />the song common musical well movie new one good one movie deliver musical opinion especially compare musical decor bad point movie obvious cut actor talk dub singer singing portion character dancing impeccable end product enjoyable musical",
         "1",
         "disclaimer see movie 5 6 time 15 year see musical week allow judge movie taint musical taint watch musical :) br /><br />i actually believe michael douglas work role kasey think let dance scene good part movie worthwhile addition compare musical dancer singing movie superior musical cast 10 time big easy movie course decor lighting dancing singing superior movie expect deliver br /><br />the song common musical well movie new one good one movie deliver musical opinion especially compare musical decor bad point movie obvious cut actor talk dub singer singing portion character dancing impeccable end product enjoyable musical"
        ],
        [
         "46",
         "46",
         "protocol implausible movie save grace star goldie hawn good cast support actor story revolve ditzy cocktail waitress famous inadvertently save life arab dignitary story go downhill halfway movie goldie charm save movie goldie hawn fan way film",
         "0",
         "protocol implausible movie save grace star goldie hawn good cast support actor story revolve ditzy cocktail waitress famous inadvertently save life arab dignitary story go downhill halfway movie goldie charm save movie goldie hawn fan way film"
        ],
        [
         "47",
         "47",
         "film classify drama idea john voight mary steenburgen try erase cv historically accurate xena hercules abraham moses get meld noah lot abraham nephew lot turn thousand year bear canaanite wander earth ... scriptwriter think ignorance remember noah animal lot canaanites stuff sunday school try offend maximum number people planet possible- christians jews muslims historian archaeologist geologist psychologist linguist ... matter fact offend modicum taste wince",
         "0",
         "film classify drama idea john voight mary steenburgen try erase cv historically accurate xena hercules abraham moses get meld noah lot abraham nephew lot turn thousand year bear canaanite wander earth ... scriptwriter think ignorance remember noah animal lot canaanites stuff sunday school try offend maximum number people planet possible- christians jews muslims historian archaeologist geologist psychologist linguist ... matter fact offend modicum taste wince"
        ],
        [
         "48",
         "48",
         "preston sturgis power glory unseen public nearly thirty year late 1990 resurface show television meantime gain notoriety pauline kael citizen kane book suggest herman mankiewicz orson welles screenplay kane base sturgis screenplay mention beginning thread film imdb web site kael overstate case.<br /><br />there narrator turn deal life charles foster kane newsreel represent ralston henry luce clone thatcher memoir bernstein jed leland susan alexander kane raymond butler different slant kane reflect faith disappointment hatred man course reveal failing tell version kane story method lead frequent overlapping telling incident.<br /><br />this situation power glory yes like kane legendary business leader tom garner spencer tracy man rise head successful railroad system country narrator garner right hand man henry ralph morgan wife sarah padden restrict nearly dimensional view time kane garner henry narrate talk boss friend respect love wife like voice skeptical public see flaw henry.<br /><br />typical example work way tom anti labor later year union troublemaker care slow shenanigan henry describe tom confrontation union major walk preoccupy detriment home life henry wife remind tom scab violence end strike apparently blow union headquarters kill people view man pure white pure black.<br /><br />i'm knock power glory duplicate kane success film include orson welles film aware story present hold interest end thank performance tracy colleen moore wife sally tragedy worldly success pair fully bring home.<br /><br />when marry tom want wife family benefit america great business success come cost tom get deeply involve run railroad empire expand improve constantly take away home lose touch sally notice eve helen vinson young woman mistress sally learn unfaithful behavior destroy her.<br /><br />similarly tom get shock make martyr eye henry eve marry tom present son turn eve son tom son tom jr. philip trent discovery incestuous cuckolding cause tom shoot himself.<br /><br />the film total success action jump time unconvincingly business real note scene tom tell board directors plan purchase small rival train line discuss use debenture finance plan sturgis come wealthy background bring type detail rate film citizen kane interest movie lover attempt business realism social commentary depression america",
         "1",
         "preston sturgis power glory unseen public nearly thirty year late 1990 resurface show television meantime gain notoriety pauline kael citizen kane book suggest herman mankiewicz orson welles screenplay kane base sturgis screenplay mention beginning thread film imdb web site kael overstate case.<br /><br />there narrator turn deal life charles foster kane newsreel represent ralston henry luce clone thatcher memoir bernstein jed leland susan alexander kane raymond butler different slant kane reflect faith disappointment hatred man course reveal failing tell version kane story method lead frequent overlapping telling incident.<br /><br />this situation power glory yes like kane legendary business leader tom garner spencer tracy man rise head successful railroad system country narrator garner right hand man henry ralph morgan wife sarah padden restrict nearly dimensional view time kane garner henry narrate talk boss friend respect love wife like voice skeptical public see flaw henry.<br /><br />typical example work way tom anti labor later year union troublemaker care slow shenanigan henry describe tom confrontation union major walk preoccupy detriment home life henry wife remind tom scab violence end strike apparently blow union headquarters kill people view man pure white pure black.<br /><br />i'm knock power glory duplicate kane success film include orson welles film aware story present hold interest end thank performance tracy colleen moore wife sally tragedy worldly success pair fully bring home.<br /><br />when marry tom want wife family benefit america great business success come cost tom get deeply involve run railroad empire expand improve constantly take away home lose touch sally notice eve helen vinson young woman mistress sally learn unfaithful behavior destroy her.<br /><br />similarly tom get shock make martyr eye henry eve marry tom present son turn eve son tom son tom jr. philip trent discovery incestuous cuckolding cause tom shoot himself.<br /><br />the film total success action jump time unconvincingly business real note scene tom tell board directors plan purchase small rival train line discuss use debenture finance plan sturgis come wealthy background bring type detail rate film citizen kane interest movie lover attempt business realism social commentary depression america"
        ],
        [
         "49",
         "49",
         "average surprisingly tame fulci giallo mean bad normal standard redeem solid build nice touch neat time twist issue vision clairvoyance.<br /><br />the genre know weakness gear banal dialogue wooden acting illogical plot point finale go long denouement prove lame shall limp affair.<br /><br />fulci ironic handling giallo norm amusing yellow clue look.<br /><br />3 10 limping killer",
         "0",
         "average surprisingly tame fulci giallo mean bad normal standard redeem solid build nice touch neat time twist issue vision clairvoyance.<br /><br />the genre know weakness gear banal dialogue wooden acting illogical plot point finale go long denouement prove lame shall limp affair.<br /><br />fulci ironic handling giallo norm amusing yellow clue look.<br /><br />3 10 limping killer"
        ]
       ],
       "shape": {
        "columns": 4,
        "rows": 666037
       }
      },
      "text/html": [
       "<div>\n",
       "<style scoped>\n",
       "    .dataframe tbody tr th:only-of-type {\n",
       "        vertical-align: middle;\n",
       "    }\n",
       "\n",
       "    .dataframe tbody tr th {\n",
       "        vertical-align: top;\n",
       "    }\n",
       "\n",
       "    .dataframe thead th {\n",
       "        text-align: right;\n",
       "    }\n",
       "</style>\n",
       "<table border=\"1\" class=\"dataframe\">\n",
       "  <thead>\n",
       "    <tr style=\"text-align: right;\">\n",
       "      <th></th>\n",
       "      <th>Unnamed: 0</th>\n",
       "      <th>text</th>\n",
       "      <th>label</th>\n",
       "      <th>preprocess_text</th>\n",
       "    </tr>\n",
       "  </thead>\n",
       "  <tbody>\n",
       "    <tr>\n",
       "      <th>0</th>\n",
       "      <td>0</td>\n",
       "      <td>reviewer mention watch 1 oz episode hook right...</td>\n",
       "      <td>1</td>\n",
       "      <td>reviewer mention watch 1 oz episode hook right...</td>\n",
       "    </tr>\n",
       "    <tr>\n",
       "      <th>1</th>\n",
       "      <td>1</td>\n",
       "      <td>wonderful little production br /&gt;&lt;br /&gt;the fil...</td>\n",
       "      <td>1</td>\n",
       "      <td>wonderful little production br /&gt;&lt;br /&gt;the fil...</td>\n",
       "    </tr>\n",
       "    <tr>\n",
       "      <th>2</th>\n",
       "      <td>2</td>\n",
       "      <td>think wonderful way spend time hot summer week...</td>\n",
       "      <td>1</td>\n",
       "      <td>think wonderful way spend time hot summer week...</td>\n",
       "    </tr>\n",
       "    <tr>\n",
       "      <th>3</th>\n",
       "      <td>3</td>\n",
       "      <td>basically family little boy jake think zombie ...</td>\n",
       "      <td>0</td>\n",
       "      <td>basically family little boy jake think zombie ...</td>\n",
       "    </tr>\n",
       "    <tr>\n",
       "      <th>4</th>\n",
       "      <td>4</td>\n",
       "      <td>petter mattei love time money visually stunnin...</td>\n",
       "      <td>1</td>\n",
       "      <td>petter mattei love time money visually stunnin...</td>\n",
       "    </tr>\n",
       "    <tr>\n",
       "      <th>...</th>\n",
       "      <td>...</td>\n",
       "      <td>...</td>\n",
       "      <td>...</td>\n",
       "      <td>...</td>\n",
       "    </tr>\n",
       "    <tr>\n",
       "      <th>666032</th>\n",
       "      <td>666462</td>\n",
       "      <td>ryan good yelp claim courteous knowledgable he...</td>\n",
       "      <td>1</td>\n",
       "      <td>ryan good yelp claim courteous knowledgable he...</td>\n",
       "    </tr>\n",
       "    <tr>\n",
       "      <th>666033</th>\n",
       "      <td>666463</td>\n",
       "      <td>professional \\nfriendly\\non time affordable!\\n...</td>\n",
       "      <td>1</td>\n",
       "      <td>professional \\nfriendly\\non time affordable!\\n...</td>\n",
       "    </tr>\n",
       "    <tr>\n",
       "      <th>666034</th>\n",
       "      <td>666464</td>\n",
       "      <td>phone call voicemail message return   stupid w...</td>\n",
       "      <td>0</td>\n",
       "      <td>phone call voicemail message return   stupid w...</td>\n",
       "    </tr>\n",
       "    <tr>\n",
       "      <th>666035</th>\n",
       "      <td>666465</td>\n",
       "      <td>look like good review go head place   jason ry...</td>\n",
       "      <td>0</td>\n",
       "      <td>look like good review go head place   jason ry...</td>\n",
       "    </tr>\n",
       "    <tr>\n",
       "      <th>666036</th>\n",
       "      <td>666466</td>\n",
       "      <td>ryan rocks call morning sprinkler help potenti...</td>\n",
       "      <td>1</td>\n",
       "      <td>ryan rocks call morning sprinkler help potenti...</td>\n",
       "    </tr>\n",
       "  </tbody>\n",
       "</table>\n",
       "<p>666037 rows × 4 columns</p>\n",
       "</div>"
      ],
      "text/plain": [
       "        Unnamed: 0                                               text  label  \\\n",
       "0                0  reviewer mention watch 1 oz episode hook right...      1   \n",
       "1                1  wonderful little production br /><br />the fil...      1   \n",
       "2                2  think wonderful way spend time hot summer week...      1   \n",
       "3                3  basically family little boy jake think zombie ...      0   \n",
       "4                4  petter mattei love time money visually stunnin...      1   \n",
       "...            ...                                                ...    ...   \n",
       "666032      666462  ryan good yelp claim courteous knowledgable he...      1   \n",
       "666033      666463  professional \\nfriendly\\non time affordable!\\n...      1   \n",
       "666034      666464  phone call voicemail message return   stupid w...      0   \n",
       "666035      666465  look like good review go head place   jason ry...      0   \n",
       "666036      666466  ryan rocks call morning sprinkler help potenti...      1   \n",
       "\n",
       "                                          preprocess_text  \n",
       "0       reviewer mention watch 1 oz episode hook right...  \n",
       "1       wonderful little production br /><br />the fil...  \n",
       "2       think wonderful way spend time hot summer week...  \n",
       "3       basically family little boy jake think zombie ...  \n",
       "4       petter mattei love time money visually stunnin...  \n",
       "...                                                   ...  \n",
       "666032  ryan good yelp claim courteous knowledgable he...  \n",
       "666033  professional \\nfriendly\\non time affordable!\\n...  \n",
       "666034  phone call voicemail message return   stupid w...  \n",
       "666035  look like good review go head place   jason ry...  \n",
       "666036  ryan rocks call morning sprinkler help potenti...  \n",
       "\n",
       "[666037 rows x 4 columns]"
      ]
     },
     "execution_count": 30,
     "metadata": {},
     "output_type": "execute_result"
    }
   ],
   "source": [
    "# Evaluate fine-tuned model on all samples, including non low confidence ones\n",
    "df_test = pd.read_csv('./data/SA_cleaned.csv')\n",
    "df_test['text'] = df_test['preprocess_text'].astype(str)\n",
    "df_test['label'] = df_test['label'].astype(int)\n",
    "df_test"
   ]
  },
  {
   "cell_type": "code",
   "execution_count": 31,
   "id": "9ba05b5e",
   "metadata": {},
   "outputs": [
    {
     "data": {
      "application/vnd.jupyter.widget-view+json": {
       "model_id": "704070bca6b7451f9501ef3e32537b4f",
       "version_major": 2,
       "version_minor": 0
      },
      "text/plain": [
       "Map:   0%|          | 0/666037 [00:00<?, ? examples/s]"
      ]
     },
     "metadata": {},
     "output_type": "display_data"
    },
    {
     "name": "stderr",
     "output_type": "stream",
     "text": [
      "No label_names provided for model class `PeftModelForSequenceClassification`. Since `PeftModel` hides base models input arguments, if label_names is not given, label_names can't be set automatically within `Trainer`. Note that empty label_names list will be used instead.\n"
     ]
    },
    {
     "ename": "MemoryError",
     "evalue": "",
     "output_type": "error",
     "traceback": [
      "\u001b[31m---------------------------------------------------------------------------\u001b[39m",
      "\u001b[31mMemoryError\u001b[39m                               Traceback (most recent call last)",
      "\u001b[36mCell\u001b[39m\u001b[36m \u001b[39m\u001b[32mIn[31]\u001b[39m\u001b[32m, line 13\u001b[39m\n\u001b[32m      2\u001b[39m tokenized_test_dataset = test_dataset.map(tokenize_function, batched=\u001b[38;5;28;01mTrue\u001b[39;00m)\n\u001b[32m      4\u001b[39m trainer = Trainer(\n\u001b[32m      5\u001b[39m     model=model,\n\u001b[32m      6\u001b[39m     args=training_args,\n\u001b[32m   (...)\u001b[39m\u001b[32m     10\u001b[39m     callbacks=[logger_callback]\n\u001b[32m     11\u001b[39m )\n\u001b[32m---> \u001b[39m\u001b[32m13\u001b[39m results_all = \u001b[43mtrainer\u001b[49m\u001b[43m.\u001b[49m\u001b[43mevaluate\u001b[49m\u001b[43m(\u001b[49m\u001b[43m)\u001b[49m\n\u001b[32m     14\u001b[39m \u001b[38;5;28mprint\u001b[39m(results_all)\n",
      "\u001b[36mFile \u001b[39m\u001b[32md:\\526_term_project\\Skynet\\.venv\\Lib\\site-packages\\transformers\\trainer.py:4154\u001b[39m, in \u001b[36mTrainer.evaluate\u001b[39m\u001b[34m(self, eval_dataset, ignore_keys, metric_key_prefix)\u001b[39m\n\u001b[32m   4151\u001b[39m start_time = time.time()\n\u001b[32m   4153\u001b[39m eval_loop = \u001b[38;5;28mself\u001b[39m.prediction_loop \u001b[38;5;28;01mif\u001b[39;00m \u001b[38;5;28mself\u001b[39m.args.use_legacy_prediction_loop \u001b[38;5;28;01melse\u001b[39;00m \u001b[38;5;28mself\u001b[39m.evaluation_loop\n\u001b[32m-> \u001b[39m\u001b[32m4154\u001b[39m output = \u001b[43meval_loop\u001b[49m\u001b[43m(\u001b[49m\n\u001b[32m   4155\u001b[39m \u001b[43m    \u001b[49m\u001b[43meval_dataloader\u001b[49m\u001b[43m,\u001b[49m\n\u001b[32m   4156\u001b[39m \u001b[43m    \u001b[49m\u001b[43mdescription\u001b[49m\u001b[43m=\u001b[49m\u001b[33;43m\"\u001b[39;49m\u001b[33;43mEvaluation\u001b[39;49m\u001b[33;43m\"\u001b[39;49m\u001b[43m,\u001b[49m\n\u001b[32m   4157\u001b[39m \u001b[43m    \u001b[49m\u001b[38;5;66;43;03m# No point gathering the predictions if there are no metrics, otherwise we defer to\u001b[39;49;00m\n\u001b[32m   4158\u001b[39m \u001b[43m    \u001b[49m\u001b[38;5;66;43;03m# self.args.prediction_loss_only\u001b[39;49;00m\n\u001b[32m   4159\u001b[39m \u001b[43m    \u001b[49m\u001b[43mprediction_loss_only\u001b[49m\u001b[43m=\u001b[49m\u001b[38;5;28;43;01mTrue\u001b[39;49;00m\u001b[43m \u001b[49m\u001b[38;5;28;43;01mif\u001b[39;49;00m\u001b[43m \u001b[49m\u001b[38;5;28;43mself\u001b[39;49m\u001b[43m.\u001b[49m\u001b[43mcompute_metrics\u001b[49m\u001b[43m \u001b[49m\u001b[38;5;129;43;01mis\u001b[39;49;00m\u001b[43m \u001b[49m\u001b[38;5;28;43;01mNone\u001b[39;49;00m\u001b[43m \u001b[49m\u001b[38;5;28;43;01melse\u001b[39;49;00m\u001b[43m \u001b[49m\u001b[38;5;28;43;01mNone\u001b[39;49;00m\u001b[43m,\u001b[49m\n\u001b[32m   4160\u001b[39m \u001b[43m    \u001b[49m\u001b[43mignore_keys\u001b[49m\u001b[43m=\u001b[49m\u001b[43mignore_keys\u001b[49m\u001b[43m,\u001b[49m\n\u001b[32m   4161\u001b[39m \u001b[43m    \u001b[49m\u001b[43mmetric_key_prefix\u001b[49m\u001b[43m=\u001b[49m\u001b[43mmetric_key_prefix\u001b[49m\u001b[43m,\u001b[49m\n\u001b[32m   4162\u001b[39m \u001b[43m\u001b[49m\u001b[43m)\u001b[49m\n\u001b[32m   4164\u001b[39m total_batch_size = \u001b[38;5;28mself\u001b[39m.args.eval_batch_size * \u001b[38;5;28mself\u001b[39m.args.world_size\n\u001b[32m   4165\u001b[39m \u001b[38;5;28;01mif\u001b[39;00m \u001b[33mf\u001b[39m\u001b[33m\"\u001b[39m\u001b[38;5;132;01m{\u001b[39;00mmetric_key_prefix\u001b[38;5;132;01m}\u001b[39;00m\u001b[33m_jit_compilation_time\u001b[39m\u001b[33m\"\u001b[39m \u001b[38;5;129;01min\u001b[39;00m output.metrics:\n",
      "\u001b[36mFile \u001b[39m\u001b[32md:\\526_term_project\\Skynet\\.venv\\Lib\\site-packages\\transformers\\trainer.py:4338\u001b[39m, in \u001b[36mTrainer.evaluation_loop\u001b[39m\u001b[34m(self, dataloader, description, prediction_loss_only, ignore_keys, metric_key_prefix)\u001b[39m\n\u001b[32m   4335\u001b[39m observed_num_examples = \u001b[32m0\u001b[39m\n\u001b[32m   4337\u001b[39m \u001b[38;5;66;03m# Main evaluation loop\u001b[39;00m\n\u001b[32m-> \u001b[39m\u001b[32m4338\u001b[39m \u001b[43m\u001b[49m\u001b[38;5;28;43;01mfor\u001b[39;49;00m\u001b[43m \u001b[49m\u001b[43mstep\u001b[49m\u001b[43m,\u001b[49m\u001b[43m \u001b[49m\u001b[43minputs\u001b[49m\u001b[43m \u001b[49m\u001b[38;5;129;43;01min\u001b[39;49;00m\u001b[43m \u001b[49m\u001b[38;5;28;43menumerate\u001b[39;49m\u001b[43m(\u001b[49m\u001b[43mdataloader\u001b[49m\u001b[43m)\u001b[49m\u001b[43m:\u001b[49m\n\u001b[32m   4339\u001b[39m \u001b[43m    \u001b[49m\u001b[38;5;66;43;03m# Update the observed num examples\u001b[39;49;00m\n\u001b[32m   4340\u001b[39m \u001b[43m    \u001b[49m\u001b[43mobserved_batch_size\u001b[49m\u001b[43m \u001b[49m\u001b[43m=\u001b[49m\u001b[43m \u001b[49m\u001b[43mfind_batch_size\u001b[49m\u001b[43m(\u001b[49m\u001b[43minputs\u001b[49m\u001b[43m)\u001b[49m\n\u001b[32m   4341\u001b[39m \u001b[43m    \u001b[49m\u001b[38;5;28;43;01mif\u001b[39;49;00m\u001b[43m \u001b[49m\u001b[43mobserved_batch_size\u001b[49m\u001b[43m \u001b[49m\u001b[38;5;129;43;01mis\u001b[39;49;00m\u001b[43m \u001b[49m\u001b[38;5;129;43;01mnot\u001b[39;49;00m\u001b[43m \u001b[49m\u001b[38;5;28;43;01mNone\u001b[39;49;00m\u001b[43m:\u001b[49m\n",
      "\u001b[36mFile \u001b[39m\u001b[32md:\\526_term_project\\Skynet\\.venv\\Lib\\site-packages\\accelerate\\data_loader.py:563\u001b[39m, in \u001b[36mDataLoaderShard.__iter__\u001b[39m\u001b[34m(self)\u001b[39m\n\u001b[32m    560\u001b[39m \u001b[38;5;28mself\u001b[39m.begin()\n\u001b[32m    562\u001b[39m \u001b[38;5;28mself\u001b[39m.set_epoch(\u001b[38;5;28mself\u001b[39m.iteration)\n\u001b[32m--> \u001b[39m\u001b[32m563\u001b[39m dataloader_iter = \u001b[38;5;28;43mself\u001b[39;49m\u001b[43m.\u001b[49m\u001b[43mbase_dataloader\u001b[49m\u001b[43m.\u001b[49m\u001b[34;43m__iter__\u001b[39;49m\u001b[43m(\u001b[49m\u001b[43m)\u001b[49m\n\u001b[32m    564\u001b[39m \u001b[38;5;66;03m# We iterate one batch ahead to check when we are at the end\u001b[39;00m\n\u001b[32m    565\u001b[39m \u001b[38;5;28;01mtry\u001b[39;00m:\n",
      "\u001b[36mFile \u001b[39m\u001b[32md:\\526_term_project\\Skynet\\.venv\\Lib\\site-packages\\torch\\utils\\data\\dataloader.py:493\u001b[39m, in \u001b[36mDataLoader.__iter__\u001b[39m\u001b[34m(self)\u001b[39m\n\u001b[32m    491\u001b[39m     \u001b[38;5;28;01mreturn\u001b[39;00m \u001b[38;5;28mself\u001b[39m._iterator\n\u001b[32m    492\u001b[39m \u001b[38;5;28;01melse\u001b[39;00m:\n\u001b[32m--> \u001b[39m\u001b[32m493\u001b[39m     \u001b[38;5;28;01mreturn\u001b[39;00m \u001b[38;5;28;43mself\u001b[39;49m\u001b[43m.\u001b[49m\u001b[43m_get_iterator\u001b[49m\u001b[43m(\u001b[49m\u001b[43m)\u001b[49m\n",
      "\u001b[36mFile \u001b[39m\u001b[32md:\\526_term_project\\Skynet\\.venv\\Lib\\site-packages\\torch\\utils\\data\\dataloader.py:424\u001b[39m, in \u001b[36mDataLoader._get_iterator\u001b[39m\u001b[34m(self)\u001b[39m\n\u001b[32m    422\u001b[39m \u001b[38;5;28;01melse\u001b[39;00m:\n\u001b[32m    423\u001b[39m     \u001b[38;5;28mself\u001b[39m.check_worker_number_rationality()\n\u001b[32m--> \u001b[39m\u001b[32m424\u001b[39m     \u001b[38;5;28;01mreturn\u001b[39;00m \u001b[43m_MultiProcessingDataLoaderIter\u001b[49m\u001b[43m(\u001b[49m\u001b[38;5;28;43mself\u001b[39;49m\u001b[43m)\u001b[49m\n",
      "\u001b[36mFile \u001b[39m\u001b[32md:\\526_term_project\\Skynet\\.venv\\Lib\\site-packages\\torch\\utils\\data\\dataloader.py:1171\u001b[39m, in \u001b[36m_MultiProcessingDataLoaderIter.__init__\u001b[39m\u001b[34m(self, loader)\u001b[39m\n\u001b[32m   1164\u001b[39m w.daemon = \u001b[38;5;28;01mTrue\u001b[39;00m\n\u001b[32m   1165\u001b[39m \u001b[38;5;66;03m# NB: Process.start() actually take some time as it needs to\u001b[39;00m\n\u001b[32m   1166\u001b[39m \u001b[38;5;66;03m#     start a process and pass the arguments over via a pipe.\u001b[39;00m\n\u001b[32m   1167\u001b[39m \u001b[38;5;66;03m#     Therefore, we only add a worker to self._workers list after\u001b[39;00m\n\u001b[32m   1168\u001b[39m \u001b[38;5;66;03m#     it started, so that we do not call .join() if program dies\u001b[39;00m\n\u001b[32m   1169\u001b[39m \u001b[38;5;66;03m#     before it starts, and __del__ tries to join but will get:\u001b[39;00m\n\u001b[32m   1170\u001b[39m \u001b[38;5;66;03m#     AssertionError: can only join a started process.\u001b[39;00m\n\u001b[32m-> \u001b[39m\u001b[32m1171\u001b[39m \u001b[43mw\u001b[49m\u001b[43m.\u001b[49m\u001b[43mstart\u001b[49m\u001b[43m(\u001b[49m\u001b[43m)\u001b[49m\n\u001b[32m   1172\u001b[39m \u001b[38;5;28mself\u001b[39m._index_queues.append(index_queue)\n\u001b[32m   1173\u001b[39m \u001b[38;5;28mself\u001b[39m._workers.append(w)\n",
      "\u001b[36mFile \u001b[39m\u001b[32m~\\AppData\\Local\\Programs\\Python\\Python312\\Lib\\multiprocessing\\process.py:121\u001b[39m, in \u001b[36mBaseProcess.start\u001b[39m\u001b[34m(self)\u001b[39m\n\u001b[32m    118\u001b[39m \u001b[38;5;28;01massert\u001b[39;00m \u001b[38;5;129;01mnot\u001b[39;00m _current_process._config.get(\u001b[33m'\u001b[39m\u001b[33mdaemon\u001b[39m\u001b[33m'\u001b[39m), \\\n\u001b[32m    119\u001b[39m        \u001b[33m'\u001b[39m\u001b[33mdaemonic processes are not allowed to have children\u001b[39m\u001b[33m'\u001b[39m\n\u001b[32m    120\u001b[39m _cleanup()\n\u001b[32m--> \u001b[39m\u001b[32m121\u001b[39m \u001b[38;5;28mself\u001b[39m._popen = \u001b[38;5;28;43mself\u001b[39;49m\u001b[43m.\u001b[49m\u001b[43m_Popen\u001b[49m\u001b[43m(\u001b[49m\u001b[38;5;28;43mself\u001b[39;49m\u001b[43m)\u001b[49m\n\u001b[32m    122\u001b[39m \u001b[38;5;28mself\u001b[39m._sentinel = \u001b[38;5;28mself\u001b[39m._popen.sentinel\n\u001b[32m    123\u001b[39m \u001b[38;5;66;03m# Avoid a refcycle if the target function holds an indirect\u001b[39;00m\n\u001b[32m    124\u001b[39m \u001b[38;5;66;03m# reference to the process object (see bpo-30775)\u001b[39;00m\n",
      "\u001b[36mFile \u001b[39m\u001b[32m~\\AppData\\Local\\Programs\\Python\\Python312\\Lib\\multiprocessing\\context.py:224\u001b[39m, in \u001b[36mProcess._Popen\u001b[39m\u001b[34m(process_obj)\u001b[39m\n\u001b[32m    222\u001b[39m \u001b[38;5;129m@staticmethod\u001b[39m\n\u001b[32m    223\u001b[39m \u001b[38;5;28;01mdef\u001b[39;00m\u001b[38;5;250m \u001b[39m\u001b[34m_Popen\u001b[39m(process_obj):\n\u001b[32m--> \u001b[39m\u001b[32m224\u001b[39m     \u001b[38;5;28;01mreturn\u001b[39;00m \u001b[43m_default_context\u001b[49m\u001b[43m.\u001b[49m\u001b[43mget_context\u001b[49m\u001b[43m(\u001b[49m\u001b[43m)\u001b[49m\u001b[43m.\u001b[49m\u001b[43mProcess\u001b[49m\u001b[43m.\u001b[49m\u001b[43m_Popen\u001b[49m\u001b[43m(\u001b[49m\u001b[43mprocess_obj\u001b[49m\u001b[43m)\u001b[49m\n",
      "\u001b[36mFile \u001b[39m\u001b[32m~\\AppData\\Local\\Programs\\Python\\Python312\\Lib\\multiprocessing\\context.py:337\u001b[39m, in \u001b[36mSpawnProcess._Popen\u001b[39m\u001b[34m(process_obj)\u001b[39m\n\u001b[32m    334\u001b[39m \u001b[38;5;129m@staticmethod\u001b[39m\n\u001b[32m    335\u001b[39m \u001b[38;5;28;01mdef\u001b[39;00m\u001b[38;5;250m \u001b[39m\u001b[34m_Popen\u001b[39m(process_obj):\n\u001b[32m    336\u001b[39m     \u001b[38;5;28;01mfrom\u001b[39;00m\u001b[38;5;250m \u001b[39m\u001b[34;01m.\u001b[39;00m\u001b[34;01mpopen_spawn_win32\u001b[39;00m\u001b[38;5;250m \u001b[39m\u001b[38;5;28;01mimport\u001b[39;00m Popen\n\u001b[32m--> \u001b[39m\u001b[32m337\u001b[39m     \u001b[38;5;28;01mreturn\u001b[39;00m \u001b[43mPopen\u001b[49m\u001b[43m(\u001b[49m\u001b[43mprocess_obj\u001b[49m\u001b[43m)\u001b[49m\n",
      "\u001b[36mFile \u001b[39m\u001b[32m~\\AppData\\Local\\Programs\\Python\\Python312\\Lib\\multiprocessing\\popen_spawn_win32.py:95\u001b[39m, in \u001b[36mPopen.__init__\u001b[39m\u001b[34m(self, process_obj)\u001b[39m\n\u001b[32m     93\u001b[39m \u001b[38;5;28;01mtry\u001b[39;00m:\n\u001b[32m     94\u001b[39m     reduction.dump(prep_data, to_child)\n\u001b[32m---> \u001b[39m\u001b[32m95\u001b[39m     \u001b[43mreduction\u001b[49m\u001b[43m.\u001b[49m\u001b[43mdump\u001b[49m\u001b[43m(\u001b[49m\u001b[43mprocess_obj\u001b[49m\u001b[43m,\u001b[49m\u001b[43m \u001b[49m\u001b[43mto_child\u001b[49m\u001b[43m)\u001b[49m\n\u001b[32m     96\u001b[39m \u001b[38;5;28;01mfinally\u001b[39;00m:\n\u001b[32m     97\u001b[39m     set_spawning_popen(\u001b[38;5;28;01mNone\u001b[39;00m)\n",
      "\u001b[36mFile \u001b[39m\u001b[32m~\\AppData\\Local\\Programs\\Python\\Python312\\Lib\\multiprocessing\\reduction.py:60\u001b[39m, in \u001b[36mdump\u001b[39m\u001b[34m(obj, file, protocol)\u001b[39m\n\u001b[32m     58\u001b[39m \u001b[38;5;28;01mdef\u001b[39;00m\u001b[38;5;250m \u001b[39m\u001b[34mdump\u001b[39m(obj, file, protocol=\u001b[38;5;28;01mNone\u001b[39;00m):\n\u001b[32m     59\u001b[39m \u001b[38;5;250m    \u001b[39m\u001b[33;03m'''Replacement for pickle.dump() using ForkingPickler.'''\u001b[39;00m\n\u001b[32m---> \u001b[39m\u001b[32m60\u001b[39m     \u001b[43mForkingPickler\u001b[49m\u001b[43m(\u001b[49m\u001b[43mfile\u001b[49m\u001b[43m,\u001b[49m\u001b[43m \u001b[49m\u001b[43mprotocol\u001b[49m\u001b[43m)\u001b[49m\u001b[43m.\u001b[49m\u001b[43mdump\u001b[49m\u001b[43m(\u001b[49m\u001b[43mobj\u001b[49m\u001b[43m)\u001b[49m\n",
      "\u001b[36mFile \u001b[39m\u001b[32md:\\526_term_project\\Skynet\\.venv\\Lib\\site-packages\\pyarrow\\io.pxi:1548\u001b[39m, in \u001b[36mpyarrow.lib.Buffer.__reduce_ex__\u001b[39m\u001b[34m()\u001b[39m\n",
      "\u001b[36mFile \u001b[39m\u001b[32md:\\526_term_project\\Skynet\\.venv\\Lib\\site-packages\\pyarrow\\io.pxi:1557\u001b[39m, in \u001b[36mpyarrow.lib.Buffer.to_pybytes\u001b[39m\u001b[34m()\u001b[39m\n",
      "\u001b[31mMemoryError\u001b[39m: "
     ]
    }
   ],
   "source": [
    "test_dataset = Dataset.from_pandas(df_test[['text', 'label']])\n",
    "tokenized_test_dataset = test_dataset.map(tokenize_function, batched=True)\n",
    "\n",
    "trainer = Trainer(\n",
    "    model=model,\n",
    "    args=training_args,\n",
    "    train_dataset=tokenized_train_dataset,\n",
    "    eval_dataset=tokenized_test_dataset,\n",
    "    compute_metrics=compute_metrics,\n",
    "    callbacks=[logger_callback]\n",
    ")\n",
    "\n",
    "results_all = trainer.evaluate()\n",
    "print(results_all)"
   ]
  }
 ],
 "metadata": {
  "kernelspec": {
   "display_name": ".venv",
   "language": "python",
   "name": "python3"
  },
  "language_info": {
   "codemirror_mode": {
    "name": "ipython",
    "version": 3
   },
   "file_extension": ".py",
   "mimetype": "text/x-python",
   "name": "python",
   "nbconvert_exporter": "python",
   "pygments_lexer": "ipython3",
   "version": "3.12.4"
  }
 },
 "nbformat": 4,
 "nbformat_minor": 5
}
