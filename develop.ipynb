{
 "cells": [
  {
   "cell_type": "code",
   "execution_count": null,
   "id": "daf0df9f",
   "metadata": {},
   "outputs": [],
   "source": [
    "import pandas as pd\n",
    "import string\n",
    "import spacy\n",
    "nlp = spacy.load(\"en_core_web_sm\")\n",
    "df = pd.read_csv(\"/Users/kevinhsu/Downloads/AIT 526/Skynet/Sentiment Analysis Dataset/train.csv\", encoding='ISO-8859-1')"
   ]
  },
  {
   "cell_type": "code",
   "execution_count": 81,
   "id": "a9609747",
   "metadata": {},
   "outputs": [],
   "source": [
    "df.dropna(subset=['text'], inplace=True)"
   ]
  },
  {
   "cell_type": "code",
   "execution_count": 86,
   "id": "05835e5a",
   "metadata": {},
   "outputs": [],
   "source": [
    "def preprocess_text(text):\n",
    "    doc = nlp(text)\n",
    "    clean_tokens = [\n",
    "        token.lemma_.lower()\n",
    "        for token in doc\n",
    "        if token.text not in string.punctuation  # remove punctuation\n",
    "        and not token.is_stop                    # remove stopwords\n",
    "        and token.lemma_ != \"-PRON-\"             # exclude pronouns\n",
    "    ]\n",
    "    return \" \".join(clean_tokens)\n",
    "\n",
    "df['processed_text'] = df['text'].apply(preprocess_text)"
   ]
  },
  {
   "cell_type": "code",
   "execution_count": null,
   "id": "b209746b",
   "metadata": {},
   "outputs": [],
   "source": [
    "# Bag of Words\n",
    "from sklearn.feature_extraction.text import CountVectorizer\n",
    "# TF-IDF\n",
    "from sklearn.feature_extraction.text import TfidfVectorizer\n",
    "\n",
    "tf_idf_vectorizer = TfidfVectorizer()\n",
    "vectorizer = CountVectorizer()"
   ]
  },
  {
   "cell_type": "code",
   "execution_count": 88,
   "id": "b1b09147",
   "metadata": {},
   "outputs": [],
   "source": [
    "X = vectorizer.fit_transform(df['processed_text'])"
   ]
  },
  {
   "cell_type": "code",
   "execution_count": 83,
   "id": "7bb2f796",
   "metadata": {},
   "outputs": [],
   "source": [
    "y = df['sentiment'].apply(lambda x: 2 if x == 'positive' else 1 if x == 'neutral' else 0)"
   ]
  },
  {
   "cell_type": "code",
   "execution_count": null,
   "id": "06a3c91a",
   "metadata": {},
   "outputs": [],
   "source": [
    "from sklearn.model_selection import train_test_split\n",
    "from sklearn.pipeline import Pipeline\n",
    "from xgboost import XGBClassifier \n",
    "from sklearn.ensemble import RandomForestClassifier\n",
    "from sklearn.linear_model import LogisticRegression\n",
    "from sklearn.neighbors import KNeighborsClassifier\n",
    "from sklearn.svm import SVC\n",
    "from sklearn.ensemble import RandomForestClassifier\n",
    "from sklearn.ensemble import GradientBoostingClassifier\n",
    "from sklearn.naive_bayes import MultinomialNB\n",
    "from sklearn.metrics import accuracy_score"
   ]
  },
  {
   "cell_type": "code",
   "execution_count": 101,
   "id": "916a8c50",
   "metadata": {},
   "outputs": [],
   "source": [
    "models = {\n",
    "    \"XGBoost\": XGBClassifier(),\n",
    "    \"Logistic Regression\": LogisticRegression(),\n",
    "    \"Naive Bayes\": MultinomialNB(),\n",
    "    \"Random Forest\": RandomForestClassifier(),\n",
    "    \"Gradient Boosting\": GradientBoostingClassifier(),\n",
    "    \"Support Vector Machine\": SVC(),\n",
    "    \"K-Nearest Neighbors\": KNeighborsClassifier()\n",
    "}"
   ]
  },
  {
   "cell_type": "code",
   "execution_count": 102,
   "id": "7ce88ae4",
   "metadata": {},
   "outputs": [
    {
     "name": "stdout",
     "output_type": "stream",
     "text": [
      "Model performance with different vectorizers:\n",
      "\n",
      "\n",
      "Count Vectorizer:\n",
      "----------------------------------------\n",
      "XGBoost: 0.6960\n",
      "Logistic Regression: 0.6881\n",
      "Naive Bayes: 0.6412\n",
      "Random Forest: 0.6940\n",
      "Gradient Boosting: 0.6499\n",
      "Support Vector Machine: 0.6920\n",
      "K-Nearest Neighbors: 0.5626\n",
      "\n",
      "TF-IDF:\n",
      "----------------------------------------\n",
      "XGBoost: 0.6904\n",
      "Logistic Regression: 0.6800\n",
      "Naive Bayes: 0.6194\n",
      "Random Forest: 0.7003\n",
      "Gradient Boosting: 0.6500\n",
      "Support Vector Machine: 0.6803\n",
      "K-Nearest Neighbors: 0.4514\n",
      "\n",
      "Best combination:\n",
      "Vectorizer: TF-IDF\n",
      "Model: Random Forest\n",
      "Accuracy: 0.7003\n"
     ]
    }
   ],
   "source": [
    "# Define vectorizers\n",
    "vectorizers = {\n",
    "    \"Count Vectorizer\": CountVectorizer(),\n",
    "    \"TF-IDF\": TfidfVectorizer()\n",
    "}\n",
    "\n",
    "# Store results for each combination\n",
    "all_results = {}\n",
    "\n",
    "# Test each vectorizer\n",
    "for vec_name, vectorizer in vectorizers.items():\n",
    "    # Transform the data\n",
    "    X = vectorizer.fit_transform(df['processed_text'])\n",
    "    X_train, X_test, y_train, y_test = train_test_split(X, y, test_size=0.3, random_state=42)\n",
    "    \n",
    "    # Test each model with current vectorizer\n",
    "    model_results = {}\n",
    "    for model_name, model in models.items():\n",
    "        pipeline = Pipeline([\n",
    "            ('classifier', model)\n",
    "        ])\n",
    "        \n",
    "        pipeline.fit(X_train, y_train)\n",
    "        y_pred = pipeline.predict(X_test)\n",
    "        acc = accuracy_score(y_test, y_pred)\n",
    "        model_results[model_name] = acc\n",
    "    \n",
    "    all_results[vec_name] = model_results\n",
    "\n",
    "# Display results\n",
    "print(\"Model performance with different vectorizers:\\n\")\n",
    "for vec_name, model_results in all_results.items():\n",
    "    print(f\"\\n{vec_name}:\")\n",
    "    print(\"-\" * 40)\n",
    "    for model_name, acc in model_results.items():\n",
    "        print(f\"{model_name}: {acc:.4f}\")\n",
    "\n",
    "# Find best combination\n",
    "best_acc = 0\n",
    "best_vec = \"\"\n",
    "best_model = \"\"\n",
    "\n",
    "for vec_name, model_results in all_results.items():\n",
    "    for model_name, acc in model_results.items():\n",
    "        if acc > best_acc:\n",
    "            best_acc = acc\n",
    "            best_vec = vec_name\n",
    "            best_model = model_name\n",
    "\n",
    "print(f\"\\nBest combination:\")\n",
    "print(f\"Vectorizer: {best_vec}\")\n",
    "print(f\"Model: {best_model}\")\n",
    "print(f\"Accuracy: {best_acc:.4f}\")"
   ]
  },
  {
   "cell_type": "markdown",
   "id": "4fe02f54",
   "metadata": {},
   "source": [
    "#### Model performance with different vectorizers:\n",
    "\n",
    "#### **Bag of Words:**\n",
    "##### ----------------------------------------\n",
    "##### XGBoost: 0.6960\n",
    "##### Logistic Regression: 0.6881\n",
    "##### Naive Bayes: 0.6412\n",
    "##### Random Forest: 0.6940\n",
    "##### Gradient Boosting: 0.6499\n",
    "##### Support Vector Machine: 0.6920\n",
    "##### K-Nearest Neighbors: 0.5626\n",
    "\n",
    "#### **TF-IDF:**\n",
    "##### ----------------------------------------\n",
    "##### XGBoost: 0.6904\n",
    "##### Logistic Regression: 0.6800\n",
    "##### Naive Bayes: 0.6194\n",
    "##### Random Forest: 0.7003\n",
    "##### Gradient Boosting: 0.6500\n",
    "##### Support Vector Machine: 0.6803\n",
    "##### K-Nearest Neighbors: 0.4514\n",
    "\n",
    "#### Best combination:\n",
    "##### Vectorizer: TF-IDF\n",
    "##### Model: Random Forest\n",
    "##### Accuracy: 0.7003"
   ]
  },
  {
   "cell_type": "code",
   "execution_count": null,
   "id": "09d933b6",
   "metadata": {},
   "outputs": [
    {
     "name": "stdout",
     "output_type": "stream",
     "text": [
      "\n",
      "Classification Report:\n",
      "              precision    recall  f1-score   support\n",
      "\n",
      "    negative       0.74      0.59      0.65      2356\n",
      "     neutral       0.66      0.74      0.70      3343\n",
      "    positive       0.74      0.77      0.76      2545\n",
      "\n",
      "    accuracy                           0.70      8244\n",
      "   macro avg       0.71      0.70      0.70      8244\n",
      "weighted avg       0.71      0.70      0.70      8244\n",
      "\n",
      "\n",
      "Confusion Matrix:\n",
      "[[1384  765  207]\n",
      " [ 406 2460  477]\n",
      " [  92  494 1959]]\n"
     ]
    }
   ],
   "source": [
    "from sklearn.metrics import classification_report, confusion_matrix\n",
    "model = models[best_model]\n",
    "X = df['processed_text']\n",
    "y = df['sentiment'].apply(lambda x: 2 if x == 'positive' else 1 if x == 'neutral' else 0)\n",
    "X_train, X_test, y_train, y_test = train_test_split(X, y, test_size=0.3, random_state=42)\n",
    "pipeline = Pipeline([\n",
    "    ('vectorizer', vectorizers[best_vec]),\n",
    "    ('classifier', model)\n",
    "])\n",
    "pipeline.fit(X_train, y_train)\n",
    "y_pred = pipeline.predict(X_test)\n",
    "\n",
    "print(\"\\nClassification Report:\")\n",
    "print(classification_report(y_test, y_pred, target_names=['negative', 'neutral', 'positive']))\n",
    "print(\"\\nConfusion Matrix:\")\n",
    "print(confusion_matrix(y_test, y_pred, labels=[0, 1, 2]))"
   ]
  },
  {
   "cell_type": "code",
   "execution_count": 113,
   "id": "82a06119",
   "metadata": {},
   "outputs": [
    {
     "data": {
      "image/png": "[encoded data removed]",
      "text/plain": [
       "<Figure size 600x400 with 2 Axes>"
      ]
     },
     "metadata": {},
     "output_type": "display_data"
    }
   ],
   "source": [
    "import seaborn as sns\n",
    "import matplotlib.pyplot as plt\n",
    "from sklearn.metrics import confusion_matrix\n",
    "\n",
    "# y_test = actual labels, y_pred = predicted labels from your model\n",
    "conf_mat = confusion_matrix(y_test, y_pred)\n",
    "\n",
    "# Optional: add class names\n",
    "labels = ['Negative', 'Netural', 'Positive']  # change according to your classes\n",
    "\n",
    "# Plot using seaborn\n",
    "plt.figure(figsize=(6, 4))\n",
    "sns.heatmap(conf_mat, annot=True, fmt='d', cmap='Blues', xticklabels=labels, yticklabels=labels)\n",
    "plt.xlabel('Predicted')\n",
    "plt.ylabel('Actual')\n",
    "plt.title('Confusion Matrix')\n",
    "plt.show()"
   ]
  }
 ],
 "metadata": {
  "kernelspec": {
   "display_name": ".venv",
   "language": "python",
   "name": "python3"
  },
  "language_info": {
   "codemirror_mode": {
    "name": "ipython",
    "version": 3
   },
   "file_extension": ".py",
   "mimetype": "text/x-python",
   "name": "python",
   "nbconvert_exporter": "python",
   "pygments_lexer": "ipython3",
   "version": "3.12.0"
  }
 },
 "nbformat": 4,
 "nbformat_minor": 5
}
