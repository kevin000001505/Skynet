{
 "cells": [
  {
   "cell_type": "code",
   "execution_count": 1,
   "id": "8648d378",
   "metadata": {},
   "outputs": [],
   "source": [
    "import pandas as pd\n",
    "from transformers import (\n",
    "    AutoTokenizer,\n",
    "    AutoModelForSequenceClassification,\n",
    "    Trainer,\n",
    "    TrainingArguments,\n",
    ")\n",
    "from datasets import Dataset\n",
    "from sklearn.metrics import accuracy_score\n",
    "from sklearn.model_selection import train_test_split\n",
    "from peft import get_peft_model, LoraConfig, TaskType"
   ]
  },
  {
   "cell_type": "code",
   "execution_count": 2,
   "id": "ee5848c7",
   "metadata": {},
   "outputs": [
    {
     "data": {
      "text/html": [
       "<div>\n",
       "<style scoped>\n",
       "    .dataframe tbody tr th:only-of-type {\n",
       "        vertical-align: middle;\n",
       "    }\n",
       "\n",
       "    .dataframe tbody tr th {\n",
       "        vertical-align: top;\n",
       "    }\n",
       "\n",
       "    .dataframe thead th {\n",
       "        text-align: right;\n",
       "    }\n",
       "</style>\n",
       "<table border=\"1\" class=\"dataframe\">\n",
       "  <thead>\n",
       "    <tr style=\"text-align: right;\">\n",
       "      <th></th>\n",
       "      <th>Unnamed: 0</th>\n",
       "      <th>text</th>\n",
       "      <th>label</th>\n",
       "      <th>preprocess_text</th>\n",
       "    </tr>\n",
       "  </thead>\n",
       "  <tbody>\n",
       "    <tr>\n",
       "      <th>0</th>\n",
       "      <td>43</td>\n",
       "      <td>Having certain businesses with skill sets in y...</td>\n",
       "      <td>2</td>\n",
       "      <td>have certain business skill set local neighbor...</td>\n",
       "    </tr>\n",
       "    <tr>\n",
       "      <th>1</th>\n",
       "      <td>143</td>\n",
       "      <td>We came here on a Saturday night and luckily i...</td>\n",
       "      <td>2</td>\n",
       "      <td>come saturday night luckily pack think love pl...</td>\n",
       "    </tr>\n",
       "    <tr>\n",
       "      <th>2</th>\n",
       "      <td>167</td>\n",
       "      <td>For a brewery who is attempting to take advant...</td>\n",
       "      <td>1</td>\n",
       "      <td>brewery attempt advantage oktoberf wonder 7 pm...</td>\n",
       "    </tr>\n",
       "    <tr>\n",
       "      <th>3</th>\n",
       "      <td>175</td>\n",
       "      <td>I'm a regular here since their kitchen is open...</td>\n",
       "      <td>2</td>\n",
       "      <td>regular kitchen open late good option movie na...</td>\n",
       "    </tr>\n",
       "    <tr>\n",
       "      <th>4</th>\n",
       "      <td>213</td>\n",
       "      <td>haha only came here once for happy hour, but i...</td>\n",
       "      <td>2</td>\n",
       "      <td>haha come happy hour pleased price guess come ...</td>\n",
       "    </tr>\n",
       "    <tr>\n",
       "      <th>...</th>\n",
       "      <td>...</td>\n",
       "      <td>...</td>\n",
       "      <td>...</td>\n",
       "      <td>...</td>\n",
       "    </tr>\n",
       "    <tr>\n",
       "      <th>25667</th>\n",
       "      <td>678858</td>\n",
       "      <td>Just... wow! So many guns. So much ammunition....</td>\n",
       "      <td>2</td>\n",
       "      <td>... wow gun ammunition hunting gear outside ge...</td>\n",
       "    </tr>\n",
       "    <tr>\n",
       "      <th>25668</th>\n",
       "      <td>678922</td>\n",
       "      <td>This place is was not that great. Dim sum is o...</td>\n",
       "      <td>1</td>\n",
       "      <td>place great dim sum outranglusly expensive ran...</td>\n",
       "    </tr>\n",
       "    <tr>\n",
       "      <th>25669</th>\n",
       "      <td>678925</td>\n",
       "      <td>So Marcus, the owner, saw my wife and I passin...</td>\n",
       "      <td>2</td>\n",
       "      <td>marcus owner see wife pass star sandwhich shop...</td>\n",
       "    </tr>\n",
       "    <tr>\n",
       "      <th>25670</th>\n",
       "      <td>678943</td>\n",
       "      <td>We just left and will go back for burgers anyt...</td>\n",
       "      <td>2</td>\n",
       "      <td>leave burger anytime mood.\\n\\n5 minute wait ta...</td>\n",
       "    </tr>\n",
       "    <tr>\n",
       "      <th>25671</th>\n",
       "      <td>679019</td>\n",
       "      <td>I've been wanting to come here for quite some ...</td>\n",
       "      <td>1</td>\n",
       "      <td>want come time see feature guy fieri diners dr...</td>\n",
       "    </tr>\n",
       "  </tbody>\n",
       "</table>\n",
       "<p>25672 rows × 4 columns</p>\n",
       "</div>"
      ],
      "text/plain": [
       "       Unnamed: 0                                               text  label  \\\n",
       "0              43  Having certain businesses with skill sets in y...      2   \n",
       "1             143  We came here on a Saturday night and luckily i...      2   \n",
       "2             167  For a brewery who is attempting to take advant...      1   \n",
       "3             175  I'm a regular here since their kitchen is open...      2   \n",
       "4             213  haha only came here once for happy hour, but i...      2   \n",
       "...           ...                                                ...    ...   \n",
       "25667      678858  Just... wow! So many guns. So much ammunition....      2   \n",
       "25668      678922  This place is was not that great. Dim sum is o...      1   \n",
       "25669      678925  So Marcus, the owner, saw my wife and I passin...      2   \n",
       "25670      678943  We just left and will go back for burgers anyt...      2   \n",
       "25671      679019  I've been wanting to come here for quite some ...      1   \n",
       "\n",
       "                                         preprocess_text  \n",
       "0      have certain business skill set local neighbor...  \n",
       "1      come saturday night luckily pack think love pl...  \n",
       "2      brewery attempt advantage oktoberf wonder 7 pm...  \n",
       "3      regular kitchen open late good option movie na...  \n",
       "4      haha come happy hour pleased price guess come ...  \n",
       "...                                                  ...  \n",
       "25667  ... wow gun ammunition hunting gear outside ge...  \n",
       "25668  place great dim sum outranglusly expensive ran...  \n",
       "25669  marcus owner see wife pass star sandwhich shop...  \n",
       "25670  leave burger anytime mood.\\n\\n5 minute wait ta...  \n",
       "25671  want come time see feature guy fieri diners dr...  \n",
       "\n",
       "[25672 rows x 4 columns]"
      ]
     },
     "execution_count": 2,
     "metadata": {},
     "output_type": "execute_result"
    }
   ],
   "source": [
    "df = pd.read_csv(\"./low_confidence_samples/big_data.csv\")\n",
    "df"
   ]
  },
  {
   "cell_type": "code",
   "execution_count": 3,
   "id": "2411eb17",
   "metadata": {},
   "outputs": [],
   "source": [
    "df_train, df_test = train_test_split(df, test_size=0.3, shuffle=True)\n",
    "\n",
    "# Ensure text data is a list of strings and drop missing values\n",
    "df_train[\"text\"] = df_train[\"preprocess_text\"].astype(str)\n",
    "df_test[\"text\"] = df_test[\"preprocess_text\"].astype(str)\n",
    "\n",
    "# Ensure text is lowercase\n",
    "df_train[\"text\"] = df_train[\"text\"].str.lower()\n",
    "df_test[\"text\"] = df_test[\"text\"].str.lower()\n",
    "\n",
    "df_train[\"label\"] = df_train[\"label\"].astype(int)\n",
    "df_test[\"label\"] = df_test[\"label\"].astype(int)"
   ]
  },
  {
   "cell_type": "code",
   "execution_count": 4,
   "id": "e999af19",
   "metadata": {},
   "outputs": [
    {
     "data": {
      "text/html": [
       "<div>\n",
       "<style scoped>\n",
       "    .dataframe tbody tr th:only-of-type {\n",
       "        vertical-align: middle;\n",
       "    }\n",
       "\n",
       "    .dataframe tbody tr th {\n",
       "        vertical-align: top;\n",
       "    }\n",
       "\n",
       "    .dataframe thead th {\n",
       "        text-align: right;\n",
       "    }\n",
       "</style>\n",
       "<table border=\"1\" class=\"dataframe\">\n",
       "  <thead>\n",
       "    <tr style=\"text-align: right;\">\n",
       "      <th></th>\n",
       "      <th>Unnamed: 0</th>\n",
       "      <th>text</th>\n",
       "      <th>label</th>\n",
       "      <th>preprocess_text</th>\n",
       "    </tr>\n",
       "  </thead>\n",
       "  <tbody>\n",
       "    <tr>\n",
       "      <th>4023</th>\n",
       "      <td>131536</td>\n",
       "      <td>live valley year rave pricing great bargain fi...</td>\n",
       "      <td>1</td>\n",
       "      <td>live valley year rave pricing great bargain fi...</td>\n",
       "    </tr>\n",
       "    <tr>\n",
       "      <th>12087</th>\n",
       "      <td>376930</td>\n",
       "      <td>huge critic come sandwich shop big place open ...</td>\n",
       "      <td>1</td>\n",
       "      <td>huge critic come sandwich shop big place open ...</td>\n",
       "    </tr>\n",
       "    <tr>\n",
       "      <th>11979</th>\n",
       "      <td>373126</td>\n",
       "      <td>profession take lot drug test application proc...</td>\n",
       "      <td>2</td>\n",
       "      <td>profession take lot drug test application proc...</td>\n",
       "    </tr>\n",
       "    <tr>\n",
       "      <th>22809</th>\n",
       "      <td>622862</td>\n",
       "      <td>r lost trooper want know</td>\n",
       "      <td>0</td>\n",
       "      <td>r lost trooper want know</td>\n",
       "    </tr>\n",
       "    <tr>\n",
       "      <th>16636</th>\n",
       "      <td>526567</td>\n",
       "      <td>daughter visit today time   staff courteous be...</td>\n",
       "      <td>1</td>\n",
       "      <td>daughter visit today time   staff courteous be...</td>\n",
       "    </tr>\n",
       "    <tr>\n",
       "      <th>...</th>\n",
       "      <td>...</td>\n",
       "      <td>...</td>\n",
       "      <td>...</td>\n",
       "      <td>...</td>\n",
       "    </tr>\n",
       "    <tr>\n",
       "      <th>17261</th>\n",
       "      <td>550257</td>\n",
       "      <td>sport bar offer chicken wing slider bar gaming...</td>\n",
       "      <td>2</td>\n",
       "      <td>sport bar offer chicken wing slider bar gaming...</td>\n",
       "    </tr>\n",
       "    <tr>\n",
       "      <th>20513</th>\n",
       "      <td>595084</td>\n",
       "      <td>nagra come conservative indian family exactly ...</td>\n",
       "      <td>2</td>\n",
       "      <td>nagra come conservative indian family exactly ...</td>\n",
       "    </tr>\n",
       "    <tr>\n",
       "      <th>24296</th>\n",
       "      <td>639065</td>\n",
       "      <td>... long install sbs2008</td>\n",
       "      <td>0</td>\n",
       "      <td>... long install sbs2008</td>\n",
       "    </tr>\n",
       "    <tr>\n",
       "      <th>24313</th>\n",
       "      <td>639244</td>\n",
       "      <td>wooohooo i`m fourth row</td>\n",
       "      <td>1</td>\n",
       "      <td>wooohooo i`m fourth row</td>\n",
       "    </tr>\n",
       "    <tr>\n",
       "      <th>404</th>\n",
       "      <td>13151</td>\n",
       "      <td>rito good coworker move month pledge rito week...</td>\n",
       "      <td>2</td>\n",
       "      <td>rito good coworker move month pledge rito week...</td>\n",
       "    </tr>\n",
       "  </tbody>\n",
       "</table>\n",
       "<p>17970 rows × 4 columns</p>\n",
       "</div>"
      ],
      "text/plain": [
       "       Unnamed: 0                                               text  label  \\\n",
       "4023       131536  live valley year rave pricing great bargain fi...      1   \n",
       "12087      376930  huge critic come sandwich shop big place open ...      1   \n",
       "11979      373126  profession take lot drug test application proc...      2   \n",
       "22809      622862                           r lost trooper want know      0   \n",
       "16636      526567  daughter visit today time   staff courteous be...      1   \n",
       "...           ...                                                ...    ...   \n",
       "17261      550257  sport bar offer chicken wing slider bar gaming...      2   \n",
       "20513      595084  nagra come conservative indian family exactly ...      2   \n",
       "24296      639065                           ... long install sbs2008      0   \n",
       "24313      639244                            wooohooo i`m fourth row      1   \n",
       "404         13151  rito good coworker move month pledge rito week...      2   \n",
       "\n",
       "                                         preprocess_text  \n",
       "4023   live valley year rave pricing great bargain fi...  \n",
       "12087  huge critic come sandwich shop big place open ...  \n",
       "11979  profession take lot drug test application proc...  \n",
       "22809                           r lost trooper want know  \n",
       "16636  daughter visit today time   staff courteous be...  \n",
       "...                                                  ...  \n",
       "17261  sport bar offer chicken wing slider bar gaming...  \n",
       "20513  nagra come conservative indian family exactly ...  \n",
       "24296                           ... long install sbs2008  \n",
       "24313                            wooohooo i`m fourth row  \n",
       "404    rito good coworker move month pledge rito week...  \n",
       "\n",
       "[17970 rows x 4 columns]"
      ]
     },
     "execution_count": 4,
     "metadata": {},
     "output_type": "execute_result"
    }
   ],
   "source": [
    "df_train"
   ]
  },
  {
   "cell_type": "code",
   "execution_count": 6,
   "id": "6edf9ef1",
   "metadata": {},
   "outputs": [],
   "source": [
    "model_name = \"distilbert/distilbert-base-uncased\"\n",
    "tokenizer = AutoTokenizer.from_pretrained(model_name)"
   ]
  },
  {
   "cell_type": "code",
   "execution_count": 7,
   "id": "6061d937",
   "metadata": {},
   "outputs": [
    {
     "data": {
      "application/vnd.jupyter.widget-view+json": {
       "model_id": "d285bba523d44628b945ffdb597324f3",
       "version_major": 2,
       "version_minor": 0
      },
      "text/plain": [
       "Map:   0%|          | 0/17970 [00:00<?, ? examples/s]"
      ]
     },
     "metadata": {},
     "output_type": "display_data"
    },
    {
     "data": {
      "application/vnd.jupyter.widget-view+json": {
       "model_id": "7f6daf8aaf724d64b5879862eb3e6d97",
       "version_major": 2,
       "version_minor": 0
      },
      "text/plain": [
       "Map:   0%|          | 0/7702 [00:00<?, ? examples/s]"
      ]
     },
     "metadata": {},
     "output_type": "display_data"
    }
   ],
   "source": [
    "# Convert DataFrames to Hugging Face Datasets\n",
    "train_dataset = Dataset.from_pandas(df_train[[\"text\", \"label\"]])\n",
    "test_dataset = Dataset.from_pandas(df_test[[\"text\", \"label\"]])\n",
    "\n",
    "\n",
    "# Adding short max length to lower training time\n",
    "def tokenize_function(examples):\n",
    "    return tokenizer(\n",
    "        examples[\"text\"], padding=\"max_length\", truncation=True, max_length=512\n",
    "    )\n",
    "\n",
    "\n",
    "tokenized_train_dataset = train_dataset.map(tokenize_function, batched=True)\n",
    "tokenized_test_dataset = test_dataset.map(tokenize_function, batched=True)"
   ]
  },
  {
   "cell_type": "code",
   "execution_count": 8,
   "id": "d01cf5b1",
   "metadata": {},
   "outputs": [
    {
     "name": "stdout",
     "output_type": "stream",
     "text": [
      "Using device: mps\n"
     ]
    }
   ],
   "source": [
    "import torch\n",
    "\n",
    "if torch.cuda.is_available():\n",
    "    device = \"cuda\"\n",
    "elif torch.backends.mps.is_available():\n",
    "    device = \"mps\"\n",
    "else:\n",
    "    device = \"cpu\"\n",
    "print(\"Using device:\", device)"
   ]
  },
  {
   "cell_type": "code",
   "execution_count": 24,
   "id": "218554ae",
   "metadata": {},
   "outputs": [
    {
     "name": "stderr",
     "output_type": "stream",
     "text": [
      "Some weights of DistilBertForSequenceClassification were not initialized from the model checkpoint at distilbert/distilbert-base-uncased and are newly initialized: ['classifier.bias', 'classifier.weight', 'pre_classifier.bias', 'pre_classifier.weight']\n",
      "You should probably TRAIN this model on a down-stream task to be able to use it for predictions and inference.\n"
     ]
    }
   ],
   "source": [
    "model = AutoModelForSequenceClassification.from_pretrained(model_name, num_labels=3)\n",
    "\n",
    "lora_config = LoraConfig(\n",
    "    r=16,\n",
    "    lora_alpha=32,\n",
    "    target_modules=[\"query\", \"value\"],  # BERT uses query, key, value in attention\n",
    "    lora_dropout=0.1,\n",
    "    bias=\"all\",\n",
    "    task_type=TaskType.SEQ_CLS,\n",
    ")\n",
    "\n",
    "training_args = TrainingArguments(\n",
    "    output_dir=\"./results/\" + model_name,\n",
    "    learning_rate=5e-5,\n",
    "    per_device_train_batch_size=32,\n",
    "    per_device_eval_batch_size=32,\n",
    "    gradient_accumulation_steps=1,\n",
    "    # gradient_checkpointing=True,\n",
    "    num_train_epochs=2,\n",
    "    dataloader_num_workers=0,\n",
    "    logging_steps=100,\n",
    "    optim=\"adamw_torch\",\n",
    "    # weight_decay=0.01,\n",
    "    adam_beta1=0.9,\n",
    "    adam_beta2=0.999,\n",
    "    adam_epsilon=1e-8,\n",
    ")\n",
    "\n",
    "# model = get_peft_model(model, lora_config)\n",
    "model = model.to(device)\n",
    "\n",
    "for name, param in model.named_parameters():\n",
    "    if \"classifier\" in name:\n",
    "        param.requires_grad = True"
   ]
  },
  {
   "cell_type": "code",
   "execution_count": 25,
   "id": "c04d8ffe",
   "metadata": {},
   "outputs": [],
   "source": [
    "# Define a compute metrics function\n",
    "def compute_metrics(p):\n",
    "    preds = p.predictions.argmax(-1)\n",
    "    accuracy = accuracy_score(p.label_ids, preds)\n",
    "    return {\"accuracy\": accuracy}"
   ]
  },
  {
   "cell_type": "code",
   "execution_count": 26,
   "id": "32a4c332",
   "metadata": {},
   "outputs": [],
   "source": [
    "from transformers import TrainerCallback\n",
    "\n",
    "\n",
    "class LossAccuracyLogger(TrainerCallback):\n",
    "    def __init__(self):\n",
    "        self.train_loss = []\n",
    "        self.eval_accuracy = []\n",
    "\n",
    "    def on_log(self, args, state, control, logs=None, **kwargs):\n",
    "        if logs is not None:\n",
    "            if \"loss\" in logs:\n",
    "                self.train_loss.append((state.epoch, logs[\"loss\"]))\n",
    "            if \"eval_accuracy\" in logs:\n",
    "                self.eval_accuracy.append((state.epoch, logs[\"eval_accuracy\"]))"
   ]
  },
  {
   "cell_type": "code",
   "execution_count": 27,
   "id": "2b3af93c",
   "metadata": {},
   "outputs": [],
   "source": [
    "logger_callback = LossAccuracyLogger()\n",
    "\n",
    "trainer = Trainer(\n",
    "    model=model,\n",
    "    args=training_args,\n",
    "    train_dataset=tokenized_train_dataset,\n",
    "    eval_dataset=tokenized_test_dataset,\n",
    "    compute_metrics=compute_metrics,\n",
    "    callbacks=[logger_callback],\n",
    ")"
   ]
  },
  {
   "cell_type": "code",
   "execution_count": null,
   "id": "08c68391",
   "metadata": {},
   "outputs": [],
   "source": [
    "# Train the model\n",
    "trainer.train()"
   ]
  },
  {
   "cell_type": "code",
   "execution_count": null,
   "id": "61fb12e9",
   "metadata": {},
   "outputs": [],
   "source": [
    "trainer.save_model(\"./results/\" + model_name + \"v1\")"
   ]
  },
  {
   "cell_type": "code",
   "execution_count": null,
   "id": "16584683",
   "metadata": {},
   "outputs": [
    {
     "data": {
      "text/html": [
       "\n",
       "    <div>\n",
       "      \n",
       "      <progress value='477' max='477' style='width:300px; height:20px; vertical-align: middle;'></progress>\n",
       "      [477/477 00:58]\n",
       "    </div>\n",
       "    "
      ],
      "text/plain": [
       "<IPython.core.display.HTML object>"
      ]
     },
     "metadata": {},
     "output_type": "display_data"
    },
    {
     "name": "stdout",
     "output_type": "stream",
     "text": [
      "{'eval_loss': 0.9946369528770447, 'eval_accuracy': 0.448334644636769, 'eval_runtime': 72.0795, 'eval_samples_per_second': 105.8, 'eval_steps_per_second': 6.618, 'epoch': 3.0}\n"
     ]
    },
    {
     "data": {
      "image/png": "[encoded data removed]",
      "text/plain": [
       "<Figure size 1000x500 with 2 Axes>"
      ]
     },
     "metadata": {},
     "output_type": "display_data"
    }
   ],
   "source": [
    "# Evaluate the model\n",
    "results = trainer.evaluate()\n",
    "print(results)\n",
    "\n",
    "import matplotlib.pyplot as plt\n",
    "\n",
    "# Unpack the epoch and values\n",
    "train_epochs, train_losses = zip(*logger_callback.train_loss)\n",
    "eval_epochs, eval_accuracies = zip(*logger_callback.eval_accuracy)\n",
    "\n",
    "# Plot training loss\n",
    "plt.figure(figsize=(10, 5))\n",
    "plt.subplot(1, 2, 1)\n",
    "plt.plot(train_epochs, train_losses, marker=\"o\")\n",
    "plt.title(\"Training Loss per Epoch\")\n",
    "plt.xlabel(\"Epoch\")\n",
    "plt.ylabel(\"Loss\")\n",
    "\n",
    "# Plot eval accuracy\n",
    "plt.subplot(1, 2, 2)\n",
    "plt.plot(eval_epochs, eval_accuracies, marker=\"o\", color=\"green\")\n",
    "plt.title(\"Evaluation Accuracy per Epoch\")\n",
    "plt.xlabel(\"Epoch\")\n",
    "plt.ylabel(\"Accuracy\")\n",
    "\n",
    "plt.tight_layout()\n",
    "plt.show()"
   ]
  },
  {
   "cell_type": "code",
   "execution_count": null,
   "id": "2c912383",
   "metadata": {},
   "outputs": [
    {
     "data": {
      "application/vnd.microsoft.datawrangler.viewer.v0+json": {
       "columns": [
        {
         "name": "index",
         "rawType": "int64",
         "type": "integer"
        },
        {
         "name": "Unnamed: 0",
         "rawType": "int64",
         "type": "integer"
        },
        {
         "name": "text",
         "rawType": "object",
         "type": "string"
        },
        {
         "name": "label",
         "rawType": "int64",
         "type": "integer"
        },
        {
         "name": "preprocess_text",
         "rawType": "object",
         "type": "string"
        }
       ],
       "conversionMethod": "pd.DataFrame",
       "ref": "e8ac356f-531d-45ea-9c29-b93515b7bbc6",
       "rows": [
        [
         "0",
         "0",
         "reviewer mention watch 1 oz episode hook right exactly happen me.<br /><br />the thing strike oz brutality unflinche scene violence set right word trust faint hearted timid pull punch regard drug sex violence hardcore classic use word.<br /><br />it call oz nickname give oswald maximum security state penitentary focus mainly emerald city experimental section prison cell glass front face inward privacy high agenda em city home .. aryans muslims gangsta latinos christians italians irish .... scuffle death stare dodgy dealing shady agreement far away.<br /><br />i main appeal fact go show dare forget pretty picture paint mainstream audience forget charm forget romance ... oz mess episode see strike nasty surreal ready watch develop taste oz get accustom high level graphic violence violence injustice crooked guard sell nickel inmate kill order away mannered middle class inmate turn prison bitch lack street skill prison experience watch oz comfortable uncomfortable view .... that touch dark",
         "2",
         "reviewer mention watch 1 oz episode hook right exactly happen me.<br /><br />the thing strike oz brutality unflinche scene violence set right word trust faint hearted timid pull punch regard drug sex violence hardcore classic use word.<br /><br />it call oz nickname give oswald maximum security state penitentary focus mainly emerald city experimental section prison cell glass front face inward privacy high agenda em city home .. aryans muslims gangsta latinos christians italians irish .... scuffle death stare dodgy dealing shady agreement far away.<br /><br />i main appeal fact go show dare forget pretty picture paint mainstream audience forget charm forget romance ... oz mess episode see strike nasty surreal ready watch develop taste oz get accustom high level graphic violence violence injustice crooked guard sell nickel inmate kill order away mannered middle class inmate turn prison bitch lack street skill prison experience watch oz comfortable uncomfortable view .... that touch dark"
        ],
        [
         "1",
         "1",
         "wonderful little production br /><br />the filming technique unassuming- old time bbc fashion give comforting discomforte sense realism entire piece br /><br />the actor extremely chosen- michael sheen get polari voice pat truly seamless editing guide reference williams diary entry worth watching terrificly write perform piece masterful production great master comedy life br /><br />the realism come home little thing fantasy guard use traditional dream technique remain solid disappear play knowledge sense particularly scene concern orton halliwell set particularly flat halliwell mural decorate surface terribly",
         "2",
         "wonderful little production br /><br />the filming technique unassuming- old time bbc fashion give comforting discomforte sense realism entire piece br /><br />the actor extremely chosen- michael sheen get polari voice pat truly seamless editing guide reference williams diary entry worth watching terrificly write perform piece masterful production great master comedy life br /><br />the realism come home little thing fantasy guard use traditional dream technique remain solid disappear play knowledge sense particularly scene concern orton halliwell set particularly flat halliwell mural decorate surface terribly"
        ],
        [
         "2",
         "2",
         "think wonderful way spend time hot summer weekend sit air condition theater watch light hearted comedy plot simplistic dialogue witty character likable bread suspect serial killer disappoint realize match point 2 risk addiction think proof woody allen fully control style grow love.<br /><br />this laugh woody comedy year dare decade impress scarlet johanson manage tone sexy image jump right average spirited young woman.<br /><br />this crown jewel career witty devil wears prada interesting superman great comedy friend",
         "2",
         "think wonderful way spend time hot summer weekend sit air condition theater watch light hearted comedy plot simplistic dialogue witty character likable bread suspect serial killer disappoint realize match point 2 risk addiction think proof woody allen fully control style grow love.<br /><br />this laugh woody comedy year dare decade impress scarlet johanson manage tone sexy image jump right average spirited young woman.<br /><br />this crown jewel career witty devil wears prada interesting superman great comedy friend"
        ],
        [
         "3",
         "3",
         "basically family little boy jake think zombie closet parent fight time.<br /><br />this movie slow soap opera ... suddenly jake decide rambo kill zombie.<br /><br />ok go film decide thriller drama drama movie watchable parent divorce argue like real life jake closet totally ruin film expect boogeyman similar movie instead watch drama meaningless thriller spots.<br /><br />3 10 play parent descent dialog shot jake ignore",
         "0",
         "basically family little boy jake think zombie closet parent fight time.<br /><br />this movie slow soap opera ... suddenly jake decide rambo kill zombie.<br /><br />ok go film decide thriller drama drama movie watchable parent divorce argue like real life jake closet totally ruin film expect boogeyman similar movie instead watch drama meaningless thriller spots.<br /><br />3 10 play parent descent dialog shot jake ignore"
        ],
        [
         "4",
         "4",
         "petter mattei love time money visually stunning film watch mr. mattei offer vivid portrait human relation movie tell money power success people different situation encounter br /><br />this variation arthur schnitzler play theme director transfer action present time new york different character meet connect connect way person know previous point contact stylishly film sophisticated luxurious look take people live world live habitat.<br /><br />the thing get soul picture different stage loneliness inhabit big city exactly good place human relation find sincere fulfillment discern case people encounter.<br /><br />the act good mr. mattei direction steve buscemi rosario dawson carol kane michael imperioli adrian grenier rest talented cast character come alive.<br /><br />we wish mr. mattei good luck await anxiously work",
         "2",
         "petter mattei love time money visually stunning film watch mr. mattei offer vivid portrait human relation movie tell money power success people different situation encounter br /><br />this variation arthur schnitzler play theme director transfer action present time new york different character meet connect connect way person know previous point contact stylishly film sophisticated luxurious look take people live world live habitat.<br /><br />the thing get soul picture different stage loneliness inhabit big city exactly good place human relation find sincere fulfillment discern case people encounter.<br /><br />the act good mr. mattei direction steve buscemi rosario dawson carol kane michael imperioli adrian grenier rest talented cast character come alive.<br /><br />we wish mr. mattei good luck await anxiously work"
        ],
        [
         "5",
         "5",
         "probably time favorite movie story selflessness sacrifice dedication noble cause preachy boring get old despite have see 15 time 25 year paul lukas performance bring tear eye bette davis truly sympathetic role delight kid grandma say like dress midget child make fun watch mother slow awakening happen world roof believable startling dozen thumb movie",
         "2",
         "probably time favorite movie story selflessness sacrifice dedication noble cause preachy boring get old despite have see 15 time 25 year paul lukas performance bring tear eye bette davis truly sympathetic role delight kid grandma say like dress midget child make fun watch mother slow awakening happen world roof believable startling dozen thumb movie"
        ],
        [
         "6",
         "6",
         "sure like resurrection date seahunt series tech today bring kid excitement grow black white tv seahunt gunsmoke hero week vote comeback new sea hunt need change pace tv work world water adventure oh way thank outlet like view viewpoint tv movie ole way believe get wanna nice read plus point sea hunt rhyme 10 line let submit leave doubt quit let",
         "2",
         "sure like resurrection date seahunt series tech today bring kid excitement grow black white tv seahunt gunsmoke hero week vote comeback new sea hunt need change pace tv work world water adventure oh way thank outlet like view viewpoint tv movie ole way believe get wanna nice read plus point sea hunt rhyme 10 line let submit leave doubt quit let"
        ],
        [
         "7",
         "7",
         "amazing fresh innovative idea 70 air 7 8 year brilliant thing drop 1990 funny anymore continue decline complete waste time today.<br /><br />it truly disgraceful far fall writing painfully bad performance bad mildly entertaining respite guest host probably air find hard believe creator hand select original cast choose band hack follow recognize brilliance fit replace mediocrity feel 2 star respect original cast huge success awful believe air",
         "0",
         "amazing fresh innovative idea 70 air 7 8 year brilliant thing drop 1990 funny anymore continue decline complete waste time today.<br /><br />it truly disgraceful far fall writing painfully bad performance bad mildly entertaining respite guest host probably air find hard believe creator hand select original cast choose band hack follow recognize brilliance fit replace mediocrity feel 2 star respect original cast huge success awful believe air"
        ],
        [
         "8",
         "8",
         "encourage positive comment film look forward watch film bad mistake see 950 film truly bad awful way editing pacing storyline act soundtrack film song lame country tune play time film look cheap nasty boring extreme rarely happy end credit film br /><br />the thing prevent give 1 score harvey keitel far good performance make bit effort keitel obsessive",
         "0",
         "encourage positive comment film look forward watch film bad mistake see 950 film truly bad awful way editing pacing storyline act soundtrack film song lame country tune play time film look cheap nasty boring extreme rarely happy end credit film br /><br />the thing prevent give 1 score harvey keitel far good performance make bit effort keitel obsessive"
        ],
        [
         "9",
         "9",
         "like original gut wrench laughter like movie young old love movie hell mom like it.<br /><br />great camp",
         "2",
         "like original gut wrench laughter like movie young old love movie hell mom like it.<br /><br />great camp"
        ],
        [
         "10",
         "10",
         "phil alien quirky film humour base oddness actual punchlines.<br /><br />at odd pretty funny movie progress find joke oddness funny anymore.<br /><br />its low budget film s problem pretty interesting character eventually lose interest.<br /><br />i imagine film appeal stoner currently partaking.<br /><br />for similar well try brother planet",
         "0",
         "phil alien quirky film humour base oddness actual punchlines.<br /><br />at odd pretty funny movie progress find joke oddness funny anymore.<br /><br />its low budget film s problem pretty interesting character eventually lose interest.<br /><br />i imagine film appeal stoner currently partaking.<br /><br />for similar well try brother planet"
        ],
        [
         "11",
         "11",
         "see movie 12 come recall scary scene big bird eat man dangle helplessly parachute right air horror horror.<br /><br />as young kid go cheesy b film saturday afternoon tired formula monster type movie usually include hero beautiful woman daughter professor happy resolution monster die end care romantic angle 12 year old predictable plot love unintentional humor.<br /><br />but year later see psycho come love star janet leigh bump early film sit take notice point screenwriter make story scary possible wear formula rule",
         "0",
         "see movie 12 come recall scary scene big bird eat man dangle helplessly parachute right air horror horror.<br /><br />as young kid go cheesy b film saturday afternoon tired formula monster type movie usually include hero beautiful woman daughter professor happy resolution monster die end care romantic angle 12 year old predictable plot love unintentional humor.<br /><br />but year later see psycho come love star janet leigh bump early film sit take notice point screenwriter make story scary possible wear formula rule"
        ],
        [
         "12",
         "12",
         "m big fan boll work enjoy movie postal maybe m boll apparently buy right use far cry long ago game finsishe br /><br />people enjoy kill merc infiltrate secret research lab locate tropical island warn far cry ... mr boll scheme legion schmuck .. feel loneley set mr boll invite countryman play player name til schweiger udo kier ralf moeller.<br /><br />three name actually selfs pretty big movie biz tale go like jack carver play til schweiger yes carver german hail bratwurst eat dude find til act movie pretty badass .. people complain stay true carver agenda see carver person perspective know look like kick .. br /><br />however storyline film demented evil mad scientist dr. krieger play udo kier make genetically mutate soldier gms call perform secret research island remind spoiler vancouver reason s right palm tree instead get nice rich lumberjack wood go far start cry mehehe .. wanna stay true bolls shenanigan movie disappoint deliver true boll experience mean suck.<br /><br />there thing worth mention imply boll good work area film nice boat fight scene crome albino gms squad enter scene make laugh .. movie far cry reek scheisse poop simpleton fa r wanna wiff ahead .. btw carver get annoying sidekick make wanna shoot minute screen",
         "0",
         "m big fan boll work enjoy movie postal maybe m boll apparently buy right use far cry long ago game finsishe br /><br />people enjoy kill merc infiltrate secret research lab locate tropical island warn far cry ... mr boll scheme legion schmuck .. feel loneley set mr boll invite countryman play player name til schweiger udo kier ralf moeller.<br /><br />three name actually selfs pretty big movie biz tale go like jack carver play til schweiger yes carver german hail bratwurst eat dude find til act movie pretty badass .. people complain stay true carver agenda see carver person perspective know look like kick .. br /><br />however storyline film demented evil mad scientist dr. krieger play udo kier make genetically mutate soldier gms call perform secret research island remind spoiler vancouver reason s right palm tree instead get nice rich lumberjack wood go far start cry mehehe .. wanna stay true bolls shenanigan movie disappoint deliver true boll experience mean suck.<br /><br />there thing worth mention imply boll good work area film nice boat fight scene crome albino gms squad enter scene make laugh .. movie far cry reek scheisse poop simpleton fa r wanna wiff ahead .. btw carver get annoying sidekick make wanna shoot minute screen"
        ],
        [
         "13",
         "13",
         "cast play shakespeare.<br /><br />shakespeare lost.<br /><br />i appreciate try bring shakespeare masse ruin good.<br /><br />is scottish play favorite shakespeare know know certain rev bowdler bowdlerization try similar victorian era.<br /><br />in word improve perfection.<br /><br />i write write line text english composition forte go movie saying go cut",
         "0",
         "cast play shakespeare.<br /><br />shakespeare lost.<br /><br />i appreciate try bring shakespeare masse ruin good.<br /><br />is scottish play favorite shakespeare know know certain rev bowdler bowdlerization try similar victorian era.<br /><br />in word improve perfection.<br /><br />i write write line text english composition forte go movie saying go cut"
        ],
        [
         "14",
         "14",
         "fantastic movie prisoner famous actor george clooney fan roll bad good thing movie soundtrack man constant sorrow recommand movie everybody greeting bart",
         "2",
         "fantastic movie prisoner famous actor george clooney fan roll bad good thing movie soundtrack man constant sorrow recommand movie everybody greeting bart"
        ],
        [
         "15",
         "15",
         "kind draw erotic scene realize amateurish unbelievable bit film see sort like high school film project rosanna arquette thinking stock character bizarre suppose midwest town pretty hard involve lesson learn brilliant insight stilte ridiculous lot skin intrigue videotape nonsense .... bisexual relationship heterosexual encounter absurd dance everybody play stereotyped role pass like million mile bad waste film money spend starve child aids africa .....",
         "0",
         "kind draw erotic scene realize amateurish unbelievable bit film see sort like high school film project rosanna arquette thinking stock character bizarre suppose midwest town pretty hard involve lesson learn brilliant insight stilte ridiculous lot skin intrigue videotape nonsense .... bisexual relationship heterosexual encounter absurd dance everybody play stereotyped role pass like million mile bad waste film money spend starve child aids africa ....."
        ],
        [
         "16",
         "16",
         "film simply remade bad film fail capture flavor terror 1963 film title liam neeson excellent cast hold exception owen wilson bring right feel character luke major fault version stray far shirley jackson story attempt grandiose lose thrill early film trade snazzy special effect bad film enjoy friction terror old version",
         "2",
         "film simply remade bad film fail capture flavor terror 1963 film title liam neeson excellent cast hold exception owen wilson bring right feel character luke major fault version stray far shirley jackson story attempt grandiose lose thrill early film trade snazzy special effect bad film enjoy friction terror old version"
        ],
        [
         "17",
         "17",
         "movie 10 awful movie horrible br /><br />there continuous minute fight monster chance character development busy run sword fight emotional attachment big bad machine want destroy br /><br />scenes blatantly steal movie lotr star wars matrix br /><br />examples br /><br />>the ghost scene end steal final scene old star wars yoda obee vader br /><br />>the spider machine beginning exactly like frodo attack spider return king elijah wood victim film wait ...... hypnotize stings victim wrap ..... uh hello????<br /><br />>and machine vs. human theme matrix .. terminator ..... <br /><br />there example waste time tell nazi nazi br /><br />there juvenile story line rush juvenile conclusion movie decide child movie adult movie br /><br />just awful real disappointment save money",
         "0",
         "movie 10 awful movie horrible br /><br />there continuous minute fight monster chance character development busy run sword fight emotional attachment big bad machine want destroy br /><br />scenes blatantly steal movie lotr star wars matrix br /><br />examples br /><br />>the ghost scene end steal final scene old star wars yoda obee vader br /><br />>the spider machine beginning exactly like frodo attack spider return king elijah wood victim film wait ...... hypnotize stings victim wrap ..... uh hello????<br /><br />>and machine vs. human theme matrix .. terminator ..... <br /><br />there example waste time tell nazi nazi br /><br />there juvenile story line rush juvenile conclusion movie decide child movie adult movie br /><br />just awful real disappointment save money"
        ],
        [
         "18",
         "18",
         "remember film film watch cinema picture dark place nervous 74/75 dad take brother sister newbury cinema newbury berkshire england recall tiger lot snow film appearance grizzly adams actor dan haggery think tiger get shoot die know find dvd etc let know cinema turn fitness club big shame near cinema 20 mile away love hear see film like",
         "2",
         "remember film film watch cinema picture dark place nervous 74/75 dad take brother sister newbury cinema newbury berkshire england recall tiger lot snow film appearance grizzly adams actor dan haggery think tiger get shoot die know find dvd etc let know cinema turn fitness club big shame near cinema 20 mile away love hear see film like"
        ],
        [
         "19",
         "19",
         "awful film real stinker nominate golden globe take story famous female renaissance painter mangle recognition complaint take liberty fact story good perfectly fine simply bizarre -- account true story artist far well film come dishwater dull script suppose naked people factual version hurriedly cap end summary artist life -- save couple hour favor rest film brevity",
         "0",
         "awful film real stinker nominate golden globe take story famous female renaissance painter mangle recognition complaint take liberty fact story good perfectly fine simply bizarre -- account true story artist far well film come dishwater dull script suppose naked people factual version hurriedly cap end summary artist life -- save couple hour favor rest film brevity"
        ],
        [
         "20",
         "20",
         "success die hard sequel surprise 1990 glut die hard ..... movie cash wrong guy wrong place wrong time concept cliffhanger die hard mountain time rescue sly stop mom shoot stallone career.<br /><br />cliffhanger big nit picker dream especially expert mountain climbing base jumping aviation facial expression acting skill excuse dismiss film overblown pile junk stallone manage act horse forget nonsense actually lovable undeniably entertaining romp deliver plenty thrill unintentionally plenty laughs.<br /><br />you've get love john lithgows sneery evilness tick box band baddie good permanently harassed hapless turncoat agent rex linn travers.<br /><br />he henry portrait serial killer michael rooker noteworthy cringe worthy performance hal insist constantly shriek painful disbelief captor man hurt anybody whilst surely look like ralph waite frank character grin girl plummet death.<br /><br />mention london burning actor craig fairbrass brit bad guy come cropper whilst hal human football yes help enjoy bit hal need good kicking.<br /><br />so forget well judgement care happen lower act expectation turn volume enjoy look qaulen wear helicopter",
         "2",
         "success die hard sequel surprise 1990 glut die hard ..... movie cash wrong guy wrong place wrong time concept cliffhanger die hard mountain time rescue sly stop mom shoot stallone career.<br /><br />cliffhanger big nit picker dream especially expert mountain climbing base jumping aviation facial expression acting skill excuse dismiss film overblown pile junk stallone manage act horse forget nonsense actually lovable undeniably entertaining romp deliver plenty thrill unintentionally plenty laughs.<br /><br />you've get love john lithgows sneery evilness tick box band baddie good permanently harassed hapless turncoat agent rex linn travers.<br /><br />he henry portrait serial killer michael rooker noteworthy cringe worthy performance hal insist constantly shriek painful disbelief captor man hurt anybody whilst surely look like ralph waite frank character grin girl plummet death.<br /><br />mention london burning actor craig fairbrass brit bad guy come cropper whilst hal human football yes help enjoy bit hal need good kicking.<br /><br />so forget well judgement care happen lower act expectation turn volume enjoy look qaulen wear helicopter"
        ],
        [
         "21",
         "21",
         "terrible misfortune have view b movie entirety.<br /><br />all is--- save time money get bad b movie time call b movie like f movie fail aspect good movie story interesting actor paper thin believable bad direction action sequence fake funny ....... almost.<br /><br />the movie pack crappy liner respectable person find amusing little bit.<br /><br />this movie suppose gear man woman utterly unattractive especially old wrinkle thing come end try appear sexy weird horrible costume fail miserably!!!<br /><br />even ridiculous b movie laugh painful watch",
         "0",
         "terrible misfortune have view b movie entirety.<br /><br />all is--- save time money get bad b movie time call b movie like f movie fail aspect good movie story interesting actor paper thin believable bad direction action sequence fake funny ....... almost.<br /><br />the movie pack crappy liner respectable person find amusing little bit.<br /><br />this movie suppose gear man woman utterly unattractive especially old wrinkle thing come end try appear sexy weird horrible costume fail miserably!!!<br /><br />even ridiculous b movie laugh painful watch"
        ],
        [
         "22",
         "22",
         "absolutely stunning movie 2.5 hrs kill watch will regret fun rajnikanth carry movie shoulder like music a.r.rehman take time grow hear time start like",
         "2",
         "absolutely stunning movie 2.5 hrs kill watch will regret fun rajnikanth carry movie shoulder like music a.r.rehman take time grow hear time start like"
        ],
        [
         "23",
         "23",
         "let thing straight anime fan- matter fact watch speed racer time preschool b like b movies hilarious c like godzilla movies- lot.<br /><br />move movie come like go usual b movie crappy fx sudden- boom anime come movie go wwwaaaaayyyyy downhill.<br /><br />the animation bad cheap bad remember speed racer crissake fact cheap scene movie vividly remember bunch kid run school ... kid fx terrible dinosaur look bad godzilla addition transition live action animation unorganized dialogue voices(especially english dub view horrid beg dad tape dvd/ vhs player thing keep survive crack joke comment like robot joel mike mst3 k pick season honestly way barely enjoy movie survive time.<br /><br />heck plan fellow otaku pal halloween b movie night stupid pretty painful watch unintentionally hilarious time give movie 3/10 improvement 0.5/10 originally go it.<br /><br />(accorde grading scale 3/10 mean pretty boring bad fun count find way fun fun count 15",
         "0",
         "let thing straight anime fan- matter fact watch speed racer time preschool b like b movies hilarious c like godzilla movies- lot.<br /><br />move movie come like go usual b movie crappy fx sudden- boom anime come movie go wwwaaaaayyyyy downhill.<br /><br />the animation bad cheap bad remember speed racer crissake fact cheap scene movie vividly remember bunch kid run school ... kid fx terrible dinosaur look bad godzilla addition transition live action animation unorganized dialogue voices(especially english dub view horrid beg dad tape dvd/ vhs player thing keep survive crack joke comment like robot joel mike mst3 k pick season honestly way barely enjoy movie survive time.<br /><br />heck plan fellow otaku pal halloween b movie night stupid pretty painful watch unintentionally hilarious time give movie 3/10 improvement 0.5/10 originally go it.<br /><br />(accorde grading scale 3/10 mean pretty boring bad fun count find way fun fun count 15"
        ],
        [
         "24",
         "24",
         "bad movie see worldfest receive applause think receive recognition base know actor film great j.beal movie minute m.parker well actress allow rest acting hard judge movie ridiculous predictable main character totally unsympathetic bore watch real emotional depth story movie revolve actor work feel original development cop feel like straight video movie see 90 ... good standards.<br /><br",
         "0",
         "bad movie see worldfest receive applause think receive recognition base know actor film great j.beal movie minute m.parker well actress allow rest acting hard judge movie ridiculous predictable main character totally unsympathetic bore watch real emotional depth story movie revolve actor work feel original development cop feel like straight video movie see 90 ... good standards.<br /><br"
        ],
        [
         "25",
         "25",
         "karen carpenter story show little singer karen carpenter complex life fail give accurate fact details.<br /><br />cynthia gibb portray karen fine election good actress play naive sort dumb karen carpenter think role need strong character strong personality.<br /><br />louise fletcher role agnes carpenter terrific great job karen mother.<br /><br />it great song include soundtrack album unfortunately movie rating usa country",
         "2",
         "karen carpenter story show little singer karen carpenter complex life fail give accurate fact details.<br /><br />cynthia gibb portray karen fine election good actress play naive sort dumb karen carpenter think role need strong character strong personality.<br /><br />louise fletcher role agnes carpenter terrific great job karen mother.<br /><br />it great song include soundtrack album unfortunately movie rating usa country"
        ],
        [
         "26",
         "26",
         "cell exotic masterpiece dizzying trip vast mind serial killer talented director conclusive evidence achieve human being unleash uninhibited imagination boldness work push aside thought fall formula cliche create truly magnificent good movie year date.<br /><br />i've read numerous complaint film style substance poorly cast character bad acting negatively criticize film miss point movie landmark tradition future movie hopefully follow cell open door world imagination slam door face tell director tarsem singh want personally welcome movie tarsem love try challenge him.<br /><br />we've hear talk go inside mind serial killer yes agree genre bit overwork 90 movie try depict make serial killer tick work fail cell blaze trail give new twist physically transport mind present fascinating journey mysterious subject matter studied.<br /><br />i like movie bog scientific jargon try explain jennifer lopez actually get enter brain instead lie laboratory table wrap look like long twizzlers jaunt entity cell want let guess people like true like explanation movie movie venture new ground let desire simply in.<br /><br />i notice film dark show reality maybe contrast bright visual inside brain nonetheless set design simply astonishing surprised film take home oscars cinematography good costume good director like nominate good picture.<br /><br />i've notice kind repeat stress fantastic think cell walk movie open mind take wonder eye pop feast assure good time guess film little people write weird crazy psychology imagination human mind right alley leave theater hear audience member movie sure lot good drug want smoking.<br /><br 4",
         "2",
         "cell exotic masterpiece dizzying trip vast mind serial killer talented director conclusive evidence achieve human being unleash uninhibited imagination boldness work push aside thought fall formula cliche create truly magnificent good movie year date.<br /><br />i've read numerous complaint film style substance poorly cast character bad acting negatively criticize film miss point movie landmark tradition future movie hopefully follow cell open door world imagination slam door face tell director tarsem singh want personally welcome movie tarsem love try challenge him.<br /><br />we've hear talk go inside mind serial killer yes agree genre bit overwork 90 movie try depict make serial killer tick work fail cell blaze trail give new twist physically transport mind present fascinating journey mysterious subject matter studied.<br /><br />i like movie bog scientific jargon try explain jennifer lopez actually get enter brain instead lie laboratory table wrap look like long twizzlers jaunt entity cell want let guess people like true like explanation movie movie venture new ground let desire simply in.<br /><br />i notice film dark show reality maybe contrast bright visual inside brain nonetheless set design simply astonishing surprised film take home oscars cinematography good costume good director like nominate good picture.<br /><br />i've notice kind repeat stress fantastic think cell walk movie open mind take wonder eye pop feast assure good time guess film little people write weird crazy psychology imagination human mind right alley leave theater hear audience member movie sure lot good drug want smoking.<br /><br 4"
        ],
        [
         "27",
         "27",
         "film try thing sting political satire hollywood blockbuster sappy romantic comedy family value promo ... list go fail miserably interest turn end.<br /><br />although appreciate spirit war inc depress clumsy effort especially take target reflect lack existence critique simply poor writing direction production particular film.<br /><br />there critique corporatization war poke fun way diminish true atrocity happen remind bit king similarly trivialize genuine cause concern",
         "0",
         "film try thing sting political satire hollywood blockbuster sappy romantic comedy family value promo ... list go fail miserably interest turn end.<br /><br />although appreciate spirit war inc depress clumsy effort especially take target reflect lack existence critique simply poor writing direction production particular film.<br /><br />there critique corporatization war poke fun way diminish true atrocity happen remind bit king similarly trivialize genuine cause concern"
        ],
        [
         "28",
         "28",
         "movie frustrating energetic totally prepared good time think able stand wrong weird looping like watch america funniest home videos damn parent hate stereo typical latino family need speak person responsible need talk little girl hang hate mention final scene transcend gloriously bad badness movie crappy dancing horrible beautiful",
         "0",
         "movie frustrating energetic totally prepared good time think able stand wrong weird looping like watch america funniest home videos damn parent hate stereo typical latino family need speak person responsible need talk little girl hang hate mention final scene transcend gloriously bad badness movie crappy dancing horrible beautiful"
        ],
        [
         "29",
         "29",
         "war movie hollywood genre redone time clichéd dialogue rehash plot action sequence unavoidable conflict deal large scale combat war movie come go grain bring truly original compelling story life silver screen civil war era cold mountain star jude law nicole kidman renée zellweger film.<br /><br />then call cold mountain war movie entirely accurate true film open literally quick dirty battle sequence put glory director edward zwick shame cold mountain civil war period people time story center disgruntle confederate soldier inman play jude law disgusted gruesome war homesick beautiful hamlet cold mountain north carolina equally beautiful southern belle leave ada monroe play nicole kidman glance setup appear formulaic romantic interest home give audience sympathy root reluctant soldier tribulation battlefield early segment film relatively unimpressive somewhat contrived.<br /><br />\"cold mountain soon take drastic turn intrepid hero inman turn deserter incidentally save audience potentially confusing scenario want root confederates begin long odyssey homeward farm ada cultured way prove little use field soon transform wilderbeast come ada rescue course tough nail ruby thewes play renée zellweger help ada farm importantly cope loneliness isolation war bring ada.<br /><br />within setting vivid compelling time disturbing portrait war tear south unfold character inman ada interact surprisingly complex enhance wonderful performance brendan gleeson ruby deadbeat father ray winstone unrepentant southern lawman natalie portman deeply troubled isolated young mother greatly affect change war northern aggression bad dark pervade anti war message accent effective haunt score chillingly beautiful shot virginia north carolina communicate audience gruesome battle scene scarred land traumatize people war fight weapon tactic war change past century hellish effect land timelessly relevant.<br /><br />director anthony minghella manage maintain gloomy mood film atmosphere unfortunately denigrate tepid climax little justice wonderfully form character love story inman ada awkwardly tack beginning end film inherently distant abstracted absurd nature relationship way fit dismal nature rest plot.<br /><br />make mistake cold mountain trait feel good romance inspire war drama unique vision era sure entertain truly absorb audience life people tear apart war entirely desperate rid terrible repercussion altogether",
         "2",
         "war movie hollywood genre redone time clichéd dialogue rehash plot action sequence unavoidable conflict deal large scale combat war movie come go grain bring truly original compelling story life silver screen civil war era cold mountain star jude law nicole kidman renée zellweger film.<br /><br />then call cold mountain war movie entirely accurate true film open literally quick dirty battle sequence put glory director edward zwick shame cold mountain civil war period people time story center disgruntle confederate soldier inman play jude law disgusted gruesome war homesick beautiful hamlet cold mountain north carolina equally beautiful southern belle leave ada monroe play nicole kidman glance setup appear formulaic romantic interest home give audience sympathy root reluctant soldier tribulation battlefield early segment film relatively unimpressive somewhat contrived.<br /><br />\"cold mountain soon take drastic turn intrepid hero inman turn deserter incidentally save audience potentially confusing scenario want root confederates begin long odyssey homeward farm ada cultured way prove little use field soon transform wilderbeast come ada rescue course tough nail ruby thewes play renée zellweger help ada farm importantly cope loneliness isolation war bring ada.<br /><br />within setting vivid compelling time disturbing portrait war tear south unfold character inman ada interact surprisingly complex enhance wonderful performance brendan gleeson ruby deadbeat father ray winstone unrepentant southern lawman natalie portman deeply troubled isolated young mother greatly affect change war northern aggression bad dark pervade anti war message accent effective haunt score chillingly beautiful shot virginia north carolina communicate audience gruesome battle scene scarred land traumatize people war fight weapon tactic war change past century hellish effect land timelessly relevant.<br /><br />director anthony minghella manage maintain gloomy mood film atmosphere unfortunately denigrate tepid climax little justice wonderfully form character love story inman ada awkwardly tack beginning end film inherently distant abstracted absurd nature relationship way fit dismal nature rest plot.<br /><br />make mistake cold mountain trait feel good romance inspire war drama unique vision era sure entertain truly absorb audience life people tear apart war entirely desperate rid terrible repercussion altogether"
        ],
        [
         "30",
         "30",
         "taut organically grip edward dmytryk crossfire distinctive suspense thriller unlikely message movie look device noir cycle.<br /><br />bivouacke washington dc company soldier cope restlessness hang bar end stranger apartment robert ryan drunk belligerent beat host sam levene death happen jewish police detective robert young investigate help robert mitchum assign ryan outfit suspicion fall second george cooper vanish ryan slay buddy steve brodie insure silence young close in.<br /><br />abette superior script john paxton dmytryk draw precise performance star bobs ryan naturally prototypical angry white male hilt mitchum underplay characteristic alert nonchalance role central young well gloria grahame give fully fledge rendition smart mouthed vulnerable tramp sad sack leech life paul kelly haunt small peripheral role make memorable.<br /><br />the politically engage dmytryk inevitably succumb sermonize pretty confine young reminiscence irish grandfather die hand bigot century early incidentally stretch chronology limit attempt render explanation glib ryan hate jews hillbilly ... ).<br /><br />curiously crossfire survive major change work -- novel base richard brooks brick foxhole deal gay bash murder homosexuality 1947 pale news holocaust begin emerge ashe europe hollywood feel embolden register protest anti semitism studio quake prospect offend potential ticket buyer).<br /><br />but change homophobia anti semitism work general specific fit smoothly victim chat lonesome drunk young soldier invite home look odd especially girlfriend tow raise question scenario retain inadvertently leave discreet tip original engine generate ryan murderous rage",
         "2",
         "taut organically grip edward dmytryk crossfire distinctive suspense thriller unlikely message movie look device noir cycle.<br /><br />bivouacke washington dc company soldier cope restlessness hang bar end stranger apartment robert ryan drunk belligerent beat host sam levene death happen jewish police detective robert young investigate help robert mitchum assign ryan outfit suspicion fall second george cooper vanish ryan slay buddy steve brodie insure silence young close in.<br /><br />abette superior script john paxton dmytryk draw precise performance star bobs ryan naturally prototypical angry white male hilt mitchum underplay characteristic alert nonchalance role central young well gloria grahame give fully fledge rendition smart mouthed vulnerable tramp sad sack leech life paul kelly haunt small peripheral role make memorable.<br /><br />the politically engage dmytryk inevitably succumb sermonize pretty confine young reminiscence irish grandfather die hand bigot century early incidentally stretch chronology limit attempt render explanation glib ryan hate jews hillbilly ... ).<br /><br />curiously crossfire survive major change work -- novel base richard brooks brick foxhole deal gay bash murder homosexuality 1947 pale news holocaust begin emerge ashe europe hollywood feel embolden register protest anti semitism studio quake prospect offend potential ticket buyer).<br /><br />but change homophobia anti semitism work general specific fit smoothly victim chat lonesome drunk young soldier invite home look odd especially girlfriend tow raise question scenario retain inadvertently leave discreet tip original engine generate ryan murderous rage"
        ],
        [
         "31",
         "31",
         "ardh satya fine film indian cinema direct great director govind nihalani successful hard hitting parallel cinema turn commercial success today ardh satya inspiration lead director india.<br /><br />the film tell real life scenario mumbai police 70 unlike police city india mumbai police encompass different system altogether govind nihalani create practical outlay real life approach mumbai police environment.<br /><br />amongst police officer colleague film describe story anand velankar young hot blooded cop come poor family father harsh police constable anand suffer father ideology incidence father atrocity mother anand approach immediate action crime inert craving job satisfaction film revolve plot anand constant effort crime trample senior lead frustration achieve desire job satisfaction result frustration anger express excessive violence remand room bar turn alcoholic.<br /><br />the spirit alive constantly fight system aware system metro police politicians inertly associate far end compromise unethical practice negative finally get suspended.<br /><br />the direction master piece thoroughly hard core well memorable scene anand break underworld gangster rama shetty house arrest follow short conversation fantastic scene film hair raise moments.<br /><br />the practical approach script major punch alcoholism corruption political influence courage deception integral mumbai police today aspect deal brilliantly.<br /><br />finally film belong man om puri portray anand velankar traverse emotion absolutely brilliantly",
         "2",
         "ardh satya fine film indian cinema direct great director govind nihalani successful hard hitting parallel cinema turn commercial success today ardh satya inspiration lead director india.<br /><br />the film tell real life scenario mumbai police 70 unlike police city india mumbai police encompass different system altogether govind nihalani create practical outlay real life approach mumbai police environment.<br /><br />amongst police officer colleague film describe story anand velankar young hot blooded cop come poor family father harsh police constable anand suffer father ideology incidence father atrocity mother anand approach immediate action crime inert craving job satisfaction film revolve plot anand constant effort crime trample senior lead frustration achieve desire job satisfaction result frustration anger express excessive violence remand room bar turn alcoholic.<br /><br />the spirit alive constantly fight system aware system metro police politicians inertly associate far end compromise unethical practice negative finally get suspended.<br /><br />the direction master piece thoroughly hard core well memorable scene anand break underworld gangster rama shetty house arrest follow short conversation fantastic scene film hair raise moments.<br /><br />the practical approach script major punch alcoholism corruption political influence courage deception integral mumbai police today aspect deal brilliantly.<br /><br />finally film belong man om puri portray anand velankar traverse emotion absolutely brilliantly"
        ],
        [
         "32",
         "32",
         "exposure templarios good excited find title offering anchor bay video bring cult classic spider baby print quality excellent hide fact film deadly dull thrilling opening sequence villager exact terrible revenge templars set thing motion movie slow ponderous ultimately unfulfilling add insult injury movie dub subtitle promise video jacket",
         "0",
         "exposure templarios good excited find title offering anchor bay video bring cult classic spider baby print quality excellent hide fact film deadly dull thrilling opening sequence villager exact terrible revenge templars set thing motion movie slow ponderous ultimately unfulfilling add insult injury movie dub subtitle promise video jacket"
        ],
        [
         "33",
         "33",
         "significant quote entire film pronounce halfway protagonist mafia middle man titta di girolamo physically non descript middle aged man originally salerno southern italy introduce start film live non life elegant sterile hotel italian speak canton switzerland year conduct business gradually introduce pivotal apparently unremarkable scene take place employee swiss bank normally count di girolamo cash tell 10,000 dollar miss usual suitcase tightly stack banknote news quietly icily threaten coax bank manager want close account tell spectator bluff bluff right end fear catch appear ridiculous say bluff halfway tell truth have eventually bluff halfway tell truth have accept consequence life ultimately love exactly reason beginning titta di girolamo trouble br /><br />this initially unsympathetic character scowling taciturn curt man verge 50 man will reply kind chambermaid waitress hello goodbye point spectator care deeply point non life titta decide feel concern appear ridiculous half film describe slow reveal di girolamo day night hotel oddly disjoin deliberate pace reveal seemingly mundane irrelevant detail scene unnecessary reveal essential masterfully construct innovative film unfold eye existence titta di girolamo man imagination identity life unsympathetic character unexpectedly end love feel think convey elegantly edit sequence interesting use music theme scottish band boards canada especially stand br /><br />never contrast way hollywood italy treat mobster odd release film le conseguenze dell'amore l'imbalsamatore interesting element way film use protagonist insomnia unlike machinist far explicit way al pacino film insomnia le conseguenze dell'amore use condition symbolise deep emotional malaise ram deep obscurity unconscious impossible pin point cause br /><br />the young sympathetic hotel waitress sofia play olivia magnani grand daughter legendary anna memory titta good friend man see 20 year unexpectedly provide tiny window life titta eventually tentatively accept look explicitly spell spectator knows man like titta accept consequences love unimaginable consequence film single scene sex violence film unfold time concede spectator expectation le conseguenze dell'amore fine representative small quiet discreet renaissance take place italian cinema decline cinecittà second half 70 world wait italy produce il postino like fare la vita è bella style film ... neglect explore fine creation like le conseguenze dell'amore l'imbalsamatore loss world",
         "2",
         "significant quote entire film pronounce halfway protagonist mafia middle man titta di girolamo physically non descript middle aged man originally salerno southern italy introduce start film live non life elegant sterile hotel italian speak canton switzerland year conduct business gradually introduce pivotal apparently unremarkable scene take place employee swiss bank normally count di girolamo cash tell 10,000 dollar miss usual suitcase tightly stack banknote news quietly icily threaten coax bank manager want close account tell spectator bluff bluff right end fear catch appear ridiculous say bluff halfway tell truth have eventually bluff halfway tell truth have accept consequence life ultimately love exactly reason beginning titta di girolamo trouble br /><br />this initially unsympathetic character scowling taciturn curt man verge 50 man will reply kind chambermaid waitress hello goodbye point spectator care deeply point non life titta decide feel concern appear ridiculous half film describe slow reveal di girolamo day night hotel oddly disjoin deliberate pace reveal seemingly mundane irrelevant detail scene unnecessary reveal essential masterfully construct innovative film unfold eye existence titta di girolamo man imagination identity life unsympathetic character unexpectedly end love feel think convey elegantly edit sequence interesting use music theme scottish band boards canada especially stand br /><br />never contrast way hollywood italy treat mobster odd release film le conseguenze dell'amore l'imbalsamatore interesting element way film use protagonist insomnia unlike machinist far explicit way al pacino film insomnia le conseguenze dell'amore use condition symbolise deep emotional malaise ram deep obscurity unconscious impossible pin point cause br /><br />the young sympathetic hotel waitress sofia play olivia magnani grand daughter legendary anna memory titta good friend man see 20 year unexpectedly provide tiny window life titta eventually tentatively accept look explicitly spell spectator knows man like titta accept consequences love unimaginable consequence film single scene sex violence film unfold time concede spectator expectation le conseguenze dell'amore fine representative small quiet discreet renaissance take place italian cinema decline cinecittà second half 70 world wait italy produce il postino like fare la vita è bella style film ... neglect explore fine creation like le conseguenze dell'amore l'imbalsamatore loss world"
        ],
        [
         "34",
         "34",
         "watch film expect get pack 5 film pretty terrible way fiver expect know right terrible movie stretch interesting point occasional camcorder view nice touch drummer like drummer i.e damned annoying s actually problem boring assume attempt build tension lot happen utterly tedious thumb fast forward button ready press movie give seriously lead singer band great looking coz half mention beautiful hell lot think look bit like meercat mention killer go to worth explain far concerned star london reason watch exception london actually funny act talent certainly see lot bad see lot well well avoid bored watch paint dry",
         "0",
         "watch film expect get pack 5 film pretty terrible way fiver expect know right terrible movie stretch interesting point occasional camcorder view nice touch drummer like drummer i.e damned annoying s actually problem boring assume attempt build tension lot happen utterly tedious thumb fast forward button ready press movie give seriously lead singer band great looking coz half mention beautiful hell lot think look bit like meercat mention killer go to worth explain far concerned star london reason watch exception london actually funny act talent certainly see lot bad see lot well well avoid bored watch paint dry"
        ],
        [
         "35",
         "35",
         "buy film blockbuster 3.00 sound interesting bit ranma esque idea drag skeleton cute girl mini skirt restricted view sticker think go sweet sincere come age story weird indie edge 100 wrong.<br /><br />having watch wonder get restricted sticker hardly foul language little violence close thing nudity honestly usually hope girl nightgown pantie pantie lot movie matter wear miniskirt sort anti religious humor tame lame caricature insincere derivative unoriginal bad funny slight -- well listen ray stevens jesus wear rolex television barely qualify pg-13 rate blockbuster refuse let age 17 rent -- pornographic little kid rent edit version requiem dream insist zack reba worse.<br /><br />it way.<br /><br />in way worry -- thing leave offend people idea suicide beginning anybody need movie honestly portray suicide well one like virgin suicides teenager movie rate r purely suicide aspect little chance turn story write pg-13 movie main character half suicide lead cause death teenager think number 2 chance teen affect it.<br /><br />just movie 2/10",
         "0",
         "buy film blockbuster 3.00 sound interesting bit ranma esque idea drag skeleton cute girl mini skirt restricted view sticker think go sweet sincere come age story weird indie edge 100 wrong.<br /><br />having watch wonder get restricted sticker hardly foul language little violence close thing nudity honestly usually hope girl nightgown pantie pantie lot movie matter wear miniskirt sort anti religious humor tame lame caricature insincere derivative unoriginal bad funny slight -- well listen ray stevens jesus wear rolex television barely qualify pg-13 rate blockbuster refuse let age 17 rent -- pornographic little kid rent edit version requiem dream insist zack reba worse.<br /><br />it way.<br /><br />in way worry -- thing leave offend people idea suicide beginning anybody need movie honestly portray suicide well one like virgin suicides teenager movie rate r purely suicide aspect little chance turn story write pg-13 movie main character half suicide lead cause death teenager think number 2 chance teen affect it.<br /><br />just movie 2/10"
        ],
        [
         "36",
         "36",
         "plot death little child hopper investigate killing movie appear trouble daughter end serial killer catch find dunnit terrible act actor unbelievable bad actor include hopper like waste time watch movie warn",
         "0",
         "plot death little child hopper investigate killing movie appear trouble daughter end serial killer catch find dunnit terrible act actor unbelievable bad actor include hopper like waste time watch movie warn"
        ],
        [
         "37",
         "37",
         "watch movie lose plot begin with.<br /><br />where begin achingly tedious scene heroine sit house actually sense menace forebode create apparently constant thunderstorm strangely actually hear house great double glazing house apparently mile town hour walk away girl serve purpose plot provide surprisingly quick gory murder tedium unbearable beginning suggest spate 20 killing area apparent killer venture far house bizarre ritual salt pepper pretty sum film inherent lack direction.<br /><br />add lead actress act willing completely irrelevant nude shower scene video truly nasty way hope.<br /><br />given following simply ban uk 80 final surprisingly extended murder offer curiosity value- classic daft murder worry telegraph minute before).<br /><br />after walk wood victim come steep upward slope obviously struggle halfway figure dress black brandish large scythe slide run like rest course not- struggle stand conveniently nice upright murder weapon.<br /><br />it movie ..",
         "0",
         "watch movie lose plot begin with.<br /><br />where begin achingly tedious scene heroine sit house actually sense menace forebode create apparently constant thunderstorm strangely actually hear house great double glazing house apparently mile town hour walk away girl serve purpose plot provide surprisingly quick gory murder tedium unbearable beginning suggest spate 20 killing area apparent killer venture far house bizarre ritual salt pepper pretty sum film inherent lack direction.<br /><br />add lead actress act willing completely irrelevant nude shower scene video truly nasty way hope.<br /><br />given following simply ban uk 80 final surprisingly extended murder offer curiosity value- classic daft murder worry telegraph minute before).<br /><br />after walk wood victim come steep upward slope obviously struggle halfway figure dress black brandish large scythe slide run like rest course not- struggle stand conveniently nice upright murder weapon.<br /><br />it movie .."
        ],
        [
         "38",
         "38",
         "okay series kind take route week week david morse character help ride bit pickle wrong david morse great character actor certainly cool series create david koepp great writer heaven!!<br /><br />due lack love go season series know rubbish baffle let hope good past series",
         "2",
         "okay series kind take route week week david morse character help ride bit pickle wrong david morse great character actor certainly cool series create david koepp great writer heaven!!<br /><br />due lack love go season series know rubbish baffle let hope good past series"
        ],
        [
         "39",
         "39",
         "sit pile dung husband wonder actually product experiment computer program produce movie listless formulaic u.s. propaganda throw face film prove -- disappointingly -- work human conspiracy theorist quote like steal declaration independence protect like way justify action like invasion iraq etc fact nicholas cage spew line like use declaration independence bargaining chip straight face husband wonder entire cast take valium shoot scene reasoning plot turn new clue truly ridiculous impossible follow bonus plot misogyny dr. chide involve shut clearly movie look feel need slap dr. title character gravity point cage character say shut camera pan look poutily hand like child truly grotesque benefit movie astonishingly bad laugh scary thing majority people watch movie enjoy creepy ....",
         "0",
         "sit pile dung husband wonder actually product experiment computer program produce movie listless formulaic u.s. propaganda throw face film prove -- disappointingly -- work human conspiracy theorist quote like steal declaration independence protect like way justify action like invasion iraq etc fact nicholas cage spew line like use declaration independence bargaining chip straight face husband wonder entire cast take valium shoot scene reasoning plot turn new clue truly ridiculous impossible follow bonus plot misogyny dr. chide involve shut clearly movie look feel need slap dr. title character gravity point cage character say shut camera pan look poutily hand like child truly grotesque benefit movie astonishingly bad laugh scary thing majority people watch movie enjoy creepy ...."
        ],
        [
         "40",
         "40",
         "clichés movie type substance plot go end movie feel like sucker watch production good script acting b movie quality casting poor good actor mix crumby actor good actor hold lift br /><br />this movie worthy word meet minimum requirement line james wood cuba gooding jr. play caricature movie br /><br />if look mindless entertainment recommend movie",
         "0",
         "clichés movie type substance plot go end movie feel like sucker watch production good script acting b movie quality casting poor good actor mix crumby actor good actor hold lift br /><br />this movie worthy word meet minimum requirement line james wood cuba gooding jr. play caricature movie br /><br />if look mindless entertainment recommend movie"
        ],
        [
         "41",
         "41",
         "movie base book splendored thing han suyin tackle issue race relation asians whites topic come han personal experience eurasian grow china background beautiful hong kong setting give love story unique dare atmosphere time.<br /><br />other story stereotypical romance memorable song remember movie beautiful jennifer jones look give wonderful oscar nominate performance doctor mixed breed advent communism mainland china william holden look well play romantic lead journalist cover war tear region world acting notch chemistry lover provide genuine moment silver screen affection sure melt heart romantically inclined.<br /><br />the cinematography bring hong kong especially hilltop overlook harbor lover spend intimate moment ending real tear jerker consider sentimental romance passé enjoy classic hollywood love story shine example",
         "2",
         "movie base book splendored thing han suyin tackle issue race relation asians whites topic come han personal experience eurasian grow china background beautiful hong kong setting give love story unique dare atmosphere time.<br /><br />other story stereotypical romance memorable song remember movie beautiful jennifer jones look give wonderful oscar nominate performance doctor mixed breed advent communism mainland china william holden look well play romantic lead journalist cover war tear region world acting notch chemistry lover provide genuine moment silver screen affection sure melt heart romantically inclined.<br /><br />the cinematography bring hong kong especially hilltop overlook harbor lover spend intimate moment ending real tear jerker consider sentimental romance passé enjoy classic hollywood love story shine example"
        ],
        [
         "42",
         "42",
         "film see rage get bad direction logic continuity change plot script dialog cry pain come crappy gary busey know b movie sure w movie w waste).<br /><br />take example dozen fbi local law officer surround trailer house jeep wagoneer inside jeep ma confused cop second huge gun battle ensue ma kill straight cop blast away jeep gary company blast away cop fall like domino jeep gary drive circle hit single bullet pellet ma kill gary notice damn guy tough truly miracle shooter hold 300 bullet miracle",
         "0",
         "film see rage get bad direction logic continuity change plot script dialog cry pain come crappy gary busey know b movie sure w movie w waste).<br /><br />take example dozen fbi local law officer surround trailer house jeep wagoneer inside jeep ma confused cop second huge gun battle ensue ma kill straight cop blast away jeep gary company blast away cop fall like domino jeep gary drive circle hit single bullet pellet ma kill gary notice damn guy tough truly miracle shooter hold 300 bullet miracle"
        ],
        [
         "43",
         "43",
         "hear good thing states grace come open mind think god army okay think maybe dutcher improve mature filmmaker film begin shaky acting think maybe well unfortunately picture start introduce elder -- mormon missionary -- audience know grow care instead story degenerate highly improbable series unfortunate event highlight blatant disobedience missionary undeniably exist rarely level dutcher portray laughable.<br /><br />dutcher success movie successful alienation target audience unrealistically inaccurately portray life mormon missionary dutcher accomplish anger predominantly mormon audience film way reflect reality mission like dutcher show have serve mormon mission attest fact gang life california certainly contain explicit language occasional mild vulgarity.<br /><br />the conclusion assume suppose touch audience inspire believe forgiveness available unbelievable come entire mission gather elder send home -- mom girl stand right cheesy time dutcher try make movie identify",
         "0",
         "hear good thing states grace come open mind think god army okay think maybe dutcher improve mature filmmaker film begin shaky acting think maybe well unfortunately picture start introduce elder -- mormon missionary -- audience know grow care instead story degenerate highly improbable series unfortunate event highlight blatant disobedience missionary undeniably exist rarely level dutcher portray laughable.<br /><br />dutcher success movie successful alienation target audience unrealistically inaccurately portray life mormon missionary dutcher accomplish anger predominantly mormon audience film way reflect reality mission like dutcher show have serve mormon mission attest fact gang life california certainly contain explicit language occasional mild vulgarity.<br /><br />the conclusion assume suppose touch audience inspire believe forgiveness available unbelievable come entire mission gather elder send home -- mom girl stand right cheesy time dutcher try make movie identify"
        ],
        [
         "44",
         "44",
         "movie strike home 29 remember 80 father work factory figure work hard pride give american dream house kid car note degree unlike father quit ninth grade keen sense greed laziness anywhere.<br /><br />i like know movie dvd vhs tv see hour ago ic an't find love friend pseudo friend family relative think remind time americans work sake feel honor pride accomplish think feeling heavy downward spiral thing overseas ...",
         "2",
         "movie strike home 29 remember 80 father work factory figure work hard pride give american dream house kid car note degree unlike father quit ninth grade keen sense greed laziness anywhere.<br /><br />i like know movie dvd vhs tv see hour ago ic an't find love friend pseudo friend family relative think remind time americans work sake feel honor pride accomplish think feeling heavy downward spiral thing overseas ..."
        ],
        [
         "45",
         "45",
         "disclaimer see movie 5 6 time 15 year see musical week allow judge movie taint musical taint watch musical :) br /><br />i actually believe michael douglas work role kasey think let dance scene good part movie worthwhile addition compare musical dancer singing movie superior musical cast 10 time big easy movie course decor lighting dancing singing superior movie expect deliver br /><br />the song common musical well movie new one good one movie deliver musical opinion especially compare musical decor bad point movie obvious cut actor talk dub singer singing portion character dancing impeccable end product enjoyable musical",
         "2",
         "disclaimer see movie 5 6 time 15 year see musical week allow judge movie taint musical taint watch musical :) br /><br />i actually believe michael douglas work role kasey think let dance scene good part movie worthwhile addition compare musical dancer singing movie superior musical cast 10 time big easy movie course decor lighting dancing singing superior movie expect deliver br /><br />the song common musical well movie new one good one movie deliver musical opinion especially compare musical decor bad point movie obvious cut actor talk dub singer singing portion character dancing impeccable end product enjoyable musical"
        ],
        [
         "46",
         "46",
         "protocol implausible movie save grace star goldie hawn good cast support actor story revolve ditzy cocktail waitress famous inadvertently save life arab dignitary story go downhill halfway movie goldie charm save movie goldie hawn fan way film",
         "0",
         "protocol implausible movie save grace star goldie hawn good cast support actor story revolve ditzy cocktail waitress famous inadvertently save life arab dignitary story go downhill halfway movie goldie charm save movie goldie hawn fan way film"
        ],
        [
         "47",
         "47",
         "film classify drama idea john voight mary steenburgen try erase cv historically accurate xena hercules abraham moses get meld noah lot abraham nephew lot turn thousand year bear canaanite wander earth ... scriptwriter think ignorance remember noah animal lot canaanites stuff sunday school try offend maximum number people planet possible- christians jews muslims historian archaeologist geologist psychologist linguist ... matter fact offend modicum taste wince",
         "0",
         "film classify drama idea john voight mary steenburgen try erase cv historically accurate xena hercules abraham moses get meld noah lot abraham nephew lot turn thousand year bear canaanite wander earth ... scriptwriter think ignorance remember noah animal lot canaanites stuff sunday school try offend maximum number people planet possible- christians jews muslims historian archaeologist geologist psychologist linguist ... matter fact offend modicum taste wince"
        ],
        [
         "48",
         "48",
         "preston sturgis power glory unseen public nearly thirty year late 1990 resurface show television meantime gain notoriety pauline kael citizen kane book suggest herman mankiewicz orson welles screenplay kane base sturgis screenplay mention beginning thread film imdb web site kael overstate case.<br /><br />there narrator turn deal life charles foster kane newsreel represent ralston henry luce clone thatcher memoir bernstein jed leland susan alexander kane raymond butler different slant kane reflect faith disappointment hatred man course reveal failing tell version kane story method lead frequent overlapping telling incident.<br /><br />this situation power glory yes like kane legendary business leader tom garner spencer tracy man rise head successful railroad system country narrator garner right hand man henry ralph morgan wife sarah padden restrict nearly dimensional view time kane garner henry narrate talk boss friend respect love wife like voice skeptical public see flaw henry.<br /><br />typical example work way tom anti labor later year union troublemaker care slow shenanigan henry describe tom confrontation union major walk preoccupy detriment home life henry wife remind tom scab violence end strike apparently blow union headquarters kill people view man pure white pure black.<br /><br />i'm knock power glory duplicate kane success film include orson welles film aware story present hold interest end thank performance tracy colleen moore wife sally tragedy worldly success pair fully bring home.<br /><br />when marry tom want wife family benefit america great business success come cost tom get deeply involve run railroad empire expand improve constantly take away home lose touch sally notice eve helen vinson young woman mistress sally learn unfaithful behavior destroy her.<br /><br />similarly tom get shock make martyr eye henry eve marry tom present son turn eve son tom son tom jr. philip trent discovery incestuous cuckolding cause tom shoot himself.<br /><br />the film total success action jump time unconvincingly business real note scene tom tell board directors plan purchase small rival train line discuss use debenture finance plan sturgis come wealthy background bring type detail rate film citizen kane interest movie lover attempt business realism social commentary depression america",
         "2",
         "preston sturgis power glory unseen public nearly thirty year late 1990 resurface show television meantime gain notoriety pauline kael citizen kane book suggest herman mankiewicz orson welles screenplay kane base sturgis screenplay mention beginning thread film imdb web site kael overstate case.<br /><br />there narrator turn deal life charles foster kane newsreel represent ralston henry luce clone thatcher memoir bernstein jed leland susan alexander kane raymond butler different slant kane reflect faith disappointment hatred man course reveal failing tell version kane story method lead frequent overlapping telling incident.<br /><br />this situation power glory yes like kane legendary business leader tom garner spencer tracy man rise head successful railroad system country narrator garner right hand man henry ralph morgan wife sarah padden restrict nearly dimensional view time kane garner henry narrate talk boss friend respect love wife like voice skeptical public see flaw henry.<br /><br />typical example work way tom anti labor later year union troublemaker care slow shenanigan henry describe tom confrontation union major walk preoccupy detriment home life henry wife remind tom scab violence end strike apparently blow union headquarters kill people view man pure white pure black.<br /><br />i'm knock power glory duplicate kane success film include orson welles film aware story present hold interest end thank performance tracy colleen moore wife sally tragedy worldly success pair fully bring home.<br /><br />when marry tom want wife family benefit america great business success come cost tom get deeply involve run railroad empire expand improve constantly take away home lose touch sally notice eve helen vinson young woman mistress sally learn unfaithful behavior destroy her.<br /><br />similarly tom get shock make martyr eye henry eve marry tom present son turn eve son tom son tom jr. philip trent discovery incestuous cuckolding cause tom shoot himself.<br /><br />the film total success action jump time unconvincingly business real note scene tom tell board directors plan purchase small rival train line discuss use debenture finance plan sturgis come wealthy background bring type detail rate film citizen kane interest movie lover attempt business realism social commentary depression america"
        ],
        [
         "49",
         "49",
         "average surprisingly tame fulci giallo mean bad normal standard redeem solid build nice touch neat time twist issue vision clairvoyance.<br /><br />the genre know weakness gear banal dialogue wooden acting illogical plot point finale go long denouement prove lame shall limp affair.<br /><br />fulci ironic handling giallo norm amusing yellow clue look.<br /><br />3 10 limping killer",
         "0",
         "average surprisingly tame fulci giallo mean bad normal standard redeem solid build nice touch neat time twist issue vision clairvoyance.<br /><br />the genre know weakness gear banal dialogue wooden acting illogical plot point finale go long denouement prove lame shall limp affair.<br /><br />fulci ironic handling giallo norm amusing yellow clue look.<br /><br />3 10 limping killer"
        ]
       ],
       "shape": {
        "columns": 4,
        "rows": 678511
       }
      },
      "text/html": [
       "<div>\n",
       "<style scoped>\n",
       "    .dataframe tbody tr th:only-of-type {\n",
       "        vertical-align: middle;\n",
       "    }\n",
       "\n",
       "    .dataframe tbody tr th {\n",
       "        vertical-align: top;\n",
       "    }\n",
       "\n",
       "    .dataframe thead th {\n",
       "        text-align: right;\n",
       "    }\n",
       "</style>\n",
       "<table border=\"1\" class=\"dataframe\">\n",
       "  <thead>\n",
       "    <tr style=\"text-align: right;\">\n",
       "      <th></th>\n",
       "      <th>Unnamed: 0</th>\n",
       "      <th>text</th>\n",
       "      <th>label</th>\n",
       "      <th>preprocess_text</th>\n",
       "    </tr>\n",
       "  </thead>\n",
       "  <tbody>\n",
       "    <tr>\n",
       "      <th>0</th>\n",
       "      <td>0</td>\n",
       "      <td>reviewer mention watch 1 oz episode hook right...</td>\n",
       "      <td>2</td>\n",
       "      <td>reviewer mention watch 1 oz episode hook right...</td>\n",
       "    </tr>\n",
       "    <tr>\n",
       "      <th>1</th>\n",
       "      <td>1</td>\n",
       "      <td>wonderful little production br /&gt;&lt;br /&gt;the fil...</td>\n",
       "      <td>2</td>\n",
       "      <td>wonderful little production br /&gt;&lt;br /&gt;the fil...</td>\n",
       "    </tr>\n",
       "    <tr>\n",
       "      <th>2</th>\n",
       "      <td>2</td>\n",
       "      <td>think wonderful way spend time hot summer week...</td>\n",
       "      <td>2</td>\n",
       "      <td>think wonderful way spend time hot summer week...</td>\n",
       "    </tr>\n",
       "    <tr>\n",
       "      <th>3</th>\n",
       "      <td>3</td>\n",
       "      <td>basically family little boy jake think zombie ...</td>\n",
       "      <td>0</td>\n",
       "      <td>basically family little boy jake think zombie ...</td>\n",
       "    </tr>\n",
       "    <tr>\n",
       "      <th>4</th>\n",
       "      <td>4</td>\n",
       "      <td>petter mattei love time money visually stunnin...</td>\n",
       "      <td>2</td>\n",
       "      <td>petter mattei love time money visually stunnin...</td>\n",
       "    </tr>\n",
       "    <tr>\n",
       "      <th>...</th>\n",
       "      <td>...</td>\n",
       "      <td>...</td>\n",
       "      <td>...</td>\n",
       "      <td>...</td>\n",
       "    </tr>\n",
       "    <tr>\n",
       "      <th>678506</th>\n",
       "      <td>679009</td>\n",
       "      <td>ryan good yelp claim courteous knowledgable he...</td>\n",
       "      <td>2</td>\n",
       "      <td>ryan good yelp claim courteous knowledgable he...</td>\n",
       "    </tr>\n",
       "    <tr>\n",
       "      <th>678507</th>\n",
       "      <td>679010</td>\n",
       "      <td>professional \\nfriendly\\non time affordable!\\n...</td>\n",
       "      <td>2</td>\n",
       "      <td>professional \\nfriendly\\non time affordable!\\n...</td>\n",
       "    </tr>\n",
       "    <tr>\n",
       "      <th>678508</th>\n",
       "      <td>679011</td>\n",
       "      <td>phone call voicemail message return   stupid w...</td>\n",
       "      <td>1</td>\n",
       "      <td>phone call voicemail message return   stupid w...</td>\n",
       "    </tr>\n",
       "    <tr>\n",
       "      <th>678509</th>\n",
       "      <td>679012</td>\n",
       "      <td>look like good review go head place   jason ry...</td>\n",
       "      <td>1</td>\n",
       "      <td>look like good review go head place   jason ry...</td>\n",
       "    </tr>\n",
       "    <tr>\n",
       "      <th>678510</th>\n",
       "      <td>679013</td>\n",
       "      <td>ryan rocks call morning sprinkler help potenti...</td>\n",
       "      <td>2</td>\n",
       "      <td>ryan rocks call morning sprinkler help potenti...</td>\n",
       "    </tr>\n",
       "  </tbody>\n",
       "</table>\n",
       "<p>678511 rows × 4 columns</p>\n",
       "</div>"
      ],
      "text/plain": [
       "        Unnamed: 0                                               text  label  \\\n",
       "0                0  reviewer mention watch 1 oz episode hook right...      2   \n",
       "1                1  wonderful little production br /><br />the fil...      2   \n",
       "2                2  think wonderful way spend time hot summer week...      2   \n",
       "3                3  basically family little boy jake think zombie ...      0   \n",
       "4                4  petter mattei love time money visually stunnin...      2   \n",
       "...            ...                                                ...    ...   \n",
       "678506      679009  ryan good yelp claim courteous knowledgable he...      2   \n",
       "678507      679010  professional \\nfriendly\\non time affordable!\\n...      2   \n",
       "678508      679011  phone call voicemail message return   stupid w...      1   \n",
       "678509      679012  look like good review go head place   jason ry...      1   \n",
       "678510      679013  ryan rocks call morning sprinkler help potenti...      2   \n",
       "\n",
       "                                          preprocess_text  \n",
       "0       reviewer mention watch 1 oz episode hook right...  \n",
       "1       wonderful little production br /><br />the fil...  \n",
       "2       think wonderful way spend time hot summer week...  \n",
       "3       basically family little boy jake think zombie ...  \n",
       "4       petter mattei love time money visually stunnin...  \n",
       "...                                                   ...  \n",
       "678506  ryan good yelp claim courteous knowledgable he...  \n",
       "678507  professional \\nfriendly\\non time affordable!\\n...  \n",
       "678508  phone call voicemail message return   stupid w...  \n",
       "678509  look like good review go head place   jason ry...  \n",
       "678510  ryan rocks call morning sprinkler help potenti...  \n",
       "\n",
       "[678511 rows x 4 columns]"
      ]
     },
     "execution_count": 77,
     "metadata": {},
     "output_type": "execute_result"
    }
   ],
   "source": [
    "# Evaluate fine-tuned model on all samples, including non low confidence ones\n",
    "df_test = pd.read_csv(\"./data/SA_cleaned.csv\")\n",
    "df_test[\"text\"] = df_test[\"preprocess_text\"].astype(str)\n",
    "df_test[\"label\"] = df_test[\"label\"].astype(int)\n",
    "df_test"
   ]
  },
  {
   "cell_type": "code",
   "execution_count": null,
   "id": "9ba05b5e",
   "metadata": {},
   "outputs": [],
   "source": [
    "test_dataset = Dataset.from_pandas(df_test[[\"text\", \"label\"]])\n",
    "tokenized_test_dataset = test_dataset.map(tokenize_function, batched=True)\n",
    "\n",
    "trainer = Trainer(\n",
    "    model=model,\n",
    "    args=training_args,\n",
    "    train_dataset=tokenized_train_dataset,\n",
    "    eval_dataset=tokenized_test_dataset,\n",
    "    compute_metrics=compute_metrics,\n",
    "    callbacks=[logger_callback],\n",
    ")\n",
    "\n",
    "results_all = trainer.evaluate()\n",
    "print(results_all)"
   ]
  }
 ],
 "metadata": {
  "kernelspec": {
   "display_name": "Skynet",
   "language": "python",
   "name": "poetry_env_skynet"
  },
  "language_info": {
   "codemirror_mode": {
    "name": "ipython",
    "version": 3
   },
   "file_extension": ".py",
   "mimetype": "text/x-python",
   "name": "python",
   "nbconvert_exporter": "python",
   "pygments_lexer": "ipython3",
   "version": "3.12.0"
  }
 },
 "nbformat": 4,
 "nbformat_minor": 5
}
