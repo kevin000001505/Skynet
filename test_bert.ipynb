{
 "cells": [
  {
   "cell_type": "code",
   "execution_count": 111,
   "id": "8648d378",
   "metadata": {},
   "outputs": [],
   "source": [
    "import pandas as pd\n",
    "from transformers import AutoTokenizer, AutoModelForSequenceClassification, Trainer, TrainingArguments\n",
    "from datasets import Dataset\n",
    "from sklearn.metrics import accuracy_score\n",
    "from sklearn.model_selection import train_test_split\n",
    "from peft import get_peft_model, LoraConfig, TaskType"
   ]
  },
  {
   "cell_type": "code",
   "execution_count": 112,
   "id": "ee5848c7",
   "metadata": {},
   "outputs": [
    {
     "data": {
      "application/vnd.microsoft.datawrangler.viewer.v0+json": {
       "columns": [
        {
         "name": "index",
         "rawType": "int64",
         "type": "integer"
        },
        {
         "name": "Unnamed: 0",
         "rawType": "int64",
         "type": "integer"
        },
        {
         "name": "text",
         "rawType": "object",
         "type": "string"
        },
        {
         "name": "label",
         "rawType": "int64",
         "type": "integer"
        },
        {
         "name": "preprocess_text",
         "rawType": "object",
         "type": "string"
        }
       ],
       "conversionMethod": "pd.DataFrame",
       "ref": "a3c929d5-bb20-465d-ad54-4213d14936c7",
       "rows": [
        [
         "0",
         "7",
         "This show was an amazing, fresh & innovative idea in the 70's when it first aired. The first 7 or 8 years were brilliant, but things dropped off after that. By 1990, the show was not really funny anymore, and it's continued its decline further to the complete waste of time it is today.<br /><br />It's truly disgraceful how far this show has fallen. The writing is painfully bad, the performances are almost as bad - if not for the mildly entertaining respite of the guest-hosts, this show probably wouldn't still be on the air. I find it so hard to believe that the same creator that hand-selected the original cast also chose the band of hacks that followed. How can one recognize such brilliance and then see fit to replace it with such mediocrity? I felt I must give 2 stars out of respect for the original cast that made this show such a huge success. As it is now, the show is just awful. I can't believe it's still on the air.",
         "0",
         "amazing fresh innovative idea 70 air 7 8 year brilliant thing drop 1990 funny anymore continue decline complete waste time today.<br /><br />it truly disgraceful far fall writing painfully bad performance bad mildly entertaining respite guest host probably air find hard believe creator hand select original cast choose band hack follow recognize brilliance fit replace mediocrity feel 2 star respect original cast huge success awful believe air"
        ],
        [
         "1",
         "14",
         "This a fantastic movie of three prisoners who become famous. One of the actors is george clooney and I'm not a fan but this roll is not bad. Another good thing about the movie is the soundtrack (The man of constant sorrow). I recommand this movie to everybody. Greetings Bart",
         "2",
         "fantastic movie prisoner famous actor george clooney fan roll bad good thing movie soundtrack man constant sorrow recommand movie everybody greeting bart"
        ],
        [
         "2",
         "32",
         "My first exposure to the Templarios & not a good one. I was excited to find this title among the offerings from Anchor Bay Video, which has brought us other cult classics such as \"Spider Baby\". The print quality is excellent, but this alone can't hide the fact that the film is deadly dull. There's a thrilling opening sequence in which the villagers exact a terrible revenge on the Templars (& set the whole thing in motion), but everything else in the movie is slow, ponderous &, ultimately, unfulfilling. Adding insult to injury: the movie was dubbed, not subtitled, as promised on the video jacket.",
         "0",
         "exposure templarios good excited find title offering anchor bay video bring cult classic spider baby print quality excellent hide fact film deadly dull thrilling opening sequence villager exact terrible revenge templars set thing motion movie slow ponderous ultimately unfulfilling add insult injury movie dub subtitle promise video jacket"
        ],
        [
         "3",
         "43",
         "I had heard good things about \"States of Grace\" and came in with an open mind. I thought that \"God's Army\" was okay, and I thought that maybe Dutcher had improved and matured as a filmmaker. The film began with some shaky acting, and I thought, \"well, maybe it will get better.\" Unfortunately, it never did. The picture starts out by introducing two elders -- Mormon missionaries -- and it seems that the audience will get to know them and grow to care about them. Instead, the story degenerates into a highly improbable series of unfortunate events highlighting blatant disobedience by the missionaries (something that undeniably exists, but rarely on the level that Dutcher portrays) and it becomes almost laughable.<br /><br />Dutcher's only success in this movie is his successful alienation of his target audience. By unrealistically and inaccurately portraying the lives of Mormon missionaries, Dutcher accomplishes nothing more than angering his predominantly Mormon audience. The film in no way reflects reality. Missions are nothing like what Dutcher shows (having served a Mormon mission myself I can attest to this fact) and gang life in California certainly contains much more explicit language than the occasional mild vulgarity.<br /><br />The conclusion, which I'm assuming was supposed to touch the audience and inspire them to believe that forgiveness is available to all, was both unbelievable (c'mon, the entire mission gathers to see this elder sent home -- and the mom and the girl are standing right next to each other!) and cheesy. Next time, Dutcher, try making a movie that SOMEONE can identify with.",
         "0",
         "hear good thing states grace come open mind think god army okay think maybe dutcher improve mature filmmaker film begin shaky acting think maybe well unfortunately picture start introduce elder -- mormon missionary -- audience know grow care instead story degenerate highly improbable series unfortunate event highlight blatant disobedience missionary undeniably exist rarely level dutcher portray laughable.<br /><br />dutcher success movie successful alienation target audience unrealistically inaccurately portray life mormon missionary dutcher accomplish anger predominantly mormon audience film way reflect reality mission like dutcher show have serve mormon mission attest fact gang life california certainly contain explicit language occasional mild vulgarity.<br /><br />the conclusion assume suppose touch audience inspire believe forgiveness available unbelievable come entire mission gather elder send home -- mom girl stand right cheesy time dutcher try make movie identify"
        ],
        [
         "4",
         "53",
         "I cannot believe I enjoyed this as much as I did. The anthology stories were better than par, but the linking story and its surprise ending hooked me. Alot of familiar faces will keep you asking yourself \"where I have I seen them before?\" Forget the running time listed on New Line's tape, this ain't no 103 minutes, according to my VCR timer and IMDB. Space Maggot douses the campfire in his own special way and hikes this an 8.",
         "2",
         "believe enjoy anthology story well par link story surprise end hook alot familiar face ask see forget running time list new line tape be 103 minute accord vcr timer imdb space maggot douse campfire special way hike 8"
        ],
        [
         "5",
         "54",
         "The 33 percent of the nations nitwits that still support W. Bush would do well to see this movie, which shows the aftermath of the French revolution and the terror of 1794 as strikingly similar to the post 9/11 socio-political landscape. Maybe then they could stop worrying about saving face and take the a**-whupping they deserve. It's really a shame that when a politician ruins the country, those who voted for him can't be denied the right to ever vote again. They've clearly shown they have no sense of character.<br /><br />What really stands out in this movie is the ambiguity of a character as hopelessly doctrinaire as Robespierre; a haunted empty man who simplistic reductive ideology can't help him elucidate the boundaries between safety and totalitarianism. Execution and murder. Self-defense and patriotism. His legalistic litmus tests aggravate the hopeless situation he's helped create. Sound like any belligerent, overprivileged, retarded Yale cheerleaders you know of? <br /><br />Wojciech Pszoniak blows the slovenly Deparidieu off the screen. As sympathetic as Robespierres plight is, it's comforting to know that shortly after the film ends he'll have his jaw shot off and be sent to the guillotine.",
         "0",
         "33 percent nation nitwit support w. bush movie show aftermath french revolution terror 1794 strikingly similar post 9/11 socio political landscape maybe stop worry save face a**-whupping deserve shame politician ruin country vote deny right vote clearly show sense character.<br /><br />what stand movie ambiguity character hopelessly doctrinaire robespierre haunted man simplistic reductive ideology help elucidate boundary safety totalitarianism execution murder self defense patriotism legalistic litmus test aggravate hopeless situation help create sound like belligerent overprivilege retarded yale cheerleader know br /><br />wojciech pszoniak blow slovenly deparidieu screen sympathetic robespierres plight comfort know shortly film end jaw shot send guillotine"
        ],
        [
         "6",
         "58",
         "NO SPOILERS!!<br /><br />After Hitchcock's successful first American film, Rebecca based upon Daphne DuMarier's lush novel of gothic romance and intrigue, he returned to some of the more familiar themes of his early British period - mistaken identity and espionage. As the U.S. settled into World War II and the large scale 'war effort' of civilians building planes, weaponry and other necessary militia, the booming film entertainment business began turning out paranoid and often jingoistic thrillers with war time themes. These thrillers often involved networks of deceptive and skilled operators at work in the shadows among the good, law abiding citizens. Knowing the director was at home in this espionage genre, producer Jack Skirball approached Hitchcock about directing a property he owned that dealt with corruption, war-time sabotage and a helpless hero thrust into a vortex of coincidence and mistaken identity. The darker elements of the narrative and the sharp wit of literary maven Dorothy Parker (during her brief stint in Hollywood before returning to her bohemian roots in NYC) who co-authored the script were a perfect match for Hitchcock's sensibilities.<br /><br />This often neglected film tells the story of the unfortunate 25 year old Barry Kane (Robert Cummings) who, while at work at a Los Angeles Airplane Factory, meets new employee Frank Frye (Norman Lloydd) and moments later is framed for committing sabotage. Fleeing the authorities who don't believe his far-fetched story he meets several characters on his way to Soda City Utah and finally New York City. These memorable characters include a circus caravan with a car full of helpful 'freaks' and a popular billboard model Patricia Martin (Priscilla Lane) who, during the worst crisis of his life as well as national security, he falls madly in love with! Of course in the land of Hitchcock, Patricia, kidnapped by the supposed saboteur Barry, falls for her captor thus adding romantic tension to the mix.<br /><br />In good form for this outing, Hitchcock brews a national network of demure old ladies, average Joes, and respectable businessmen who double as secret agent terrorists that harbor criminals, pull guns and detonate bombs to keep things moving. It's a terrific plot that takes its time moving forward and once ignited, culminates in one of Hitchcock's more memorable finales. Look for incredibly life like NYC tourist attractions (all of which were recreated by art directors in Hollywood due to the war-time 'shooting ban' on public attractions). While Saboteur may not be one of Hitchcock's most well known films, it's a popular b-movie that is certainly solid and engaging with plenty of clever plot twists and as usual - terrific Hitchcock villains. Remember to look for Hitchcock's cameo appearance outside a drug store in the second half of the film. Hitchcock's original cameo idea that was shot (him fighting in sign language with his 'deaf' wife) was axed by the Bureau of Standards and Practices who were afraid of offending the deaf!",
         "2",
         "spoilers!!<br /><br />after hitchcock successful american film rebecca base daphne dumarier lush novel gothic romance intrigue return familiar theme early british period mistaken identity espionage u.s. settle world war ii large scale war effort civilian build plane weaponry necessary militia booming film entertainment business begin turn paranoid jingoistic thriller war time theme thriller involve network deceptive skilled operator work shadow good law abide citizen know director home espionage genre producer jack skirball approach hitchcock direct property own deal corruption war time sabotage helpless hero thrust vortex coincidence mistaken identity dark element narrative sharp wit literary maven dorothy parker brief stint hollywood return bohemian root nyc co author script perfect match hitchcock sensibilities.<br /><br />this neglect film tell story unfortunate 25 year old barry kane robert cummings work los angeles airplane factory meet new employee frank frye norman lloydd moment later frame commit sabotage flee authority believe far fetched story meet character way soda city utah finally new york city memorable character include circus caravan car helpful freak popular billboard model patricia martin priscilla lane bad crisis life national security fall madly love course land hitchcock patricia kidnap suppose saboteur barry fall captor add romantic tension mix.<br /><br />in good form outing hitchcock brew national network demure old lady average joes respectable businessman double secret agent terrorist harbor criminal pull gun detonate bomb thing move terrific plot take time move forward ignite culminate hitchcock memorable finale look incredibly life like nyc tourist attraction recreate art director hollywood war time shooting ban public attraction saboteur hitchcock know film popular b movie certainly solid engage plenty clever plot twist usual terrific hitchcock villain remember look hitchcock cameo appearance outside drug store second half film hitchcock original cameo idea shoot fight sign language deaf wife axe bureau standards practices afraid offend deaf"
        ],
        [
         "7",
         "63",
         "Besides being boring, the scenes were oppressive and dark. The movie tried to portray some kind of moral, but fell flat with its message. What were the redeeming qualities?? On top of that, I don't think it could make librarians look any more unglamorous than it did.",
         "0",
         "boring scene oppressive dark movie try portray kind moral fall flat message redeem quality think librarian look unglamorous"
        ],
        [
         "8",
         "76",
         "The Last Hard Men finds James Coburn an outlaw doing a long sentence breaking free from a chain gang. Do he and his friends head for the Mexican border from jail and safety. No they don't because Coburn has a mission of revenge. To kill the peace officer who brought him in and in the process killed his woman.<br /><br />That peace officer is Charlton Heston who is now retired and he knows what Coburn is after. As he explains it to his daughter, Barbara Hershey, Coburn was holed up in a shack and was involved in a Waco like standoff. His Indian woman was killed in the hail of bullets fired. It's not something he's proud of, she was a collateral casualty in a manhunt.<br /><br />Lest we feel sorry for Coburn he lets us know full well what an evil man he truly is. Heston is his usual stalwart hero, but the acting honors in The Last Hard Men go to James Coburn. He blows everyone else off the screen when he's on. <br /><br />Coburn gets the bright idea of making sure Heston trails him by kidnapping Hershey and taking her to an Indian reservation where the white authorities can't touch him. He knows that Heston has to make it personal then.<br /><br />Coburn's gang includes, Morgan Paull, Thalmus Rasulala, John Quade, Larry Wilcox, and Jorge Rivero. Heston has Chris Mitchum along who is his son-in-law to be.<br /><br />The Last Hard Men is one nasty and brutal western. Andrew McLaglen directed it and I'm thinking it may have been a project originally intended for Sam Peckinpaugh. It sure shows a lot of his influence with the liberal use of slow motion to accentuate the violence. Of which there is a lot. <br /><br />For a little Peckinpaugh lite, The Last Hard Men is your film.",
         "2",
         "hard men find james coburn outlaw long sentence break free chain gang friend head mexican border jail safety coburn mission revenge kill peace officer bring process kill woman.<br /><br />that peace officer charlton heston retire know coburn explain daughter barbara hershey coburn hole shack involve waco like standoff indian woman kill hail bullet fire proud collateral casualty manhunt.<br /><br />lest feel sorry coburn let know evil man truly heston usual stalwart hero act honor hard men james coburn blow screen br /><br />coburn get bright idea make sure heston trail kidnap hershey take indian reservation white authority touch know heston personal then.<br /><br />coburn gang include morgan paull thalmus rasulala john quade larry wilcox jorge rivero heston chris mitchum son law be.<br /><br />the hard men nasty brutal western andrew mclaglen direct think project originally intend sam peckinpaugh sure show lot influence liberal use slow motion accentuate violence lot br /><br />for little peckinpaugh lite hard men film"
        ],
        [
         "9",
         "100",
         "This short film that inspired the soon-to-be full length feature - Spatula Madness - is a hilarious piece that contends against similar cartoons yielding multiple writers. The short film stars Edward the Spatula who after being fired from his job, joins in the fight against the evil spoons. This premise allows for some funny content near the beginning, but is barely present for the remainder of the feature. This film's 15-minute running time is absorbed by some odd-ball comedy and a small musical number. Unfortunately not much else lies below it. The plot that is set up doesn't really have time to show. But it's surely follows it plot better than many high-budget Hollywood films. This film is worth watching at least a few times. Take it for what it is, and don't expect a deep story.",
         "2",
         "short film inspire soon length feature spatula madness hilarious piece contend similar cartoon yield multiple writer short film star edward spatula fire job join fight evil spoon premise allow funny content near beginning barely present remainder feature film 15 minute running time absorb odd ball comedy small musical number unfortunately lie plot set time surely follow plot well high budget hollywood film film worth watch time expect deep story"
        ],
        [
         "10",
         "112",
         "It's terrific when a funny movie doesn't make smile you. What a pity!! This film is very boring and so long. It's simply painfull. The story is staggering without goal and no fun.<br /><br />You feel better when it's finished.",
         "0",
         "terrific funny movie smile pity film boring long simply painfull story staggering goal fun.<br /><br />you feel well finish"
        ],
        [
         "11",
         "122",
         "\"A bored television director is introduced to the black arts and astral projection by his girlfriend. Learning the ability to separate his spirit from his body, the man finds a renewed interest in his life and a sense of wellbeing. Unfortunately, the man discovers while he is sleeping, his spirit leaves his body and his uncontrolled body roams the streets in a murderous rampage,\" according to the DVD sleeve's synopsis.<br /><br />The synopsis isn't entirely correct, as it turns out.<br /><br />Anyway, the movie opens with a dizzying \"out-of-body\" example of handsome director Winston Rekert (as Paul Sharpe)'s newly discovered \"astral body\" experience; it also foreshadows an upcoming dogfight. Young Andrew Bednarski (as Matthew Sharpe), being a kid, draws pictures of \"The Blue Man\", as his murder spree begins. Handsome detective John Novak (as Stewart Kaufman) discovers the victims are connected to Mr. Rekert. Mr. Novak's investigation leads to the supernatural; a prime example of which is Karen Black (as Janus), with whom Rekert fears he is falling in love.<br /><br />Several in the cast perform well; but, \"The Blue Man\" winds up tying itself up in a knot. Aka \"Eternal Evil\", its unsatisfying story tries to be far too clever for its own good.",
         "0",
         "bored television director introduce black art astral projection girlfriend learn ability separate spirit body man find renew interest life sense wellbee unfortunately man discover sleep spirit leave body uncontrolled body roam street murderous rampage accord dvd sleeve synopsis.<br /><br />the synopsis entirely correct turn out.<br /><br />anyway movie open dizzying body example handsome director winston rekert paul sharpe newly discover astral body experience foreshadow upcoming dogfight young andrew bednarski matthew sharpe kid draw picture blue man murder spree begin handsome detective john novak stewart kaufman discover victim connect mr. rekert mr. novak investigation lead supernatural prime example karen black janus rekert fear fall love.<br /><br />several cast perform blue man wind tie knot aka eternal evil unsatisfying story try far clever good"
        ],
        [
         "12",
         "123",
         "Ah yes the 1980s , a time of Reaganomics and Sly , Chuck and a host of other action stars hiding in a remote jungle blowing away commies . At the time I couldn`t believe how movies like RAMBO , MISSING IN ACTION and UNCOMMON VALOR ( And who can forget the ridiculous RED DAWN ? ) made money at the box office , they`re turgid action crap fests with a rather off putting right wing agenda and they have dated very badly . TROMA`S WAR is a tongue in cheek take on these type of movies but you`ve got to ask yourself did they need spoofing in the first place ? Of course not . TROMA`S WAR lacks any sort of sophistication - though it does make the point that there`s no real difference between right wing tyrants and left wing ones - and sometimes feels more like a grade z movie than a send up . Maybe it is ?",
         "0",
         "ah yes 1980 time reaganomics sly chuck host action star hide remote jungle blow away commie time couldn`t believe movie like rambo miss action uncommon valor forget ridiculous red dawn money box office they`re turgid action crap fest put right wing agenda date badly troma`s war tongue cheek type movie you`ve get ask need spoof place course troma`s war lack sort sophistication point there` real difference right wing tyrant leave wing one feel like grade z movie send maybe"
        ],
        [
         "13",
         "143",
         "This cute animated short features two comic icons - Betty Boop and Henry.<br /><br />Henry is the bald, slightly portly boy from the comics who never speaks.<br /><br />Well here he does speak!<br /><br />He wants to get a puppy from Betty Boop's pet store, and when he is left to mind the store - some hilarious hijinks ensue.<br /><br />Betty sings a song about pets, Henry gets in a battle with birds and a monkey, but everything works out in the end.",
         "2",
         "cute animate short feature comic icon betty boop henry.<br /><br />henry bald slightly portly boy comic_strip speaks.<br /><br />well speak!<br /><br />he want puppy betty boop pet store leave mind store hilarious hijink ensue.<br /><br />betty sing song pet henry get battle bird monkey work end"
        ],
        [
         "14",
         "148",
         "This movie was not very well directed. they almost totally disregarded the book.I guess they were trying 2 save time. the only upside 2 me was that the actor who played finny was cute. Some of the dialog between the main characters appeared a little gay which was not the case in the book. Major parts of the book were once again chopped out.You lost the over all effect it was not as haunting as the book and left me lacking severely. Also the strong language although it was brief was very unnecessary. Also i was surprised ( not pleasantly) by a new character that was no where in the book.One of my favorite characters (leper) was poorly interpreted and portrayed. He seemed more sinister in the movie than the real leper was in the book. Over all disappointing.",
         "0",
         "movie direct totally disregard book guess try 2 save time upside 2 actor play finny cute dialog main character appear little gay case book major part book chop lose effect haunt book leave lack severely strong language brief unnecessary surprised pleasantly new character book favorite character leper poorly interpret portray sinister movie real leper book disappointing"
        ],
        [
         "15",
         "151",
         "This movie is a perfect adaptation of the English Flick Unfaithful. Ashmit plays the role of Richard Gere, Emran that of Olivier and Malikka the perfect cheating wife role of Lane.They have changed the second half of the film to adapt for the Indian masses. <br /><br />Even then the movie has got the full traces of Unfaithful, though it couldn't catch up with the original. It was a cheap soft porn of the Bollywood lovers, where Mallika showed a lot more skin than anyone dared to show. Emran did more roles like this and was even nicknamed the serial killer. In the future if the Indian Directors plan to remake a English movie then they have to look into the feasibility of the plot with the Indian Censors. Though the film bombed at the box office, the actors got the undue recognition. In future the directors should be a little more careful in remaking a Oscar nominated film. <br /><br />All said, this is not a family film, so take the extra caution while watching it at home with family.",
         "0",
         "movie perfect adaptation english flick unfaithful ashmit play role richard gere emran olivier malikka perfect cheat wife role lane change second half film adapt indian masse br /><br />even movie get trace unfaithful catch original cheap soft porn bollywood lover mallika show lot skin dare emran role like nickname serial killer future indian directors plan remake english movie look feasibility plot indian censors film bomb box office actor get undue recognition future director little careful remake oscar nominate film br /><br />all say family film extra caution watch home family"
        ],
        [
         "16",
         "155",
         "In the standard view, this is a purely awful movie. However, it rates a near perfect score on the unintentional comedy scale. I can think of few actual comedies that make me laugh as hard as I did watching this movie. Andy Griffith's ghost dressed in Native American garb dancing sends me into hysterics everytime. I wouldn't waste the gas or energy driving to the video store to rent it, but if you happen to be laying on the couch at 3 in the morning and it comes on TV, check it out.",
         "0",
         "standard view purely awful movie rate near perfect score unintentional comedy scale think actual comedy laugh hard watch movie andy griffith ghost dress native american garb dancing send hysteric everytime waste gas energy drive video store rent happen lay couch 3 morning come tv check"
        ],
        [
         "17",
         "166",
         "Originally I was a Tenacious D fan of their first album and naturally listened to a few tracks off The P.O.D. and was rather disappointed. After watching the movie, my view was changed. The movie is pretty funny from beginning to the end and found my self engaged in it even though it was really was a stupid storyline because of the attitudes that KG and Jaybles portray in the movie. <br /><br />Much more entertaining and enjoyable than movies I have seen in the theaters lately. ex. Saw III (dull and dragging), Casino Royale (way to homo-erotic) which in prior installments I have really enjoyed <br /><br />If you enjoyed Borat, you will enjoy the tale of The Greatest Band on Earth",
         "2",
         "originally tenacious d fan album naturally listen track p.o.d. disappointed watch movie view change movie pretty funny begin end find self engage stupid storyline attitude kg jaybles portray movie br /><br />much entertaining enjoyable movie see theater lately ex see iii dull dragging casino royale way homo erotic prior installment enjoy br /><br />if enjoy borat enjoy tale greatest band earth"
        ],
        [
         "18",
         "196",
         "Ludicrous. Angelic 9-year-old Annakin turns into whiny brat 19-year-old Annakin, who somehow seems appealing to Amidala, 5 years his senior. Now 22-year-old Jedi warrior hero Annakin has a couple of bad dreams, and so takes to slaughtering children, his friends, and the entire framework of his existence because a crazy old man convinced him a) his precious wife might really die, and b) only he can prevent this. Ludicrosity squared.<br /><br />I think the people who like this movie are not paying attention. The story is ridiculous. The characters are unbelievable (literally, not the perverted sense of \"fantastic\", \"wonderful\", etc.).<br /><br />Obi-wan Kenobi was the wise and kind anchor for the entire series, but in the climax, he hacks off Annakin's legs, lets him burn in the lava, and leaves him to suffer. Doesn't anyone think that's a little out of character? Not to mention it was pretty stupid to take a chance on him living, as it turns out.<br /><br />I was expecting at least a story that showed consistent characters with plausible motivations. None of that here. The story could have been written by a 10 year old.<br /><br />Oh yeah, the CGI is pretty cool.",
         "0",
         "ludicrous angelic 9 year old annakin turn whiny brat 19 year old annakin appeal amidala 5 year senior 22 year old jedi warrior hero annakin couple bad dream take slaughter child friend entire framework existence crazy old man convince precious wife die b prevent ludicrosity squared.<br /><br />i think people like movie pay attention story ridiculous character unbelievable literally perverted sense fantastic wonderful etc.).<br /><br />obi wan kenobi wise kind anchor entire series climax hack annakin leg let burn lava leave suffer think little character mention pretty stupid chance live turn out.<br /><br />i expect story show consistent character plausible motivation story write 10 year old.<br /><br />oh yeah cgi pretty cool"
        ],
        [
         "19",
         "226",
         "One of Starewicz's longest and strangest short films follows a toy dog in search of an orange after becoming animated by the tear of the mother of a girl who longs for an orange. The dog comes upon an orange after falling out of the back of a car on his way to be sold, but at night must protect the orange when he comes enters a devilish nightclub featuring many bizarre and scary characters. With the help of a stuffed cat, the dog gets the orange back to the little girl and she is saved from a terrible scurvy death. The Mascot features new techniques I have not yet seen in Starewicz's films. The addition of sync sound and a mixture of live action with the stop-motion animation makes for a new twist on Starewicz's old style of puppetry. Live scenes of moving cars and people's feet walking by as a puppet sits on the concrete sidewalk is impressive and fresh. The honking of cars and cries of street vendors is noteworthy due to the fact that small studio shifts to sound were costly and Starewicz's utilization of the new technology seems like old hat. New puppet characters in this film are frightening contributions to the devil's club scene. Twigss and newspaper shreds come to life. Skeletons of dead birds lay eggs which hatch skeleton chicks. Characters come flying in from all over on pats and pans and rocking horses. A new editing technique uses quick zooms which are accomplished through editing to speed up the pace of what before might have been a slow scene. Overall, Starewicz is able to update his style of film-making to meet the demands of a new audience making this film one of the best examples of his work.",
         "2",
         "starewicz long strange short film follow toy dog search orange animate tear mother girl long orange dog come orange fall car way sell night protect orange come enter devilish nightclub feature bizarre scary character help stuff cat dog get orange little girl save terrible scurvy death mascot feature new technique see starewicz film addition sync sound mixture live action stop motion animation make new twist starewicz old style puppetry live scene move car people foot walk puppet sit concrete sidewalk impressive fresh honking car cry street vendor noteworthy fact small studio shift sound costly starewicz utilization new technology like old hat new puppet character film frightening contribution devil club scene twigss newspaper shred come life skeleton dead bird lie egg hatch skeleton chick character come fly pat pan rock horse new editing technique use quick zoom accomplish edit speed pace slow scene overall starewicz able update style film making meet demand new audience make film good example work"
        ],
        [
         "20",
         "234",
         "The three main characters are all hopeless, and yet you only feel sorry for one of them: Ernesto, hopelessly devoted to Mercedes. This was part of the frustration: screaming at Mercedes to get a clue and ditch the no-good Harry, to no avail.<br /><br />Then there's the satisfaction: Steve Buscemi has a great part as a transvestite, and Harvey Keitel's moving story of his indignity playing a gorilla for a cheap TV movie is incredible. When you least expect it, Quentin Tarintino is doing half a monologue, and Anthony Quinn turns Ernesto into a wealthy man.<br /><br />Time and again great moments appear in the story, but in the end it's hard to know what to feel about this movie. It doesn't have a happy ending, or even a complete one, but it somehow feels right.<br /><br />This movie is strange, but then so am I; no wonder I liked it.",
         "2",
         "main character hopeless feel sorry ernesto hopelessly devoted mercedes frustration scream mercedes clue ditch good harry avail.<br /><br />then satisfaction steve buscemi great transvestite harvey keitel moving story indignity play gorilla cheap tv movie incredible expect quentin tarintino half monologue anthony quinn turn ernesto wealthy man.<br /><br />time great moment appear story end hard know feel movie happy ending complete feel right.<br /><br />this movie strange wonder like"
        ],
        [
         "21",
         "244",
         "Based on a Edgar Rice Burroughs novel, AT THE EARTH'S CORE provides little more than means to escape and give your brain a rest. A Victorian scientist Dr. Abner Perry(Peter Cushing)invents a giant burrowing machine, which he and his American partner(Doug McClure)use to corkscrew their way deep into the earth to explore what mysteries it may hold. They soon discover a lost world of subhuman creatures having conflict with prehistoric monsters.<br /><br />Cushing comes across as an absent minded professor to the point of being annoying. Instead of being a bold adventurer, he comes across effeminate. On the other hand McClure overacted enough to make himself also laughable. Caroline Munro plays the pretty Princess Dia that refuses to leave her world near the center of the earth. Also in the cast are: Godfrey James, Cy Grant and Michael Crane.",
         "0",
         "base edgar rice burroughs novel earth core provide little mean escape brain rest victorian scientist dr. abner perry(peter cushing)invents giant burrowing machine american partner(doug mcclure)use corkscrew way deep earth explore mystery hold soon discover lost world subhuman creature have conflict prehistoric monsters.<br /><br />cushing come absent minded professor point annoying instead bold adventurer come effeminate hand mcclure overact laughable caroline munro play pretty princess dia refuse leave world near center earth cast godfrey james cy grant michael crane"
        ],
        [
         "22",
         "256",
         "I saw this movie in the middle of the night, when I was flipping through the channels and there was nothing else on to watch. It's one of those films where you stop to see what it is - just for a moment! - but realize after twenty minutes or so that you just can't turn it off, no matter how bad it is. One of those movies that is somewhere in between being so bad it's good and so bad it's, well, just plain BAD, it's worth seeing just to experience the confusion of realizing that it's both! Great middle-of-the-night fare, if only for the fabulous tennis drag. Don't even bother asking yourself why nobody can tell that Chad Lowe is so obviously male, because logic does not apply.",
         "0",
         "see movie middle night flip channel watch film stop moment realize minute turn matter bad movie bad good bad plain bad worth see experience confusion realize great middle night fare fabulous tennis drag bother ask tell chad lowe obviously male logic apply"
        ],
        [
         "23",
         "267",
         "Tainted look at kibbutz life<br /><br />This film is less a cultural story about a boy's life in a kibbutz, but the deliberate demonization of kibbutz life in general. In the first two minutes of the movie, the milk man in charge of the cows rapes one of his calves. And it's all downhill from there in terms of the characters representing typical \"kibbutznikim.\" Besides the two main characters, a clinically depressed woman and her young son, every one else in the kibbutz is a gross caricature of wellevil. <br /><br />The story centers on how the kibbutz, like some sort of cult, slowly drags the mother and son deeper into despair and what inevitably follows. There is no happiness, no joy, no laughter in this kibbutz. Every character/situation represents a different horrific human vice like misogyny, hypocrisy, violence, cultism, repression etc. For example, while the protagonist is a strikingly handsome European looking 12 year old boy  his older brother is a typical kibbutz youth complete with his \"jewish\" physical appearance and brutish personality. He cares more about screwing foreign volunteers than the health of his dying mother. He treats these volunteers like trash. After his little brother pleads of him to visit his dying mother whom he hasn't seen in a long time due to his military service, he orders, Quote  \"Linda, go take shower and I cum in two minutes.\" <br /><br />There is one other \"good\" character in this movie  a European foreigner who plays the mother's boyfriend. When the animal rapist tries to hit the mother's son, the boyfriend defends him by breaking the rapist's arm. He is summarily kicked out of the kibbutz then for \"violent\" behavior against one of the kibbutz members. More hypocrisy: The indescribably annoying French woman who plays the school teacher preaches that sex cannot happen before age 18, or without love and gives an account of the actual act that's supposed to be humorous for the audience, but is really just stupid. She of course is screwing the head of the kibbutz in the fields who then in turn screws the little boy's mom when her mental health takes a turn for the worse. <br /><br />The film portrays the kibbutz like some sort of cult. Children get yanked out of their beds in the middle of the night and taken to some ritual where they swear allegiance in the fields overseen by the kibbutz elders. The mother apparently can't \"escape\" the kibbutz, although in reality, anyone was/is always free to come and go as they choose. It's a mystery how the boy's father died, but you can rest assured, the kibbutz \"drove him to it\" and his surviving parents are another pair of heartless, wretched characters that weigh down on the mother and her son. <br /><br />That's the gist of this movie. One dimensional characters, over dramatization, dry performances, and an insidious message that keeps trying to hammer itself into the audience's head  that kibbutz life was degrading, miserable and even deadly for those who didn't \"fit in.\" I feel sorry for the guy who made this film  obviously he had a bad experience growing up in a kibbutz. But I feel as though he took a few kernels of truth regarding kibbutz life and turned them into huge atomic stereotyped bombs.",
         "0",
         "taint look kibbutz life br /><br />this film cultural story boy life kibbutz deliberate demonization kibbutz life general minute movie milk man charge cow rape calf downhill term character represent typical kibbutznikim main character clinically depressed woman young son kibbutz gross caricature  evil br /><br />the story center kibbutz like sort cult slowly drag mother son deep despair inevitably follow happiness joy laughter kibbutz character situation represent different horrific human vice like misogyny hypocrisy violence cultism repression etc example protagonist strikingly handsome european look 12 year old boy  old brother typical kibbutz youth complete jewish physical appearance brutish personality care screw foreign volunteer health die mother treat volunteer like trash little brother plead visit die mother see long time military service order quote  linda shower cum minute br /><br />there good character movie  european foreigner play mother boyfriend animal rapist try hit mother son boyfriend defend break rapist arm summarily kick kibbutz violent behavior kibbutz member hypocrisy indescribably annoying french woman play school teacher preach sex happen age 18 love give account actual act suppose humorous audience stupid course screw head kibbutz field turn screw little boy mom mental health take turn bad br /><br />the film portray kibbutz like sort cult child yank bed middle night take ritual swear allegiance field oversee kibbutz elder mother apparently escape kibbutz reality free come choose mystery boy father die rest assure kibbutz drive survive parent pair heartless wretche character weigh mother son br /><br />that gist movie dimensional character dramatization dry performance insidious message keep try hammer audience head  kibbutz life degrading miserable deadly fit feel sorry guy film  obviously bad experience grow kibbutz feel take kernel truth kibbutz life turn huge atomic stereotyped bomb"
        ],
        [
         "24",
         "274",
         "What an incomprehensible mess of a movie. Something about a cop who extracts bullets from himself after he gets shot and keeps them in a glass jar in his bathroom (and from the size of the jar he's been shot about fifty times by now) and a top secret tank guarded by five or six incompetent soldiers who for some reason drive it into Mexico. Whether they were sent there intentionally or just got really really lost is never made clear. And you'll never hear another screenplay feature the word \"butthorn\" either. Gary Busey tries out the Mel Gibson role from \"Lethal Weapon\" and while Busey is a serviceable actor the screenplay damns the whole movie to mediocrity. William Smith does another turn as a Russian soldier, the same character he played in \"Red Dawn\" a few years earlier. After playing biker heavies for most of the 70s it was sort of nice to see him expand his range playing Communist heavies. Sadly he'll probably always be remembered best as the guy who Clint Eastwood whupped in \"Every Which Way You Can.\"",
         "0",
         "incomprehensible mess movie cop extract bullet get shoot keep glass jar bathroom size jar shoot time secret tank guard incompetent soldier reason drive mexico send intentionally get lose clear hear screenplay feature word butthorn gary busey try mel gibson role lethal weapon busey serviceable actor screenplay damn movie mediocrity william smith turn russian soldier character play red dawn year early play biker heavy 70 sort nice expand range play communist heavy sadly probably remember well guy clint eastwood whuppe way"
        ],
        [
         "25",
         "308",
         "Well, there's no real plot to speak of, it's just an excuse to show some scenes of extreme violence and gratuitous sex (which can sometimes be fun, too, but it's not in this case). What else can I say about this...? The action, when happening, is inventive and there's a cool scene where two characters are falling from a skyscraper (one that has to be several miles high), but overall there's not much to recommend \"Kite\". Watch it if you want, but you're not missing much if you skip this one...",
         "0",
         "real plot speak excuse scene extreme violence gratuitous sex fun case ... action happen inventive cool scene character fall skyscraper mile high overall recommend kite watch want miss skip ..."
        ],
        [
         "26",
         "312",
         "Note to self. Never ever ever again watch a serious movie with Charlie Sheen in it. Great comedian, horrible seal. This movie makes Navy SEALS look like a reckless group of rangers when, in fact, they are the most elite form of military in the world. Charlie Sheen helps destroy the Navy SEAL reputation. Thank you for making such an incredibly select group of individuals look awful in one of the worst action movies I have ever seen. This is a great story which could be made into an amazing action movie, but why Charlie Sheen? There are possibilities for a very passionate story here, but Sheen decides to wreck them with \"funny\" comments.",
         "0",
         "note self watch movie charlie sheen great comedian horrible seal movie make navy seal look like reckless group ranger fact elite form military world charlie sheen help destroy navy seal reputation thank make incredibly select group individual look awful bad action movie see great story amazing action movie charlie sheen possibility passionate story sheen decide wreck funny comment"
        ],
        [
         "27",
         "335",
         "Or anyone else have noticed the fact that first bunch of episodes are inspired too much by 90's flicks?<br /><br />I mean seriously wife who is trying get someone else to murder his rich husband so she can claim his assets. Med students who are temporarily stopping their hearts to reach memories that are lost; Flatliners. Bunch of college bodies getting together again to reminisce on the old days but are not fully comfortable because they did something in the past, Very Bad Things? Groundhog day is one of my all time favorite movies. Sadly enough the writing staff behind his turd is bunch of lazy bastards who can not come up with their original scripts.<br /><br />Noble idea totally fubarred in it's execution.",
         "0",
         "notice fact bunch episode inspire 90 flicks?<br /><br />i mean seriously wife try murder rich husband claim asset med student temporarily stop heart reach memory lose flatliner bunch college body get reminisce old day fully comfortable past bad thing groundhog day time favorite movie sadly write staff turd bunch lazy bastard come original scripts.<br /><br />noble idea totally fubarre execution"
        ],
        [
         "28",
         "340",
         "I was debating between this movie and 2012 but chose Inglourious Basterds due to it's amazingly high IMDb rating. I must say now, what a disappointment. I expected a certain amount of gratuitous violence, but I also expected a lot of witty dialog. I got a huge dosage of the former, but not nearly enough of the latter. I felt shortchanged. The ratio between violence to plot is very important and I think this movie gets it totally wrong. And the plot? It's that believable or really all that entertaining either. Save your time and money. I can't believe what this rating says for the gory and violent tastes of the modern masses.",
         "0",
         "debate movie 2012 choose inglourious basterds amazingly high imdb rating disappointment expect certain gratuitous violence expect lot witty dialog get huge dosage nearly feel shortchange ratio violence plot important think movie get totally wrong plot believable entertaining save time money believe rating say gory violent taste modern masse"
        ],
        [
         "29",
         "354",
         "Like the previous poster, I am from northern Vermont, and I was inclined to like this film. However, not since \"Red Zone Cuba\" have I seen such a confusing plot. The things the people to bootleg make no sense. Two of the gang paddle across the border send a second party across in a car. Uhm, why? Then they meet two others, and drive up at night in to the bad guy's hideout in a luxury Packard. --Wouldn't just two people in a flatbed truck make more sense? Then, parked outside the garage that holds the targeted hooch, the four fall asleep! When they waken in the morning and and start hauling the whiskey out, of course they're spotted and shot at, losing some of their precious cargo in the process. Then two of the smugglers put the whiskey in a boat and float it over the border. Again, why? I am told by someone whose great uncle really did smuggle in the area, all one needed was to drive a vehicle that could outrun than the U.S. Canada Border Patrol, which back then had a fraction of the resources it has now. <br /><br />And don't get me started on the last half hour, which made no sense whatsoever.<br /><br />The only good thing I can say about the film is that Kris Kristopherson has actually grown some charisma with the years.",
         "0",
         "like previous poster northern vermont inclined like film red zone cuba see confusing plot thing people bootleg sense gang paddle border send second party car uhm meet drive night bad guy hideout luxury packard --wouldn't people flatbe truck sense park outside garage hold target hooch fall asleep waken morning start haul whiskey course spot shoot lose precious cargo process smuggler whiskey boat float border tell great uncle smuggle area need drive vehicle outrun u.s. canada border patrol fraction resource br /><br />and start half hour sense whatsoever.<br /><br />the good thing film kris kristopherson actually grow charisma year"
        ],
        [
         "30",
         "377",
         "A truly muddled incomprehensible mess. Most things in the film look more or less like 1987, but then there are futuristic things just thrown in, like the policeman's ray gun. And that car! The director seemed to be in love with colored lights. The only really notable performance was the girl who played Valerie, but since there was no cast listing, I don't know which actress that was. This one is worth missing. Grade: F",
         "0",
         "truly muddle incomprehensible mess thing film look like 1987 futuristic thing throw like policeman ray gun car director love colored light notable performance girl play valerie cast listing know actress worth miss grade f"
        ],
        [
         "31",
         "378",
         "It doesn't happen very often, but occasionally one man can make a difference -- a big difference.<br /><br />George Crile's 2003 best seller, CHARLIE WILSON'S WAR, is a fascinating and eye-opening account of the most unlikely \"difference maker\" imaginable. A relatively obscure Congressman from the Second District of Texas, \"Good Time Charlie\" was known more for his libertine lifestyle than his libertarian legislation. Likable and licentious (even for a politician), Charlie Wilson served his constituency well since the good folks of Lufkin only really wanted two things, their guns and to be left alone. It's Easy Street replete with his bevy of beltway beauties known, appropriately enough, as Charlie's Angels.<br /><br />When asked why his entire office staff was composed of attractive, young aides his response is a classic, \"You can teach 'em to type, but you can't teach 'em to grow tits.\" No argument there.<br /><br />But even the most rakish rapscallion has a conscience lurking somewhere underneath, and for Charlie Wilson the unimaginable atrocities being committed in Afghanistan moved him to muster his entire political savvy toward funding the utter, humiliating defeat of the Russian military and, possibly, to even help hasten the end of the Cold War as a result. Fat chance, huh?<br /><br />Under the skillful direction of Mike Nichols and a smart, snappy screenplay by Adam Sorkin, CHARLIE WILSON'S WAR is a sparkling, sophisticated satire that chronicles the behind-the- scene machinations of three colorful characters comprising \"Charlie's Team.\"<br /><br />The on-screen \"Team,\" is composed of three marvelous actors with four (4) Academy Awards and nine (9) nominations between them. Charlie is beautifully portrayed by Tom Hanks in a solid, slightly understated fashion that is among his best work in years. He's aided, abetted and abedded by Joanne Herring, a wealthy Houston socialite played by the still-slinky Julia Roberts. Hey, why else have the bikini scene than to let the world know this? By all accounts Ms. Roberts looks good and holds her own, but the screenplay never gives us even a hint why Kabul and country is so important to her character. Maybe the two Afghan hounds usually by her side know -- but we as an audience never do. As for the third member of the \"Team,\" Philip Seymour Hoffman steals every scene he appears in as Gust Aurakotos, a smart, street- wise (i.e. non Ivy League graduate) CIA malcontent who knows the score -- both in the Agency's boardroom and in Wilson's bedroom.<br /><br />For the Mujahideen to succeed, the most important assistance the U.S. can provide is the ability to shoot down the dreaded MI-21 helicopter gunships which rule the skies. This takes money, lots of money, and eventually \"Charlie's Team\" covertly coerces those in Congress to fund the effort to the tune of $1 billion dollars for advanced weaponry to arm the Afghan rebels. This includes top-of-the-line, state-of-the-art anti-aircraft and anti-tank rockets as well as other highly sophisticated killing devices. Nasty, nasty stuff.<br /><br />That this kind of multi-billion dollar illicit activity can and does take place behind Congressional doors is truly alarming. Every American should see this movie or read this book because it reveals a truly frightening aspect of the business-as-usual political scene rarely seen outside the walls of our very own government. Oh momma, I wish it weren't so...<br /><br />Even though the initial outcome for \"Team Charlie\" was an unqualified success, the unimaginable, unanticipated final result is that these sophisticated weapons are now used against our troops by the Taliban and others. Since the funding was entirely \"covert,\" the young generation in this part of the world has no idea the fall of Soviet oppression and the end to Russian barbarity was the direct result of American intervention. Yes, once the Russkies left, so did our aid -- zip for schools, zip for infrastructure, zip on maintaining meaningful relationships with the Afghan people. As a result, the overall consequence is an unmitigated disaster -- it's like the forerunner to \"Mission Accomplished.\"<br /><br />As Nichol's film so pointedly points out, \"The ball you've set in motion can keep bouncing even after you've lost interest in it.\" Mike Krzyzewski knows this, Eva Longoria Parker knows this, little Lateesha in Lafayette knows this, but the typical American politician doesn't. So we go from good guys to bad guys because we couldn't let the world know we were the good guys. Talk about a Catch-22 (another Mike Nichols film).<br /><br />Perhaps Charlie Wilson said it best, \"We f&%ked up the end game.\"<br /><br />Again.",
         "2",
         "happen occasionally man difference -- big difference.<br /><br />george crile 2003 good seller charlie wilson war fascinating eye open account unlikely difference maker imaginable relatively obscure congressman second district texas good time charlie know libertine lifestyle libertarian legislation likable licentious politician charlie wilson serve constituency good folk lufkin want thing gun leave easy street replete bevy beltway beauty know appropriately charlie angels.<br /><br />when ask entire office staff compose attractive young aide response classic teach them type teach them grow tit argument there.<br /><br />but rakish rapscallion conscience lurk underneath charlie wilson unimaginable atrocity commit afghanistan move muster entire political savvy fund utter humiliating defeat russian military possibly help hasten end cold war result fat chance huh?<br /><br />under skillful direction mike nichols smart snappy screenplay adam sorkin charlie wilson war sparkling sophisticated satire chronicle the- scene machination colorful character comprise charlie team \"<br /><br />the screen team compose marvelous actor 4 academy awards 9 nomination charlie beautifully portray tom hanks solid slightly understate fashion good work year aid abet abedde joanne herring wealthy houston socialite play slinky julia roberts hey bikini scene let world know account ms. roberts look good hold screenplay give hint kabul country important character maybe afghan hound usually know -- audience member team philip seymour hoffman steal scene appear gust aurakotos smart street- wise i.e. non ivy league graduate cia malcontent know score -- agency boardroom wilson bedroom.<br /><br />for mujahideen succeed important assistance u.s. provide ability shoot dread mi-21 helicopter gunship rule sky take money lot money eventually charlie team covertly coerce congress fund effort tune 1 billion dollar advanced weaponry arm afghan rebel include line state art anti aircraft anti tank rocket highly sophisticated killing device nasty nasty stuff.<br /><br />that kind multi billion dollar illicit activity place congressional door truly alarming american movie read book reveal truly frightening aspect business usual political scene rarely see outside wall government oh momma wish ... <br /><br />even initial outcome team charlie unqualified success unimaginable unanticipated final result sophisticated weapon troop taliban funding entirely covert young generation world idea fall soviet oppression end russian barbarity direct result american intervention yes russkies leave aid -- zip school zip infrastructure zip maintain meaningful relationship afghan people result overall consequence unmitigated disaster -- like forerunner mission accomplished \"<br /><br />as nichol film pointedly point ball set motion bounce lose interest mike krzyzewski know eva longoria parker know little lateesha lafayette know typical american politician good guy bad guy let world know good guy talk catch-22 mike nichols film).<br /><br />perhaps charlie wilson say well f&%ke end game \"<br /><br />again"
        ],
        [
         "32",
         "380",
         "This ludicrous film offers the standard 1970's \"hippie mentality\" in a nut shell and bores us in the process. Its an attempt to rationalize absurd marriages of young, innocent women with old age sex fiends and wash ups. A naive young hippy played by the waif-like ( Kay Lenz ) hitch hikes and sleeps with all the wrong guys, and then one day she meets the ridiculous (Holden), already in old age, hard liquor drinking and washed up as an actor, and she decides that she is in \"love\" with him. If you think that is superficial, the whole film encapsulates such scenes. She keeps saying how much she \"loves\" him and she only met him, it wears thin and really quick. I couldn't help but laugh throughout the film. Its obvious she's just using him as a meal ticket but the director is immature enough to think we are going to buy that there is actually any love taking place. A disgusting scene is where the two are naked and having sex, I had to fast forward it because it almost inspired me to vomit. A corny offering of music from the 70's is also spread through the film. Avoid this if you can. Grade D.",
         "0",
         "ludicrous film offer standard 1970 hippie mentality nut shell bore process attempt rationalize absurd marriage young innocent woman old age sex fiend wash up naive young hippy play waif like kay lenz hitch hike sleep wrong guy day meet ridiculous holden old age hard liquor drink wash actor decide love think superficial film encapsulate scene keep say love meet wear thin quick help laugh film obvious meal ticket director immature think go buy actually love take place disgusting scene naked have sex fast forward inspire vomit corny offering music 70 spread film avoid grade d."
        ],
        [
         "33",
         "391",
         "Skippy from \"Family Ties\" plays Eddie, a wussy 'metal' nerd who gets picked on. When his favorite wussy 'metal' singer, Sammi Curr, dies, he throws a hissy fit tearing down all the posters on his bedroom wall. But when he later gets an unreleased record that holds the spirit of his dead 'metal' idol. He first gets sucked into ideas of revenge, but then he doesn't want to take it as far as Sammi does. Which isn't really that far as his main victims only seem to go to the hospital. This movie is utterly laughable and has about as much to do with real metal as say, \"Rock Star\". OK, maybe a tad more than that piece of junk, but you get my point. And how ANYone can root for a guy played by Skippy from \"Family Ties\" I haven't a clue. The cameo by Gene Simmons is OK, and Ozzy Osbourne reaches coherency, I applaud him for that, but otherwise skip this one.<br /><br />My Grade: D <br /><br />Eye Candy:Elise Richards gets topless, an a topless extra at a pool party",
         "0",
         "skippy family ties play eddie wussy metal nerd get pick favorite wussy metal singer sammi curr die throw hissy fit tear poster bedroom wall later get unreleased record hold spirit dead metal idol get suck idea revenge want far sammi far main victim hospital movie utterly laughable real metal rock star ok maybe tad piece junk point root guy play skippy family ties clue cameo gene simmons ok ozzy osbourne reach coherency applaud skip one.<br /><br />my grade d br /><br />eye candy elise richards get topless topless extra pool party"
        ],
        [
         "34",
         "414",
         "I feel dumber after watching the first 20 min,luckily i walked out and saved the rest of my brain, people should watch better films and take notes on why they are rated highly,not because of the budget of the film or the special effects, just simply good acting and getting simple things right,and MOst importantly--not being LAME--, but i guess this was produced for those Sheeple without taste and not a clue of what is ''A good Movie''don't be scared of rating films low,save your under-appreciated high scores for ''once in a life time movies''. Keep in mind that many use IMDb for trusted reviews and opinions,don't spoil the broth by sugarcoating turds Peace & love",
         "0",
         "feel dumber watch 20 min luckily walk save rest brain people watch well film note rate highly budget film special effect simply good act get simple thing right importantly -- lame-- guess produce sheeple taste clue '' good movie''don't scared rating film low save appreciated high score '' life time movie '' mind use imdb trust review opinion don't spoil broth sugarcoat turd peace love"
        ],
        [
         "35",
         "416",
         "This has got to be the worst movie I haver ever seen Nielson in. This movie just does not have what he needs to be funny. I think the reasons that the Naked Gun and the like movies is that they did not require Nielson to be funny. He just played the roles as straight as he could while all of the comedy that went on was mostly visual. But when you put him in a movie where he has to be funny, he isn't. The movie had only one good part, and this may be considered a spoiler by some, and that the beginning credits were animated. If the whole movie had been animated, it might have been good. I had no intention of seeing this movie when I saw the ads for it, and the only reason I did see it was because the tickets were given to me by someone who won them in a radio contest. This is the first and probably only movie I have ever walked out on. On a scale of 1-10 I give this movie a score of -100.",
         "0",
         "get bad movie haver see nielson movie need funny think reason naked gun like movie require nielson funny play role straight comedy go visual movie funny movie good consider spoiler begin credit animate movie animate good intention see movie see ad reason ticket give win radio contest probably movie walk scale 1 10 movie score -100"
        ],
        [
         "36",
         "437",
         "This mostly routine fact-based TV drama gets a boost from the fine performance by Cole. This is the story of a highly trained military man, unhappy with his wife and children, fakes his demise and runs off with the other woman. To support her in the manner in which she is accustomed he robs banks. Predictable, but not a bad watch.",
         "2",
         "routine fact base tv drama get boost fine performance cole story highly train military man unhappy wife child fake demise run woman support manner accustom rob bank predictable bad watch"
        ],
        [
         "37",
         "442",
         "Imagine this: a high school. Except it's boarding school, and the kids don't have parents around. Oh, and it's in Malibu. And the kids are all thin, white, and gorgeous, with the exceptional token minority or fat kid to play the \"weird\" outcast. And there aren't any reasonable rules, like how they have co-habitation, nuclear weapons in their dorms, coffee stands, a sushi bar, and a complimentary laptop per student.<br /><br />Here's the story: A girl, Zoey Brooks, attends PCA, a formerly all-boys school. Absolutely perfect in every possible way, she is smart, pretty, thin, athletic, creative, and everything a perfectionist wants to be. Almost all the boys in school want her, and every girl wants to be her friend. She's the one everyone comes to for advice, the one who saves the day with a simplistic plan, and is just wonderful. Too bad none of this makes her likable.<br /><br />Are we supposed to believe that if we don't even come close to Zoey's perfection, we're bad people? In the show, nothing's her fault, and if anyone contradicts her, they're portrayed as the bad guy(Logan). He may be a jerk, but at least he has some kind of brain that thinks for himself instead of simply agreeing with the princess every time.<br /><br />Her loyal group of blind followers are: Chase, the average dumb ass that has a secret crush on her, Michael, the token black guy (and the only decent actor on the set), Lola, a wannabe actress and anorexic, snobby airhead, Quinn, the smart but clueless girl when it comes to teen stuff, and Logan, the rich jerk who has a soft side. Yeah, this show basically spews out stereotypes.<br /><br />What ticks me off, though, is that they all try to pretend they're normal kids. They complain that Logan gets too much money while they have to work themselves, even though they already go to a too-good-to-be-true boarding school and have relatively nice things that many teenagers can't afford. They drink coffee and eat sushi on a regular basis, hardly have homework, and suntan almost every day. Wow, they have it hard! Any other problems? I'm too good-looking, rich, and stress-free! I guess Zoey 101 (what's the 101 for, anyway?) is Nick's attempt at trying to portray teens realistically. Except they caught a glimpse of reality, didn't like it, and decided to give the kids lives like the asses on The Hills.<br /><br />But hey, at least the set's pretty.",
         "0",
         "imagine high school boarding school kid parent oh malibu kid thin white gorgeous exceptional token minority fat kid play weird outcast reasonable rule like co habitation nuclear weapon dorm coffee stand sushi bar complimentary laptop student.<br /><br />here story girl zoey brooks attend pca boy school absolutely perfect possible way smart pretty thin athletic creative perfectionist want boy school want girl want friend come advice save day simplistic plan wonderful bad make likable.<br /><br />are suppose believe come close zoey perfection bad people fault contradict portray bad guy(logan jerk kind brain think instead simply agree princess time.<br /><br />her loyal group blind follower chase average dumb ass secret crush michael token black guy decent actor set lola wannabe actress anorexic snobby airhead quinn smart clueless girl come teen stuff logan rich jerk soft yeah basically spew stereotypes.<br /><br />what tick try pretend normal kid complain logan get money work good true boarding school relatively nice thing teenager afford drink coffee eat sushi regular basis hardly homework suntan day wow hard problem good look rich stress free guess zoey 101 101 nick attempt try portray teen realistically catch glimpse reality like decide kid live like ass hills.<br /><br />but hey set pretty"
        ],
        [
         "38",
         "451",
         "During the Clete Roberts preface, I was beginning to think this was an Ed Wood production, however, what rolls out here is some pretty hard hitting stuff. The story of crime and corruption in a Southern town is told using a cast culled from Hollywood's Poverty Row, and this makes the movie all the more realistic. There are no punches pulled here, and at times the film is reminiscent of \"The Well\"(1951). The Black and White texture gives a newsreel-like quality. For certain, younger viewers will be reminded of \"The Blair Witch Project\" but this one IS based on REAL events!",
         "2",
         "clete roberts preface begin think ed wood production roll pretty hard hit stuff story crime corruption southern town tell cast cull hollywood poverty row make movie realistic punch pull time film reminiscent well\"(1951 black white texture give newsreel like quality certain young viewer remind blair witch project base real event"
        ],
        [
         "39",
         "472",
         "Steve McQueen has certainly a lot of loyal fans out there. He certainly was a charismatic fellow, one of the most charismatic the big screen ever knew. But even McQueen can't save this turkey of a film, shot with what looks like a brownie camera in the actual locations in St. Louis.<br /><br />McQueen's a new kid with no criminal record brought into the planning of a bank heist by one of the other gang. There's more than a broad hint that there's a gay relationship going on between young Steve and David Clarke. He's not liked at all by the other heist members, mainly because of his lack of criminal resume. <br /><br />Steve also has a girl friend in Molly McCarthy and she suspects something afoot, especially when he starts hanging around with Crahan Denton and James Dukas as well as Clarke, all pretty rough characters. That would certainly get my suspicions aroused.<br /><br />The Great St. Louis Bank Robbery had two directors Charles Guggenheim and John Stix. Guggenheim did mostly documentaries and Stix didn't do much of anything. One of those two jokers decided Steve's performance was best served by doing a bad Marlon Brando imitation. <br /><br />This film may go down as the worst ever done by Steve McQueen. I'm willing to bet that Dick Powell and Four Star Productions had already signed him for Wanted Dead or Alive because I can't believe they would have if they saw this.<br /><br />Or they would have seen something the public would have overlooked except for the dressing for this turkey.",
         "0",
         "steve mcqueen certainly lot loyal fan certainly charismatic fellow charismatic big screen know mcqueen save turkey film shoot look like brownie camera actual location st. louis.<br /><br />mcqueen new kid criminal record bring planning bank heist gang broad hint gay relationship go young steve david clarke like heist member mainly lack criminal resume br /><br />steve girl friend molly mccarthy suspect afoot especially start hang crahan denton james dukas clarke pretty rough character certainly suspicion aroused.<br /><br />the great st. louis bank robbery director charles guggenheim john stix guggenheim documentary stix joker decide steve performance well serve bad marlon brando imitation br /><br />this film bad steve mcqueen willing bet dick powell star productions sign wanted dead alive believe see this.<br /><br />or see public overlook dressing turkey"
        ],
        [
         "40",
         "473",
         "This is a bad film, as its central message is very muddled and the plot seems like it was the result of merging several disparate scripts. As a result, it often makes absolutely no sense at all and certainly is not a film Miss Dunne or Mr. Huston should have been proud of making. However, the film IS worth watching if you are a fan of \"Pre-Code\" films because it features an amazingly sleazy plot that strongly says that nice girls DO put out--even if they aren't married and even if their partner IS!! <br /><br />The film begins with Miss Dunne as a social worker assisting troops heading to Europe for WWI. In the process, she meets a scalawag (Bruce Cabot) who eventually convinces her to sleep with him. She becomes pregnant and he then goes on to the next unsuspecting woman. However, Miss Dunne does NOT want him back, as she realizes he's not worth it, but later her baby dies at child birth. While all these very controversial plot elements are used, they are always alluded to--almost like they wanted the adults in the audience to know but hoped that if they phrase it or film it in just the right way, kids in the audience will be clueless (after all, films were not rated and kids might attend any film at this time).<br /><br />Surprisingly, this entire plot involving a stillborn baby and Cabot ends about 1/4 of the way through the film and is never mentioned again or alluded to. It was as if they filmed part of a movie and abandoned it--tacking it on to still another film. In this second phase of the film, Miss Dunne unexpectedly begins working at a women's prison (though we actually never really get to see her doing anything there). What we do see are countless horrible scenes of severe abuse and torture that were probably designed to titillate. And, as a result of all this violence, Miss Dunne goes on a crusade to clean up the prison and becomes a reformer and famous writer.<br /><br />But then, out of the blue, another type of film emerges and the women's prison reform business goes by the wayside. Dunne meets a judge (Walter Huston) who is married but he desperately wants her. Now throughout the film, Dunne is portrayed as a very good girl--even though she did have unmarried sex with Cabot (she was more or less tricked into it). But now, single Irene, who is a tireless reformer and good lady begins sleeping with a married man. He tells her that he and his wife are estranged and are married in name only, but she never thinks to investigate if this is true, and with his assurance, off flies her clothes and they are in the baby making business! BUT, while she's pregnant with his love child, he's indicted for being a crooked judge. He assures her he's innocent, but he's convicted and it sure sounds like he's a scoundrel--using inside information from people that have come before his bench in order to amass a fortune. Then, in the final moments of the film, Miss Dunne tries in vain to get him freed and vows to wait with the child until Huston is released. The film then ends.<br /><br />So, we basically have three separate films AND a bizarre early 30s idea of what a nice girl should be like. I gathered that she should be a strong-minded working girl who instantly becomes an idiot in her personal relationships! This really undoes all the positives about Dunne's character and it's really hard to imagine anyone liking the film. A strong women's rights advocate might easily be offended at how weak-minded and needy she was and religious people might see her as totally amoral or at least morally suspect! With a decent re-write, this could have been a good film or at least interesting as a lewd and salacious film, but it couldn't make up its mind WHAT it wanted to be and was just another dull Pre-Code film.",
         "0",
         "bad film central message muddled plot like result merge disparate script result make absolutely sense certainly film miss dunne mr. huston proud make film worth watch fan pre code film feature amazingly sleazy plot strongly say nice girl -- married partner br /><br />the film begin miss dunne social worker assist troop head europe wwi process meet scalawag bruce cabot eventually convince sleep pregnant go unsuspecting woman miss dunne want realize worth later baby die child birth controversial plot element allude -- like want adult audience know hope phrase film right way kid audience clueless film rate kid attend film time).<br /><br />surprisingly entire plot involve stillborn baby cabot end 1/4 way film mention allude film movie abandon -- tack film second phase film miss dunne unexpectedly begin work woman prison actually countless horrible scene severe abuse torture probably design titillate result violence miss dunne go crusade clean prison reformer famous writer.<br /><br />but blue type film emerge woman prison reform business go wayside dunne meet judge walter huston marry desperately want film dunne portray good girl -- unmarried sex cabot trick single irene tireless reformer good lady begin sleep married man tell wife estranged marry think investigate true assurance fly clothe baby make business pregnant love child indict crooked judge assure innocent convict sure sound like scoundrel -- inside information people come bench order amass fortune final moment film miss dunne try vain free vow wait child huston release film ends.<br /><br />so basically separate film bizarre early 30 idea nice girl like gather strong minded work girl instantly idiot personal relationship undo positive dunne character hard imagine like film strong woman right advocate easily offend weak minded needy religious people totally amoral morally suspect decent write good film interesting lewd salacious film mind want dull pre code film"
        ],
        [
         "41",
         "483",
         "One word can describe this movie and that is weird. I recorded this movie one day because it was a Japanese animation and it was old so I thought it would be interesting. Well it was, the movie is about a young boy who travels the universe to get a metal body so he can seek revenge. On the way he meets very colorful characters and must ultimately decide if he wants the body or not. Very strange, if you are a fan of animation/science-fiction you might want to check this out.",
         "2",
         "word describe movie weird record movie day japanese animation old think interesting movie young boy travel universe metal body seek revenge way meet colorful character ultimately decide want body strange fan animation science fiction want check"
        ],
        [
         "42",
         "511",
         "I can't stand most reality shows and this one is worst than the one with Paris Hilton, and sure it's his company. But \"you're fired\" or \"you're hired\", for how many seasons now? After watching the show I wouldn't want to work for the guy with his ego and all and I think watching paint dry has more entertainment valve.<br /><br />I'd love to hear just one person get up and say \"Donald I quit and take some of your money and buy a decent hairdo\". I see he's even trying to buy fame in the wrestling WWE. I hope he gets hurt so I don't have to see his pathetic face anymore. It must be sad to want fame so bad and have no talent and make an ass of yourself trying to buy it. I'd give this show a negative mark if I could but it gets a 1 and it doesn't deserve that.",
         "0",
         "stand reality show bad paris hilton sure company fire hire season watch want work guy ego think watch paint dry entertainment valve.<br /><br />i'd love hear person donald quit money buy decent hairdo try buy fame wrestling wwe hope get hurt pathetic face anymore sad want fame bad talent ass try buy negative mark get 1 deserve"
        ],
        [
         "43",
         "524",
         "You cannot deny that we have an affinity for speed. That's why movies like Fast and the Furious, Dhoom, Rempit get made to play to the satisfaction of audiences, especially local ones. We live on a tiny island, and I cannot fathom why, for the relative efficiency of the public transportation system, most of us want to get into debt by owning a set of wheels which come with 100% tax when they reach our shores, and the myriad of taxes and bills to pay when operating one. Not only that, the high end sports cars were once quipped by a prominent politician up north that they will never reach fourth gear, lest they reach the sea.<br /><br />And these movies are relatively easy to make. Hot wheels and hot chicks always go down well together in targeting the required demographic. For once, those plunging necklines exposing uncanny buxom and short skirts accentuating legs two meters long, can't compete with the attention given to those beautiful curves that exotic cars possess in movies such as these. Of course there are amongst us (ahem) those that go for the sexists portrayal of women as mere sexual objects (otherwise explain why motor shows come with truckloads of models, and movies such as these cannot do without a leggy model in a frame), however, they don't warrant the kind of collective orgasmic sighs whenever the four wheelers come on screen, even when they do exactly nothing and have their gears into Park. The guy sitting beside me, I swear he wet his pants every time his dream car(s) appear, and creamed his pants even more when he hears those growling engine moans.<br /><br />So there we have it, the fan boys who turned up in droves just to watch which of the latest cool cars get featured in the movie. With the Fast and the Furious franchise, the Japanese models like the Evos and the Skylines take centerstage, as does the GT. Here, the Ford GT takes on an incredibly drool-worthy facade modification, that even I'm impressed, alongside the latest models like the Ferrari Enzos, Porshe Carerra GTs, Koenigsegg CCXs, and every car out there that has wings for doors. But seriously, my heart goes out to the cars each time they're mercilessly wrecked just for entertainment. I mean, this are perfectly fine, high performance models that are at the apex of motoring, but yet because whoever financed the movie had millions to blow, they do so because they can,<br /><br />There's no story in Redline, just excuses to put together a movie full of beauties (the cars that is) that can rip down the tarmac in probably the most boring fashion possible, and with the usual shots of pedals (always the accelerator, mind you, tapping the brake pedal is tantamount to blasphemy, and earn you no respect), steering wheels, gear shifts (always shifting up and not down), all these while having the actors make pretend that they're the baddest asses with an engine, snarling and giving each other dirty looks. Not a very tall order for an actor, and that's why we get the most woeful performances ever, with lines that seem to be written by elementary schoolkids.<br /><br />The heroine (yes, it made a statement that girls can drive) Natasha (a very plasticky looking Nadia Bjorlin) is one of those million dollar finds - a girl with model looks who don't mind getting down on fours and immersed in oil, who has racing pedigree within her, and performs with a rock band singing songs with lyrics that are just plain laughable (every line had to do with cars, and when singing about love, just had to string those innuendos like shifting gear shafts, lubricants and going for rides). Introduced against her wishes to illegal racing by a gangsta called Infamous (Eddie Griffin), she gets drawn into family squabbles involving a Leo DiCaprio lookalike Iraq war veteran, and some sleazy lecherous looking rich uncle. Everything else, well like I said, just serves as an excuse for the movie to go from race to race.<br /><br />And it's almost always the same, as there's very limited to what you can do to heighten tension between race cars, especially when you know the race is rigged (for narrative reasons) and can see the race outcome a mile away from the finishing line. While Fast and Furious had quite charismatic actors, and I will put my head on the chopping block by naming Paul Walker, Sun Kang, and of course, the star it created - Vin Diesel, Redline had none, just pretty faces with lots of air unfortunately. It looks like a TV movie in its treatment from the get go, with a very insipid opening sequence where it's one man, one car, and a 105 minutes race against time to get to Vegas.<br /><br />If not for the cars, then this movie seriously is a piece of junk, with bad acting, bad lines and bad action. Strictly for the car fans, or those who like their movies with countless of bevy beauties who pimp their bodies without any speaking lines.",
         "0",
         "deny affinity speed movie like fast furious dhoom rempit play satisfaction audience especially local one live tiny island fathom relative efficiency public transportation system want debt own set wheel come 100 tax reach shore myriad taxis bill pay operate high end sport car quip prominent politician north reach fourth gear lest reach sea.<br /><br />and movie relatively easy hot wheel hot chick target require demographic plunge neckline expose uncanny buxom short skirt accentuate leg meter long compete attention give beautiful curve exotic car possess movie course ahem sexist portrayal woman mere sexual object explain motor show come truckload model movie leggy model frame warrant kind collective orgasmic sigh wheeler come screen exactly gear park guy sit swear wet pant time dream car(s appear cream pant hear growl engine moans.<br /><br />so fan boy turn drove watch late cool car feature movie fast furious franchise japanese model like evos skyline centerstage gt ford gt take incredibly drool worthy facade modification impressed alongside late model like ferrari enzos porshe carerra gt koenigsegg ccxs car wing door seriously heart go car time mercilessly wreck entertainment mean perfectly fine high performance model apex motoring finance movie million blow can,<br /><br />there story redline excuse movie beauty car rip tarmac probably boring fashion possible usual shot pedal accelerator mind tap brake pedal tantamount blasphemy earn respect steer wheel gear shift shift have actor pretend badd ass engine snarl give dirty look tall order actor woeful performance line write elementary schoolkids.<br /><br />the heroine yes statement girl drive natasha plasticky look nadia bjorlin million dollar find girl model look mind get four immerse oil race pedigree perform rock band singing song lyric plain laughable line car singe love string innuendo like shift gear shaft lubricant go ride introduce wish illegal racing gangsta call infamous eddie griffin get draw family squabble involve leo dicaprio lookalike iraq war veteran sleazy lecherous look rich uncle like say serve excuse movie race race.<br /><br />and limited heighten tension race car especially know race rig narrative reason race outcome mile away finish line fast furious charismatic actor head chop block name paul walker sun kang course star create vin diesel redline pretty face lot air unfortunately look like tv movie treatment insipid opening sequence man car 105 minute race time vegas.<br /><br />if car movie seriously piece junk bad act bad line bad action strictly car fan like movie countless bevy beauty pimp body speak line"
        ],
        [
         "44",
         "530",
         "I gave this a 1. There are so many plot twists that you can never be sure to root for. Total mayhem. Everyone gets killed or nearly so. I am tired of cross hairs and changing views. I cannot give the plot away. Convoluted and insane. If I had paid to see this I would demand my money back. I wish reviews were more honest.",
         "0",
         "give 1 plot twist sure root total mayhem get kill nearly tired cross hair change view plot away convoluted insane pay demand money wish review honest"
        ],
        [
         "45",
         "555",
         "I went to see \"Passion of Mind\" because I usually get a kick out of the genre of alternate reality romances, i.e. \"Sliding Doors,\" \"Me, Myself, I,\" etc. <br /><br />But this was the worst one I've ever seen! I had to force myself to sit through it. I didn't even stay through the credits which is unheard of for me.<br /><br />The magical realism was completely missing because Demi Moore was grim and the lovers she was two-timing were guys who usually play villains, though each was kind of sexy and appealing.<br /><br />There was actually a psychological explanation provided for the dual lives, with a distasteful frisson of The Elektra Complex; maybe the magic shouldn't be explained for this genre to work.<br /><br />(originally written 5/28/2000)",
         "0",
         "go passion mind usually kick genre alternate reality romance i.e. sliding door etc br /><br />but bad see force sit stay credit unheard me.<br /><br />the magical realism completely missing demi moore grim lover timing guy usually play villain kind sexy appealing.<br /><br />there actually psychological explanation provide dual life distasteful frisson elektra complex maybe magic explain genre work.<br /><br />(originally write 5/28/2000"
        ],
        [
         "46",
         "587",
         "Although promoted as one of the most sincere Turkish films with an amateur cast, Ice-cream, I Scream is more like a caricature of sincerity.<br /><br />The plot opens with the dream of Ali, a traveling ice-cream salesman in a Western Anatolia town, in which he sees himself becoming successful using the same marketing methods of big ice-cream companies. He dreams of playing in his product's TV commercial with beautiful models in bikinis, dancing around him. As his dream turns into a nightmare, he wakes up with a big erection next to his gargantuan wife, who rejects to make sex with him for 6 years with no apparent reason. Is it because he is not successful in his job? Apparently, because he says he was selling better in the old days when there was no pressure from global ice-cream companies. But this is what he says; we actually don't see him suffer that much: he still sells good, traveling the neighboring villages while his apprentice stays at the shop, selling ice-cream to the people in the town. Ali blames big companies for using sweetening and coloring agents while he is using real \"sahlep\" (powdered roots of mountain orchids). Ali buys a motorbike with a bank loan to be a traveling vendor, and gives ads to a local TV channel which prefers to broadcast even the news bulletin in local dialect. His wife is not fond of his ways of doing business, they always quarrel, and Ali threatens her that he may do very bad things in a moment of frenzy.<br /><br />In a very successful day, his lousy bike is stolen by the misbehaving little boys of the town. In search of his stolen bike, Ali goes to the police, blames the big companies for the theft, but, of course, nobody takes him seriously. Annoyed by the nagging of his wife, Ali goes to a tavern and becomes drunk. One of his friends at his table, a wannabe socialist of the town, gives a didactic speech and criticizes globalism, and with no real connection, jumps to the subject of global freezing. Ali returns home and decides to kill himself with poison. His wife wakes up and prevents him. An old neighbor takes him to a night walk and advises him about life. According to him, Ali can even sell hot sahlep drink if the world faces with global freezing. When he returns home, suddenly we see that his wife understood his value, treating him like a hero and praising his manhood. Meanwhile, the thief boys got sick eating too much ice-cream. They confess to the doctor that they stole Ali's bike. Ali forgives them and there comes the happy end.<br /><br />Although the plot may look promising in a way, it's the story-telling which makes this film insincere and cheesy. First, the director doesn't show much of an effort to tell the story visually; everything is based on dialogs. And the dialogs never stop to show us that cinema is actually a visual art. Even Ali's troubles are not convincing because we don't see it, we just understand it from his words. The director markets his film as a righteous fight of Ali against big ice-cream companies, but there is nothing in the film about big companies. We don't see their pressure enough. The film actually ridicules Ali for believing that big companies are behind the theft. And when his motorbike is found, it solves every problem: Ali becomes a happy and powerful husband. Not a real criticism of globalism.<br /><br />Second, the film is cheesy because of the crude humor. Maybe the people of that part of Turkey is cursing so much and making so many vulgar jokes in their daily life, but vulgar language and crude humor are not enough to make a film funny. I may have accepted it if they were both vulgar and \"clever\" but they are not clever jokes at all, they are just cheesy. Maybe I'm wrong, maybe American people may like oriental version of American Pie style humor. But American Pie never had any claim to be a nominee for the Oscars, or to have a political message! If you think that you can laugh by just seeing a man's big erection in his shorts (and we had to endure this joke twice!) or an old villager woman saying \"f**k you,\" then you may find this film funny.",
         "0",
         "promote sincere turkish film amateur cast ice cream scream like caricature sincerity.<br /><br />the plot open dream ali travel ice cream salesman western anatolia town see successful marketing method big ice cream company dream play product tv commercial beautiful model bikinis dance dream turn nightmare wake big erection gargantuan wife reject sex 6 year apparent reason successful job apparently say sell well old day pressure global ice cream company say actually suffer sell good travel neighbor village apprentice stay shop sell ice cream people town ali blame big company sweeten color agent real sahlep powdered root mountain orchid ali buy motorbike bank loan travel vendor give ad local tv channel prefer broadcast news bulletin local dialect wife fond way business quarrel ali threaten bad thing moment frenzy.<br /><br />in successful day lousy bike steal misbehaving little boy town search steal bike ali go police blame big company theft course take seriously annoy nagging wife ali go tavern drunk friend table wannabe socialist town give didactic speech criticize globalism real connection jump subject global freezing ali return home decide kill poison wife wake prevent old neighbor take night walk advise life accord ali sell hot sahlep drink world face global freezing return home suddenly wife understand value treat like hero praise manhood thief boy get sick eat ice cream confess doctor steal ali bike ali forgive come happy end.<br /><br />although plot look promise way story telling make film insincere cheesy director effort tell story visually base dialog dialog stop cinema actually visual art ali trouble convincing understand word director market film righteous fight ali big ice cream company film big company pressure film actually ridicule ali believe big company theft motorbike find solve problem ali happy powerful husband real criticism globalism.<br /><br />second film cheesy crude humor maybe people turkey curse make vulgar joke daily life vulgar language crude humor film funny accept vulgar clever clever joke cheesy maybe wrong maybe american people like oriental version american pie style humor american pie claim nominee oscars political message think laugh see man big erection short endure joke twice old villager woman say f**k find film funny"
        ],
        [
         "47",
         "597",
         "In short if you want to watch Burt Reynolds best films than this one must be included. If you don't like Burt you may still like this. If you love Burt this may become one of your favorite movies of all time! Being from Atlanta it does hit home but it's also nice to see a cop/action/drama that takes place somewhere other than NY City, Chicago, Miami, or LA. The film is funny at points with & good plot & good performances from a great supporting cast (every character is real & the bad guys are not so one sided they are really well thought out)A nice offbeat romance in the 2nd half & it has some good old fashion shootouts & fistfights (no CGI thank God REAL ACTION!)<br /><br />If Clint Eastwood did his best impression of a Burt Reynolds movie with \"Every Which Way But Loose\" & \"Any Which Way You Can\" then Burt responded with his best Clint type flick with this, & it comes off great!",
         "2",
         "short want watch burt reynolds good film include like burt like love burt favorite movie time atlanta hit home nice cop action drama take place ny city chicago miami la film funny point good plot good performance great support cast character real bad guy side think out)a nice offbeat romance 2nd half good old fashion shootout fistfight cgi thank god real action!)<br /><br />if clint eastwood good impression burt reynolds movie way loose way burt respond good clint type flick come great"
        ],
        [
         "48",
         "622",
         "These slasher pics are past their sell by date, but this one is good fun.<br /><br />The valentine cards themselves are witty, and well thought out.<br /><br />The film has one Peach of a line... \"He's no Angel....\" when he in fact IS Angel!!! Watching Buffy reruns will never be the same!<br /><br />The cast is a sizzling display of young talent, but the story does not give them enough real depth. Denise Richards on the DVD extras seemed to think the girls on set bonded well together and this would give the feeling that you empathised with their characters. Sorry but NO!<br /><br />The direction is very good, managing to show very little actual gore, and relying on your imaginations implied threat. Much can be said also for the similar manner in which Miss Richards and Heigel do not remove their clothes...:-(<br /><br />Essentially, the main directorial plus, lies within the \"borrowing\" of various other ideas from previous slasher flicks. Psycho's shower scene is tributed, along with Halloween's \"masking\". <br /><br />Murdering someone hiding in a bodybag though is a pretty original one as far as I know!!!<br /><br />Light viewing, not very scary but a few good jump moments. If it was a choice between The Hole and this though, choose The Hole. Slasher movies have had their day, and this is just another slasher. A very good slasher, but nothing groundbreaking!!!",
         "2",
         "slasher pic past sell date good fun.<br /><br />the valentine card witty think out.<br /><br />the film peach line ... angel .... fact angel watch buffy rerun same!<br /><br />the cast sizzling display young talent story real depth denise richards dvd extras think girl set bond feeling empathise character sorry no!<br /><br />the direction good manage little actual gore rely imagination imply threat say similar manner miss richards heigel remove clothe ... :-(<br /><br />essentially main directorial plus lie borrowing idea previous slasher flick psycho shower scene tribute halloween mask br /><br />murdering hide bodybag pretty original far know!!!<br /><br />light view scary good jump moment choice hole choose hole slasher movie day slasher good slasher groundbreake"
        ],
        [
         "49",
         "652",
         "As usual, I am making a mad dash to see the movies I haven't watched yet in anticipation of the Oscars. I was really looking forward to seeing this movie as it seemed to be right up my alley. I can not for the life of me understand why this movie has gotten the buzz it has. There is no story!! A group of guys meander around Iraq. One day they are here diffusing a bomb. Tomorrow they are tooling around the countryside, by themselves no less and start taking sniper fire. No wait here they are back in Bagdad. There is no cohesive story at all. The three main characters are so overly characterized that they are mere caricatures. By that I mean, we have the sweet kid who is afraid of dying. We have the hardened military man who is practical and just wants to get back safe. And then we have the daredevil cowboy who doesn't follow the rules but has a soft spot for the precocious little Iraqi boy trying to sell soldiers DVDs. What do you think is going to happen??? Well, do you think the cowboy soldier who doesn't follow rules is going to get the sweet kid injured with his renegade ways?? Why yes! Do you think the Iraqi kid that cowboy soldier has a soft spot for is going to get killed and make him go crazy? Why yes! There is no story here. The script is juvenile and predictable! The camera is shaken around a lot to make it look \"artsy\". And for all of you who think this is such a great war picture, go rent \"Full Metal Jacket\", \"Deerhunter\" or \"Platoon\". Don't waste time or money on this boring movie!",
         "0",
         "usual make mad dash movie watch anticipation oscars look forward see movie right alley life understand movie get buzz story group guy meander iraq day diffuse bomb tomorrow tool countryside start take sniper fire wait bagdad cohesive story main character overly characterize mere caricature mean sweet kid afraid die hardened military man practical want safe daredevil cowboy follow rule soft spot precocious little iraqi boy try sell soldier dvd think go happen think cowboy soldier follow rule go sweet kid injure renegade way yes think iraqi kid cowboy soldier soft spot go kill crazy yes story script juvenile predictable camera shake lot look artsy think great war picture rent metal jacket deerhunter platoon waste time money boring movie"
        ]
       ],
       "shape": {
        "columns": 4,
        "rows": 25418
       }
      },
      "text/html": [
       "<div>\n",
       "<style scoped>\n",
       "    .dataframe tbody tr th:only-of-type {\n",
       "        vertical-align: middle;\n",
       "    }\n",
       "\n",
       "    .dataframe tbody tr th {\n",
       "        vertical-align: top;\n",
       "    }\n",
       "\n",
       "    .dataframe thead th {\n",
       "        text-align: right;\n",
       "    }\n",
       "</style>\n",
       "<table border=\"1\" class=\"dataframe\">\n",
       "  <thead>\n",
       "    <tr style=\"text-align: right;\">\n",
       "      <th></th>\n",
       "      <th>Unnamed: 0</th>\n",
       "      <th>text</th>\n",
       "      <th>label</th>\n",
       "      <th>preprocess_text</th>\n",
       "    </tr>\n",
       "  </thead>\n",
       "  <tbody>\n",
       "    <tr>\n",
       "      <th>0</th>\n",
       "      <td>7</td>\n",
       "      <td>This show was an amazing, fresh &amp; innovative i...</td>\n",
       "      <td>0</td>\n",
       "      <td>amazing fresh innovative idea 70 air 7 8 year ...</td>\n",
       "    </tr>\n",
       "    <tr>\n",
       "      <th>1</th>\n",
       "      <td>14</td>\n",
       "      <td>This a fantastic movie of three prisoners who ...</td>\n",
       "      <td>2</td>\n",
       "      <td>fantastic movie prisoner famous actor george c...</td>\n",
       "    </tr>\n",
       "    <tr>\n",
       "      <th>2</th>\n",
       "      <td>32</td>\n",
       "      <td>My first exposure to the Templarios &amp; not a go...</td>\n",
       "      <td>0</td>\n",
       "      <td>exposure templarios good excited find title of...</td>\n",
       "    </tr>\n",
       "    <tr>\n",
       "      <th>3</th>\n",
       "      <td>43</td>\n",
       "      <td>I had heard good things about \"States of Grace...</td>\n",
       "      <td>0</td>\n",
       "      <td>hear good thing states grace come open mind th...</td>\n",
       "    </tr>\n",
       "    <tr>\n",
       "      <th>4</th>\n",
       "      <td>53</td>\n",
       "      <td>I cannot believe I enjoyed this as much as I d...</td>\n",
       "      <td>2</td>\n",
       "      <td>believe enjoy anthology story well par link st...</td>\n",
       "    </tr>\n",
       "    <tr>\n",
       "      <th>...</th>\n",
       "      <td>...</td>\n",
       "      <td>...</td>\n",
       "      <td>...</td>\n",
       "      <td>...</td>\n",
       "    </tr>\n",
       "    <tr>\n",
       "      <th>25413</th>\n",
       "      <td>678916</td>\n",
       "      <td>Let me start by telling you what they got righ...</td>\n",
       "      <td>1</td>\n",
       "      <td>let start tell get right story good rely comic...</td>\n",
       "    </tr>\n",
       "    <tr>\n",
       "      <th>25414</th>\n",
       "      <td>678933</td>\n",
       "      <td>I was disappointed when our check in time was ...</td>\n",
       "      <td>1</td>\n",
       "      <td>disappoint check time 11:30am 12:30pm   wait h...</td>\n",
       "    </tr>\n",
       "    <tr>\n",
       "      <th>25415</th>\n",
       "      <td>678949</td>\n",
       "      <td>Don't. Just don't. Every horrible thing people...</td>\n",
       "      <td>1</td>\n",
       "      <td>horrible thing people say 100 true read review...</td>\n",
       "    </tr>\n",
       "    <tr>\n",
       "      <th>25416</th>\n",
       "      <td>678981</td>\n",
       "      <td>This used be Cathy House. . Now The Jade. . It...</td>\n",
       "      <td>2</td>\n",
       "      <td>cathy house jade improvement dim sum way well ...</td>\n",
       "    </tr>\n",
       "    <tr>\n",
       "      <th>25417</th>\n",
       "      <td>679006</td>\n",
       "      <td>Long line, inefficient staff. Maybe my expecta...</td>\n",
       "      <td>1</td>\n",
       "      <td>long line inefficient staff maybe expectation ...</td>\n",
       "    </tr>\n",
       "  </tbody>\n",
       "</table>\n",
       "<p>25418 rows × 4 columns</p>\n",
       "</div>"
      ],
      "text/plain": [
       "       Unnamed: 0                                               text  label  \\\n",
       "0               7  This show was an amazing, fresh & innovative i...      0   \n",
       "1              14  This a fantastic movie of three prisoners who ...      2   \n",
       "2              32  My first exposure to the Templarios & not a go...      0   \n",
       "3              43  I had heard good things about \"States of Grace...      0   \n",
       "4              53  I cannot believe I enjoyed this as much as I d...      2   \n",
       "...           ...                                                ...    ...   \n",
       "25413      678916  Let me start by telling you what they got righ...      1   \n",
       "25414      678933  I was disappointed when our check in time was ...      1   \n",
       "25415      678949  Don't. Just don't. Every horrible thing people...      1   \n",
       "25416      678981  This used be Cathy House. . Now The Jade. . It...      2   \n",
       "25417      679006  Long line, inefficient staff. Maybe my expecta...      1   \n",
       "\n",
       "                                         preprocess_text  \n",
       "0      amazing fresh innovative idea 70 air 7 8 year ...  \n",
       "1      fantastic movie prisoner famous actor george c...  \n",
       "2      exposure templarios good excited find title of...  \n",
       "3      hear good thing states grace come open mind th...  \n",
       "4      believe enjoy anthology story well par link st...  \n",
       "...                                                  ...  \n",
       "25413  let start tell get right story good rely comic...  \n",
       "25414  disappoint check time 11:30am 12:30pm   wait h...  \n",
       "25415  horrible thing people say 100 true read review...  \n",
       "25416  cathy house jade improvement dim sum way well ...  \n",
       "25417  long line inefficient staff maybe expectation ...  \n",
       "\n",
       "[25418 rows x 4 columns]"
      ]
     },
     "execution_count": 112,
     "metadata": {},
     "output_type": "execute_result"
    }
   ],
   "source": [
    "df = pd.read_csv(\"./low_confidence_samples/big_data.csv\")\n",
    "df"
   ]
  },
  {
   "cell_type": "code",
   "execution_count": 113,
   "id": "2411eb17",
   "metadata": {},
   "outputs": [],
   "source": [
    "df_train, df_test = train_test_split(df, test_size=0.3, shuffle=True)\n",
    "\n",
    "# Ensure text data is a list of strings and drop missing values\n",
    "df_train['text'] = df_train['preprocess_text'].astype(str)\n",
    "df_test['text'] = df_test['preprocess_text'].astype(str)\n",
    "\n",
    "# Ensure text is lowercase\n",
    "df_train['text'] = df_train['text'].str.lower()\n",
    "df_test['text'] = df_test['text'].str.lower()\n",
    "\n",
    "df_train['label'] = df_train['label'].astype(int)\n",
    "df_test['label'] = df_test['label'].astype(int)"
   ]
  },
  {
   "cell_type": "code",
   "execution_count": 114,
   "id": "e999af19",
   "metadata": {},
   "outputs": [
    {
     "data": {
      "application/vnd.microsoft.datawrangler.viewer.v0+json": {
       "columns": [
        {
         "name": "index",
         "rawType": "int64",
         "type": "integer"
        },
        {
         "name": "Unnamed: 0",
         "rawType": "int64",
         "type": "integer"
        },
        {
         "name": "text",
         "rawType": "object",
         "type": "string"
        },
        {
         "name": "label",
         "rawType": "int64",
         "type": "integer"
        },
        {
         "name": "preprocess_text",
         "rawType": "object",
         "type": "string"
        }
       ],
       "conversionMethod": "pd.DataFrame",
       "ref": "ce656ec0-bab9-4b99-83c7-697b5ca2566e",
       "rows": [
        [
         "13463",
         "288325",
         "word \\\"premium\\   place outdate think selection store boring   good news especially summer time indoor mall unlike north outlets well selection store outside   interesting store think continue bypass",
         "1",
         "word \\\"premium\\   place outdate think selection store boring   good news especially summer time indoor mall unlike north outlets well selection store outside   interesting store think continue bypass"
        ],
        [
         "24623",
         "648051",
         "come breakfast 10 find customer good sign super friendly fast server ... people wifey try bacon bloody mary great bloody bacon taste old try southwest omelet flat griddle omelet fold green chili cover cheese hash brown   undercooked devoid seasoning truck stop breakfast \\nwifey bacon eggs .. gotta safe right egg ok hashbrowns limp undercooked seasoning lastly bacon thin slice bacon see like joke place call bacon ha like 99 cent strip breakfast.\\nmay return try burger hear good worth stop breakfast",
         "1",
         "come breakfast 10 find customer good sign super friendly fast server ... people wifey try bacon bloody mary great bloody bacon taste old try southwest omelet flat griddle omelet fold green chili cover cheese hash brown   undercooked devoid seasoning truck stop breakfast \\nwifey bacon eggs .. gotta safe right egg ok hashbrowns limp undercooked seasoning lastly bacon thin slice bacon see like joke place call bacon ha like 99 cent strip breakfast.\\nmay return try burger hear good worth stop breakfast"
        ],
        [
         "2184",
         "27159",
         "anybody movie comedy go finacee fall asleep ask money love gwen paltrow like wrong set like chick flick hate time see clevage turn outfit way overdone talk way anymore think dancing horrible ex say later ... \"didn't ya like ya think sensous say yes spare feeling know marry bad movie see",
         "0",
         "anybody movie comedy go finacee fall asleep ask money love gwen paltrow like wrong set like chick flick hate time see clevage turn outfit way overdone talk way anymore think dancing horrible ex say later ... \"didn't ya like ya think sensous say yes spare feeling know marry bad movie see"
        ],
        [
         "14371",
         "316305",
         "begrudge pei wei   question star pei wei question theory award star   fast asian kitchen worthy star good   live mastro houston restaurant ilk?\\n\\nmy perspective grade attempt   great place quick bite tasty asian food   offering rarely disappointed.\\n\\nspicy korean delicious brown rice extra veggie consider healthy   mongolian beef sweet savory way mongolian beef   kung pao chicken spicy flavorful   groundbreake     order online pick 9 minute later worthy mention.\\n\\nalso worthy mention delicious crab wonton delightful rendition sweet sour sauce   probably good crab wonton world -- prime meridian   course chinese ppl probably clue real chinese food.\\n\\nlook say pei wei executive chef go to win battle kitchen stadium pei wei sort thing knucklehead   quick expensive tasty",
         "2",
         "begrudge pei wei   question star pei wei question theory award star   fast asian kitchen worthy star good   live mastro houston restaurant ilk?\\n\\nmy perspective grade attempt   great place quick bite tasty asian food   offering rarely disappointed.\\n\\nspicy korean delicious brown rice extra veggie consider healthy   mongolian beef sweet savory way mongolian beef   kung pao chicken spicy flavorful   groundbreake     order online pick 9 minute later worthy mention.\\n\\nalso worthy mention delicious crab wonton delightful rendition sweet sour sauce   probably good crab wonton world -- prime meridian   course chinese ppl probably clue real chinese food.\\n\\nlook say pei wei executive chef go to win battle kitchen stadium pei wei sort thing knucklehead   quick expensive tasty"
        ],
        [
         "5945",
         "72151",
         "diy acid wash short can`t wait look like",
         "1",
         "diy acid wash short can`t wait look like"
        ],
        [
         "17538",
         "414926",
         "stop dinner client rave gyro opinion busy monday night mistake order dinner instead sandwich dinner come ginormous meat(and fry buck sweet time sandwich(less bucks)--my boyfriend feel meated max.\\n\\ni definitely come try thing menu",
         "2",
         "stop dinner client rave gyro opinion busy monday night mistake order dinner instead sandwich dinner come ginormous meat(and fry buck sweet time sandwich(less bucks)--my boyfriend feel meated max.\\n\\ni definitely come try thing menu"
        ],
        [
         "20962",
         "524621",
         "go store walk chaotic warfare day ashleys hand 2,000 credit limit customer complain wait 5 hour simply wait 2 greet friendly manner assist thoroughly time purchase furniture way employee manager assist extremely friendly complaint visit future purchase",
         "2",
         "go store walk chaotic warfare day ashleys hand 2,000 credit limit customer complain wait 5 hour simply wait 2 greet friendly manner assist thoroughly time purchase furniture way employee manager assist extremely friendly complaint visit future purchase"
        ],
        [
         "4073",
         "50029",
         "ac fan not swing way ... sweat hot humid day",
         "0",
         "ac fan not swing way ... sweat hot humid day"
        ],
        [
         "6162",
         "74480",
         "late obession",
         "2",
         "late obession"
        ],
        [
         "17993",
         "428930",
         "beautiful club seriousl line situation crazy nkow forget lot money lot lady remember guarantee overbook bottle service 10 pm msut buy 3 5 bottle group 4 \\n\\nit look like tryst lot big instead waterfall encore pool area \\n\\nlook nice try",
         "2",
         "beautiful club seriousl line situation crazy nkow forget lot money lot lady remember guarantee overbook bottle service 10 pm msut buy 3 5 bottle group 4 \\n\\nit look like tryst lot big instead waterfall encore pool area \\n\\nlook nice try"
        ],
        [
         "8037",
         "120935",
         "coffee drinker spot believe freedom choice defend life right choose go drink coffee drink coffee flavor foo foo stuff.\\n\\nmy visit yelp glint founder father eye listen old man founder tell old day man die coffee roaster catch fire explode sure true story hey old man fresh college like college student common sense eventually come story.\\n\\nwell take show raw bean roast interesting cup coffee bean roaster slightly cool grind french press let steep 4 minute damn good cup joe day buy french press go nicholas coffee buy pound espresso roast hook since.\\n\\nthere place coffee city place top list",
         "2",
         "coffee drinker spot believe freedom choice defend life right choose go drink coffee drink coffee flavor foo foo stuff.\\n\\nmy visit yelp glint founder father eye listen old man founder tell old day man die coffee roaster catch fire explode sure true story hey old man fresh college like college student common sense eventually come story.\\n\\nwell take show raw bean roast interesting cup coffee bean roaster slightly cool grind french press let steep 4 minute damn good cup joe day buy french press go nicholas coffee buy pound espresso roast hook since.\\n\\nthere place coffee city place top list"
        ],
        [
         "23199",
         "599672",
         "go thursday night friend night groupon coupon know start restaurant confused tapas server raw veggie sort sour cream dip tapas amateurish serve dish potato cake guess suppose spin spanish torta cold mushy leave bad taste friend leave bad case heartburn use can tomato dish 11 tapas 7 \\nhowever service great waitress amazing super attentive",
         "1",
         "go thursday night friend night groupon coupon know start restaurant confused tapas server raw veggie sort sour cream dip tapas amateurish serve dish potato cake guess suppose spin spanish torta cold mushy leave bad taste friend leave bad case heartburn use can tomato dish 11 tapas 7 \\nhowever service great waitress amazing super attentive"
        ],
        [
         "4128",
         "50611",
         "  check yourz rayne",
         "1",
         "  check yourz rayne"
        ],
        [
         "6242",
         "75373",
         "  daughter 20 ... that say miss days` ... sooo fast",
         "0",
         "  daughter 20 ... that say miss days` ... sooo fast"
        ],
        [
         "21410",
         "540122",
         "nice place heart wesmount \\n\\ni go fairly large group 9 people show   large table interesting \\\"sunken\\ portion restaurant furniture appear brand new modern think flat screen tv show 15 minute loop italian tourism video kind tacky whatever.\\n\\ni happy eat good thing night little meatball serve sort pre appetizer excellent bread immediately check menu meatball dish offer disappoint find one.\\n\\ni order table d'h\\u00f4te choose spicy mussel appetizer pasta dish sausage escape brownie dessert eat great star base experience.\\n\\nseveral people party order veal dish involve baily liquor think veal kind sauce touch baily end nicely prepare veal straight bailey pour people table order dish describe disgusting \\n\\nnow half group receive meal describe barely edible leave say definitely excellent customer service waiter immediately offer replace meal happy take offer offer appreciate end meal give free glass port apology hope come s \\n\\ni'm go ascribe weird baily veal dish chef push envelope little far surprised menu time there.\\n\\nmy wife order table d'h\\u00f4te wine alcohol bill 55.00 tip extremely reasonable consider atmosphere quality service food serve restaurant regular menu appetizer 12.00 16.00 entree range 23.00 35.00.\\n\\nthis place take care large group good place date interior hip modern quiet hold conversation table.\\n\\nwe definitely go",
         "2",
         "nice place heart wesmount \\n\\ni go fairly large group 9 people show   large table interesting \\\"sunken\\ portion restaurant furniture appear brand new modern think flat screen tv show 15 minute loop italian tourism video kind tacky whatever.\\n\\ni happy eat good thing night little meatball serve sort pre appetizer excellent bread immediately check menu meatball dish offer disappoint find one.\\n\\ni order table d'h\\u00f4te choose spicy mussel appetizer pasta dish sausage escape brownie dessert eat great star base experience.\\n\\nseveral people party order veal dish involve baily liquor think veal kind sauce touch baily end nicely prepare veal straight bailey pour people table order dish describe disgusting \\n\\nnow half group receive meal describe barely edible leave say definitely excellent customer service waiter immediately offer replace meal happy take offer offer appreciate end meal give free glass port apology hope come s \\n\\ni'm go ascribe weird baily veal dish chef push envelope little far surprised menu time there.\\n\\nmy wife order table d'h\\u00f4te wine alcohol bill 55.00 tip extremely reasonable consider atmosphere quality service food serve restaurant regular menu appetizer 12.00 16.00 entree range 23.00 35.00.\\n\\nthis place take care large group good place date interior hip modern quiet hold conversation table.\\n\\nwe definitely go"
        ],
        [
         "2045",
         "25555",
         "humor daddy poor taste actually close eye certain scene close up semen funny think people nervous gross hide nervousness laugh watch daddy give disgusting nervous feeling",
         "0",
         "humor daddy poor taste actually close eye certain scene close up semen funny think people nervous gross hide nervousness laugh watch daddy give disgusting nervous feeling"
        ],
        [
         "12980",
         "274965",
         "enjoy restaurant like \\\"like minded\\ company   folk disillusioned self absorb thing moment victual .... hello excellent establishment celebrate fine food .... \\n\\none person keep go downstairs bar 8 minute check basketball game \\nanother person mortify price live buzz kill ... thought \\\"bitch ... know go y u surprized?\\   \\none child sit end spill glass icy cold water lap ... need bath later air dry \\nso instead wait staff seat table ... decide place new linen napkin wet spot table like drape picnic blanket fresh spring grass minus 3 stars)\\nif food h e l l.\\n\\nmy menu recommendation:\\n\\nappetizer-\\nhudson valley foie gras slow roasted cauliflower vine ripen preserve apricot 20 year old balsamic grill flat bread savory rich foie gras marry nicely sweetness preserve apricot ... simply exquisite \\n\\nmain course-\\ntheir signature dish- butter poach main lobster basil licorice   risotto chorizo infuse wax bean lemon monte honest enjoy basil licorice risotto chorizo infuse wax bean lobster \\n\\ndessert-\\nyou get to try rick moonen ice cream tasting game 16 different flavor ice cream sorbet serve little porcelain cup taste balsamic vinegar ice cream caramel apple ice cream",
         "1",
         "enjoy restaurant like \\\"like minded\\ company   folk disillusioned self absorb thing moment victual .... hello excellent establishment celebrate fine food .... \\n\\none person keep go downstairs bar 8 minute check basketball game \\nanother person mortify price live buzz kill ... thought \\\"bitch ... know go y u surprized?\\   \\none child sit end spill glass icy cold water lap ... need bath later air dry \\nso instead wait staff seat table ... decide place new linen napkin wet spot table like drape picnic blanket fresh spring grass minus 3 stars)\\nif food h e l l.\\n\\nmy menu recommendation:\\n\\nappetizer-\\nhudson valley foie gras slow roasted cauliflower vine ripen preserve apricot 20 year old balsamic grill flat bread savory rich foie gras marry nicely sweetness preserve apricot ... simply exquisite \\n\\nmain course-\\ntheir signature dish- butter poach main lobster basil licorice   risotto chorizo infuse wax bean lemon monte honest enjoy basil licorice risotto chorizo infuse wax bean lobster \\n\\ndessert-\\nyou get to try rick moonen ice cream tasting game 16 different flavor ice cream sorbet serve little porcelain cup taste balsamic vinegar ice cream caramel apple ice cream"
        ],
        [
         "16114",
         "370413",
         "5 young lady talent waste production.\\nooh la la produce anthony cools.\\nhe try infuse type sophmoric humor go hypnotist show.\\nas topless production producer make fine hypnotist.\\ni wonder try hypnotize late eveing crowd 11 pm   theater run .. think good stuff.\\nit .... \\nthe girl attractive extrremely flexible \\nthey begin give \\\"backstage glimpse\\ preparation stretching routine .... \\nthen starts.\\nthe segment connection trite best.\\nthe girl work hard wonder bore perform crappy routine develop them.\\nthe room small amd provide opportunity intimate contact experience .... \\nbut fact opportunity lose mr. cools.\\nthe highlite night gymnastic type ring routine ..... \\n(this bill t&a show)\\ngood try lady certainly .... \\nanthony stick hypnotism let producer worthy paris hotel ......   \\nnot want \\nuntil ....... new production",
         "1",
         "5 young lady talent waste production.\\nooh la la produce anthony cools.\\nhe try infuse type sophmoric humor go hypnotist show.\\nas topless production producer make fine hypnotist.\\ni wonder try hypnotize late eveing crowd 11 pm   theater run .. think good stuff.\\nit .... \\nthe girl attractive extrremely flexible \\nthey begin give \\\"backstage glimpse\\ preparation stretching routine .... \\nthen starts.\\nthe segment connection trite best.\\nthe girl work hard wonder bore perform crappy routine develop them.\\nthe room small amd provide opportunity intimate contact experience .... \\nbut fact opportunity lose mr. cools.\\nthe highlite night gymnastic type ring routine ..... \\n(this bill t&a show)\\ngood try lady certainly .... \\nanthony stick hypnotism let producer worthy paris hotel ......   \\nnot want \\nuntil ....... new production"
        ],
        [
         "23373",
         "605272",
         "come lunch positive kid play area lobster bisque kid mac n cheese good sized sandwich negative take close 45 min receive food ask refill sandwich special come good day order certain food great time",
         "2",
         "come lunch positive kid play area lobster bisque kid mac n cheese good sized sandwich negative take close 45 min receive food ask refill sandwich special come good day order certain food great time"
        ],
        [
         "5833",
         "70882",
         "  hiyaa tour disappointed couldn`t    hope dandy ;) xxxxxxxx",
         "0",
         "  hiyaa tour disappointed couldn`t    hope dandy ;) xxxxxxxx"
        ],
        [
         "4770",
         "58318",
         "ask possibly photo receive diploma dad`s camera die right moment",
         "0",
         "ask possibly photo receive diploma dad`s camera die right moment"
        ],
        [
         "13748",
         "297624",
         "recently visit las vegas nevada past visit cheesecake factory order \\\"chicken picata entree\\ awesome consist lemon flavor chicken mixed/ cook high quality ingredient angel hair pasta majority menu outstanding choose matter mood ask server good ideal selection customer service stellar price steep service food quality place usually tops/ well 5 star rating restaurant vegas strip will not spend money location inside caesar palace mall forum shop nearby aquarium usually great job get situate arrival usually visit middle week",
         "2",
         "recently visit las vegas nevada past visit cheesecake factory order \\\"chicken picata entree\\ awesome consist lemon flavor chicken mixed/ cook high quality ingredient angel hair pasta majority menu outstanding choose matter mood ask server good ideal selection customer service stellar price steep service food quality place usually tops/ well 5 star rating restaurant vegas strip will not spend money location inside caesar palace mall forum shop nearby aquarium usually great job get situate arrival usually visit middle week"
        ],
        [
         "10734",
         "210169",
         "go kyoto nearly 10 year far favorite scottsdale sushi place bento box lunch special incredible regretably change opinion \\n\\nthe service go downhill drastically bf love 8 sashimi box like salmon sub tuna 9x 10 order come wrong 1 time sit water glass 15 min stop go \\n\\nyesterday decide kyoto 2nd chance service perfectly fine time notice new face lament ... sashimi warm mushy want eat give bf guess spend 24 hrs sit porcelain throne \\n\\nyes az hot fit eat ... don't serve \\n\\ni'm truly sad think go mood cook",
         "1",
         "go kyoto nearly 10 year far favorite scottsdale sushi place bento box lunch special incredible regretably change opinion \\n\\nthe service go downhill drastically bf love 8 sashimi box like salmon sub tuna 9x 10 order come wrong 1 time sit water glass 15 min stop go \\n\\nyesterday decide kyoto 2nd chance service perfectly fine time notice new face lament ... sashimi warm mushy want eat give bf guess spend 24 hrs sit porcelain throne \\n\\nyes az hot fit eat ... don't serve \\n\\ni'm truly sad think go mood cook"
        ],
        [
         "19099",
         "462146",
         "interesting different sport experience watch game   dining area stadium seating away \\\"playe field\\ bunch tv tier level.\\n\\none cool thing get large group book sky box   sure price detail guest group able order food check bring   sky box 3 tv outdoor patio area pool table private restroom   like someone basement like basement vegas ... )\\n\\nthe food high quality bar food huge price   prepared big event spend minimum person f&b.   locate far away self parking elevator easy",
         "2",
         "interesting different sport experience watch game   dining area stadium seating away \\\"playe field\\ bunch tv tier level.\\n\\none cool thing get large group book sky box   sure price detail guest group able order food check bring   sky box 3 tv outdoor patio area pool table private restroom   like someone basement like basement vegas ... )\\n\\nthe food high quality bar food huge price   prepared big event spend minimum person f&b.   locate far away self parking elevator easy"
        ],
        [
         "14535",
         "320848",
         "clearly work instance currently possible bus work route cover entire valley wait time definitely issue ... busy route bus half hour ridiculous planning live tempe ridiculous bus go central \\\"hub,\\ get school work home locate downtown actually true ... bus useful live southerly portion city mesa ... the'burbs downtown route organized frequent crapshoot term convenience existence reasonable route location \\n\\nit fun bus catch stop typically 1 2 minute people metro card ridiculous price ride bus day save bit route um reasonable lead lot change counting transfer giving transfer crapshoot think suppose hour ... lucky like day pass amusement park \\n\\nbus driver different kind animal diverse group awesome jolly one black lady sing drive guy look act like santa claus disgruntled one guy stick head window threaten 911 cut scream phone thick accent guy horn rim glass let ride dime short guy refuse help figure bike rack honk fumble horn right near face course people ride bus interesting depend mood weird conversation talk politic spanish drunk guy flash swap diy hair cut strategy pink plume art student discuss veganism snobby gentle strength employee tha day pick sort people book walkman grant solitude desire \\n\\nwriter definitely ride bus",
         "1",
         "clearly work instance currently possible bus work route cover entire valley wait time definitely issue ... busy route bus half hour ridiculous planning live tempe ridiculous bus go central \\\"hub,\\ get school work home locate downtown actually true ... bus useful live southerly portion city mesa ... the'burbs downtown route organized frequent crapshoot term convenience existence reasonable route location \\n\\nit fun bus catch stop typically 1 2 minute people metro card ridiculous price ride bus day save bit route um reasonable lead lot change counting transfer giving transfer crapshoot think suppose hour ... lucky like day pass amusement park \\n\\nbus driver different kind animal diverse group awesome jolly one black lady sing drive guy look act like santa claus disgruntled one guy stick head window threaten 911 cut scream phone thick accent guy horn rim glass let ride dime short guy refuse help figure bike rack honk fumble horn right near face course people ride bus interesting depend mood weird conversation talk politic spanish drunk guy flash swap diy hair cut strategy pink plume art student discuss veganism snobby gentle strength employee tha day pick sort people book walkman grant solitude desire \\n\\nwriter definitely ride bus"
        ],
        [
         "8156",
         "124528",
         "recently stay omni charlotte nc week democratic national convention hotel great location friendly staff sleep cot night infect bedbugs er get home today treatment think flea scabie apparently bedbugs .... worst   hotel tell go \\\"tests\\ sure bug come hotel doctor far common sense suggest get bed omni hotel interested deal situation talk time week tell corrective measure beware",
         "1",
         "recently stay omni charlotte nc week democratic national convention hotel great location friendly staff sleep cot night infect bedbugs er get home today treatment think flea scabie apparently bedbugs .... worst   hotel tell go \\\"tests\\ sure bug come hotel doctor far common sense suggest get bed omni hotel interested deal situation talk time week tell corrective measure beware"
        ],
        [
         "12332",
         "256915",
         "bellagio nice honestly foe decor fool feeling like live mansion especially fortunate nice 800 night room average person look blow money vegas bellagio regular suite available 200 night hotel keep recent trend super giant hotel absolutely nice hotel vegas \\n\\nthe restaurant downstairs wonderful 50 person average   offer want bed room adequately sized regular suite believe safe entertainment center mini bar capable cost expect know room eventually day impressive facade begin noticeably begin think spend money line bellagio stay tell grate end nice hotel cost little lot hype place live want experience stack expectation nice ... little costly.\\n\\nchad",
         "2",
         "bellagio nice honestly foe decor fool feeling like live mansion especially fortunate nice 800 night room average person look blow money vegas bellagio regular suite available 200 night hotel keep recent trend super giant hotel absolutely nice hotel vegas \\n\\nthe restaurant downstairs wonderful 50 person average   offer want bed room adequately sized regular suite believe safe entertainment center mini bar capable cost expect know room eventually day impressive facade begin noticeably begin think spend money line bellagio stay tell grate end nice hotel cost little lot hype place live want experience stack expectation nice ... little costly.\\n\\nchad"
        ],
        [
         "25255",
         "671691",
         "try restaurant time night pleasantly surprised quality food service spicy crispy duck like taste seafood clear noodle   come friend soon think celebrate birthday",
         "2",
         "try restaurant time night pleasantly surprised quality food service spicy crispy duck like taste seafood clear noodle   come friend soon think celebrate birthday"
        ],
        [
         "6053",
         "73202",
         "  wish",
         "2",
         "  wish"
        ],
        [
         "22063",
         "562044",
         "walk shinbay expect atmosphere simple uncluttered loud music basic furniture.\\n\\nthe reason simplicity clear   focus entire restaurant thing food!\\n\\nwow   good meal scottsdale",
         "2",
         "walk shinbay expect atmosphere simple uncluttered loud music basic furniture.\\n\\nthe reason simplicity clear   focus entire restaurant thing food!\\n\\nwow   good meal scottsdale"
        ],
        [
         "8407",
         "132332",
         "3 day visit phx conclude worthy finale nice completely worthy 5 star \\\"a good gets\\ designation category educational mr. amalia c presumably kid hand activity route nicely curate display obviously cra zy cacti pricy forget use unadvertised aaa discount water find fountain non functional spend 90 minute rush need time skip wildflower exhibit tell bloom butterfly zone close season",
         "2",
         "3 day visit phx conclude worthy finale nice completely worthy 5 star \\\"a good gets\\ designation category educational mr. amalia c presumably kid hand activity route nicely curate display obviously cra zy cacti pricy forget use unadvertised aaa discount water find fountain non functional spend 90 minute rush need time skip wildflower exhibit tell bloom butterfly zone close season"
        ],
        [
         "12715",
         "268630",
         "excited le cirque turn disappointment service good think food improve find rich impressed plate nice plate probably good eat",
         "1",
         "excited le cirque turn disappointment service good think food improve find rich impressed plate nice plate probably good eat"
        ],
        [
         "22760",
         "585345",
         "enjoy go oink cafe breakfast dish like especially arizona omelette little spicy good service usually good little slow busy expect recent disappointment breakfast place finally restaurant right",
         "2",
         "enjoy go oink cafe breakfast dish like especially arizona omelette little spicy good service usually good little slow busy expect recent disappointment breakfast place finally restaurant right"
        ],
        [
         "1274",
         "16299",
         "big problem tv program key west face advertise wrong see ad think jiggle sorely disappointed vastly complex br /><br />i happen key west hurricane andrew hit think actually find have drink cast rum runners course hit sailboat opening time chat guy hack coconut opening real local yes love dvd",
         "2",
         "big problem tv program key west face advertise wrong see ad think jiggle sorely disappointed vastly complex br /><br />i happen key west hurricane andrew hit think actually find have drink cast rum runners course hit sailboat opening time chat guy hack coconut opening real local yes love dvd"
        ],
        [
         "1333",
         "16911",
         "read comment tomreynolds2004 feel jump understand like film reason evident feeling film afraid travel dark road loneliness failure disappointment sorrow people portray plenty reason bitter angry find tenderness comfort great acting work emotional quagmire sentimental sappy interested people overwhelming humanity give strong performance reason dislike jane fonda vietnam era action personal feeling apart fabulous role robert deniro superb man intelligence goodness begin fail world indifferent ability see deniro tenderness toughness sell character like film big surprise view look forward see",
         "2",
         "read comment tomreynolds2004 feel jump understand like film reason evident feeling film afraid travel dark road loneliness failure disappointment sorrow people portray plenty reason bitter angry find tenderness comfort great acting work emotional quagmire sentimental sappy interested people overwhelming humanity give strong performance reason dislike jane fonda vietnam era action personal feeling apart fabulous role robert deniro superb man intelligence goodness begin fail world indifferent ability see deniro tenderness toughness sell character like film big surprise view look forward see"
        ],
        [
         "17635",
         "418390",
         "good   like pho price bad good portion size huge",
         "2",
         "good   like pho price bad good portion size huge"
        ],
        [
         "3091",
         "37898",
         "end episode holmes ask watson record case posterity good reason super sleuth leave little grey cells(sorry agatha)at home tale deductive reasoning acute analysis sign crime scene holme bumble yard plot dastardly cam finally deal old frail manner charles bronson heart swell pride bullet breadbasket ensue chase pursuer get hold watson shoe mercifully writer decide tack story cinderella lengthen film murderess holmes watson escape scot free oh bit change pace late victorian london bit sixgun law:-",
         "0",
         "end episode holmes ask watson record case posterity good reason super sleuth leave little grey cells(sorry agatha)at home tale deductive reasoning acute analysis sign crime scene holme bumble yard plot dastardly cam finally deal old frail manner charles bronson heart swell pride bullet breadbasket ensue chase pursuer get hold watson shoe mercifully writer decide tack story cinderella lengthen film murderess holmes watson escape scot free oh bit change pace late victorian london bit sixgun law:-"
        ],
        [
         "19303",
         "469196",
         "pitbull door \\n\\npromoter try hand pass leave run away them\\n\\ninterior ... like city center rushed.\\n\\ntoo big good",
         "1",
         "pitbull door \\n\\npromoter try hand pass leave run away them\\n\\ninterior ... like city center rushed.\\n\\ntoo big good"
        ],
        [
         "17654",
         "418935",
         "job travel lot hilton location worldwide see good bad old property   call tired aged think old charm yes room bathroom old work clean room large vertical beam hold ceiling end bed matter room actually large service location good attentive mention friendly location little bit walk price street bad price expect moderate stay possible",
         "2",
         "job travel lot hilton location worldwide see good bad old property   call tired aged think old charm yes room bathroom old work clean room large vertical beam hold ceiling end bed matter room actually large service location good attentive mention friendly location little bit walk price street bad price expect moderate stay possible"
        ],
        [
         "14092",
         "308116",
         "dream 18 oz rib eye inhale december .... \\n\\noh yes good   eat steak normally kind hard dry overcooked etc etc etc ... pretty picky eat 3 5 oz steak tender ... \\n\\ni idea get meat heck damn wow   location los angeles think eat 2 3weeks   vegas 2times year business hubby snuck town minute whim end mandalay bay   steak man decide try place eye bulge see prices.\\n\\nbut vegas crappy uber expensive restaurant try palazzo like carnevino morels sucked suck sucked totally rip price downright reasonable   \\n\\nwe eat boa steakhouse caesars palace try pretty happy ... place lot better   \\n\\nmy hubby order 30 oz porterhouse prix fix menu upgrade rib eye .... eat bliss quality meat bite worth money extremely spend   \\n\\nhonestly soup 3 type fry delish bread meh ... truly steak   \\n\\nit prepare tenderness taste ... hard justice -and good read review clue restaurant.com discount trip vegas july pd 20 50 gift card ... awesome   \\n\\nthank yelp yelp reviewer ... \\n\\nfor anybody enjoy great cut steak expertly cook forget place place   worth penny   hubby practically roll giant grin ear ear last day meal   \\n\\n5star sure   6 totally",
         "2",
         "dream 18 oz rib eye inhale december .... \\n\\noh yes good   eat steak normally kind hard dry overcooked etc etc etc ... pretty picky eat 3 5 oz steak tender ... \\n\\ni idea get meat heck damn wow   location los angeles think eat 2 3weeks   vegas 2times year business hubby snuck town minute whim end mandalay bay   steak man decide try place eye bulge see prices.\\n\\nbut vegas crappy uber expensive restaurant try palazzo like carnevino morels sucked suck sucked totally rip price downright reasonable   \\n\\nwe eat boa steakhouse caesars palace try pretty happy ... place lot better   \\n\\nmy hubby order 30 oz porterhouse prix fix menu upgrade rib eye .... eat bliss quality meat bite worth money extremely spend   \\n\\nhonestly soup 3 type fry delish bread meh ... truly steak   \\n\\nit prepare tenderness taste ... hard justice -and good read review clue restaurant.com discount trip vegas july pd 20 50 gift card ... awesome   \\n\\nthank yelp yelp reviewer ... \\n\\nfor anybody enjoy great cut steak expertly cook forget place place   worth penny   hubby practically roll giant grin ear ear last day meal   \\n\\n5star sure   6 totally"
        ],
        [
         "15079",
         "338381",
         "good falafel friendly staff too.\\nwe stop whim hike red rocks decision von sandwich good good bread random falafel boy glad shoe sababa fantastic guy owner manager realize want \\\"to go\\ truly disappointed \\\"awww stay awhile\\ say feel welcome plus give falafel hummus sample wait food prepare fresh",
         "2",
         "good falafel friendly staff too.\\nwe stop whim hike red rocks decision von sandwich good good bread random falafel boy glad shoe sababa fantastic guy owner manager realize want \\\"to go\\ truly disappointed \\\"awww stay awhile\\ say feel welcome plus give falafel hummus sample wait food prepare fresh"
        ],
        [
         "17108",
         "401996",
         "like sister location restaurant knock park wish close ...",
         "2",
         "like sister location restaurant knock park wish close ..."
        ],
        [
         "2178",
         "27086",
         "watchable pretty terrible shocking great gregory la cava directing credit well know role care gene kelly smug hostile self involve pair minor actress like marie wilson characteristic spades.<br /><br />marie wilson play heiress fall military man exceptionally hard unsympathetic actor work hard past hard disagreeable core picture ok.<br /><br />the know butler apparently mean funny like extended riff prissy bit franklin pangborn famous despite stereotyping generally funny -- unlike guy phyllis thaxter appealing underdeveloped secondary plot",
         "0",
         "watchable pretty terrible shocking great gregory la cava directing credit well know role care gene kelly smug hostile self involve pair minor actress like marie wilson characteristic spades.<br /><br />marie wilson play heiress fall military man exceptionally hard unsympathetic actor work hard past hard disagreeable core picture ok.<br /><br />the know butler apparently mean funny like extended riff prissy bit franklin pangborn famous despite stereotyping generally funny -- unlike guy phyllis thaxter appealing underdeveloped secondary plot"
        ],
        [
         "22245",
         "568759",
         "ask drew night ... bad joke ... \\n\\nwent post v day dinner lady buddy lady .. \\n\\nroaste artichoke good tasty artichoke heart top stuff sure expect halfed quarter roasted grill artichoke nonetheless think good \\n\\npanzanella salad ehhh .. thrill reg salad know panzanella salad mood .. \\n\\nfilet cook perfectly bearnaise sauce find odd slightly tacky steakhouse charge extra sauce class thing notch remember place eat remain nameless order big steak dinner thing ask sour cream bake potato say .75 cent extra steak good drive nut baggage come .. sayin bug .. \\n\\nsides sauteed spinach cream corn lobster spinach solid cream corn lobster buttery rich expect \\n\\nwe sit kitchen dish area treat noise fall dish couple time \\n\\ni like style place service spot like bottle wine nice coffee desert happy meal read review hear hype .. expectation little high catch night 3.5 book go ahead round",
         "2",
         "ask drew night ... bad joke ... \\n\\nwent post v day dinner lady buddy lady .. \\n\\nroaste artichoke good tasty artichoke heart top stuff sure expect halfed quarter roasted grill artichoke nonetheless think good \\n\\npanzanella salad ehhh .. thrill reg salad know panzanella salad mood .. \\n\\nfilet cook perfectly bearnaise sauce find odd slightly tacky steakhouse charge extra sauce class thing notch remember place eat remain nameless order big steak dinner thing ask sour cream bake potato say .75 cent extra steak good drive nut baggage come .. sayin bug .. \\n\\nsides sauteed spinach cream corn lobster spinach solid cream corn lobster buttery rich expect \\n\\nwe sit kitchen dish area treat noise fall dish couple time \\n\\ni like style place service spot like bottle wine nice coffee desert happy meal read review hear hype .. expectation little high catch night 3.5 book go ahead round"
        ],
        [
         "17843",
         "424279",
         "like kinda pizza floppy thin thick non greasy flour dust crust pepperoni sauce tasty hey 7 bux buy overprice chain get wing fry drink 16\\ pepperoni 15 bux not national brand pizza chain look damn near 40 bux yes lil cranky care food good cheap deal little lack service save fistfull cash like add not know cashier dark haired beauty great pizza great price little eye candy boot m complain interior restaurant not cold sterile think picture find online actually quiet plenty room large party small family here biggy drive complex sahara go drive shopping center turn leave end left door directly fit",
         "2",
         "like kinda pizza floppy thin thick non greasy flour dust crust pepperoni sauce tasty hey 7 bux buy overprice chain get wing fry drink 16\\ pepperoni 15 bux not national brand pizza chain look damn near 40 bux yes lil cranky care food good cheap deal little lack service save fistfull cash like add not know cashier dark haired beauty great pizza great price little eye candy boot m complain interior restaurant not cold sterile think picture find online actually quiet plenty room large party small family here biggy drive complex sahara go drive shopping center turn leave end left door directly fit"
        ],
        [
         "5908",
         "71653",
         "oh god cheesy disco music start get table   need wine ...",
         "0",
         "oh god cheesy disco music start get table   need wine ..."
        ],
        [
         "15130",
         "339741",
         "reason shop close live way home work.\\n\\nthis place friendly staff check deli especially.\\n\\nbut location bad fact old product shelf plus handfuls product buy regular semi regular basis carry.\\n\\ni wish stock well",
         "1",
         "reason shop close live way home work.\\n\\nthis place friendly staff check deli especially.\\n\\nbut location bad fact old product shelf plus handfuls product buy regular semi regular basis carry.\\n\\ni wish stock well"
        ],
        [
         "12584",
         "263835",
         "nice restaurant strip   beautiful view bellagio fountain night patio   service great food well good escargot rest chicken pallard steak ok   come lovely atmosphere ....",
         "2",
         "nice restaurant strip   beautiful view bellagio fountain night patio   service great food well good escargot rest chicken pallard steak ok   come lovely atmosphere ...."
        ],
        [
         "1413",
         "17865",
         "let agree lorenzo lamas consider skilled actor barely decent plain lousy piece @*!^ call snakeeater film industry sank.<br /><br />first let start plot vietnam vet name jack kelly aka soldier suppose tough strap leather believe shove palate nail 2 guy foot pin floor get word family kill sister kidnap go solo mission save sister potential pretty thin begin with.<br /><br />now acting actor qualified worst act history art lamas jackass play clampets deliverance reject string shoot call performance insulting actor especially talented one big break!<br /><br />finally action gunfighting best fist fighting deplorable see real look fight renaissance festival pretty fake looking)!<br /><br />readers listen avoid piece caca cost film existence want avoid sake brain cell count watch thing",
         "0",
         "let agree lorenzo lamas consider skilled actor barely decent plain lousy piece @*!^ call snakeeater film industry sank.<br /><br />first let start plot vietnam vet name jack kelly aka soldier suppose tough strap leather believe shove palate nail 2 guy foot pin floor get word family kill sister kidnap go solo mission save sister potential pretty thin begin with.<br /><br />now acting actor qualified worst act history art lamas jackass play clampets deliverance reject string shoot call performance insulting actor especially talented one big break!<br /><br />finally action gunfighting best fist fighting deplorable see real look fight renaissance festival pretty fake looking)!<br /><br />readers listen avoid piece caca cost film existence want avoid sake brain cell count watch thing"
        ],
        [
         "2783",
         "34022",
         "bad movie nice budget potential well heroine beautiful like salma hayek hero fight like jackie chan battle duel like crouching tiger ... music like conan ... etc end dull hard find interesting maybe apart john rhys davies fly duel like warrior hero mention crouching tiger ... ashamed poor old john good actor deserve well chance watch",
         "0",
         "bad movie nice budget potential well heroine beautiful like salma hayek hero fight like jackie chan battle duel like crouching tiger ... music like conan ... etc end dull hard find interesting maybe apart john rhys davies fly duel like warrior hero mention crouching tiger ... ashamed poor old john good actor deserve well chance watch"
        ]
       ],
       "shape": {
        "columns": 4,
        "rows": 17792
       }
      },
      "text/html": [
       "<div>\n",
       "<style scoped>\n",
       "    .dataframe tbody tr th:only-of-type {\n",
       "        vertical-align: middle;\n",
       "    }\n",
       "\n",
       "    .dataframe tbody tr th {\n",
       "        vertical-align: top;\n",
       "    }\n",
       "\n",
       "    .dataframe thead th {\n",
       "        text-align: right;\n",
       "    }\n",
       "</style>\n",
       "<table border=\"1\" class=\"dataframe\">\n",
       "  <thead>\n",
       "    <tr style=\"text-align: right;\">\n",
       "      <th></th>\n",
       "      <th>Unnamed: 0</th>\n",
       "      <th>text</th>\n",
       "      <th>label</th>\n",
       "      <th>preprocess_text</th>\n",
       "    </tr>\n",
       "  </thead>\n",
       "  <tbody>\n",
       "    <tr>\n",
       "      <th>13463</th>\n",
       "      <td>288325</td>\n",
       "      <td>word \\\"premium\\   place outdate think selectio...</td>\n",
       "      <td>1</td>\n",
       "      <td>word \\\"premium\\   place outdate think selectio...</td>\n",
       "    </tr>\n",
       "    <tr>\n",
       "      <th>24623</th>\n",
       "      <td>648051</td>\n",
       "      <td>come breakfast 10 find customer good sign supe...</td>\n",
       "      <td>1</td>\n",
       "      <td>come breakfast 10 find customer good sign supe...</td>\n",
       "    </tr>\n",
       "    <tr>\n",
       "      <th>2184</th>\n",
       "      <td>27159</td>\n",
       "      <td>anybody movie comedy go finacee fall asleep as...</td>\n",
       "      <td>0</td>\n",
       "      <td>anybody movie comedy go finacee fall asleep as...</td>\n",
       "    </tr>\n",
       "    <tr>\n",
       "      <th>14371</th>\n",
       "      <td>316305</td>\n",
       "      <td>begrudge pei wei   question star pei wei quest...</td>\n",
       "      <td>2</td>\n",
       "      <td>begrudge pei wei   question star pei wei quest...</td>\n",
       "    </tr>\n",
       "    <tr>\n",
       "      <th>5945</th>\n",
       "      <td>72151</td>\n",
       "      <td>diy acid wash short can`t wait look like</td>\n",
       "      <td>1</td>\n",
       "      <td>diy acid wash short can`t wait look like</td>\n",
       "    </tr>\n",
       "    <tr>\n",
       "      <th>...</th>\n",
       "      <td>...</td>\n",
       "      <td>...</td>\n",
       "      <td>...</td>\n",
       "      <td>...</td>\n",
       "    </tr>\n",
       "    <tr>\n",
       "      <th>21575</th>\n",
       "      <td>545072</td>\n",
       "      <td>4 star lovely \\\"traditional\\ albeit veggie ver...</td>\n",
       "      <td>2</td>\n",
       "      <td>4 star lovely \\\"traditional\\ albeit veggie ver...</td>\n",
       "    </tr>\n",
       "    <tr>\n",
       "      <th>5390</th>\n",
       "      <td>65671</td>\n",
       "      <td>ack     weird tweet mention timeline oh wait...</td>\n",
       "      <td>0</td>\n",
       "      <td>ack     weird tweet mention timeline oh wait...</td>\n",
       "    </tr>\n",
       "    <tr>\n",
       "      <th>860</th>\n",
       "      <td>11152</td>\n",
       "      <td>catch screening sundance film festival awe abs...</td>\n",
       "      <td>2</td>\n",
       "      <td>catch screening sundance film festival awe abs...</td>\n",
       "    </tr>\n",
       "    <tr>\n",
       "      <th>15795</th>\n",
       "      <td>361249</td>\n",
       "      <td>eh okay.\\n\\nlike club vegas entry line move sn...</td>\n",
       "      <td>1</td>\n",
       "      <td>eh okay.\\n\\nlike club vegas entry line move sn...</td>\n",
       "    </tr>\n",
       "    <tr>\n",
       "      <th>23654</th>\n",
       "      <td>613799</td>\n",
       "      <td>walk door smell fishy wife leave   friday nigh...</td>\n",
       "      <td>1</td>\n",
       "      <td>walk door smell fishy wife leave   friday nigh...</td>\n",
       "    </tr>\n",
       "  </tbody>\n",
       "</table>\n",
       "<p>17792 rows × 4 columns</p>\n",
       "</div>"
      ],
      "text/plain": [
       "       Unnamed: 0                                               text  label  \\\n",
       "13463      288325  word \\\"premium\\   place outdate think selectio...      1   \n",
       "24623      648051  come breakfast 10 find customer good sign supe...      1   \n",
       "2184        27159  anybody movie comedy go finacee fall asleep as...      0   \n",
       "14371      316305  begrudge pei wei   question star pei wei quest...      2   \n",
       "5945        72151           diy acid wash short can`t wait look like      1   \n",
       "...           ...                                                ...    ...   \n",
       "21575      545072  4 star lovely \\\"traditional\\ albeit veggie ver...      2   \n",
       "5390        65671    ack     weird tweet mention timeline oh wait...      0   \n",
       "860         11152  catch screening sundance film festival awe abs...      2   \n",
       "15795      361249  eh okay.\\n\\nlike club vegas entry line move sn...      1   \n",
       "23654      613799  walk door smell fishy wife leave   friday nigh...      1   \n",
       "\n",
       "                                         preprocess_text  \n",
       "13463  word \\\"premium\\   place outdate think selectio...  \n",
       "24623  come breakfast 10 find customer good sign supe...  \n",
       "2184   anybody movie comedy go finacee fall asleep as...  \n",
       "14371  begrudge pei wei   question star pei wei quest...  \n",
       "5945            diy acid wash short can`t wait look like  \n",
       "...                                                  ...  \n",
       "21575  4 star lovely \\\"traditional\\ albeit veggie ver...  \n",
       "5390     ack     weird tweet mention timeline oh wait...  \n",
       "860    catch screening sundance film festival awe abs...  \n",
       "15795  eh okay.\\n\\nlike club vegas entry line move sn...  \n",
       "23654  walk door smell fishy wife leave   friday nigh...  \n",
       "\n",
       "[17792 rows x 4 columns]"
      ]
     },
     "execution_count": 114,
     "metadata": {},
     "output_type": "execute_result"
    }
   ],
   "source": [
    "df_train"
   ]
  },
  {
   "cell_type": "code",
   "execution_count": 115,
   "id": "10091f20",
   "metadata": {},
   "outputs": [
    {
     "data": {
      "application/vnd.microsoft.datawrangler.viewer.v0+json": {
       "columns": [
        {
         "name": "index",
         "rawType": "int64",
         "type": "integer"
        },
        {
         "name": "Unnamed: 0",
         "rawType": "int64",
         "type": "integer"
        },
        {
         "name": "text",
         "rawType": "object",
         "type": "string"
        },
        {
         "name": "label",
         "rawType": "int64",
         "type": "integer"
        },
        {
         "name": "preprocess_text",
         "rawType": "object",
         "type": "string"
        }
       ],
       "conversionMethod": "pd.DataFrame",
       "ref": "961899b2-72ce-4562-a2cc-3bac04750819",
       "rows": [
        [
         "20661",
         "516768",
         "place name america disappointment shop instead arrive high expectation place menu look promising wife child get burritos al pastor quesadilla come order soft drink option expansive inexpensive finally burritos al pastor arrive see size burrito super annoyed 24 dollar spend size small dog needless come america disappointment shop reason 2 star meat delicious worth sorry",
         "1",
         "place name america disappointment shop instead arrive high expectation place menu look promising wife child get burritos al pastor quesadilla come order soft drink option expansive inexpensive finally burritos al pastor arrive see size burrito super annoyed 24 dollar spend size small dog needless come america disappointment shop reason 2 star meat delicious worth sorry"
        ],
        [
         "5449",
         "66328",
         "stop twittering maryland cookie bgt",
         "1",
         "stop twittering maryland cookie bgt"
        ],
        [
         "21056",
         "527970",
         "great little cafe nestle bough charming polish hill neighborhood excellent vibe rate coffee espresso commendable menu selection replete number vegan option   like stellar artwork bedeck wall usually coffee shop art tacky banal and/or amateurish find art display lili interesting aesthetically pleasing lili antithesis insipid commercial chain coffee shop   definitely good hangout spot pittsburgh offer.\\n\\n***update recently go lili guess artwork rotate regularly stuff see today poor quality",
         "2",
         "great little cafe nestle bough charming polish hill neighborhood excellent vibe rate coffee espresso commendable menu selection replete number vegan option   like stellar artwork bedeck wall usually coffee shop art tacky banal and/or amateurish find art display lili interesting aesthetically pleasing lili antithesis insipid commercial chain coffee shop   definitely good hangout spot pittsburgh offer.\\n\\n***update recently go lili guess artwork rotate regularly stuff see today poor quality"
        ],
        [
         "9406",
         "166502",
         "complete waste time take 10 minute look round mainly photo thing door interesting lock shut interactive work staff thing interest challenger simulation extra 30 simply worth take long process refund take look place phoenix science museum great day",
         "1",
         "complete waste time take 10 minute look round mainly photo thing door interesting lock shut interactive work staff thing interest challenger simulation extra 30 simply worth take long process refund take look place phoenix science museum great day"
        ],
        [
         "1818",
         "22626",
         "taste film continue astound probably infuriate reader review weak spot crazy horror slasher flick evil happen exactly think big mistake producer film maker film hype wwe film star kane wwe big following specific group follow incredibly cheesy sorry folk kind trailer park sport love haattte steer clear typical gory slasher flick people come drove evil break new horror ground exactly play play typical horror horrific bloody scene honestly screen crawl drive home gratuitous violence cause psychological aspect exactly chase monster fear element it.<br /><br />kane wrestler know glen jacobs play religiously physically torture man jacob goodnight ultimate cross leatherface jason voorhees original killer kill unique original major exception choke girl death force swallower cell phone ... yeeeeah good job man legitimately enormous stand 7 foot tall special effect monstrous tiffany lamb penny mcnamee samantha noble michael j. pagan luke pegler christina vidal rachael taylor play typical group think invincible party teen unwillingly victim serial killer story exchange month detention sentence petty crime range theft drug possession send old hotel community service fix turn serial killer live upstairs remove victim eye cleanse sin luke pegler stand scum bag end hero sort save ex girlfriend beat rest play perspective role great stretch acting ability.<br /><br />sadly porn director ... yes porn ... gregory dark good job put modern day slasher flick go bit history killer story unique fact little stale interesting shot film goer actually see killer eye interesting hear voice thing distort like throw obligatory soft core nude shot grotesque blood soak scene turn notch fit nicely horror fan like entertaining kane serial killer horrify stalk brutal intelligence silent horror film pan crap blame pretty crappy point horror film think exactly jump cringe turn away part ... impressive standard entertaining decent story plenty set serialize evil 15th installment want bring true film plot hole laughable detail deadly gore horror ride come love horror film love yes think terrific slasher ... ... you'll hate ... plain simple 8.5/10",
         "2",
         "taste film continue astound probably infuriate reader review weak spot crazy horror slasher flick evil happen exactly think big mistake producer film maker film hype wwe film star kane wwe big following specific group follow incredibly cheesy sorry folk kind trailer park sport love haattte steer clear typical gory slasher flick people come drove evil break new horror ground exactly play play typical horror horrific bloody scene honestly screen crawl drive home gratuitous violence cause psychological aspect exactly chase monster fear element it.<br /><br />kane wrestler know glen jacobs play religiously physically torture man jacob goodnight ultimate cross leatherface jason voorhees original killer kill unique original major exception choke girl death force swallower cell phone ... yeeeeah good job man legitimately enormous stand 7 foot tall special effect monstrous tiffany lamb penny mcnamee samantha noble michael j. pagan luke pegler christina vidal rachael taylor play typical group think invincible party teen unwillingly victim serial killer story exchange month detention sentence petty crime range theft drug possession send old hotel community service fix turn serial killer live upstairs remove victim eye cleanse sin luke pegler stand scum bag end hero sort save ex girlfriend beat rest play perspective role great stretch acting ability.<br /><br />sadly porn director ... yes porn ... gregory dark good job put modern day slasher flick go bit history killer story unique fact little stale interesting shot film goer actually see killer eye interesting hear voice thing distort like throw obligatory soft core nude shot grotesque blood soak scene turn notch fit nicely horror fan like entertaining kane serial killer horrify stalk brutal intelligence silent horror film pan crap blame pretty crappy point horror film think exactly jump cringe turn away part ... impressive standard entertaining decent story plenty set serialize evil 15th installment want bring true film plot hole laughable detail deadly gore horror ride come love horror film love yes think terrific slasher ... ... you'll hate ... plain simple 8.5/10"
        ],
        [
         "14088",
         "307928",
         "see owner walk bar rescue like little baby new people come bar look like enjoy especially stupid like gypsy ... owner shitty employee take look great owner look like drug problem smile nod nod nod smile smirk crap idiot drunk idiot deserve employee need leave sad sorry ass real bar work ...",
         "1",
         "see owner walk bar rescue like little baby new people come bar look like enjoy especially stupid like gypsy ... owner shitty employee take look great owner look like drug problem smile nod nod nod smile smirk crap idiot drunk idiot deserve employee need leave sad sorry ass real bar work ..."
        ],
        [
         "10665",
         "207697",
         "company sale meeting week june consist 700 sale professional country stay 4 day 3 night get good feel resort thing notice huge place nice friendly staff walk aimlessly hall ask need help find weather az time go incredibly hot think hot picture dry heat walk place place outside pleasant thing ... staff pick golf cart destination appreciate super nice them.\\n\\nthe catered buffet good sense item lack flavor whatsoever like egg watery bland restaurant inside hotel call il terrazzo food ah maz ing order tuscan kale salad come arugula fennel slice grape date nut thin pear slice slice cheese drizzle pear vinaigrette -- order grill chicken salad seriously die good salad heaven mouth finish bite.\\n\\nthe thing think twice place cockroach roomy find hotel room yes cockroach come sacramento see huge critter dresser chillin surprise disappointing thing freeze terror roomy call desk support say send right away 15 minute 3 call total show call need leave meeting tell cancel request call later night send 5 minute dude come pick cockroach dead inspect entire room sure second time call send right away time apologize cockroach incident maybe normal thing them?\\n\\noverall place get 4 star despite hit miss food cockroach incident resort gorgeous staff friendly customer service overall excellent especially staff make feel right home definitely come place",
         "2",
         "company sale meeting week june consist 700 sale professional country stay 4 day 3 night get good feel resort thing notice huge place nice friendly staff walk aimlessly hall ask need help find weather az time go incredibly hot think hot picture dry heat walk place place outside pleasant thing ... staff pick golf cart destination appreciate super nice them.\\n\\nthe catered buffet good sense item lack flavor whatsoever like egg watery bland restaurant inside hotel call il terrazzo food ah maz ing order tuscan kale salad come arugula fennel slice grape date nut thin pear slice slice cheese drizzle pear vinaigrette -- order grill chicken salad seriously die good salad heaven mouth finish bite.\\n\\nthe thing think twice place cockroach roomy find hotel room yes cockroach come sacramento see huge critter dresser chillin surprise disappointing thing freeze terror roomy call desk support say send right away 15 minute 3 call total show call need leave meeting tell cancel request call later night send 5 minute dude come pick cockroach dead inspect entire room sure second time call send right away time apologize cockroach incident maybe normal thing them?\\n\\noverall place get 4 star despite hit miss food cockroach incident resort gorgeous staff friendly customer service overall excellent especially staff make feel right home definitely come place"
        ],
        [
         "13977",
         "304575",
         "hotel lounge try little bright color music bit loud drink expensive open late wait ridiculous line tired ready go",
         "1",
         "hotel lounge try little bright color music bit loud drink expensive open late wait ridiculous line tired ready go"
        ],
        [
         "10906",
         "215624",
         "problem club incompetent group teenager run place girl confused staff inside aloof \\n\\ni go group friend chris delia 4 ticket 3 wait 4th arrive girl door tell wait 4th person entire party seat proceed joke completely lose giggle cackle time directly make fun situation find funny arrive early good seat wait couple minute greet server show table 4th inform fine wait inside table cool understand big deal \\n\\nthe server deserve pay hustle friendly efficient \\n\\nthis club need find new staff handle ticket favorite comedy club reason \\n\\nonce laugh factory open scottsdale business hopefully employ people actually know",
         "1",
         "problem club incompetent group teenager run place girl confused staff inside aloof \\n\\ni go group friend chris delia 4 ticket 3 wait 4th arrive girl door tell wait 4th person entire party seat proceed joke completely lose giggle cackle time directly make fun situation find funny arrive early good seat wait couple minute greet server show table 4th inform fine wait inside table cool understand big deal \\n\\nthe server deserve pay hustle friendly efficient \\n\\nthis club need find new staff handle ticket favorite comedy club reason \\n\\nonce laugh factory open scottsdale business hopefully employ people actually know"
        ],
        [
         "7431",
         "101642",
         "benecol clinically prove lower cholesterol place clinically prove raise guarantee enjoy eat place sure send china donor heart hand cuz need new one.\\n\\non visit get deep fried pizza chew company jf phd student probably view utter contempt conduct study socially inept underdeveloped human being result eat reasonable degree dignity effort draw attention myself.\\nhad dine behaviour distinctly muted wring doughy treat mouth like tea towel saturate pizza flavour fat enthusiasm romanian prostitute realise earn leu warm belly time suck oily dreg limp remain give thank privilege.\\n\\nyum yum",
         "2",
         "benecol clinically prove lower cholesterol place clinically prove raise guarantee enjoy eat place sure send china donor heart hand cuz need new one.\\n\\non visit get deep fried pizza chew company jf phd student probably view utter contempt conduct study socially inept underdeveloped human being result eat reasonable degree dignity effort draw attention myself.\\nhad dine behaviour distinctly muted wring doughy treat mouth like tea towel saturate pizza flavour fat enthusiasm romanian prostitute realise earn leu warm belly time suck oily dreg limp remain give thank privilege.\\n\\nyum yum"
        ],
        [
         "14959",
         "334575",
         "lvoe place",
         "2",
         "lvoe place"
        ],
        [
         "6453",
         "77690",
         "mom annoy live outta we`re aol radio look brooks dunn",
         "0",
         "mom annoy live outta we`re aol radio look brooks dunn"
        ],
        [
         "3745",
         "46059",
         "wonderful family film staple christmas time mystery true lose film encounter flicker away old 19 black white rca million dollar movie vogue channel 9 new york city rudolph mate direct fantasy nestle christmas tree release home video bad believe see amc year ago cut old film rotation tcm slack play easter christmas eve movie santa aunt bee hostess cupcake lady actor king bad ann blyth sally bundle energy school year rush chapel pray st. ann help guidance mix financially strapped family work graduate place statue st. ann bedroom point entire o'moyne residence move address think end neighbor dispute o'moynes dastardly fellow door blyth cute button edmund gwen play reclusive grandfather sleep satisfying movie experience",
         "2",
         "wonderful family film staple christmas time mystery true lose film encounter flicker away old 19 black white rca million dollar movie vogue channel 9 new york city rudolph mate direct fantasy nestle christmas tree release home video bad believe see amc year ago cut old film rotation tcm slack play easter christmas eve movie santa aunt bee hostess cupcake lady actor king bad ann blyth sally bundle energy school year rush chapel pray st. ann help guidance mix financially strapped family work graduate place statue st. ann bedroom point entire o'moyne residence move address think end neighbor dispute o'moynes dastardly fellow door blyth cute button edmund gwen play reclusive grandfather sleep satisfying movie experience"
        ],
        [
         "18947",
         "457171",
         "seriously gamble casino eat restaurant well veggie come prime rib terrific veggie strange tasting like little soapy).\\n\\nprepare fresh veggie dish green bean brocolli brussell sprout",
         "1",
         "seriously gamble casino eat restaurant well veggie come prime rib terrific veggie strange tasting like little soapy).\\n\\nprepare fresh veggie dish green bean brocolli brussell sprout"
        ],
        [
         "9229",
         "160768",
         "whack drink 2 smh way simple fact wait end day",
         "1",
         "whack drink 2 smh way simple fact wait end day"
        ],
        [
         "17026",
         "399520",
         "place ok love curbside food pick option great way home work want cook unfortunately food consistent quality",
         "1",
         "place ok love curbside food pick option great way home work want cook unfortunately food consistent quality"
        ],
        [
         "8726",
         "143353",
         "phoenix business trip 3 fellow worker company book hilton \\n\\nwell start lobby restaurant construction time sure alot well complete didn t roach roommate reviewer clean daily \\n\\nthe breakfast serve 7 10 morning well free one see coffee juice milk fresh fruit cereal bagel bread toaster use oatmeal morning waffle cook \\n\\nvery average time",
         "1",
         "phoenix business trip 3 fellow worker company book hilton \\n\\nwell start lobby restaurant construction time sure alot well complete didn t roach roommate reviewer clean daily \\n\\nthe breakfast serve 7 10 morning well free one see coffee juice milk fresh fruit cereal bagel bread toaster use oatmeal morning waffle cook \\n\\nvery average time"
        ],
        [
         "24074",
         "628536",
         "excited try new place live music \\npros- \\n1 great beer\\n2 friendly staff \\ncons- \\n1 subpar food thing order \\n2 small menu filthy printer paper)\\n3 shockingly unfortunate margarita unskilled bartender)\\n4 band start 45 minute late conduct loud feedback rich sound check half hour meal \\n5   overall look atmosphere branding inconsistent \\n\\nthe floor plan patio cool potential live music promise appear power cart horse launch venture",
         "1",
         "excited try new place live music \\npros- \\n1 great beer\\n2 friendly staff \\ncons- \\n1 subpar food thing order \\n2 small menu filthy printer paper)\\n3 shockingly unfortunate margarita unskilled bartender)\\n4 band start 45 minute late conduct loud feedback rich sound check half hour meal \\n5   overall look atmosphere branding inconsistent \\n\\nthe floor plan patio cool potential live music promise appear power cart horse launch venture"
        ],
        [
         "6126",
         "74117",
         "  go to dm say you`re follow     lol   i`ve   hahaha",
         "1",
         "  go to dm say you`re follow     lol   i`ve   hahaha"
        ],
        [
         "19367",
         "471292",
         "11/30/10\\n\\n2.5 stars.\\n\\ncame happy hour find happy hour food menu want try order medium emilia romagna pizza mozzarella parmesan 12 year balsamic vinegar- aceto balsamico   recall price pizza probably 14 range   pizza come bit charred thin crust stay crispy long 5 minute definitely soggy 10 minute mark   enjoy slice restaurant leftover prove salty try heat pizza home toss rest- economical price sorry   eat slice fred bec want try cobbler day apple cobbler top w/ haagen daaz ice cream recall correctly   order san powder sugar corn allergy find good sweet   try cobbler come high cost 9 plus ice cream corn syrup it- corn allergy   like try profiterole come w/ 9 tag mean 4.50 profiterol- believe ask come dish quote ... \\n\\ndon't fool scowl bouncer type bartender constantly face-- actually nice talk time speak   couple friend go mixer month ago unapproachable project busy come order   hello yous night- big turn w/ high price menu think come again.\\n\\n(i originally go rate 3 star type 2.5 finish w/ review go w/ 2 star   wish well experience",
         "1",
         "11/30/10\\n\\n2.5 stars.\\n\\ncame happy hour find happy hour food menu want try order medium emilia romagna pizza mozzarella parmesan 12 year balsamic vinegar- aceto balsamico   recall price pizza probably 14 range   pizza come bit charred thin crust stay crispy long 5 minute definitely soggy 10 minute mark   enjoy slice restaurant leftover prove salty try heat pizza home toss rest- economical price sorry   eat slice fred bec want try cobbler day apple cobbler top w/ haagen daaz ice cream recall correctly   order san powder sugar corn allergy find good sweet   try cobbler come high cost 9 plus ice cream corn syrup it- corn allergy   like try profiterole come w/ 9 tag mean 4.50 profiterol- believe ask come dish quote ... \\n\\ndon't fool scowl bouncer type bartender constantly face-- actually nice talk time speak   couple friend go mixer month ago unapproachable project busy come order   hello yous night- big turn w/ high price menu think come again.\\n\\n(i originally go rate 3 star type 2.5 finish w/ review go w/ 2 star   wish well experience"
        ],
        [
         "25027",
         "663306",
         "place identity crisis need decide fast cafeteria serve gourmet process fast food pizza right \\\"some\\ can ingredient .(pineapple tomato etc \\\"processed\\ powder parmesan etc topping display shelf ask   serve method bizarre walk order cashier pay deliver table include food ... end pay table \\n\\nsuch nice restaurant fine staff decide pull trigger lower price fresh ingredient stick 1/3 cafeteria style potential real shame",
         "1",
         "place identity crisis need decide fast cafeteria serve gourmet process fast food pizza right \\\"some\\ can ingredient .(pineapple tomato etc \\\"processed\\ powder parmesan etc topping display shelf ask   serve method bizarre walk order cashier pay deliver table include food ... end pay table \\n\\nsuch nice restaurant fine staff decide pull trigger lower price fresh ingredient stick 1/3 cafeteria style potential real shame"
        ],
        [
         "24675",
         "649825",
         "dozen time let food depend cook duty awesome service leave bad taste mouth probably come probably go awhile hope management get till suggest honey salt instead food good well service great",
         "1",
         "dozen time let food depend cook duty awesome service leave bad taste mouth probably come probably go awhile hope management get till suggest honey salt instead food good well service great"
        ],
        [
         "20738",
         "517849",
         "bin sehr entt\\u00e4uscht von diesem laden sehr unfreundliche fris\\u00f6rin und beim haare schneiden f\\u00fchlte ich mich eher wie bei einer kopfmassage zudem ist der haarschnitt nicht wie gew\\u00fcnscht kleine h\\u00e4rchen stehen zus\\u00e4tzlich noch \\u00fcber den gesamten kopf verteilt der einzige und letzte besuch dort alles kostet dort 13eur trotzdem sollte der gew\\u00fcnschte haarschnitt auch gemacht werden",
         "1",
         "bin sehr entt\\u00e4uscht von diesem laden sehr unfreundliche fris\\u00f6rin und beim haare schneiden f\\u00fchlte ich mich eher wie bei einer kopfmassage zudem ist der haarschnitt nicht wie gew\\u00fcnscht kleine h\\u00e4rchen stehen zus\\u00e4tzlich noch \\u00fcber den gesamten kopf verteilt der einzige und letzte besuch dort alles kostet dort 13eur trotzdem sollte der gew\\u00fcnschte haarschnitt auch gemacht werden"
        ],
        [
         "1610",
         "20130",
         "see film think come child section fun time humorous actually good story severely lack romantic chemistry actor like meg ryan tim robbins capable deliver note walter matthau perfect albert einstein performance extraordinary sole exception film appear bit forced directing lack substance oh yeah ... music ridiculously awful good mood expect smart craft comedy romance tale certainly entertaining like say .. child section einstein buddy good relief tim robbins boring tense quest steal meg ryan heart conflicting film long take seriously alright movie",
         "0",
         "see film think come child section fun time humorous actually good story severely lack romantic chemistry actor like meg ryan tim robbins capable deliver note walter matthau perfect albert einstein performance extraordinary sole exception film appear bit forced directing lack substance oh yeah ... music ridiculously awful good mood expect smart craft comedy romance tale certainly entertaining like say .. child section einstein buddy good relief tim robbins boring tense quest steal meg ryan heart conflicting film long take seriously alright movie"
        ],
        [
         "17179",
         "404192",
         "la bi\\u00e8re est pas ch\\u00e8re et locale la musique est hard rock et les expo temporaire sont sympa dommage que les videur soient lourd \\u00e0 demander la carte d'identit\\u00e9 \\u00e0 des gen de 30 an se balade pas toujour avec son passeport sur sois!\\n\\ny'a aussi des concert \\u00e0 l'\\u00e9tage c'est pas mal mais c'\\u00e9tait mieux avant",
         "1",
         "la bi\\u00e8re est pas ch\\u00e8re et locale la musique est hard rock et les expo temporaire sont sympa dommage que les videur soient lourd \\u00e0 demander la carte d'identit\\u00e9 \\u00e0 des gen de 30 an se balade pas toujour avec son passeport sur sois!\\n\\ny'a aussi des concert \\u00e0 l'\\u00e9tage c'est pas mal mais c'\\u00e9tait mieux avant"
        ],
        [
         "20687",
         "517101",
         "\\\"service mit herz\\ diesen sticker hat das personal hemd leider scheint sich das auf eine rein anatomische tatsache zu beziehen.\\n\\nvon freundlichkeit kann ich hi zu wenig erkennen den service empfinde ich al nicht sonderlich motiviert nicht das dieser unfreundlich w\\u00e4re aber ich f\\u00fchlte mich einfach nicht wohl ich war den letzten 12 monaten 3 mal dort.\\n\\ndas essen ist einwandfrei und die steak wie sie sein sollten.\\n\\nwer ein leckere steak essen m\\u00f6chte ist hi sicher gut aufgehoben daher gehe ich auch regelm\\u00e4\\u00dfig in maredo allerding ist es eines der wenigen restaurants bei dem mir auch das kleinste trinkgeld f\\u00fcr den service extrem weh tut",
         "1",
         "\\\"service mit herz\\ diesen sticker hat das personal hemd leider scheint sich das auf eine rein anatomische tatsache zu beziehen.\\n\\nvon freundlichkeit kann ich hi zu wenig erkennen den service empfinde ich al nicht sonderlich motiviert nicht das dieser unfreundlich w\\u00e4re aber ich f\\u00fchlte mich einfach nicht wohl ich war den letzten 12 monaten 3 mal dort.\\n\\ndas essen ist einwandfrei und die steak wie sie sein sollten.\\n\\nwer ein leckere steak essen m\\u00f6chte ist hi sicher gut aufgehoben daher gehe ich auch regelm\\u00e4\\u00dfig in maredo allerding ist es eines der wenigen restaurants bei dem mir auch das kleinste trinkgeld f\\u00fcr den service extrem weh tut"
        ],
        [
         "3984",
         "49148",
         "watch movie get poor review hmm ... bad love cable guy think big fat independent movie great mind start watch high hope figure maybe ... maybe ... bad kind way laugh wrong point suffering film use term sparingly close mildly entertain start shaq make quentin tarantino look like marlon brando come act hate rap music far tell amish priest probably well rapper main character simply annoying character easy like frankly eat greasy turd harlequin fetus bloody sore watch",
         "0",
         "watch movie get poor review hmm ... bad love cable guy think big fat independent movie great mind start watch high hope figure maybe ... maybe ... bad kind way laugh wrong point suffering film use term sparingly close mildly entertain start shaq make quentin tarantino look like marlon brando come act hate rap music far tell amish priest probably well rapper main character simply annoying character easy like frankly eat greasy turd harlequin fetus bloody sore watch"
        ],
        [
         "21490",
         "542321",
         "ok .. u follow u know love spicy asian food .. place deliver ... food good dim sum well love dumpling .. service good .. .. loved dong ting spring .. arena",
         "2",
         "ok .. u follow u know love spicy asian food .. place deliver ... food good dim sum well love dumpling .. service good .. .. loved dong ting spring .. arena"
        ],
        [
         "9642",
         "174923",
         "ricardo z man!\\n\\nservice ricardo presidential limo prompt courteous professional \\nricardo helpful fun easy interact typical strip tour helpful direct bypass line tourist idea bad traffic strip need add hour problem \\n\\ni time research limo service vegas see ad magazine hotel 85 hour stretch limo",
         "2",
         "ricardo z man!\\n\\nservice ricardo presidential limo prompt courteous professional \\nricardo helpful fun easy interact typical strip tour helpful direct bypass line tourist idea bad traffic strip need add hour problem \\n\\ni time research limo service vegas see ad magazine hotel 85 hour stretch limo"
        ],
        [
         "11658",
         "237269",
         "westin casuarina westin vegas hotel standard westin room standard westin amenity remind great vegas hotel establishment super negative disappointed westin swimming pool tiny area pool great picture website take special camera :) \\n\\nthe rate ok",
         "1",
         "westin casuarina westin vegas hotel standard westin room standard westin amenity remind great vegas hotel establishment super negative disappointed westin swimming pool tiny area pool great picture website take special camera :) \\n\\nthe rate ok"
        ],
        [
         "20949",
         "524125",
         "mean try place time finally effort head harrah ice pan locate far parking garage entrance head casino directly starbucks.\\n\\nyou choose flavor type milk topping want creation mix blend cream pour .. pan hah think crepe pan cold start go know little bit wizardry ice .. cream?\\n\\ni get green tea soy milk mochi enjoy making concoction texture taste sure ice cream consistency little strange taste \\n\\nbut see like hurt",
         "1",
         "mean try place time finally effort head harrah ice pan locate far parking garage entrance head casino directly starbucks.\\n\\nyou choose flavor type milk topping want creation mix blend cream pour .. pan hah think crepe pan cold start go know little bit wizardry ice .. cream?\\n\\ni get green tea soy milk mochi enjoy making concoction texture taste sure ice cream consistency little strange taste \\n\\nbut see like hurt"
        ],
        [
         "3901",
         "48232",
         "totally agree reenactment kill great admit see 1 2 episode season clear reenact catch episode recently suddenly jump big time lose interest immediately notice disclaimer start episode follow follow closely tell actually acting reenact part artificial purpose notice usually pretty good sense stuff recent episode obviously artificial practically trip interest whatsoever watch give entirely real value script act lately poorly script act comment say care reenactment visual truth bunch know happen time guy heresay info well read book",
         "0",
         "totally agree reenactment kill great admit see 1 2 episode season clear reenact catch episode recently suddenly jump big time lose interest immediately notice disclaimer start episode follow follow closely tell actually acting reenact part artificial purpose notice usually pretty good sense stuff recent episode obviously artificial practically trip interest whatsoever watch give entirely real value script act lately poorly script act comment say care reenactment visual truth bunch know happen time guy heresay info well read book"
        ],
        [
         "19209",
         "466522",
         "um yeah bit boring adult true csi fan ... blah experience good price ... sorry wish well",
         "1",
         "um yeah bit boring adult true csi fan ... blah experience good price ... sorry wish well"
        ],
        [
         "13814",
         "299667",
         "experience fun nice kid play outside picnic table   food impress   edible taste okay wow factor   think watch food channel hope amazing bbq experience",
         "1",
         "experience fun nice kid play outside picnic table   food impress   edible taste okay wow factor   think watch food channel hope amazing bbq experience"
        ],
        [
         "8607",
         "139152",
         "night go havana cafe groupon excite leave   starter ask table wait time head house say like 20 30 min wait sure want wait say yes fine go ok walk shake head   little catch surprise professional cook   sit wait notice try people wait leave single party come ask table matter fact   wait start laugh horrible guy   go far say ya 30 min wait wait   omg hope owner read restaurant piss   \\n\\nanyways meal   laura a. share tapas sampler good come tamal cubano excellent chorizo vegetable frituras de frijoles maduros fritos bacalaitos frito couple croquetas   perfect share lot fried plate variety hope   \\n\\nwe finish meal coffee get caf\\u00e9 cubano sweet espresso go moro castle dark rum bailey butterscotch schnapp combine cuban coffee nice way end evening enjoy dessert share coconut flan mango sauce   dessert good great huge flan fan well   \\n\\nso overall meal 3.5 house rude knock way 2   pretty sad give 4.5 trip",
         "1",
         "night go havana cafe groupon excite leave   starter ask table wait time head house say like 20 30 min wait sure want wait say yes fine go ok walk shake head   little catch surprise professional cook   sit wait notice try people wait leave single party come ask table matter fact   wait start laugh horrible guy   go far say ya 30 min wait wait   omg hope owner read restaurant piss   \\n\\nanyways meal   laura a. share tapas sampler good come tamal cubano excellent chorizo vegetable frituras de frijoles maduros fritos bacalaitos frito couple croquetas   perfect share lot fried plate variety hope   \\n\\nwe finish meal coffee get caf\\u00e9 cubano sweet espresso go moro castle dark rum bailey butterscotch schnapp combine cuban coffee nice way end evening enjoy dessert share coconut flan mango sauce   dessert good great huge flan fan well   \\n\\nso overall meal 3.5 house rude knock way 2   pretty sad give 4.5 trip"
        ],
        [
         "1045",
         "13416",
         "writer movie love original think 2 good tolerate 3 ok special hate dare kill ug certainly ug like brother charlie number 2 remember speech charlie say leave earth ug reply charlie bounty hunter say dare writer ignore special bond turn baddie kill charlie particularly awkward scene realize movie get boring fact 20 minute new cast wait long find happen charlie hero wait keep wait say come charlie go appear angela basset good deny turkey move future eliminate possibility see sequel original cast time think writer decide movie go want movie totally line like write people 3 3 humor easily see young child 4 ugly mean spirited eric dare particularly cruel unnecessary hate movie hate hate hate hate fact like hate fact ruin favorite camp classic start simply imdb.com will let zero",
         "0",
         "writer movie love original think 2 good tolerate 3 ok special hate dare kill ug certainly ug like brother charlie number 2 remember speech charlie say leave earth ug reply charlie bounty hunter say dare writer ignore special bond turn baddie kill charlie particularly awkward scene realize movie get boring fact 20 minute new cast wait long find happen charlie hero wait keep wait say come charlie go appear angela basset good deny turkey move future eliminate possibility see sequel original cast time think writer decide movie go want movie totally line like write people 3 3 humor easily see young child 4 ugly mean spirited eric dare particularly cruel unnecessary hate movie hate hate hate hate fact like hate fact ruin favorite camp classic start simply imdb.com will let zero"
        ],
        [
         "21947",
         "557992",
         "good fortune attend opening day rand h norm r mike \\nc robyn n jeromy h.   aka buffet tester :-)   \\n\\nall asian dish taste good desert   feel fall short mac cheese clam chowder   feel selection salad fixing normal   impressed selection sushi   party different idea food judge buffet item fall short properly prepared.\\n\\nthey opening day hiccup like able cash register work get menu item label think pile napkin flatware grab   think owner see take picture point shot   table visit owner building take highly visible interest thing accept customers.\\n\\nif chinese buffet list try",
         "2",
         "good fortune attend opening day rand h norm r mike \\nc robyn n jeromy h.   aka buffet tester :-)   \\n\\nall asian dish taste good desert   feel fall short mac cheese clam chowder   feel selection salad fixing normal   impressed selection sushi   party different idea food judge buffet item fall short properly prepared.\\n\\nthey opening day hiccup like able cash register work get menu item label think pile napkin flatware grab   think owner see take picture point shot   table visit owner building take highly visible interest thing accept customers.\\n\\nif chinese buffet list try"
        ],
        [
         "6161",
         "74476",
         "  oop cy`s place near trouble",
         "0",
         "  oop cy`s place near trouble"
        ],
        [
         "11082",
         "221420",
         "probably good idea watch mtv true life kid obsess lose weight leave   probably good idea eat cream cheese salsa dip 430 spinach artichoke dip 530 \\r\\n\\r\\nthat say refuse morsel absolutely amazing meal offer   situate downstair ritz carlton free noisy clang clang slot machine casino noise spago   nope vegas place   \\r\\n\\r\\nthe staff greet warmly minute arrive meal   jose server feel like dine restaurant offer idea joke compliment read palette choice select perfect wine accompany meal   \\r\\n\\r\\nthe meal mention stuff arrive \\r\\n\\r\\ni try order soup salad jose hear   try look food taste good home leave ... course amazing   lavoush pop mouth cacophony seasoning rosemary parmesan scent waft mouth chew   butternut squash soup latte serve coffee mug cream foam cappuccino maker sit garnish fresh ground cinnamon pumpkin biscotti   asparagus salad order delectable smear dressing   simple asparagus cook perfection.\\r\\n\\r\\n\\\"you're vegetarian fish eh?\\ salad present three dollop mishmash come companion salad arrive suppose course   trust jose kitchen staff   help eat bit candy pecan cowgirl creamery brie crostini apple endive salad   \\r\\n\\r\\nto surprise come companion creamy rich risotto bed masterfully extract present lobster   receive gnocchi   hate gnocchi   good   gnocchi verbena oakland change mind serve ok order resort   give unordered oh ohhhhhh word describe magical little puff melt mouth slide past lip   \\r\\n\\r\\ndid mention arrive   desert wine accompany mandarin lemon sorbet serve champagne glass order   say \\\"o like chocolate\\ gleam eye jose nod \\\"say more!\\   surprise sorbet come chocolate tasting include cup mexican hot chocolate chocolate brulee   \\r\\n\\r\\ncan rate place 10 star pay   food excellently price order surprised word superlatives.\\r\\n\\r\\nif negative comment go operate stature space open michael mina sort way napkin resemble picnic napkin constant source displeasure   aforementioned lavoush cinnammon raisin bread ill place dinner sourdough lack taste grainy bread quickly forget   mention hear remodel hope issue address chair suck appropriate andre giant   6 foot feel like sit adult table.\\r\\n\\r\\nthat aside stay ritz strip absolutely sure dinner   30 cab ride strip find corner exemplary service meet orgasm inducing food",
         "2",
         "probably good idea watch mtv true life kid obsess lose weight leave   probably good idea eat cream cheese salsa dip 430 spinach artichoke dip 530 \\r\\n\\r\\nthat say refuse morsel absolutely amazing meal offer   situate downstair ritz carlton free noisy clang clang slot machine casino noise spago   nope vegas place   \\r\\n\\r\\nthe staff greet warmly minute arrive meal   jose server feel like dine restaurant offer idea joke compliment read palette choice select perfect wine accompany meal   \\r\\n\\r\\nthe meal mention stuff arrive \\r\\n\\r\\ni try order soup salad jose hear   try look food taste good home leave ... course amazing   lavoush pop mouth cacophony seasoning rosemary parmesan scent waft mouth chew   butternut squash soup latte serve coffee mug cream foam cappuccino maker sit garnish fresh ground cinnamon pumpkin biscotti   asparagus salad order delectable smear dressing   simple asparagus cook perfection.\\r\\n\\r\\n\\\"you're vegetarian fish eh?\\ salad present three dollop mishmash come companion salad arrive suppose course   trust jose kitchen staff   help eat bit candy pecan cowgirl creamery brie crostini apple endive salad   \\r\\n\\r\\nto surprise come companion creamy rich risotto bed masterfully extract present lobster   receive gnocchi   hate gnocchi   good   gnocchi verbena oakland change mind serve ok order resort   give unordered oh ohhhhhh word describe magical little puff melt mouth slide past lip   \\r\\n\\r\\ndid mention arrive   desert wine accompany mandarin lemon sorbet serve champagne glass order   say \\\"o like chocolate\\ gleam eye jose nod \\\"say more!\\   surprise sorbet come chocolate tasting include cup mexican hot chocolate chocolate brulee   \\r\\n\\r\\ncan rate place 10 star pay   food excellently price order surprised word superlatives.\\r\\n\\r\\nif negative comment go operate stature space open michael mina sort way napkin resemble picnic napkin constant source displeasure   aforementioned lavoush cinnammon raisin bread ill place dinner sourdough lack taste grainy bread quickly forget   mention hear remodel hope issue address chair suck appropriate andre giant   6 foot feel like sit adult table.\\r\\n\\r\\nthat aside stay ritz strip absolutely sure dinner   30 cab ride strip find corner exemplary service meet orgasm inducing food"
        ],
        [
         "5290",
         "64519",
         "bran watch video not stalker status 2nite   /3ysav",
         "1",
         "bran watch video not stalker status 2nite   /3ysav"
        ],
        [
         "2281",
         "28324",
         "thing hole movie premise script flatliner ideal showcase joel schumacher glorious flamboyant brazen lack talent plot totally illogical super fake ponderous art direct inch life clichéd overheat way love med school autopsy room cavernous vaulted marble mausoleum low light red huge rembrandt painting hang wall love keifer sutherland drive canvas back army jeep joel schumacher movie live un eccentric manner alternate universe young painfully hip hip strictly obsessively accord touch middle aged billionaire man child idea hip holy crap baldwin brother 16 die come life haunt woman sleep intone need space funniest friggin thing universe kind world live joel schumacher get have people throw money flatliner want review man entire oeuvre solely kind high quality yuks contain",
         "0",
         "thing hole movie premise script flatliner ideal showcase joel schumacher glorious flamboyant brazen lack talent plot totally illogical super fake ponderous art direct inch life clichéd overheat way love med school autopsy room cavernous vaulted marble mausoleum low light red huge rembrandt painting hang wall love keifer sutherland drive canvas back army jeep joel schumacher movie live un eccentric manner alternate universe young painfully hip hip strictly obsessively accord touch middle aged billionaire man child idea hip holy crap baldwin brother 16 die come life haunt woman sleep intone need space funniest friggin thing universe kind world live joel schumacher get have people throw money flatliner want review man entire oeuvre solely kind high quality yuks contain"
        ],
        [
         "8394",
         "131862",
         "far bad gay nightclub phoenix trust know gay nightclub \\nlol seriously place crap suckere come time birthday party event fun drag lame act see dj good play different tune c non existent think use swamp cooler bathroom size toilet stall pack u piss alley plenty hooker disposal drink expensive water soda taste funny bar tender nice friendly try food outside hear great parking disaster limited space night go break in parking lot near liquor store honest bad outweigh good club shot risk remember warn",
         "1",
         "far bad gay nightclub phoenix trust know gay nightclub \\nlol seriously place crap suckere come time birthday party event fun drag lame act see dj good play different tune c non existent think use swamp cooler bathroom size toilet stall pack u piss alley plenty hooker disposal drink expensive water soda taste funny bar tender nice friendly try food outside hear great parking disaster limited space night go break in parking lot near liquor store honest bad outweigh good club shot risk remember warn"
        ],
        [
         "4610",
         "56326",
         "sit wondering wish bunch stuff",
         "1",
         "sit wondering wish bunch stuff"
        ],
        [
         "15389",
         "348427",
         "decent bar food sport atmosphere   wing flavor try like honey bbq   order slider impressed   meat little dry fan have assemble slider topping   come happy hour fan beer fruity choice option night notice happy hour option   trivia game entertaining",
         "1",
         "decent bar food sport atmosphere   wing flavor try like honey bbq   order slider impressed   meat little dry fan have assemble slider topping   come happy hour fan beer fruity choice option night notice happy hour option   trivia game entertaining"
        ],
        [
         "23228",
         "600393",
         "stop way class morning impressed place small seat 10 12 kind like server nice personable menu simple essential breakfast food average service fast 30 minute order coffee fresh cup way out.\\nthe downside price slightly high average breakfast location mill guess expect definitely come future",
         "2",
         "stop way class morning impressed place small seat 10 12 kind like server nice personable menu simple essential breakfast food average service fast 30 minute order coffee fresh cup way out.\\nthe downside price slightly high average breakfast location mill guess expect definitely come future"
        ],
        [
         "14194",
         "311206",
         "location hood stat give area definitely young crowd late show weekend surprise people stroller young toddler midnight showing rate r film roll shake head \\n\\noh give low rating people questionable parenting ... kid cry ruin experience thankfully happen showing rate low seat smell ... smell like sweat yea ... gross huh maybe doubt couple time uneasy feeling cleanliness time matter convenient showtime usually make decide factor come marketplace chandler mall tukee",
         "1",
         "location hood stat give area definitely young crowd late show weekend surprise people stroller young toddler midnight showing rate r film roll shake head \\n\\noh give low rating people questionable parenting ... kid cry ruin experience thankfully happen showing rate low seat smell ... smell like sweat yea ... gross huh maybe doubt couple time uneasy feeling cleanliness time matter convenient showtime usually make decide factor come marketplace chandler mall tukee"
        ],
        [
         "20451",
         "509576",
         "walk blow wait stylist sarah graves attentive give exactly want sexy hair sure happy call deal 35 sure return special occasion",
         "2",
         "walk blow wait stylist sarah graves attentive give exactly want sexy hair sure happy call deal 35 sure return special occasion"
        ],
        [
         "5975",
         "72486",
         "  m supermodel eat mcdonald baby s  ",
         "1",
         "  m supermodel eat mcdonald baby s  "
        ],
        [
         "13475",
         "288732",
         "service good food lack taste ..",
         "1",
         "service good food lack taste .."
        ],
        [
         "11615",
         "235952",
         "good food fancy cafe.\\n\\nsurprise bad review   good menu service excellent portion big   ethnic food menu   waitress ask want bill room tab 5 attentive kind fancy look outside price kind steep strip mirage imperial palace worth",
         "2",
         "good food fancy cafe.\\n\\nsurprise bad review   good menu service excellent portion big   ethnic food menu   waitress ask want bill room tab 5 attentive kind fancy look outside price kind steep strip mirage imperial palace worth"
        ]
       ],
       "shape": {
        "columns": 4,
        "rows": 7626
       }
      },
      "text/html": [
       "<div>\n",
       "<style scoped>\n",
       "    .dataframe tbody tr th:only-of-type {\n",
       "        vertical-align: middle;\n",
       "    }\n",
       "\n",
       "    .dataframe tbody tr th {\n",
       "        vertical-align: top;\n",
       "    }\n",
       "\n",
       "    .dataframe thead th {\n",
       "        text-align: right;\n",
       "    }\n",
       "</style>\n",
       "<table border=\"1\" class=\"dataframe\">\n",
       "  <thead>\n",
       "    <tr style=\"text-align: right;\">\n",
       "      <th></th>\n",
       "      <th>Unnamed: 0</th>\n",
       "      <th>text</th>\n",
       "      <th>label</th>\n",
       "      <th>preprocess_text</th>\n",
       "    </tr>\n",
       "  </thead>\n",
       "  <tbody>\n",
       "    <tr>\n",
       "      <th>20661</th>\n",
       "      <td>516768</td>\n",
       "      <td>place name america disappointment shop instead...</td>\n",
       "      <td>1</td>\n",
       "      <td>place name america disappointment shop instead...</td>\n",
       "    </tr>\n",
       "    <tr>\n",
       "      <th>5449</th>\n",
       "      <td>66328</td>\n",
       "      <td>stop twittering maryland cookie bgt</td>\n",
       "      <td>1</td>\n",
       "      <td>stop twittering maryland cookie bgt</td>\n",
       "    </tr>\n",
       "    <tr>\n",
       "      <th>21056</th>\n",
       "      <td>527970</td>\n",
       "      <td>great little cafe nestle bough charming polish...</td>\n",
       "      <td>2</td>\n",
       "      <td>great little cafe nestle bough charming polish...</td>\n",
       "    </tr>\n",
       "    <tr>\n",
       "      <th>9406</th>\n",
       "      <td>166502</td>\n",
       "      <td>complete waste time take 10 minute look round ...</td>\n",
       "      <td>1</td>\n",
       "      <td>complete waste time take 10 minute look round ...</td>\n",
       "    </tr>\n",
       "    <tr>\n",
       "      <th>1818</th>\n",
       "      <td>22626</td>\n",
       "      <td>taste film continue astound probably infuriate...</td>\n",
       "      <td>2</td>\n",
       "      <td>taste film continue astound probably infuriate...</td>\n",
       "    </tr>\n",
       "    <tr>\n",
       "      <th>...</th>\n",
       "      <td>...</td>\n",
       "      <td>...</td>\n",
       "      <td>...</td>\n",
       "      <td>...</td>\n",
       "    </tr>\n",
       "    <tr>\n",
       "      <th>16786</th>\n",
       "      <td>391324</td>\n",
       "      <td>far big f21 store   go shopping trip find cute...</td>\n",
       "      <td>2</td>\n",
       "      <td>far big f21 store   go shopping trip find cute...</td>\n",
       "    </tr>\n",
       "    <tr>\n",
       "      <th>8395</th>\n",
       "      <td>131890</td>\n",
       "      <td>probably say place today finally trip inside s...</td>\n",
       "      <td>2</td>\n",
       "      <td>probably say place today finally trip inside s...</td>\n",
       "    </tr>\n",
       "    <tr>\n",
       "      <th>3187</th>\n",
       "      <td>39189</td>\n",
       "      <td>watch film take acid read philip k. dick think...</td>\n",
       "      <td>2</td>\n",
       "      <td>watch film take acid read philip k. dick think...</td>\n",
       "    </tr>\n",
       "    <tr>\n",
       "      <th>11448</th>\n",
       "      <td>231570</td>\n",
       "      <td>place creepy</td>\n",
       "      <td>1</td>\n",
       "      <td>place creepy</td>\n",
       "    </tr>\n",
       "    <tr>\n",
       "      <th>12274</th>\n",
       "      <td>255833</td>\n",
       "      <td>hot ball movie theater air conditioned.\\n\\nit ...</td>\n",
       "      <td>2</td>\n",
       "      <td>hot ball movie theater air conditioned.\\n\\nit ...</td>\n",
       "    </tr>\n",
       "  </tbody>\n",
       "</table>\n",
       "<p>7626 rows × 4 columns</p>\n",
       "</div>"
      ],
      "text/plain": [
       "       Unnamed: 0                                               text  label  \\\n",
       "20661      516768  place name america disappointment shop instead...      1   \n",
       "5449        66328                stop twittering maryland cookie bgt      1   \n",
       "21056      527970  great little cafe nestle bough charming polish...      2   \n",
       "9406       166502  complete waste time take 10 minute look round ...      1   \n",
       "1818        22626  taste film continue astound probably infuriate...      2   \n",
       "...           ...                                                ...    ...   \n",
       "16786      391324  far big f21 store   go shopping trip find cute...      2   \n",
       "8395       131890  probably say place today finally trip inside s...      2   \n",
       "3187        39189  watch film take acid read philip k. dick think...      2   \n",
       "11448      231570                                       place creepy      1   \n",
       "12274      255833  hot ball movie theater air conditioned.\\n\\nit ...      2   \n",
       "\n",
       "                                         preprocess_text  \n",
       "20661  place name america disappointment shop instead...  \n",
       "5449                 stop twittering maryland cookie bgt  \n",
       "21056  great little cafe nestle bough charming polish...  \n",
       "9406   complete waste time take 10 minute look round ...  \n",
       "1818   taste film continue astound probably infuriate...  \n",
       "...                                                  ...  \n",
       "16786  far big f21 store   go shopping trip find cute...  \n",
       "8395   probably say place today finally trip inside s...  \n",
       "3187   watch film take acid read philip k. dick think...  \n",
       "11448                                       place creepy  \n",
       "12274  hot ball movie theater air conditioned.\\n\\nit ...  \n",
       "\n",
       "[7626 rows x 4 columns]"
      ]
     },
     "execution_count": 115,
     "metadata": {},
     "output_type": "execute_result"
    }
   ],
   "source": [
    "df_test"
   ]
  },
  {
   "cell_type": "code",
   "execution_count": null,
   "id": "6edf9ef1",
   "metadata": {},
   "outputs": [
    {
     "data": {
      "application/vnd.jupyter.widget-view+json": {
       "model_id": "dc0af89df58b4c72898754eada4ae090",
       "version_major": 2,
       "version_minor": 0
      },
      "text/plain": [
       "tokenizer_config.json:   0%|          | 0.00/48.0 [00:00<?, ?B/s]"
      ]
     },
     "metadata": {},
     "output_type": "display_data"
    },
    {
     "data": {
      "application/vnd.jupyter.widget-view+json": {
       "model_id": "800d7e08c9db4b11916082dff527d10a",
       "version_major": 2,
       "version_minor": 0
      },
      "text/plain": [
       "config.json:   0%|          | 0.00/571 [00:00<?, ?B/s]"
      ]
     },
     "metadata": {},
     "output_type": "display_data"
    },
    {
     "data": {
      "application/vnd.jupyter.widget-view+json": {
       "model_id": "f86443170edb459ca1b2b0e4ddb42bdb",
       "version_major": 2,
       "version_minor": 0
      },
      "text/plain": [
       "vocab.txt:   0%|          | 0.00/232k [00:00<?, ?B/s]"
      ]
     },
     "metadata": {},
     "output_type": "display_data"
    },
    {
     "data": {
      "application/vnd.jupyter.widget-view+json": {
       "model_id": "aacc79f0598b4335a8167126061a44d1",
       "version_major": 2,
       "version_minor": 0
      },
      "text/plain": [
       "tokenizer.json:   0%|          | 0.00/466k [00:00<?, ?B/s]"
      ]
     },
     "metadata": {},
     "output_type": "display_data"
    }
   ],
   "source": [
    "model_name = 'google-bert/bert-base-uncased'\n",
    "tokenizer = AutoTokenizer.from_pretrained(model_name)"
   ]
  },
  {
   "cell_type": "code",
   "execution_count": 117,
   "id": "6061d937",
   "metadata": {},
   "outputs": [
    {
     "data": {
      "application/vnd.jupyter.widget-view+json": {
       "model_id": "db738ac037d24712bd45d42b27e2580a",
       "version_major": 2,
       "version_minor": 0
      },
      "text/plain": [
       "Map:   0%|          | 0/17792 [00:00<?, ? examples/s]"
      ]
     },
     "metadata": {},
     "output_type": "display_data"
    },
    {
     "data": {
      "application/vnd.jupyter.widget-view+json": {
       "model_id": "dad744475802491cb6cd383497ee087d",
       "version_major": 2,
       "version_minor": 0
      },
      "text/plain": [
       "Map:   0%|          | 0/7626 [00:00<?, ? examples/s]"
      ]
     },
     "metadata": {},
     "output_type": "display_data"
    }
   ],
   "source": [
    "# Convert DataFrames to Hugging Face Datasets\n",
    "train_dataset = Dataset.from_pandas(df_train[['text', 'label']])\n",
    "test_dataset = Dataset.from_pandas(df_test[['text', 'label']])\n",
    "\n",
    "# Adding short max length to lower training time\n",
    "def tokenize_function(examples):\n",
    "    return tokenizer(examples['text'], padding='max_length', truncation=True, max_length=512)\n",
    "\n",
    "tokenized_train_dataset = train_dataset.map(tokenize_function, batched=True)\n",
    "tokenized_test_dataset = test_dataset.map(tokenize_function, batched=True)"
   ]
  },
  {
   "cell_type": "code",
   "execution_count": 118,
   "id": "d01cf5b1",
   "metadata": {},
   "outputs": [
    {
     "name": "stdout",
     "output_type": "stream",
     "text": [
      "Using device: cuda\n"
     ]
    }
   ],
   "source": [
    "import torch\n",
    "if torch.cuda.is_available():\n",
    "    device = \"cuda\"\n",
    "elif torch.backends.mps.is_available():\n",
    "    device = \"mps\"\n",
    "else:\n",
    "    device = \"cpu\"\n",
    "print(\"Using device:\", device)"
   ]
  },
  {
   "cell_type": "code",
   "execution_count": 119,
   "id": "218554ae",
   "metadata": {},
   "outputs": [
    {
     "name": "stderr",
     "output_type": "stream",
     "text": [
      "Xet Storage is enabled for this repo, but the 'hf_xet' package is not installed. Falling back to regular HTTP download. For better performance, install the package with: `pip install huggingface_hub[hf_xet]` or `pip install hf_xet`\n"
     ]
    },
    {
     "data": {
      "application/vnd.jupyter.widget-view+json": {
       "model_id": "82ddf86ec1454eccbdad8272b2caa909",
       "version_major": 2,
       "version_minor": 0
      },
      "text/plain": [
       "model.safetensors:   0%|          | 0.00/1.34G [00:00<?, ?B/s]"
      ]
     },
     "metadata": {},
     "output_type": "display_data"
    },
    {
     "name": "stderr",
     "output_type": "stream",
     "text": [
      "Some weights of BertForSequenceClassification were not initialized from the model checkpoint at google-bert/bert-large-uncased and are newly initialized: ['classifier.bias', 'classifier.weight']\n",
      "You should probably TRAIN this model on a down-stream task to be able to use it for predictions and inference.\n"
     ]
    }
   ],
   "source": [
    "model = AutoModelForSequenceClassification.from_pretrained(model_name, num_labels=3)\n",
    "\n",
    "lora_config = LoraConfig(\n",
    "    r=16,\n",
    "    lora_alpha=32,\n",
    "    target_modules=[\"query\", \"value\"],  # BERT uses query, key, value in attention\n",
    "    lora_dropout=0.1,\n",
    "    bias=\"all\",\n",
    "    task_type=TaskType.SEQ_CLS\n",
    ")\n",
    "\n",
    "training_args = TrainingArguments(\n",
    "    output_dir=\"./results/\" + model_name,\n",
    "    learning_rate=2e-3,\n",
    "    per_device_train_batch_size=16,\n",
    "    per_device_eval_batch_size=16,\n",
    "    gradient_accumulation_steps=1,\n",
    "    #gradient_checkpointing=True,\n",
    "    num_train_epochs=3,\n",
    "    dataloader_num_workers=5,\n",
    "    #logging_steps=100,\n",
    "    weight_decay=0.01,\n",
    ")\n",
    "\n",
    "model = get_peft_model(model, lora_config)\n",
    "model = model.to(device)\n",
    "\n",
    "for name, param in model.named_parameters():\n",
    "    if \"classifier\" in name:\n",
    "        param.requires_grad = True"
   ]
  },
  {
   "cell_type": "code",
   "execution_count": 120,
   "id": "c04d8ffe",
   "metadata": {},
   "outputs": [],
   "source": [
    "# Define a compute metrics function\n",
    "def compute_metrics(p):\n",
    "    preds = p.predictions.argmax(-1)\n",
    "    accuracy = accuracy_score(p.label_ids, preds)\n",
    "    return {'accuracy': accuracy}"
   ]
  },
  {
   "cell_type": "code",
   "execution_count": 121,
   "id": "32a4c332",
   "metadata": {},
   "outputs": [],
   "source": [
    "from transformers import TrainerCallback\n",
    "\n",
    "class LossAccuracyLogger(TrainerCallback):\n",
    "    def __init__(self):\n",
    "        self.train_loss = []\n",
    "        self.eval_accuracy = []\n",
    "\n",
    "    def on_log(self, args, state, control, logs=None, **kwargs):\n",
    "        if logs is not None:\n",
    "            if \"loss\" in logs:\n",
    "                self.train_loss.append((state.epoch, logs[\"loss\"]))\n",
    "            if \"eval_accuracy\" in logs:\n",
    "                self.eval_accuracy.append((state.epoch, logs[\"eval_accuracy\"]))\n"
   ]
  },
  {
   "cell_type": "code",
   "execution_count": 122,
   "id": "2b3af93c",
   "metadata": {},
   "outputs": [
    {
     "name": "stderr",
     "output_type": "stream",
     "text": [
      "No label_names provided for model class `PeftModelForSequenceClassification`. Since `PeftModel` hides base models input arguments, if label_names is not given, label_names can't be set automatically within `Trainer`. Note that empty label_names list will be used instead.\n"
     ]
    }
   ],
   "source": [
    "logger_callback = LossAccuracyLogger()\n",
    "\n",
    "trainer = Trainer(\n",
    "    model=model,\n",
    "    args=training_args,\n",
    "    train_dataset=tokenized_train_dataset,\n",
    "    eval_dataset=tokenized_test_dataset,\n",
    "    compute_metrics=compute_metrics,\n",
    "    callbacks=[logger_callback]\n",
    ")"
   ]
  },
  {
   "cell_type": "code",
   "execution_count": 123,
   "id": "08c68391",
   "metadata": {},
   "outputs": [
    {
     "data": {
      "text/html": [
       "\n",
       "    <div>\n",
       "      \n",
       "      <progress value='2740' max='3336' style='width:300px; height:20px; vertical-align: middle;'></progress>\n",
       "      [2740/3336 41:39 < 09:04, 1.10 it/s, Epoch 2.46/3]\n",
       "    </div>\n",
       "    <table border=\"1\" class=\"dataframe\">\n",
       "  <thead>\n",
       " <tr style=\"text-align: left;\">\n",
       "      <th>Step</th>\n",
       "      <th>Training Loss</th>\n",
       "    </tr>\n",
       "  </thead>\n",
       "  <tbody>\n",
       "    <tr>\n",
       "      <td>500</td>\n",
       "      <td>1.100700</td>\n",
       "    </tr>\n",
       "    <tr>\n",
       "      <td>1000</td>\n",
       "      <td>1.033500</td>\n",
       "    </tr>\n",
       "    <tr>\n",
       "      <td>1500</td>\n",
       "      <td>1.005800</td>\n",
       "    </tr>\n",
       "    <tr>\n",
       "      <td>2000</td>\n",
       "      <td>1.004800</td>\n",
       "    </tr>\n",
       "    <tr>\n",
       "      <td>2500</td>\n",
       "      <td>0.999200</td>\n",
       "    </tr>\n",
       "  </tbody>\n",
       "</table><p>"
      ],
      "text/plain": [
       "<IPython.core.display.HTML object>"
      ]
     },
     "metadata": {},
     "output_type": "display_data"
    },
    {
     "ename": "KeyboardInterrupt",
     "evalue": "",
     "output_type": "error",
     "traceback": [
      "\u001b[31m---------------------------------------------------------------------------\u001b[39m",
      "\u001b[31mKeyboardInterrupt\u001b[39m                         Traceback (most recent call last)",
      "\u001b[36mCell\u001b[39m\u001b[36m \u001b[39m\u001b[32mIn[123]\u001b[39m\u001b[32m, line 2\u001b[39m\n\u001b[32m      1\u001b[39m \u001b[38;5;66;03m# Train the model\u001b[39;00m\n\u001b[32m----> \u001b[39m\u001b[32m2\u001b[39m \u001b[43mtrainer\u001b[49m\u001b[43m.\u001b[49m\u001b[43mtrain\u001b[49m\u001b[43m(\u001b[49m\u001b[43m)\u001b[49m\n",
      "\u001b[36mFile \u001b[39m\u001b[32md:\\526_term_project\\Skynet\\.venv\\Lib\\site-packages\\transformers\\trainer.py:2245\u001b[39m, in \u001b[36mTrainer.train\u001b[39m\u001b[34m(self, resume_from_checkpoint, trial, ignore_keys_for_eval, **kwargs)\u001b[39m\n\u001b[32m   2243\u001b[39m         hf_hub_utils.enable_progress_bars()\n\u001b[32m   2244\u001b[39m \u001b[38;5;28;01melse\u001b[39;00m:\n\u001b[32m-> \u001b[39m\u001b[32m2245\u001b[39m     \u001b[38;5;28;01mreturn\u001b[39;00m \u001b[43minner_training_loop\u001b[49m\u001b[43m(\u001b[49m\n\u001b[32m   2246\u001b[39m \u001b[43m        \u001b[49m\u001b[43margs\u001b[49m\u001b[43m=\u001b[49m\u001b[43margs\u001b[49m\u001b[43m,\u001b[49m\n\u001b[32m   2247\u001b[39m \u001b[43m        \u001b[49m\u001b[43mresume_from_checkpoint\u001b[49m\u001b[43m=\u001b[49m\u001b[43mresume_from_checkpoint\u001b[49m\u001b[43m,\u001b[49m\n\u001b[32m   2248\u001b[39m \u001b[43m        \u001b[49m\u001b[43mtrial\u001b[49m\u001b[43m=\u001b[49m\u001b[43mtrial\u001b[49m\u001b[43m,\u001b[49m\n\u001b[32m   2249\u001b[39m \u001b[43m        \u001b[49m\u001b[43mignore_keys_for_eval\u001b[49m\u001b[43m=\u001b[49m\u001b[43mignore_keys_for_eval\u001b[49m\u001b[43m,\u001b[49m\n\u001b[32m   2250\u001b[39m \u001b[43m    \u001b[49m\u001b[43m)\u001b[49m\n",
      "\u001b[36mFile \u001b[39m\u001b[32md:\\526_term_project\\Skynet\\.venv\\Lib\\site-packages\\transformers\\trainer.py:2565\u001b[39m, in \u001b[36mTrainer._inner_training_loop\u001b[39m\u001b[34m(self, batch_size, args, resume_from_checkpoint, trial, ignore_keys_for_eval)\u001b[39m\n\u001b[32m   2559\u001b[39m \u001b[38;5;28;01mwith\u001b[39;00m context():\n\u001b[32m   2560\u001b[39m     tr_loss_step = \u001b[38;5;28mself\u001b[39m.training_step(model, inputs, num_items_in_batch)\n\u001b[32m   2562\u001b[39m \u001b[38;5;28;01mif\u001b[39;00m (\n\u001b[32m   2563\u001b[39m     args.logging_nan_inf_filter\n\u001b[32m   2564\u001b[39m     \u001b[38;5;129;01mand\u001b[39;00m \u001b[38;5;129;01mnot\u001b[39;00m is_torch_xla_available()\n\u001b[32m-> \u001b[39m\u001b[32m2565\u001b[39m     \u001b[38;5;129;01mand\u001b[39;00m (torch.isnan(tr_loss_step) \u001b[38;5;129;01mor\u001b[39;00m \u001b[43mtorch\u001b[49m\u001b[43m.\u001b[49m\u001b[43misinf\u001b[49m\u001b[43m(\u001b[49m\u001b[43mtr_loss_step\u001b[49m\u001b[43m)\u001b[49m)\n\u001b[32m   2566\u001b[39m ):\n\u001b[32m   2567\u001b[39m     \u001b[38;5;66;03m# if loss is nan or inf simply add the average of previous logged losses\u001b[39;00m\n\u001b[32m   2568\u001b[39m     tr_loss = tr_loss + tr_loss / (\u001b[32m1\u001b[39m + \u001b[38;5;28mself\u001b[39m.state.global_step - \u001b[38;5;28mself\u001b[39m._globalstep_last_logged)\n\u001b[32m   2569\u001b[39m \u001b[38;5;28;01melse\u001b[39;00m:\n",
      "\u001b[31mKeyboardInterrupt\u001b[39m: "
     ]
    }
   ],
   "source": [
    "# Train the model\n",
    "trainer.train()"
   ]
  },
  {
   "cell_type": "code",
   "execution_count": null,
   "id": "61fb12e9",
   "metadata": {},
   "outputs": [],
   "source": [
    "trainer.save_model(\"./results/\" + model_name + \"v1\")"
   ]
  },
  {
   "cell_type": "code",
   "execution_count": null,
   "id": "16584683",
   "metadata": {},
   "outputs": [
    {
     "data": {
      "text/html": [
       "\n",
       "    <div>\n",
       "      \n",
       "      <progress value='477' max='477' style='width:300px; height:20px; vertical-align: middle;'></progress>\n",
       "      [477/477 00:58]\n",
       "    </div>\n",
       "    "
      ],
      "text/plain": [
       "<IPython.core.display.HTML object>"
      ]
     },
     "metadata": {},
     "output_type": "display_data"
    },
    {
     "name": "stdout",
     "output_type": "stream",
     "text": [
      "{'eval_loss': 0.9946369528770447, 'eval_accuracy': 0.448334644636769, 'eval_runtime': 72.0795, 'eval_samples_per_second': 105.8, 'eval_steps_per_second': 6.618, 'epoch': 3.0}\n"
     ]
    },
    {
     "data": {
      "image/png": "[encoded data removed]",
      "text/plain": [
       "<Figure size 1000x500 with 2 Axes>"
      ]
     },
     "metadata": {},
     "output_type": "display_data"
    }
   ],
   "source": [
    "# Evaluate the model\n",
    "results = trainer.evaluate()\n",
    "print(results)\n",
    "\n",
    "import matplotlib.pyplot as plt\n",
    "\n",
    "# Unpack the epoch and values\n",
    "train_epochs, train_losses = zip(*logger_callback.train_loss)\n",
    "eval_epochs, eval_accuracies = zip(*logger_callback.eval_accuracy)\n",
    "\n",
    "# Plot training loss\n",
    "plt.figure(figsize=(10, 5))\n",
    "plt.subplot(1, 2, 1)\n",
    "plt.plot(train_epochs, train_losses, marker='o')\n",
    "plt.title(\"Training Loss per Epoch\")\n",
    "plt.xlabel(\"Epoch\")\n",
    "plt.ylabel(\"Loss\")\n",
    "\n",
    "# Plot eval accuracy\n",
    "plt.subplot(1, 2, 2)\n",
    "plt.plot(eval_epochs, eval_accuracies, marker='o', color='green')\n",
    "plt.title(\"Evaluation Accuracy per Epoch\")\n",
    "plt.xlabel(\"Epoch\")\n",
    "plt.ylabel(\"Accuracy\")\n",
    "\n",
    "plt.tight_layout()\n",
    "plt.show()\n"
   ]
  },
  {
   "cell_type": "code",
   "execution_count": 77,
   "id": "2c912383",
   "metadata": {},
   "outputs": [
    {
     "data": {
      "application/vnd.microsoft.datawrangler.viewer.v0+json": {
       "columns": [
        {
         "name": "index",
         "rawType": "int64",
         "type": "integer"
        },
        {
         "name": "Unnamed: 0",
         "rawType": "int64",
         "type": "integer"
        },
        {
         "name": "text",
         "rawType": "object",
         "type": "string"
        },
        {
         "name": "label",
         "rawType": "int64",
         "type": "integer"
        },
        {
         "name": "preprocess_text",
         "rawType": "object",
         "type": "string"
        }
       ],
       "conversionMethod": "pd.DataFrame",
       "ref": "e8ac356f-531d-45ea-9c29-b93515b7bbc6",
       "rows": [
        [
         "0",
         "0",
         "reviewer mention watch 1 oz episode hook right exactly happen me.<br /><br />the thing strike oz brutality unflinche scene violence set right word trust faint hearted timid pull punch regard drug sex violence hardcore classic use word.<br /><br />it call oz nickname give oswald maximum security state penitentary focus mainly emerald city experimental section prison cell glass front face inward privacy high agenda em city home .. aryans muslims gangsta latinos christians italians irish .... scuffle death stare dodgy dealing shady agreement far away.<br /><br />i main appeal fact go show dare forget pretty picture paint mainstream audience forget charm forget romance ... oz mess episode see strike nasty surreal ready watch develop taste oz get accustom high level graphic violence violence injustice crooked guard sell nickel inmate kill order away mannered middle class inmate turn prison bitch lack street skill prison experience watch oz comfortable uncomfortable view .... that touch dark",
         "2",
         "reviewer mention watch 1 oz episode hook right exactly happen me.<br /><br />the thing strike oz brutality unflinche scene violence set right word trust faint hearted timid pull punch regard drug sex violence hardcore classic use word.<br /><br />it call oz nickname give oswald maximum security state penitentary focus mainly emerald city experimental section prison cell glass front face inward privacy high agenda em city home .. aryans muslims gangsta latinos christians italians irish .... scuffle death stare dodgy dealing shady agreement far away.<br /><br />i main appeal fact go show dare forget pretty picture paint mainstream audience forget charm forget romance ... oz mess episode see strike nasty surreal ready watch develop taste oz get accustom high level graphic violence violence injustice crooked guard sell nickel inmate kill order away mannered middle class inmate turn prison bitch lack street skill prison experience watch oz comfortable uncomfortable view .... that touch dark"
        ],
        [
         "1",
         "1",
         "wonderful little production br /><br />the filming technique unassuming- old time bbc fashion give comforting discomforte sense realism entire piece br /><br />the actor extremely chosen- michael sheen get polari voice pat truly seamless editing guide reference williams diary entry worth watching terrificly write perform piece masterful production great master comedy life br /><br />the realism come home little thing fantasy guard use traditional dream technique remain solid disappear play knowledge sense particularly scene concern orton halliwell set particularly flat halliwell mural decorate surface terribly",
         "2",
         "wonderful little production br /><br />the filming technique unassuming- old time bbc fashion give comforting discomforte sense realism entire piece br /><br />the actor extremely chosen- michael sheen get polari voice pat truly seamless editing guide reference williams diary entry worth watching terrificly write perform piece masterful production great master comedy life br /><br />the realism come home little thing fantasy guard use traditional dream technique remain solid disappear play knowledge sense particularly scene concern orton halliwell set particularly flat halliwell mural decorate surface terribly"
        ],
        [
         "2",
         "2",
         "think wonderful way spend time hot summer weekend sit air condition theater watch light hearted comedy plot simplistic dialogue witty character likable bread suspect serial killer disappoint realize match point 2 risk addiction think proof woody allen fully control style grow love.<br /><br />this laugh woody comedy year dare decade impress scarlet johanson manage tone sexy image jump right average spirited young woman.<br /><br />this crown jewel career witty devil wears prada interesting superman great comedy friend",
         "2",
         "think wonderful way spend time hot summer weekend sit air condition theater watch light hearted comedy plot simplistic dialogue witty character likable bread suspect serial killer disappoint realize match point 2 risk addiction think proof woody allen fully control style grow love.<br /><br />this laugh woody comedy year dare decade impress scarlet johanson manage tone sexy image jump right average spirited young woman.<br /><br />this crown jewel career witty devil wears prada interesting superman great comedy friend"
        ],
        [
         "3",
         "3",
         "basically family little boy jake think zombie closet parent fight time.<br /><br />this movie slow soap opera ... suddenly jake decide rambo kill zombie.<br /><br />ok go film decide thriller drama drama movie watchable parent divorce argue like real life jake closet totally ruin film expect boogeyman similar movie instead watch drama meaningless thriller spots.<br /><br />3 10 play parent descent dialog shot jake ignore",
         "0",
         "basically family little boy jake think zombie closet parent fight time.<br /><br />this movie slow soap opera ... suddenly jake decide rambo kill zombie.<br /><br />ok go film decide thriller drama drama movie watchable parent divorce argue like real life jake closet totally ruin film expect boogeyman similar movie instead watch drama meaningless thriller spots.<br /><br />3 10 play parent descent dialog shot jake ignore"
        ],
        [
         "4",
         "4",
         "petter mattei love time money visually stunning film watch mr. mattei offer vivid portrait human relation movie tell money power success people different situation encounter br /><br />this variation arthur schnitzler play theme director transfer action present time new york different character meet connect connect way person know previous point contact stylishly film sophisticated luxurious look take people live world live habitat.<br /><br />the thing get soul picture different stage loneliness inhabit big city exactly good place human relation find sincere fulfillment discern case people encounter.<br /><br />the act good mr. mattei direction steve buscemi rosario dawson carol kane michael imperioli adrian grenier rest talented cast character come alive.<br /><br />we wish mr. mattei good luck await anxiously work",
         "2",
         "petter mattei love time money visually stunning film watch mr. mattei offer vivid portrait human relation movie tell money power success people different situation encounter br /><br />this variation arthur schnitzler play theme director transfer action present time new york different character meet connect connect way person know previous point contact stylishly film sophisticated luxurious look take people live world live habitat.<br /><br />the thing get soul picture different stage loneliness inhabit big city exactly good place human relation find sincere fulfillment discern case people encounter.<br /><br />the act good mr. mattei direction steve buscemi rosario dawson carol kane michael imperioli adrian grenier rest talented cast character come alive.<br /><br />we wish mr. mattei good luck await anxiously work"
        ],
        [
         "5",
         "5",
         "probably time favorite movie story selflessness sacrifice dedication noble cause preachy boring get old despite have see 15 time 25 year paul lukas performance bring tear eye bette davis truly sympathetic role delight kid grandma say like dress midget child make fun watch mother slow awakening happen world roof believable startling dozen thumb movie",
         "2",
         "probably time favorite movie story selflessness sacrifice dedication noble cause preachy boring get old despite have see 15 time 25 year paul lukas performance bring tear eye bette davis truly sympathetic role delight kid grandma say like dress midget child make fun watch mother slow awakening happen world roof believable startling dozen thumb movie"
        ],
        [
         "6",
         "6",
         "sure like resurrection date seahunt series tech today bring kid excitement grow black white tv seahunt gunsmoke hero week vote comeback new sea hunt need change pace tv work world water adventure oh way thank outlet like view viewpoint tv movie ole way believe get wanna nice read plus point sea hunt rhyme 10 line let submit leave doubt quit let",
         "2",
         "sure like resurrection date seahunt series tech today bring kid excitement grow black white tv seahunt gunsmoke hero week vote comeback new sea hunt need change pace tv work world water adventure oh way thank outlet like view viewpoint tv movie ole way believe get wanna nice read plus point sea hunt rhyme 10 line let submit leave doubt quit let"
        ],
        [
         "7",
         "7",
         "amazing fresh innovative idea 70 air 7 8 year brilliant thing drop 1990 funny anymore continue decline complete waste time today.<br /><br />it truly disgraceful far fall writing painfully bad performance bad mildly entertaining respite guest host probably air find hard believe creator hand select original cast choose band hack follow recognize brilliance fit replace mediocrity feel 2 star respect original cast huge success awful believe air",
         "0",
         "amazing fresh innovative idea 70 air 7 8 year brilliant thing drop 1990 funny anymore continue decline complete waste time today.<br /><br />it truly disgraceful far fall writing painfully bad performance bad mildly entertaining respite guest host probably air find hard believe creator hand select original cast choose band hack follow recognize brilliance fit replace mediocrity feel 2 star respect original cast huge success awful believe air"
        ],
        [
         "8",
         "8",
         "encourage positive comment film look forward watch film bad mistake see 950 film truly bad awful way editing pacing storyline act soundtrack film song lame country tune play time film look cheap nasty boring extreme rarely happy end credit film br /><br />the thing prevent give 1 score harvey keitel far good performance make bit effort keitel obsessive",
         "0",
         "encourage positive comment film look forward watch film bad mistake see 950 film truly bad awful way editing pacing storyline act soundtrack film song lame country tune play time film look cheap nasty boring extreme rarely happy end credit film br /><br />the thing prevent give 1 score harvey keitel far good performance make bit effort keitel obsessive"
        ],
        [
         "9",
         "9",
         "like original gut wrench laughter like movie young old love movie hell mom like it.<br /><br />great camp",
         "2",
         "like original gut wrench laughter like movie young old love movie hell mom like it.<br /><br />great camp"
        ],
        [
         "10",
         "10",
         "phil alien quirky film humour base oddness actual punchlines.<br /><br />at odd pretty funny movie progress find joke oddness funny anymore.<br /><br />its low budget film s problem pretty interesting character eventually lose interest.<br /><br />i imagine film appeal stoner currently partaking.<br /><br />for similar well try brother planet",
         "0",
         "phil alien quirky film humour base oddness actual punchlines.<br /><br />at odd pretty funny movie progress find joke oddness funny anymore.<br /><br />its low budget film s problem pretty interesting character eventually lose interest.<br /><br />i imagine film appeal stoner currently partaking.<br /><br />for similar well try brother planet"
        ],
        [
         "11",
         "11",
         "see movie 12 come recall scary scene big bird eat man dangle helplessly parachute right air horror horror.<br /><br />as young kid go cheesy b film saturday afternoon tired formula monster type movie usually include hero beautiful woman daughter professor happy resolution monster die end care romantic angle 12 year old predictable plot love unintentional humor.<br /><br />but year later see psycho come love star janet leigh bump early film sit take notice point screenwriter make story scary possible wear formula rule",
         "0",
         "see movie 12 come recall scary scene big bird eat man dangle helplessly parachute right air horror horror.<br /><br />as young kid go cheesy b film saturday afternoon tired formula monster type movie usually include hero beautiful woman daughter professor happy resolution monster die end care romantic angle 12 year old predictable plot love unintentional humor.<br /><br />but year later see psycho come love star janet leigh bump early film sit take notice point screenwriter make story scary possible wear formula rule"
        ],
        [
         "12",
         "12",
         "m big fan boll work enjoy movie postal maybe m boll apparently buy right use far cry long ago game finsishe br /><br />people enjoy kill merc infiltrate secret research lab locate tropical island warn far cry ... mr boll scheme legion schmuck .. feel loneley set mr boll invite countryman play player name til schweiger udo kier ralf moeller.<br /><br />three name actually selfs pretty big movie biz tale go like jack carver play til schweiger yes carver german hail bratwurst eat dude find til act movie pretty badass .. people complain stay true carver agenda see carver person perspective know look like kick .. br /><br />however storyline film demented evil mad scientist dr. krieger play udo kier make genetically mutate soldier gms call perform secret research island remind spoiler vancouver reason s right palm tree instead get nice rich lumberjack wood go far start cry mehehe .. wanna stay true bolls shenanigan movie disappoint deliver true boll experience mean suck.<br /><br />there thing worth mention imply boll good work area film nice boat fight scene crome albino gms squad enter scene make laugh .. movie far cry reek scheisse poop simpleton fa r wanna wiff ahead .. btw carver get annoying sidekick make wanna shoot minute screen",
         "0",
         "m big fan boll work enjoy movie postal maybe m boll apparently buy right use far cry long ago game finsishe br /><br />people enjoy kill merc infiltrate secret research lab locate tropical island warn far cry ... mr boll scheme legion schmuck .. feel loneley set mr boll invite countryman play player name til schweiger udo kier ralf moeller.<br /><br />three name actually selfs pretty big movie biz tale go like jack carver play til schweiger yes carver german hail bratwurst eat dude find til act movie pretty badass .. people complain stay true carver agenda see carver person perspective know look like kick .. br /><br />however storyline film demented evil mad scientist dr. krieger play udo kier make genetically mutate soldier gms call perform secret research island remind spoiler vancouver reason s right palm tree instead get nice rich lumberjack wood go far start cry mehehe .. wanna stay true bolls shenanigan movie disappoint deliver true boll experience mean suck.<br /><br />there thing worth mention imply boll good work area film nice boat fight scene crome albino gms squad enter scene make laugh .. movie far cry reek scheisse poop simpleton fa r wanna wiff ahead .. btw carver get annoying sidekick make wanna shoot minute screen"
        ],
        [
         "13",
         "13",
         "cast play shakespeare.<br /><br />shakespeare lost.<br /><br />i appreciate try bring shakespeare masse ruin good.<br /><br />is scottish play favorite shakespeare know know certain rev bowdler bowdlerization try similar victorian era.<br /><br />in word improve perfection.<br /><br />i write write line text english composition forte go movie saying go cut",
         "0",
         "cast play shakespeare.<br /><br />shakespeare lost.<br /><br />i appreciate try bring shakespeare masse ruin good.<br /><br />is scottish play favorite shakespeare know know certain rev bowdler bowdlerization try similar victorian era.<br /><br />in word improve perfection.<br /><br />i write write line text english composition forte go movie saying go cut"
        ],
        [
         "14",
         "14",
         "fantastic movie prisoner famous actor george clooney fan roll bad good thing movie soundtrack man constant sorrow recommand movie everybody greeting bart",
         "2",
         "fantastic movie prisoner famous actor george clooney fan roll bad good thing movie soundtrack man constant sorrow recommand movie everybody greeting bart"
        ],
        [
         "15",
         "15",
         "kind draw erotic scene realize amateurish unbelievable bit film see sort like high school film project rosanna arquette thinking stock character bizarre suppose midwest town pretty hard involve lesson learn brilliant insight stilte ridiculous lot skin intrigue videotape nonsense .... bisexual relationship heterosexual encounter absurd dance everybody play stereotyped role pass like million mile bad waste film money spend starve child aids africa .....",
         "0",
         "kind draw erotic scene realize amateurish unbelievable bit film see sort like high school film project rosanna arquette thinking stock character bizarre suppose midwest town pretty hard involve lesson learn brilliant insight stilte ridiculous lot skin intrigue videotape nonsense .... bisexual relationship heterosexual encounter absurd dance everybody play stereotyped role pass like million mile bad waste film money spend starve child aids africa ....."
        ],
        [
         "16",
         "16",
         "film simply remade bad film fail capture flavor terror 1963 film title liam neeson excellent cast hold exception owen wilson bring right feel character luke major fault version stray far shirley jackson story attempt grandiose lose thrill early film trade snazzy special effect bad film enjoy friction terror old version",
         "2",
         "film simply remade bad film fail capture flavor terror 1963 film title liam neeson excellent cast hold exception owen wilson bring right feel character luke major fault version stray far shirley jackson story attempt grandiose lose thrill early film trade snazzy special effect bad film enjoy friction terror old version"
        ],
        [
         "17",
         "17",
         "movie 10 awful movie horrible br /><br />there continuous minute fight monster chance character development busy run sword fight emotional attachment big bad machine want destroy br /><br />scenes blatantly steal movie lotr star wars matrix br /><br />examples br /><br />>the ghost scene end steal final scene old star wars yoda obee vader br /><br />>the spider machine beginning exactly like frodo attack spider return king elijah wood victim film wait ...... hypnotize stings victim wrap ..... uh hello????<br /><br />>and machine vs. human theme matrix .. terminator ..... <br /><br />there example waste time tell nazi nazi br /><br />there juvenile story line rush juvenile conclusion movie decide child movie adult movie br /><br />just awful real disappointment save money",
         "0",
         "movie 10 awful movie horrible br /><br />there continuous minute fight monster chance character development busy run sword fight emotional attachment big bad machine want destroy br /><br />scenes blatantly steal movie lotr star wars matrix br /><br />examples br /><br />>the ghost scene end steal final scene old star wars yoda obee vader br /><br />>the spider machine beginning exactly like frodo attack spider return king elijah wood victim film wait ...... hypnotize stings victim wrap ..... uh hello????<br /><br />>and machine vs. human theme matrix .. terminator ..... <br /><br />there example waste time tell nazi nazi br /><br />there juvenile story line rush juvenile conclusion movie decide child movie adult movie br /><br />just awful real disappointment save money"
        ],
        [
         "18",
         "18",
         "remember film film watch cinema picture dark place nervous 74/75 dad take brother sister newbury cinema newbury berkshire england recall tiger lot snow film appearance grizzly adams actor dan haggery think tiger get shoot die know find dvd etc let know cinema turn fitness club big shame near cinema 20 mile away love hear see film like",
         "2",
         "remember film film watch cinema picture dark place nervous 74/75 dad take brother sister newbury cinema newbury berkshire england recall tiger lot snow film appearance grizzly adams actor dan haggery think tiger get shoot die know find dvd etc let know cinema turn fitness club big shame near cinema 20 mile away love hear see film like"
        ],
        [
         "19",
         "19",
         "awful film real stinker nominate golden globe take story famous female renaissance painter mangle recognition complaint take liberty fact story good perfectly fine simply bizarre -- account true story artist far well film come dishwater dull script suppose naked people factual version hurriedly cap end summary artist life -- save couple hour favor rest film brevity",
         "0",
         "awful film real stinker nominate golden globe take story famous female renaissance painter mangle recognition complaint take liberty fact story good perfectly fine simply bizarre -- account true story artist far well film come dishwater dull script suppose naked people factual version hurriedly cap end summary artist life -- save couple hour favor rest film brevity"
        ],
        [
         "20",
         "20",
         "success die hard sequel surprise 1990 glut die hard ..... movie cash wrong guy wrong place wrong time concept cliffhanger die hard mountain time rescue sly stop mom shoot stallone career.<br /><br />cliffhanger big nit picker dream especially expert mountain climbing base jumping aviation facial expression acting skill excuse dismiss film overblown pile junk stallone manage act horse forget nonsense actually lovable undeniably entertaining romp deliver plenty thrill unintentionally plenty laughs.<br /><br />you've get love john lithgows sneery evilness tick box band baddie good permanently harassed hapless turncoat agent rex linn travers.<br /><br />he henry portrait serial killer michael rooker noteworthy cringe worthy performance hal insist constantly shriek painful disbelief captor man hurt anybody whilst surely look like ralph waite frank character grin girl plummet death.<br /><br />mention london burning actor craig fairbrass brit bad guy come cropper whilst hal human football yes help enjoy bit hal need good kicking.<br /><br />so forget well judgement care happen lower act expectation turn volume enjoy look qaulen wear helicopter",
         "2",
         "success die hard sequel surprise 1990 glut die hard ..... movie cash wrong guy wrong place wrong time concept cliffhanger die hard mountain time rescue sly stop mom shoot stallone career.<br /><br />cliffhanger big nit picker dream especially expert mountain climbing base jumping aviation facial expression acting skill excuse dismiss film overblown pile junk stallone manage act horse forget nonsense actually lovable undeniably entertaining romp deliver plenty thrill unintentionally plenty laughs.<br /><br />you've get love john lithgows sneery evilness tick box band baddie good permanently harassed hapless turncoat agent rex linn travers.<br /><br />he henry portrait serial killer michael rooker noteworthy cringe worthy performance hal insist constantly shriek painful disbelief captor man hurt anybody whilst surely look like ralph waite frank character grin girl plummet death.<br /><br />mention london burning actor craig fairbrass brit bad guy come cropper whilst hal human football yes help enjoy bit hal need good kicking.<br /><br />so forget well judgement care happen lower act expectation turn volume enjoy look qaulen wear helicopter"
        ],
        [
         "21",
         "21",
         "terrible misfortune have view b movie entirety.<br /><br />all is--- save time money get bad b movie time call b movie like f movie fail aspect good movie story interesting actor paper thin believable bad direction action sequence fake funny ....... almost.<br /><br />the movie pack crappy liner respectable person find amusing little bit.<br /><br />this movie suppose gear man woman utterly unattractive especially old wrinkle thing come end try appear sexy weird horrible costume fail miserably!!!<br /><br />even ridiculous b movie laugh painful watch",
         "0",
         "terrible misfortune have view b movie entirety.<br /><br />all is--- save time money get bad b movie time call b movie like f movie fail aspect good movie story interesting actor paper thin believable bad direction action sequence fake funny ....... almost.<br /><br />the movie pack crappy liner respectable person find amusing little bit.<br /><br />this movie suppose gear man woman utterly unattractive especially old wrinkle thing come end try appear sexy weird horrible costume fail miserably!!!<br /><br />even ridiculous b movie laugh painful watch"
        ],
        [
         "22",
         "22",
         "absolutely stunning movie 2.5 hrs kill watch will regret fun rajnikanth carry movie shoulder like music a.r.rehman take time grow hear time start like",
         "2",
         "absolutely stunning movie 2.5 hrs kill watch will regret fun rajnikanth carry movie shoulder like music a.r.rehman take time grow hear time start like"
        ],
        [
         "23",
         "23",
         "let thing straight anime fan- matter fact watch speed racer time preschool b like b movies hilarious c like godzilla movies- lot.<br /><br />move movie come like go usual b movie crappy fx sudden- boom anime come movie go wwwaaaaayyyyy downhill.<br /><br />the animation bad cheap bad remember speed racer crissake fact cheap scene movie vividly remember bunch kid run school ... kid fx terrible dinosaur look bad godzilla addition transition live action animation unorganized dialogue voices(especially english dub view horrid beg dad tape dvd/ vhs player thing keep survive crack joke comment like robot joel mike mst3 k pick season honestly way barely enjoy movie survive time.<br /><br />heck plan fellow otaku pal halloween b movie night stupid pretty painful watch unintentionally hilarious time give movie 3/10 improvement 0.5/10 originally go it.<br /><br />(accorde grading scale 3/10 mean pretty boring bad fun count find way fun fun count 15",
         "0",
         "let thing straight anime fan- matter fact watch speed racer time preschool b like b movies hilarious c like godzilla movies- lot.<br /><br />move movie come like go usual b movie crappy fx sudden- boom anime come movie go wwwaaaaayyyyy downhill.<br /><br />the animation bad cheap bad remember speed racer crissake fact cheap scene movie vividly remember bunch kid run school ... kid fx terrible dinosaur look bad godzilla addition transition live action animation unorganized dialogue voices(especially english dub view horrid beg dad tape dvd/ vhs player thing keep survive crack joke comment like robot joel mike mst3 k pick season honestly way barely enjoy movie survive time.<br /><br />heck plan fellow otaku pal halloween b movie night stupid pretty painful watch unintentionally hilarious time give movie 3/10 improvement 0.5/10 originally go it.<br /><br />(accorde grading scale 3/10 mean pretty boring bad fun count find way fun fun count 15"
        ],
        [
         "24",
         "24",
         "bad movie see worldfest receive applause think receive recognition base know actor film great j.beal movie minute m.parker well actress allow rest acting hard judge movie ridiculous predictable main character totally unsympathetic bore watch real emotional depth story movie revolve actor work feel original development cop feel like straight video movie see 90 ... good standards.<br /><br",
         "0",
         "bad movie see worldfest receive applause think receive recognition base know actor film great j.beal movie minute m.parker well actress allow rest acting hard judge movie ridiculous predictable main character totally unsympathetic bore watch real emotional depth story movie revolve actor work feel original development cop feel like straight video movie see 90 ... good standards.<br /><br"
        ],
        [
         "25",
         "25",
         "karen carpenter story show little singer karen carpenter complex life fail give accurate fact details.<br /><br />cynthia gibb portray karen fine election good actress play naive sort dumb karen carpenter think role need strong character strong personality.<br /><br />louise fletcher role agnes carpenter terrific great job karen mother.<br /><br />it great song include soundtrack album unfortunately movie rating usa country",
         "2",
         "karen carpenter story show little singer karen carpenter complex life fail give accurate fact details.<br /><br />cynthia gibb portray karen fine election good actress play naive sort dumb karen carpenter think role need strong character strong personality.<br /><br />louise fletcher role agnes carpenter terrific great job karen mother.<br /><br />it great song include soundtrack album unfortunately movie rating usa country"
        ],
        [
         "26",
         "26",
         "cell exotic masterpiece dizzying trip vast mind serial killer talented director conclusive evidence achieve human being unleash uninhibited imagination boldness work push aside thought fall formula cliche create truly magnificent good movie year date.<br /><br />i've read numerous complaint film style substance poorly cast character bad acting negatively criticize film miss point movie landmark tradition future movie hopefully follow cell open door world imagination slam door face tell director tarsem singh want personally welcome movie tarsem love try challenge him.<br /><br />we've hear talk go inside mind serial killer yes agree genre bit overwork 90 movie try depict make serial killer tick work fail cell blaze trail give new twist physically transport mind present fascinating journey mysterious subject matter studied.<br /><br />i like movie bog scientific jargon try explain jennifer lopez actually get enter brain instead lie laboratory table wrap look like long twizzlers jaunt entity cell want let guess people like true like explanation movie movie venture new ground let desire simply in.<br /><br />i notice film dark show reality maybe contrast bright visual inside brain nonetheless set design simply astonishing surprised film take home oscars cinematography good costume good director like nominate good picture.<br /><br />i've notice kind repeat stress fantastic think cell walk movie open mind take wonder eye pop feast assure good time guess film little people write weird crazy psychology imagination human mind right alley leave theater hear audience member movie sure lot good drug want smoking.<br /><br 4",
         "2",
         "cell exotic masterpiece dizzying trip vast mind serial killer talented director conclusive evidence achieve human being unleash uninhibited imagination boldness work push aside thought fall formula cliche create truly magnificent good movie year date.<br /><br />i've read numerous complaint film style substance poorly cast character bad acting negatively criticize film miss point movie landmark tradition future movie hopefully follow cell open door world imagination slam door face tell director tarsem singh want personally welcome movie tarsem love try challenge him.<br /><br />we've hear talk go inside mind serial killer yes agree genre bit overwork 90 movie try depict make serial killer tick work fail cell blaze trail give new twist physically transport mind present fascinating journey mysterious subject matter studied.<br /><br />i like movie bog scientific jargon try explain jennifer lopez actually get enter brain instead lie laboratory table wrap look like long twizzlers jaunt entity cell want let guess people like true like explanation movie movie venture new ground let desire simply in.<br /><br />i notice film dark show reality maybe contrast bright visual inside brain nonetheless set design simply astonishing surprised film take home oscars cinematography good costume good director like nominate good picture.<br /><br />i've notice kind repeat stress fantastic think cell walk movie open mind take wonder eye pop feast assure good time guess film little people write weird crazy psychology imagination human mind right alley leave theater hear audience member movie sure lot good drug want smoking.<br /><br 4"
        ],
        [
         "27",
         "27",
         "film try thing sting political satire hollywood blockbuster sappy romantic comedy family value promo ... list go fail miserably interest turn end.<br /><br />although appreciate spirit war inc depress clumsy effort especially take target reflect lack existence critique simply poor writing direction production particular film.<br /><br />there critique corporatization war poke fun way diminish true atrocity happen remind bit king similarly trivialize genuine cause concern",
         "0",
         "film try thing sting political satire hollywood blockbuster sappy romantic comedy family value promo ... list go fail miserably interest turn end.<br /><br />although appreciate spirit war inc depress clumsy effort especially take target reflect lack existence critique simply poor writing direction production particular film.<br /><br />there critique corporatization war poke fun way diminish true atrocity happen remind bit king similarly trivialize genuine cause concern"
        ],
        [
         "28",
         "28",
         "movie frustrating energetic totally prepared good time think able stand wrong weird looping like watch america funniest home videos damn parent hate stereo typical latino family need speak person responsible need talk little girl hang hate mention final scene transcend gloriously bad badness movie crappy dancing horrible beautiful",
         "0",
         "movie frustrating energetic totally prepared good time think able stand wrong weird looping like watch america funniest home videos damn parent hate stereo typical latino family need speak person responsible need talk little girl hang hate mention final scene transcend gloriously bad badness movie crappy dancing horrible beautiful"
        ],
        [
         "29",
         "29",
         "war movie hollywood genre redone time clichéd dialogue rehash plot action sequence unavoidable conflict deal large scale combat war movie come go grain bring truly original compelling story life silver screen civil war era cold mountain star jude law nicole kidman renée zellweger film.<br /><br />then call cold mountain war movie entirely accurate true film open literally quick dirty battle sequence put glory director edward zwick shame cold mountain civil war period people time story center disgruntle confederate soldier inman play jude law disgusted gruesome war homesick beautiful hamlet cold mountain north carolina equally beautiful southern belle leave ada monroe play nicole kidman glance setup appear formulaic romantic interest home give audience sympathy root reluctant soldier tribulation battlefield early segment film relatively unimpressive somewhat contrived.<br /><br />\"cold mountain soon take drastic turn intrepid hero inman turn deserter incidentally save audience potentially confusing scenario want root confederates begin long odyssey homeward farm ada cultured way prove little use field soon transform wilderbeast come ada rescue course tough nail ruby thewes play renée zellweger help ada farm importantly cope loneliness isolation war bring ada.<br /><br />within setting vivid compelling time disturbing portrait war tear south unfold character inman ada interact surprisingly complex enhance wonderful performance brendan gleeson ruby deadbeat father ray winstone unrepentant southern lawman natalie portman deeply troubled isolated young mother greatly affect change war northern aggression bad dark pervade anti war message accent effective haunt score chillingly beautiful shot virginia north carolina communicate audience gruesome battle scene scarred land traumatize people war fight weapon tactic war change past century hellish effect land timelessly relevant.<br /><br />director anthony minghella manage maintain gloomy mood film atmosphere unfortunately denigrate tepid climax little justice wonderfully form character love story inman ada awkwardly tack beginning end film inherently distant abstracted absurd nature relationship way fit dismal nature rest plot.<br /><br />make mistake cold mountain trait feel good romance inspire war drama unique vision era sure entertain truly absorb audience life people tear apart war entirely desperate rid terrible repercussion altogether",
         "2",
         "war movie hollywood genre redone time clichéd dialogue rehash plot action sequence unavoidable conflict deal large scale combat war movie come go grain bring truly original compelling story life silver screen civil war era cold mountain star jude law nicole kidman renée zellweger film.<br /><br />then call cold mountain war movie entirely accurate true film open literally quick dirty battle sequence put glory director edward zwick shame cold mountain civil war period people time story center disgruntle confederate soldier inman play jude law disgusted gruesome war homesick beautiful hamlet cold mountain north carolina equally beautiful southern belle leave ada monroe play nicole kidman glance setup appear formulaic romantic interest home give audience sympathy root reluctant soldier tribulation battlefield early segment film relatively unimpressive somewhat contrived.<br /><br />\"cold mountain soon take drastic turn intrepid hero inman turn deserter incidentally save audience potentially confusing scenario want root confederates begin long odyssey homeward farm ada cultured way prove little use field soon transform wilderbeast come ada rescue course tough nail ruby thewes play renée zellweger help ada farm importantly cope loneliness isolation war bring ada.<br /><br />within setting vivid compelling time disturbing portrait war tear south unfold character inman ada interact surprisingly complex enhance wonderful performance brendan gleeson ruby deadbeat father ray winstone unrepentant southern lawman natalie portman deeply troubled isolated young mother greatly affect change war northern aggression bad dark pervade anti war message accent effective haunt score chillingly beautiful shot virginia north carolina communicate audience gruesome battle scene scarred land traumatize people war fight weapon tactic war change past century hellish effect land timelessly relevant.<br /><br />director anthony minghella manage maintain gloomy mood film atmosphere unfortunately denigrate tepid climax little justice wonderfully form character love story inman ada awkwardly tack beginning end film inherently distant abstracted absurd nature relationship way fit dismal nature rest plot.<br /><br />make mistake cold mountain trait feel good romance inspire war drama unique vision era sure entertain truly absorb audience life people tear apart war entirely desperate rid terrible repercussion altogether"
        ],
        [
         "30",
         "30",
         "taut organically grip edward dmytryk crossfire distinctive suspense thriller unlikely message movie look device noir cycle.<br /><br />bivouacke washington dc company soldier cope restlessness hang bar end stranger apartment robert ryan drunk belligerent beat host sam levene death happen jewish police detective robert young investigate help robert mitchum assign ryan outfit suspicion fall second george cooper vanish ryan slay buddy steve brodie insure silence young close in.<br /><br />abette superior script john paxton dmytryk draw precise performance star bobs ryan naturally prototypical angry white male hilt mitchum underplay characteristic alert nonchalance role central young well gloria grahame give fully fledge rendition smart mouthed vulnerable tramp sad sack leech life paul kelly haunt small peripheral role make memorable.<br /><br />the politically engage dmytryk inevitably succumb sermonize pretty confine young reminiscence irish grandfather die hand bigot century early incidentally stretch chronology limit attempt render explanation glib ryan hate jews hillbilly ... ).<br /><br />curiously crossfire survive major change work -- novel base richard brooks brick foxhole deal gay bash murder homosexuality 1947 pale news holocaust begin emerge ashe europe hollywood feel embolden register protest anti semitism studio quake prospect offend potential ticket buyer).<br /><br />but change homophobia anti semitism work general specific fit smoothly victim chat lonesome drunk young soldier invite home look odd especially girlfriend tow raise question scenario retain inadvertently leave discreet tip original engine generate ryan murderous rage",
         "2",
         "taut organically grip edward dmytryk crossfire distinctive suspense thriller unlikely message movie look device noir cycle.<br /><br />bivouacke washington dc company soldier cope restlessness hang bar end stranger apartment robert ryan drunk belligerent beat host sam levene death happen jewish police detective robert young investigate help robert mitchum assign ryan outfit suspicion fall second george cooper vanish ryan slay buddy steve brodie insure silence young close in.<br /><br />abette superior script john paxton dmytryk draw precise performance star bobs ryan naturally prototypical angry white male hilt mitchum underplay characteristic alert nonchalance role central young well gloria grahame give fully fledge rendition smart mouthed vulnerable tramp sad sack leech life paul kelly haunt small peripheral role make memorable.<br /><br />the politically engage dmytryk inevitably succumb sermonize pretty confine young reminiscence irish grandfather die hand bigot century early incidentally stretch chronology limit attempt render explanation glib ryan hate jews hillbilly ... ).<br /><br />curiously crossfire survive major change work -- novel base richard brooks brick foxhole deal gay bash murder homosexuality 1947 pale news holocaust begin emerge ashe europe hollywood feel embolden register protest anti semitism studio quake prospect offend potential ticket buyer).<br /><br />but change homophobia anti semitism work general specific fit smoothly victim chat lonesome drunk young soldier invite home look odd especially girlfriend tow raise question scenario retain inadvertently leave discreet tip original engine generate ryan murderous rage"
        ],
        [
         "31",
         "31",
         "ardh satya fine film indian cinema direct great director govind nihalani successful hard hitting parallel cinema turn commercial success today ardh satya inspiration lead director india.<br /><br />the film tell real life scenario mumbai police 70 unlike police city india mumbai police encompass different system altogether govind nihalani create practical outlay real life approach mumbai police environment.<br /><br />amongst police officer colleague film describe story anand velankar young hot blooded cop come poor family father harsh police constable anand suffer father ideology incidence father atrocity mother anand approach immediate action crime inert craving job satisfaction film revolve plot anand constant effort crime trample senior lead frustration achieve desire job satisfaction result frustration anger express excessive violence remand room bar turn alcoholic.<br /><br />the spirit alive constantly fight system aware system metro police politicians inertly associate far end compromise unethical practice negative finally get suspended.<br /><br />the direction master piece thoroughly hard core well memorable scene anand break underworld gangster rama shetty house arrest follow short conversation fantastic scene film hair raise moments.<br /><br />the practical approach script major punch alcoholism corruption political influence courage deception integral mumbai police today aspect deal brilliantly.<br /><br />finally film belong man om puri portray anand velankar traverse emotion absolutely brilliantly",
         "2",
         "ardh satya fine film indian cinema direct great director govind nihalani successful hard hitting parallel cinema turn commercial success today ardh satya inspiration lead director india.<br /><br />the film tell real life scenario mumbai police 70 unlike police city india mumbai police encompass different system altogether govind nihalani create practical outlay real life approach mumbai police environment.<br /><br />amongst police officer colleague film describe story anand velankar young hot blooded cop come poor family father harsh police constable anand suffer father ideology incidence father atrocity mother anand approach immediate action crime inert craving job satisfaction film revolve plot anand constant effort crime trample senior lead frustration achieve desire job satisfaction result frustration anger express excessive violence remand room bar turn alcoholic.<br /><br />the spirit alive constantly fight system aware system metro police politicians inertly associate far end compromise unethical practice negative finally get suspended.<br /><br />the direction master piece thoroughly hard core well memorable scene anand break underworld gangster rama shetty house arrest follow short conversation fantastic scene film hair raise moments.<br /><br />the practical approach script major punch alcoholism corruption political influence courage deception integral mumbai police today aspect deal brilliantly.<br /><br />finally film belong man om puri portray anand velankar traverse emotion absolutely brilliantly"
        ],
        [
         "32",
         "32",
         "exposure templarios good excited find title offering anchor bay video bring cult classic spider baby print quality excellent hide fact film deadly dull thrilling opening sequence villager exact terrible revenge templars set thing motion movie slow ponderous ultimately unfulfilling add insult injury movie dub subtitle promise video jacket",
         "0",
         "exposure templarios good excited find title offering anchor bay video bring cult classic spider baby print quality excellent hide fact film deadly dull thrilling opening sequence villager exact terrible revenge templars set thing motion movie slow ponderous ultimately unfulfilling add insult injury movie dub subtitle promise video jacket"
        ],
        [
         "33",
         "33",
         "significant quote entire film pronounce halfway protagonist mafia middle man titta di girolamo physically non descript middle aged man originally salerno southern italy introduce start film live non life elegant sterile hotel italian speak canton switzerland year conduct business gradually introduce pivotal apparently unremarkable scene take place employee swiss bank normally count di girolamo cash tell 10,000 dollar miss usual suitcase tightly stack banknote news quietly icily threaten coax bank manager want close account tell spectator bluff bluff right end fear catch appear ridiculous say bluff halfway tell truth have eventually bluff halfway tell truth have accept consequence life ultimately love exactly reason beginning titta di girolamo trouble br /><br />this initially unsympathetic character scowling taciturn curt man verge 50 man will reply kind chambermaid waitress hello goodbye point spectator care deeply point non life titta decide feel concern appear ridiculous half film describe slow reveal di girolamo day night hotel oddly disjoin deliberate pace reveal seemingly mundane irrelevant detail scene unnecessary reveal essential masterfully construct innovative film unfold eye existence titta di girolamo man imagination identity life unsympathetic character unexpectedly end love feel think convey elegantly edit sequence interesting use music theme scottish band boards canada especially stand br /><br />never contrast way hollywood italy treat mobster odd release film le conseguenze dell'amore l'imbalsamatore interesting element way film use protagonist insomnia unlike machinist far explicit way al pacino film insomnia le conseguenze dell'amore use condition symbolise deep emotional malaise ram deep obscurity unconscious impossible pin point cause br /><br />the young sympathetic hotel waitress sofia play olivia magnani grand daughter legendary anna memory titta good friend man see 20 year unexpectedly provide tiny window life titta eventually tentatively accept look explicitly spell spectator knows man like titta accept consequences love unimaginable consequence film single scene sex violence film unfold time concede spectator expectation le conseguenze dell'amore fine representative small quiet discreet renaissance take place italian cinema decline cinecittà second half 70 world wait italy produce il postino like fare la vita è bella style film ... neglect explore fine creation like le conseguenze dell'amore l'imbalsamatore loss world",
         "2",
         "significant quote entire film pronounce halfway protagonist mafia middle man titta di girolamo physically non descript middle aged man originally salerno southern italy introduce start film live non life elegant sterile hotel italian speak canton switzerland year conduct business gradually introduce pivotal apparently unremarkable scene take place employee swiss bank normally count di girolamo cash tell 10,000 dollar miss usual suitcase tightly stack banknote news quietly icily threaten coax bank manager want close account tell spectator bluff bluff right end fear catch appear ridiculous say bluff halfway tell truth have eventually bluff halfway tell truth have accept consequence life ultimately love exactly reason beginning titta di girolamo trouble br /><br />this initially unsympathetic character scowling taciturn curt man verge 50 man will reply kind chambermaid waitress hello goodbye point spectator care deeply point non life titta decide feel concern appear ridiculous half film describe slow reveal di girolamo day night hotel oddly disjoin deliberate pace reveal seemingly mundane irrelevant detail scene unnecessary reveal essential masterfully construct innovative film unfold eye existence titta di girolamo man imagination identity life unsympathetic character unexpectedly end love feel think convey elegantly edit sequence interesting use music theme scottish band boards canada especially stand br /><br />never contrast way hollywood italy treat mobster odd release film le conseguenze dell'amore l'imbalsamatore interesting element way film use protagonist insomnia unlike machinist far explicit way al pacino film insomnia le conseguenze dell'amore use condition symbolise deep emotional malaise ram deep obscurity unconscious impossible pin point cause br /><br />the young sympathetic hotel waitress sofia play olivia magnani grand daughter legendary anna memory titta good friend man see 20 year unexpectedly provide tiny window life titta eventually tentatively accept look explicitly spell spectator knows man like titta accept consequences love unimaginable consequence film single scene sex violence film unfold time concede spectator expectation le conseguenze dell'amore fine representative small quiet discreet renaissance take place italian cinema decline cinecittà second half 70 world wait italy produce il postino like fare la vita è bella style film ... neglect explore fine creation like le conseguenze dell'amore l'imbalsamatore loss world"
        ],
        [
         "34",
         "34",
         "watch film expect get pack 5 film pretty terrible way fiver expect know right terrible movie stretch interesting point occasional camcorder view nice touch drummer like drummer i.e damned annoying s actually problem boring assume attempt build tension lot happen utterly tedious thumb fast forward button ready press movie give seriously lead singer band great looking coz half mention beautiful hell lot think look bit like meercat mention killer go to worth explain far concerned star london reason watch exception london actually funny act talent certainly see lot bad see lot well well avoid bored watch paint dry",
         "0",
         "watch film expect get pack 5 film pretty terrible way fiver expect know right terrible movie stretch interesting point occasional camcorder view nice touch drummer like drummer i.e damned annoying s actually problem boring assume attempt build tension lot happen utterly tedious thumb fast forward button ready press movie give seriously lead singer band great looking coz half mention beautiful hell lot think look bit like meercat mention killer go to worth explain far concerned star london reason watch exception london actually funny act talent certainly see lot bad see lot well well avoid bored watch paint dry"
        ],
        [
         "35",
         "35",
         "buy film blockbuster 3.00 sound interesting bit ranma esque idea drag skeleton cute girl mini skirt restricted view sticker think go sweet sincere come age story weird indie edge 100 wrong.<br /><br />having watch wonder get restricted sticker hardly foul language little violence close thing nudity honestly usually hope girl nightgown pantie pantie lot movie matter wear miniskirt sort anti religious humor tame lame caricature insincere derivative unoriginal bad funny slight -- well listen ray stevens jesus wear rolex television barely qualify pg-13 rate blockbuster refuse let age 17 rent -- pornographic little kid rent edit version requiem dream insist zack reba worse.<br /><br />it way.<br /><br />in way worry -- thing leave offend people idea suicide beginning anybody need movie honestly portray suicide well one like virgin suicides teenager movie rate r purely suicide aspect little chance turn story write pg-13 movie main character half suicide lead cause death teenager think number 2 chance teen affect it.<br /><br />just movie 2/10",
         "0",
         "buy film blockbuster 3.00 sound interesting bit ranma esque idea drag skeleton cute girl mini skirt restricted view sticker think go sweet sincere come age story weird indie edge 100 wrong.<br /><br />having watch wonder get restricted sticker hardly foul language little violence close thing nudity honestly usually hope girl nightgown pantie pantie lot movie matter wear miniskirt sort anti religious humor tame lame caricature insincere derivative unoriginal bad funny slight -- well listen ray stevens jesus wear rolex television barely qualify pg-13 rate blockbuster refuse let age 17 rent -- pornographic little kid rent edit version requiem dream insist zack reba worse.<br /><br />it way.<br /><br />in way worry -- thing leave offend people idea suicide beginning anybody need movie honestly portray suicide well one like virgin suicides teenager movie rate r purely suicide aspect little chance turn story write pg-13 movie main character half suicide lead cause death teenager think number 2 chance teen affect it.<br /><br />just movie 2/10"
        ],
        [
         "36",
         "36",
         "plot death little child hopper investigate killing movie appear trouble daughter end serial killer catch find dunnit terrible act actor unbelievable bad actor include hopper like waste time watch movie warn",
         "0",
         "plot death little child hopper investigate killing movie appear trouble daughter end serial killer catch find dunnit terrible act actor unbelievable bad actor include hopper like waste time watch movie warn"
        ],
        [
         "37",
         "37",
         "watch movie lose plot begin with.<br /><br />where begin achingly tedious scene heroine sit house actually sense menace forebode create apparently constant thunderstorm strangely actually hear house great double glazing house apparently mile town hour walk away girl serve purpose plot provide surprisingly quick gory murder tedium unbearable beginning suggest spate 20 killing area apparent killer venture far house bizarre ritual salt pepper pretty sum film inherent lack direction.<br /><br />add lead actress act willing completely irrelevant nude shower scene video truly nasty way hope.<br /><br />given following simply ban uk 80 final surprisingly extended murder offer curiosity value- classic daft murder worry telegraph minute before).<br /><br />after walk wood victim come steep upward slope obviously struggle halfway figure dress black brandish large scythe slide run like rest course not- struggle stand conveniently nice upright murder weapon.<br /><br />it movie ..",
         "0",
         "watch movie lose plot begin with.<br /><br />where begin achingly tedious scene heroine sit house actually sense menace forebode create apparently constant thunderstorm strangely actually hear house great double glazing house apparently mile town hour walk away girl serve purpose plot provide surprisingly quick gory murder tedium unbearable beginning suggest spate 20 killing area apparent killer venture far house bizarre ritual salt pepper pretty sum film inherent lack direction.<br /><br />add lead actress act willing completely irrelevant nude shower scene video truly nasty way hope.<br /><br />given following simply ban uk 80 final surprisingly extended murder offer curiosity value- classic daft murder worry telegraph minute before).<br /><br />after walk wood victim come steep upward slope obviously struggle halfway figure dress black brandish large scythe slide run like rest course not- struggle stand conveniently nice upright murder weapon.<br /><br />it movie .."
        ],
        [
         "38",
         "38",
         "okay series kind take route week week david morse character help ride bit pickle wrong david morse great character actor certainly cool series create david koepp great writer heaven!!<br /><br />due lack love go season series know rubbish baffle let hope good past series",
         "2",
         "okay series kind take route week week david morse character help ride bit pickle wrong david morse great character actor certainly cool series create david koepp great writer heaven!!<br /><br />due lack love go season series know rubbish baffle let hope good past series"
        ],
        [
         "39",
         "39",
         "sit pile dung husband wonder actually product experiment computer program produce movie listless formulaic u.s. propaganda throw face film prove -- disappointingly -- work human conspiracy theorist quote like steal declaration independence protect like way justify action like invasion iraq etc fact nicholas cage spew line like use declaration independence bargaining chip straight face husband wonder entire cast take valium shoot scene reasoning plot turn new clue truly ridiculous impossible follow bonus plot misogyny dr. chide involve shut clearly movie look feel need slap dr. title character gravity point cage character say shut camera pan look poutily hand like child truly grotesque benefit movie astonishingly bad laugh scary thing majority people watch movie enjoy creepy ....",
         "0",
         "sit pile dung husband wonder actually product experiment computer program produce movie listless formulaic u.s. propaganda throw face film prove -- disappointingly -- work human conspiracy theorist quote like steal declaration independence protect like way justify action like invasion iraq etc fact nicholas cage spew line like use declaration independence bargaining chip straight face husband wonder entire cast take valium shoot scene reasoning plot turn new clue truly ridiculous impossible follow bonus plot misogyny dr. chide involve shut clearly movie look feel need slap dr. title character gravity point cage character say shut camera pan look poutily hand like child truly grotesque benefit movie astonishingly bad laugh scary thing majority people watch movie enjoy creepy ...."
        ],
        [
         "40",
         "40",
         "clichés movie type substance plot go end movie feel like sucker watch production good script acting b movie quality casting poor good actor mix crumby actor good actor hold lift br /><br />this movie worthy word meet minimum requirement line james wood cuba gooding jr. play caricature movie br /><br />if look mindless entertainment recommend movie",
         "0",
         "clichés movie type substance plot go end movie feel like sucker watch production good script acting b movie quality casting poor good actor mix crumby actor good actor hold lift br /><br />this movie worthy word meet minimum requirement line james wood cuba gooding jr. play caricature movie br /><br />if look mindless entertainment recommend movie"
        ],
        [
         "41",
         "41",
         "movie base book splendored thing han suyin tackle issue race relation asians whites topic come han personal experience eurasian grow china background beautiful hong kong setting give love story unique dare atmosphere time.<br /><br />other story stereotypical romance memorable song remember movie beautiful jennifer jones look give wonderful oscar nominate performance doctor mixed breed advent communism mainland china william holden look well play romantic lead journalist cover war tear region world acting notch chemistry lover provide genuine moment silver screen affection sure melt heart romantically inclined.<br /><br />the cinematography bring hong kong especially hilltop overlook harbor lover spend intimate moment ending real tear jerker consider sentimental romance passé enjoy classic hollywood love story shine example",
         "2",
         "movie base book splendored thing han suyin tackle issue race relation asians whites topic come han personal experience eurasian grow china background beautiful hong kong setting give love story unique dare atmosphere time.<br /><br />other story stereotypical romance memorable song remember movie beautiful jennifer jones look give wonderful oscar nominate performance doctor mixed breed advent communism mainland china william holden look well play romantic lead journalist cover war tear region world acting notch chemistry lover provide genuine moment silver screen affection sure melt heart romantically inclined.<br /><br />the cinematography bring hong kong especially hilltop overlook harbor lover spend intimate moment ending real tear jerker consider sentimental romance passé enjoy classic hollywood love story shine example"
        ],
        [
         "42",
         "42",
         "film see rage get bad direction logic continuity change plot script dialog cry pain come crappy gary busey know b movie sure w movie w waste).<br /><br />take example dozen fbi local law officer surround trailer house jeep wagoneer inside jeep ma confused cop second huge gun battle ensue ma kill straight cop blast away jeep gary company blast away cop fall like domino jeep gary drive circle hit single bullet pellet ma kill gary notice damn guy tough truly miracle shooter hold 300 bullet miracle",
         "0",
         "film see rage get bad direction logic continuity change plot script dialog cry pain come crappy gary busey know b movie sure w movie w waste).<br /><br />take example dozen fbi local law officer surround trailer house jeep wagoneer inside jeep ma confused cop second huge gun battle ensue ma kill straight cop blast away jeep gary company blast away cop fall like domino jeep gary drive circle hit single bullet pellet ma kill gary notice damn guy tough truly miracle shooter hold 300 bullet miracle"
        ],
        [
         "43",
         "43",
         "hear good thing states grace come open mind think god army okay think maybe dutcher improve mature filmmaker film begin shaky acting think maybe well unfortunately picture start introduce elder -- mormon missionary -- audience know grow care instead story degenerate highly improbable series unfortunate event highlight blatant disobedience missionary undeniably exist rarely level dutcher portray laughable.<br /><br />dutcher success movie successful alienation target audience unrealistically inaccurately portray life mormon missionary dutcher accomplish anger predominantly mormon audience film way reflect reality mission like dutcher show have serve mormon mission attest fact gang life california certainly contain explicit language occasional mild vulgarity.<br /><br />the conclusion assume suppose touch audience inspire believe forgiveness available unbelievable come entire mission gather elder send home -- mom girl stand right cheesy time dutcher try make movie identify",
         "0",
         "hear good thing states grace come open mind think god army okay think maybe dutcher improve mature filmmaker film begin shaky acting think maybe well unfortunately picture start introduce elder -- mormon missionary -- audience know grow care instead story degenerate highly improbable series unfortunate event highlight blatant disobedience missionary undeniably exist rarely level dutcher portray laughable.<br /><br />dutcher success movie successful alienation target audience unrealistically inaccurately portray life mormon missionary dutcher accomplish anger predominantly mormon audience film way reflect reality mission like dutcher show have serve mormon mission attest fact gang life california certainly contain explicit language occasional mild vulgarity.<br /><br />the conclusion assume suppose touch audience inspire believe forgiveness available unbelievable come entire mission gather elder send home -- mom girl stand right cheesy time dutcher try make movie identify"
        ],
        [
         "44",
         "44",
         "movie strike home 29 remember 80 father work factory figure work hard pride give american dream house kid car note degree unlike father quit ninth grade keen sense greed laziness anywhere.<br /><br />i like know movie dvd vhs tv see hour ago ic an't find love friend pseudo friend family relative think remind time americans work sake feel honor pride accomplish think feeling heavy downward spiral thing overseas ...",
         "2",
         "movie strike home 29 remember 80 father work factory figure work hard pride give american dream house kid car note degree unlike father quit ninth grade keen sense greed laziness anywhere.<br /><br />i like know movie dvd vhs tv see hour ago ic an't find love friend pseudo friend family relative think remind time americans work sake feel honor pride accomplish think feeling heavy downward spiral thing overseas ..."
        ],
        [
         "45",
         "45",
         "disclaimer see movie 5 6 time 15 year see musical week allow judge movie taint musical taint watch musical :) br /><br />i actually believe michael douglas work role kasey think let dance scene good part movie worthwhile addition compare musical dancer singing movie superior musical cast 10 time big easy movie course decor lighting dancing singing superior movie expect deliver br /><br />the song common musical well movie new one good one movie deliver musical opinion especially compare musical decor bad point movie obvious cut actor talk dub singer singing portion character dancing impeccable end product enjoyable musical",
         "2",
         "disclaimer see movie 5 6 time 15 year see musical week allow judge movie taint musical taint watch musical :) br /><br />i actually believe michael douglas work role kasey think let dance scene good part movie worthwhile addition compare musical dancer singing movie superior musical cast 10 time big easy movie course decor lighting dancing singing superior movie expect deliver br /><br />the song common musical well movie new one good one movie deliver musical opinion especially compare musical decor bad point movie obvious cut actor talk dub singer singing portion character dancing impeccable end product enjoyable musical"
        ],
        [
         "46",
         "46",
         "protocol implausible movie save grace star goldie hawn good cast support actor story revolve ditzy cocktail waitress famous inadvertently save life arab dignitary story go downhill halfway movie goldie charm save movie goldie hawn fan way film",
         "0",
         "protocol implausible movie save grace star goldie hawn good cast support actor story revolve ditzy cocktail waitress famous inadvertently save life arab dignitary story go downhill halfway movie goldie charm save movie goldie hawn fan way film"
        ],
        [
         "47",
         "47",
         "film classify drama idea john voight mary steenburgen try erase cv historically accurate xena hercules abraham moses get meld noah lot abraham nephew lot turn thousand year bear canaanite wander earth ... scriptwriter think ignorance remember noah animal lot canaanites stuff sunday school try offend maximum number people planet possible- christians jews muslims historian archaeologist geologist psychologist linguist ... matter fact offend modicum taste wince",
         "0",
         "film classify drama idea john voight mary steenburgen try erase cv historically accurate xena hercules abraham moses get meld noah lot abraham nephew lot turn thousand year bear canaanite wander earth ... scriptwriter think ignorance remember noah animal lot canaanites stuff sunday school try offend maximum number people planet possible- christians jews muslims historian archaeologist geologist psychologist linguist ... matter fact offend modicum taste wince"
        ],
        [
         "48",
         "48",
         "preston sturgis power glory unseen public nearly thirty year late 1990 resurface show television meantime gain notoriety pauline kael citizen kane book suggest herman mankiewicz orson welles screenplay kane base sturgis screenplay mention beginning thread film imdb web site kael overstate case.<br /><br />there narrator turn deal life charles foster kane newsreel represent ralston henry luce clone thatcher memoir bernstein jed leland susan alexander kane raymond butler different slant kane reflect faith disappointment hatred man course reveal failing tell version kane story method lead frequent overlapping telling incident.<br /><br />this situation power glory yes like kane legendary business leader tom garner spencer tracy man rise head successful railroad system country narrator garner right hand man henry ralph morgan wife sarah padden restrict nearly dimensional view time kane garner henry narrate talk boss friend respect love wife like voice skeptical public see flaw henry.<br /><br />typical example work way tom anti labor later year union troublemaker care slow shenanigan henry describe tom confrontation union major walk preoccupy detriment home life henry wife remind tom scab violence end strike apparently blow union headquarters kill people view man pure white pure black.<br /><br />i'm knock power glory duplicate kane success film include orson welles film aware story present hold interest end thank performance tracy colleen moore wife sally tragedy worldly success pair fully bring home.<br /><br />when marry tom want wife family benefit america great business success come cost tom get deeply involve run railroad empire expand improve constantly take away home lose touch sally notice eve helen vinson young woman mistress sally learn unfaithful behavior destroy her.<br /><br />similarly tom get shock make martyr eye henry eve marry tom present son turn eve son tom son tom jr. philip trent discovery incestuous cuckolding cause tom shoot himself.<br /><br />the film total success action jump time unconvincingly business real note scene tom tell board directors plan purchase small rival train line discuss use debenture finance plan sturgis come wealthy background bring type detail rate film citizen kane interest movie lover attempt business realism social commentary depression america",
         "2",
         "preston sturgis power glory unseen public nearly thirty year late 1990 resurface show television meantime gain notoriety pauline kael citizen kane book suggest herman mankiewicz orson welles screenplay kane base sturgis screenplay mention beginning thread film imdb web site kael overstate case.<br /><br />there narrator turn deal life charles foster kane newsreel represent ralston henry luce clone thatcher memoir bernstein jed leland susan alexander kane raymond butler different slant kane reflect faith disappointment hatred man course reveal failing tell version kane story method lead frequent overlapping telling incident.<br /><br />this situation power glory yes like kane legendary business leader tom garner spencer tracy man rise head successful railroad system country narrator garner right hand man henry ralph morgan wife sarah padden restrict nearly dimensional view time kane garner henry narrate talk boss friend respect love wife like voice skeptical public see flaw henry.<br /><br />typical example work way tom anti labor later year union troublemaker care slow shenanigan henry describe tom confrontation union major walk preoccupy detriment home life henry wife remind tom scab violence end strike apparently blow union headquarters kill people view man pure white pure black.<br /><br />i'm knock power glory duplicate kane success film include orson welles film aware story present hold interest end thank performance tracy colleen moore wife sally tragedy worldly success pair fully bring home.<br /><br />when marry tom want wife family benefit america great business success come cost tom get deeply involve run railroad empire expand improve constantly take away home lose touch sally notice eve helen vinson young woman mistress sally learn unfaithful behavior destroy her.<br /><br />similarly tom get shock make martyr eye henry eve marry tom present son turn eve son tom son tom jr. philip trent discovery incestuous cuckolding cause tom shoot himself.<br /><br />the film total success action jump time unconvincingly business real note scene tom tell board directors plan purchase small rival train line discuss use debenture finance plan sturgis come wealthy background bring type detail rate film citizen kane interest movie lover attempt business realism social commentary depression america"
        ],
        [
         "49",
         "49",
         "average surprisingly tame fulci giallo mean bad normal standard redeem solid build nice touch neat time twist issue vision clairvoyance.<br /><br />the genre know weakness gear banal dialogue wooden acting illogical plot point finale go long denouement prove lame shall limp affair.<br /><br />fulci ironic handling giallo norm amusing yellow clue look.<br /><br />3 10 limping killer",
         "0",
         "average surprisingly tame fulci giallo mean bad normal standard redeem solid build nice touch neat time twist issue vision clairvoyance.<br /><br />the genre know weakness gear banal dialogue wooden acting illogical plot point finale go long denouement prove lame shall limp affair.<br /><br />fulci ironic handling giallo norm amusing yellow clue look.<br /><br />3 10 limping killer"
        ]
       ],
       "shape": {
        "columns": 4,
        "rows": 678511
       }
      },
      "text/html": [
       "<div>\n",
       "<style scoped>\n",
       "    .dataframe tbody tr th:only-of-type {\n",
       "        vertical-align: middle;\n",
       "    }\n",
       "\n",
       "    .dataframe tbody tr th {\n",
       "        vertical-align: top;\n",
       "    }\n",
       "\n",
       "    .dataframe thead th {\n",
       "        text-align: right;\n",
       "    }\n",
       "</style>\n",
       "<table border=\"1\" class=\"dataframe\">\n",
       "  <thead>\n",
       "    <tr style=\"text-align: right;\">\n",
       "      <th></th>\n",
       "      <th>Unnamed: 0</th>\n",
       "      <th>text</th>\n",
       "      <th>label</th>\n",
       "      <th>preprocess_text</th>\n",
       "    </tr>\n",
       "  </thead>\n",
       "  <tbody>\n",
       "    <tr>\n",
       "      <th>0</th>\n",
       "      <td>0</td>\n",
       "      <td>reviewer mention watch 1 oz episode hook right...</td>\n",
       "      <td>2</td>\n",
       "      <td>reviewer mention watch 1 oz episode hook right...</td>\n",
       "    </tr>\n",
       "    <tr>\n",
       "      <th>1</th>\n",
       "      <td>1</td>\n",
       "      <td>wonderful little production br /&gt;&lt;br /&gt;the fil...</td>\n",
       "      <td>2</td>\n",
       "      <td>wonderful little production br /&gt;&lt;br /&gt;the fil...</td>\n",
       "    </tr>\n",
       "    <tr>\n",
       "      <th>2</th>\n",
       "      <td>2</td>\n",
       "      <td>think wonderful way spend time hot summer week...</td>\n",
       "      <td>2</td>\n",
       "      <td>think wonderful way spend time hot summer week...</td>\n",
       "    </tr>\n",
       "    <tr>\n",
       "      <th>3</th>\n",
       "      <td>3</td>\n",
       "      <td>basically family little boy jake think zombie ...</td>\n",
       "      <td>0</td>\n",
       "      <td>basically family little boy jake think zombie ...</td>\n",
       "    </tr>\n",
       "    <tr>\n",
       "      <th>4</th>\n",
       "      <td>4</td>\n",
       "      <td>petter mattei love time money visually stunnin...</td>\n",
       "      <td>2</td>\n",
       "      <td>petter mattei love time money visually stunnin...</td>\n",
       "    </tr>\n",
       "    <tr>\n",
       "      <th>...</th>\n",
       "      <td>...</td>\n",
       "      <td>...</td>\n",
       "      <td>...</td>\n",
       "      <td>...</td>\n",
       "    </tr>\n",
       "    <tr>\n",
       "      <th>678506</th>\n",
       "      <td>679009</td>\n",
       "      <td>ryan good yelp claim courteous knowledgable he...</td>\n",
       "      <td>2</td>\n",
       "      <td>ryan good yelp claim courteous knowledgable he...</td>\n",
       "    </tr>\n",
       "    <tr>\n",
       "      <th>678507</th>\n",
       "      <td>679010</td>\n",
       "      <td>professional \\nfriendly\\non time affordable!\\n...</td>\n",
       "      <td>2</td>\n",
       "      <td>professional \\nfriendly\\non time affordable!\\n...</td>\n",
       "    </tr>\n",
       "    <tr>\n",
       "      <th>678508</th>\n",
       "      <td>679011</td>\n",
       "      <td>phone call voicemail message return   stupid w...</td>\n",
       "      <td>1</td>\n",
       "      <td>phone call voicemail message return   stupid w...</td>\n",
       "    </tr>\n",
       "    <tr>\n",
       "      <th>678509</th>\n",
       "      <td>679012</td>\n",
       "      <td>look like good review go head place   jason ry...</td>\n",
       "      <td>1</td>\n",
       "      <td>look like good review go head place   jason ry...</td>\n",
       "    </tr>\n",
       "    <tr>\n",
       "      <th>678510</th>\n",
       "      <td>679013</td>\n",
       "      <td>ryan rocks call morning sprinkler help potenti...</td>\n",
       "      <td>2</td>\n",
       "      <td>ryan rocks call morning sprinkler help potenti...</td>\n",
       "    </tr>\n",
       "  </tbody>\n",
       "</table>\n",
       "<p>678511 rows × 4 columns</p>\n",
       "</div>"
      ],
      "text/plain": [
       "        Unnamed: 0                                               text  label  \\\n",
       "0                0  reviewer mention watch 1 oz episode hook right...      2   \n",
       "1                1  wonderful little production br /><br />the fil...      2   \n",
       "2                2  think wonderful way spend time hot summer week...      2   \n",
       "3                3  basically family little boy jake think zombie ...      0   \n",
       "4                4  petter mattei love time money visually stunnin...      2   \n",
       "...            ...                                                ...    ...   \n",
       "678506      679009  ryan good yelp claim courteous knowledgable he...      2   \n",
       "678507      679010  professional \\nfriendly\\non time affordable!\\n...      2   \n",
       "678508      679011  phone call voicemail message return   stupid w...      1   \n",
       "678509      679012  look like good review go head place   jason ry...      1   \n",
       "678510      679013  ryan rocks call morning sprinkler help potenti...      2   \n",
       "\n",
       "                                          preprocess_text  \n",
       "0       reviewer mention watch 1 oz episode hook right...  \n",
       "1       wonderful little production br /><br />the fil...  \n",
       "2       think wonderful way spend time hot summer week...  \n",
       "3       basically family little boy jake think zombie ...  \n",
       "4       petter mattei love time money visually stunnin...  \n",
       "...                                                   ...  \n",
       "678506  ryan good yelp claim courteous knowledgable he...  \n",
       "678507  professional \\nfriendly\\non time affordable!\\n...  \n",
       "678508  phone call voicemail message return   stupid w...  \n",
       "678509  look like good review go head place   jason ry...  \n",
       "678510  ryan rocks call morning sprinkler help potenti...  \n",
       "\n",
       "[678511 rows x 4 columns]"
      ]
     },
     "execution_count": 77,
     "metadata": {},
     "output_type": "execute_result"
    }
   ],
   "source": [
    "# Evaluate fine-tuned model on all samples, including non low confidence ones\n",
    "df_test = pd.read_csv('./data/SA_cleaned.csv')\n",
    "df_test['text'] = df_test['preprocess_text'].astype(str)\n",
    "df_test['label'] = df_test['label'].astype(int)\n",
    "df_test"
   ]
  },
  {
   "cell_type": "code",
   "execution_count": 78,
   "id": "9ba05b5e",
   "metadata": {},
   "outputs": [
    {
     "data": {
      "application/vnd.jupyter.widget-view+json": {
       "model_id": "062c2819d6f44a049c26638353fbefb9",
       "version_major": 2,
       "version_minor": 0
      },
      "text/plain": [
       "Map:   0%|          | 0/678511 [00:00<?, ? examples/s]"
      ]
     },
     "metadata": {},
     "output_type": "display_data"
    },
    {
     "ename": "KeyboardInterrupt",
     "evalue": "",
     "output_type": "error",
     "traceback": [
      "\u001b[31m---------------------------------------------------------------------------\u001b[39m",
      "\u001b[31mKeyboardInterrupt\u001b[39m                         Traceback (most recent call last)",
      "\u001b[36mCell\u001b[39m\u001b[36m \u001b[39m\u001b[32mIn[78]\u001b[39m\u001b[32m, line 2\u001b[39m\n\u001b[32m      1\u001b[39m test_dataset = Dataset.from_pandas(df_test[[\u001b[33m'\u001b[39m\u001b[33mtext\u001b[39m\u001b[33m'\u001b[39m, \u001b[33m'\u001b[39m\u001b[33mlabel\u001b[39m\u001b[33m'\u001b[39m]])\n\u001b[32m----> \u001b[39m\u001b[32m2\u001b[39m tokenized_test_dataset = \u001b[43mtest_dataset\u001b[49m\u001b[43m.\u001b[49m\u001b[43mmap\u001b[49m\u001b[43m(\u001b[49m\u001b[43mtokenize_function\u001b[49m\u001b[43m,\u001b[49m\u001b[43m \u001b[49m\u001b[43mbatched\u001b[49m\u001b[43m=\u001b[49m\u001b[38;5;28;43;01mTrue\u001b[39;49;00m\u001b[43m)\u001b[49m\n\u001b[32m      4\u001b[39m trainer = Trainer(\n\u001b[32m      5\u001b[39m     model=model,\n\u001b[32m      6\u001b[39m     args=training_args,\n\u001b[32m   (...)\u001b[39m\u001b[32m     10\u001b[39m     callbacks=[logger_callback]\n\u001b[32m     11\u001b[39m )\n\u001b[32m     13\u001b[39m results_all = trainer.evaluate()\n",
      "\u001b[36mFile \u001b[39m\u001b[32md:\\526_term_project\\Skynet\\.venv\\Lib\\site-packages\\datasets\\arrow_dataset.py:557\u001b[39m, in \u001b[36mtransmit_format.<locals>.wrapper\u001b[39m\u001b[34m(*args, **kwargs)\u001b[39m\n\u001b[32m    550\u001b[39m self_format = {\n\u001b[32m    551\u001b[39m     \u001b[33m\"\u001b[39m\u001b[33mtype\u001b[39m\u001b[33m\"\u001b[39m: \u001b[38;5;28mself\u001b[39m._format_type,\n\u001b[32m    552\u001b[39m     \u001b[33m\"\u001b[39m\u001b[33mformat_kwargs\u001b[39m\u001b[33m\"\u001b[39m: \u001b[38;5;28mself\u001b[39m._format_kwargs,\n\u001b[32m    553\u001b[39m     \u001b[33m\"\u001b[39m\u001b[33mcolumns\u001b[39m\u001b[33m\"\u001b[39m: \u001b[38;5;28mself\u001b[39m._format_columns,\n\u001b[32m    554\u001b[39m     \u001b[33m\"\u001b[39m\u001b[33moutput_all_columns\u001b[39m\u001b[33m\"\u001b[39m: \u001b[38;5;28mself\u001b[39m._output_all_columns,\n\u001b[32m    555\u001b[39m }\n\u001b[32m    556\u001b[39m \u001b[38;5;66;03m# apply actual function\u001b[39;00m\n\u001b[32m--> \u001b[39m\u001b[32m557\u001b[39m out: Union[\u001b[33m\"\u001b[39m\u001b[33mDataset\u001b[39m\u001b[33m\"\u001b[39m, \u001b[33m\"\u001b[39m\u001b[33mDatasetDict\u001b[39m\u001b[33m\"\u001b[39m] = \u001b[43mfunc\u001b[49m\u001b[43m(\u001b[49m\u001b[38;5;28;43mself\u001b[39;49m\u001b[43m,\u001b[49m\u001b[43m \u001b[49m\u001b[43m*\u001b[49m\u001b[43margs\u001b[49m\u001b[43m,\u001b[49m\u001b[43m \u001b[49m\u001b[43m*\u001b[49m\u001b[43m*\u001b[49m\u001b[43mkwargs\u001b[49m\u001b[43m)\u001b[49m\n\u001b[32m    558\u001b[39m datasets: \u001b[38;5;28mlist\u001b[39m[\u001b[33m\"\u001b[39m\u001b[33mDataset\u001b[39m\u001b[33m\"\u001b[39m] = \u001b[38;5;28mlist\u001b[39m(out.values()) \u001b[38;5;28;01mif\u001b[39;00m \u001b[38;5;28misinstance\u001b[39m(out, \u001b[38;5;28mdict\u001b[39m) \u001b[38;5;28;01melse\u001b[39;00m [out]\n\u001b[32m    559\u001b[39m \u001b[38;5;66;03m# re-apply format to the output\u001b[39;00m\n",
      "\u001b[36mFile \u001b[39m\u001b[32md:\\526_term_project\\Skynet\\.venv\\Lib\\site-packages\\datasets\\arrow_dataset.py:3079\u001b[39m, in \u001b[36mDataset.map\u001b[39m\u001b[34m(self, function, with_indices, with_rank, input_columns, batched, batch_size, drop_last_batch, remove_columns, keep_in_memory, load_from_cache_file, cache_file_name, writer_batch_size, features, disable_nullable, fn_kwargs, num_proc, suffix_template, new_fingerprint, desc, try_original_type)\u001b[39m\n\u001b[32m   3073\u001b[39m \u001b[38;5;28;01mif\u001b[39;00m transformed_dataset \u001b[38;5;129;01mis\u001b[39;00m \u001b[38;5;28;01mNone\u001b[39;00m:\n\u001b[32m   3074\u001b[39m     \u001b[38;5;28;01mwith\u001b[39;00m hf_tqdm(\n\u001b[32m   3075\u001b[39m         unit=\u001b[33m\"\u001b[39m\u001b[33m examples\u001b[39m\u001b[33m\"\u001b[39m,\n\u001b[32m   3076\u001b[39m         total=pbar_total,\n\u001b[32m   3077\u001b[39m         desc=desc \u001b[38;5;129;01mor\u001b[39;00m \u001b[33m\"\u001b[39m\u001b[33mMap\u001b[39m\u001b[33m\"\u001b[39m,\n\u001b[32m   3078\u001b[39m     ) \u001b[38;5;28;01mas\u001b[39;00m pbar:\n\u001b[32m-> \u001b[39m\u001b[32m3079\u001b[39m \u001b[43m        \u001b[49m\u001b[38;5;28;43;01mfor\u001b[39;49;00m\u001b[43m \u001b[49m\u001b[43mrank\u001b[49m\u001b[43m,\u001b[49m\u001b[43m \u001b[49m\u001b[43mdone\u001b[49m\u001b[43m,\u001b[49m\u001b[43m \u001b[49m\u001b[43mcontent\u001b[49m\u001b[43m \u001b[49m\u001b[38;5;129;43;01min\u001b[39;49;00m\u001b[43m \u001b[49m\u001b[43mDataset\u001b[49m\u001b[43m.\u001b[49m\u001b[43m_map_single\u001b[49m\u001b[43m(\u001b[49m\u001b[43m*\u001b[49m\u001b[43m*\u001b[49m\u001b[43mdataset_kwargs\u001b[49m\u001b[43m)\u001b[49m\u001b[43m:\u001b[49m\n\u001b[32m   3080\u001b[39m \u001b[43m            \u001b[49m\u001b[38;5;28;43;01mif\u001b[39;49;00m\u001b[43m \u001b[49m\u001b[43mdone\u001b[49m\u001b[43m:\u001b[49m\n\u001b[32m   3081\u001b[39m \u001b[43m                \u001b[49m\u001b[43mshards_done\u001b[49m\u001b[43m \u001b[49m\u001b[43m+\u001b[49m\u001b[43m=\u001b[49m\u001b[43m \u001b[49m\u001b[32;43m1\u001b[39;49m\n",
      "\u001b[36mFile \u001b[39m\u001b[32md:\\526_term_project\\Skynet\\.venv\\Lib\\site-packages\\datasets\\arrow_dataset.py:3540\u001b[39m, in \u001b[36mDataset._map_single\u001b[39m\u001b[34m(shard, function, with_indices, with_rank, input_columns, batched, batch_size, drop_last_batch, remove_columns, keep_in_memory, cache_file_name, writer_batch_size, features, disable_nullable, fn_kwargs, new_fingerprint, rank, offset, try_original_type)\u001b[39m\n\u001b[32m   3538\u001b[39m         writer.write_table(batch.to_arrow())\n\u001b[32m   3539\u001b[39m     \u001b[38;5;28;01melse\u001b[39;00m:\n\u001b[32m-> \u001b[39m\u001b[32m3540\u001b[39m         \u001b[43mwriter\u001b[49m\u001b[43m.\u001b[49m\u001b[43mwrite_batch\u001b[49m\u001b[43m(\u001b[49m\u001b[43mbatch\u001b[49m\u001b[43m,\u001b[49m\u001b[43m \u001b[49m\u001b[43mtry_original_type\u001b[49m\u001b[43m=\u001b[49m\u001b[43mtry_original_type\u001b[49m\u001b[43m)\u001b[49m\n\u001b[32m   3541\u001b[39m num_examples_progress_update += num_examples_in_batch\n\u001b[32m   3542\u001b[39m \u001b[38;5;28;01mif\u001b[39;00m time.time() > _time + config.PBAR_REFRESH_TIME_INTERVAL:\n",
      "\u001b[36mFile \u001b[39m\u001b[32md:\\526_term_project\\Skynet\\.venv\\Lib\\site-packages\\datasets\\arrow_writer.py:626\u001b[39m, in \u001b[36mArrowWriter.write_batch\u001b[39m\u001b[34m(self, batch_examples, writer_batch_size, try_original_type)\u001b[39m\n\u001b[32m    620\u001b[39m         col_try_type = (\n\u001b[32m    621\u001b[39m             try_features[col]\n\u001b[32m    622\u001b[39m             \u001b[38;5;28;01mif\u001b[39;00m try_features \u001b[38;5;129;01mis\u001b[39;00m \u001b[38;5;129;01mnot\u001b[39;00m \u001b[38;5;28;01mNone\u001b[39;00m \u001b[38;5;129;01mand\u001b[39;00m col \u001b[38;5;129;01min\u001b[39;00m try_features \u001b[38;5;129;01mand\u001b[39;00m try_original_type\n\u001b[32m    623\u001b[39m             \u001b[38;5;28;01melse\u001b[39;00m \u001b[38;5;28;01mNone\u001b[39;00m\n\u001b[32m    624\u001b[39m         )\n\u001b[32m    625\u001b[39m         typed_sequence = OptimizedTypedSequence(col_values, \u001b[38;5;28mtype\u001b[39m=col_type, try_type=col_try_type, col=col)\n\u001b[32m--> \u001b[39m\u001b[32m626\u001b[39m         arrays.append(\u001b[43mpa\u001b[49m\u001b[43m.\u001b[49m\u001b[43marray\u001b[49m\u001b[43m(\u001b[49m\u001b[43mtyped_sequence\u001b[49m\u001b[43m)\u001b[49m)\n\u001b[32m    627\u001b[39m         inferred_features[col] = typed_sequence.get_inferred_type()\n\u001b[32m    628\u001b[39m schema = inferred_features.arrow_schema \u001b[38;5;28;01mif\u001b[39;00m \u001b[38;5;28mself\u001b[39m.pa_writer \u001b[38;5;129;01mis\u001b[39;00m \u001b[38;5;28;01mNone\u001b[39;00m \u001b[38;5;28;01melse\u001b[39;00m \u001b[38;5;28mself\u001b[39m.schema\n",
      "\u001b[36mFile \u001b[39m\u001b[32md:\\526_term_project\\Skynet\\.venv\\Lib\\site-packages\\pyarrow\\array.pxi:255\u001b[39m, in \u001b[36mpyarrow.lib.array\u001b[39m\u001b[34m()\u001b[39m\n",
      "\u001b[36mFile \u001b[39m\u001b[32md:\\526_term_project\\Skynet\\.venv\\Lib\\site-packages\\pyarrow\\array.pxi:117\u001b[39m, in \u001b[36mpyarrow.lib._handle_arrow_array_protocol\u001b[39m\u001b[34m()\u001b[39m\n",
      "\u001b[36mFile \u001b[39m\u001b[32md:\\526_term_project\\Skynet\\.venv\\Lib\\site-packages\\datasets\\arrow_writer.py:258\u001b[39m, in \u001b[36mTypedSequence.__arrow_array__\u001b[39m\u001b[34m(self, type)\u001b[39m\n\u001b[32m    253\u001b[39m     \u001b[38;5;66;03m# otherwise we can finally use the user's type\u001b[39;00m\n\u001b[32m    254\u001b[39m     \u001b[38;5;28;01melif\u001b[39;00m \u001b[38;5;28mtype\u001b[39m \u001b[38;5;129;01mis\u001b[39;00m \u001b[38;5;129;01mnot\u001b[39;00m \u001b[38;5;28;01mNone\u001b[39;00m:\n\u001b[32m    255\u001b[39m         \u001b[38;5;66;03m# We use cast_array_to_feature to support casting to custom types like Audio and Image\u001b[39;00m\n\u001b[32m    256\u001b[39m         \u001b[38;5;66;03m# Also, when trying type \"string\", we don't want to convert integers or floats to \"string\".\u001b[39;00m\n\u001b[32m    257\u001b[39m         \u001b[38;5;66;03m# We only do it if trying_type is False - since this is what the user asks for.\u001b[39;00m\n\u001b[32m--> \u001b[39m\u001b[32m258\u001b[39m         out = \u001b[43mcast_array_to_feature\u001b[49m\u001b[43m(\u001b[49m\n\u001b[32m    259\u001b[39m \u001b[43m            \u001b[49m\u001b[43mout\u001b[49m\u001b[43m,\u001b[49m\u001b[43m \u001b[49m\u001b[38;5;28;43mtype\u001b[39;49m\u001b[43m,\u001b[49m\u001b[43m \u001b[49m\u001b[43mallow_primitive_to_str\u001b[49m\u001b[43m=\u001b[49m\u001b[38;5;129;43;01mnot\u001b[39;49;00m\u001b[43m \u001b[49m\u001b[38;5;28;43mself\u001b[39;49m\u001b[43m.\u001b[49m\u001b[43mtrying_type\u001b[49m\u001b[43m,\u001b[49m\u001b[43m \u001b[49m\u001b[43mallow_decimal_to_str\u001b[49m\u001b[43m=\u001b[49m\u001b[38;5;129;43;01mnot\u001b[39;49;00m\u001b[43m \u001b[49m\u001b[38;5;28;43mself\u001b[39;49m\u001b[43m.\u001b[49m\u001b[43mtrying_type\u001b[49m\n\u001b[32m    260\u001b[39m \u001b[43m        \u001b[49m\u001b[43m)\u001b[49m\n\u001b[32m    261\u001b[39m     \u001b[38;5;28;01mreturn\u001b[39;00m out\n\u001b[32m    262\u001b[39m \u001b[38;5;28;01mexcept\u001b[39;00m (\n\u001b[32m    263\u001b[39m     \u001b[38;5;167;01mTypeError\u001b[39;00m,\n\u001b[32m    264\u001b[39m     pa.lib.ArrowInvalid,\n\u001b[32m    265\u001b[39m     pa.lib.ArrowNotImplementedError,\n\u001b[32m    266\u001b[39m ) \u001b[38;5;28;01mas\u001b[39;00m e:  \u001b[38;5;66;03m# handle type errors and overflows\u001b[39;00m\n\u001b[32m    267\u001b[39m     \u001b[38;5;66;03m# Ignore ArrowNotImplementedError caused by trying type, otherwise re-raise\u001b[39;00m\n",
      "\u001b[36mFile \u001b[39m\u001b[32md:\\526_term_project\\Skynet\\.venv\\Lib\\site-packages\\datasets\\table.py:1798\u001b[39m, in \u001b[36m_wrap_for_chunked_arrays.<locals>.wrapper\u001b[39m\u001b[34m(array, *args, **kwargs)\u001b[39m\n\u001b[32m   1796\u001b[39m     \u001b[38;5;28;01mreturn\u001b[39;00m pa.chunked_array([func(chunk, *args, **kwargs) \u001b[38;5;28;01mfor\u001b[39;00m chunk \u001b[38;5;129;01min\u001b[39;00m array.chunks])\n\u001b[32m   1797\u001b[39m \u001b[38;5;28;01melse\u001b[39;00m:\n\u001b[32m-> \u001b[39m\u001b[32m1798\u001b[39m     \u001b[38;5;28;01mreturn\u001b[39;00m \u001b[43mfunc\u001b[49m\u001b[43m(\u001b[49m\u001b[43marray\u001b[49m\u001b[43m,\u001b[49m\u001b[43m \u001b[49m\u001b[43m*\u001b[49m\u001b[43margs\u001b[49m\u001b[43m,\u001b[49m\u001b[43m \u001b[49m\u001b[43m*\u001b[49m\u001b[43m*\u001b[49m\u001b[43mkwargs\u001b[49m\u001b[43m)\u001b[49m\n",
      "\u001b[36mFile \u001b[39m\u001b[32md:\\526_term_project\\Skynet\\.venv\\Lib\\site-packages\\datasets\\table.py:2066\u001b[39m, in \u001b[36mcast_array_to_feature\u001b[39m\u001b[34m(array, feature, allow_primitive_to_str, allow_decimal_to_str)\u001b[39m\n\u001b[32m   2064\u001b[39m             \u001b[38;5;28;01mreturn\u001b[39;00m pa.FixedSizeListArray.from_arrays(_c(array_values, feature.feature), feature.length)\n\u001b[32m   2065\u001b[39m \u001b[38;5;28;01melse\u001b[39;00m:\n\u001b[32m-> \u001b[39m\u001b[32m2066\u001b[39m     casted_array_values = \u001b[43m_c\u001b[49m\u001b[43m(\u001b[49m\u001b[43marray\u001b[49m\u001b[43m.\u001b[49m\u001b[43mvalues\u001b[49m\u001b[43m,\u001b[49m\u001b[43m \u001b[49m\u001b[43mfeature\u001b[49m\u001b[43m.\u001b[49m\u001b[43mfeature\u001b[49m\u001b[43m)\u001b[49m\n\u001b[32m   2067\u001b[39m     \u001b[38;5;28;01mif\u001b[39;00m pa.types.is_list(array.type) \u001b[38;5;129;01mand\u001b[39;00m casted_array_values.type == array.values.type:\n\u001b[32m   2068\u001b[39m         \u001b[38;5;66;03m# Both array and feature have equal list type and values (within the list) type\u001b[39;00m\n\u001b[32m   2069\u001b[39m         \u001b[38;5;28;01mreturn\u001b[39;00m array\n",
      "\u001b[36mFile \u001b[39m\u001b[32md:\\526_term_project\\Skynet\\.venv\\Lib\\site-packages\\datasets\\table.py:1798\u001b[39m, in \u001b[36m_wrap_for_chunked_arrays.<locals>.wrapper\u001b[39m\u001b[34m(array, *args, **kwargs)\u001b[39m\n\u001b[32m   1796\u001b[39m     \u001b[38;5;28;01mreturn\u001b[39;00m pa.chunked_array([func(chunk, *args, **kwargs) \u001b[38;5;28;01mfor\u001b[39;00m chunk \u001b[38;5;129;01min\u001b[39;00m array.chunks])\n\u001b[32m   1797\u001b[39m \u001b[38;5;28;01melse\u001b[39;00m:\n\u001b[32m-> \u001b[39m\u001b[32m1798\u001b[39m     \u001b[38;5;28;01mreturn\u001b[39;00m \u001b[43mfunc\u001b[49m\u001b[43m(\u001b[49m\u001b[43marray\u001b[49m\u001b[43m,\u001b[49m\u001b[43m \u001b[49m\u001b[43m*\u001b[49m\u001b[43margs\u001b[49m\u001b[43m,\u001b[49m\u001b[43m \u001b[49m\u001b[43m*\u001b[49m\u001b[43m*\u001b[49m\u001b[43mkwargs\u001b[49m\u001b[43m)\u001b[49m\n",
      "\u001b[36mFile \u001b[39m\u001b[32md:\\526_term_project\\Skynet\\.venv\\Lib\\site-packages\\datasets\\table.py:2103\u001b[39m, in \u001b[36mcast_array_to_feature\u001b[39m\u001b[34m(array, feature, allow_primitive_to_str, allow_decimal_to_str)\u001b[39m\n\u001b[32m   2096\u001b[39m     \u001b[38;5;28;01mreturn\u001b[39;00m array_cast(\n\u001b[32m   2097\u001b[39m         array,\n\u001b[32m   2098\u001b[39m         get_nested_type(feature),\n\u001b[32m   2099\u001b[39m         allow_primitive_to_str=allow_primitive_to_str,\n\u001b[32m   2100\u001b[39m         allow_decimal_to_str=allow_decimal_to_str,\n\u001b[32m   2101\u001b[39m     )\n\u001b[32m   2102\u001b[39m \u001b[38;5;28;01melif\u001b[39;00m \u001b[38;5;129;01mnot\u001b[39;00m \u001b[38;5;28misinstance\u001b[39m(feature, (Sequence, \u001b[38;5;28mdict\u001b[39m, \u001b[38;5;28mlist\u001b[39m, \u001b[38;5;28mtuple\u001b[39m)):\n\u001b[32m-> \u001b[39m\u001b[32m2103\u001b[39m     \u001b[38;5;28;01mreturn\u001b[39;00m \u001b[43marray_cast\u001b[49m\u001b[43m(\u001b[49m\n\u001b[32m   2104\u001b[39m \u001b[43m        \u001b[49m\u001b[43marray\u001b[49m\u001b[43m,\u001b[49m\n\u001b[32m   2105\u001b[39m \u001b[43m        \u001b[49m\u001b[43mfeature\u001b[49m\u001b[43m(\u001b[49m\u001b[43m)\u001b[49m\u001b[43m,\u001b[49m\n\u001b[32m   2106\u001b[39m \u001b[43m        \u001b[49m\u001b[43mallow_primitive_to_str\u001b[49m\u001b[43m=\u001b[49m\u001b[43mallow_primitive_to_str\u001b[49m\u001b[43m,\u001b[49m\n\u001b[32m   2107\u001b[39m \u001b[43m        \u001b[49m\u001b[43mallow_decimal_to_str\u001b[49m\u001b[43m=\u001b[49m\u001b[43mallow_decimal_to_str\u001b[49m\u001b[43m,\u001b[49m\n\u001b[32m   2108\u001b[39m \u001b[43m    \u001b[49m\u001b[43m)\u001b[49m\n\u001b[32m   2109\u001b[39m \u001b[38;5;28;01mraise\u001b[39;00m \u001b[38;5;167;01mTypeError\u001b[39;00m(\u001b[33mf\u001b[39m\u001b[33m\"\u001b[39m\u001b[33mCouldn\u001b[39m\u001b[33m'\u001b[39m\u001b[33mt cast array of type\u001b[39m\u001b[38;5;130;01m\\n\u001b[39;00m\u001b[38;5;132;01m{\u001b[39;00m_short_str(array.type)\u001b[38;5;132;01m}\u001b[39;00m\u001b[38;5;130;01m\\n\u001b[39;00m\u001b[33mto\u001b[39m\u001b[38;5;130;01m\\n\u001b[39;00m\u001b[38;5;132;01m{\u001b[39;00m_short_str(feature)\u001b[38;5;132;01m}\u001b[39;00m\u001b[33m\"\u001b[39m)\n",
      "\u001b[36mFile \u001b[39m\u001b[32md:\\526_term_project\\Skynet\\.venv\\Lib\\site-packages\\datasets\\table.py:1798\u001b[39m, in \u001b[36m_wrap_for_chunked_arrays.<locals>.wrapper\u001b[39m\u001b[34m(array, *args, **kwargs)\u001b[39m\n\u001b[32m   1796\u001b[39m     \u001b[38;5;28;01mreturn\u001b[39;00m pa.chunked_array([func(chunk, *args, **kwargs) \u001b[38;5;28;01mfor\u001b[39;00m chunk \u001b[38;5;129;01min\u001b[39;00m array.chunks])\n\u001b[32m   1797\u001b[39m \u001b[38;5;28;01melse\u001b[39;00m:\n\u001b[32m-> \u001b[39m\u001b[32m1798\u001b[39m     \u001b[38;5;28;01mreturn\u001b[39;00m \u001b[43mfunc\u001b[49m\u001b[43m(\u001b[49m\u001b[43marray\u001b[49m\u001b[43m,\u001b[49m\u001b[43m \u001b[49m\u001b[43m*\u001b[49m\u001b[43margs\u001b[49m\u001b[43m,\u001b[49m\u001b[43m \u001b[49m\u001b[43m*\u001b[49m\u001b[43m*\u001b[49m\u001b[43mkwargs\u001b[49m\u001b[43m)\u001b[49m\n",
      "\u001b[36mFile \u001b[39m\u001b[32md:\\526_term_project\\Skynet\\.venv\\Lib\\site-packages\\datasets\\table.py:1950\u001b[39m, in \u001b[36marray_cast\u001b[39m\u001b[34m(array, pa_type, allow_primitive_to_str, allow_decimal_to_str)\u001b[39m\n\u001b[32m   1948\u001b[39m     \u001b[38;5;28;01mif\u001b[39;00m pa.types.is_null(pa_type) \u001b[38;5;129;01mand\u001b[39;00m \u001b[38;5;129;01mnot\u001b[39;00m pa.types.is_null(array.type):\n\u001b[32m   1949\u001b[39m         \u001b[38;5;28;01mraise\u001b[39;00m \u001b[38;5;167;01mTypeError\u001b[39;00m(\u001b[33mf\u001b[39m\u001b[33m\"\u001b[39m\u001b[33mCouldn\u001b[39m\u001b[33m'\u001b[39m\u001b[33mt cast array of type \u001b[39m\u001b[38;5;132;01m{\u001b[39;00m_short_str(array.type)\u001b[38;5;132;01m}\u001b[39;00m\u001b[33m to \u001b[39m\u001b[38;5;132;01m{\u001b[39;00m_short_str(pa_type)\u001b[38;5;132;01m}\u001b[39;00m\u001b[33m\"\u001b[39m)\n\u001b[32m-> \u001b[39m\u001b[32m1950\u001b[39m     \u001b[38;5;28;01mreturn\u001b[39;00m \u001b[43marray\u001b[49m\u001b[43m.\u001b[49m\u001b[43mcast\u001b[49m\u001b[43m(\u001b[49m\u001b[43mpa_type\u001b[49m\u001b[43m)\u001b[49m\n\u001b[32m   1951\u001b[39m \u001b[38;5;28;01mraise\u001b[39;00m \u001b[38;5;167;01mTypeError\u001b[39;00m(\u001b[33mf\u001b[39m\u001b[33m\"\u001b[39m\u001b[33mCouldn\u001b[39m\u001b[33m'\u001b[39m\u001b[33mt cast array of type \u001b[39m\u001b[38;5;132;01m{\u001b[39;00m_short_str(array.type)\u001b[38;5;132;01m}\u001b[39;00m\u001b[33m to \u001b[39m\u001b[38;5;132;01m{\u001b[39;00m_short_str(pa_type)\u001b[38;5;132;01m}\u001b[39;00m\u001b[33m\"\u001b[39m)\n",
      "\u001b[36mFile \u001b[39m\u001b[32md:\\526_term_project\\Skynet\\.venv\\Lib\\site-packages\\pyarrow\\array.pxi:1102\u001b[39m, in \u001b[36mpyarrow.lib.Array.cast\u001b[39m\u001b[34m()\u001b[39m\n",
      "\u001b[36mFile \u001b[39m\u001b[32md:\\526_term_project\\Skynet\\.venv\\Lib\\site-packages\\pyarrow\\compute.py:410\u001b[39m, in \u001b[36mcast\u001b[39m\u001b[34m(arr, target_type, safe, options, memory_pool)\u001b[39m\n\u001b[32m    408\u001b[39m     \u001b[38;5;28;01melse\u001b[39;00m:\n\u001b[32m    409\u001b[39m         options = CastOptions.safe(target_type)\n\u001b[32m--> \u001b[39m\u001b[32m410\u001b[39m \u001b[38;5;28;01mreturn\u001b[39;00m \u001b[43mcall_function\u001b[49m\u001b[43m(\u001b[49m\u001b[33;43m\"\u001b[39;49m\u001b[33;43mcast\u001b[39;49m\u001b[33;43m\"\u001b[39;49m\u001b[43m,\u001b[49m\u001b[43m \u001b[49m\u001b[43m[\u001b[49m\u001b[43marr\u001b[49m\u001b[43m]\u001b[49m\u001b[43m,\u001b[49m\u001b[43m \u001b[49m\u001b[43moptions\u001b[49m\u001b[43m,\u001b[49m\u001b[43m \u001b[49m\u001b[43mmemory_pool\u001b[49m\u001b[43m)\u001b[49m\n",
      "\u001b[31mKeyboardInterrupt\u001b[39m: "
     ]
    }
   ],
   "source": [
    "test_dataset = Dataset.from_pandas(df_test[['text', 'label']])\n",
    "tokenized_test_dataset = test_dataset.map(tokenize_function, batched=True)\n",
    "\n",
    "trainer = Trainer(\n",
    "    model=model,\n",
    "    args=training_args,\n",
    "    train_dataset=tokenized_train_dataset,\n",
    "    eval_dataset=tokenized_test_dataset,\n",
    "    compute_metrics=compute_metrics,\n",
    "    callbacks=[logger_callback]\n",
    ")\n",
    "\n",
    "results_all = trainer.evaluate()\n",
    "print(results_all)"
   ]
  }
 ],
 "metadata": {
  "kernelspec": {
   "display_name": ".venv",
   "language": "python",
   "name": "python3"
  },
  "language_info": {
   "codemirror_mode": {
    "name": "ipython",
    "version": 3
   },
   "file_extension": ".py",
   "mimetype": "text/x-python",
   "name": "python",
   "nbconvert_exporter": "python",
   "pygments_lexer": "ipython3",
   "version": "3.12.4"
  }
 },
 "nbformat": 4,
 "nbformat_minor": 5
}
