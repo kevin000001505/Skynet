{
 "cells": [
  {
   "cell_type": "code",
   "execution_count": 2,
   "id": "8648d378",
   "metadata": {},
   "outputs": [],
   "source": [
    "import pandas as pd\n",
    "from transformers import (\n",
    "    AutoTokenizer,\n",
    "    AutoModelForSequenceClassification,\n",
    "    Trainer,\n",
    "    TrainingArguments,\n",
    ")\n",
    "from datasets import Dataset\n",
    "from sklearn.metrics import accuracy_score\n",
<<<<<<< HEAD
    "from peft import get_peft_model, LoraConfig, TaskType\n",
    "from sklearn.model_selection import train_test_split"
=======
    "from sklearn.model_selection import train_test_split\n",
    "from peft import get_peft_model, LoraConfig, TaskType"
>>>>>>> main
   ]
  },
  {
   "cell_type": "code",
<<<<<<< HEAD
   "execution_count": null,
   "id": "3fabbb83",
   "metadata": {},
   "outputs": [],
   "source": []
  },
  {
   "cell_type": "code",
   "execution_count": 3,
   "id": "2411eb17",
=======
   "execution_count": 2,
   "id": "ee5848c7",
>>>>>>> main
   "metadata": {},
   "outputs": [
    {
     "data": {
      "text/html": [
       "<div>\n",
       "<style scoped>\n",
       "    .dataframe tbody tr th:only-of-type {\n",
       "        vertical-align: middle;\n",
       "    }\n",
       "\n",
       "    .dataframe tbody tr th {\n",
       "        vertical-align: top;\n",
       "    }\n",
       "\n",
       "    .dataframe thead th {\n",
       "        text-align: right;\n",
       "    }\n",
       "</style>\n",
       "<table border=\"1\" class=\"dataframe\">\n",
       "  <thead>\n",
       "    <tr style=\"text-align: right;\">\n",
       "      <th></th>\n",
       "      <th>Unnamed: 0</th>\n",
       "      <th>text</th>\n",
       "      <th>label</th>\n",
       "      <th>preprocess_text</th>\n",
       "    </tr>\n",
       "  </thead>\n",
       "  <tbody>\n",
       "    <tr>\n",
       "      <th>0</th>\n",
       "      <td>43</td>\n",
       "      <td>Having certain businesses with skill sets in y...</td>\n",
       "      <td>2</td>\n",
       "      <td>have certain business skill set local neighbor...</td>\n",
       "    </tr>\n",
       "    <tr>\n",
       "      <th>1</th>\n",
       "      <td>143</td>\n",
       "      <td>We came here on a Saturday night and luckily i...</td>\n",
       "      <td>2</td>\n",
       "      <td>come saturday night luckily pack think love pl...</td>\n",
       "    </tr>\n",
       "    <tr>\n",
       "      <th>2</th>\n",
       "      <td>167</td>\n",
       "      <td>For a brewery who is attempting to take advant...</td>\n",
       "      <td>1</td>\n",
       "      <td>brewery attempt advantage oktoberf wonder 7 pm...</td>\n",
       "    </tr>\n",
       "    <tr>\n",
       "      <th>3</th>\n",
       "      <td>175</td>\n",
       "      <td>I'm a regular here since their kitchen is open...</td>\n",
       "      <td>2</td>\n",
       "      <td>regular kitchen open late good option movie na...</td>\n",
       "    </tr>\n",
       "    <tr>\n",
       "      <th>4</th>\n",
       "      <td>213</td>\n",
       "      <td>haha only came here once for happy hour, but i...</td>\n",
       "      <td>2</td>\n",
       "      <td>haha come happy hour pleased price guess come ...</td>\n",
       "    </tr>\n",
       "    <tr>\n",
       "      <th>...</th>\n",
       "      <td>...</td>\n",
       "      <td>...</td>\n",
       "      <td>...</td>\n",
       "      <td>...</td>\n",
       "    </tr>\n",
       "    <tr>\n",
       "      <th>25667</th>\n",
       "      <td>678858</td>\n",
       "      <td>Just... wow! So many guns. So much ammunition....</td>\n",
       "      <td>2</td>\n",
       "      <td>... wow gun ammunition hunting gear outside ge...</td>\n",
       "    </tr>\n",
       "    <tr>\n",
       "      <th>25668</th>\n",
       "      <td>678922</td>\n",
       "      <td>This place is was not that great. Dim sum is o...</td>\n",
       "      <td>1</td>\n",
       "      <td>place great dim sum outranglusly expensive ran...</td>\n",
       "    </tr>\n",
       "    <tr>\n",
       "      <th>25669</th>\n",
       "      <td>678925</td>\n",
       "      <td>So Marcus, the owner, saw my wife and I passin...</td>\n",
       "      <td>2</td>\n",
       "      <td>marcus owner see wife pass star sandwhich shop...</td>\n",
       "    </tr>\n",
       "    <tr>\n",
       "      <th>25670</th>\n",
       "      <td>678943</td>\n",
       "      <td>We just left and will go back for burgers anyt...</td>\n",
       "      <td>2</td>\n",
       "      <td>leave burger anytime mood.\\n\\n5 minute wait ta...</td>\n",
       "    </tr>\n",
       "    <tr>\n",
       "      <th>25671</th>\n",
       "      <td>679019</td>\n",
       "      <td>I've been wanting to come here for quite some ...</td>\n",
       "      <td>1</td>\n",
       "      <td>want come time see feature guy fieri diners dr...</td>\n",
       "    </tr>\n",
       "  </tbody>\n",
       "</table>\n",
       "<p>25672 rows × 4 columns</p>\n",
       "</div>"
      ],
      "text/plain": [
       "       Unnamed: 0                                               text  label  \\\n",
       "0              43  Having certain businesses with skill sets in y...      2   \n",
       "1             143  We came here on a Saturday night and luckily i...      2   \n",
       "2             167  For a brewery who is attempting to take advant...      1   \n",
       "3             175  I'm a regular here since their kitchen is open...      2   \n",
       "4             213  haha only came here once for happy hour, but i...      2   \n",
       "...           ...                                                ...    ...   \n",
       "25667      678858  Just... wow! So many guns. So much ammunition....      2   \n",
       "25668      678922  This place is was not that great. Dim sum is o...      1   \n",
       "25669      678925  So Marcus, the owner, saw my wife and I passin...      2   \n",
       "25670      678943  We just left and will go back for burgers anyt...      2   \n",
       "25671      679019  I've been wanting to come here for quite some ...      1   \n",
       "\n",
       "                                         preprocess_text  \n",
       "0      have certain business skill set local neighbor...  \n",
       "1      come saturday night luckily pack think love pl...  \n",
       "2      brewery attempt advantage oktoberf wonder 7 pm...  \n",
       "3      regular kitchen open late good option movie na...  \n",
       "4      haha come happy hour pleased price guess come ...  \n",
       "...                                                  ...  \n",
       "25667  ... wow gun ammunition hunting gear outside ge...  \n",
       "25668  place great dim sum outranglusly expensive ran...  \n",
       "25669  marcus owner see wife pass star sandwhich shop...  \n",
       "25670  leave burger anytime mood.\\n\\n5 minute wait ta...  \n",
       "25671  want come time see feature guy fieri diners dr...  \n",
       "\n",
       "[25672 rows x 4 columns]"
      ]
     },
     "execution_count": 2,
     "metadata": {},
     "output_type": "execute_result"
    }
   ],
   "source": [
<<<<<<< HEAD
    "df = pd.read_csv(\"low_confidence_samples/Normal.csv\", encoding='ISO-8859-1')\n",
    "df.dropna(subset=['text', 'sentiment'], inplace=True)\n",
    "# df_test = pd.read_csv(\"low_confidence_samples/Normal.csv\", encoding='ISO-8859-1')\n",
    "# df_test.dropna(subset=['text', 'sentiment'], inplace=True)\n",
    "df_train, df_test = train_test_split(df, test_size=0.2, random_state=42)\n",
    "# Ensure text data is a list of strings and drop missing values\n",
    "df_train['text'] = df_train['text'].astype(str)\n",
    "df_test['text'] = df_test['text'].astype(str)\n",
    "\n",
    "df_train = df_train.rename(columns={'sentiment': 'label'})\n",
    "df_test = df_test.rename(columns={'sentiment': 'label'})\n",
    "\n",
    "df_train['label'] = df_train['label'].apply(lambda x: 2 if x == 'positive' else 1 if x == 'neutral' else 0)\n",
    "df_test['label'] = df_test['label'].apply(lambda x: 2 if x == 'positive' else 1 if x == 'neutral' else 0)\n",
    "\n",
    "\n",
    "df_train['label'] = df_train['label'].astype(int)\n",
    "df_test['label'] = df_test['label'].astype(int)"
=======
    "df = pd.read_csv(\"./low_confidence_samples/big_data.csv\")\n",
    "df"
>>>>>>> main
   ]
  },
  {
   "cell_type": "code",
<<<<<<< HEAD
<<<<<<< HEAD
   "execution_count": 39,
=======
   "execution_count": 4,
>>>>>>> main
=======
   "execution_count": 3,
   "id": "2411eb17",
   "metadata": {},
   "outputs": [],
   "source": [
    "df_train, df_test = train_test_split(df, test_size=0.3, shuffle=True)\n",
    "\n",
    "# Ensure text data is a list of strings and drop missing values\n",
    "df_train[\"text\"] = df_train[\"preprocess_text\"].astype(str)\n",
    "df_test[\"text\"] = df_test[\"preprocess_text\"].astype(str)\n",
    "\n",
    "# Ensure text is lowercase\n",
    "df_train[\"text\"] = df_train[\"text\"].str.lower()\n",
    "df_test[\"text\"] = df_test[\"text\"].str.lower()\n",
    "\n",
    "df_train[\"label\"] = df_train[\"label\"].astype(int)\n",
    "df_test[\"label\"] = df_test[\"label\"].astype(int)"
   ]
  },
  {
   "cell_type": "code",
   "execution_count": 4,
   "id": "e999af19",
   "metadata": {},
   "outputs": [
    {
     "data": {
      "text/html": [
       "<div>\n",
       "<style scoped>\n",
       "    .dataframe tbody tr th:only-of-type {\n",
       "        vertical-align: middle;\n",
       "    }\n",
       "\n",
       "    .dataframe tbody tr th {\n",
       "        vertical-align: top;\n",
       "    }\n",
       "\n",
       "    .dataframe thead th {\n",
       "        text-align: right;\n",
       "    }\n",
       "</style>\n",
       "<table border=\"1\" class=\"dataframe\">\n",
       "  <thead>\n",
       "    <tr style=\"text-align: right;\">\n",
       "      <th></th>\n",
       "      <th>Unnamed: 0</th>\n",
       "      <th>text</th>\n",
       "      <th>label</th>\n",
       "      <th>preprocess_text</th>\n",
       "    </tr>\n",
       "  </thead>\n",
       "  <tbody>\n",
       "    <tr>\n",
       "      <th>4023</th>\n",
       "      <td>131536</td>\n",
       "      <td>live valley year rave pricing great bargain fi...</td>\n",
       "      <td>1</td>\n",
       "      <td>live valley year rave pricing great bargain fi...</td>\n",
       "    </tr>\n",
       "    <tr>\n",
       "      <th>12087</th>\n",
       "      <td>376930</td>\n",
       "      <td>huge critic come sandwich shop big place open ...</td>\n",
       "      <td>1</td>\n",
       "      <td>huge critic come sandwich shop big place open ...</td>\n",
       "    </tr>\n",
       "    <tr>\n",
       "      <th>11979</th>\n",
       "      <td>373126</td>\n",
       "      <td>profession take lot drug test application proc...</td>\n",
       "      <td>2</td>\n",
       "      <td>profession take lot drug test application proc...</td>\n",
       "    </tr>\n",
       "    <tr>\n",
       "      <th>22809</th>\n",
       "      <td>622862</td>\n",
       "      <td>r lost trooper want know</td>\n",
       "      <td>0</td>\n",
       "      <td>r lost trooper want know</td>\n",
       "    </tr>\n",
       "    <tr>\n",
       "      <th>16636</th>\n",
       "      <td>526567</td>\n",
       "      <td>daughter visit today time   staff courteous be...</td>\n",
       "      <td>1</td>\n",
       "      <td>daughter visit today time   staff courteous be...</td>\n",
       "    </tr>\n",
       "    <tr>\n",
       "      <th>...</th>\n",
       "      <td>...</td>\n",
       "      <td>...</td>\n",
       "      <td>...</td>\n",
       "      <td>...</td>\n",
       "    </tr>\n",
       "    <tr>\n",
       "      <th>17261</th>\n",
       "      <td>550257</td>\n",
       "      <td>sport bar offer chicken wing slider bar gaming...</td>\n",
       "      <td>2</td>\n",
       "      <td>sport bar offer chicken wing slider bar gaming...</td>\n",
       "    </tr>\n",
       "    <tr>\n",
       "      <th>20513</th>\n",
       "      <td>595084</td>\n",
       "      <td>nagra come conservative indian family exactly ...</td>\n",
       "      <td>2</td>\n",
       "      <td>nagra come conservative indian family exactly ...</td>\n",
       "    </tr>\n",
       "    <tr>\n",
       "      <th>24296</th>\n",
       "      <td>639065</td>\n",
       "      <td>... long install sbs2008</td>\n",
       "      <td>0</td>\n",
       "      <td>... long install sbs2008</td>\n",
       "    </tr>\n",
       "    <tr>\n",
       "      <th>24313</th>\n",
       "      <td>639244</td>\n",
       "      <td>wooohooo i`m fourth row</td>\n",
       "      <td>1</td>\n",
       "      <td>wooohooo i`m fourth row</td>\n",
       "    </tr>\n",
       "    <tr>\n",
       "      <th>404</th>\n",
       "      <td>13151</td>\n",
       "      <td>rito good coworker move month pledge rito week...</td>\n",
       "      <td>2</td>\n",
       "      <td>rito good coworker move month pledge rito week...</td>\n",
       "    </tr>\n",
       "  </tbody>\n",
       "</table>\n",
       "<p>17970 rows × 4 columns</p>\n",
       "</div>"
      ],
      "text/plain": [
       "       Unnamed: 0                                               text  label  \\\n",
       "4023       131536  live valley year rave pricing great bargain fi...      1   \n",
       "12087      376930  huge critic come sandwich shop big place open ...      1   \n",
       "11979      373126  profession take lot drug test application proc...      2   \n",
       "22809      622862                           r lost trooper want know      0   \n",
       "16636      526567  daughter visit today time   staff courteous be...      1   \n",
       "...           ...                                                ...    ...   \n",
       "17261      550257  sport bar offer chicken wing slider bar gaming...      2   \n",
       "20513      595084  nagra come conservative indian family exactly ...      2   \n",
       "24296      639065                           ... long install sbs2008      0   \n",
       "24313      639244                            wooohooo i`m fourth row      1   \n",
       "404         13151  rito good coworker move month pledge rito week...      2   \n",
       "\n",
       "                                         preprocess_text  \n",
       "4023   live valley year rave pricing great bargain fi...  \n",
       "12087  huge critic come sandwich shop big place open ...  \n",
       "11979  profession take lot drug test application proc...  \n",
       "22809                           r lost trooper want know  \n",
       "16636  daughter visit today time   staff courteous be...  \n",
       "...                                                  ...  \n",
       "17261  sport bar offer chicken wing slider bar gaming...  \n",
       "20513  nagra come conservative indian family exactly ...  \n",
       "24296                           ... long install sbs2008  \n",
       "24313                            wooohooo i`m fourth row  \n",
       "404    rito good coworker move month pledge rito week...  \n",
       "\n",
       "[17970 rows x 4 columns]"
      ]
     },
     "execution_count": 4,
     "metadata": {},
     "output_type": "execute_result"
    }
   ],
   "source": [
    "df_train"
   ]
  },
  {
   "cell_type": "code",
   "execution_count": 6,
>>>>>>> main
   "id": "6edf9ef1",
   "metadata": {},
   "outputs": [],
   "source": [
<<<<<<< HEAD
    "# model_name = 'google-bert/bert-base-uncased'\n",
<<<<<<< HEAD
    "# model_name = \"prajjwal1/bert-tiny\"\n",
    "model_name = \"distilbert/distilbert-base-uncased\"\n",
=======
    "model_name = 'distilbert/distilbert-base-uncased'\n",
>>>>>>> main
=======
    "model_name = \"distilbert/distilbert-base-uncased\"\n",
>>>>>>> main
    "tokenizer = AutoTokenizer.from_pretrained(model_name)"
   ]
  },
  {
   "cell_type": "code",
<<<<<<< HEAD
<<<<<<< HEAD
   "execution_count": 40,
=======
   "execution_count": 5,
   "id": "dbaa8050",
   "metadata": {},
   "outputs": [
    {
     "data": {
      "application/vnd.jupyter.widget-view+json": {
       "model_id": "a2f2871092ac45ce9adc54ebc78f58cd",
       "version_major": 2,
       "version_minor": 0
      },
      "text/plain": [
       "Map (num_proc=4):   0%|          | 0/27480 [00:00<?, ? examples/s]"
      ]
     },
     "metadata": {},
     "output_type": "display_data"
    },
    {
     "data": {
      "application/vnd.jupyter.widget-view+json": {
       "model_id": "f6dc676028fd49419a09de47d31d292b",
       "version_major": 2,
       "version_minor": 0
      },
      "text/plain": [
       "Map (num_proc=4):   0%|          | 0/3534 [00:00<?, ? examples/s]"
      ]
     },
     "metadata": {},
     "output_type": "display_data"
    },
    {
     "data": {
      "application/vnd.jupyter.widget-view+json": {
       "model_id": "5362db277e9c484e81d67cd453d4a2f9",
       "version_major": 2,
       "version_minor": 0
      },
      "text/plain": [
       "Map (num_proc=4):   0%|          | 0/27480 [00:00<?, ? examples/s]"
      ]
     },
     "metadata": {},
     "output_type": "display_data"
    }
   ],
   "source": [
    "import spacy\n",
    "\n",
    "# 1. Load spaCy, disabling heavy components for speed\n",
    "#    Only the tagger & lemmatizer (which also gives you .is_stop/.is_punct) remain\n",
    "nlp = spacy.load(\"en_core_web_sm\", disable=[\"ner\", \"parser\"])\n",
    "\n",
    "# 2. Define a cleaning function\n",
    "def spacy_clean(text):\n",
    "    doc = nlp(text)\n",
    "    # keep only tokens that are NOT stop words or punctuation,\n",
    "    # then lemmatize and lowercase them\n",
    "    tokens = [\n",
    "        token.lemma_.lower()\n",
    "        for token in doc\n",
    "        if not (token.is_stop or token.is_punct)\n",
    "    ]\n",
    "    return \" \".join(tokens)\n",
    "\n",
    "train_dataset = Dataset.from_pandas(df_train[['text', 'label']])\n",
    "test_dataset  = Dataset.from_pandas(df_test[['text', 'label']])\n",
    "\n",
    "# 4. Map the cleaning function over the \"text\" column\n",
    "#    Use batched=True to process in chunks (faster), and num_proc to parallelize if you like\n",
    "train_dataset = train_dataset.map(\n",
    "    lambda batch: {\"text\": [spacy_clean(txt) for txt in batch[\"text\"]]},\n",
    "    batched=True,\n",
    "    batch_size=500,\n",
    "    num_proc=4,          # adjust or remove if you don’t want multiprocessing\n",
    ")\n",
    "test_dataset = test_dataset.map(\n",
    "    lambda batch: {\"text\": [spacy_clean(txt) for txt in batch[\"text\"]]},\n",
    "    batched=True,\n",
    "    batch_size=500,\n",
    "    num_proc=4,\n",
    ")\n",
    "\n",
    "# 5. (Optional) If you want to keep both raw and clean text:\n",
    "#    map into a new column instead of overwriting \"text\"\n",
    "train_dataset = train_dataset.map(\n",
    "    lambda batch: {\"clean_text\": [spacy_clean(txt) for txt in batch[\"text\"]]},\n",
    "    batched=True,\n",
    "    batch_size=500,\n",
    "    num_proc=4,\n",
    ")"
   ]
  },
  {
   "cell_type": "code",
   "execution_count": 6,
>>>>>>> main
=======
   "execution_count": 7,
>>>>>>> main
   "id": "6061d937",
   "metadata": {},
   "outputs": [
    {
<<<<<<< HEAD
<<<<<<< HEAD
     "name": "stderr",
     "output_type": "stream",
     "text": [
      "Map: 100%|██████████| 6148/6148 [00:00<00:00, 14444.47 examples/s]\n",
      "Map: 100%|██████████| 1537/1537 [00:00<00:00, 15871.09 examples/s]\n"
     ]
=======
     "data": {
      "application/vnd.jupyter.widget-view+json": {
       "model_id": "3f64c001ce8a4fa68b80494ca3f7ffa1",
=======
     "data": {
      "application/vnd.jupyter.widget-view+json": {
       "model_id": "d285bba523d44628b945ffdb597324f3",
>>>>>>> main
       "version_major": 2,
       "version_minor": 0
      },
      "text/plain": [
<<<<<<< HEAD
       "Map:   0%|          | 0/27480 [00:00<?, ? examples/s]"
=======
       "Map:   0%|          | 0/17970 [00:00<?, ? examples/s]"
>>>>>>> main
      ]
     },
     "metadata": {},
     "output_type": "display_data"
    },
    {
     "data": {
      "application/vnd.jupyter.widget-view+json": {
<<<<<<< HEAD
       "model_id": "efb1783fd7f84df8b024ea7b7cde1ce3",
=======
       "model_id": "7f6daf8aaf724d64b5879862eb3e6d97",
>>>>>>> main
       "version_major": 2,
       "version_minor": 0
      },
      "text/plain": [
<<<<<<< HEAD
       "Map:   0%|          | 0/3534 [00:00<?, ? examples/s]"
=======
       "Map:   0%|          | 0/7702 [00:00<?, ? examples/s]"
>>>>>>> main
      ]
     },
     "metadata": {},
     "output_type": "display_data"
<<<<<<< HEAD
>>>>>>> main
=======
>>>>>>> main
    }
   ],
   "source": [
    "# Convert DataFrames to Hugging Face Datasets\n",
<<<<<<< HEAD
    "# train_dataset = Dataset.from_pandas(df_train[['text', 'label']])\n",
    "# test_dataset = Dataset.from_pandas(df_test[['text', 'label']])\n",
    "\n",
    "# Adding short max length to lower training time\n",
    "def tokenize_function(examples):\n",
    "    return tokenizer(examples['text'], padding='max_length', truncation=True, max_length=64)\n",
=======
    "train_dataset = Dataset.from_pandas(df_train[[\"text\", \"label\"]])\n",
    "test_dataset = Dataset.from_pandas(df_test[[\"text\", \"label\"]])\n",
    "\n",
    "\n",
    "# Adding short max length to lower training time\n",
    "def tokenize_function(examples):\n",
    "    return tokenizer(\n",
    "        examples[\"text\"], padding=\"max_length\", truncation=True, max_length=512\n",
    "    )\n",
    "\n",
>>>>>>> main
    "\n",
    "tokenized_train_dataset = train_dataset.map(tokenize_function, batched=True)\n",
    "tokenized_test_dataset = test_dataset.map(tokenize_function, batched=True)"
   ]
  },
  {
   "cell_type": "code",
<<<<<<< HEAD
<<<<<<< HEAD
   "execution_count": 41,
=======
   "execution_count": 7,
>>>>>>> main
=======
   "execution_count": 8,
>>>>>>> main
   "id": "d01cf5b1",
   "metadata": {},
   "outputs": [
    {
     "name": "stdout",
     "output_type": "stream",
     "text": [
      "Using device: mps\n"
     ]
    }
   ],
   "source": [
    "import torch\n",
    "\n",
    "if torch.cuda.is_available():\n",
    "    device = \"cuda\"\n",
    "elif torch.backends.mps.is_available():\n",
    "    device = \"mps\"\n",
    "else:\n",
    "    device = \"cpu\"\n",
    "print(\"Using device:\", device)"
   ]
  },
  {
   "cell_type": "code",
<<<<<<< HEAD
<<<<<<< HEAD
   "execution_count": 42,
=======
   "execution_count": 13,
>>>>>>> main
=======
   "execution_count": 24,
>>>>>>> main
   "id": "218554ae",
   "metadata": {},
   "outputs": [
    {
     "name": "stderr",
     "output_type": "stream",
     "text": [
      "Some weights of DistilBertForSequenceClassification were not initialized from the model checkpoint at distilbert/distilbert-base-uncased and are newly initialized: ['classifier.bias', 'classifier.weight', 'pre_classifier.bias', 'pre_classifier.weight']\n",
      "You should probably TRAIN this model on a down-stream task to be able to use it for predictions and inference.\n"
     ]
    }
   ],
   "source": [
    "model = AutoModelForSequenceClassification.from_pretrained(model_name, num_labels=3)\n",
    "\n",
    "lora_config = LoraConfig(\n",
    "    r=16,\n",
    "    lora_alpha=32,\n",
    "    target_modules=[\"query\", \"value\"],  # BERT uses query, key, value in attention\n",
    "    lora_dropout=0.1,\n",
    "    bias=\"all\",\n",
    "    task_type=TaskType.SEQ_CLS,\n",
    ")\n",
    "\n",
    "training_args = TrainingArguments(\n",
    "    output_dir=\"./results/\" + model_name,\n",
<<<<<<< HEAD
<<<<<<< HEAD
    "    learning_rate=2e-4,\n",
    "    per_device_train_batch_size=64,\n",
    "    per_device_eval_batch_size=64,\n",
=======
    "    learning_rate=2e-3,\n",
    "    per_device_train_batch_size=128,\n",
    "    per_device_eval_batch_size=128,\n",
>>>>>>> main
    "    gradient_accumulation_steps=3,\n",
    "    #gradient_checkpointing=True,\n",
    "    num_train_epochs=50,\n",
    "    dataloader_num_workers=5,\n",
<<<<<<< HEAD
    "    logging_steps=100,\n",
=======
    "    logging_steps=400,\n",
>>>>>>> main
    "    weight_decay=0.01,\n",
=======
    "    learning_rate=5e-5,\n",
    "    per_device_train_batch_size=32,\n",
    "    per_device_eval_batch_size=32,\n",
    "    gradient_accumulation_steps=1,\n",
    "    # gradient_checkpointing=True,\n",
    "    num_train_epochs=2,\n",
    "    dataloader_num_workers=0,\n",
    "    logging_steps=100,\n",
    "    optim=\"adamw_torch\",\n",
    "    # weight_decay=0.01,\n",
    "    adam_beta1=0.9,\n",
    "    adam_beta2=0.999,\n",
    "    adam_epsilon=1e-8,\n",
>>>>>>> main
    ")\n",
    "\n",
    "# model = get_peft_model(model, lora_config)\n",
    "model = model.to(device)\n",
    "\n",
    "for name, param in model.named_parameters():\n",
    "    if \"classifier\" in name:\n",
    "        param.requires_grad = True"
   ]
  },
  {
   "cell_type": "code",
<<<<<<< HEAD
<<<<<<< HEAD
   "execution_count": 43,
=======
   "execution_count": 14,
>>>>>>> main
=======
   "execution_count": 25,
>>>>>>> main
   "id": "c04d8ffe",
   "metadata": {},
   "outputs": [],
   "source": [
    "# Define a compute metrics function\n",
    "def compute_metrics(p):\n",
    "    preds = p.predictions.argmax(-1)\n",
    "    accuracy = accuracy_score(p.label_ids, preds)\n",
    "    return {\"accuracy\": accuracy}"
   ]
  },
  {
   "cell_type": "code",
<<<<<<< HEAD
<<<<<<< HEAD
   "execution_count": 44,
=======
   "execution_count": 15,
>>>>>>> main
=======
   "execution_count": 26,
>>>>>>> main
   "id": "32a4c332",
   "metadata": {},
   "outputs": [],
   "source": [
    "from transformers import TrainerCallback\n",
    "\n",
    "\n",
    "class LossAccuracyLogger(TrainerCallback):\n",
    "    def __init__(self):\n",
    "        self.train_loss = []\n",
    "        self.eval_accuracy = []\n",
    "\n",
    "    def on_log(self, args, state, control, logs=None, **kwargs):\n",
    "        if logs is not None:\n",
    "            if \"loss\" in logs:\n",
    "                self.train_loss.append((state.epoch, logs[\"loss\"]))\n",
    "            if \"eval_accuracy\" in logs:\n",
    "                self.eval_accuracy.append((state.epoch, logs[\"eval_accuracy\"]))"
   ]
  },
  {
   "cell_type": "code",
<<<<<<< HEAD
<<<<<<< HEAD
   "execution_count": 45,
=======
   "execution_count": 16,
>>>>>>> main
=======
   "execution_count": 27,
>>>>>>> main
   "id": "2b3af93c",
   "metadata": {},
   "outputs": [],
   "source": [
    "logger_callback = LossAccuracyLogger()\n",
    "\n",
    "trainer = Trainer(\n",
    "    model=model,\n",
    "    args=training_args,\n",
    "    train_dataset=tokenized_train_dataset,\n",
    "    eval_dataset=tokenized_test_dataset,\n",
    "    compute_metrics=compute_metrics,\n",
    "    callbacks=[logger_callback],\n",
    ")"
   ]
  },
  {
   "cell_type": "code",
<<<<<<< HEAD
<<<<<<< HEAD
   "execution_count": 31,
   "id": "788992c5",
   "metadata": {},
   "outputs": [
    {
     "name": "stdout",
     "output_type": "stream",
     "text": [
      "資料集中最長的 Token 長度是: 60\n"
     ]
    },
    {
     "data": {
      "image/png": "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",
      "text/plain": [
       "<Figure size 1000x600 with 1 Axes>"
      ]
     },
     "metadata": {},
     "output_type": "display_data"
    },
    {
     "name": "stdout",
     "output_type": "stream",
     "text": [
      "資料集中 95% 的文本 Token 長度小於或等於: 38\n"
     ]
    }
   ],
=======
   "execution_count": null,
   "id": "788992c5",
   "metadata": {},
   "outputs": [],
>>>>>>> main
   "source": [
    "# --- 在 Cell 2 和 Cell 3 執行後，加入這個新的 Cell ---\n",
    "\n",
    "# 計算訓練集中每個文本的 Token 長度\n",
    "train_token_lengths = [len(tokenizer.encode(text)) for text in df_train['text']]\n",
    "# 計算測試集中每個文本的 Token 長度\n",
    "test_token_lengths = [len(tokenizer.encode(text)) for text in df_test['text']]\n",
    "\n",
    "# 合併所有長度\n",
    "all_token_lengths = train_token_lengths + test_token_lengths\n",
    "\n",
    "# 找出最長的 Token 長度\n",
    "max_len = max(all_token_lengths)\n",
    "\n",
    "print(f\"資料集中最長的 Token 長度是: {max_len}\")\n",
    "\n",
    "# (選用) 繪製長度分佈圖，幫助決定 max_length\n",
    "import matplotlib.pyplot as plt\n",
    "import numpy as np\n",
    "\n",
    "plt.figure(figsize=(10, 6))\n",
    "plt.hist(all_token_lengths, bins=50) # bins 可以調整，觀察更細緻的分佈\n",
    "plt.title('Token 長度分佈圖')\n",
    "plt.xlabel('Token 長度')\n",
    "plt.ylabel('文本數量')\n",
    "# 可以在圖上標示一個常用的百分位數，例如 95% 或 99%\n",
    "percentile_95 = np.percentile(all_token_lengths, 95)\n",
    "plt.axvline(percentile_95, color='red', linestyle='dashed', linewidth=1)\n",
    "plt.text(percentile_95 * 1.05, plt.ylim()[1] * 0.9, f'95th percentile: {int(percentile_95)}')\n",
    "plt.show()\n",
    "\n",
    "print(f\"資料集中 95% 的文本 Token 長度小於或等於: {int(percentile_95)}\")"
   ]
  },
  {
   "cell_type": "code",
<<<<<<< HEAD
   "execution_count": 46,
   "id": "7f6e43cc",
   "metadata": {},
   "outputs": [],
   "source": [
    "import os\n",
    "os.environ[\"TOKENIZERS_PARALLELISM\"] = \"false\""
   ]
  },
  {
   "cell_type": "code",
   "execution_count": 47,
=======
   "execution_count": null,
>>>>>>> main
   "id": "08c68391",
   "metadata": {},
   "outputs": [
    {
     "data": {
      "text/html": [
       "\n",
       "    <div>\n",
       "      \n",
<<<<<<< HEAD
       "      <progress value='1600' max='1600' style='width:300px; height:20px; vertical-align: middle;'></progress>\n",
       "      [1600/1600 1:00:59, Epoch 48/50]\n",
=======
       "      <progress value='76' max='2130' style='width:300px; height:20px; vertical-align: middle;'></progress>\n",
       "      [  76/2130 03:36 < 1:40:06, 0.34 it/s, Epoch 1.04/30]\n",
>>>>>>> main
       "    </div>\n",
       "    <table border=\"1\" class=\"dataframe\">\n",
       "  <thead>\n",
       " <tr style=\"text-align: left;\">\n",
       "      <th>Step</th>\n",
       "      <th>Training Loss</th>\n",
       "    </tr>\n",
       "  </thead>\n",
       "  <tbody>\n",
       "    <tr>\n",
       "      <td>100</td>\n",
       "      <td>0.504800</td>\n",
       "    </tr>\n",
       "    <tr>\n",
       "      <td>200</td>\n",
       "      <td>0.140300</td>\n",
       "    </tr>\n",
       "    <tr>\n",
       "      <td>300</td>\n",
       "      <td>0.061200</td>\n",
       "    </tr>\n",
       "    <tr>\n",
       "      <td>400</td>\n",
       "      <td>0.037500</td>\n",
       "    </tr>\n",
       "    <tr>\n",
       "      <td>500</td>\n",
       "      <td>0.028400</td>\n",
       "    </tr>\n",
       "    <tr>\n",
       "      <td>600</td>\n",
       "      <td>0.018700</td>\n",
       "    </tr>\n",
       "    <tr>\n",
       "      <td>700</td>\n",
       "      <td>0.010700</td>\n",
       "    </tr>\n",
       "    <tr>\n",
       "      <td>800</td>\n",
       "      <td>0.007300</td>\n",
       "    </tr>\n",
       "    <tr>\n",
       "      <td>900</td>\n",
       "      <td>0.004500</td>\n",
       "    </tr>\n",
       "    <tr>\n",
       "      <td>1000</td>\n",
       "      <td>0.003700</td>\n",
       "    </tr>\n",
       "    <tr>\n",
       "      <td>1100</td>\n",
       "      <td>0.002600</td>\n",
       "    </tr>\n",
       "    <tr>\n",
       "      <td>1200</td>\n",
       "      <td>0.002000</td>\n",
       "    </tr>\n",
       "    <tr>\n",
       "      <td>1300</td>\n",
       "      <td>0.001100</td>\n",
       "    </tr>\n",
       "    <tr>\n",
       "      <td>1400</td>\n",
       "      <td>0.000800</td>\n",
       "    </tr>\n",
       "    <tr>\n",
       "      <td>1500</td>\n",
       "      <td>0.000800</td>\n",
       "    </tr>\n",
       "    <tr>\n",
       "      <td>1600</td>\n",
       "      <td>0.000500</td>\n",
       "    </tr>\n",
       "  </tbody>\n",
       "</table><p>"
      ],
      "text/plain": [
       "<IPython.core.display.HTML object>"
      ]
     },
     "metadata": {},
     "output_type": "display_data"
<<<<<<< HEAD
    },
    {
     "data": {
      "text/plain": [
       "TrainOutput(global_step=1600, training_loss=0.05155681102536619, metrics={'train_runtime': 3670.0992, 'train_samples_per_second': 83.758, 'train_steps_per_second': 0.436, 'total_flos': 4937412932886528.0, 'train_loss': 0.05155681102536619, 'epoch': 48.49484536082474})"
      ]
     },
     "execution_count": 47,
     "metadata": {},
     "output_type": "execute_result"
=======
>>>>>>> main
    }
   ],
=======
   "execution_count": null,
   "id": "08c68391",
   "metadata": {},
   "outputs": [],
>>>>>>> main
   "source": [
    "# Train the model\n",
    "trainer.train()"
   ]
  },
  {
   "cell_type": "code",
   "execution_count": null,
   "id": "61fb12e9",
   "metadata": {},
   "outputs": [],
   "source": [
    "trainer.save_model(\"./results/\" + model_name + \"v1\")"
   ]
  },
  {
   "cell_type": "code",
<<<<<<< HEAD
<<<<<<< HEAD
   "execution_count": 51,
=======
   "execution_count": null,
>>>>>>> main
   "id": "16584683",
   "metadata": {},
   "outputs": [
    {
     "name": "stdout",
     "output_type": "stream",
     "text": [
      "{'eval_loss': 1.9813354015350342, 'eval_accuracy': 0.7690305790500976, 'eval_runtime': 36.2581, 'eval_samples_per_second': 42.39, 'eval_steps_per_second': 0.69, 'epoch': 48.49484536082474}\n"
     ]
    },
    {
     "data": {
<<<<<<< HEAD
      "image/png": "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",
=======
      "text/html": [
       "\n",
       "    <div>\n",
       "      \n",
       "      <progress value='477' max='477' style='width:300px; height:20px; vertical-align: middle;'></progress>\n",
       "      [477/477 00:58]\n",
       "    </div>\n",
       "    "
      ],
>>>>>>> main
      "text/plain": [
       "<Figure size 1000x500 with 2 Axes>"
      ]
     },
     "metadata": {},
     "output_type": "display_data"
<<<<<<< HEAD
=======
    },
    {
     "name": "stdout",
     "output_type": "stream",
     "text": [
      "{'eval_loss': 0.9946369528770447, 'eval_accuracy': 0.448334644636769, 'eval_runtime': 72.0795, 'eval_samples_per_second': 105.8, 'eval_steps_per_second': 6.618, 'epoch': 3.0}\n"
     ]
    },
    {
     "data": {
      "image/png": "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",
      "text/plain": [
       "<Figure size 1000x500 with 2 Axes>"
      ]
     },
     "metadata": {},
     "output_type": "display_data"
>>>>>>> main
    }
   ],
=======
   "execution_count": null,
   "id": "16584683",
   "metadata": {},
   "outputs": [],
>>>>>>> main
   "source": [
    "# Evaluate the model\n",
    "results = trainer.evaluate()\n",
    "print(results)\n",
    "\n",
    "import matplotlib.pyplot as plt\n",
    "\n",
    "# Unpack the epoch and values\n",
    "train_epochs, train_losses = zip(*logger_callback.train_loss)\n",
    "eval_epochs, eval_accuracies = zip(*logger_callback.eval_accuracy)\n",
    "\n",
    "# Plot training loss\n",
    "plt.figure(figsize=(10, 5))\n",
    "plt.subplot(1, 2, 1)\n",
    "plt.plot(train_epochs, train_losses, marker=\"o\")\n",
    "plt.title(\"Training Loss per Epoch\")\n",
    "plt.xlabel(\"Epoch\")\n",
    "plt.ylabel(\"Loss\")\n",
    "\n",
    "# Plot eval accuracy\n",
    "plt.subplot(1, 2, 2)\n",
    "plt.plot(eval_epochs, eval_accuracies, marker=\"o\", color=\"green\")\n",
    "plt.title(\"Evaluation Accuracy per Epoch\")\n",
    "plt.xlabel(\"Epoch\")\n",
    "plt.ylabel(\"Accuracy\")\n",
    "\n",
    "plt.tight_layout()\n",
    "plt.show()"
   ]
  },
  {
   "cell_type": "code",
   "execution_count": null,
   "id": "2c912383",
   "metadata": {},
   "outputs": [
    {
     "data": {
      "application/vnd.microsoft.datawrangler.viewer.v0+json": {
       "columns": [
        {
         "name": "index",
         "rawType": "int64",
         "type": "integer"
        },
        {
         "name": "Unnamed: 0",
         "rawType": "int64",
         "type": "integer"
        },
        {
         "name": "text",
         "rawType": "object",
         "type": "string"
        },
        {
         "name": "label",
         "rawType": "int64",
         "type": "integer"
        },
        {
         "name": "preprocess_text",
         "rawType": "object",
         "type": "string"
        }
       ],
       "conversionMethod": "pd.DataFrame",
       "ref": "e8ac356f-531d-45ea-9c29-b93515b7bbc6",
       "rows": [
        [
         "0",
         "0",
         "reviewer mention watch 1 oz episode hook right exactly happen me.<br /><br />the thing strike oz brutality unflinche scene violence set right word trust faint hearted timid pull punch regard drug sex violence hardcore classic use word.<br /><br />it call oz nickname give oswald maximum security state penitentary focus mainly emerald city experimental section prison cell glass front face inward privacy high agenda em city home .. aryans muslims gangsta latinos christians italians irish .... scuffle death stare dodgy dealing shady agreement far away.<br /><br />i main appeal fact go show dare forget pretty picture paint mainstream audience forget charm forget romance ... oz mess episode see strike nasty surreal ready watch develop taste oz get accustom high level graphic violence violence injustice crooked guard sell nickel inmate kill order away mannered middle class inmate turn prison bitch lack street skill prison experience watch oz comfortable uncomfortable view .... that touch dark",
         "2",
         "reviewer mention watch 1 oz episode hook right exactly happen me.<br /><br />the thing strike oz brutality unflinche scene violence set right word trust faint hearted timid pull punch regard drug sex violence hardcore classic use word.<br /><br />it call oz nickname give oswald maximum security state penitentary focus mainly emerald city experimental section prison cell glass front face inward privacy high agenda em city home .. aryans muslims gangsta latinos christians italians irish .... scuffle death stare dodgy dealing shady agreement far away.<br /><br />i main appeal fact go show dare forget pretty picture paint mainstream audience forget charm forget romance ... oz mess episode see strike nasty surreal ready watch develop taste oz get accustom high level graphic violence violence injustice crooked guard sell nickel inmate kill order away mannered middle class inmate turn prison bitch lack street skill prison experience watch oz comfortable uncomfortable view .... that touch dark"
        ],
        [
         "1",
         "1",
         "wonderful little production br /><br />the filming technique unassuming- old time bbc fashion give comforting discomforte sense realism entire piece br /><br />the actor extremely chosen- michael sheen get polari voice pat truly seamless editing guide reference williams diary entry worth watching terrificly write perform piece masterful production great master comedy life br /><br />the realism come home little thing fantasy guard use traditional dream technique remain solid disappear play knowledge sense particularly scene concern orton halliwell set particularly flat halliwell mural decorate surface terribly",
         "2",
         "wonderful little production br /><br />the filming technique unassuming- old time bbc fashion give comforting discomforte sense realism entire piece br /><br />the actor extremely chosen- michael sheen get polari voice pat truly seamless editing guide reference williams diary entry worth watching terrificly write perform piece masterful production great master comedy life br /><br />the realism come home little thing fantasy guard use traditional dream technique remain solid disappear play knowledge sense particularly scene concern orton halliwell set particularly flat halliwell mural decorate surface terribly"
        ],
        [
         "2",
         "2",
         "think wonderful way spend time hot summer weekend sit air condition theater watch light hearted comedy plot simplistic dialogue witty character likable bread suspect serial killer disappoint realize match point 2 risk addiction think proof woody allen fully control style grow love.<br /><br />this laugh woody comedy year dare decade impress scarlet johanson manage tone sexy image jump right average spirited young woman.<br /><br />this crown jewel career witty devil wears prada interesting superman great comedy friend",
         "2",
         "think wonderful way spend time hot summer weekend sit air condition theater watch light hearted comedy plot simplistic dialogue witty character likable bread suspect serial killer disappoint realize match point 2 risk addiction think proof woody allen fully control style grow love.<br /><br />this laugh woody comedy year dare decade impress scarlet johanson manage tone sexy image jump right average spirited young woman.<br /><br />this crown jewel career witty devil wears prada interesting superman great comedy friend"
        ],
        [
         "3",
         "3",
         "basically family little boy jake think zombie closet parent fight time.<br /><br />this movie slow soap opera ... suddenly jake decide rambo kill zombie.<br /><br />ok go film decide thriller drama drama movie watchable parent divorce argue like real life jake closet totally ruin film expect boogeyman similar movie instead watch drama meaningless thriller spots.<br /><br />3 10 play parent descent dialog shot jake ignore",
         "0",
         "basically family little boy jake think zombie closet parent fight time.<br /><br />this movie slow soap opera ... suddenly jake decide rambo kill zombie.<br /><br />ok go film decide thriller drama drama movie watchable parent divorce argue like real life jake closet totally ruin film expect boogeyman similar movie instead watch drama meaningless thriller spots.<br /><br />3 10 play parent descent dialog shot jake ignore"
        ],
        [
         "4",
         "4",
         "petter mattei love time money visually stunning film watch mr. mattei offer vivid portrait human relation movie tell money power success people different situation encounter br /><br />this variation arthur schnitzler play theme director transfer action present time new york different character meet connect connect way person know previous point contact stylishly film sophisticated luxurious look take people live world live habitat.<br /><br />the thing get soul picture different stage loneliness inhabit big city exactly good place human relation find sincere fulfillment discern case people encounter.<br /><br />the act good mr. mattei direction steve buscemi rosario dawson carol kane michael imperioli adrian grenier rest talented cast character come alive.<br /><br />we wish mr. mattei good luck await anxiously work",
         "2",
         "petter mattei love time money visually stunning film watch mr. mattei offer vivid portrait human relation movie tell money power success people different situation encounter br /><br />this variation arthur schnitzler play theme director transfer action present time new york different character meet connect connect way person know previous point contact stylishly film sophisticated luxurious look take people live world live habitat.<br /><br />the thing get soul picture different stage loneliness inhabit big city exactly good place human relation find sincere fulfillment discern case people encounter.<br /><br />the act good mr. mattei direction steve buscemi rosario dawson carol kane michael imperioli adrian grenier rest talented cast character come alive.<br /><br />we wish mr. mattei good luck await anxiously work"
        ],
        [
         "5",
         "5",
         "probably time favorite movie story selflessness sacrifice dedication noble cause preachy boring get old despite have see 15 time 25 year paul lukas performance bring tear eye bette davis truly sympathetic role delight kid grandma say like dress midget child make fun watch mother slow awakening happen world roof believable startling dozen thumb movie",
         "2",
         "probably time favorite movie story selflessness sacrifice dedication noble cause preachy boring get old despite have see 15 time 25 year paul lukas performance bring tear eye bette davis truly sympathetic role delight kid grandma say like dress midget child make fun watch mother slow awakening happen world roof believable startling dozen thumb movie"
        ],
        [
         "6",
         "6",
         "sure like resurrection date seahunt series tech today bring kid excitement grow black white tv seahunt gunsmoke hero week vote comeback new sea hunt need change pace tv work world water adventure oh way thank outlet like view viewpoint tv movie ole way believe get wanna nice read plus point sea hunt rhyme 10 line let submit leave doubt quit let",
         "2",
         "sure like resurrection date seahunt series tech today bring kid excitement grow black white tv seahunt gunsmoke hero week vote comeback new sea hunt need change pace tv work world water adventure oh way thank outlet like view viewpoint tv movie ole way believe get wanna nice read plus point sea hunt rhyme 10 line let submit leave doubt quit let"
        ],
        [
         "7",
         "7",
         "amazing fresh innovative idea 70 air 7 8 year brilliant thing drop 1990 funny anymore continue decline complete waste time today.<br /><br />it truly disgraceful far fall writing painfully bad performance bad mildly entertaining respite guest host probably air find hard believe creator hand select original cast choose band hack follow recognize brilliance fit replace mediocrity feel 2 star respect original cast huge success awful believe air",
         "0",
         "amazing fresh innovative idea 70 air 7 8 year brilliant thing drop 1990 funny anymore continue decline complete waste time today.<br /><br />it truly disgraceful far fall writing painfully bad performance bad mildly entertaining respite guest host probably air find hard believe creator hand select original cast choose band hack follow recognize brilliance fit replace mediocrity feel 2 star respect original cast huge success awful believe air"
        ],
        [
         "8",
         "8",
         "encourage positive comment film look forward watch film bad mistake see 950 film truly bad awful way editing pacing storyline act soundtrack film song lame country tune play time film look cheap nasty boring extreme rarely happy end credit film br /><br />the thing prevent give 1 score harvey keitel far good performance make bit effort keitel obsessive",
         "0",
         "encourage positive comment film look forward watch film bad mistake see 950 film truly bad awful way editing pacing storyline act soundtrack film song lame country tune play time film look cheap nasty boring extreme rarely happy end credit film br /><br />the thing prevent give 1 score harvey keitel far good performance make bit effort keitel obsessive"
        ],
        [
         "9",
         "9",
         "like original gut wrench laughter like movie young old love movie hell mom like it.<br /><br />great camp",
         "2",
         "like original gut wrench laughter like movie young old love movie hell mom like it.<br /><br />great camp"
        ],
        [
         "10",
         "10",
         "phil alien quirky film humour base oddness actual punchlines.<br /><br />at odd pretty funny movie progress find joke oddness funny anymore.<br /><br />its low budget film s problem pretty interesting character eventually lose interest.<br /><br />i imagine film appeal stoner currently partaking.<br /><br />for similar well try brother planet",
         "0",
         "phil alien quirky film humour base oddness actual punchlines.<br /><br />at odd pretty funny movie progress find joke oddness funny anymore.<br /><br />its low budget film s problem pretty interesting character eventually lose interest.<br /><br />i imagine film appeal stoner currently partaking.<br /><br />for similar well try brother planet"
        ],
        [
         "11",
         "11",
         "see movie 12 come recall scary scene big bird eat man dangle helplessly parachute right air horror horror.<br /><br />as young kid go cheesy b film saturday afternoon tired formula monster type movie usually include hero beautiful woman daughter professor happy resolution monster die end care romantic angle 12 year old predictable plot love unintentional humor.<br /><br />but year later see psycho come love star janet leigh bump early film sit take notice point screenwriter make story scary possible wear formula rule",
         "0",
         "see movie 12 come recall scary scene big bird eat man dangle helplessly parachute right air horror horror.<br /><br />as young kid go cheesy b film saturday afternoon tired formula monster type movie usually include hero beautiful woman daughter professor happy resolution monster die end care romantic angle 12 year old predictable plot love unintentional humor.<br /><br />but year later see psycho come love star janet leigh bump early film sit take notice point screenwriter make story scary possible wear formula rule"
        ],
        [
         "12",
         "12",
         "m big fan boll work enjoy movie postal maybe m boll apparently buy right use far cry long ago game finsishe br /><br />people enjoy kill merc infiltrate secret research lab locate tropical island warn far cry ... mr boll scheme legion schmuck .. feel loneley set mr boll invite countryman play player name til schweiger udo kier ralf moeller.<br /><br />three name actually selfs pretty big movie biz tale go like jack carver play til schweiger yes carver german hail bratwurst eat dude find til act movie pretty badass .. people complain stay true carver agenda see carver person perspective know look like kick .. br /><br />however storyline film demented evil mad scientist dr. krieger play udo kier make genetically mutate soldier gms call perform secret research island remind spoiler vancouver reason s right palm tree instead get nice rich lumberjack wood go far start cry mehehe .. wanna stay true bolls shenanigan movie disappoint deliver true boll experience mean suck.<br /><br />there thing worth mention imply boll good work area film nice boat fight scene crome albino gms squad enter scene make laugh .. movie far cry reek scheisse poop simpleton fa r wanna wiff ahead .. btw carver get annoying sidekick make wanna shoot minute screen",
         "0",
         "m big fan boll work enjoy movie postal maybe m boll apparently buy right use far cry long ago game finsishe br /><br />people enjoy kill merc infiltrate secret research lab locate tropical island warn far cry ... mr boll scheme legion schmuck .. feel loneley set mr boll invite countryman play player name til schweiger udo kier ralf moeller.<br /><br />three name actually selfs pretty big movie biz tale go like jack carver play til schweiger yes carver german hail bratwurst eat dude find til act movie pretty badass .. people complain stay true carver agenda see carver person perspective know look like kick .. br /><br />however storyline film demented evil mad scientist dr. krieger play udo kier make genetically mutate soldier gms call perform secret research island remind spoiler vancouver reason s right palm tree instead get nice rich lumberjack wood go far start cry mehehe .. wanna stay true bolls shenanigan movie disappoint deliver true boll experience mean suck.<br /><br />there thing worth mention imply boll good work area film nice boat fight scene crome albino gms squad enter scene make laugh .. movie far cry reek scheisse poop simpleton fa r wanna wiff ahead .. btw carver get annoying sidekick make wanna shoot minute screen"
        ],
        [
         "13",
         "13",
         "cast play shakespeare.<br /><br />shakespeare lost.<br /><br />i appreciate try bring shakespeare masse ruin good.<br /><br />is scottish play favorite shakespeare know know certain rev bowdler bowdlerization try similar victorian era.<br /><br />in word improve perfection.<br /><br />i write write line text english composition forte go movie saying go cut",
         "0",
         "cast play shakespeare.<br /><br />shakespeare lost.<br /><br />i appreciate try bring shakespeare masse ruin good.<br /><br />is scottish play favorite shakespeare know know certain rev bowdler bowdlerization try similar victorian era.<br /><br />in word improve perfection.<br /><br />i write write line text english composition forte go movie saying go cut"
        ],
        [
         "14",
         "14",
         "fantastic movie prisoner famous actor george clooney fan roll bad good thing movie soundtrack man constant sorrow recommand movie everybody greeting bart",
         "2",
         "fantastic movie prisoner famous actor george clooney fan roll bad good thing movie soundtrack man constant sorrow recommand movie everybody greeting bart"
        ],
        [
         "15",
         "15",
         "kind draw erotic scene realize amateurish unbelievable bit film see sort like high school film project rosanna arquette thinking stock character bizarre suppose midwest town pretty hard involve lesson learn brilliant insight stilte ridiculous lot skin intrigue videotape nonsense .... bisexual relationship heterosexual encounter absurd dance everybody play stereotyped role pass like million mile bad waste film money spend starve child aids africa .....",
         "0",
         "kind draw erotic scene realize amateurish unbelievable bit film see sort like high school film project rosanna arquette thinking stock character bizarre suppose midwest town pretty hard involve lesson learn brilliant insight stilte ridiculous lot skin intrigue videotape nonsense .... bisexual relationship heterosexual encounter absurd dance everybody play stereotyped role pass like million mile bad waste film money spend starve child aids africa ....."
        ],
        [
         "16",
         "16",
         "film simply remade bad film fail capture flavor terror 1963 film title liam neeson excellent cast hold exception owen wilson bring right feel character luke major fault version stray far shirley jackson story attempt grandiose lose thrill early film trade snazzy special effect bad film enjoy friction terror old version",
         "2",
         "film simply remade bad film fail capture flavor terror 1963 film title liam neeson excellent cast hold exception owen wilson bring right feel character luke major fault version stray far shirley jackson story attempt grandiose lose thrill early film trade snazzy special effect bad film enjoy friction terror old version"
        ],
        [
         "17",
         "17",
         "movie 10 awful movie horrible br /><br />there continuous minute fight monster chance character development busy run sword fight emotional attachment big bad machine want destroy br /><br />scenes blatantly steal movie lotr star wars matrix br /><br />examples br /><br />>the ghost scene end steal final scene old star wars yoda obee vader br /><br />>the spider machine beginning exactly like frodo attack spider return king elijah wood victim film wait ...... hypnotize stings victim wrap ..... uh hello????<br /><br />>and machine vs. human theme matrix .. terminator ..... <br /><br />there example waste time tell nazi nazi br /><br />there juvenile story line rush juvenile conclusion movie decide child movie adult movie br /><br />just awful real disappointment save money",
         "0",
         "movie 10 awful movie horrible br /><br />there continuous minute fight monster chance character development busy run sword fight emotional attachment big bad machine want destroy br /><br />scenes blatantly steal movie lotr star wars matrix br /><br />examples br /><br />>the ghost scene end steal final scene old star wars yoda obee vader br /><br />>the spider machine beginning exactly like frodo attack spider return king elijah wood victim film wait ...... hypnotize stings victim wrap ..... uh hello????<br /><br />>and machine vs. human theme matrix .. terminator ..... <br /><br />there example waste time tell nazi nazi br /><br />there juvenile story line rush juvenile conclusion movie decide child movie adult movie br /><br />just awful real disappointment save money"
        ],
        [
         "18",
         "18",
         "remember film film watch cinema picture dark place nervous 74/75 dad take brother sister newbury cinema newbury berkshire england recall tiger lot snow film appearance grizzly adams actor dan haggery think tiger get shoot die know find dvd etc let know cinema turn fitness club big shame near cinema 20 mile away love hear see film like",
         "2",
         "remember film film watch cinema picture dark place nervous 74/75 dad take brother sister newbury cinema newbury berkshire england recall tiger lot snow film appearance grizzly adams actor dan haggery think tiger get shoot die know find dvd etc let know cinema turn fitness club big shame near cinema 20 mile away love hear see film like"
        ],
        [
         "19",
         "19",
         "awful film real stinker nominate golden globe take story famous female renaissance painter mangle recognition complaint take liberty fact story good perfectly fine simply bizarre -- account true story artist far well film come dishwater dull script suppose naked people factual version hurriedly cap end summary artist life -- save couple hour favor rest film brevity",
         "0",
         "awful film real stinker nominate golden globe take story famous female renaissance painter mangle recognition complaint take liberty fact story good perfectly fine simply bizarre -- account true story artist far well film come dishwater dull script suppose naked people factual version hurriedly cap end summary artist life -- save couple hour favor rest film brevity"
        ],
        [
         "20",
         "20",
         "success die hard sequel surprise 1990 glut die hard ..... movie cash wrong guy wrong place wrong time concept cliffhanger die hard mountain time rescue sly stop mom shoot stallone career.<br /><br />cliffhanger big nit picker dream especially expert mountain climbing base jumping aviation facial expression acting skill excuse dismiss film overblown pile junk stallone manage act horse forget nonsense actually lovable undeniably entertaining romp deliver plenty thrill unintentionally plenty laughs.<br /><br />you've get love john lithgows sneery evilness tick box band baddie good permanently harassed hapless turncoat agent rex linn travers.<br /><br />he henry portrait serial killer michael rooker noteworthy cringe worthy performance hal insist constantly shriek painful disbelief captor man hurt anybody whilst surely look like ralph waite frank character grin girl plummet death.<br /><br />mention london burning actor craig fairbrass brit bad guy come cropper whilst hal human football yes help enjoy bit hal need good kicking.<br /><br />so forget well judgement care happen lower act expectation turn volume enjoy look qaulen wear helicopter",
         "2",
         "success die hard sequel surprise 1990 glut die hard ..... movie cash wrong guy wrong place wrong time concept cliffhanger die hard mountain time rescue sly stop mom shoot stallone career.<br /><br />cliffhanger big nit picker dream especially expert mountain climbing base jumping aviation facial expression acting skill excuse dismiss film overblown pile junk stallone manage act horse forget nonsense actually lovable undeniably entertaining romp deliver plenty thrill unintentionally plenty laughs.<br /><br />you've get love john lithgows sneery evilness tick box band baddie good permanently harassed hapless turncoat agent rex linn travers.<br /><br />he henry portrait serial killer michael rooker noteworthy cringe worthy performance hal insist constantly shriek painful disbelief captor man hurt anybody whilst surely look like ralph waite frank character grin girl plummet death.<br /><br />mention london burning actor craig fairbrass brit bad guy come cropper whilst hal human football yes help enjoy bit hal need good kicking.<br /><br />so forget well judgement care happen lower act expectation turn volume enjoy look qaulen wear helicopter"
        ],
        [
         "21",
         "21",
         "terrible misfortune have view b movie entirety.<br /><br />all is--- save time money get bad b movie time call b movie like f movie fail aspect good movie story interesting actor paper thin believable bad direction action sequence fake funny ....... almost.<br /><br />the movie pack crappy liner respectable person find amusing little bit.<br /><br />this movie suppose gear man woman utterly unattractive especially old wrinkle thing come end try appear sexy weird horrible costume fail miserably!!!<br /><br />even ridiculous b movie laugh painful watch",
         "0",
         "terrible misfortune have view b movie entirety.<br /><br />all is--- save time money get bad b movie time call b movie like f movie fail aspect good movie story interesting actor paper thin believable bad direction action sequence fake funny ....... almost.<br /><br />the movie pack crappy liner respectable person find amusing little bit.<br /><br />this movie suppose gear man woman utterly unattractive especially old wrinkle thing come end try appear sexy weird horrible costume fail miserably!!!<br /><br />even ridiculous b movie laugh painful watch"
        ],
        [
         "22",
         "22",
         "absolutely stunning movie 2.5 hrs kill watch will regret fun rajnikanth carry movie shoulder like music a.r.rehman take time grow hear time start like",
         "2",
         "absolutely stunning movie 2.5 hrs kill watch will regret fun rajnikanth carry movie shoulder like music a.r.rehman take time grow hear time start like"
        ],
        [
         "23",
         "23",
         "let thing straight anime fan- matter fact watch speed racer time preschool b like b movies hilarious c like godzilla movies- lot.<br /><br />move movie come like go usual b movie crappy fx sudden- boom anime come movie go wwwaaaaayyyyy downhill.<br /><br />the animation bad cheap bad remember speed racer crissake fact cheap scene movie vividly remember bunch kid run school ... kid fx terrible dinosaur look bad godzilla addition transition live action animation unorganized dialogue voices(especially english dub view horrid beg dad tape dvd/ vhs player thing keep survive crack joke comment like robot joel mike mst3 k pick season honestly way barely enjoy movie survive time.<br /><br />heck plan fellow otaku pal halloween b movie night stupid pretty painful watch unintentionally hilarious time give movie 3/10 improvement 0.5/10 originally go it.<br /><br />(accorde grading scale 3/10 mean pretty boring bad fun count find way fun fun count 15",
         "0",
         "let thing straight anime fan- matter fact watch speed racer time preschool b like b movies hilarious c like godzilla movies- lot.<br /><br />move movie come like go usual b movie crappy fx sudden- boom anime come movie go wwwaaaaayyyyy downhill.<br /><br />the animation bad cheap bad remember speed racer crissake fact cheap scene movie vividly remember bunch kid run school ... kid fx terrible dinosaur look bad godzilla addition transition live action animation unorganized dialogue voices(especially english dub view horrid beg dad tape dvd/ vhs player thing keep survive crack joke comment like robot joel mike mst3 k pick season honestly way barely enjoy movie survive time.<br /><br />heck plan fellow otaku pal halloween b movie night stupid pretty painful watch unintentionally hilarious time give movie 3/10 improvement 0.5/10 originally go it.<br /><br />(accorde grading scale 3/10 mean pretty boring bad fun count find way fun fun count 15"
        ],
        [
         "24",
         "24",
         "bad movie see worldfest receive applause think receive recognition base know actor film great j.beal movie minute m.parker well actress allow rest acting hard judge movie ridiculous predictable main character totally unsympathetic bore watch real emotional depth story movie revolve actor work feel original development cop feel like straight video movie see 90 ... good standards.<br /><br",
         "0",
         "bad movie see worldfest receive applause think receive recognition base know actor film great j.beal movie minute m.parker well actress allow rest acting hard judge movie ridiculous predictable main character totally unsympathetic bore watch real emotional depth story movie revolve actor work feel original development cop feel like straight video movie see 90 ... good standards.<br /><br"
        ],
        [
         "25",
         "25",
         "karen carpenter story show little singer karen carpenter complex life fail give accurate fact details.<br /><br />cynthia gibb portray karen fine election good actress play naive sort dumb karen carpenter think role need strong character strong personality.<br /><br />louise fletcher role agnes carpenter terrific great job karen mother.<br /><br />it great song include soundtrack album unfortunately movie rating usa country",
         "2",
         "karen carpenter story show little singer karen carpenter complex life fail give accurate fact details.<br /><br />cynthia gibb portray karen fine election good actress play naive sort dumb karen carpenter think role need strong character strong personality.<br /><br />louise fletcher role agnes carpenter terrific great job karen mother.<br /><br />it great song include soundtrack album unfortunately movie rating usa country"
        ],
        [
         "26",
         "26",
         "cell exotic masterpiece dizzying trip vast mind serial killer talented director conclusive evidence achieve human being unleash uninhibited imagination boldness work push aside thought fall formula cliche create truly magnificent good movie year date.<br /><br />i've read numerous complaint film style substance poorly cast character bad acting negatively criticize film miss point movie landmark tradition future movie hopefully follow cell open door world imagination slam door face tell director tarsem singh want personally welcome movie tarsem love try challenge him.<br /><br />we've hear talk go inside mind serial killer yes agree genre bit overwork 90 movie try depict make serial killer tick work fail cell blaze trail give new twist physically transport mind present fascinating journey mysterious subject matter studied.<br /><br />i like movie bog scientific jargon try explain jennifer lopez actually get enter brain instead lie laboratory table wrap look like long twizzlers jaunt entity cell want let guess people like true like explanation movie movie venture new ground let desire simply in.<br /><br />i notice film dark show reality maybe contrast bright visual inside brain nonetheless set design simply astonishing surprised film take home oscars cinematography good costume good director like nominate good picture.<br /><br />i've notice kind repeat stress fantastic think cell walk movie open mind take wonder eye pop feast assure good time guess film little people write weird crazy psychology imagination human mind right alley leave theater hear audience member movie sure lot good drug want smoking.<br /><br 4",
         "2",
         "cell exotic masterpiece dizzying trip vast mind serial killer talented director conclusive evidence achieve human being unleash uninhibited imagination boldness work push aside thought fall formula cliche create truly magnificent good movie year date.<br /><br />i've read numerous complaint film style substance poorly cast character bad acting negatively criticize film miss point movie landmark tradition future movie hopefully follow cell open door world imagination slam door face tell director tarsem singh want personally welcome movie tarsem love try challenge him.<br /><br />we've hear talk go inside mind serial killer yes agree genre bit overwork 90 movie try depict make serial killer tick work fail cell blaze trail give new twist physically transport mind present fascinating journey mysterious subject matter studied.<br /><br />i like movie bog scientific jargon try explain jennifer lopez actually get enter brain instead lie laboratory table wrap look like long twizzlers jaunt entity cell want let guess people like true like explanation movie movie venture new ground let desire simply in.<br /><br />i notice film dark show reality maybe contrast bright visual inside brain nonetheless set design simply astonishing surprised film take home oscars cinematography good costume good director like nominate good picture.<br /><br />i've notice kind repeat stress fantastic think cell walk movie open mind take wonder eye pop feast assure good time guess film little people write weird crazy psychology imagination human mind right alley leave theater hear audience member movie sure lot good drug want smoking.<br /><br 4"
        ],
        [
         "27",
         "27",
         "film try thing sting political satire hollywood blockbuster sappy romantic comedy family value promo ... list go fail miserably interest turn end.<br /><br />although appreciate spirit war inc depress clumsy effort especially take target reflect lack existence critique simply poor writing direction production particular film.<br /><br />there critique corporatization war poke fun way diminish true atrocity happen remind bit king similarly trivialize genuine cause concern",
         "0",
         "film try thing sting political satire hollywood blockbuster sappy romantic comedy family value promo ... list go fail miserably interest turn end.<br /><br />although appreciate spirit war inc depress clumsy effort especially take target reflect lack existence critique simply poor writing direction production particular film.<br /><br />there critique corporatization war poke fun way diminish true atrocity happen remind bit king similarly trivialize genuine cause concern"
        ],
        [
         "28",
         "28",
         "movie frustrating energetic totally prepared good time think able stand wrong weird looping like watch america funniest home videos damn parent hate stereo typical latino family need speak person responsible need talk little girl hang hate mention final scene transcend gloriously bad badness movie crappy dancing horrible beautiful",
         "0",
         "movie frustrating energetic totally prepared good time think able stand wrong weird looping like watch america funniest home videos damn parent hate stereo typical latino family need speak person responsible need talk little girl hang hate mention final scene transcend gloriously bad badness movie crappy dancing horrible beautiful"
        ],
        [
         "29",
         "29",
         "war movie hollywood genre redone time clichéd dialogue rehash plot action sequence unavoidable conflict deal large scale combat war movie come go grain bring truly original compelling story life silver screen civil war era cold mountain star jude law nicole kidman renée zellweger film.<br /><br />then call cold mountain war movie entirely accurate true film open literally quick dirty battle sequence put glory director edward zwick shame cold mountain civil war period people time story center disgruntle confederate soldier inman play jude law disgusted gruesome war homesick beautiful hamlet cold mountain north carolina equally beautiful southern belle leave ada monroe play nicole kidman glance setup appear formulaic romantic interest home give audience sympathy root reluctant soldier tribulation battlefield early segment film relatively unimpressive somewhat contrived.<br /><br />\"cold mountain soon take drastic turn intrepid hero inman turn deserter incidentally save audience potentially confusing scenario want root confederates begin long odyssey homeward farm ada cultured way prove little use field soon transform wilderbeast come ada rescue course tough nail ruby thewes play renée zellweger help ada farm importantly cope loneliness isolation war bring ada.<br /><br />within setting vivid compelling time disturbing portrait war tear south unfold character inman ada interact surprisingly complex enhance wonderful performance brendan gleeson ruby deadbeat father ray winstone unrepentant southern lawman natalie portman deeply troubled isolated young mother greatly affect change war northern aggression bad dark pervade anti war message accent effective haunt score chillingly beautiful shot virginia north carolina communicate audience gruesome battle scene scarred land traumatize people war fight weapon tactic war change past century hellish effect land timelessly relevant.<br /><br />director anthony minghella manage maintain gloomy mood film atmosphere unfortunately denigrate tepid climax little justice wonderfully form character love story inman ada awkwardly tack beginning end film inherently distant abstracted absurd nature relationship way fit dismal nature rest plot.<br /><br />make mistake cold mountain trait feel good romance inspire war drama unique vision era sure entertain truly absorb audience life people tear apart war entirely desperate rid terrible repercussion altogether",
         "2",
         "war movie hollywood genre redone time clichéd dialogue rehash plot action sequence unavoidable conflict deal large scale combat war movie come go grain bring truly original compelling story life silver screen civil war era cold mountain star jude law nicole kidman renée zellweger film.<br /><br />then call cold mountain war movie entirely accurate true film open literally quick dirty battle sequence put glory director edward zwick shame cold mountain civil war period people time story center disgruntle confederate soldier inman play jude law disgusted gruesome war homesick beautiful hamlet cold mountain north carolina equally beautiful southern belle leave ada monroe play nicole kidman glance setup appear formulaic romantic interest home give audience sympathy root reluctant soldier tribulation battlefield early segment film relatively unimpressive somewhat contrived.<br /><br />\"cold mountain soon take drastic turn intrepid hero inman turn deserter incidentally save audience potentially confusing scenario want root confederates begin long odyssey homeward farm ada cultured way prove little use field soon transform wilderbeast come ada rescue course tough nail ruby thewes play renée zellweger help ada farm importantly cope loneliness isolation war bring ada.<br /><br />within setting vivid compelling time disturbing portrait war tear south unfold character inman ada interact surprisingly complex enhance wonderful performance brendan gleeson ruby deadbeat father ray winstone unrepentant southern lawman natalie portman deeply troubled isolated young mother greatly affect change war northern aggression bad dark pervade anti war message accent effective haunt score chillingly beautiful shot virginia north carolina communicate audience gruesome battle scene scarred land traumatize people war fight weapon tactic war change past century hellish effect land timelessly relevant.<br /><br />director anthony minghella manage maintain gloomy mood film atmosphere unfortunately denigrate tepid climax little justice wonderfully form character love story inman ada awkwardly tack beginning end film inherently distant abstracted absurd nature relationship way fit dismal nature rest plot.<br /><br />make mistake cold mountain trait feel good romance inspire war drama unique vision era sure entertain truly absorb audience life people tear apart war entirely desperate rid terrible repercussion altogether"
        ],
        [
         "30",
         "30",
         "taut organically grip edward dmytryk crossfire distinctive suspense thriller unlikely message movie look device noir cycle.<br /><br />bivouacke washington dc company soldier cope restlessness hang bar end stranger apartment robert ryan drunk belligerent beat host sam levene death happen jewish police detective robert young investigate help robert mitchum assign ryan outfit suspicion fall second george cooper vanish ryan slay buddy steve brodie insure silence young close in.<br /><br />abette superior script john paxton dmytryk draw precise performance star bobs ryan naturally prototypical angry white male hilt mitchum underplay characteristic alert nonchalance role central young well gloria grahame give fully fledge rendition smart mouthed vulnerable tramp sad sack leech life paul kelly haunt small peripheral role make memorable.<br /><br />the politically engage dmytryk inevitably succumb sermonize pretty confine young reminiscence irish grandfather die hand bigot century early incidentally stretch chronology limit attempt render explanation glib ryan hate jews hillbilly ... ).<br /><br />curiously crossfire survive major change work -- novel base richard brooks brick foxhole deal gay bash murder homosexuality 1947 pale news holocaust begin emerge ashe europe hollywood feel embolden register protest anti semitism studio quake prospect offend potential ticket buyer).<br /><br />but change homophobia anti semitism work general specific fit smoothly victim chat lonesome drunk young soldier invite home look odd especially girlfriend tow raise question scenario retain inadvertently leave discreet tip original engine generate ryan murderous rage",
         "2",
         "taut organically grip edward dmytryk crossfire distinctive suspense thriller unlikely message movie look device noir cycle.<br /><br />bivouacke washington dc company soldier cope restlessness hang bar end stranger apartment robert ryan drunk belligerent beat host sam levene death happen jewish police detective robert young investigate help robert mitchum assign ryan outfit suspicion fall second george cooper vanish ryan slay buddy steve brodie insure silence young close in.<br /><br />abette superior script john paxton dmytryk draw precise performance star bobs ryan naturally prototypical angry white male hilt mitchum underplay characteristic alert nonchalance role central young well gloria grahame give fully fledge rendition smart mouthed vulnerable tramp sad sack leech life paul kelly haunt small peripheral role make memorable.<br /><br />the politically engage dmytryk inevitably succumb sermonize pretty confine young reminiscence irish grandfather die hand bigot century early incidentally stretch chronology limit attempt render explanation glib ryan hate jews hillbilly ... ).<br /><br />curiously crossfire survive major change work -- novel base richard brooks brick foxhole deal gay bash murder homosexuality 1947 pale news holocaust begin emerge ashe europe hollywood feel embolden register protest anti semitism studio quake prospect offend potential ticket buyer).<br /><br />but change homophobia anti semitism work general specific fit smoothly victim chat lonesome drunk young soldier invite home look odd especially girlfriend tow raise question scenario retain inadvertently leave discreet tip original engine generate ryan murderous rage"
        ],
        [
         "31",
         "31",
         "ardh satya fine film indian cinema direct great director govind nihalani successful hard hitting parallel cinema turn commercial success today ardh satya inspiration lead director india.<br /><br />the film tell real life scenario mumbai police 70 unlike police city india mumbai police encompass different system altogether govind nihalani create practical outlay real life approach mumbai police environment.<br /><br />amongst police officer colleague film describe story anand velankar young hot blooded cop come poor family father harsh police constable anand suffer father ideology incidence father atrocity mother anand approach immediate action crime inert craving job satisfaction film revolve plot anand constant effort crime trample senior lead frustration achieve desire job satisfaction result frustration anger express excessive violence remand room bar turn alcoholic.<br /><br />the spirit alive constantly fight system aware system metro police politicians inertly associate far end compromise unethical practice negative finally get suspended.<br /><br />the direction master piece thoroughly hard core well memorable scene anand break underworld gangster rama shetty house arrest follow short conversation fantastic scene film hair raise moments.<br /><br />the practical approach script major punch alcoholism corruption political influence courage deception integral mumbai police today aspect deal brilliantly.<br /><br />finally film belong man om puri portray anand velankar traverse emotion absolutely brilliantly",
         "2",
         "ardh satya fine film indian cinema direct great director govind nihalani successful hard hitting parallel cinema turn commercial success today ardh satya inspiration lead director india.<br /><br />the film tell real life scenario mumbai police 70 unlike police city india mumbai police encompass different system altogether govind nihalani create practical outlay real life approach mumbai police environment.<br /><br />amongst police officer colleague film describe story anand velankar young hot blooded cop come poor family father harsh police constable anand suffer father ideology incidence father atrocity mother anand approach immediate action crime inert craving job satisfaction film revolve plot anand constant effort crime trample senior lead frustration achieve desire job satisfaction result frustration anger express excessive violence remand room bar turn alcoholic.<br /><br />the spirit alive constantly fight system aware system metro police politicians inertly associate far end compromise unethical practice negative finally get suspended.<br /><br />the direction master piece thoroughly hard core well memorable scene anand break underworld gangster rama shetty house arrest follow short conversation fantastic scene film hair raise moments.<br /><br />the practical approach script major punch alcoholism corruption political influence courage deception integral mumbai police today aspect deal brilliantly.<br /><br />finally film belong man om puri portray anand velankar traverse emotion absolutely brilliantly"
        ],
        [
         "32",
         "32",
         "exposure templarios good excited find title offering anchor bay video bring cult classic spider baby print quality excellent hide fact film deadly dull thrilling opening sequence villager exact terrible revenge templars set thing motion movie slow ponderous ultimately unfulfilling add insult injury movie dub subtitle promise video jacket",
         "0",
         "exposure templarios good excited find title offering anchor bay video bring cult classic spider baby print quality excellent hide fact film deadly dull thrilling opening sequence villager exact terrible revenge templars set thing motion movie slow ponderous ultimately unfulfilling add insult injury movie dub subtitle promise video jacket"
        ],
        [
         "33",
         "33",
         "significant quote entire film pronounce halfway protagonist mafia middle man titta di girolamo physically non descript middle aged man originally salerno southern italy introduce start film live non life elegant sterile hotel italian speak canton switzerland year conduct business gradually introduce pivotal apparently unremarkable scene take place employee swiss bank normally count di girolamo cash tell 10,000 dollar miss usual suitcase tightly stack banknote news quietly icily threaten coax bank manager want close account tell spectator bluff bluff right end fear catch appear ridiculous say bluff halfway tell truth have eventually bluff halfway tell truth have accept consequence life ultimately love exactly reason beginning titta di girolamo trouble br /><br />this initially unsympathetic character scowling taciturn curt man verge 50 man will reply kind chambermaid waitress hello goodbye point spectator care deeply point non life titta decide feel concern appear ridiculous half film describe slow reveal di girolamo day night hotel oddly disjoin deliberate pace reveal seemingly mundane irrelevant detail scene unnecessary reveal essential masterfully construct innovative film unfold eye existence titta di girolamo man imagination identity life unsympathetic character unexpectedly end love feel think convey elegantly edit sequence interesting use music theme scottish band boards canada especially stand br /><br />never contrast way hollywood italy treat mobster odd release film le conseguenze dell'amore l'imbalsamatore interesting element way film use protagonist insomnia unlike machinist far explicit way al pacino film insomnia le conseguenze dell'amore use condition symbolise deep emotional malaise ram deep obscurity unconscious impossible pin point cause br /><br />the young sympathetic hotel waitress sofia play olivia magnani grand daughter legendary anna memory titta good friend man see 20 year unexpectedly provide tiny window life titta eventually tentatively accept look explicitly spell spectator knows man like titta accept consequences love unimaginable consequence film single scene sex violence film unfold time concede spectator expectation le conseguenze dell'amore fine representative small quiet discreet renaissance take place italian cinema decline cinecittà second half 70 world wait italy produce il postino like fare la vita è bella style film ... neglect explore fine creation like le conseguenze dell'amore l'imbalsamatore loss world",
         "2",
         "significant quote entire film pronounce halfway protagonist mafia middle man titta di girolamo physically non descript middle aged man originally salerno southern italy introduce start film live non life elegant sterile hotel italian speak canton switzerland year conduct business gradually introduce pivotal apparently unremarkable scene take place employee swiss bank normally count di girolamo cash tell 10,000 dollar miss usual suitcase tightly stack banknote news quietly icily threaten coax bank manager want close account tell spectator bluff bluff right end fear catch appear ridiculous say bluff halfway tell truth have eventually bluff halfway tell truth have accept consequence life ultimately love exactly reason beginning titta di girolamo trouble br /><br />this initially unsympathetic character scowling taciturn curt man verge 50 man will reply kind chambermaid waitress hello goodbye point spectator care deeply point non life titta decide feel concern appear ridiculous half film describe slow reveal di girolamo day night hotel oddly disjoin deliberate pace reveal seemingly mundane irrelevant detail scene unnecessary reveal essential masterfully construct innovative film unfold eye existence titta di girolamo man imagination identity life unsympathetic character unexpectedly end love feel think convey elegantly edit sequence interesting use music theme scottish band boards canada especially stand br /><br />never contrast way hollywood italy treat mobster odd release film le conseguenze dell'amore l'imbalsamatore interesting element way film use protagonist insomnia unlike machinist far explicit way al pacino film insomnia le conseguenze dell'amore use condition symbolise deep emotional malaise ram deep obscurity unconscious impossible pin point cause br /><br />the young sympathetic hotel waitress sofia play olivia magnani grand daughter legendary anna memory titta good friend man see 20 year unexpectedly provide tiny window life titta eventually tentatively accept look explicitly spell spectator knows man like titta accept consequences love unimaginable consequence film single scene sex violence film unfold time concede spectator expectation le conseguenze dell'amore fine representative small quiet discreet renaissance take place italian cinema decline cinecittà second half 70 world wait italy produce il postino like fare la vita è bella style film ... neglect explore fine creation like le conseguenze dell'amore l'imbalsamatore loss world"
        ],
        [
         "34",
         "34",
         "watch film expect get pack 5 film pretty terrible way fiver expect know right terrible movie stretch interesting point occasional camcorder view nice touch drummer like drummer i.e damned annoying s actually problem boring assume attempt build tension lot happen utterly tedious thumb fast forward button ready press movie give seriously lead singer band great looking coz half mention beautiful hell lot think look bit like meercat mention killer go to worth explain far concerned star london reason watch exception london actually funny act talent certainly see lot bad see lot well well avoid bored watch paint dry",
         "0",
         "watch film expect get pack 5 film pretty terrible way fiver expect know right terrible movie stretch interesting point occasional camcorder view nice touch drummer like drummer i.e damned annoying s actually problem boring assume attempt build tension lot happen utterly tedious thumb fast forward button ready press movie give seriously lead singer band great looking coz half mention beautiful hell lot think look bit like meercat mention killer go to worth explain far concerned star london reason watch exception london actually funny act talent certainly see lot bad see lot well well avoid bored watch paint dry"
        ],
        [
         "35",
         "35",
         "buy film blockbuster 3.00 sound interesting bit ranma esque idea drag skeleton cute girl mini skirt restricted view sticker think go sweet sincere come age story weird indie edge 100 wrong.<br /><br />having watch wonder get restricted sticker hardly foul language little violence close thing nudity honestly usually hope girl nightgown pantie pantie lot movie matter wear miniskirt sort anti religious humor tame lame caricature insincere derivative unoriginal bad funny slight -- well listen ray stevens jesus wear rolex television barely qualify pg-13 rate blockbuster refuse let age 17 rent -- pornographic little kid rent edit version requiem dream insist zack reba worse.<br /><br />it way.<br /><br />in way worry -- thing leave offend people idea suicide beginning anybody need movie honestly portray suicide well one like virgin suicides teenager movie rate r purely suicide aspect little chance turn story write pg-13 movie main character half suicide lead cause death teenager think number 2 chance teen affect it.<br /><br />just movie 2/10",
         "0",
         "buy film blockbuster 3.00 sound interesting bit ranma esque idea drag skeleton cute girl mini skirt restricted view sticker think go sweet sincere come age story weird indie edge 100 wrong.<br /><br />having watch wonder get restricted sticker hardly foul language little violence close thing nudity honestly usually hope girl nightgown pantie pantie lot movie matter wear miniskirt sort anti religious humor tame lame caricature insincere derivative unoriginal bad funny slight -- well listen ray stevens jesus wear rolex television barely qualify pg-13 rate blockbuster refuse let age 17 rent -- pornographic little kid rent edit version requiem dream insist zack reba worse.<br /><br />it way.<br /><br />in way worry -- thing leave offend people idea suicide beginning anybody need movie honestly portray suicide well one like virgin suicides teenager movie rate r purely suicide aspect little chance turn story write pg-13 movie main character half suicide lead cause death teenager think number 2 chance teen affect it.<br /><br />just movie 2/10"
        ],
        [
         "36",
         "36",
         "plot death little child hopper investigate killing movie appear trouble daughter end serial killer catch find dunnit terrible act actor unbelievable bad actor include hopper like waste time watch movie warn",
         "0",
         "plot death little child hopper investigate killing movie appear trouble daughter end serial killer catch find dunnit terrible act actor unbelievable bad actor include hopper like waste time watch movie warn"
        ],
        [
         "37",
         "37",
         "watch movie lose plot begin with.<br /><br />where begin achingly tedious scene heroine sit house actually sense menace forebode create apparently constant thunderstorm strangely actually hear house great double glazing house apparently mile town hour walk away girl serve purpose plot provide surprisingly quick gory murder tedium unbearable beginning suggest spate 20 killing area apparent killer venture far house bizarre ritual salt pepper pretty sum film inherent lack direction.<br /><br />add lead actress act willing completely irrelevant nude shower scene video truly nasty way hope.<br /><br />given following simply ban uk 80 final surprisingly extended murder offer curiosity value- classic daft murder worry telegraph minute before).<br /><br />after walk wood victim come steep upward slope obviously struggle halfway figure dress black brandish large scythe slide run like rest course not- struggle stand conveniently nice upright murder weapon.<br /><br />it movie ..",
         "0",
         "watch movie lose plot begin with.<br /><br />where begin achingly tedious scene heroine sit house actually sense menace forebode create apparently constant thunderstorm strangely actually hear house great double glazing house apparently mile town hour walk away girl serve purpose plot provide surprisingly quick gory murder tedium unbearable beginning suggest spate 20 killing area apparent killer venture far house bizarre ritual salt pepper pretty sum film inherent lack direction.<br /><br />add lead actress act willing completely irrelevant nude shower scene video truly nasty way hope.<br /><br />given following simply ban uk 80 final surprisingly extended murder offer curiosity value- classic daft murder worry telegraph minute before).<br /><br />after walk wood victim come steep upward slope obviously struggle halfway figure dress black brandish large scythe slide run like rest course not- struggle stand conveniently nice upright murder weapon.<br /><br />it movie .."
        ],
        [
         "38",
         "38",
         "okay series kind take route week week david morse character help ride bit pickle wrong david morse great character actor certainly cool series create david koepp great writer heaven!!<br /><br />due lack love go season series know rubbish baffle let hope good past series",
         "2",
         "okay series kind take route week week david morse character help ride bit pickle wrong david morse great character actor certainly cool series create david koepp great writer heaven!!<br /><br />due lack love go season series know rubbish baffle let hope good past series"
        ],
        [
         "39",
         "39",
         "sit pile dung husband wonder actually product experiment computer program produce movie listless formulaic u.s. propaganda throw face film prove -- disappointingly -- work human conspiracy theorist quote like steal declaration independence protect like way justify action like invasion iraq etc fact nicholas cage spew line like use declaration independence bargaining chip straight face husband wonder entire cast take valium shoot scene reasoning plot turn new clue truly ridiculous impossible follow bonus plot misogyny dr. chide involve shut clearly movie look feel need slap dr. title character gravity point cage character say shut camera pan look poutily hand like child truly grotesque benefit movie astonishingly bad laugh scary thing majority people watch movie enjoy creepy ....",
         "0",
         "sit pile dung husband wonder actually product experiment computer program produce movie listless formulaic u.s. propaganda throw face film prove -- disappointingly -- work human conspiracy theorist quote like steal declaration independence protect like way justify action like invasion iraq etc fact nicholas cage spew line like use declaration independence bargaining chip straight face husband wonder entire cast take valium shoot scene reasoning plot turn new clue truly ridiculous impossible follow bonus plot misogyny dr. chide involve shut clearly movie look feel need slap dr. title character gravity point cage character say shut camera pan look poutily hand like child truly grotesque benefit movie astonishingly bad laugh scary thing majority people watch movie enjoy creepy ...."
        ],
        [
         "40",
         "40",
         "clichés movie type substance plot go end movie feel like sucker watch production good script acting b movie quality casting poor good actor mix crumby actor good actor hold lift br /><br />this movie worthy word meet minimum requirement line james wood cuba gooding jr. play caricature movie br /><br />if look mindless entertainment recommend movie",
         "0",
         "clichés movie type substance plot go end movie feel like sucker watch production good script acting b movie quality casting poor good actor mix crumby actor good actor hold lift br /><br />this movie worthy word meet minimum requirement line james wood cuba gooding jr. play caricature movie br /><br />if look mindless entertainment recommend movie"
        ],
        [
         "41",
         "41",
         "movie base book splendored thing han suyin tackle issue race relation asians whites topic come han personal experience eurasian grow china background beautiful hong kong setting give love story unique dare atmosphere time.<br /><br />other story stereotypical romance memorable song remember movie beautiful jennifer jones look give wonderful oscar nominate performance doctor mixed breed advent communism mainland china william holden look well play romantic lead journalist cover war tear region world acting notch chemistry lover provide genuine moment silver screen affection sure melt heart romantically inclined.<br /><br />the cinematography bring hong kong especially hilltop overlook harbor lover spend intimate moment ending real tear jerker consider sentimental romance passé enjoy classic hollywood love story shine example",
         "2",
         "movie base book splendored thing han suyin tackle issue race relation asians whites topic come han personal experience eurasian grow china background beautiful hong kong setting give love story unique dare atmosphere time.<br /><br />other story stereotypical romance memorable song remember movie beautiful jennifer jones look give wonderful oscar nominate performance doctor mixed breed advent communism mainland china william holden look well play romantic lead journalist cover war tear region world acting notch chemistry lover provide genuine moment silver screen affection sure melt heart romantically inclined.<br /><br />the cinematography bring hong kong especially hilltop overlook harbor lover spend intimate moment ending real tear jerker consider sentimental romance passé enjoy classic hollywood love story shine example"
        ],
        [
         "42",
         "42",
         "film see rage get bad direction logic continuity change plot script dialog cry pain come crappy gary busey know b movie sure w movie w waste).<br /><br />take example dozen fbi local law officer surround trailer house jeep wagoneer inside jeep ma confused cop second huge gun battle ensue ma kill straight cop blast away jeep gary company blast away cop fall like domino jeep gary drive circle hit single bullet pellet ma kill gary notice damn guy tough truly miracle shooter hold 300 bullet miracle",
         "0",
         "film see rage get bad direction logic continuity change plot script dialog cry pain come crappy gary busey know b movie sure w movie w waste).<br /><br />take example dozen fbi local law officer surround trailer house jeep wagoneer inside jeep ma confused cop second huge gun battle ensue ma kill straight cop blast away jeep gary company blast away cop fall like domino jeep gary drive circle hit single bullet pellet ma kill gary notice damn guy tough truly miracle shooter hold 300 bullet miracle"
        ],
        [
         "43",
         "43",
         "hear good thing states grace come open mind think god army okay think maybe dutcher improve mature filmmaker film begin shaky acting think maybe well unfortunately picture start introduce elder -- mormon missionary -- audience know grow care instead story degenerate highly improbable series unfortunate event highlight blatant disobedience missionary undeniably exist rarely level dutcher portray laughable.<br /><br />dutcher success movie successful alienation target audience unrealistically inaccurately portray life mormon missionary dutcher accomplish anger predominantly mormon audience film way reflect reality mission like dutcher show have serve mormon mission attest fact gang life california certainly contain explicit language occasional mild vulgarity.<br /><br />the conclusion assume suppose touch audience inspire believe forgiveness available unbelievable come entire mission gather elder send home -- mom girl stand right cheesy time dutcher try make movie identify",
         "0",
         "hear good thing states grace come open mind think god army okay think maybe dutcher improve mature filmmaker film begin shaky acting think maybe well unfortunately picture start introduce elder -- mormon missionary -- audience know grow care instead story degenerate highly improbable series unfortunate event highlight blatant disobedience missionary undeniably exist rarely level dutcher portray laughable.<br /><br />dutcher success movie successful alienation target audience unrealistically inaccurately portray life mormon missionary dutcher accomplish anger predominantly mormon audience film way reflect reality mission like dutcher show have serve mormon mission attest fact gang life california certainly contain explicit language occasional mild vulgarity.<br /><br />the conclusion assume suppose touch audience inspire believe forgiveness available unbelievable come entire mission gather elder send home -- mom girl stand right cheesy time dutcher try make movie identify"
        ],
        [
         "44",
         "44",
         "movie strike home 29 remember 80 father work factory figure work hard pride give american dream house kid car note degree unlike father quit ninth grade keen sense greed laziness anywhere.<br /><br />i like know movie dvd vhs tv see hour ago ic an't find love friend pseudo friend family relative think remind time americans work sake feel honor pride accomplish think feeling heavy downward spiral thing overseas ...",
         "2",
         "movie strike home 29 remember 80 father work factory figure work hard pride give american dream house kid car note degree unlike father quit ninth grade keen sense greed laziness anywhere.<br /><br />i like know movie dvd vhs tv see hour ago ic an't find love friend pseudo friend family relative think remind time americans work sake feel honor pride accomplish think feeling heavy downward spiral thing overseas ..."
        ],
        [
         "45",
         "45",
         "disclaimer see movie 5 6 time 15 year see musical week allow judge movie taint musical taint watch musical :) br /><br />i actually believe michael douglas work role kasey think let dance scene good part movie worthwhile addition compare musical dancer singing movie superior musical cast 10 time big easy movie course decor lighting dancing singing superior movie expect deliver br /><br />the song common musical well movie new one good one movie deliver musical opinion especially compare musical decor bad point movie obvious cut actor talk dub singer singing portion character dancing impeccable end product enjoyable musical",
         "2",
         "disclaimer see movie 5 6 time 15 year see musical week allow judge movie taint musical taint watch musical :) br /><br />i actually believe michael douglas work role kasey think let dance scene good part movie worthwhile addition compare musical dancer singing movie superior musical cast 10 time big easy movie course decor lighting dancing singing superior movie expect deliver br /><br />the song common musical well movie new one good one movie deliver musical opinion especially compare musical decor bad point movie obvious cut actor talk dub singer singing portion character dancing impeccable end product enjoyable musical"
        ],
        [
         "46",
         "46",
         "protocol implausible movie save grace star goldie hawn good cast support actor story revolve ditzy cocktail waitress famous inadvertently save life arab dignitary story go downhill halfway movie goldie charm save movie goldie hawn fan way film",
         "0",
         "protocol implausible movie save grace star goldie hawn good cast support actor story revolve ditzy cocktail waitress famous inadvertently save life arab dignitary story go downhill halfway movie goldie charm save movie goldie hawn fan way film"
        ],
        [
         "47",
         "47",
         "film classify drama idea john voight mary steenburgen try erase cv historically accurate xena hercules abraham moses get meld noah lot abraham nephew lot turn thousand year bear canaanite wander earth ... scriptwriter think ignorance remember noah animal lot canaanites stuff sunday school try offend maximum number people planet possible- christians jews muslims historian archaeologist geologist psychologist linguist ... matter fact offend modicum taste wince",
         "0",
         "film classify drama idea john voight mary steenburgen try erase cv historically accurate xena hercules abraham moses get meld noah lot abraham nephew lot turn thousand year bear canaanite wander earth ... scriptwriter think ignorance remember noah animal lot canaanites stuff sunday school try offend maximum number people planet possible- christians jews muslims historian archaeologist geologist psychologist linguist ... matter fact offend modicum taste wince"
        ],
        [
         "48",
         "48",
         "preston sturgis power glory unseen public nearly thirty year late 1990 resurface show television meantime gain notoriety pauline kael citizen kane book suggest herman mankiewicz orson welles screenplay kane base sturgis screenplay mention beginning thread film imdb web site kael overstate case.<br /><br />there narrator turn deal life charles foster kane newsreel represent ralston henry luce clone thatcher memoir bernstein jed leland susan alexander kane raymond butler different slant kane reflect faith disappointment hatred man course reveal failing tell version kane story method lead frequent overlapping telling incident.<br /><br />this situation power glory yes like kane legendary business leader tom garner spencer tracy man rise head successful railroad system country narrator garner right hand man henry ralph morgan wife sarah padden restrict nearly dimensional view time kane garner henry narrate talk boss friend respect love wife like voice skeptical public see flaw henry.<br /><br />typical example work way tom anti labor later year union troublemaker care slow shenanigan henry describe tom confrontation union major walk preoccupy detriment home life henry wife remind tom scab violence end strike apparently blow union headquarters kill people view man pure white pure black.<br /><br />i'm knock power glory duplicate kane success film include orson welles film aware story present hold interest end thank performance tracy colleen moore wife sally tragedy worldly success pair fully bring home.<br /><br />when marry tom want wife family benefit america great business success come cost tom get deeply involve run railroad empire expand improve constantly take away home lose touch sally notice eve helen vinson young woman mistress sally learn unfaithful behavior destroy her.<br /><br />similarly tom get shock make martyr eye henry eve marry tom present son turn eve son tom son tom jr. philip trent discovery incestuous cuckolding cause tom shoot himself.<br /><br />the film total success action jump time unconvincingly business real note scene tom tell board directors plan purchase small rival train line discuss use debenture finance plan sturgis come wealthy background bring type detail rate film citizen kane interest movie lover attempt business realism social commentary depression america",
         "2",
         "preston sturgis power glory unseen public nearly thirty year late 1990 resurface show television meantime gain notoriety pauline kael citizen kane book suggest herman mankiewicz orson welles screenplay kane base sturgis screenplay mention beginning thread film imdb web site kael overstate case.<br /><br />there narrator turn deal life charles foster kane newsreel represent ralston henry luce clone thatcher memoir bernstein jed leland susan alexander kane raymond butler different slant kane reflect faith disappointment hatred man course reveal failing tell version kane story method lead frequent overlapping telling incident.<br /><br />this situation power glory yes like kane legendary business leader tom garner spencer tracy man rise head successful railroad system country narrator garner right hand man henry ralph morgan wife sarah padden restrict nearly dimensional view time kane garner henry narrate talk boss friend respect love wife like voice skeptical public see flaw henry.<br /><br />typical example work way tom anti labor later year union troublemaker care slow shenanigan henry describe tom confrontation union major walk preoccupy detriment home life henry wife remind tom scab violence end strike apparently blow union headquarters kill people view man pure white pure black.<br /><br />i'm knock power glory duplicate kane success film include orson welles film aware story present hold interest end thank performance tracy colleen moore wife sally tragedy worldly success pair fully bring home.<br /><br />when marry tom want wife family benefit america great business success come cost tom get deeply involve run railroad empire expand improve constantly take away home lose touch sally notice eve helen vinson young woman mistress sally learn unfaithful behavior destroy her.<br /><br />similarly tom get shock make martyr eye henry eve marry tom present son turn eve son tom son tom jr. philip trent discovery incestuous cuckolding cause tom shoot himself.<br /><br />the film total success action jump time unconvincingly business real note scene tom tell board directors plan purchase small rival train line discuss use debenture finance plan sturgis come wealthy background bring type detail rate film citizen kane interest movie lover attempt business realism social commentary depression america"
        ],
        [
         "49",
         "49",
         "average surprisingly tame fulci giallo mean bad normal standard redeem solid build nice touch neat time twist issue vision clairvoyance.<br /><br />the genre know weakness gear banal dialogue wooden acting illogical plot point finale go long denouement prove lame shall limp affair.<br /><br />fulci ironic handling giallo norm amusing yellow clue look.<br /><br />3 10 limping killer",
         "0",
         "average surprisingly tame fulci giallo mean bad normal standard redeem solid build nice touch neat time twist issue vision clairvoyance.<br /><br />the genre know weakness gear banal dialogue wooden acting illogical plot point finale go long denouement prove lame shall limp affair.<br /><br />fulci ironic handling giallo norm amusing yellow clue look.<br /><br />3 10 limping killer"
        ]
       ],
       "shape": {
        "columns": 4,
        "rows": 678511
       }
      },
      "text/html": [
       "<div>\n",
       "<style scoped>\n",
       "    .dataframe tbody tr th:only-of-type {\n",
       "        vertical-align: middle;\n",
       "    }\n",
       "\n",
       "    .dataframe tbody tr th {\n",
       "        vertical-align: top;\n",
       "    }\n",
       "\n",
       "    .dataframe thead th {\n",
       "        text-align: right;\n",
       "    }\n",
       "</style>\n",
       "<table border=\"1\" class=\"dataframe\">\n",
       "  <thead>\n",
       "    <tr style=\"text-align: right;\">\n",
       "      <th></th>\n",
       "      <th>Unnamed: 0</th>\n",
       "      <th>text</th>\n",
       "      <th>label</th>\n",
       "      <th>preprocess_text</th>\n",
       "    </tr>\n",
       "  </thead>\n",
       "  <tbody>\n",
       "    <tr>\n",
       "      <th>0</th>\n",
       "      <td>0</td>\n",
       "      <td>reviewer mention watch 1 oz episode hook right...</td>\n",
       "      <td>2</td>\n",
       "      <td>reviewer mention watch 1 oz episode hook right...</td>\n",
       "    </tr>\n",
       "    <tr>\n",
       "      <th>1</th>\n",
       "      <td>1</td>\n",
       "      <td>wonderful little production br /&gt;&lt;br /&gt;the fil...</td>\n",
       "      <td>2</td>\n",
       "      <td>wonderful little production br /&gt;&lt;br /&gt;the fil...</td>\n",
       "    </tr>\n",
       "    <tr>\n",
       "      <th>2</th>\n",
       "      <td>2</td>\n",
       "      <td>think wonderful way spend time hot summer week...</td>\n",
       "      <td>2</td>\n",
       "      <td>think wonderful way spend time hot summer week...</td>\n",
       "    </tr>\n",
       "    <tr>\n",
       "      <th>3</th>\n",
       "      <td>3</td>\n",
       "      <td>basically family little boy jake think zombie ...</td>\n",
       "      <td>0</td>\n",
       "      <td>basically family little boy jake think zombie ...</td>\n",
       "    </tr>\n",
       "    <tr>\n",
       "      <th>4</th>\n",
       "      <td>4</td>\n",
       "      <td>petter mattei love time money visually stunnin...</td>\n",
       "      <td>2</td>\n",
       "      <td>petter mattei love time money visually stunnin...</td>\n",
       "    </tr>\n",
       "    <tr>\n",
       "      <th>...</th>\n",
       "      <td>...</td>\n",
       "      <td>...</td>\n",
       "      <td>...</td>\n",
       "      <td>...</td>\n",
       "    </tr>\n",
       "    <tr>\n",
       "      <th>678506</th>\n",
       "      <td>679009</td>\n",
       "      <td>ryan good yelp claim courteous knowledgable he...</td>\n",
       "      <td>2</td>\n",
       "      <td>ryan good yelp claim courteous knowledgable he...</td>\n",
       "    </tr>\n",
       "    <tr>\n",
       "      <th>678507</th>\n",
       "      <td>679010</td>\n",
       "      <td>professional \\nfriendly\\non time affordable!\\n...</td>\n",
       "      <td>2</td>\n",
       "      <td>professional \\nfriendly\\non time affordable!\\n...</td>\n",
       "    </tr>\n",
       "    <tr>\n",
       "      <th>678508</th>\n",
       "      <td>679011</td>\n",
       "      <td>phone call voicemail message return   stupid w...</td>\n",
       "      <td>1</td>\n",
       "      <td>phone call voicemail message return   stupid w...</td>\n",
       "    </tr>\n",
       "    <tr>\n",
       "      <th>678509</th>\n",
       "      <td>679012</td>\n",
       "      <td>look like good review go head place   jason ry...</td>\n",
       "      <td>1</td>\n",
       "      <td>look like good review go head place   jason ry...</td>\n",
       "    </tr>\n",
       "    <tr>\n",
       "      <th>678510</th>\n",
       "      <td>679013</td>\n",
       "      <td>ryan rocks call morning sprinkler help potenti...</td>\n",
       "      <td>2</td>\n",
       "      <td>ryan rocks call morning sprinkler help potenti...</td>\n",
       "    </tr>\n",
       "  </tbody>\n",
       "</table>\n",
       "<p>678511 rows × 4 columns</p>\n",
       "</div>"
      ],
      "text/plain": [
       "        Unnamed: 0                                               text  label  \\\n",
       "0                0  reviewer mention watch 1 oz episode hook right...      2   \n",
       "1                1  wonderful little production br /><br />the fil...      2   \n",
       "2                2  think wonderful way spend time hot summer week...      2   \n",
       "3                3  basically family little boy jake think zombie ...      0   \n",
       "4                4  petter mattei love time money visually stunnin...      2   \n",
       "...            ...                                                ...    ...   \n",
       "678506      679009  ryan good yelp claim courteous knowledgable he...      2   \n",
       "678507      679010  professional \\nfriendly\\non time affordable!\\n...      2   \n",
       "678508      679011  phone call voicemail message return   stupid w...      1   \n",
       "678509      679012  look like good review go head place   jason ry...      1   \n",
       "678510      679013  ryan rocks call morning sprinkler help potenti...      2   \n",
       "\n",
       "                                          preprocess_text  \n",
       "0       reviewer mention watch 1 oz episode hook right...  \n",
       "1       wonderful little production br /><br />the fil...  \n",
       "2       think wonderful way spend time hot summer week...  \n",
       "3       basically family little boy jake think zombie ...  \n",
       "4       petter mattei love time money visually stunnin...  \n",
       "...                                                   ...  \n",
       "678506  ryan good yelp claim courteous knowledgable he...  \n",
       "678507  professional \\nfriendly\\non time affordable!\\n...  \n",
       "678508  phone call voicemail message return   stupid w...  \n",
       "678509  look like good review go head place   jason ry...  \n",
       "678510  ryan rocks call morning sprinkler help potenti...  \n",
       "\n",
       "[678511 rows x 4 columns]"
      ]
     },
     "execution_count": 77,
     "metadata": {},
     "output_type": "execute_result"
    }
   ],
   "source": [
    "# Evaluate fine-tuned model on all samples, including non low confidence ones\n",
    "df_test = pd.read_csv(\"./data/SA_cleaned.csv\")\n",
    "df_test[\"text\"] = df_test[\"preprocess_text\"].astype(str)\n",
    "df_test[\"label\"] = df_test[\"label\"].astype(int)\n",
    "df_test"
   ]
  },
  {
   "cell_type": "code",
   "execution_count": null,
   "id": "9ba05b5e",
   "metadata": {},
   "outputs": [],
   "source": [
    "test_dataset = Dataset.from_pandas(df_test[[\"text\", \"label\"]])\n",
    "tokenized_test_dataset = test_dataset.map(tokenize_function, batched=True)\n",
    "\n",
    "trainer = Trainer(\n",
    "    model=model,\n",
    "    args=training_args,\n",
    "    train_dataset=tokenized_train_dataset,\n",
    "    eval_dataset=tokenized_test_dataset,\n",
    "    compute_metrics=compute_metrics,\n",
    "    callbacks=[logger_callback],\n",
    ")\n",
    "\n",
    "results_all = trainer.evaluate()\n",
    "print(results_all)"
   ]
  }
 ],
 "metadata": {
  "kernelspec": {
   "display_name": "Skynet",
   "language": "python",
   "name": "poetry_env_skynet"
  },
  "language_info": {
   "codemirror_mode": {
    "name": "ipython",
    "version": 3
   },
   "file_extension": ".py",
   "mimetype": "text/x-python",
   "name": "python",
   "nbconvert_exporter": "python",
   "pygments_lexer": "ipython3",
   "version": "3.12.0"
  }
 },
 "nbformat": 4,
 "nbformat_minor": 5
}
