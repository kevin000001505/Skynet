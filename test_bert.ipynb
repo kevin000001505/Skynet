{
 "cells": [
  {
   "cell_type": "code",
   "execution_count": 2,
   "id": "8648d378",
   "metadata": {},
   "outputs": [],
   "source": [
    "import pandas as pd\n",
    "from transformers import AutoTokenizer, AutoModelForSequenceClassification, Trainer, TrainingArguments\n",
    "from datasets import Dataset\n",
    "from sklearn.metrics import accuracy_score\n",
    "from peft import get_peft_model, LoraConfig, TaskType\n",
    "from sklearn.model_selection import train_test_split"
   ]
  },
  {
   "cell_type": "code",
   "execution_count": null,
   "id": "3fabbb83",
   "metadata": {},
   "outputs": [],
   "source": []
  },
  {
   "cell_type": "code",
   "execution_count": 3,
   "id": "2411eb17",
   "metadata": {},
   "outputs": [],
   "source": [
    "df = pd.read_csv(\"low_confidence_samples/Normal.csv\", encoding='ISO-8859-1')\n",
    "df.dropna(subset=['text', 'sentiment'], inplace=True)\n",
    "# df_test = pd.read_csv(\"low_confidence_samples/Normal.csv\", encoding='ISO-8859-1')\n",
    "# df_test.dropna(subset=['text', 'sentiment'], inplace=True)\n",
    "df_train, df_test = train_test_split(df, test_size=0.2, random_state=42)\n",
    "# Ensure text data is a list of strings and drop missing values\n",
    "df_train['text'] = df_train['text'].astype(str)\n",
    "df_test['text'] = df_test['text'].astype(str)\n",
    "\n",
    "df_train = df_train.rename(columns={'sentiment': 'label'})\n",
    "df_test = df_test.rename(columns={'sentiment': 'label'})\n",
    "\n",
    "df_train['label'] = df_train['label'].apply(lambda x: 2 if x == 'positive' else 1 if x == 'neutral' else 0)\n",
    "df_test['label'] = df_test['label'].apply(lambda x: 2 if x == 'positive' else 1 if x == 'neutral' else 0)\n",
    "\n",
    "\n",
    "df_train['label'] = df_train['label'].astype(int)\n",
    "df_test['label'] = df_test['label'].astype(int)"
   ]
  },
  {
   "cell_type": "code",
<<<<<<< HEAD
   "execution_count": 39,
=======
   "execution_count": 4,
>>>>>>> main
   "id": "6edf9ef1",
   "metadata": {},
   "outputs": [],
   "source": [
    "# model_name = 'google-bert/bert-base-uncased'\n",
<<<<<<< HEAD
    "# model_name = \"prajjwal1/bert-tiny\"\n",
    "model_name = \"distilbert/distilbert-base-uncased\"\n",
=======
    "model_name = 'distilbert/distilbert-base-uncased'\n",
>>>>>>> main
    "tokenizer = AutoTokenizer.from_pretrained(model_name)"
   ]
  },
  {
   "cell_type": "code",
<<<<<<< HEAD
   "execution_count": 40,
=======
   "execution_count": 5,
   "id": "dbaa8050",
   "metadata": {},
   "outputs": [
    {
     "data": {
      "application/vnd.jupyter.widget-view+json": {
       "model_id": "a2f2871092ac45ce9adc54ebc78f58cd",
       "version_major": 2,
       "version_minor": 0
      },
      "text/plain": [
       "Map (num_proc=4):   0%|          | 0/27480 [00:00<?, ? examples/s]"
      ]
     },
     "metadata": {},
     "output_type": "display_data"
    },
    {
     "data": {
      "application/vnd.jupyter.widget-view+json": {
       "model_id": "f6dc676028fd49419a09de47d31d292b",
       "version_major": 2,
       "version_minor": 0
      },
      "text/plain": [
       "Map (num_proc=4):   0%|          | 0/3534 [00:00<?, ? examples/s]"
      ]
     },
     "metadata": {},
     "output_type": "display_data"
    },
    {
     "data": {
      "application/vnd.jupyter.widget-view+json": {
       "model_id": "5362db277e9c484e81d67cd453d4a2f9",
       "version_major": 2,
       "version_minor": 0
      },
      "text/plain": [
       "Map (num_proc=4):   0%|          | 0/27480 [00:00<?, ? examples/s]"
      ]
     },
     "metadata": {},
     "output_type": "display_data"
    }
   ],
   "source": [
    "import spacy\n",
    "\n",
    "# 1. Load spaCy, disabling heavy components for speed\n",
    "#    Only the tagger & lemmatizer (which also gives you .is_stop/.is_punct) remain\n",
    "nlp = spacy.load(\"en_core_web_sm\", disable=[\"ner\", \"parser\"])\n",
    "\n",
    "# 2. Define a cleaning function\n",
    "def spacy_clean(text):\n",
    "    doc = nlp(text)\n",
    "    # keep only tokens that are NOT stop words or punctuation,\n",
    "    # then lemmatize and lowercase them\n",
    "    tokens = [\n",
    "        token.lemma_.lower()\n",
    "        for token in doc\n",
    "        if not (token.is_stop or token.is_punct)\n",
    "    ]\n",
    "    return \" \".join(tokens)\n",
    "\n",
    "train_dataset = Dataset.from_pandas(df_train[['text', 'label']])\n",
    "test_dataset  = Dataset.from_pandas(df_test[['text', 'label']])\n",
    "\n",
    "# 4. Map the cleaning function over the \"text\" column\n",
    "#    Use batched=True to process in chunks (faster), and num_proc to parallelize if you like\n",
    "train_dataset = train_dataset.map(\n",
    "    lambda batch: {\"text\": [spacy_clean(txt) for txt in batch[\"text\"]]},\n",
    "    batched=True,\n",
    "    batch_size=500,\n",
    "    num_proc=4,          # adjust or remove if you don’t want multiprocessing\n",
    ")\n",
    "test_dataset = test_dataset.map(\n",
    "    lambda batch: {\"text\": [spacy_clean(txt) for txt in batch[\"text\"]]},\n",
    "    batched=True,\n",
    "    batch_size=500,\n",
    "    num_proc=4,\n",
    ")\n",
    "\n",
    "# 5. (Optional) If you want to keep both raw and clean text:\n",
    "#    map into a new column instead of overwriting \"text\"\n",
    "train_dataset = train_dataset.map(\n",
    "    lambda batch: {\"clean_text\": [spacy_clean(txt) for txt in batch[\"text\"]]},\n",
    "    batched=True,\n",
    "    batch_size=500,\n",
    "    num_proc=4,\n",
    ")"
   ]
  },
  {
   "cell_type": "code",
   "execution_count": 6,
>>>>>>> main
   "id": "6061d937",
   "metadata": {},
   "outputs": [
    {
<<<<<<< HEAD
     "name": "stderr",
     "output_type": "stream",
     "text": [
      "Map: 100%|██████████| 6148/6148 [00:00<00:00, 14444.47 examples/s]\n",
      "Map: 100%|██████████| 1537/1537 [00:00<00:00, 15871.09 examples/s]\n"
     ]
=======
     "data": {
      "application/vnd.jupyter.widget-view+json": {
       "model_id": "3f64c001ce8a4fa68b80494ca3f7ffa1",
       "version_major": 2,
       "version_minor": 0
      },
      "text/plain": [
       "Map:   0%|          | 0/27480 [00:00<?, ? examples/s]"
      ]
     },
     "metadata": {},
     "output_type": "display_data"
    },
    {
     "data": {
      "application/vnd.jupyter.widget-view+json": {
       "model_id": "efb1783fd7f84df8b024ea7b7cde1ce3",
       "version_major": 2,
       "version_minor": 0
      },
      "text/plain": [
       "Map:   0%|          | 0/3534 [00:00<?, ? examples/s]"
      ]
     },
     "metadata": {},
     "output_type": "display_data"
>>>>>>> main
    }
   ],
   "source": [
    "# Convert DataFrames to Hugging Face Datasets\n",
    "# train_dataset = Dataset.from_pandas(df_train[['text', 'label']])\n",
    "# test_dataset = Dataset.from_pandas(df_test[['text', 'label']])\n",
    "\n",
    "# Adding short max length to lower training time\n",
    "def tokenize_function(examples):\n",
    "    return tokenizer(examples['text'], padding='max_length', truncation=True, max_length=64)\n",
    "\n",
    "tokenized_train_dataset = train_dataset.map(tokenize_function, batched=True)\n",
    "tokenized_test_dataset = test_dataset.map(tokenize_function, batched=True)"
   ]
  },
  {
   "cell_type": "code",
<<<<<<< HEAD
   "execution_count": 41,
=======
   "execution_count": 7,
>>>>>>> main
   "id": "d01cf5b1",
   "metadata": {},
   "outputs": [
    {
     "name": "stdout",
     "output_type": "stream",
     "text": [
      "Using device: mps\n"
     ]
    }
   ],
   "source": [
    "import torch\n",
    "device = torch.device(\"mps\" if torch.backends.mps.is_available() else \"cpu\")\n",
    "print(\"Using device:\", device)"
   ]
  },
  {
   "cell_type": "code",
<<<<<<< HEAD
   "execution_count": 42,
=======
   "execution_count": 13,
>>>>>>> main
   "id": "218554ae",
   "metadata": {},
   "outputs": [
    {
     "name": "stderr",
     "output_type": "stream",
     "text": [
      "Some weights of DistilBertForSequenceClassification were not initialized from the model checkpoint at distilbert/distilbert-base-uncased and are newly initialized: ['classifier.bias', 'classifier.weight', 'pre_classifier.bias', 'pre_classifier.weight']\n",
      "You should probably TRAIN this model on a down-stream task to be able to use it for predictions and inference.\n"
     ]
    }
   ],
   "source": [
    "model = AutoModelForSequenceClassification.from_pretrained(model_name, num_labels=3)\n",
    "model = model.to(device)\n",
    "\n",
    "lora_config = LoraConfig(\n",
    "    r=16,\n",
    "    lora_alpha=32,\n",
    "    target_modules=[\"query\", \"value\"],  # BERT uses query, key, value in attention\n",
    "    lora_dropout=0.1,\n",
    "    bias=\"all\",\n",
    "    task_type=TaskType.SEQ_CLS\n",
    ")\n",
    "\n",
    "training_args = TrainingArguments(\n",
    "    output_dir=\"./results/\" + model_name,\n",
<<<<<<< HEAD
    "    learning_rate=2e-4,\n",
    "    per_device_train_batch_size=64,\n",
    "    per_device_eval_batch_size=64,\n",
=======
    "    learning_rate=2e-3,\n",
    "    per_device_train_batch_size=128,\n",
    "    per_device_eval_batch_size=128,\n",
>>>>>>> main
    "    gradient_accumulation_steps=3,\n",
    "    #gradient_checkpointing=True,\n",
    "    num_train_epochs=50,\n",
    "    dataloader_num_workers=5,\n",
<<<<<<< HEAD
    "    logging_steps=100,\n",
=======
    "    logging_steps=400,\n",
>>>>>>> main
    "    weight_decay=0.01,\n",
    ")\n",
    "\n",
    "# model = get_peft_model(model, lora_config)\n",
    "model = model.to(device)\n",
    "\n",
    "for name, param in model.named_parameters():\n",
    "    if \"classifier\" in name:\n",
    "        param.requires_grad = True"
   ]
  },
  {
   "cell_type": "code",
<<<<<<< HEAD
   "execution_count": 43,
=======
   "execution_count": 14,
>>>>>>> main
   "id": "c04d8ffe",
   "metadata": {},
   "outputs": [],
   "source": [
    "# Define a compute metrics function\n",
    "def compute_metrics(p):\n",
    "    preds = p.predictions.argmax(-1)\n",
    "    accuracy = accuracy_score(p.label_ids, preds)\n",
    "    return {'accuracy': accuracy}"
   ]
  },
  {
   "cell_type": "code",
<<<<<<< HEAD
   "execution_count": 44,
=======
   "execution_count": 15,
>>>>>>> main
   "id": "32a4c332",
   "metadata": {},
   "outputs": [],
   "source": [
    "from transformers import TrainerCallback\n",
    "\n",
    "class LossAccuracyLogger(TrainerCallback):\n",
    "    def __init__(self):\n",
    "        self.train_loss = []\n",
    "        self.eval_accuracy = []\n",
    "\n",
    "    def on_log(self, args, state, control, logs=None, **kwargs):\n",
    "        if logs is not None:\n",
    "            if \"loss\" in logs:\n",
    "                self.train_loss.append((state.epoch, logs[\"loss\"]))\n",
    "            if \"eval_accuracy\" in logs:\n",
    "                self.eval_accuracy.append((state.epoch, logs[\"eval_accuracy\"]))\n"
   ]
  },
  {
   "cell_type": "code",
<<<<<<< HEAD
   "execution_count": 45,
=======
   "execution_count": 16,
>>>>>>> main
   "id": "2b3af93c",
   "metadata": {},
   "outputs": [],
   "source": [
    "logger_callback = LossAccuracyLogger()\n",
    "\n",
    "trainer = Trainer(\n",
    "    model=model,\n",
    "    args=training_args,\n",
    "    train_dataset=tokenized_train_dataset,\n",
    "    eval_dataset=tokenized_test_dataset,\n",
    "    compute_metrics=compute_metrics,\n",
    "    callbacks=[logger_callback]\n",
    ")"
   ]
  },
  {
   "cell_type": "code",
<<<<<<< HEAD
   "execution_count": 31,
   "id": "788992c5",
   "metadata": {},
   "outputs": [
    {
     "name": "stdout",
     "output_type": "stream",
     "text": [
      "資料集中最長的 Token 長度是: 60\n"
     ]
    },
    {
     "data": {
      "image/png": "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",
      "text/plain": [
       "<Figure size 1000x600 with 1 Axes>"
      ]
     },
     "metadata": {},
     "output_type": "display_data"
    },
    {
     "name": "stdout",
     "output_type": "stream",
     "text": [
      "資料集中 95% 的文本 Token 長度小於或等於: 38\n"
     ]
    }
   ],
=======
   "execution_count": null,
   "id": "788992c5",
   "metadata": {},
   "outputs": [],
>>>>>>> main
   "source": [
    "# --- 在 Cell 2 和 Cell 3 執行後，加入這個新的 Cell ---\n",
    "\n",
    "# 計算訓練集中每個文本的 Token 長度\n",
    "train_token_lengths = [len(tokenizer.encode(text)) for text in df_train['text']]\n",
    "# 計算測試集中每個文本的 Token 長度\n",
    "test_token_lengths = [len(tokenizer.encode(text)) for text in df_test['text']]\n",
    "\n",
    "# 合併所有長度\n",
    "all_token_lengths = train_token_lengths + test_token_lengths\n",
    "\n",
    "# 找出最長的 Token 長度\n",
    "max_len = max(all_token_lengths)\n",
    "\n",
    "print(f\"資料集中最長的 Token 長度是: {max_len}\")\n",
    "\n",
    "# (選用) 繪製長度分佈圖，幫助決定 max_length\n",
    "import matplotlib.pyplot as plt\n",
    "import numpy as np\n",
    "\n",
    "plt.figure(figsize=(10, 6))\n",
    "plt.hist(all_token_lengths, bins=50) # bins 可以調整，觀察更細緻的分佈\n",
    "plt.title('Token 長度分佈圖')\n",
    "plt.xlabel('Token 長度')\n",
    "plt.ylabel('文本數量')\n",
    "# 可以在圖上標示一個常用的百分位數，例如 95% 或 99%\n",
    "percentile_95 = np.percentile(all_token_lengths, 95)\n",
    "plt.axvline(percentile_95, color='red', linestyle='dashed', linewidth=1)\n",
    "plt.text(percentile_95 * 1.05, plt.ylim()[1] * 0.9, f'95th percentile: {int(percentile_95)}')\n",
    "plt.show()\n",
    "\n",
    "print(f\"資料集中 95% 的文本 Token 長度小於或等於: {int(percentile_95)}\")"
   ]
  },
  {
   "cell_type": "code",
<<<<<<< HEAD
   "execution_count": 46,
   "id": "7f6e43cc",
   "metadata": {},
   "outputs": [],
   "source": [
    "import os\n",
    "os.environ[\"TOKENIZERS_PARALLELISM\"] = \"false\""
   ]
  },
  {
   "cell_type": "code",
   "execution_count": 47,
=======
   "execution_count": null,
>>>>>>> main
   "id": "08c68391",
   "metadata": {},
   "outputs": [
    {
     "data": {
      "text/html": [
       "\n",
       "    <div>\n",
       "      \n",
<<<<<<< HEAD
       "      <progress value='1600' max='1600' style='width:300px; height:20px; vertical-align: middle;'></progress>\n",
       "      [1600/1600 1:00:59, Epoch 48/50]\n",
=======
       "      <progress value='76' max='2130' style='width:300px; height:20px; vertical-align: middle;'></progress>\n",
       "      [  76/2130 03:36 < 1:40:06, 0.34 it/s, Epoch 1.04/30]\n",
>>>>>>> main
       "    </div>\n",
       "    <table border=\"1\" class=\"dataframe\">\n",
       "  <thead>\n",
       " <tr style=\"text-align: left;\">\n",
       "      <th>Step</th>\n",
       "      <th>Training Loss</th>\n",
       "    </tr>\n",
       "  </thead>\n",
       "  <tbody>\n",
       "    <tr>\n",
       "      <td>100</td>\n",
       "      <td>0.504800</td>\n",
       "    </tr>\n",
       "    <tr>\n",
       "      <td>200</td>\n",
       "      <td>0.140300</td>\n",
       "    </tr>\n",
       "    <tr>\n",
       "      <td>300</td>\n",
       "      <td>0.061200</td>\n",
       "    </tr>\n",
       "    <tr>\n",
       "      <td>400</td>\n",
       "      <td>0.037500</td>\n",
       "    </tr>\n",
       "    <tr>\n",
       "      <td>500</td>\n",
       "      <td>0.028400</td>\n",
       "    </tr>\n",
       "    <tr>\n",
       "      <td>600</td>\n",
       "      <td>0.018700</td>\n",
       "    </tr>\n",
       "    <tr>\n",
       "      <td>700</td>\n",
       "      <td>0.010700</td>\n",
       "    </tr>\n",
       "    <tr>\n",
       "      <td>800</td>\n",
       "      <td>0.007300</td>\n",
       "    </tr>\n",
       "    <tr>\n",
       "      <td>900</td>\n",
       "      <td>0.004500</td>\n",
       "    </tr>\n",
       "    <tr>\n",
       "      <td>1000</td>\n",
       "      <td>0.003700</td>\n",
       "    </tr>\n",
       "    <tr>\n",
       "      <td>1100</td>\n",
       "      <td>0.002600</td>\n",
       "    </tr>\n",
       "    <tr>\n",
       "      <td>1200</td>\n",
       "      <td>0.002000</td>\n",
       "    </tr>\n",
       "    <tr>\n",
       "      <td>1300</td>\n",
       "      <td>0.001100</td>\n",
       "    </tr>\n",
       "    <tr>\n",
       "      <td>1400</td>\n",
       "      <td>0.000800</td>\n",
       "    </tr>\n",
       "    <tr>\n",
       "      <td>1500</td>\n",
       "      <td>0.000800</td>\n",
       "    </tr>\n",
       "    <tr>\n",
       "      <td>1600</td>\n",
       "      <td>0.000500</td>\n",
       "    </tr>\n",
       "  </tbody>\n",
       "</table><p>"
      ],
      "text/plain": [
       "<IPython.core.display.HTML object>"
      ]
     },
     "metadata": {},
     "output_type": "display_data"
<<<<<<< HEAD
    },
    {
     "data": {
      "text/plain": [
       "TrainOutput(global_step=1600, training_loss=0.05155681102536619, metrics={'train_runtime': 3670.0992, 'train_samples_per_second': 83.758, 'train_steps_per_second': 0.436, 'total_flos': 4937412932886528.0, 'train_loss': 0.05155681102536619, 'epoch': 48.49484536082474})"
      ]
     },
     "execution_count": 47,
     "metadata": {},
     "output_type": "execute_result"
=======
>>>>>>> main
    }
   ],
   "source": [
    "# Train the model\n",
    "trainer.train()"
   ]
  },
  {
   "cell_type": "code",
   "execution_count": null,
   "id": "61fb12e9",
   "metadata": {},
   "outputs": [],
   "source": [
    "trainer.save_model(\"./results/\" + model_name)"
   ]
  },
  {
   "cell_type": "code",
<<<<<<< HEAD
   "execution_count": 51,
   "id": "16584683",
   "metadata": {},
   "outputs": [
    {
     "name": "stdout",
     "output_type": "stream",
     "text": [
      "{'eval_loss': 1.9813354015350342, 'eval_accuracy': 0.7690305790500976, 'eval_runtime': 36.2581, 'eval_samples_per_second': 42.39, 'eval_steps_per_second': 0.69, 'epoch': 48.49484536082474}\n"
     ]
    },
    {
     "data": {
      "image/png": "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",
      "text/plain": [
       "<Figure size 1000x500 with 2 Axes>"
      ]
     },
     "metadata": {},
     "output_type": "display_data"
    }
   ],
=======
   "execution_count": null,
   "id": "16584683",
   "metadata": {},
   "outputs": [],
>>>>>>> main
   "source": [
    "# Evaluate the model\n",
    "results = trainer.evaluate()\n",
    "print(results)\n",
    "\n",
    "import matplotlib.pyplot as plt\n",
    "\n",
    "# Unpack the epoch and values\n",
    "train_epochs, train_losses = zip(*logger_callback.train_loss)\n",
    "eval_epochs, eval_accuracies = zip(*logger_callback.eval_accuracy)\n",
    "\n",
    "# Plot training loss\n",
    "plt.figure(figsize=(10, 5))\n",
    "plt.subplot(1, 2, 1)\n",
    "plt.plot(train_epochs, train_losses, marker='o')\n",
    "plt.title(\"Training Loss per Epoch\")\n",
    "plt.xlabel(\"Epoch\")\n",
    "plt.ylabel(\"Loss\")\n",
    "\n",
    "# Plot eval accuracy\n",
    "plt.subplot(1, 2, 2)\n",
    "plt.plot(eval_epochs, eval_accuracies, marker='o', color='green')\n",
    "plt.title(\"Evaluation Accuracy per Epoch\")\n",
    "plt.xlabel(\"Epoch\")\n",
    "plt.ylabel(\"Accuracy\")\n",
    "\n",
    "plt.tight_layout()\n",
    "plt.show()\n"
   ]
  }
 ],
 "metadata": {
  "kernelspec": {
   "display_name": "Skynet",
   "language": "python",
   "name": "poetry_env_skynet"
  },
  "language_info": {
   "codemirror_mode": {
    "name": "ipython",
    "version": 3
   },
   "file_extension": ".py",
   "mimetype": "text/x-python",
   "name": "python",
   "nbconvert_exporter": "python",
   "pygments_lexer": "ipython3",
   "version": "3.12.0"
  }
 },
 "nbformat": 4,
 "nbformat_minor": 5
}
